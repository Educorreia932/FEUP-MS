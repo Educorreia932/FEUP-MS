{
 "cells": [
  {
   "cell_type": "markdown",
   "metadata": {},
   "source": [
    "import jupedsim as jps\n",
    "import matplotlib.pyplot as plt\n",
    "import numpy as np\n",
    "import pathlib\n",
    "import pedpy\n",
    "\n",
    "from shapely import Polygon\n",
    "\n",
    "%matplotlib inline"
   ]
  },
  {
   "cell_type": "markdown",
   "metadata": {},
   "source": [
    "## Setup simulation"
   ]
  },
  {
   "cell_type": "code",
   "execution_count": 45,
   "metadata": {},
   "outputs": [],
   "source": [
    "num_agents = 10\n",
    "\n",
    "area = Polygon(\n",
    "    [(-10, 10), (10, 10), (10, -10), (-10, -10)]\n",
    ")\n",
    "\n",
    "spawning_areas = [\n",
    "    Polygon([(0, 0), (6, 0), (6, 2), (0, 2)]),\n",
    "    Polygon([(0, 0), (6, 0), (6, 2), (0, 2)]),\n",
    "]\n",
    "\n",
    "\n",
    "pos_in_spawning_area = jps.distributions.distribute_by_number(\n",
    "    polygon=spawning_area,\n",
    "    number_of_agents=num_agents,\n",
    "    distance_to_agents=0.4,\n",
    "    distance_to_polygon=0.2,\n",
    "    seed=1,\n",
    ")\n",
    "\n",
    "exit_area = Polygon([(10, 11), (12, 11), (12, 12), (10, 12)])\n",
    "\n",
    "walkable_area = pedpy.WalkableArea(area)\n",
    "exit_area = Polygon([(-2, 10), (2, 10), (2, 8), (-2, 8)])"
   ]
  },
  {
   "cell_type": "markdown",
   "metadata": {},
   "source": [
    "## Plot "
   ]
  },
  {
   "cell_type": "code",
   "execution_count": 46,
   "metadata": {},
   "outputs": [
    {
     "data": {
      "image/png": "[encoded data removed]",
      "text/plain": [
       "<Figure size 640x480 with 1 Axes>"
      ]
     },
     "metadata": {},
     "output_type": "display_data"
    }
   ],
   "source": [
    "axes = pedpy.plot_walkable_area(walkable_area=walkable_area)\n",
    "\n",
    "# Spawning area\n",
    "axes.fill(*spawning_area.exterior.xy, color=\"lightgrey\")\n",
    "\n",
    "# Exit area\n",
    "axes.fill(*exit_area.exterior.xy, color=\"indianred\")\n",
    "\n",
    "# Starting positions\n",
    "axes.scatter(*zip(*pos_in_spawning_area))\n",
    "\n",
    "axes.set_aspect(\"equal\")"
   ]
  },
  {
   "cell_type": "code",
   "execution_count": 47,
   "metadata": {},
   "outputs": [],
   "source": [
    "trajectory_file = \"corner.sqlite\"\n",
    "simulation = jps.Simulation(\n",
    "    model=jps.CollisionFreeSpeedModel(),\n",
    "    geometry=area,\n",
    "    trajectory_writer=jps.SqliteTrajectoryWriter(\n",
    "        output_file=pathlib.Path(trajectory_file)\n",
    "    ),\n",
    ")\n",
    "\n",
    "exit_id = simulation.add_exit_stage(exit_area.exterior.coords[:-1])\n",
    "journey = jps.JourneyDescription([exit_id])\n",
    "journey_id = simulation.add_journey(journey)"
   ]
  },
  {
   "cell_type": "code",
   "execution_count": 48,
   "metadata": {},
   "outputs": [],
   "source": [
    "v_distribution = np.random.normal(1.34, 0.05, num_agents)\n",
    "\n",
    "for pos, v0 in zip(pos_in_spawning_area, v_distribution):\n",
    "    simulation.add_agent(\n",
    "        jps.CollisionFreeSpeedModelAgentParameters(\n",
    "            journey_id=journey_id, stage_id=exit_id, position=pos, v0=v0\n",
    "        )\n",
    "    )\n",
    "\n",
    "while simulation.agent_count() > 0:\n",
    "    simulation.iterate()"
   ]
  },
  {
   "cell_type": "markdown",
   "metadata": {},
   "source": [
    "## Trajectory animation"
   ]
  },
  {
   "cell_type": "code",
   "execution_count": 52,
   "metadata": {},
   "outputs": [
    {
     "data": {
      "application/vnd.plotly.v1+json": {
       "config": {
        "plotlyServerURL": "https://plot.ly"
       },
       "data": [
        {
         "hoverinfo": "name",
         "line": {
          "color": "grey"
         },
         "mode": "lines",
         "name": "Exterior",
         "showlegend": false,
         "type": "scatter",
         "x": [
          -10,
          -10,
          10,
          10,
          -10
         ],
         "y": [
          10,
          -10,
          -10,
          10,
          10
         ]
        },
        {
         "hoverinfo": "text",
         "marker": {
          "cmax": 1.3850427159940626,
          "cmin": 0,
          "color": [
           1.3666625032581659,
           0.6077488630148284,
           1.333091553848067,
           0.9226860136393445,
           0.4098060109658809,
           1.3665177555240304,
           1.2924899750553638,
           0.5527439637554429,
           1.305641364443613,
           1.2977396333585922
          ],
          "colorbar": {
           "title": {
            "text": "Speed [m/s]"
           }
          },
          "colorscale": [
           [
            0,
            "rgb(128,0,0)"
           ],
           [
            0.2,
            "rgb(250,0,0)"
           ],
           [
            0.4,
            "rgb(255,255,0)"
           ],
           [
            0.6,
            "rgb(5,255,255)"
           ],
           [
            0.8,
            "rgb(0,60,170)"
           ],
           [
            1,
            "rgb(0,0,131)"
           ]
          ],
          "opacity": 1,
          "size": 1
         },
         "mode": "markers",
         "showlegend": false,
         "text": [
          "ID: 4.0, Pos(0.05,8.02)"
         ],
         "type": "scatter",
         "x": [
          0.05186054044120708
         ],
         "y": [
          8.024456369619974
         ]
        },
        {
         "hoverinfo": "none",
         "marker": {
          "opacity": 0,
          "size": 1
         },
         "mode": "markers",
         "showlegend": false,
         "text": [
          "ID: 9.0, Pos(0.50,7.99)"
         ],
         "type": "scatter",
         "x": [
          0
         ],
         "y": [
          0
         ]
        },
        {
         "hoverinfo": "none",
         "marker": {
          "opacity": 0,
          "size": 1
         },
         "mode": "markers",
         "showlegend": false,
         "text": [
          "ID: 9.0, Pos(0.91,7.04)"
         ],
         "type": "scatter",
         "x": [
          0
         ],
         "y": [
          0
         ]
        },
        {
         "hoverinfo": "none",
         "marker": {
          "opacity": 0,
          "size": 1
         },
         "mode": "markers",
         "showlegend": false,
         "text": [
          "ID: 9.0, Pos(1.11,6.60)"
         ],
         "type": "scatter",
         "x": [
          0
         ],
         "y": [
          0
         ]
        },
        {
         "hoverinfo": "none",
         "marker": {
          "opacity": 0,
          "size": 1
         },
         "mode": "markers",
         "showlegend": false,
         "text": [
          "ID: 10.0, Pos(0.55,7.85)"
         ],
         "type": "scatter",
         "x": [
          0
         ],
         "y": [
          0
         ]
        },
        {
         "hoverinfo": "none",
         "marker": {
          "opacity": 0,
          "size": 1
         },
         "mode": "markers",
         "showlegend": false,
         "text": [
          "ID: 10.0, Pos(1.07,7.09)"
         ],
         "type": "scatter",
         "x": [
          0
         ],
         "y": [
          0
         ]
        },
        {
         "hoverinfo": "none",
         "marker": {
          "opacity": 0,
          "size": 1
         },
         "mode": "markers",
         "showlegend": false,
         "text": [
          "ID: 10.0, Pos(1.15,7.01)"
         ],
         "type": "scatter",
         "x": [
          0
         ],
         "y": [
          0
         ]
        },
        {
         "hoverinfo": "none",
         "marker": {
          "opacity": 0,
          "size": 1
         },
         "mode": "markers",
         "showlegend": false,
         "text": [
          "ID: 10.0, Pos(1.29,6.77)"
         ],
         "type": "scatter",
         "x": [
          0
         ],
         "y": [
          0
         ]
        },
        {
         "hoverinfo": "none",
         "marker": {
          "opacity": 0,
          "size": 1
         },
         "mode": "markers",
         "showlegend": false,
         "text": [
          "ID: 10.0, Pos(1.42,6.44)"
         ],
         "type": "scatter",
         "x": [
          0
         ],
         "y": [
          0
         ]
        },
        {
         "hoverinfo": "none",
         "marker": {
          "opacity": 0,
          "size": 1
         },
         "mode": "markers",
         "showlegend": false,
         "text": [
          "ID: 10, Pos(1.50,6.23)"
         ],
         "type": "scatter",
         "x": [
          0
         ],
         "y": [
          0
         ]
        },
        {
         "hoverinfo": "text",
         "marker": {
          "opacity": 1,
          "size": 1
         },
         "mode": "markers",
         "showlegend": false,
         "text": [
          "ID: 10, Pos(4.12,1.67)"
         ],
         "type": "scatter",
         "x": [
          4.119005566089502
         ],
         "y": [
          1.6692513437947458
         ]
        }
       ],
       "frames": [
        {
         "data": [
          {
           "hoverinfo": "name",
           "line": {
            "color": "grey"
           },
           "mode": "lines",
           "name": "Exterior",
           "showlegend": false,
           "type": "scatter",
           "x": [
            -10,
            -10,
            10,
            10,
            -10
           ],
           "y": [
            10,
            -10,
            -10,
            10,
            10
           ]
          },
          {
           "hoverinfo": "text",
           "marker": {
            "opacity": 1,
            "size": 1
           },
           "mode": "markers",
           "showlegend": false,
           "text": [
            "ID: 1, Pos(2.50,1.44)"
           ],
           "type": "scatter",
           "x": [
            2.502132028215444
           ],
           "y": [
            1.4406489868843162
           ]
          },
          {
           "hoverinfo": "text",
           "marker": {
            "opacity": 1,
            "size": 1
           },
           "mode": "markers",
           "showlegend": false,
           "text": [
            "ID: 2, Pos(1.12,0.69)"
           ],
           "type": "scatter",
           "x": [
            1.1175612682660254
           ],
           "y": [
            0.6911214540860955
           ]
          },
          {
           "hoverinfo": "text",
           "marker": {
            "opacity": 1,
            "size": 1
           },
           "mode": "markers",
           "showlegend": false,
           "text": [
            "ID: 3, Pos(1.23,1.76)"
           ],
           "type": "scatter",
           "x": [
            1.2267134983891046
           ],
           "y": [
            1.7562348727818908
           ]
          },
          {
           "hoverinfo": "text",
           "marker": {
            "opacity": 1,
            "size": 1
           },
           "mode": "markers",
           "showlegend": false,
           "text": [
            "ID: 4, Pos(0.84,0.40)"
           ],
           "type": "scatter",
           "x": [
            0.8423216315714026
           ],
           "y": [
            0.3962029781697576
           ]
          },
          {
           "hoverinfo": "text",
           "marker": {
            "opacity": 1,
            "size": 1
           },
           "mode": "markers",
           "showlegend": false,
           "text": [
            "ID: 5, Pos(1.88,1.38)"
           ],
           "type": "scatter",
           "x": [
            1.880545068955457
           ],
           "y": [
            1.3846452313386282
           ]
          },
          {
           "hoverinfo": "text",
           "marker": {
            "opacity": 1,
            "size": 1
           },
           "mode": "markers",
           "showlegend": false,
           "text": [
            "ID: 6, Pos(5.26,1.79)"
           ],
           "type": "scatter",
           "x": [
            5.258334913776229
           ],
           "y": [
            1.7892133270076946
           ]
          },
          {
           "hoverinfo": "text",
           "marker": {
            "opacity": 1,
            "size": 1
           },
           "mode": "markers",
           "showlegend": false,
           "text": [
            "ID: 7, Pos(0.59,0.84)"
           ],
           "type": "scatter",
           "x": [
            0.5900810029983006
           ],
           "y": [
            0.8422152500101043
           ]
          },
          {
           "hoverinfo": "text",
           "marker": {
            "opacity": 1,
            "size": 1
           },
           "mode": "markers",
           "showlegend": false,
           "text": [
            "ID: 8, Pos(5.75,1.07)"
           ],
           "type": "scatter",
           "x": [
            5.747337180903012
           ],
           "y": [
            1.0663305699460341
           ]
          },
          {
           "hoverinfo": "text",
           "marker": {
            "opacity": 1,
            "size": 1
           },
           "mode": "markers",
           "showlegend": false,
           "text": [
            "ID: 9, Pos(4.15,0.63)"
           ],
           "type": "scatter",
           "x": [
            4.15126268370284
           ],
           "y": [
            0.6310312620121259
           ]
          },
          {
           "hoverinfo": "text",
           "marker": {
            "opacity": 1,
            "size": 1
           },
           "mode": "markers",
           "showlegend": false,
           "text": [
            "ID: 10, Pos(4.12,1.67)"
           ],
           "type": "scatter",
           "x": [
            4.119005566089502
           ],
           "y": [
            1.6692513437947458
           ]
          }
         ],
         "layout": {
          "shapes": [
           {
            "fillcolor": "rgba(0, 0, 146, 0.5)",
            "line": {
             "color": "rgba(0, 0, 146, 0.5)"
            },
            "type": "circle",
            "x0": 2.3021320282154436,
            "x1": 2.702132028215444,
            "xref": "x",
            "y0": 1.2406489868843162,
            "y1": 1.6406489868843162,
            "yref": "y"
           },
           {
            "fillcolor": "rgba(255, 104, 0, 0.5)",
            "line": {
             "color": "rgba(255, 104, 0, 0.5)"
            },
            "type": "circle",
            "x0": 0.9175612682660255,
            "x1": 1.3175612682660254,
            "xref": "x",
            "y0": 0.4911214540860955,
            "y1": 0.8911214540860954,
            "yref": "y"
           },
           {
            "fillcolor": "rgba(0, 0, 187, 0.5)",
            "line": {
             "color": "rgba(0, 0, 187, 0.5)"
            },
            "type": "circle",
            "x0": 1.0267134983891046,
            "x1": 1.4267134983891046,
            "xref": "x",
            "y0": 1.5562348727818909,
            "y1": 1.9562348727818908,
            "yref": "y"
           },
           {
            "fillcolor": "rgba(102, 255, 144, 0.5)",
            "line": {
             "color": "rgba(102, 255, 144, 0.5)"
            },
            "type": "circle",
            "x0": 0.6423216315714027,
            "x1": 1.0423216315714026,
            "xref": "x",
            "y0": 0.19620297816975757,
            "y1": 0.5962029781697575,
            "yref": "y"
           },
           {
            "fillcolor": "rgba(128, 0, 0, 0.5)",
            "line": {
             "color": "rgba(128, 0, 0, 0.5)"
            },
            "type": "circle",
            "x0": 1.680545068955457,
            "x1": 2.080545068955457,
            "xref": "x",
            "y0": 1.1846452313386282,
            "y1": 1.5846452313386281,
            "yref": "y"
           },
           {
            "fillcolor": "rgba(0, 0, 146, 0.5)",
            "line": {
             "color": "rgba(0, 0, 146, 0.5)"
            },
            "type": "circle",
            "x0": 5.058334913776229,
            "x1": 5.45833491377623,
            "xref": "x",
            "y0": 1.5892133270076947,
            "y1": 1.9892133270076946,
            "yref": "y"
           },
           {
            "fillcolor": "rgba(0, 0, 237, 0.5)",
            "line": {
             "color": "rgba(0, 0, 237, 0.5)"
            },
            "type": "circle",
            "x0": 0.39008100299830056,
            "x1": 0.7900810029983005,
            "xref": "x",
            "y0": 0.6422152500101044,
            "y1": 1.0422152500101043,
            "yref": "y"
           },
           {
            "fillcolor": "rgba(255, 52, 0, 0.5)",
            "line": {
             "color": "rgba(255, 52, 0, 0.5)"
            },
            "type": "circle",
            "x0": 5.547337180903011,
            "x1": 5.947337180903012,
            "xref": "x",
            "y0": 0.8663305699460342,
            "y1": 1.266330569946034,
            "yref": "y"
           },
           {
            "fillcolor": "rgba(0, 0, 218, 0.5)",
            "line": {
             "color": "rgba(0, 0, 218, 0.5)"
            },
            "type": "circle",
            "x0": 3.95126268370284,
            "x1": 4.35126268370284,
            "xref": "x",
            "y0": 0.4310312620121259,
            "y1": 0.8310312620121258,
            "yref": "y"
           },
           {
            "fillcolor": "rgba(0, 0, 228, 0.5)",
            "line": {
             "color": "rgba(0, 0, 228, 0.5)"
            },
            "type": "circle",
            "x0": 3.919005566089502,
            "x1": 4.319005566089502,
            "xref": "x",
            "y0": 1.4692513437947459,
            "y1": 1.8692513437947458,
            "yref": "y"
           },
           {
            "line": {
             "color": "white",
             "width": 3
            },
            "type": "line",
            "x0": 2.502132028215444,
            "x1": 2.502132028215444,
            "y0": 1.4406489868843162,
            "y1": 1.4406489868843162
           },
           {
            "line": {
             "color": "black",
             "width": 3
            },
            "type": "line",
            "x0": 1.1175612682660254,
            "x1": 1.1175612682660254,
            "y0": 0.6911214540860955,
            "y1": 0.6911214540860955
           },
           {
            "line": {
             "color": "white",
             "width": 3
            },
            "type": "line",
            "x0": 1.2267134983891046,
            "x1": 1.2267134983891046,
            "y0": 1.7562348727818908,
            "y1": 1.7562348727818908
           },
           {
            "line": {
             "color": "black",
             "width": 3
            },
            "type": "line",
            "x0": 0.8423216315714026,
            "x1": 0.8423216315714026,
            "y0": 0.3962029781697576,
            "y1": 0.3962029781697576
           },
           {
            "line": {
             "color": "white",
             "width": 3
            },
            "type": "line",
            "x0": 1.880545068955457,
            "x1": 1.880545068955457,
            "y0": 1.3846452313386282,
            "y1": 1.3846452313386282
           },
           {
            "line": {
             "color": "white",
             "width": 3
            },
            "type": "line",
            "x0": 5.258334913776229,
            "x1": 5.258334913776229,
            "y0": 1.7892133270076946,
            "y1": 1.7892133270076946
           },
           {
            "line": {
             "color": "white",
             "width": 3
            },
            "type": "line",
            "x0": 0.5900810029983006,
            "x1": 0.5900810029983006,
            "y0": 0.8422152500101043,
            "y1": 0.8422152500101043
           },
           {
            "line": {
             "color": "white",
             "width": 3
            },
            "type": "line",
            "x0": 5.747337180903012,
            "x1": 5.747337180903012,
            "y0": 1.0663305699460341,
            "y1": 1.0663305699460341
           },
           {
            "line": {
             "color": "white",
             "width": 3
            },
            "type": "line",
            "x0": 4.15126268370284,
            "x1": 4.15126268370284,
            "y0": 0.6310312620121259,
            "y1": 0.6310312620121259
           },
           {
            "line": {
             "color": "white",
             "width": 3
            },
            "type": "line",
            "x0": 4.119005566089502,
            "x1": 4.119005566089502,
            "y0": 1.6692513437947458,
            "y1": 1.6692513437947458
           }
          ],
          "title": {
           "text": "<b>Number of Agents: 10</b>",
           "x": 0.5
          }
         },
         "name": "0"
        },
        {
         "data": [
          {
           "hoverinfo": "name",
           "line": {
            "color": "grey"
           },
           "mode": "lines",
           "name": "Exterior",
           "showlegend": false,
           "type": "scatter",
           "x": [
            -10,
            -10,
            10,
            10,
            -10
           ],
           "y": [
            10,
            -10,
            -10,
            10,
            10
           ]
          },
          {
           "hoverinfo": "text",
           "marker": {
            "opacity": 1,
            "size": 1
           },
           "mode": "markers",
           "showlegend": false,
           "text": [
            "ID: 1, Pos(2.54,1.71)"
           ],
           "type": "scatter",
           "x": [
            2.535134567388401
           ],
           "y": [
            1.7119817868194005
           ]
          },
          {
           "hoverinfo": "text",
           "marker": {
            "opacity": 1,
            "size": 1
           },
           "mode": "markers",
           "showlegend": false,
           "text": [
            "ID: 2, Pos(1.19,0.79)"
           ],
           "type": "scatter",
           "x": [
            1.1850994116935325
           ],
           "y": [
            0.7921805773862615
           ]
          },
          {
           "hoverinfo": "text",
           "marker": {
            "opacity": 1,
            "size": 1
           },
           "mode": "markers",
           "showlegend": false,
           "text": [
            "ID: 3, Pos(1.16,2.01)"
           ],
           "type": "scatter",
           "x": [
            1.1602347508469815
           ],
           "y": [
            2.01443227742197
           ]
          },
          {
           "hoverinfo": "text",
           "marker": {
            "opacity": 1,
            "size": 1
           },
           "mode": "markers",
           "showlegend": false,
           "text": [
            "ID: 4, Pos(0.67,0.33)"
           ],
           "type": "scatter",
           "x": [
            0.6709520225002641
           ],
           "y": [
            0.3277454272536479
           ]
          },
          {
           "hoverinfo": "text",
           "marker": {
            "opacity": 1,
            "size": 1
           },
           "mode": "markers",
           "showlegend": false,
           "text": [
            "ID: 5, Pos(1.84,1.45)"
           ],
           "type": "scatter",
           "x": [
            1.8357916715613969
           ],
           "y": [
            1.4533094293361293
           ]
          },
          {
           "hoverinfo": "text",
           "marker": {
            "opacity": 1,
            "size": 1
           },
           "mode": "markers",
           "showlegend": false,
           "text": [
            "ID: 6, Pos(5.10,2.01)"
           ],
           "type": "scatter",
           "x": [
            5.0985605249957695
           ],
           "y": [
            2.0109496022003834
           ]
          },
          {
           "hoverinfo": "text",
           "marker": {
            "opacity": 1,
            "size": 1
           },
           "mode": "markers",
           "showlegend": false,
           "text": [
            "ID: 7, Pos(0.48,1.08)"
           ],
           "type": "scatter",
           "x": [
            0.477688713205205
           ],
           "y": [
            1.075000959665593
           ]
          },
          {
           "hoverinfo": "text",
           "marker": {
            "opacity": 1,
            "size": 1
           },
           "mode": "markers",
           "showlegend": false,
           "text": [
            "ID: 8, Pos(5.68,1.16)"
           ],
           "type": "scatter",
           "x": [
            5.682388657939813
           ],
           "y": [
            1.1557885206470313
           ]
          },
          {
           "hoverinfo": "text",
           "marker": {
            "opacity": 1,
            "size": 1
           },
           "mode": "markers",
           "showlegend": false,
           "text": [
            "ID: 9, Pos(4.03,0.86)"
           ],
           "type": "scatter",
           "x": [
            4.0338726993725516
           ],
           "y": [
            0.8642855577513079
           ]
          },
          {
           "hoverinfo": "text",
           "marker": {
            "opacity": 1,
            "size": 1
           },
           "mode": "markers",
           "showlegend": false,
           "text": [
            "ID: 10, Pos(3.99,1.90)"
           ],
           "type": "scatter",
           "x": [
            3.9921857497935034
           ],
           "y": [
            1.8957063292427083
           ]
          }
         ],
         "layout": {
          "shapes": [
           {
            "fillcolor": "rgba(0, 0, 150, 0.5)",
            "line": {
             "color": "rgba(0, 0, 150, 0.5)"
            },
            "type": "circle",
            "x0": 2.3351345673884008,
            "x1": 2.735134567388401,
            "xref": "x",
            "y0": 1.5119817868194005,
            "y1": 1.9119817868194005,
            "yref": "y"
           },
           {
            "fillcolor": "rgba(255, 211, 0, 0.5)",
            "line": {
             "color": "rgba(255, 211, 0, 0.5)"
            },
            "type": "circle",
            "x0": 0.9850994116935325,
            "x1": 1.3850994116935325,
            "xref": "x",
            "y0": 0.5921805773862614,
            "y1": 0.9921805773862615,
            "yref": "y"
           },
           {
            "fillcolor": "rgba(0, 0, 187, 0.5)",
            "line": {
             "color": "rgba(0, 0, 187, 0.5)"
            },
            "type": "circle",
            "x0": 0.9602347508469815,
            "x1": 1.3602347508469814,
            "xref": "x",
            "y0": 1.81443227742197,
            "y1": 2.2144322774219702,
            "yref": "y"
           },
           {
            "fillcolor": "rgba(237, 4, 0, 0.5)",
            "line": {
             "color": "rgba(237, 4, 0, 0.5)"
            },
            "type": "circle",
            "x0": 0.4709520225002641,
            "x1": 0.870952022500264,
            "xref": "x",
            "y0": 0.1277454272536479,
            "y1": 0.5277454272536479,
            "yref": "y"
           },
           {
            "fillcolor": "rgba(206, 255, 41, 0.5)",
            "line": {
             "color": "rgba(206, 255, 41, 0.5)"
            },
            "type": "circle",
            "x0": 1.635791671561397,
            "x1": 2.035791671561397,
            "xref": "x",
            "y0": 1.2533094293361293,
            "y1": 1.6533094293361292,
            "yref": "y"
           },
           {
            "fillcolor": "rgba(0, 0, 146, 0.5)",
            "line": {
             "color": "rgba(0, 0, 146, 0.5)"
            },
            "type": "circle",
            "x0": 4.898560524995769,
            "x1": 5.29856052499577,
            "xref": "x",
            "y0": 1.8109496022003835,
            "y1": 2.2109496022003836,
            "yref": "y"
           },
           {
            "fillcolor": "rgba(0, 0, 241, 0.5)",
            "line": {
             "color": "rgba(0, 0, 241, 0.5)"
            },
            "type": "circle",
            "x0": 0.277688713205205,
            "x1": 0.677688713205205,
            "xref": "x",
            "y0": 0.875000959665593,
            "y1": 1.275000959665593,
            "yref": "y"
           },
           {
            "fillcolor": "rgba(255, 122, 0, 0.5)",
            "line": {
             "color": "rgba(255, 122, 0, 0.5)"
            },
            "type": "circle",
            "x0": 5.482388657939813,
            "x1": 5.8823886579398135,
            "xref": "x",
            "y0": 0.9557885206470313,
            "y1": 1.3557885206470313,
            "yref": "y"
           },
           {
            "fillcolor": "rgba(0, 0, 218, 0.5)",
            "line": {
             "color": "rgba(0, 0, 218, 0.5)"
            },
            "type": "circle",
            "x0": 3.8338726993725514,
            "x1": 4.233872699372552,
            "xref": "x",
            "y0": 0.6642855577513078,
            "y1": 1.064285557751308,
            "yref": "y"
           },
           {
            "fillcolor": "rgba(0, 0, 228, 0.5)",
            "line": {
             "color": "rgba(0, 0, 228, 0.5)"
            },
            "type": "circle",
            "x0": 3.792185749793503,
            "x1": 4.192185749793503,
            "xref": "x",
            "y0": 1.6957063292427084,
            "y1": 2.0957063292427085,
            "yref": "y"
           },
           {
            "line": {
             "color": "white",
             "width": 3
            },
            "type": "line",
            "x0": 2.535134567388401,
            "x1": 2.519635820903795,
            "y0": 1.7119817868194005,
            "y1": 1.9113803546613133
           },
           {
            "line": {
             "color": "black",
             "width": 3
            },
            "type": "line",
            "x0": 1.1850994116935325,
            "x1": 1.2488348541229737,
            "y0": 0.7921805773862615,
            "y1": 0.9817532372777221
           },
           {
            "line": {
             "color": "white",
             "width": 3
            },
            "type": "line",
            "x0": 1.1602347508469815,
            "x1": 1.119253978125492,
            "y0": 2.01443227742197,
            "y1": 2.2101886981778414
           },
           {
            "line": {
             "color": "white",
             "width": 3
            },
            "type": "line",
            "x0": 0.6709520225002641,
            "x1": 0.5453650428697372,
            "y0": 0.3277454272536479,
            "y1": 0.4833986011605157
           },
           {
            "line": {
             "color": "black",
             "width": 3
            },
            "type": "line",
            "x0": 1.8357916715613969,
            "x1": 1.7513479105887069,
            "y0": 1.4533094293361293,
            "y1": 1.6346082192735891
           },
           {
            "line": {
             "color": "white",
             "width": 3
            },
            "type": "line",
            "x0": 5.0985605249957695,
            "x1": 4.981655127218277,
            "y0": 2.0109496022003834,
            "y1": 2.173224455367737
           },
           {
            "line": {
             "color": "white",
             "width": 3
            },
            "type": "line",
            "x0": 0.477688713205205,
            "x1": 0.42798436656371164,
            "y0": 1.075000959665593,
            "y1": 1.2687262236993329
           },
           {
            "line": {
             "color": "black",
             "width": 3
            },
            "type": "line",
            "x0": 5.682388657939813,
            "x1": 5.5649930537870205,
            "y0": 1.1557885206470313,
            "y1": 1.3177090941563934
           },
           {
            "line": {
             "color": "white",
             "width": 3
            },
            "type": "line",
            "x0": 4.0338726993725516,
            "x1": 3.9439542711751523,
            "y0": 0.8642855577513079,
            "y1": 1.0429323496914633
           },
           {
            "line": {
             "color": "white",
             "width": 3
            },
            "type": "line",
            "x0": 3.9921857497935034,
            "x1": 3.894353401212203,
            "y0": 1.8957063292427083,
            "y1": 2.070144947590444
           }
          ],
          "title": {
           "text": "<b>Number of Agents: 10</b>",
           "x": 0.5
          }
         },
         "name": "5"
        },
        {
         "data": [
          {
           "hoverinfo": "name",
           "line": {
            "color": "grey"
           },
           "mode": "lines",
           "name": "Exterior",
           "showlegend": false,
           "type": "scatter",
           "x": [
            -10,
            -10,
            10,
            10,
            -10
           ],
           "y": [
            10,
            -10,
            -10,
            10,
            10
           ]
          },
          {
           "hoverinfo": "text",
           "marker": {
            "opacity": 1,
            "size": 1
           },
           "mode": "markers",
           "showlegend": false,
           "text": [
            "ID: 1, Pos(2.49,1.99)"
           ],
           "type": "scatter",
           "x": [
            2.4928518214690585
           ],
           "y": [
            1.9856069196010822
           ]
          },
          {
           "hoverinfo": "text",
           "marker": {
            "opacity": 1,
            "size": 1
           },
           "mode": "markers",
           "showlegend": false,
           "text": [
            "ID: 2, Pos(1.21,0.96)"
           ],
           "type": "scatter",
           "x": [
            1.2063285483428363
           ],
           "y": [
            0.964050266295216
           ]
          },
          {
           "hoverinfo": "text",
           "marker": {
            "opacity": 1,
            "size": 1
           },
           "mode": "markers",
           "showlegend": false,
           "text": [
            "ID: 3, Pos(1.11,2.28)"
           ],
           "type": "scatter",
           "x": [
            1.1077366933258632
           ],
           "y": [
            2.275986429129219
           ]
          },
          {
           "hoverinfo": "text",
           "marker": {
            "opacity": 1,
            "size": 1
           },
           "mode": "markers",
           "showlegend": false,
           "text": [
            "ID: 4, Pos(0.64,0.41)"
           ],
           "type": "scatter",
           "x": [
            0.6413750631057136
           ],
           "y": [
            0.4134910556686676
           ]
          },
          {
           "hoverinfo": "text",
           "marker": {
            "opacity": 1,
            "size": 1
           },
           "mode": "markers",
           "showlegend": false,
           "text": [
            "ID: 5, Pos(1.75,1.68)"
           ],
           "type": "scatter",
           "x": [
            1.7544777153793354
           ],
           "y": [
            1.6790525357056512
           ]
          },
          {
           "hoverinfo": "text",
           "marker": {
            "opacity": 1,
            "size": 1
           },
           "mode": "markers",
           "showlegend": false,
           "text": [
            "ID: 6, Pos(4.94,2.23)"
           ],
           "type": "scatter",
           "x": [
            4.938979517715699
           ],
           "y": [
            2.2328250565872754
           ]
          },
          {
           "hoverinfo": "text",
           "marker": {
            "opacity": 1,
            "size": 1
           },
           "mode": "markers",
           "showlegend": false,
           "text": [
            "ID: 7, Pos(0.43,1.33)"
           ],
           "type": "scatter",
           "x": [
            0.4317138972982776
           ],
           "y": [
            1.3318695226648978
           ]
          },
          {
           "hoverinfo": "text",
           "marker": {
            "opacity": 1,
            "size": 1
           },
           "mode": "markers",
           "showlegend": false,
           "text": [
            "ID: 8, Pos(5.60,1.27)"
           ],
           "type": "scatter",
           "x": [
            5.600131668905641
           ],
           "y": [
            1.2692954861658547
           ]
          },
          {
           "hoverinfo": "text",
           "marker": {
            "opacity": 1,
            "size": 1
           },
           "mode": "markers",
           "showlegend": false,
           "text": [
            "ID: 9, Pos(3.92,1.10)"
           ],
           "type": "scatter",
           "x": [
            3.916458612817291
           ],
           "y": [
            1.0975277219794715
           ]
          },
          {
           "hoverinfo": "text",
           "marker": {
            "opacity": 1,
            "size": 1
           },
           "mode": "markers",
           "showlegend": false,
           "text": [
            "ID: 10, Pos(3.87,2.12)"
           ],
           "type": "scatter",
           "x": [
            3.8650336811140176
           ],
           "y": [
            2.1219749092943587
           ]
          }
         ],
         "layout": {
          "shapes": [
           {
            "fillcolor": "rgba(0, 0, 128, 0.5)",
            "line": {
             "color": "rgba(0, 0, 128, 0.5)"
            },
            "type": "circle",
            "x0": 2.2928518214690583,
            "x1": 2.6928518214690587,
            "xref": "x",
            "y0": 1.7856069196010822,
            "y1": 2.1856069196010823,
            "yref": "y"
           },
           {
            "fillcolor": "rgba(115, 255, 131, 0.5)",
            "line": {
             "color": "rgba(115, 255, 131, 0.5)"
            },
            "type": "circle",
            "x0": 1.0063285483428364,
            "x1": 1.4063285483428363,
            "xref": "x",
            "y0": 0.764050266295216,
            "y1": 1.164050266295216,
            "yref": "y"
           },
           {
            "fillcolor": "rgba(0, 0, 187, 0.5)",
            "line": {
             "color": "rgba(0, 0, 187, 0.5)"
            },
            "type": "circle",
            "x0": 0.9077366933258633,
            "x1": 1.3077366933258632,
            "xref": "x",
            "y0": 2.0759864291292187,
            "y1": 2.475986429129219,
            "yref": "y"
           },
           {
            "fillcolor": "rgba(255, 30, 0, 0.5)",
            "line": {
             "color": "rgba(255, 30, 0, 0.5)"
            },
            "type": "circle",
            "x0": 0.44137506310571356,
            "x1": 0.8413750631057135,
            "xref": "x",
            "y0": 0.2134910556686676,
            "y1": 0.6134910556686677,
            "yref": "y"
           },
           {
            "fillcolor": "rgba(0, 0, 255, 0.5)",
            "line": {
             "color": "rgba(0, 0, 255, 0.5)"
            },
            "type": "circle",
            "x0": 1.5544777153793354,
            "x1": 1.9544777153793353,
            "xref": "x",
            "y0": 1.4790525357056512,
            "y1": 1.8790525357056511,
            "yref": "y"
           },
           {
            "fillcolor": "rgba(0, 0, 146, 0.5)",
            "line": {
             "color": "rgba(0, 0, 146, 0.5)"
            },
            "type": "circle",
            "x0": 4.738979517715699,
            "x1": 5.1389795177157,
            "xref": "x",
            "y0": 2.032825056587275,
            "y1": 2.4328250565872755,
            "yref": "y"
           },
           {
            "fillcolor": "rgba(0, 0, 223, 0.5)",
            "line": {
             "color": "rgba(0, 0, 223, 0.5)"
            },
            "type": "circle",
            "x0": 0.23171389729827757,
            "x1": 0.6317138972982776,
            "xref": "x",
            "y0": 1.1318695226648978,
            "y1": 1.5318695226648977,
            "yref": "y"
           },
           {
            "fillcolor": "rgba(238, 255, 9, 0.5)",
            "line": {
             "color": "rgba(238, 255, 9, 0.5)"
            },
            "type": "circle",
            "x0": 5.400131668905641,
            "x1": 5.8001316689056415,
            "xref": "x",
            "y0": 1.0692954861658548,
            "y1": 1.4692954861658547,
            "yref": "y"
           },
           {
            "fillcolor": "rgba(0, 0, 218, 0.5)",
            "line": {
             "color": "rgba(0, 0, 218, 0.5)"
            },
            "type": "circle",
            "x0": 3.716458612817291,
            "x1": 4.116458612817291,
            "xref": "x",
            "y0": 0.8975277219794715,
            "y1": 1.2975277219794714,
            "yref": "y"
           },
           {
            "fillcolor": "rgba(0, 0, 228, 0.5)",
            "line": {
             "color": "rgba(0, 0, 228, 0.5)"
            },
            "type": "circle",
            "x0": 3.6650336811140174,
            "x1": 4.065033681114017,
            "xref": "x",
            "y0": 1.9219749092943588,
            "y1": 2.321974909294359,
            "yref": "y"
           },
           {
            "line": {
             "color": "white",
             "width": 3
            },
            "type": "line",
            "x0": 2.4928518214690585,
            "x1": 2.4542787098080145,
            "y0": 1.9856069196010822,
            "y1": 2.1818519578995947
           },
           {
            "line": {
             "color": "black",
             "width": 3
            },
            "type": "line",
            "x0": 1.2063285483428363,
            "x1": 1.2098416356186026,
            "y0": 0.964050266295216,
            "y1": 1.1640194094593372
           },
           {
            "line": {
             "color": "white",
             "width": 3
            },
            "type": "line",
            "x0": 1.1077366933258632,
            "x1": 1.068199624604692,
            "y0": 2.275986429129219,
            "y1": 2.472039534682121
           },
           {
            "line": {
             "color": "white",
             "width": 3
            },
            "type": "line",
            "x0": 0.6413750631057136,
            "x1": 0.5977713133042947,
            "y0": 0.4134910556686676,
            "y1": 0.6086799718582281
           },
           {
            "line": {
             "color": "white",
             "width": 3
            },
            "type": "line",
            "x0": 1.7544777153793354,
            "x1": 1.69393645401632,
            "y0": 1.6790525357056512,
            "y1": 1.8696693127022606
           },
           {
            "line": {
             "color": "white",
             "width": 3
            },
            "type": "line",
            "x0": 4.938979517715699,
            "x1": 4.822342124106196,
            "y0": 2.2328250565872754,
            "y1": 2.3952926484694164
           },
           {
            "line": {
             "color": "white",
             "width": 3
            },
            "type": "line",
            "x0": 0.4317138972982776,
            "x1": 0.40485965681578046,
            "y0": 1.3318695226648978,
            "y1": 1.5300584470983993
           },
           {
            "line": {
             "color": "black",
             "width": 3
            },
            "type": "line",
            "x0": 5.600131668905641,
            "x1": 5.482788380141418,
            "y0": 1.2692954861658547,
            "y1": 1.4312539764712293
           },
           {
            "line": {
             "color": "white",
             "width": 3
            },
            "type": "line",
            "x0": 3.916458612817291,
            "x1": 3.8265212450457797,
            "y0": 1.0975277219794715,
            "y1": 1.2761649797907464
           },
           {
            "line": {
             "color": "white",
             "width": 3
            },
            "type": "line",
            "x0": 3.8650336811140176,
            "x1": 3.766907570428137,
            "y0": 2.1219749092943587,
            "y1": 2.296248448311796
           }
          ],
          "title": {
           "text": "<b>Number of Agents: 10</b>",
           "x": 0.5
          }
         },
         "name": "10"
        },
        {
         "data": [
          {
           "hoverinfo": "name",
           "line": {
            "color": "grey"
           },
           "mode": "lines",
           "name": "Exterior",
           "showlegend": false,
           "type": "scatter",
           "x": [
            -10,
            -10,
            10,
            10,
            -10
           ],
           "y": [
            10,
            -10,
            -10,
            10,
            10
           ]
          },
          {
           "hoverinfo": "text",
           "marker": {
            "opacity": 1,
            "size": 1
           },
           "mode": "markers",
           "showlegend": false,
           "text": [
            "ID: 1, Pos(2.43,2.26)"
           ],
           "type": "scatter",
           "x": [
            2.4338187507058455
           ],
           "y": [
            2.256238786086096
           ]
          },
          {
           "hoverinfo": "text",
           "marker": {
            "opacity": 1,
            "size": 1
           },
           "mode": "markers",
           "showlegend": false,
           "text": [
            "ID: 2, Pos(1.20,1.15)"
           ],
           "type": "scatter",
           "x": [
            1.1994739327645227
           ],
           "y": [
            1.1543695650683445
           ]
          },
          {
           "hoverinfo": "text",
           "marker": {
            "opacity": 1,
            "size": 1
           },
           "mode": "markers",
           "showlegend": false,
           "text": [
            "ID: 3, Pos(1.05,2.54)"
           ],
           "type": "scatter",
           "x": [
            1.054748726208131
           ],
           "y": [
            2.5374421233013114
           ]
          },
          {
           "hoverinfo": "text",
           "marker": {
            "opacity": 1,
            "size": 1
           },
           "mode": "markers",
           "showlegend": false,
           "text": [
            "ID: 4, Pos(0.62,0.53)"
           ],
           "type": "scatter",
           "x": [
            0.6204808042501397
           ],
           "y": [
            0.5336289173024441
           ]
          },
          {
           "hoverinfo": "text",
           "marker": {
            "opacity": 1,
            "size": 1
           },
           "mode": "markers",
           "showlegend": false,
           "text": [
            "ID: 5, Pos(1.68,1.93)"
           ],
           "type": "scatter",
           "x": [
            1.678664684529753
           ],
           "y": [
            1.9333033805825075
           ]
          },
          {
           "hoverinfo": "text",
           "marker": {
            "opacity": 1,
            "size": 1
           },
           "mode": "markers",
           "showlegend": false,
           "text": [
            "ID: 6, Pos(4.78,2.46)"
           ],
           "type": "scatter",
           "x": [
            4.779874768876638
           ],
           "y": [
            2.4550422269726977
           ]
          },
          {
           "hoverinfo": "text",
           "marker": {
            "opacity": 1,
            "size": 1
           },
           "mode": "markers",
           "showlegend": false,
           "text": [
            "ID: 7, Pos(0.40,1.59)"
           ],
           "type": "scatter",
           "x": [
            0.40206416875336487
           ],
           "y": [
            1.591251997113475
           ]
          },
          {
           "hoverinfo": "text",
           "marker": {
            "opacity": 1,
            "size": 1
           },
           "mode": "markers",
           "showlegend": false,
           "text": [
            "ID: 8, Pos(5.50,1.40)"
           ],
           "type": "scatter",
           "x": [
            5.503670866038618
           ],
           "y": [
            1.4024437492331099
           ]
          },
          {
           "hoverinfo": "text",
           "marker": {
            "opacity": 1,
            "size": 1
           },
           "mode": "markers",
           "showlegend": false,
           "text": [
            "ID: 9, Pos(3.80,1.33)"
           ],
           "type": "scatter",
           "x": [
            3.799019044890879
           ],
           "y": [
            1.3307570571260345
           ]
          },
          {
           "hoverinfo": "text",
           "marker": {
            "opacity": 1,
            "size": 1
           },
           "mode": "markers",
           "showlegend": false,
           "text": [
            "ID: 10, Pos(3.74,2.35)"
           ],
           "type": "scatter",
           "x": [
            3.737441987306099
           ],
           "y": [
            2.347995854438788
           ]
          }
         ],
         "layout": {
          "shapes": [
           {
            "fillcolor": "rgba(0, 0, 128, 0.5)",
            "line": {
             "color": "rgba(0, 0, 128, 0.5)"
            },
            "type": "circle",
            "x0": 2.2338187507058453,
            "x1": 2.6338187507058457,
            "xref": "x",
            "y0": 2.056238786086096,
            "y1": 2.456238786086096,
            "yref": "y"
           },
           {
            "fillcolor": "rgba(48, 255, 199, 0.5)",
            "line": {
             "color": "rgba(48, 255, 199, 0.5)"
            },
            "type": "circle",
            "x0": 0.9994739327645228,
            "x1": 1.3994739327645227,
            "xref": "x",
            "y0": 0.9543695650683446,
            "y1": 1.3543695650683445,
            "yref": "y"
           },
           {
            "fillcolor": "rgba(0, 0, 187, 0.5)",
            "line": {
             "color": "rgba(0, 0, 187, 0.5)"
            },
            "type": "circle",
            "x0": 0.854748726208131,
            "x1": 1.254748726208131,
            "xref": "x",
            "y0": 2.337442123301311,
            "y1": 2.7374421233013115,
            "yref": "y"
           },
           {
            "fillcolor": "rgba(255, 167, 0, 0.5)",
            "line": {
             "color": "rgba(255, 167, 0, 0.5)"
            },
            "type": "circle",
            "x0": 0.42048080425013973,
            "x1": 0.8204808042501397,
            "xref": "x",
            "y0": 0.3336289173024441,
            "y1": 0.7336289173024442,
            "yref": "y"
           },
           {
            "fillcolor": "rgba(0, 0, 196, 0.5)",
            "line": {
             "color": "rgba(0, 0, 196, 0.5)"
            },
            "type": "circle",
            "x0": 1.478664684529753,
            "x1": 1.878664684529753,
            "xref": "x",
            "y0": 1.7333033805825075,
            "y1": 2.1333033805825075,
            "yref": "y"
           },
           {
            "fillcolor": "rgba(0, 0, 146, 0.5)",
            "line": {
             "color": "rgba(0, 0, 146, 0.5)"
            },
            "type": "circle",
            "x0": 4.579874768876638,
            "x1": 4.9798747688766385,
            "xref": "x",
            "y0": 2.2550422269726975,
            "y1": 2.655042226972698,
            "yref": "y"
           },
           {
            "fillcolor": "rgba(0, 0, 218, 0.5)",
            "line": {
             "color": "rgba(0, 0, 218, 0.5)"
            },
            "type": "circle",
            "x0": 0.20206416875336486,
            "x1": 0.6020641687533649,
            "xref": "x",
            "y0": 1.3912519971134751,
            "y1": 1.791251997113475,
            "yref": "y"
           },
           {
            "fillcolor": "rgba(144, 255, 102, 0.5)",
            "line": {
             "color": "rgba(144, 255, 102, 0.5)"
            },
            "type": "circle",
            "x0": 5.303670866038618,
            "x1": 5.703670866038618,
            "xref": "x",
            "y0": 1.20244374923311,
            "y1": 1.6024437492331098,
            "yref": "y"
           },
           {
            "fillcolor": "rgba(0, 208, 255, 0.5)",
            "line": {
             "color": "rgba(0, 208, 255, 0.5)"
            },
            "type": "circle",
            "x0": 3.5990190448908788,
            "x1": 3.999019044890879,
            "xref": "x",
            "y0": 1.1307570571260346,
            "y1": 1.5307570571260345,
            "yref": "y"
           },
           {
            "fillcolor": "rgba(0, 0, 228, 0.5)",
            "line": {
             "color": "rgba(0, 0, 228, 0.5)"
            },
            "type": "circle",
            "x0": 3.537441987306099,
            "x1": 3.9374419873060993,
            "xref": "x",
            "y0": 2.147995854438788,
            "y1": 2.5479958544387884,
            "yref": "y"
           },
           {
            "line": {
             "color": "white",
             "width": 3
            },
            "type": "line",
            "x0": 2.4338187507058455,
            "x1": 2.3884319877612787,
            "y0": 2.256238786086096,
            "y1": 2.4510208226023353
           },
           {
            "line": {
             "color": "black",
             "width": 3
            },
            "type": "line",
            "x0": 1.1994739327645227,
            "x1": 1.1856417130635555,
            "y0": 1.1543695650683445,
            "y1": 1.3538906659527978
           },
           {
            "line": {
             "color": "white",
             "width": 3
            },
            "type": "line",
            "x0": 1.054748726208131,
            "x1": 1.0149007861139043,
            "y0": 2.5374421233013114,
            "y1": 2.7334322803762188
           },
           {
            "line": {
             "color": "black",
             "width": 3
            },
            "type": "line",
            "x0": 0.6204808042501397,
            "x1": 0.5916212492011456,
            "y0": 0.5336289173024441,
            "y1": 0.7315357794431341
           },
           {
            "line": {
             "color": "white",
             "width": 3
            },
            "type": "line",
            "x0": 1.678664684529753,
            "x1": 1.6235239961252348,
            "y0": 1.9333033805825075,
            "y1": 2.1255519292955625
           },
           {
            "line": {
             "color": "white",
             "width": 3
            },
            "type": "line",
            "x0": 4.779874768876638,
            "x1": 4.663651998745749,
            "y0": 2.4550422269726977,
            "y1": 2.6178066816398715
           },
           {
            "line": {
             "color": "white",
             "width": 3
            },
            "type": "line",
            "x0": 0.40206416875336487,
            "x1": 0.38202517111642154,
            "y0": 1.591251997113475,
            "y1": 1.7902455612649486
           },
           {
            "line": {
             "color": "black",
             "width": 3
            },
            "type": "line",
            "x0": 5.503670866038618,
            "x1": 5.386338244120102,
            "y0": 1.4024437492331099,
            "y1": 1.5644099674198868
           },
           {
            "line": {
             "color": "black",
             "width": 3
            },
            "type": "line",
            "x0": 3.799019044890879,
            "x1": 3.70906161550402,
            "y0": 1.3307570571260345,
            "y1": 1.5093842132308897
           },
           {
            "line": {
             "color": "white",
             "width": 3
            },
            "type": "line",
            "x0": 3.737441987306099,
            "x1": 3.6389354741052076,
            "y0": 2.347995854438788,
            "y1": 2.5220546573101243
           }
          ],
          "title": {
           "text": "<b>Number of Agents: 10</b>",
           "x": 0.5
          }
         },
         "name": "15"
        },
        {
         "data": [
          {
           "hoverinfo": "name",
           "line": {
            "color": "grey"
           },
           "mode": "lines",
           "name": "Exterior",
           "showlegend": false,
           "type": "scatter",
           "x": [
            -10,
            -10,
            10,
            10,
            -10
           ],
           "y": [
            10,
            -10,
            -10,
            10,
            10
           ]
          },
          {
           "hoverinfo": "text",
           "marker": {
            "opacity": 1,
            "size": 1
           },
           "mode": "markers",
           "showlegend": false,
           "text": [
            "ID: 1, Pos(2.37,2.53)"
           ],
           "type": "scatter",
           "x": [
            2.3682371113930016
           ],
           "y": [
            2.5253685947096622
           ]
          },
          {
           "hoverinfo": "text",
           "marker": {
            "opacity": 1,
            "size": 1
           },
           "mode": "markers",
           "showlegend": false,
           "text": [
            "ID: 2, Pos(1.18,1.36)"
           ],
           "type": "scatter",
           "x": [
            1.1812402082429954
           ],
           "y": [
            1.3577267653365477
           ]
          },
          {
           "hoverinfo": "text",
           "marker": {
            "opacity": 1,
            "size": 1
           },
           "mode": "markers",
           "showlegend": false,
           "text": [
            "ID: 3, Pos(1.00,2.80)"
           ],
           "type": "scatter",
           "x": [
            1.0015081888399107
           ],
           "y": [
            2.7988465267856446
           ]
          },
          {
           "hoverinfo": "text",
           "marker": {
            "opacity": 1,
            "size": 1
           },
           "mode": "markers",
           "showlegend": false,
           "text": [
            "ID: 4, Pos(0.60,0.68)"
           ],
           "type": "scatter",
           "x": [
            0.6018055444756033
           ],
           "y": [
            0.6795241638236272
           ]
          },
          {
           "hoverinfo": "text",
           "marker": {
            "opacity": 1,
            "size": 1
           },
           "mode": "markers",
           "showlegend": false,
           "text": [
            "ID: 5, Pos(1.61,2.19)"
           ],
           "type": "scatter",
           "x": [
            1.6069442963132698
           ],
           "y": [
            2.1887461386044404
           ]
          },
          {
           "hoverinfo": "text",
           "marker": {
            "opacity": 1,
            "size": 1
           },
           "mode": "markers",
           "showlegend": false,
           "text": [
            "ID: 6, Pos(4.62,2.68)"
           ],
           "type": "scatter",
           "x": [
            4.621426221514991
           ],
           "y": [
            2.677727708557265
           ]
          },
          {
           "hoverinfo": "text",
           "marker": {
            "opacity": 1,
            "size": 1
           },
           "mode": "markers",
           "showlegend": false,
           "text": [
            "ID: 7, Pos(0.38,1.85)"
           ],
           "type": "scatter",
           "x": [
            0.37805202908372926
           ],
           "y": [
            1.8512268017258116
           ]
          },
          {
           "hoverinfo": "text",
           "marker": {
            "opacity": 1,
            "size": 1
           },
           "mode": "markers",
           "showlegend": false,
           "text": [
            "ID: 8, Pos(5.40,1.55)"
           ],
           "type": "scatter",
           "x": [
            5.39558208555464
           ],
           "y": [
            1.551653972895501
           ]
          },
          {
           "hoverinfo": "text",
           "marker": {
            "opacity": 1,
            "size": 1
           },
           "mode": "markers",
           "showlegend": false,
           "text": [
            "ID: 9, Pos(3.73,1.48)"
           ],
           "type": "scatter",
           "x": [
            3.7254681961415588
           ],
           "y": [
            1.477307077243011
           ]
          },
          {
           "hoverinfo": "text",
           "marker": {
            "opacity": 1,
            "size": 1
           },
           "mode": "markers",
           "showlegend": false,
           "text": [
            "ID: 10, Pos(3.61,2.57)"
           ],
           "type": "scatter",
           "x": [
            3.6088721659013903
           ],
           "y": [
            2.5734610647062794
           ]
          }
         ],
         "layout": {
          "shapes": [
           {
            "fillcolor": "rgba(0, 0, 128, 0.5)",
            "line": {
             "color": "rgba(0, 0, 128, 0.5)"
            },
            "type": "circle",
            "x0": 2.1682371113930015,
            "x1": 2.568237111393002,
            "xref": "x",
            "y0": 2.325368594709662,
            "y1": 2.7253685947096624,
            "yref": "y"
           },
           {
            "fillcolor": "rgba(0, 224, 251, 0.5)",
            "line": {
             "color": "rgba(0, 224, 251, 0.5)"
            },
            "type": "circle",
            "x0": 0.9812402082429954,
            "x1": 1.3812402082429953,
            "xref": "x",
            "y0": 1.1577267653365477,
            "y1": 1.5577267653365476,
            "yref": "y"
           },
           {
            "fillcolor": "rgba(0, 0, 187, 0.5)",
            "line": {
             "color": "rgba(0, 0, 187, 0.5)"
            },
            "type": "circle",
            "x0": 0.8015081888399107,
            "x1": 1.2015081888399106,
            "xref": "x",
            "y0": 2.5988465267856444,
            "y1": 2.998846526785645,
            "yref": "y"
           },
           {
            "fillcolor": "rgba(219, 255, 28, 0.5)",
            "line": {
             "color": "rgba(219, 255, 28, 0.5)"
            },
            "type": "circle",
            "x0": 0.4018055444756033,
            "x1": 0.8018055444756034,
            "xref": "x",
            "y0": 0.4795241638236272,
            "y1": 0.8795241638236273,
            "yref": "y"
           },
           {
            "fillcolor": "rgba(0, 0, 196, 0.5)",
            "line": {
             "color": "rgba(0, 0, 196, 0.5)"
            },
            "type": "circle",
            "x0": 1.40694429631327,
            "x1": 1.8069442963132698,
            "xref": "x",
            "y0": 1.9887461386044405,
            "y1": 2.3887461386044406,
            "yref": "y"
           },
           {
            "fillcolor": "rgba(0, 0, 146, 0.5)",
            "line": {
             "color": "rgba(0, 0, 146, 0.5)"
            },
            "type": "circle",
            "x0": 4.421426221514991,
            "x1": 4.821426221514991,
            "xref": "x",
            "y0": 2.4777277085572647,
            "y1": 2.877727708557265,
            "yref": "y"
           },
           {
            "fillcolor": "rgba(0, 0, 218, 0.5)",
            "line": {
             "color": "rgba(0, 0, 218, 0.5)"
            },
            "type": "circle",
            "x0": 0.17805202908372925,
            "x1": 0.5780520290837292,
            "xref": "x",
            "y0": 1.6512268017258116,
            "y1": 2.0512268017258117,
            "yref": "y"
           },
           {
            "fillcolor": "rgba(70, 255, 177, 0.5)",
            "line": {
             "color": "rgba(70, 255, 177, 0.5)"
            },
            "type": "circle",
            "x0": 5.19558208555464,
            "x1": 5.59558208555464,
            "xref": "x",
            "y0": 1.351653972895501,
            "y1": 1.751653972895501,
            "yref": "y"
           },
           {
            "fillcolor": "rgba(219, 255, 28, 0.5)",
            "line": {
             "color": "rgba(219, 255, 28, 0.5)"
            },
            "type": "circle",
            "x0": 3.5254681961415586,
            "x1": 3.925468196141559,
            "xref": "x",
            "y0": 1.277307077243011,
            "y1": 1.677307077243011,
            "yref": "y"
           },
           {
            "fillcolor": "rgba(0, 0, 228, 0.5)",
            "line": {
             "color": "rgba(0, 0, 228, 0.5)"
            },
            "type": "circle",
            "x0": 3.40887216590139,
            "x1": 3.8088721659013904,
            "xref": "x",
            "y0": 2.3734610647062793,
            "y1": 2.7734610647062796,
            "yref": "y"
           },
           {
            "line": {
             "color": "white",
             "width": 3
            },
            "type": "line",
            "x0": 2.3682371113930016,
            "x1": 2.3193979061000283,
            "y0": 2.5253685947096622,
            "y1": 2.719313772598546
           },
           {
            "line": {
             "color": "black",
             "width": 3
            },
            "type": "line",
            "x0": 1.1812402082429954,
            "x1": 1.1606682944278954,
            "y0": 1.3577267653365477,
            "y1": 1.5566659428808014
           },
           {
            "line": {
             "color": "white",
             "width": 3
            },
            "type": "line",
            "x0": 1.0015081888399107,
            "x1": 0.9615547190980085,
            "y0": 2.7988465267856446,
            "y1": 2.994815198403286
           },
           {
            "line": {
             "color": "black",
             "width": 3
            },
            "type": "line",
            "x0": 0.6018055444756033,
            "x1": 0.5787121658922685,
            "y0": 0.6795241638236272,
            "y1": 0.8781864296558853
           },
           {
            "line": {
             "color": "white",
             "width": 3
            },
            "type": "line",
            "x0": 1.6069442963132698,
            "x1": 1.5536084553327578,
            "y0": 2.1887461386044404,
            "y1": 2.38150320868723
           },
           {
            "line": {
             "color": "white",
             "width": 3
            },
            "type": "line",
            "x0": 4.621426221514991,
            "x1": 4.505737294638491,
            "y0": 2.677727708557265,
            "y1": 2.8408720379045143
           },
           {
            "line": {
             "color": "white",
             "width": 3
            },
            "type": "line",
            "x0": 0.37805202908372926,
            "x1": 0.3608059757146665,
            "y0": 1.8512268017258116,
            "y1": 2.050481848445315
           },
           {
            "line": {
             "color": "black",
             "width": 3
            },
            "type": "line",
            "x0": 5.39558208555464,
            "x1": 5.278253368288583,
            "y0": 1.551653972895501,
            "y1": 1.71362301964426
           },
           {
            "line": {
             "color": "black",
             "width": 3
            },
            "type": "line",
            "x0": 3.7254681961415588,
            "x1": 3.6362116497751664,
            "y0": 1.477307077243011,
            "y1": 1.6562854807746774
           },
           {
            "line": {
             "color": "white",
             "width": 3
            },
            "type": "line",
            "x0": 3.6088721659013903,
            "x1": 3.509142174401046,
            "y0": 2.5734610647062794,
            "y1": 2.7468217545853326
           }
          ],
          "title": {
           "text": "<b>Number of Agents: 10</b>",
           "x": 0.5
          }
         },
         "name": "20"
        },
        {
         "data": [
          {
           "hoverinfo": "name",
           "line": {
            "color": "grey"
           },
           "mode": "lines",
           "name": "Exterior",
           "showlegend": false,
           "type": "scatter",
           "x": [
            -10,
            -10,
            10,
            10,
            -10
           ],
           "y": [
            10,
            -10,
            -10,
            10,
            10
           ]
          },
          {
           "hoverinfo": "text",
           "marker": {
            "opacity": 1,
            "size": 1
           },
           "mode": "markers",
           "showlegend": false,
           "text": [
            "ID: 1, Pos(2.30,2.79)"
           ],
           "type": "scatter",
           "x": [
            2.2988816490231496
           ],
           "y": [
            2.7935527412159136
           ]
          },
          {
           "hoverinfo": "text",
           "marker": {
            "opacity": 1,
            "size": 1
           },
           "mode": "markers",
           "showlegend": false,
           "text": [
            "ID: 2, Pos(1.16,1.57)"
           ],
           "type": "scatter",
           "x": [
            1.1570707454710778
           ],
           "y": [
            1.5718055816458936
           ]
          },
          {
           "hoverinfo": "text",
           "marker": {
            "opacity": 1,
            "size": 1
           },
           "mode": "markers",
           "showlegend": false,
           "text": [
            "ID: 3, Pos(0.95,3.06)"
           ],
           "type": "scatter",
           "x": [
            0.9482096270471652
           ],
           "y": [
            3.06023910868635
           ]
          },
          {
           "hoverinfo": "text",
           "marker": {
            "opacity": 1,
            "size": 1
           },
           "mode": "markers",
           "showlegend": false,
           "text": [
            "ID: 4, Pos(0.58,0.85)"
           ],
           "type": "scatter",
           "x": [
            0.5838577098974203
           ],
           "y": [
            0.8462343085120838
           ]
          },
          {
           "hoverinfo": "text",
           "marker": {
            "opacity": 1,
            "size": 1
           },
           "mode": "markers",
           "showlegend": false,
           "text": [
            "ID: 5, Pos(1.54,2.44)"
           ],
           "type": "scatter",
           "x": [
            1.5368549808947956
           ],
           "y": [
            2.4446419519135447
           ]
          },
          {
           "hoverinfo": "text",
           "marker": {
            "opacity": 1,
            "size": 1
           },
           "mode": "markers",
           "showlegend": false,
           "text": [
            "ID: 6, Pos(4.46,2.90)"
           ],
           "type": "scatter",
           "x": [
            4.463786625954985
           ],
           "y": [
            2.900986508584416
           ]
          },
          {
           "hoverinfo": "text",
           "marker": {
            "opacity": 1,
            "size": 1
           },
           "mode": "markers",
           "showlegend": false,
           "text": [
            "ID: 7, Pos(0.36,2.11)"
           ],
           "type": "scatter",
           "x": [
            0.35655900277356206
           ],
           "y": [
            2.111423540279274
           ]
          },
          {
           "hoverinfo": "text",
           "marker": {
            "opacity": 1,
            "size": 1
           },
           "mode": "markers",
           "showlegend": false,
           "text": [
            "ID: 8, Pos(5.28,1.71)"
           ],
           "type": "scatter",
           "x": [
            5.277979962490401
           ],
           "y": [
            1.7140038866543466
           ]
          },
          {
           "hoverinfo": "text",
           "marker": {
            "opacity": 1,
            "size": 1
           },
           "mode": "markers",
           "showlegend": false,
           "text": [
            "ID: 9, Pos(3.66,1.61)"
           ],
           "type": "scatter",
           "x": [
            3.658671516996228
           ],
           "y": [
            1.6116401206241668
           ]
          },
          {
           "hoverinfo": "text",
           "marker": {
            "opacity": 1,
            "size": 1
           },
           "mode": "markers",
           "showlegend": false,
           "text": [
            "ID: 10, Pos(3.48,2.80)"
           ],
           "type": "scatter",
           "x": [
            3.4788100396654116
           ],
           "y": [
            2.7980692619246548
           ]
          }
         ],
         "layout": {
          "shapes": [
           {
            "fillcolor": "rgba(0, 0, 128, 0.5)",
            "line": {
             "color": "rgba(0, 0, 128, 0.5)"
            },
            "type": "circle",
            "x0": 2.0988816490231494,
            "x1": 2.49888164902315,
            "xref": "x",
            "y0": 2.5935527412159134,
            "y1": 2.9935527412159137,
            "yref": "y"
           },
           {
            "fillcolor": "rgba(0, 168, 255, 0.5)",
            "line": {
             "color": "rgba(0, 168, 255, 0.5)"
            },
            "type": "circle",
            "x0": 0.9570707454710778,
            "x1": 1.3570707454710778,
            "xref": "x",
            "y0": 1.3718055816458936,
            "y1": 1.7718055816458935,
            "yref": "y"
           },
           {
            "fillcolor": "rgba(0, 0, 187, 0.5)",
            "line": {
             "color": "rgba(0, 0, 187, 0.5)"
            },
            "type": "circle",
            "x0": 0.7482096270471652,
            "x1": 1.1482096270471651,
            "xref": "x",
            "y0": 2.8602391086863497,
            "y1": 3.26023910868635,
            "yref": "y"
           },
           {
            "fillcolor": "rgba(138, 255, 109, 0.5)",
            "line": {
             "color": "rgba(138, 255, 109, 0.5)"
            },
            "type": "circle",
            "x0": 0.38385770989742024,
            "x1": 0.7838577098974202,
            "xref": "x",
            "y0": 0.6462343085120839,
            "y1": 1.0462343085120838,
            "yref": "y"
           },
           {
            "fillcolor": "rgba(0, 152, 255, 0.5)",
            "line": {
             "color": "rgba(0, 152, 255, 0.5)"
            },
            "type": "circle",
            "x0": 1.3368549808947956,
            "x1": 1.7368549808947955,
            "xref": "x",
            "y0": 2.2446419519135445,
            "y1": 2.644641951913545,
            "yref": "y"
           },
           {
            "fillcolor": "rgba(0, 0, 146, 0.5)",
            "line": {
             "color": "rgba(0, 0, 146, 0.5)"
            },
            "type": "circle",
            "x0": 4.263786625954985,
            "x1": 4.663786625954986,
            "xref": "x",
            "y0": 2.700986508584416,
            "y1": 3.100986508584416,
            "yref": "y"
           },
           {
            "fillcolor": "rgba(0, 0, 218, 0.5)",
            "line": {
             "color": "rgba(0, 0, 218, 0.5)"
            },
            "type": "circle",
            "x0": 0.15655900277356205,
            "x1": 0.5565590027735621,
            "xref": "x",
            "y0": 1.911423540279274,
            "y1": 2.311423540279274,
            "yref": "y"
           },
           {
            "fillcolor": "rgba(6, 237, 241, 0.5)",
            "line": {
             "color": "rgba(6, 237, 241, 0.5)"
            },
            "type": "circle",
            "x0": 5.077979962490401,
            "x1": 5.4779799624904015,
            "xref": "x",
            "y0": 1.5140038866543466,
            "y1": 1.9140038866543465,
            "yref": "y"
           },
           {
            "fillcolor": "rgba(209, 255, 38, 0.5)",
            "line": {
             "color": "rgba(209, 255, 38, 0.5)"
            },
            "type": "circle",
            "x0": 3.458671516996228,
            "x1": 3.8586715169962282,
            "xref": "x",
            "y0": 1.4116401206241669,
            "y1": 1.8116401206241668,
            "yref": "y"
           },
           {
            "fillcolor": "rgba(0, 0, 228, 0.5)",
            "line": {
             "color": "rgba(0, 0, 228, 0.5)"
            },
            "type": "circle",
            "x0": 3.2788100396654114,
            "x1": 3.6788100396654118,
            "xref": "x",
            "y0": 2.5980692619246546,
            "y1": 2.998069261924655,
            "yref": "y"
           },
           {
            "line": {
             "color": "white",
             "width": 3
            },
            "type": "line",
            "x0": 2.2988816490231496,
            "x1": 2.2478124635895083,
            "y0": 2.7935527412159136,
            "y1": 2.986922693119368
           },
           {
            "line": {
             "color": "black",
             "width": 3
            },
            "type": "line",
            "x0": 1.1570707454710778,
            "x1": 1.1333027567067022,
            "y0": 1.5718055816458936,
            "y1": 1.7703882664653323
           },
           {
            "line": {
             "color": "white",
             "width": 3
            },
            "type": "line",
            "x0": 0.9482096270471652,
            "x1": 0.9082613473255904,
            "y0": 3.06023910868635,
            "y1": 3.256208838357253
           },
           {
            "line": {
             "color": "black",
             "width": 3
            },
            "type": "line",
            "x0": 0.5838577098974203,
            "x1": 0.5636474387987972,
            "y0": 0.8462343085120838,
            "y1": 1.0452105506670712
           },
           {
            "line": {
             "color": "white",
             "width": 3
            },
            "type": "line",
            "x0": 1.5368549808947956,
            "x1": 1.484399295510855,
            "y0": 2.4446419519135447,
            "y1": 2.6376404002775176
           },
           {
            "line": {
             "color": "white",
             "width": 3
            },
            "type": "line",
            "x0": 4.463786625954985,
            "x1": 4.34874730509681,
            "y0": 2.900986508584416,
            "y1": 3.0645895484598715
           },
           {
            "line": {
             "color": "white",
             "width": 3
            },
            "type": "line",
            "x0": 0.35655900277356206,
            "x1": 0.3406520518039964,
            "y0": 2.111423540279274,
            "y1": 2.310789958993289
           },
           {
            "line": {
             "color": "black",
             "width": 3
            },
            "type": "line",
            "x0": 5.277979962490401,
            "x1": 5.160654307495563,
            "y0": 1.7140038866543466,
            "y1": 1.8759751516368495
           },
           {
            "line": {
             "color": "black",
             "width": 3
            },
            "type": "line",
            "x0": 3.658671516996228,
            "x1": 3.569741081430735,
            "y0": 1.6116401206241668,
            "y1": 1.7907807849919528
           },
           {
            "line": {
             "color": "white",
             "width": 3
            },
            "type": "line",
            "x0": 3.4788100396654116,
            "x1": 3.3782085228175394,
            "y0": 2.7980692619246548,
            "y1": 2.970925661308384
           }
          ],
          "title": {
           "text": "<b>Number of Agents: 10</b>",
           "x": 0.5
          }
         },
         "name": "25"
        },
        {
         "data": [
          {
           "hoverinfo": "name",
           "line": {
            "color": "grey"
           },
           "mode": "lines",
           "name": "Exterior",
           "showlegend": false,
           "type": "scatter",
           "x": [
            -10,
            -10,
            10,
            10,
            -10
           ],
           "y": [
            10,
            -10,
            -10,
            10,
            10
           ]
          },
          {
           "hoverinfo": "text",
           "marker": {
            "opacity": 1,
            "size": 1
           },
           "mode": "markers",
           "showlegend": false,
           "text": [
            "ID: 1, Pos(2.23,3.06)"
           ],
           "type": "scatter",
           "x": [
            2.2258601101485005
           ],
           "y": [
            3.0607555426707
           ]
          },
          {
           "hoverinfo": "text",
           "marker": {
            "opacity": 1,
            "size": 1
           },
           "mode": "markers",
           "showlegend": false,
           "text": [
            "ID: 2, Pos(1.13,1.79)"
           ],
           "type": "scatter",
           "x": [
            1.1285438440771633
           ],
           "y": [
            1.794686597707383
           ]
          },
          {
           "hoverinfo": "text",
           "marker": {
            "opacity": 1,
            "size": 1
           },
           "mode": "markers",
           "showlegend": false,
           "text": [
            "ID: 3, Pos(0.90,3.32)"
           ],
           "type": "scatter",
           "x": [
            0.8967225498254692
           ],
           "y": [
            3.321984195827705
           ]
          },
          {
           "hoverinfo": "text",
           "marker": {
            "opacity": 1,
            "size": 1
           },
           "mode": "markers",
           "showlegend": false,
           "text": [
            "ID: 4, Pos(0.57,1.03)"
           ],
           "type": "scatter",
           "x": [
            0.5660774610684457
           ],
           "y": [
            1.0299239058937633
           ]
          },
          {
           "hoverinfo": "text",
           "marker": {
            "opacity": 1,
            "size": 1
           },
           "mode": "markers",
           "showlegend": false,
           "text": [
            "ID: 5, Pos(1.49,2.62)"
           ],
           "type": "scatter",
           "x": [
            1.4897799117666262
           ],
           "y": [
            2.619139505823311
           ]
          },
          {
           "hoverinfo": "text",
           "marker": {
            "opacity": 1,
            "size": 1
           },
           "mode": "markers",
           "showlegend": false,
           "text": [
            "ID: 6, Pos(4.31,3.12)"
           ],
           "type": "scatter",
           "x": [
            4.307130106695696
           ],
           "y": [
            3.124936111419316
           ]
          },
          {
           "hoverinfo": "text",
           "marker": {
            "opacity": 1,
            "size": 1
           },
           "mode": "markers",
           "showlegend": false,
           "text": [
            "ID: 7, Pos(0.34,2.37)"
           ],
           "type": "scatter",
           "x": [
            0.33627585984131747
           ],
           "y": [
            2.371717759720354
           ]
          },
          {
           "hoverinfo": "text",
           "marker": {
            "opacity": 1,
            "size": 1
           },
           "mode": "markers",
           "showlegend": false,
           "text": [
            "ID: 8, Pos(5.15,1.89)"
           ],
           "type": "scatter",
           "x": [
            5.152595605514156
           ],
           "y": [
            1.887104570450947
           ]
          },
          {
           "hoverinfo": "text",
           "marker": {
            "opacity": 1,
            "size": 1
           },
           "mode": "markers",
           "showlegend": false,
           "text": [
            "ID: 9, Pos(3.58,1.76)"
           ],
           "type": "scatter",
           "x": [
            3.584010373972477
           ],
           "y": [
            1.7621644338756552
           ]
          },
          {
           "hoverinfo": "text",
           "marker": {
            "opacity": 1,
            "size": 1
           },
           "mode": "markers",
           "showlegend": false,
           "text": [
            "ID: 10, Pos(3.35,3.02)"
           ],
           "type": "scatter",
           "x": [
            3.3478135407649487
           ],
           "y": [
            3.022133938245345
           ]
          }
         ],
         "layout": {
          "shapes": [
           {
            "fillcolor": "rgba(0, 0, 128, 0.5)",
            "line": {
             "color": "rgba(0, 0, 128, 0.5)"
            },
            "type": "circle",
            "x0": 2.0258601101485003,
            "x1": 2.4258601101485007,
            "xref": "x",
            "y0": 2.8607555426706996,
            "y1": 3.2607555426707,
            "yref": "y"
           },
           {
            "fillcolor": "rgba(0, 125, 255, 0.5)",
            "line": {
             "color": "rgba(0, 125, 255, 0.5)"
            },
            "type": "circle",
            "x0": 0.9285438440771634,
            "x1": 1.3285438440771633,
            "xref": "x",
            "y0": 1.594686597707383,
            "y1": 1.9946865977073829,
            "yref": "y"
           },
           {
            "fillcolor": "rgba(0, 0, 187, 0.5)",
            "line": {
             "color": "rgba(0, 0, 187, 0.5)"
            },
            "type": "circle",
            "x0": 0.6967225498254692,
            "x1": 1.0967225498254691,
            "xref": "x",
            "y0": 3.121984195827705,
            "y1": 3.5219841958277054,
            "yref": "y"
           },
           {
            "fillcolor": "rgba(73, 255, 173, 0.5)",
            "line": {
             "color": "rgba(73, 255, 173, 0.5)"
            },
            "type": "circle",
            "x0": 0.3660774610684457,
            "x1": 0.7660774610684458,
            "xref": "x",
            "y0": 0.8299239058937633,
            "y1": 1.2299239058937632,
            "yref": "y"
           },
           {
            "fillcolor": "rgba(90, 255, 157, 0.5)",
            "line": {
             "color": "rgba(90, 255, 157, 0.5)"
            },
            "type": "circle",
            "x0": 1.2897799117666262,
            "x1": 1.6897799117666261,
            "xref": "x",
            "y0": 2.4191395058233107,
            "y1": 2.819139505823311,
            "yref": "y"
           },
           {
            "fillcolor": "rgba(0, 0, 146, 0.5)",
            "line": {
             "color": "rgba(0, 0, 146, 0.5)"
            },
            "type": "circle",
            "x0": 4.107130106695696,
            "x1": 4.507130106695696,
            "xref": "x",
            "y0": 2.9249361114193158,
            "y1": 3.324936111419316,
            "yref": "y"
           },
           {
            "fillcolor": "rgba(0, 0, 218, 0.5)",
            "line": {
             "color": "rgba(0, 0, 218, 0.5)"
            },
            "type": "circle",
            "x0": 0.13627585984131746,
            "x1": 0.5362758598413175,
            "xref": "x",
            "y0": 2.171717759720354,
            "y1": 2.571717759720354,
            "yref": "y"
           },
           {
            "fillcolor": "rgba(0, 173, 255, 0.5)",
            "line": {
             "color": "rgba(0, 173, 255, 0.5)"
            },
            "type": "circle",
            "x0": 4.952595605514156,
            "x1": 5.352595605514156,
            "xref": "x",
            "y0": 1.687104570450947,
            "y1": 2.087104570450947,
            "yref": "y"
           },
           {
            "fillcolor": "rgba(141, 255, 106, 0.5)",
            "line": {
             "color": "rgba(141, 255, 106, 0.5)"
            },
            "type": "circle",
            "x0": 3.384010373972477,
            "x1": 3.7840103739724773,
            "xref": "x",
            "y0": 1.5621644338756553,
            "y1": 1.9621644338756552,
            "yref": "y"
           },
           {
            "fillcolor": "rgba(0, 0, 228, 0.5)",
            "line": {
             "color": "rgba(0, 0, 228, 0.5)"
            },
            "type": "circle",
            "x0": 3.1478135407649486,
            "x1": 3.547813540764949,
            "xref": "x",
            "y0": 2.822133938245345,
            "y1": 3.2221339382453453,
            "yref": "y"
           },
           {
            "line": {
             "color": "white",
             "width": 3
            },
            "type": "line",
            "x0": 2.2258601101485005,
            "x1": 2.1701376376999173,
            "y0": 3.0607555426707,
            "y1": 3.2528362706582232
           },
           {
            "line": {
             "color": "white",
             "width": 3
            },
            "type": "line",
            "x0": 1.1285438440771633,
            "x1": 1.100397155774806,
            "y0": 1.794686597707383,
            "y1": 1.9926961023722094
           },
           {
            "line": {
             "color": "white",
             "width": 3
            },
            "type": "line",
            "x0": 0.8967225498254692,
            "x1": 0.8615880463557922,
            "y0": 3.321984195827705,
            "y1": 3.5188739280788797
           },
           {
            "line": {
             "color": "black",
             "width": 3
            },
            "type": "line",
            "x0": 0.5660774610684457,
            "x1": 0.5474966906403274,
            "y0": 1.0299239058937633,
            "y1": 1.2290589228302569
           },
           {
            "line": {
             "color": "black",
             "width": 3
            },
            "type": "line",
            "x0": 1.4897799117666262,
            "x1": 1.4394549408515853,
            "y0": 2.619139505823311,
            "y1": 2.8127044750259027
           },
           {
            "line": {
             "color": "white",
             "width": 3
            },
            "type": "line",
            "x0": 4.307130106695696,
            "x1": 4.192874650220016,
            "y0": 3.124936111419316,
            "y1": 3.289087537442772
           },
           {
            "line": {
             "color": "white",
             "width": 3
            },
            "type": "line",
            "x0": 0.33627585984131747,
            "x1": 0.32098300727188,
            "y0": 2.371717759720354,
            "y1": 2.5711322242415853
           },
           {
            "line": {
             "color": "black",
             "width": 3
            },
            "type": "line",
            "x0": 5.152595605514156,
            "x1": 5.035273633777168,
            "y0": 1.887104570450947,
            "y1": 2.049078503377654
           },
           {
            "line": {
             "color": "black",
             "width": 3
            },
            "type": "line",
            "x0": 3.584010373972477,
            "x1": 3.495176618664417,
            "y0": 1.7621644338756552,
            "y1": 1.9413530605177156
           },
           {
            "line": {
             "color": "white",
             "width": 3
            },
            "type": "line",
            "x0": 3.3478135407649487,
            "x1": 3.2465817821021044,
            "y0": 3.022133938245345,
            "y1": 3.1946219988119466
           }
          ],
          "title": {
           "text": "<b>Number of Agents: 10</b>",
           "x": 0.5
          }
         },
         "name": "30"
        },
        {
         "data": [
          {
           "hoverinfo": "name",
           "line": {
            "color": "grey"
           },
           "mode": "lines",
           "name": "Exterior",
           "showlegend": false,
           "type": "scatter",
           "x": [
            -10,
            -10,
            10,
            10,
            -10
           ],
           "y": [
            10,
            -10,
            -10,
            10,
            10
           ]
          },
          {
           "hoverinfo": "text",
           "marker": {
            "opacity": 1,
            "size": 1
           },
           "mode": "markers",
           "showlegend": false,
           "text": [
            "ID: 1, Pos(2.15,3.33)"
           ],
           "type": "scatter",
           "x": [
            2.145506048383351
           ],
           "y": [
            3.3258493594075573
           ]
          },
          {
           "hoverinfo": "text",
           "marker": {
            "opacity": 1,
            "size": 1
           },
           "mode": "markers",
           "showlegend": false,
           "text": [
            "ID: 2, Pos(1.09,2.02)"
           ],
           "type": "scatter",
           "x": [
            1.0926165060890443
           ],
           "y": [
            2.0242264879736918
           ]
          },
          {
           "hoverinfo": "text",
           "marker": {
            "opacity": 1,
            "size": 1
           },
           "mode": "markers",
           "showlegend": false,
           "text": [
            "ID: 3, Pos(0.85,3.58)"
           ],
           "type": "scatter",
           "x": [
            0.8520461592707946
           ],
           "y": [
            3.58498621621012
           ]
          },
          {
           "hoverinfo": "text",
           "marker": {
            "opacity": 1,
            "size": 1
           },
           "mode": "markers",
           "showlegend": false,
           "text": [
            "ID: 4, Pos(0.55,1.23)"
           ],
           "type": "scatter",
           "x": [
            0.5481698225293006
           ],
           "y": [
            1.227494952042861
           ]
          },
          {
           "hoverinfo": "text",
           "marker": {
            "opacity": 1,
            "size": 1
           },
           "mode": "markers",
           "showlegend": false,
           "text": [
            "ID: 5, Pos(1.44,2.81)"
           ],
           "type": "scatter",
           "x": [
            1.4435903076300132
           ],
           "y": [
            2.80857126420178
           ]
          },
          {
           "hoverinfo": "text",
           "marker": {
            "opacity": 1,
            "size": 1
           },
           "mode": "markers",
           "showlegend": false,
           "text": [
            "ID: 6, Pos(4.15,3.35)"
           ],
           "type": "scatter",
           "x": [
            4.1516417687868765
           ],
           "y": [
            3.3496982412867737
           ]
          },
          {
           "hoverinfo": "text",
           "marker": {
            "opacity": 1,
            "size": 1
           },
           "mode": "markers",
           "showlegend": false,
           "text": [
            "ID: 7, Pos(0.32,2.63)"
           ],
           "type": "scatter",
           "x": [
            0.3164635449181183
           ],
           "y": [
            2.632048331063571
           ]
          },
          {
           "hoverinfo": "text",
           "marker": {
            "opacity": 1,
            "size": 1
           },
           "mode": "markers",
           "showlegend": false,
           "text": [
            "ID: 8, Pos(5.02,2.07)"
           ],
           "type": "scatter",
           "x": [
            5.020846001853575
           ],
           "y": [
            2.0690035622202534
           ]
          },
          {
           "hoverinfo": "text",
           "marker": {
            "opacity": 1,
            "size": 1
           },
           "mode": "markers",
           "showlegend": false,
           "text": [
            "ID: 9, Pos(3.50,1.93)"
           ],
           "type": "scatter",
           "x": [
            3.5027057706648717
           ],
           "y": [
            1.9262103754465845
           ]
          },
          {
           "hoverinfo": "text",
           "marker": {
            "opacity": 1,
            "size": 1
           },
           "mode": "markers",
           "showlegend": false,
           "text": [
            "ID: 10, Pos(3.22,3.25)"
           ],
           "type": "scatter",
           "x": [
            3.2160497663852388
           ],
           "y": [
            3.2457482997676372
           ]
          }
         ],
         "layout": {
          "shapes": [
           {
            "fillcolor": "rgba(0, 0, 128, 0.5)",
            "line": {
             "color": "rgba(0, 0, 128, 0.5)"
            },
            "type": "circle",
            "x0": 1.9455060483833508,
            "x1": 2.345506048383351,
            "xref": "x",
            "y0": 3.125849359407557,
            "y1": 3.5258493594075575,
            "yref": "y"
           },
           {
            "fillcolor": "rgba(0, 88, 255, 0.5)",
            "line": {
             "color": "rgba(0, 88, 255, 0.5)"
            },
            "type": "circle",
            "x0": 0.8926165060890443,
            "x1": 1.2926165060890442,
            "xref": "x",
            "y0": 1.8242264879736918,
            "y1": 2.224226487973692,
            "yref": "y"
           },
           {
            "fillcolor": "rgba(0, 0, 187, 0.5)",
            "line": {
             "color": "rgba(0, 0, 187, 0.5)"
            },
            "type": "circle",
            "x0": 0.6520461592707947,
            "x1": 1.0520461592707946,
            "xref": "x",
            "y0": 3.3849862162101196,
            "y1": 3.78498621621012,
            "yref": "y"
           },
           {
            "fillcolor": "rgba(19, 252, 228, 0.5)",
            "line": {
             "color": "rgba(19, 252, 228, 0.5)"
            },
            "type": "circle",
            "x0": 0.34816982252930057,
            "x1": 0.7481698225293005,
            "xref": "x",
            "y0": 1.0274949520428611,
            "y1": 1.427494952042861,
            "yref": "y"
           },
           {
            "fillcolor": "rgba(19, 252, 228, 0.5)",
            "line": {
             "color": "rgba(19, 252, 228, 0.5)"
            },
            "type": "circle",
            "x0": 1.2435903076300132,
            "x1": 1.6435903076300131,
            "xref": "x",
            "y0": 2.60857126420178,
            "y1": 3.0085712642017803,
            "yref": "y"
           },
           {
            "fillcolor": "rgba(0, 0, 146, 0.5)",
            "line": {
             "color": "rgba(0, 0, 146, 0.5)"
            },
            "type": "circle",
            "x0": 3.9516417687868763,
            "x1": 4.351641768786877,
            "xref": "x",
            "y0": 3.1496982412867736,
            "y1": 3.549698241286774,
            "yref": "y"
           },
           {
            "fillcolor": "rgba(0, 0, 218, 0.5)",
            "line": {
             "color": "rgba(0, 0, 218, 0.5)"
            },
            "type": "circle",
            "x0": 0.11646354491811828,
            "x1": 0.5164635449181183,
            "xref": "x",
            "y0": 2.4320483310635708,
            "y1": 2.832048331063571,
            "yref": "y"
           },
           {
            "fillcolor": "rgba(0, 120, 255, 0.5)",
            "line": {
             "color": "rgba(0, 120, 255, 0.5)"
            },
            "type": "circle",
            "x0": 4.820846001853575,
            "x1": 5.220846001853575,
            "xref": "x",
            "y0": 1.8690035622202534,
            "y1": 2.2690035622202536,
            "yref": "y"
           },
           {
            "fillcolor": "rgba(83, 255, 164, 0.5)",
            "line": {
             "color": "rgba(83, 255, 164, 0.5)"
            },
            "type": "circle",
            "x0": 3.3027057706648715,
            "x1": 3.702705770664872,
            "xref": "x",
            "y0": 1.7262103754465845,
            "y1": 2.1262103754465844,
            "yref": "y"
           },
           {
            "fillcolor": "rgba(0, 0, 228, 0.5)",
            "line": {
             "color": "rgba(0, 0, 228, 0.5)"
            },
            "type": "circle",
            "x0": 3.0160497663852386,
            "x1": 3.416049766385239,
            "xref": "x",
            "y0": 3.045748299767637,
            "y1": 3.4457482997676374,
            "yref": "y"
           },
           {
            "line": {
             "color": "white",
             "width": 3
            },
            "type": "line",
            "x0": 2.145506048383351,
            "x1": 2.085971969150759,
            "y0": 3.3258493594075573,
            "y1": 3.516783100296714
           },
           {
            "line": {
             "color": "white",
             "width": 3
            },
            "type": "line",
            "x0": 1.0926165060890443,
            "x1": 1.0596563344004235,
            "y0": 2.0242264879736918,
            "y1": 2.2214918602067746
           },
           {
            "line": {
             "color": "white",
             "width": 3
            },
            "type": "line",
            "x0": 0.8520461592707946,
            "x1": 0.8194444512184657,
            "y0": 3.58498621621012,
            "y1": 3.782311147812973
           },
           {
            "line": {
             "color": "black",
             "width": 3
            },
            "type": "line",
            "x0": 0.5481698225293006,
            "x1": 0.5305066265835222,
            "y0": 1.227494952042861,
            "y1": 1.4267134539672082
           },
           {
            "line": {
             "color": "black",
             "width": 3
            },
            "type": "line",
            "x0": 1.4435903076300132,
            "x1": 1.3980584704652703,
            "y0": 2.80857126420178,
            "y1": 3.003319439557554
           },
           {
            "line": {
             "color": "white",
             "width": 3
            },
            "type": "line",
            "x0": 4.1516417687868765,
            "x1": 4.038303854603769,
            "y0": 3.3496982412867737,
            "y1": 3.514484518654225
           },
           {
            "line": {
             "color": "white",
             "width": 3
            },
            "type": "line",
            "x0": 0.3164635449181183,
            "x1": 0.3013357590780709,
            "y0": 2.632048331063571,
            "y1": 2.8314753856363586
           },
           {
            "line": {
             "color": "white",
             "width": 3
            },
            "type": "line",
            "x0": 5.020846001853575,
            "x1": 4.9035295003733985,
            "y0": 2.0690035622202534,
            "y1": 2.2309814572567426
           },
           {
            "line": {
             "color": "black",
             "width": 3
            },
            "type": "line",
            "x0": 3.5027057706648717,
            "x1": 3.4139028273392267,
            "y0": 1.9262103754465845,
            "y1": 2.105414273999887
           },
           {
            "line": {
             "color": "white",
             "width": 3
            },
            "type": "line",
            "x0": 3.2160497663852388,
            "x1": 3.1142524693108533,
            "y0": 3.2457482997676372,
            "y1": 3.4179032018423365
           }
          ],
          "title": {
           "text": "<b>Number of Agents: 10</b>",
           "x": 0.5
          }
         },
         "name": "35"
        },
        {
         "data": [
          {
           "hoverinfo": "name",
           "line": {
            "color": "grey"
           },
           "mode": "lines",
           "name": "Exterior",
           "showlegend": false,
           "type": "scatter",
           "x": [
            -10,
            -10,
            10,
            10,
            -10
           ],
           "y": [
            10,
            -10,
            -10,
            10,
            10
           ]
          },
          {
           "hoverinfo": "text",
           "marker": {
            "opacity": 1,
            "size": 1
           },
           "mode": "markers",
           "showlegend": false,
           "text": [
            "ID: 1, Pos(2.06,3.59)"
           ],
           "type": "scatter",
           "x": [
            2.0613432706999215
           ],
           "y": [
            3.5897612869337974
           ]
          },
          {
           "hoverinfo": "text",
           "marker": {
            "opacity": 1,
            "size": 1
           },
           "mode": "markers",
           "showlegend": false,
           "text": [
            "ID: 2, Pos(1.05,2.26)"
           ],
           "type": "scatter",
           "x": [
            1.051021634681232
           ],
           "y": [
            2.2591810601726134
           ]
          },
          {
           "hoverinfo": "text",
           "marker": {
            "opacity": 1,
            "size": 1
           },
           "mode": "markers",
           "showlegend": false,
           "text": [
            "ID: 3, Pos(0.81,3.85)"
           ],
           "type": "scatter",
           "x": [
            0.8092768574703827
           ],
           "y": [
            3.8483063328678386
           ]
          },
          {
           "hoverinfo": "text",
           "marker": {
            "opacity": 1,
            "size": 1
           },
           "mode": "markers",
           "showlegend": false,
           "text": [
            "ID: 4, Pos(0.53,1.44)"
           ],
           "type": "scatter",
           "x": [
            0.5299792546813161
           ],
           "y": [
            1.4364247373995445
           ]
          },
          {
           "hoverinfo": "text",
           "marker": {
            "opacity": 1,
            "size": 1
           },
           "mode": "markers",
           "showlegend": false,
           "text": [
            "ID: 5, Pos(1.40,3.02)"
           ],
           "type": "scatter",
           "x": [
            1.39701259442525
           ],
           "y": [
            3.0174835912119398
           ]
          },
          {
           "hoverinfo": "text",
           "marker": {
            "opacity": 1,
            "size": 1
           },
           "mode": "markers",
           "showlegend": false,
           "text": [
            "ID: 6, Pos(4.00,3.58)"
           ],
           "type": "scatter",
           "x": [
            3.9974931995093614
           ],
           "y": [
            3.5753812204053657
           ]
          },
          {
           "hoverinfo": "text",
           "marker": {
            "opacity": 1,
            "size": 1
           },
           "mode": "markers",
           "showlegend": false,
           "text": [
            "ID: 7, Pos(0.30,2.89)"
           ],
           "type": "scatter",
           "x": [
            0.2966589995057954
           ],
           "y": [
            2.8923794959292413
           ]
          },
          {
           "hoverinfo": "text",
           "marker": {
            "opacity": 1,
            "size": 1
           },
           "mode": "markers",
           "showlegend": false,
           "text": [
            "ID: 8, Pos(4.88,2.26)"
           ],
           "type": "scatter",
           "x": [
            4.883891360383626
           ],
           "y": [
            2.258106042104372
           ]
          },
          {
           "hoverinfo": "text",
           "marker": {
            "opacity": 1,
            "size": 1
           },
           "mode": "markers",
           "showlegend": false,
           "text": [
            "ID: 9, Pos(3.42,2.10)"
           ],
           "type": "scatter",
           "x": [
            3.415841200626684
           ],
           "y": [
            2.10151381970758
           ]
          },
          {
           "hoverinfo": "text",
           "marker": {
            "opacity": 1,
            "size": 1
           },
           "mode": "markers",
           "showlegend": false,
           "text": [
            "ID: 10, Pos(3.08,3.47)"
           ],
           "type": "scatter",
           "x": [
            3.083597453261673
           ],
           "y": [
            3.468955544199254
           ]
          }
         ],
         "layout": {
          "shapes": [
           {
            "fillcolor": "rgba(0, 0, 128, 0.5)",
            "line": {
             "color": "rgba(0, 0, 128, 0.5)"
            },
            "type": "circle",
            "x0": 1.8613432706999216,
            "x1": 2.2613432706999217,
            "xref": "x",
            "y0": 3.389761286933797,
            "y1": 3.7897612869337975,
            "yref": "y"
           },
           {
            "fillcolor": "rgba(0, 61, 255, 0.5)",
            "line": {
             "color": "rgba(0, 61, 255, 0.5)"
            },
            "type": "circle",
            "x0": 0.851021634681232,
            "x1": 1.251021634681232,
            "xref": "x",
            "y0": 2.0591810601726133,
            "y1": 2.4591810601726136,
            "yref": "y"
           },
           {
            "fillcolor": "rgba(0, 0, 187, 0.5)",
            "line": {
             "color": "rgba(0, 0, 187, 0.5)"
            },
            "type": "circle",
            "x0": 0.6092768574703826,
            "x1": 1.0092768574703828,
            "xref": "x",
            "y0": 3.6483063328678385,
            "y1": 4.048306332867838,
            "yref": "y"
           },
           {
            "fillcolor": "rgba(0, 200, 255, 0.5)",
            "line": {
             "color": "rgba(0, 200, 255, 0.5)"
            },
            "type": "circle",
            "x0": 0.3299792546813161,
            "x1": 0.7299792546813162,
            "xref": "x",
            "y0": 1.2364247373995445,
            "y1": 1.6364247373995444,
            "yref": "y"
           },
           {
            "fillcolor": "rgba(0, 176, 255, 0.5)",
            "line": {
             "color": "rgba(0, 176, 255, 0.5)"
            },
            "type": "circle",
            "x0": 1.19701259442525,
            "x1": 1.59701259442525,
            "xref": "x",
            "y0": 2.8174835912119396,
            "y1": 3.21748359121194,
            "yref": "y"
           },
           {
            "fillcolor": "rgba(0, 0, 146, 0.5)",
            "line": {
             "color": "rgba(0, 0, 146, 0.5)"
            },
            "type": "circle",
            "x0": 3.7974931995093613,
            "x1": 4.197493199509362,
            "xref": "x",
            "y0": 3.3753812204053655,
            "y1": 3.775381220405366,
            "yref": "y"
           },
           {
            "fillcolor": "rgba(0, 0, 218, 0.5)",
            "line": {
             "color": "rgba(0, 0, 218, 0.5)"
            },
            "type": "circle",
            "x0": 0.09665899950579537,
            "x1": 0.4966589995057954,
            "xref": "x",
            "y0": 2.692379495929241,
            "y1": 3.0923794959292414,
            "yref": "y"
           },
           {
            "fillcolor": "rgba(0, 80, 255, 0.5)",
            "line": {
             "color": "rgba(0, 80, 255, 0.5)"
            },
            "type": "circle",
            "x0": 4.683891360383626,
            "x1": 5.083891360383626,
            "xref": "x",
            "y0": 2.058106042104372,
            "y1": 2.4581060421043723,
            "yref": "y"
           },
           {
            "fillcolor": "rgba(31, 255, 215, 0.5)",
            "line": {
             "color": "rgba(31, 255, 215, 0.5)"
            },
            "type": "circle",
            "x0": 3.215841200626684,
            "x1": 3.6158412006266842,
            "xref": "x",
            "y0": 1.9015138197075803,
            "y1": 2.3015138197075804,
            "yref": "y"
           },
           {
            "fillcolor": "rgba(0, 0, 228, 0.5)",
            "line": {
             "color": "rgba(0, 0, 228, 0.5)"
            },
            "type": "circle",
            "x0": 2.8835974532616726,
            "x1": 3.283597453261673,
            "xref": "x",
            "y0": 3.2689555441992537,
            "y1": 3.668955544199254,
            "yref": "y"
           },
           {
            "line": {
             "color": "white",
             "width": 3
            },
            "type": "line",
            "x0": 2.0613432706999215,
            "x1": 1.9995882949466188,
            "y0": 3.5897612869337974,
            "y1": 3.779988317004997
           },
           {
            "line": {
             "color": "white",
             "width": 3
            },
            "type": "line",
            "x0": 1.051021634681232,
            "x1": 1.014588784070636,
            "y0": 2.2591810601726134,
            "y1": 2.4558346830641993
           },
           {
            "line": {
             "color": "white",
             "width": 3
            },
            "type": "line",
            "x0": 0.8092768574703827,
            "x1": 0.7775864843216772,
            "y0": 3.8483063328678386,
            "y1": 4.045779673472833
           },
           {
            "line": {
             "color": "black",
             "width": 3
            },
            "type": "line",
            "x0": 0.5299792546813161,
            "x1": 0.512871746763882,
            "y0": 1.4364247373995445,
            "y1": 1.6356917270713285
           },
           {
            "line": {
             "color": "black",
             "width": 3
            },
            "type": "line",
            "x0": 1.39701259442525,
            "x1": 1.3548961009206657,
            "y0": 3.0174835912119398,
            "y1": 3.212998810504143
           },
           {
            "line": {
             "color": "white",
             "width": 3
            },
            "type": "line",
            "x0": 3.9974931995093614,
            "x1": 3.885188544710779,
            "y0": 3.5753812204053657,
            "y1": 3.740873409074714
           },
           {
            "line": {
             "color": "white",
             "width": 3
            },
            "type": "line",
            "x0": 0.2966589995057954,
            "x1": 0.28141205404161745,
            "y0": 2.8923794959292413,
            "y1": 3.0917974756953908
           },
           {
            "line": {
             "color": "white",
             "width": 3
            },
            "type": "line",
            "x0": 4.883891360383626,
            "x1": 4.766583486849423,
            "y0": 2.258106042104372,
            "y1": 2.4200901857940655
           },
           {
            "line": {
             "color": "black",
             "width": 3
            },
            "type": "line",
            "x0": 3.415841200626684,
            "x1": 3.3270441835006848,
            "y0": 2.10151381970758,
            "y1": 2.2807206548158567
           },
           {
            "line": {
             "color": "white",
             "width": 3
            },
            "type": "line",
            "x0": 3.083597453261673,
            "x1": 2.981306836106382,
            "y0": 3.468955544199254,
            "y1": 3.6408177845023224
           }
          ],
          "title": {
           "text": "<b>Number of Agents: 10</b>",
           "x": 0.5
          }
         },
         "name": "40"
        },
        {
         "data": [
          {
           "hoverinfo": "name",
           "line": {
            "color": "grey"
           },
           "mode": "lines",
           "name": "Exterior",
           "showlegend": false,
           "type": "scatter",
           "x": [
            -10,
            -10,
            10,
            10,
            -10
           ],
           "y": [
            10,
            -10,
            -10,
            10,
            10
           ]
          },
          {
           "hoverinfo": "text",
           "marker": {
            "opacity": 1,
            "size": 1
           },
           "mode": "markers",
           "showlegend": false,
           "text": [
            "ID: 1, Pos(1.97,3.85)"
           ],
           "type": "scatter",
           "x": [
            1.9744980394127098
           ],
           "y": [
            3.852803320874115
           ]
          },
          {
           "hoverinfo": "text",
           "marker": {
            "opacity": 1,
            "size": 1
           },
           "mode": "markers",
           "showlegend": false,
           "text": [
            "ID: 2, Pos(1.00,2.50)"
           ],
           "type": "scatter",
           "x": [
            1.004706771264983
           ],
           "y": [
            2.498500387237577
           ]
          },
          {
           "hoverinfo": "text",
           "marker": {
            "opacity": 1,
            "size": 1
           },
           "mode": "markers",
           "showlegend": false,
           "text": [
            "ID: 3, Pos(0.77,4.11)"
           ],
           "type": "scatter",
           "x": [
            0.7673454290138482
           ],
           "y": [
            4.111761352416969
           ]
          },
          {
           "hoverinfo": "text",
           "marker": {
            "opacity": 1,
            "size": 1
           },
           "mode": "markers",
           "showlegend": false,
           "text": [
            "ID: 4, Pos(0.51,1.65)"
           ],
           "type": "scatter",
           "x": [
            0.5114623978289532
           ],
           "y": [
            1.6546563170516135
           ]
          },
          {
           "hoverinfo": "text",
           "marker": {
            "opacity": 1,
            "size": 1
           },
           "mode": "markers",
           "showlegend": false,
           "text": [
            "ID: 5, Pos(1.35,3.24)"
           ],
           "type": "scatter",
           "x": [
            1.3517448234701201
           ],
           "y": [
            3.2365106300992177
           ]
          },
          {
           "hoverinfo": "text",
           "marker": {
            "opacity": 1,
            "size": 1
           },
           "mode": "markers",
           "showlegend": false,
           "text": [
            "ID: 6, Pos(3.84,3.80)"
           ],
           "type": "scatter",
           "x": [
            3.844820846607207
           ],
           "y": [
            3.802065368680372
           ]
          },
          {
           "hoverinfo": "text",
           "marker": {
            "opacity": 1,
            "size": 1
           },
           "mode": "markers",
           "showlegend": false,
           "text": [
            "ID: 7, Pos(0.28,3.15)"
           ],
           "type": "scatter",
           "x": [
            0.27655764680975303
           ],
           "y": [
            3.15268788738255
           ]
          },
          {
           "hoverinfo": "text",
           "marker": {
            "opacity": 1,
            "size": 1
           },
           "mode": "markers",
           "showlegend": false,
           "text": [
            "ID: 8, Pos(4.74,2.45)"
           ],
           "type": "scatter",
           "x": [
            4.742682490713205
           ],
           "y": [
            2.453110882773913
           ]
          },
          {
           "hoverinfo": "text",
           "marker": {
            "opacity": 1,
            "size": 1
           },
           "mode": "markers",
           "showlegend": false,
           "text": [
            "ID: 9, Pos(3.32,2.29)"
           ],
           "type": "scatter",
           "x": [
            3.324340379415132
           ],
           "y": [
            2.2861686366179708
           ]
          },
          {
           "hoverinfo": "text",
           "marker": {
            "opacity": 1,
            "size": 1
           },
           "mode": "markers",
           "showlegend": false,
           "text": [
            "ID: 10, Pos(2.95,3.69)"
           ],
           "type": "scatter",
           "x": [
            2.950575796875004
           ],
           "y": [
            3.6918239950237255
           ]
          }
         ],
         "layout": {
          "shapes": [
           {
            "fillcolor": "rgba(0, 0, 128, 0.5)",
            "line": {
             "color": "rgba(0, 0, 128, 0.5)"
            },
            "type": "circle",
            "x0": 1.77449803941271,
            "x1": 2.17449803941271,
            "xref": "x",
            "y0": 3.652803320874115,
            "y1": 4.052803320874115,
            "yref": "y"
           },
           {
            "fillcolor": "rgba(0, 32, 255, 0.5)",
            "line": {
             "color": "rgba(0, 32, 255, 0.5)"
            },
            "type": "circle",
            "x0": 0.8047067712649831,
            "x1": 1.204706771264983,
            "xref": "x",
            "y0": 2.298500387237577,
            "y1": 2.6985003872375772,
            "yref": "y"
           },
           {
            "fillcolor": "rgba(0, 0, 187, 0.5)",
            "line": {
             "color": "rgba(0, 0, 187, 0.5)"
            },
            "type": "circle",
            "x0": 0.5673454290138482,
            "x1": 0.9673454290138481,
            "xref": "x",
            "y0": 3.9117613524169688,
            "y1": 4.311761352416969,
            "yref": "y"
           },
           {
            "fillcolor": "rgba(0, 156, 255, 0.5)",
            "line": {
             "color": "rgba(0, 156, 255, 0.5)"
            },
            "type": "circle",
            "x0": 0.3114623978289532,
            "x1": 0.7114623978289532,
            "xref": "x",
            "y0": 1.4546563170516136,
            "y1": 1.8546563170516135,
            "yref": "y"
           },
           {
            "fillcolor": "rgba(0, 128, 255, 0.5)",
            "line": {
             "color": "rgba(0, 128, 255, 0.5)"
            },
            "type": "circle",
            "x0": 1.1517448234701202,
            "x1": 1.55174482347012,
            "xref": "x",
            "y0": 3.0365106300992175,
            "y1": 3.436510630099218,
            "yref": "y"
           },
           {
            "fillcolor": "rgba(0, 0, 146, 0.5)",
            "line": {
             "color": "rgba(0, 0, 146, 0.5)"
            },
            "type": "circle",
            "x0": 3.6448208466072067,
            "x1": 4.044820846607207,
            "xref": "x",
            "y0": 3.6020653686803716,
            "y1": 4.0020653686803715,
            "yref": "y"
           },
           {
            "fillcolor": "rgba(0, 0, 218, 0.5)",
            "line": {
             "color": "rgba(0, 0, 218, 0.5)"
            },
            "type": "circle",
            "x0": 0.07655764680975302,
            "x1": 0.47655764680975304,
            "xref": "x",
            "y0": 2.9526878873825497,
            "y1": 3.35268788738255,
            "yref": "y"
           },
           {
            "fillcolor": "rgba(0, 45, 255, 0.5)",
            "line": {
             "color": "rgba(0, 45, 255, 0.5)"
            },
            "type": "circle",
            "x0": 4.542682490713204,
            "x1": 4.942682490713205,
            "xref": "x",
            "y0": 2.253110882773913,
            "y1": 2.6531108827739134,
            "yref": "y"
           },
           {
            "fillcolor": "rgba(0, 220, 254, 0.5)",
            "line": {
             "color": "rgba(0, 220, 254, 0.5)"
            },
            "type": "circle",
            "x0": 3.124340379415132,
            "x1": 3.5243403794151322,
            "xref": "x",
            "y0": 2.0861686366179706,
            "y1": 2.486168636617971,
            "yref": "y"
           },
           {
            "fillcolor": "rgba(0, 0, 228, 0.5)",
            "line": {
             "color": "rgba(0, 0, 228, 0.5)"
            },
            "type": "circle",
            "x0": 2.7505757968750038,
            "x1": 3.150575796875004,
            "xref": "x",
            "y0": 3.4918239950237253,
            "y1": 3.8918239950237257,
            "yref": "y"
           },
           {
            "line": {
             "color": "white",
             "width": 3
            },
            "type": "line",
            "x0": 1.9744980394127098,
            "x1": 1.9110150837850213,
            "y0": 3.852803320874115,
            "y1": 4.0424606812500645
           },
           {
            "line": {
             "color": "white",
             "width": 3
            },
            "type": "line",
            "x0": 1.004706771264983,
            "x1": 0.9654573597847411,
            "y0": 2.498500387237577,
            "y1": 2.694611283667262
           },
           {
            "line": {
             "color": "white",
             "width": 3
            },
            "type": "line",
            "x0": 0.7673454290138482,
            "x1": 0.7360792884929778,
            "y0": 4.111761352416969,
            "y1": 4.309302306289651
           },
           {
            "line": {
             "color": "white",
             "width": 3
            },
            "type": "line",
            "x0": 0.5114623978289532,
            "x1": 0.4947064462786068,
            "y0": 1.6546563170516135,
            "y1": 1.853953176253264
           },
           {
            "line": {
             "color": "white",
             "width": 3
            },
            "type": "line",
            "x0": 1.3517448234701201,
            "x1": 1.3123622222941664,
            "y0": 3.2365106300992177,
            "y1": 3.432594823048613
           },
           {
            "line": {
             "color": "white",
             "width": 3
            },
            "type": "line",
            "x0": 3.844820846607207,
            "x1": 3.7336329611956396,
            "y0": 3.802065368680372,
            "y1": 3.968309929907812
           },
           {
            "line": {
             "color": "white",
             "width": 3
            },
            "type": "line",
            "x0": 0.27655764680975303,
            "x1": 0.26099527192416333,
            "y0": 3.15268788738255,
            "y1": 3.352081499336194
           },
           {
            "line": {
             "color": "white",
             "width": 3
            },
            "type": "line",
            "x0": 4.742682490713205,
            "x1": 4.625388440396471,
            "y0": 2.453110882773913,
            "y1": 2.6151050362495734
           },
           {
            "line": {
             "color": "black",
             "width": 3
            },
            "type": "line",
            "x0": 3.324340379415132,
            "x1": 3.2355349697943803,
            "y0": 2.2861686366179708,
            "y1": 2.4653713129989066
           },
           {
            "line": {
             "color": "white",
             "width": 3
            },
            "type": "line",
            "x0": 2.950575796875004,
            "x1": 2.8479018723265184,
            "y0": 3.6918239950237255,
            "y1": 3.8634575151117665
           }
          ],
          "title": {
           "text": "<b>Number of Agents: 10</b>",
           "x": 0.5
          }
         },
         "name": "45"
        },
        {
         "data": [
          {
           "hoverinfo": "name",
           "line": {
            "color": "grey"
           },
           "mode": "lines",
           "name": "Exterior",
           "showlegend": false,
           "type": "scatter",
           "x": [
            -10,
            -10,
            10,
            10,
            -10
           ],
           "y": [
            10,
            -10,
            -10,
            10,
            10
           ]
          },
          {
           "hoverinfo": "text",
           "marker": {
            "opacity": 1,
            "size": 1
           },
           "mode": "markers",
           "showlegend": false,
           "text": [
            "ID: 1, Pos(1.89,4.12)"
           ],
           "type": "scatter",
           "x": [
            1.8855191327597927
           ],
           "y": [
            4.115131589368883
           ]
          },
          {
           "hoverinfo": "text",
           "marker": {
            "opacity": 1,
            "size": 1
           },
           "mode": "markers",
           "showlegend": false,
           "text": [
            "ID: 2, Pos(0.95,2.74)"
           ],
           "type": "scatter",
           "x": [
            0.954653124212978
           ],
           "y": [
            2.741404926389786
           ]
          },
          {
           "hoverinfo": "text",
           "marker": {
            "opacity": 1,
            "size": 1
           },
           "mode": "markers",
           "showlegend": false,
           "text": [
            "ID: 3, Pos(0.73,4.38)"
           ],
           "type": "scatter",
           "x": [
            0.7257582018411304
           ],
           "y": [
            4.37527096982896
           ]
          },
          {
           "hoverinfo": "text",
           "marker": {
            "opacity": 1,
            "size": 1
           },
           "mode": "markers",
           "showlegend": false,
           "text": [
            "ID: 4, Pos(0.49,1.88)"
           ],
           "type": "scatter",
           "x": [
            0.4926227796927803
           ],
           "y": [
            1.8805088957991065
           ]
          },
          {
           "hoverinfo": "text",
           "marker": {
            "opacity": 1,
            "size": 1
           },
           "mode": "markers",
           "showlegend": false,
           "text": [
            "ID: 5, Pos(1.31,3.46)"
           ],
           "type": "scatter",
           "x": [
            1.3073686363049049
           ],
           "y": [
            3.464407467135125
           ]
          },
          {
           "hoverinfo": "text",
           "marker": {
            "opacity": 1,
            "size": 1
           },
           "mode": "markers",
           "showlegend": false,
           "text": [
            "ID: 6, Pos(3.69,4.03)"
           ],
           "type": "scatter",
           "x": [
            3.6937094582640038
           ],
           "y": [
            4.02979301463196
           ]
          },
          {
           "hoverinfo": "text",
           "marker": {
            "opacity": 1,
            "size": 1
           },
           "mode": "markers",
           "showlegend": false,
           "text": [
            "ID: 7, Pos(0.26,3.41)"
           ],
           "type": "scatter",
           "x": [
            0.25593931625091026
           ],
           "y": [
            3.4129558092006205
           ]
          },
          {
           "hoverinfo": "text",
           "marker": {
            "opacity": 1,
            "size": 1
           },
           "mode": "markers",
           "showlegend": false,
           "text": [
            "ID: 8, Pos(4.60,2.65)"
           ],
           "type": "scatter",
           "x": [
            4.598000136594411
           ],
           "y": [
            2.652958998969338
           ]
          },
          {
           "hoverinfo": "text",
           "marker": {
            "opacity": 1,
            "size": 1
           },
           "mode": "markers",
           "showlegend": false,
           "text": [
            "ID: 9, Pos(3.23,2.48)"
           ],
           "type": "scatter",
           "x": [
            3.2289742419929977
           ],
           "y": [
            2.4785824445999918
           ]
          },
          {
           "hoverinfo": "text",
           "marker": {
            "opacity": 1,
            "size": 1
           },
           "mode": "markers",
           "showlegend": false,
           "text": [
            "ID: 10, Pos(2.82,3.91)"
           ],
           "type": "scatter",
           "x": [
            2.81714965268128
           ],
           "y": [
            3.914450561286805
           ]
          }
         ],
         "layout": {
          "shapes": [
           {
            "fillcolor": "rgba(0, 0, 128, 0.5)",
            "line": {
             "color": "rgba(0, 0, 128, 0.5)"
            },
            "type": "circle",
            "x0": 1.6855191327597927,
            "x1": 2.0855191327597926,
            "xref": "x",
            "y0": 3.915131589368883,
            "y1": 4.3151315893688835,
            "yref": "y"
           },
           {
            "fillcolor": "rgba(0, 13, 255, 0.5)",
            "line": {
             "color": "rgba(0, 13, 255, 0.5)"
            },
            "type": "circle",
            "x0": 0.7546531242129779,
            "x1": 1.154653124212978,
            "xref": "x",
            "y0": 2.5414049263897858,
            "y1": 2.941404926389786,
            "yref": "y"
           },
           {
            "fillcolor": "rgba(0, 0, 187, 0.5)",
            "line": {
             "color": "rgba(0, 0, 187, 0.5)"
            },
            "type": "circle",
            "x0": 0.5257582018411304,
            "x1": 0.9257582018411303,
            "xref": "x",
            "y0": 4.17527096982896,
            "y1": 4.57527096982896,
            "yref": "y"
           },
           {
            "fillcolor": "rgba(0, 120, 255, 0.5)",
            "line": {
             "color": "rgba(0, 120, 255, 0.5)"
            },
            "type": "circle",
            "x0": 0.2926227796927803,
            "x1": 0.6926227796927803,
            "xref": "x",
            "y0": 1.6805088957991066,
            "y1": 2.0805088957991065,
            "yref": "y"
           },
           {
            "fillcolor": "rgba(0, 101, 255, 0.5)",
            "line": {
             "color": "rgba(0, 101, 255, 0.5)"
            },
            "type": "circle",
            "x0": 1.107368636304905,
            "x1": 1.5073686363049048,
            "xref": "x",
            "y0": 3.2644074671351246,
            "y1": 3.664407467135125,
            "yref": "y"
           },
           {
            "fillcolor": "rgba(0, 0, 146, 0.5)",
            "line": {
             "color": "rgba(0, 0, 146, 0.5)"
            },
            "type": "circle",
            "x0": 3.4937094582640036,
            "x1": 3.893709458264004,
            "xref": "x",
            "y0": 3.82979301463196,
            "y1": 4.2297930146319604,
            "yref": "y"
           },
           {
            "fillcolor": "rgba(0, 0, 218, 0.5)",
            "line": {
             "color": "rgba(0, 0, 218, 0.5)"
            },
            "type": "circle",
            "x0": 0.055939316250910254,
            "x1": 0.4559393162509103,
            "xref": "x",
            "y0": 3.2129558092006203,
            "y1": 3.6129558092006206,
            "yref": "y"
           },
           {
            "fillcolor": "rgba(0, 16, 255, 0.5)",
            "line": {
             "color": "rgba(0, 16, 255, 0.5)"
            },
            "type": "circle",
            "x0": 4.398000136594411,
            "x1": 4.798000136594411,
            "xref": "x",
            "y0": 2.4529589989693377,
            "y1": 2.852958998969338,
            "yref": "y"
           },
           {
            "fillcolor": "rgba(0, 176, 255, 0.5)",
            "line": {
             "color": "rgba(0, 176, 255, 0.5)"
            },
            "type": "circle",
            "x0": 3.0289742419929975,
            "x1": 3.428974241992998,
            "xref": "x",
            "y0": 2.2785824445999916,
            "y1": 2.678582444599992,
            "yref": "y"
           },
           {
            "fillcolor": "rgba(0, 0, 228, 0.5)",
            "line": {
             "color": "rgba(0, 0, 228, 0.5)"
            },
            "type": "circle",
            "x0": 2.6171496526812796,
            "x1": 3.01714965268128,
            "xref": "x",
            "y0": 3.714450561286805,
            "y1": 4.114450561286805,
            "yref": "y"
           },
           {
            "line": {
             "color": "white",
             "width": 3
            },
            "type": "line",
            "x0": 1.8855191327597927,
            "x1": 1.8206808528008156,
            "y0": 4.115131589368883,
            "y1": 4.304329891295622
           },
           {
            "line": {
             "color": "white",
             "width": 3
            },
            "type": "line",
            "x0": 0.954653124212978,
            "x1": 0.9135486900708095,
            "y0": 2.741404926389786,
            "y1": 2.9371354183777543
           },
           {
            "line": {
             "color": "white",
             "width": 3
            },
            "type": "line",
            "x0": 0.7257582018411304,
            "x1": 0.6946154074436499,
            "y0": 4.37527096982896,
            "y1": 4.5728314070554354
           },
           {
            "line": {
             "color": "white",
             "width": 3
            },
            "type": "line",
            "x0": 0.4926227796927803,
            "x1": 0.4761009248342255,
            "y0": 1.8805088957991065,
            "y1": 2.0798252983153893
           },
           {
            "line": {
             "color": "white",
             "width": 3
            },
            "type": "line",
            "x0": 1.3073686363049049,
            "x1": 1.2697483603767479,
            "y0": 3.464407467135125,
            "y1": 3.660837390616985
           },
           {
            "line": {
             "color": "white",
             "width": 3
            },
            "type": "line",
            "x0": 3.6937094582640038,
            "x1": 3.5836798319023475,
            "y0": 4.02979301463196,
            "y1": 4.196806431226898
           },
           {
            "line": {
             "color": "white",
             "width": 3
            },
            "type": "line",
            "x0": 0.25593931625091026,
            "x1": 0.2399123136732309,
            "y0": 3.4129558092006205,
            "y1": 3.612312612917913
           },
           {
            "line": {
             "color": "white",
             "width": 3
            },
            "type": "line",
            "x0": 4.598000136594411,
            "x1": 4.480728306145456,
            "y0": 2.652958998969338,
            "y1": 2.8149692387171745
           },
           {
            "line": {
             "color": "black",
             "width": 3
            },
            "type": "line",
            "x0": 3.2289742419929977,
            "x1": 3.1401469011548033,
            "y0": 2.4785824445999918,
            "y1": 2.657774251108033
           },
           {
            "line": {
             "color": "white",
             "width": 3
            },
            "type": "line",
            "x0": 2.81714965268128,
            "x1": 2.7142314641093357,
            "y0": 3.914450561286805,
            "y1": 4.0859377225003195
           }
          ],
          "title": {
           "text": "<b>Number of Agents: 10</b>",
           "x": 0.5
          }
         },
         "name": "50"
        },
        {
         "data": [
          {
           "hoverinfo": "name",
           "line": {
            "color": "grey"
           },
           "mode": "lines",
           "name": "Exterior",
           "showlegend": false,
           "type": "scatter",
           "x": [
            -10,
            -10,
            10,
            10,
            -10
           ],
           "y": [
            10,
            -10,
            -10,
            10,
            10
           ]
          },
          {
           "hoverinfo": "text",
           "marker": {
            "opacity": 1,
            "size": 1
           },
           "mode": "markers",
           "showlegend": false,
           "text": [
            "ID: 1, Pos(1.79,4.38)"
           ],
           "type": "scatter",
           "x": [
            1.794621242254355
           ],
           "y": [
            4.376801123973608
           ]
          },
          {
           "hoverinfo": "text",
           "marker": {
            "opacity": 1,
            "size": 1
           },
           "mode": "markers",
           "showlegend": false,
           "text": [
            "ID: 2, Pos(0.90,2.99)"
           ],
           "type": "scatter",
           "x": [
            0.9016408466756606
           ],
           "y": [
            2.987280676607146
           ]
          },
          {
           "hoverinfo": "text",
           "marker": {
            "opacity": 1,
            "size": 1
           },
           "mode": "markers",
           "showlegend": false,
           "text": [
            "ID: 3, Pos(0.68,4.64)"
           ],
           "type": "scatter",
           "x": [
            0.6841858896945925
           ],
           "y": [
            4.638782942135394
           ]
          },
          {
           "hoverinfo": "text",
           "marker": {
            "opacity": 1,
            "size": 1
           },
           "mode": "markers",
           "showlegend": false,
           "text": [
            "ID: 4, Pos(0.47,2.11)"
           ],
           "type": "scatter",
           "x": [
            0.4734924301190465
           ],
           "y": [
            2.112608726886844
           ]
          },
          {
           "hoverinfo": "text",
           "marker": {
            "opacity": 1,
            "size": 1
           },
           "mode": "markers",
           "showlegend": false,
           "text": [
            "ID: 5, Pos(1.26,3.69)"
           ],
           "type": "scatter",
           "x": [
            1.264836748719741
           ],
           "y": [
            3.694091663464535
           ]
          },
          {
           "hoverinfo": "text",
           "marker": {
            "opacity": 1,
            "size": 1
           },
           "mode": "markers",
           "showlegend": false,
           "text": [
            "ID: 6, Pos(3.54,4.26)"
           ],
           "type": "scatter",
           "x": [
            3.544182720241833
           ],
           "y": [
            4.258564282241277
           ]
          },
          {
           "hoverinfo": "text",
           "marker": {
            "opacity": 1,
            "size": 1
           },
           "mode": "markers",
           "showlegend": false,
           "text": [
            "ID: 7, Pos(0.23,3.67)"
           ],
           "type": "scatter",
           "x": [
            0.23464572781445361
           ],
           "y": [
            3.673169328479632
           ]
          },
          {
           "hoverinfo": "text",
           "marker": {
            "opacity": 1,
            "size": 1
           },
           "mode": "markers",
           "showlegend": false,
           "text": [
            "ID: 8, Pos(4.45,2.86)"
           ],
           "type": "scatter",
           "x": [
            4.4504880917849405
           ],
           "y": [
            2.8567919563398285
           ]
          },
          {
           "hoverinfo": "text",
           "marker": {
            "opacity": 1,
            "size": 1
           },
           "mode": "markers",
           "showlegend": false,
           "text": [
            "ID: 9, Pos(3.13,2.68)"
           ],
           "type": "scatter",
           "x": [
            3.130376018323426
           ],
           "y": [
            2.677431686326308
           ]
          },
          {
           "hoverinfo": "text",
           "marker": {
            "opacity": 1,
            "size": 1
           },
           "mode": "markers",
           "showlegend": false,
           "text": [
            "ID: 10, Pos(2.68,4.14)"
           ],
           "type": "scatter",
           "x": [
            2.6835009570463506
           ],
           "y": [
            4.136943614987176
           ]
          }
         ],
         "layout": {
          "shapes": [
           {
            "fillcolor": "rgba(0, 0, 128, 0.5)",
            "line": {
             "color": "rgba(0, 0, 128, 0.5)"
            },
            "type": "circle",
            "x0": 1.594621242254355,
            "x1": 1.994621242254355,
            "xref": "x",
            "y0": 4.176801123973608,
            "y1": 4.576801123973608,
            "yref": "y"
           },
           {
            "fillcolor": "rgba(0, 0, 255, 0.5)",
            "line": {
             "color": "rgba(0, 0, 255, 0.5)"
            },
            "type": "circle",
            "x0": 0.7016408466756605,
            "x1": 1.1016408466756606,
            "xref": "x",
            "y0": 2.787280676607146,
            "y1": 3.187280676607146,
            "yref": "y"
           },
           {
            "fillcolor": "rgba(0, 0, 187, 0.5)",
            "line": {
             "color": "rgba(0, 0, 187, 0.5)"
            },
            "type": "circle",
            "x0": 0.4841858896945925,
            "x1": 0.8841858896945924,
            "xref": "x",
            "y0": 4.4387829421353935,
            "y1": 4.838782942135394,
            "yref": "y"
           },
           {
            "fillcolor": "rgba(0, 88, 255, 0.5)",
            "line": {
             "color": "rgba(0, 88, 255, 0.5)"
            },
            "type": "circle",
            "x0": 0.2734924301190465,
            "x1": 0.6734924301190466,
            "xref": "x",
            "y0": 1.912608726886844,
            "y1": 2.312608726886844,
            "yref": "y"
           },
           {
            "fillcolor": "rgba(0, 80, 255, 0.5)",
            "line": {
             "color": "rgba(0, 80, 255, 0.5)"
            },
            "type": "circle",
            "x0": 1.064836748719741,
            "x1": 1.464836748719741,
            "xref": "x",
            "y0": 3.494091663464535,
            "y1": 3.8940916634645353,
            "yref": "y"
           },
           {
            "fillcolor": "rgba(0, 0, 146, 0.5)",
            "line": {
             "color": "rgba(0, 0, 146, 0.5)"
            },
            "type": "circle",
            "x0": 3.344182720241833,
            "x1": 3.744182720241833,
            "xref": "x",
            "y0": 4.058564282241277,
            "y1": 4.458564282241277,
            "yref": "y"
           },
           {
            "fillcolor": "rgba(0, 0, 218, 0.5)",
            "line": {
             "color": "rgba(0, 0, 218, 0.5)"
            },
            "type": "circle",
            "x0": 0.0346457278144536,
            "x1": 0.43464572781445365,
            "xref": "x",
            "y0": 3.473169328479632,
            "y1": 3.8731693284796322,
            "yref": "y"
           },
           {
            "fillcolor": "rgba(0, 0, 255, 0.5)",
            "line": {
             "color": "rgba(0, 0, 255, 0.5)"
            },
            "type": "circle",
            "x0": 4.25048809178494,
            "x1": 4.650488091784941,
            "xref": "x",
            "y0": 2.6567919563398283,
            "y1": 3.0567919563398287,
            "yref": "y"
           },
           {
            "fillcolor": "rgba(0, 144, 255, 0.5)",
            "line": {
             "color": "rgba(0, 144, 255, 0.5)"
            },
            "type": "circle",
            "x0": 2.9303760183234258,
            "x1": 3.330376018323426,
            "xref": "x",
            "y0": 2.477431686326308,
            "y1": 2.8774316863263083,
            "yref": "y"
           },
           {
            "fillcolor": "rgba(0, 0, 228, 0.5)",
            "line": {
             "color": "rgba(0, 0, 228, 0.5)"
            },
            "type": "circle",
            "x0": 2.4835009570463504,
            "x1": 2.883500957046351,
            "xref": "x",
            "y0": 3.936943614987176,
            "y1": 4.3369436149871765,
            "yref": "y"
           },
           {
            "line": {
             "color": "white",
             "width": 3
            },
            "type": "line",
            "x0": 1.794621242254355,
            "x1": 1.72833914478094,
            "y0": 4.376801123973608,
            "y1": 4.5654984571676005
           },
           {
            "line": {
             "color": "white",
             "width": 3
            },
            "type": "line",
            "x0": 0.9016408466756606,
            "x1": 0.8587285702307984,
            "y0": 2.987280676607146,
            "y1": 3.1826227778816016
           },
           {
            "line": {
             "color": "white",
             "width": 3
            },
            "type": "line",
            "x0": 0.6841858896945925,
            "x1": 0.6529557742909838,
            "y0": 4.638782942135394,
            "y1": 4.836329594579512
           },
           {
            "line": {
             "color": "white",
             "width": 3
            },
            "type": "line",
            "x0": 0.4734924301190465,
            "x1": 0.4571395651434976,
            "y0": 2.112608726886844,
            "y1": 2.31193906528793
           },
           {
            "line": {
             "color": "white",
             "width": 3
            },
            "type": "line",
            "x0": 1.264836748719741,
            "x1": 1.229171683474763,
            "y0": 3.694091663464535,
            "y1": 3.890885980255116
           },
           {
            "line": {
             "color": "white",
             "width": 3
            },
            "type": "line",
            "x0": 3.544182720241833,
            "x1": 3.4353064180013297,
            "y0": 4.258564282241277,
            "y1": 4.426331832174018
           },
           {
            "line": {
             "color": "white",
             "width": 3
            },
            "type": "line",
            "x0": 0.23464572781445361,
            "x1": 0.218062426931252,
            "y0": 3.673169328479632,
            "y1": 3.872480628038431
           },
           {
            "line": {
             "color": "white",
             "width": 3
            },
            "type": "line",
            "x0": 4.4504880917849405,
            "x1": 4.333251955496244,
            "y0": 2.8567919563398285,
            "y1": 3.0188280274724564
           },
           {
            "line": {
             "color": "white",
             "width": 3
            },
            "type": "line",
            "x0": 3.130376018323426,
            "x1": 3.0415090383092402,
            "y0": 2.677431686326308,
            "y1": 2.856603837798456
           },
           {
            "line": {
             "color": "white",
             "width": 3
            },
            "type": "line",
            "x0": 2.6835009570463506,
            "x1": 2.5804725724621678,
            "y0": 4.136943614987176,
            "y1": 4.308364593779078
           }
          ],
          "title": {
           "text": "<b>Number of Agents: 10</b>",
           "x": 0.5
          }
         },
         "name": "55"
        },
        {
         "data": [
          {
           "hoverinfo": "name",
           "line": {
            "color": "grey"
           },
           "mode": "lines",
           "name": "Exterior",
           "showlegend": false,
           "type": "scatter",
           "x": [
            -10,
            -10,
            10,
            10,
            -10
           ],
           "y": [
            10,
            -10,
            -10,
            10,
            10
           ]
          },
          {
           "hoverinfo": "text",
           "marker": {
            "opacity": 1,
            "size": 1
           },
           "mode": "markers",
           "showlegend": false,
           "text": [
            "ID: 1, Pos(1.70,4.64)"
           ],
           "type": "scatter",
           "x": [
            1.702113917565296
           ],
           "y": [
            4.637906266628918
           ]
          },
          {
           "hoverinfo": "text",
           "marker": {
            "opacity": 1,
            "size": 1
           },
           "mode": "markers",
           "showlegend": false,
           "text": [
            "ID: 2, Pos(0.85,3.24)"
           ],
           "type": "scatter",
           "x": [
            0.8466844247393044
           ],
           "y": [
            3.235725353062328
           ]
          },
          {
           "hoverinfo": "text",
           "marker": {
            "opacity": 1,
            "size": 1
           },
           "mode": "markers",
           "showlegend": false,
           "text": [
            "ID: 3, Pos(0.64,4.90)"
           ],
           "type": "scatter",
           "x": [
            0.6423054011350465
           ],
           "y": [
            4.902246075948462
           ]
          },
          {
           "hoverinfo": "text",
           "marker": {
            "opacity": 1,
            "size": 1
           },
           "mode": "markers",
           "showlegend": false,
           "text": [
            "ID: 4, Pos(0.45,2.35)"
           ],
           "type": "scatter",
           "x": [
            0.45412146455145463
           ],
           "y": [
            2.349833066639516
           ]
          },
          {
           "hoverinfo": "text",
           "marker": {
            "opacity": 1,
            "size": 1
           },
           "mode": "markers",
           "showlegend": false,
           "text": [
            "ID: 5, Pos(1.22,3.93)"
           ],
           "type": "scatter",
           "x": [
            1.2223998650158858
           ],
           "y": [
            3.931267866858483
           ]
          },
          {
           "hoverinfo": "text",
           "marker": {
            "opacity": 1,
            "size": 1
           },
           "mode": "markers",
           "showlegend": false,
           "text": [
            "ID: 6, Pos(3.40,4.49)"
           ],
           "type": "scatter",
           "x": [
            3.396199539951552
           ],
           "y": [
            4.488337095896623
           ]
          },
          {
           "hoverinfo": "text",
           "marker": {
            "opacity": 1,
            "size": 1
           },
           "mode": "markers",
           "showlegend": false,
           "text": [
            "ID: 7, Pos(0.21,3.93)"
           ],
           "type": "scatter",
           "x": [
            0.212561963699414
           ],
           "y": [
            3.9333169525262943
           ]
          },
          {
           "hoverinfo": "text",
           "marker": {
            "opacity": 1,
            "size": 1
           },
           "mode": "markers",
           "showlegend": false,
           "text": [
            "ID: 8, Pos(4.30,3.06)"
           ],
           "type": "scatter",
           "x": [
            4.30068188310316
           ],
           "y": [
            3.0639192403272655
           ]
          },
          {
           "hoverinfo": "text",
           "marker": {
            "opacity": 1,
            "size": 1
           },
           "mode": "markers",
           "showlegend": false,
           "text": [
            "ID: 9, Pos(3.03,2.88)"
           ],
           "type": "scatter",
           "x": [
            3.0290572137860305
           ],
           "y": [
            2.8816171221739775
           ]
          },
          {
           "hoverinfo": "text",
           "marker": {
            "opacity": 1,
            "size": 1
           },
           "mode": "markers",
           "showlegend": false,
           "text": [
            "ID: 10, Pos(2.55,4.36)"
           ],
           "type": "scatter",
           "x": [
            2.549779986698917
           ],
           "y": [
            4.359393243152553
           ]
          }
         ],
         "layout": {
          "shapes": [
           {
            "fillcolor": "rgba(0, 0, 128, 0.5)",
            "line": {
             "color": "rgba(0, 0, 128, 0.5)"
            },
            "type": "circle",
            "x0": 1.502113917565296,
            "x1": 1.902113917565296,
            "xref": "x",
            "y0": 4.437906266628918,
            "y1": 4.837906266628918,
            "yref": "y"
           },
           {
            "fillcolor": "rgba(0, 0, 255, 0.5)",
            "line": {
             "color": "rgba(0, 0, 255, 0.5)"
            },
            "type": "circle",
            "x0": 0.6466844247393044,
            "x1": 1.0466844247393043,
            "xref": "x",
            "y0": 3.0357253530623276,
            "y1": 3.435725353062328,
            "yref": "y"
           },
           {
            "fillcolor": "rgba(0, 0, 187, 0.5)",
            "line": {
             "color": "rgba(0, 0, 187, 0.5)"
            },
            "type": "circle",
            "x0": 0.4423054011350465,
            "x1": 0.8423054011350466,
            "xref": "x",
            "y0": 4.7022460759484614,
            "y1": 5.102246075948462,
            "yref": "y"
           },
           {
            "fillcolor": "rgba(0, 64, 255, 0.5)",
            "line": {
             "color": "rgba(0, 64, 255, 0.5)"
            },
            "type": "circle",
            "x0": 0.2541214645514546,
            "x1": 0.6541214645514546,
            "xref": "x",
            "y0": 2.149833066639516,
            "y1": 2.549833066639516,
            "yref": "y"
           },
           {
            "fillcolor": "rgba(0, 56, 255, 0.5)",
            "line": {
             "color": "rgba(0, 56, 255, 0.5)"
            },
            "type": "circle",
            "x0": 1.0223998650158859,
            "x1": 1.4223998650158858,
            "xref": "x",
            "y0": 3.7312678668584827,
            "y1": 4.131267866858483,
            "yref": "y"
           },
           {
            "fillcolor": "rgba(0, 0, 146, 0.5)",
            "line": {
             "color": "rgba(0, 0, 146, 0.5)"
            },
            "type": "circle",
            "x0": 3.196199539951552,
            "x1": 3.5961995399515523,
            "xref": "x",
            "y0": 4.2883370958966225,
            "y1": 4.688337095896623,
            "yref": "y"
           },
           {
            "fillcolor": "rgba(0, 0, 218, 0.5)",
            "line": {
             "color": "rgba(0, 0, 218, 0.5)"
            },
            "type": "circle",
            "x0": 0.01256196369941398,
            "x1": 0.412561963699414,
            "xref": "x",
            "y0": 3.733316952526294,
            "y1": 4.133316952526294,
            "yref": "y"
           },
           {
            "fillcolor": "rgba(0, 0, 241, 0.5)",
            "line": {
             "color": "rgba(0, 0, 241, 0.5)"
            },
            "type": "circle",
            "x0": 4.10068188310316,
            "x1": 4.5006818831031605,
            "xref": "x",
            "y0": 2.8639192403272653,
            "y1": 3.2639192403272657,
            "yref": "y"
           },
           {
            "fillcolor": "rgba(0, 117, 255, 0.5)",
            "line": {
             "color": "rgba(0, 117, 255, 0.5)"
            },
            "type": "circle",
            "x0": 2.8290572137860304,
            "x1": 3.2290572137860307,
            "xref": "x",
            "y0": 2.6816171221739773,
            "y1": 3.0816171221739777,
            "yref": "y"
           },
           {
            "fillcolor": "rgba(0, 0, 228, 0.5)",
            "line": {
             "color": "rgba(0, 0, 228, 0.5)"
            },
            "type": "circle",
            "x0": 2.3497799866989166,
            "x1": 2.749779986698917,
            "xref": "x",
            "y0": 4.159393243152553,
            "y1": 4.559393243152553,
            "yref": "y"
           },
           {
            "line": {
             "color": "white",
             "width": 3
            },
            "type": "line",
            "x0": 1.702113917565296,
            "x1": 1.6348643030904186,
            "y0": 4.637906266628918,
            "y1": 4.8262609569155694
           },
           {
            "line": {
             "color": "white",
             "width": 3
            },
            "type": "line",
            "x0": 0.8466844247393044,
            "x1": 0.8032472214679469,
            "y0": 3.235725353062328,
            "y1": 3.4309513999207395
           },
           {
            "line": {
             "color": "white",
             "width": 3
            },
            "type": "line",
            "x0": 0.6423054011350465,
            "x1": 0.6107130885142632,
            "y0": 4.902246075948462,
            "y1": 5.099735128260915
           },
           {
            "line": {
             "color": "white",
             "width": 3
            },
            "type": "line",
            "x0": 0.45412146455145463,
            "x1": 0.4379108323319031,
            "y0": 2.349833066639516,
            "y1": 2.5491750225922014
           },
           {
            "line": {
             "color": "white",
             "width": 3
            },
            "type": "line",
            "x0": 1.2223998650158858,
            "x1": 1.187489817032275,
            "y0": 3.931267866858483,
            "y1": 4.128197520668624
           },
           {
            "line": {
             "color": "white",
             "width": 3
            },
            "type": "line",
            "x0": 3.396199539951552,
            "x1": 3.2884237444480693,
            "y0": 4.488337095896623,
            "y1": 4.65681373494071
           },
           {
            "line": {
             "color": "white",
             "width": 3
            },
            "type": "line",
            "x0": 0.212561963699414,
            "x1": 0.19533513261223548,
            "y0": 3.9333169525262943,
            "y1": 4.132573662051203
           },
           {
            "line": {
             "color": "white",
             "width": 3
            },
            "type": "line",
            "x0": 4.30068188310316,
            "x1": 4.18350294544549,
            "y0": 3.0639192403272655,
            "y1": 3.225996680365723
           },
           {
            "line": {
             "color": "white",
             "width": 3
            },
            "type": "line",
            "x0": 3.0290572137860305,
            "x1": 2.9401242515172843,
            "y0": 2.8816171221739775,
            "y1": 3.0607565321933974
           },
           {
            "line": {
             "color": "white",
             "width": 3
            },
            "type": "line",
            "x0": 2.549779986698917,
            "x1": 2.446738296899074,
            "y0": 4.359393243152553,
            "y1": 4.530806224467251
           }
          ],
          "title": {
           "text": "<b>Number of Agents: 10</b>",
           "x": 0.5
          }
         },
         "name": "60"
        },
        {
         "data": [
          {
           "hoverinfo": "name",
           "line": {
            "color": "grey"
           },
           "mode": "lines",
           "name": "Exterior",
           "showlegend": false,
           "type": "scatter",
           "x": [
            -10,
            -10,
            10,
            10,
            -10
           ],
           "y": [
            10,
            -10,
            -10,
            10,
            10
           ]
          },
          {
           "hoverinfo": "text",
           "marker": {
            "opacity": 1,
            "size": 1
           },
           "mode": "markers",
           "showlegend": false,
           "text": [
            "ID: 1, Pos(1.61,4.90)"
           ],
           "type": "scatter",
           "x": [
            1.6083374593988156
           ],
           "y": [
            4.898558391820764
           ]
          },
          {
           "hoverinfo": "text",
           "marker": {
            "opacity": 1,
            "size": 1
           },
           "mode": "markers",
           "showlegend": false,
           "text": [
            "ID: 2, Pos(0.79,3.49)"
           ],
           "type": "scatter",
           "x": [
            0.7906345178475273
           ],
           "y": [
            3.4864152154842465
           ]
          },
          {
           "hoverinfo": "text",
           "marker": {
            "opacity": 1,
            "size": 1
           },
           "mode": "markers",
           "showlegend": false,
           "text": [
            "ID: 3, Pos(0.60,5.17)"
           ],
           "type": "scatter",
           "x": [
            0.5997279714380179
           ],
           "y": [
            5.165597377069722
           ]
          },
          {
           "hoverinfo": "text",
           "marker": {
            "opacity": 1,
            "size": 1
           },
           "mode": "markers",
           "showlegend": false,
           "text": [
            "ID: 4, Pos(0.43,2.59)"
           ],
           "type": "scatter",
           "x": [
            0.4345793214495224
           ],
           "y": [
            2.5912653808646486
           ]
          },
          {
           "hoverinfo": "text",
           "marker": {
            "opacity": 1,
            "size": 1
           },
           "mode": "markers",
           "showlegend": false,
           "text": [
            "ID: 5, Pos(1.18,4.17)"
           ],
           "type": "scatter",
           "x": [
            1.1807969090082115
           ],
           "y": [
            4.169493396632442
           ]
          },
          {
           "hoverinfo": "text",
           "marker": {
            "opacity": 1,
            "size": 1
           },
           "mode": "markers",
           "showlegend": false,
           "text": [
            "ID: 6, Pos(3.25,4.72)"
           ],
           "type": "scatter",
           "x": [
            3.2496539238504485
           ],
           "y": [
            4.719029527777114
           ]
          },
          {
           "hoverinfo": "text",
           "marker": {
            "opacity": 1,
            "size": 1
           },
           "mode": "markers",
           "showlegend": false,
           "text": [
            "ID: 7, Pos(0.19,4.19)"
           ],
           "type": "scatter",
           "x": [
            0.18961005098160313
           ],
           "y": [
            4.193389406650481
           ]
          },
          {
           "hoverinfo": "text",
           "marker": {
            "opacity": 1,
            "size": 1
           },
           "mode": "markers",
           "showlegend": false,
           "text": [
            "ID: 8, Pos(4.15,3.27)"
           ],
           "type": "scatter",
           "x": [
            4.14903482164988
           ],
           "y": [
            3.2737929959647283
           ]
          },
          {
           "hoverinfo": "text",
           "marker": {
            "opacity": 1,
            "size": 1
           },
           "mode": "markers",
           "showlegend": false,
           "text": [
            "ID: 9, Pos(2.93,3.09)"
           ],
           "type": "scatter",
           "x": [
            2.9254208514197697
           ],
           "y": [
            3.090221792764419
           ]
          },
          {
           "hoverinfo": "text",
           "marker": {
            "opacity": 1,
            "size": 1
           },
           "mode": "markers",
           "showlegend": false,
           "text": [
            "ID: 10, Pos(2.42,4.58)"
           ],
           "type": "scatter",
           "x": [
            2.4160794721706162
           ],
           "y": [
            4.581855166196084
           ]
          }
         ],
         "layout": {
          "shapes": [
           {
            "fillcolor": "rgba(0, 0, 128, 0.5)",
            "line": {
             "color": "rgba(0, 0, 128, 0.5)"
            },
            "type": "circle",
            "x0": 1.4083374593988156,
            "x1": 1.8083374593988155,
            "xref": "x",
            "y0": 4.698558391820764,
            "y1": 5.098558391820764,
            "yref": "y"
           },
           {
            "fillcolor": "rgba(0, 0, 255, 0.5)",
            "line": {
             "color": "rgba(0, 0, 255, 0.5)"
            },
            "type": "circle",
            "x0": 0.5906345178475272,
            "x1": 0.9906345178475273,
            "xref": "x",
            "y0": 3.2864152154842463,
            "y1": 3.6864152154842467,
            "yref": "y"
           },
           {
            "fillcolor": "rgba(0, 0, 187, 0.5)",
            "line": {
             "color": "rgba(0, 0, 187, 0.5)"
            },
            "type": "circle",
            "x0": 0.3997279714380179,
            "x1": 0.7997279714380179,
            "xref": "x",
            "y0": 4.965597377069722,
            "y1": 5.365597377069722,
            "yref": "y"
           },
           {
            "fillcolor": "rgba(0, 132, 255, 0.5)",
            "line": {
             "color": "rgba(0, 132, 255, 0.5)"
            },
            "type": "circle",
            "x0": 0.23457932144952237,
            "x1": 0.6345793214495223,
            "xref": "x",
            "y0": 2.3912653808646485,
            "y1": 2.791265380864649,
            "yref": "y"
           },
           {
            "fillcolor": "rgba(0, 37, 255, 0.5)",
            "line": {
             "color": "rgba(0, 37, 255, 0.5)"
            },
            "type": "circle",
            "x0": 0.9807969090082116,
            "x1": 1.3807969090082115,
            "xref": "x",
            "y0": 3.9694933966324415,
            "y1": 4.369493396632442,
            "yref": "y"
           },
           {
            "fillcolor": "rgba(0, 0, 146, 0.5)",
            "line": {
             "color": "rgba(0, 0, 146, 0.5)"
            },
            "type": "circle",
            "x0": 3.0496539238504483,
            "x1": 3.4496539238504487,
            "xref": "x",
            "y0": 4.519029527777114,
            "y1": 4.9190295277771146,
            "yref": "y"
           },
           {
            "fillcolor": "rgba(0, 0, 218, 0.5)",
            "line": {
             "color": "rgba(0, 0, 218, 0.5)"
            },
            "type": "circle",
            "x0": -0.010389949018396877,
            "x1": 0.3896100509816032,
            "xref": "x",
            "y0": 3.993389406650481,
            "y1": 4.393389406650481,
            "yref": "y"
           },
           {
            "fillcolor": "rgba(0, 0, 223, 0.5)",
            "line": {
             "color": "rgba(0, 0, 223, 0.5)"
            },
            "type": "circle",
            "x0": 3.94903482164988,
            "x1": 4.34903482164988,
            "xref": "x",
            "y0": 3.073792995964728,
            "y1": 3.4737929959647285,
            "yref": "y"
           },
           {
            "fillcolor": "rgba(0, 93, 255, 0.5)",
            "line": {
             "color": "rgba(0, 93, 255, 0.5)"
            },
            "type": "circle",
            "x0": 2.7254208514197695,
            "x1": 3.12542085141977,
            "xref": "x",
            "y0": 2.890221792764419,
            "y1": 3.2902217927644193,
            "yref": "y"
           },
           {
            "fillcolor": "rgba(0, 0, 228, 0.5)",
            "line": {
             "color": "rgba(0, 0, 228, 0.5)"
            },
            "type": "circle",
            "x0": 2.216079472170616,
            "x1": 2.6160794721706164,
            "xref": "x",
            "y0": 4.381855166196083,
            "y1": 4.781855166196084,
            "yref": "y"
           },
           {
            "line": {
             "color": "white",
             "width": 3
            },
            "type": "line",
            "x0": 1.6083374593988156,
            "x1": 1.5401837976954538,
            "y0": 4.898558391820764,
            "y1": 5.08658785333258
           },
           {
            "line": {
             "color": "white",
             "width": 3
            },
            "type": "line",
            "x0": 0.7906345178475273,
            "x1": 0.7467069994210426,
            "y0": 3.4864152154842465,
            "y1": 3.6815315221448914
           },
           {
            "line": {
             "color": "white",
             "width": 3
            },
            "type": "line",
            "x0": 0.5997279714380179,
            "x1": 0.5674522843199433,
            "y0": 5.165597377069722,
            "y1": 5.362975896724359
           },
           {
            "line": {
             "color": "white",
             "width": 3
            },
            "type": "line",
            "x0": 0.4345793214495224,
            "x1": 0.4185127255016239,
            "y0": 2.5912653808646486,
            "y1": 2.7906189975728664
           },
           {
            "line": {
             "color": "white",
             "width": 3
            },
            "type": "line",
            "x0": 1.1807969090082115,
            "x1": 1.1469092171596469,
            "y0": 4.169493396632442,
            "y1": 4.366601550550986
           },
           {
            "line": {
             "color": "white",
             "width": 3
            },
            "type": "line",
            "x0": 3.2496539238504485,
            "x1": 3.142878960954858,
            "y0": 4.719029527777114,
            "y1": 4.888142233682512
           },
           {
            "line": {
             "color": "white",
             "width": 3
            },
            "type": "line",
            "x0": 0.18961005098160313,
            "x1": 0.171709750769847,
            "y0": 4.193389406650481,
            "y1": 4.392586744113433
           },
           {
            "line": {
             "color": "white",
             "width": 3
            },
            "type": "line",
            "x0": 4.14903482164988,
            "x1": 4.031947174873009,
            "y0": 3.2737929959647283,
            "y1": 3.4359363984584923
           },
           {
            "line": {
             "color": "white",
             "width": 3
            },
            "type": "line",
            "x0": 2.9254208514197697,
            "x1": 2.8363812262243724,
            "y0": 3.090221792764419,
            "y1": 3.2693082108565323
           },
           {
            "line": {
             "color": "white",
             "width": 3
            },
            "type": "line",
            "x0": 2.4160794721706162,
            "x1": 2.313071969464625,
            "y0": 4.581855166196084,
            "y1": 4.7532886937986945
           }
          ],
          "title": {
           "text": "<b>Number of Agents: 10</b>",
           "x": 0.5
          }
         },
         "name": "65"
        },
        {
         "data": [
          {
           "hoverinfo": "name",
           "line": {
            "color": "grey"
           },
           "mode": "lines",
           "name": "Exterior",
           "showlegend": false,
           "type": "scatter",
           "x": [
            -10,
            -10,
            10,
            10,
            -10
           ],
           "y": [
            10,
            -10,
            -10,
            10,
            10
           ]
          },
          {
           "hoverinfo": "text",
           "marker": {
            "opacity": 1,
            "size": 1
           },
           "mode": "markers",
           "showlegend": false,
           "text": [
            "ID: 1, Pos(1.51,5.16)"
           ],
           "type": "scatter",
           "x": [
            1.5137677443271202
           ],
           "y": [
            5.158923961329064
           ]
          },
          {
           "hoverinfo": "text",
           "marker": {
            "opacity": 1,
            "size": 1
           },
           "mode": "markers",
           "showlegend": false,
           "text": [
            "ID: 2, Pos(0.74,3.73)"
           ],
           "type": "scatter",
           "x": [
            0.7357724463472213
           ],
           "y": [
            3.7313861017039467
           ]
          },
          {
           "hoverinfo": "text",
           "marker": {
            "opacity": 1,
            "size": 1
           },
           "mode": "markers",
           "showlegend": false,
           "text": [
            "ID: 3, Pos(0.56,5.43)"
           ],
           "type": "scatter",
           "x": [
            0.5559333798869064
           ],
           "y": [
            5.42874876130212
           ]
          },
          {
           "hoverinfo": "text",
           "marker": {
            "opacity": 1,
            "size": 1
           },
           "mode": "markers",
           "showlegend": false,
           "text": [
            "ID: 4, Pos(0.42,2.80)"
           ],
           "type": "scatter",
           "x": [
            0.41763058560473315
           ],
           "y": [
            2.8030943525443055
           ]
          },
          {
           "hoverinfo": "text",
           "marker": {
            "opacity": 1,
            "size": 1
           },
           "mode": "markers",
           "showlegend": false,
           "text": [
            "ID: 5, Pos(1.14,4.41)"
           ],
           "type": "scatter",
           "x": [
            1.1387393918397601
           ],
           "y": [
            4.414192718456643
           ]
          },
          {
           "hoverinfo": "text",
           "marker": {
            "opacity": 1,
            "size": 1
           },
           "mode": "markers",
           "showlegend": false,
           "text": [
            "ID: 6, Pos(3.10,4.95)"
           ],
           "type": "scatter",
           "x": [
            3.104378767822638
           ],
           "y": [
            4.950524243175177
           ]
          },
          {
           "hoverinfo": "text",
           "marker": {
            "opacity": 1,
            "size": 1
           },
           "mode": "markers",
           "showlegend": false,
           "text": [
            "ID: 7, Pos(0.17,4.45)"
           ],
           "type": "scatter",
           "x": [
            0.16575108843383793
           ],
           "y": [
            4.453380207098805
           ]
          },
          {
           "hoverinfo": "text",
           "marker": {
            "opacity": 1,
            "size": 1
           },
           "mode": "markers",
           "showlegend": false,
           "text": [
            "ID: 8, Pos(4.00,3.49)"
           ],
           "type": "scatter",
           "x": [
            3.9959432779772386
           ],
           "y": [
            3.485989437378558
           ]
          },
          {
           "hoverinfo": "text",
           "marker": {
            "opacity": 1,
            "size": 1
           },
           "mode": "markers",
           "showlegend": false,
           "text": [
            "ID: 9, Pos(2.82,3.30)"
           ],
           "type": "scatter",
           "x": [
            2.8197695465592965
           ],
           "y": [
            3.302472933559575
           ]
          },
          {
           "hoverinfo": "text",
           "marker": {
            "opacity": 1,
            "size": 1
           },
           "mode": "markers",
           "showlegend": false,
           "text": [
            "ID: 10, Pos(2.28,4.80)"
           ],
           "type": "scatter",
           "x": [
            2.2824414907996813
           ],
           "y": [
            4.804354658622951
           ]
          }
         ],
         "layout": {
          "shapes": [
           {
            "fillcolor": "rgba(0, 0, 128, 0.5)",
            "line": {
             "color": "rgba(0, 0, 128, 0.5)"
            },
            "type": "circle",
            "x0": 1.3137677443271203,
            "x1": 1.7137677443271202,
            "xref": "x",
            "y0": 4.958923961329064,
            "y1": 5.358923961329064,
            "yref": "y"
           },
           {
            "fillcolor": "rgba(93, 255, 154, 0.5)",
            "line": {
             "color": "rgba(93, 255, 154, 0.5)"
            },
            "type": "circle",
            "x0": 0.5357724463472213,
            "x1": 0.9357724463472212,
            "xref": "x",
            "y0": 3.5313861017039465,
            "y1": 3.931386101703947,
            "yref": "y"
           },
           {
            "fillcolor": "rgba(0, 0, 187, 0.5)",
            "line": {
             "color": "rgba(0, 0, 187, 0.5)"
            },
            "type": "circle",
            "x0": 0.3559333798869064,
            "x1": 0.7559333798869063,
            "xref": "x",
            "y0": 5.2287487613021195,
            "y1": 5.62874876130212,
            "yref": "y"
           },
           {
            "fillcolor": "rgba(186, 255, 60, 0.5)",
            "line": {
             "color": "rgba(186, 255, 60, 0.5)"
            },
            "type": "circle",
            "x0": 0.21763058560473314,
            "x1": 0.6176305856047332,
            "xref": "x",
            "y0": 2.6030943525443053,
            "y1": 3.0030943525443057,
            "yref": "y"
           },
           {
            "fillcolor": "rgba(12, 244, 235, 0.5)",
            "line": {
             "color": "rgba(12, 244, 235, 0.5)"
            },
            "type": "circle",
            "x0": 0.9387393918397602,
            "x1": 1.33873939183976,
            "xref": "x",
            "y0": 4.214192718456643,
            "y1": 4.614192718456644,
            "yref": "y"
           },
           {
            "fillcolor": "rgba(0, 0, 146, 0.5)",
            "line": {
             "color": "rgba(0, 0, 146, 0.5)"
            },
            "type": "circle",
            "x0": 2.904378767822638,
            "x1": 3.304378767822638,
            "xref": "x",
            "y0": 4.750524243175176,
            "y1": 5.150524243175177,
            "yref": "y"
           },
           {
            "fillcolor": "rgba(0, 0, 218, 0.5)",
            "line": {
             "color": "rgba(0, 0, 218, 0.5)"
            },
            "type": "circle",
            "x0": -0.03424891156616208,
            "x1": 0.36575108843383797,
            "xref": "x",
            "y0": 4.253380207098805,
            "y1": 4.653380207098805,
            "yref": "y"
           },
           {
            "fillcolor": "rgba(0, 0, 209, 0.5)",
            "line": {
             "color": "rgba(0, 0, 209, 0.5)"
            },
            "type": "circle",
            "x0": 3.7959432779772384,
            "x1": 4.195943277977238,
            "xref": "x",
            "y0": 3.2859894373785576,
            "y1": 3.685989437378558,
            "yref": "y"
           },
           {
            "fillcolor": "rgba(0, 72, 255, 0.5)",
            "line": {
             "color": "rgba(0, 72, 255, 0.5)"
            },
            "type": "circle",
            "x0": 2.6197695465592963,
            "x1": 3.0197695465592966,
            "xref": "x",
            "y0": 3.1024729335595747,
            "y1": 3.502472933559575,
            "yref": "y"
           },
           {
            "fillcolor": "rgba(0, 0, 228, 0.5)",
            "line": {
             "color": "rgba(0, 0, 228, 0.5)"
            },
            "type": "circle",
            "x0": 2.082441490799681,
            "x1": 2.4824414907996815,
            "xref": "x",
            "y0": 4.604354658622951,
            "y1": 5.004354658622951,
            "yref": "y"
           },
           {
            "line": {
             "color": "white",
             "width": 3
            },
            "type": "line",
            "x0": 1.5137677443271202,
            "x1": 1.4455043450900955,
            "y0": 5.158923961329064,
            "y1": 5.346913610843623
           },
           {
            "line": {
             "color": "black",
             "width": 3
            },
            "type": "line",
            "x0": 0.7357724463472213,
            "x1": 0.6917986668938395,
            "y0": 3.7313861017039467,
            "y1": 3.9264919876238373
           },
           {
            "line": {
             "color": "white",
             "width": 3
            },
            "type": "line",
            "x0": 0.5559333798869064,
            "x1": 0.5225133716716046,
            "y0": 5.42874876130212,
            "y1": 5.625936750416288
           },
           {
            "line": {
             "color": "black",
             "width": 3
            },
            "type": "line",
            "x0": 0.41763058560473315,
            "x1": 0.402309301203658,
            "y0": 2.8030943525443055,
            "y1": 3.002506634624175
           },
           {
            "line": {
             "color": "black",
             "width": 3
            },
            "type": "line",
            "x0": 1.1387393918397601,
            "x1": 1.104600303114448,
            "y0": 4.414192718456643,
            "y1": 4.611257486035745
           },
           {
            "line": {
             "color": "white",
             "width": 3
            },
            "type": "line",
            "x0": 3.104378767822638,
            "x1": 2.9984637762275383,
            "y0": 4.950524243175177,
            "y1": 5.120176872260051
           },
           {
            "line": {
             "color": "white",
             "width": 3
            },
            "type": "line",
            "x0": 0.16575108843383793,
            "x1": 0.14712393701199789,
            "y0": 4.453380207098805,
            "y1": 4.652510890896927
           },
           {
            "line": {
             "color": "white",
             "width": 3
            },
            "type": "line",
            "x0": 3.9959432779772386,
            "x1": 3.8790004475823014,
            "y0": 3.485989437378558,
            "y1": 3.648237316930868
           },
           {
            "line": {
             "color": "white",
             "width": 3
            },
            "type": "line",
            "x0": 2.8197695465592965,
            "x1": 2.73056019764227,
            "y0": 3.302472933559575,
            "y1": 3.48147486669383
           },
           {
            "line": {
             "color": "white",
             "width": 3
            },
            "type": "line",
            "x0": 2.2824414907996813,
            "x1": 2.179500105307027,
            "y0": 4.804354658622951,
            "y1": 4.975827896047491
           }
          ],
          "title": {
           "text": "<b>Number of Agents: 10</b>",
           "x": 0.5
          }
         },
         "name": "70"
        },
        {
         "data": [
          {
           "hoverinfo": "name",
           "line": {
            "color": "grey"
           },
           "mode": "lines",
           "name": "Exterior",
           "showlegend": false,
           "type": "scatter",
           "x": [
            -10,
            -10,
            10,
            10,
            -10
           ],
           "y": [
            10,
            -10,
            -10,
            10,
            10
           ]
          },
          {
           "hoverinfo": "text",
           "marker": {
            "opacity": 1,
            "size": 1
           },
           "mode": "markers",
           "showlegend": false,
           "text": [
            "ID: 1, Pos(1.41,5.42)"
           ],
           "type": "scatter",
           "x": [
            1.4144292425828413
           ],
           "y": [
            5.417493990741627
           ]
          },
          {
           "hoverinfo": "text",
           "marker": {
            "opacity": 1,
            "size": 1
           },
           "mode": "markers",
           "showlegend": false,
           "text": [
            "ID: 2, Pos(0.71,3.85)"
           ],
           "type": "scatter",
           "x": [
            0.7107549157294651
           ],
           "y": [
            3.850843408994943
           ]
          },
          {
           "hoverinfo": "text",
           "marker": {
            "opacity": 1,
            "size": 1
           },
           "mode": "markers",
           "showlegend": false,
           "text": [
            "ID: 3, Pos(0.51,5.69)"
           ],
           "type": "scatter",
           "x": [
            0.5102349246401727
           ],
           "y": [
            5.691575635009019
           ]
          },
          {
           "hoverinfo": "text",
           "marker": {
            "opacity": 1,
            "size": 1
           },
           "mode": "markers",
           "showlegend": false,
           "text": [
            "ID: 4, Pos(0.41,2.92)"
           ],
           "type": "scatter",
           "x": [
            0.4087472636924569
           ],
           "y": [
            2.919090850185633
           ]
          },
          {
           "hoverinfo": "text",
           "marker": {
            "opacity": 1,
            "size": 1
           },
           "mode": "markers",
           "showlegend": false,
           "text": [
            "ID: 5, Pos(1.11,4.58)"
           ],
           "type": "scatter",
           "x": [
            1.1098568933390007
           ],
           "y": [
            4.575150457186242
           ]
          },
          {
           "hoverinfo": "text",
           "marker": {
            "opacity": 1,
            "size": 1
           },
           "mode": "markers",
           "showlegend": false,
           "text": [
            "ID: 6, Pos(2.96,5.18)"
           ],
           "type": "scatter",
           "x": [
            2.9601553393886277
           ],
           "y": [
            5.1826757849615355
           ]
          },
          {
           "hoverinfo": "text",
           "marker": {
            "opacity": 1,
            "size": 1
           },
           "mode": "markers",
           "showlegend": false,
           "text": [
            "ID: 7, Pos(0.14,4.71)"
           ],
           "type": "scatter",
           "x": [
            0.14475321678577907
           ],
           "y": [
            4.713612538522119
           ]
          },
          {
           "hoverinfo": "text",
           "marker": {
            "opacity": 1,
            "size": 1
           },
           "mode": "markers",
           "showlegend": false,
           "text": [
            "ID: 8, Pos(3.84,3.70)"
           ],
           "type": "scatter",
           "x": [
            3.841891202707174
           ],
           "y": [
            3.7000317987052758
           ]
          },
          {
           "hoverinfo": "text",
           "marker": {
            "opacity": 1,
            "size": 1
           },
           "mode": "markers",
           "showlegend": false,
           "text": [
            "ID: 9, Pos(2.71,3.52)"
           ],
           "type": "scatter",
           "x": [
            2.7123070806545013
           ],
           "y": [
            3.5177080965550753
           ]
          },
          {
           "hoverinfo": "text",
           "marker": {
            "opacity": 1,
            "size": 1
           },
           "mode": "markers",
           "showlegend": false,
           "text": [
            "ID: 10, Pos(2.15,5.03)"
           ],
           "type": "scatter",
           "x": [
            2.1487936536448817
           ],
           "y": [
            5.026848219637864
           ]
          }
         ],
         "layout": {
          "shapes": [
           {
            "fillcolor": "rgba(0, 0, 128, 0.5)",
            "line": {
             "color": "rgba(0, 0, 128, 0.5)"
            },
            "type": "circle",
            "x0": 1.2144292425828414,
            "x1": 1.6144292425828413,
            "xref": "x",
            "y0": 5.217493990741627,
            "y1": 5.617493990741627,
            "yref": "y"
           },
           {
            "fillcolor": "rgba(255, 145, 0, 0.5)",
            "line": {
             "color": "rgba(255, 145, 0, 0.5)"
            },
            "type": "circle",
            "x0": 0.5107549157294651,
            "x1": 0.9107549157294652,
            "xref": "x",
            "y0": 3.650843408994943,
            "y1": 4.050843408994943,
            "yref": "y"
           },
           {
            "fillcolor": "rgba(0, 0, 187, 0.5)",
            "line": {
             "color": "rgba(0, 0, 187, 0.5)"
            },
            "type": "circle",
            "x0": 0.3102349246401727,
            "x1": 0.7102349246401727,
            "xref": "x",
            "y0": 5.491575635009019,
            "y1": 5.891575635009019,
            "yref": "y"
           },
           {
            "fillcolor": "rgba(255, 82, 0, 0.5)",
            "line": {
             "color": "rgba(255, 82, 0, 0.5)"
            },
            "type": "circle",
            "x0": 0.20874726369245689,
            "x1": 0.6087472636924569,
            "xref": "x",
            "y0": 2.719090850185633,
            "y1": 3.1190908501856334,
            "yref": "y"
           },
           {
            "fillcolor": "rgba(154, 255, 93, 0.5)",
            "line": {
             "color": "rgba(154, 255, 93, 0.5)"
            },
            "type": "circle",
            "x0": 0.9098568933390008,
            "x1": 1.3098568933390007,
            "xref": "x",
            "y0": 4.375150457186241,
            "y1": 4.775150457186242,
            "yref": "y"
           },
           {
            "fillcolor": "rgba(0, 0, 146, 0.5)",
            "line": {
             "color": "rgba(0, 0, 146, 0.5)"
            },
            "type": "circle",
            "x0": 2.7601553393886276,
            "x1": 3.160155339388628,
            "xref": "x",
            "y0": 4.982675784961535,
            "y1": 5.382675784961536,
            "yref": "y"
           },
           {
            "fillcolor": "rgba(0, 0, 241, 0.5)",
            "line": {
             "color": "rgba(0, 0, 241, 0.5)"
            },
            "type": "circle",
            "x0": -0.05524678321422094,
            "x1": 0.3447532167857791,
            "xref": "x",
            "y0": 4.513612538522119,
            "y1": 4.913612538522119,
            "yref": "y"
           },
           {
            "fillcolor": "rgba(0, 0, 205, 0.5)",
            "line": {
             "color": "rgba(0, 0, 205, 0.5)"
            },
            "type": "circle",
            "x0": 3.641891202707174,
            "x1": 4.041891202707174,
            "xref": "x",
            "y0": 3.5000317987052756,
            "y1": 3.900031798705276,
            "yref": "y"
           },
           {
            "fillcolor": "rgba(0, 61, 255, 0.5)",
            "line": {
             "color": "rgba(0, 61, 255, 0.5)"
            },
            "type": "circle",
            "x0": 2.512307080654501,
            "x1": 2.9123070806545015,
            "xref": "x",
            "y0": 3.317708096555075,
            "y1": 3.7177080965550755,
            "yref": "y"
           },
           {
            "fillcolor": "rgba(0, 120, 255, 0.5)",
            "line": {
             "color": "rgba(0, 120, 255, 0.5)"
            },
            "type": "circle",
            "x0": 1.9487936536448818,
            "x1": 2.348793653644882,
            "xref": "x",
            "y0": 4.8268482196378635,
            "y1": 5.226848219637864,
            "yref": "y"
           },
           {
            "line": {
             "color": "white",
             "width": 3
            },
            "type": "line",
            "x0": 1.4144292425828413,
            "x1": 1.3403124512938445,
            "y0": 5.417493990741627,
            "y1": 5.603253785231779
           },
           {
            "line": {
             "color": "black",
             "width": 3
            },
            "type": "line",
            "x0": 0.7107549157294651,
            "x1": 0.672415201940272,
            "y0": 3.850843408994943,
            "y1": 4.047134178891448
           },
           {
            "line": {
             "color": "white",
             "width": 3
            },
            "type": "line",
            "x0": 0.5102349246401727,
            "x1": 0.47502236464196795,
            "y0": 5.691575635009019,
            "y1": 5.888451422292201
           },
           {
            "line": {
             "color": "white",
             "width": 3
            },
            "type": "line",
            "x0": 0.4087472636924569,
            "x1": 0.39347962210435133,
            "y0": 2.919090850185633,
            "y1": 3.118507246503331
           },
           {
            "line": {
             "color": "black",
             "width": 3
            },
            "type": "line",
            "x0": 1.1098568933390007,
            "x1": 1.0734493096346105,
            "y0": 4.575150457186242,
            "y1": 4.771808759448841
           },
           {
            "line": {
             "color": "white",
             "width": 3
            },
            "type": "line",
            "x0": 2.9601553393886277,
            "x1": 2.8549162051929247,
            "y0": 5.1826757849615355,
            "y1": 5.352748488925866
           },
           {
            "line": {
             "color": "white",
             "width": 3
            },
            "type": "line",
            "x0": 0.14475321678577907,
            "x1": 0.13041084745444415,
            "y0": 4.713612538522119,
            "y1": 4.913097616765991
           },
           {
            "line": {
             "color": "white",
             "width": 3
            },
            "type": "line",
            "x0": 3.841891202707174,
            "x1": 3.725175466059881,
            "y0": 3.7000317987052758,
            "y1": 3.86244311856593
           },
           {
            "line": {
             "color": "white",
             "width": 3
            },
            "type": "line",
            "x0": 2.7123070806545013,
            "x1": 2.6228321439489815,
            "y0": 3.5177080965550753,
            "y1": 3.6965774223254355
           },
           {
            "line": {
             "color": "white",
             "width": 3
            },
            "type": "line",
            "x0": 2.1487936536448817,
            "x1": 2.0457082032240663,
            "y0": 5.026848219637864,
            "y1": 5.198234887472727
           }
          ],
          "title": {
           "text": "<b>Number of Agents: 10</b>",
           "x": 0.5
          }
         },
         "name": "75"
        },
        {
         "data": [
          {
           "hoverinfo": "name",
           "line": {
            "color": "grey"
           },
           "mode": "lines",
           "name": "Exterior",
           "showlegend": false,
           "type": "scatter",
           "x": [
            -10,
            -10,
            10,
            10,
            -10
           ],
           "y": [
            10,
            -10,
            -10,
            10,
            10
           ]
          },
          {
           "hoverinfo": "text",
           "marker": {
            "opacity": 1,
            "size": 1
           },
           "mode": "markers",
           "showlegend": false,
           "text": [
            "ID: 1, Pos(1.31,5.67)"
           ],
           "type": "scatter",
           "x": [
            1.3120721994015225
           ],
           "y": [
            5.674888209547962
           ]
          },
          {
           "hoverinfo": "text",
           "marker": {
            "opacity": 1,
            "size": 1
           },
           "mode": "markers",
           "showlegend": false,
           "text": [
            "ID: 2, Pos(0.69,3.99)"
           ],
           "type": "scatter",
           "x": [
            0.6861497784838368
           ],
           "y": [
            3.9851159117196246
           ]
          },
          {
           "hoverinfo": "text",
           "marker": {
            "opacity": 1,
            "size": 1
           },
           "mode": "markers",
           "showlegend": false,
           "text": [
            "ID: 3, Pos(0.46,5.95)"
           ],
           "type": "scatter",
           "x": [
            0.46128978737758425
           ],
           "y": [
            5.953815594850663
           ]
          },
          {
           "hoverinfo": "text",
           "marker": {
            "opacity": 1,
            "size": 1
           },
           "mode": "markers",
           "showlegend": false,
           "text": [
            "ID: 4, Pos(0.40,3.04)"
           ],
           "type": "scatter",
           "x": [
            0.39991788173524234
           ],
           "y": [
            3.0355247286666285
           ]
          },
          {
           "hoverinfo": "text",
           "marker": {
            "opacity": 1,
            "size": 1
           },
           "mode": "markers",
           "showlegend": false,
           "text": [
            "ID: 5, Pos(1.08,4.75)"
           ],
           "type": "scatter",
           "x": [
            1.0753975035592698
           ],
           "y": [
            4.753260441104535
           ]
          },
          {
           "hoverinfo": "text",
           "marker": {
            "opacity": 1,
            "size": 1
           },
           "mode": "markers",
           "showlegend": false,
           "text": [
            "ID: 6, Pos(2.82,5.42)"
           ],
           "type": "scatter",
           "x": [
            2.8175704167405238
           ],
           "y": [
            5.415829192096321
           ]
          },
          {
           "hoverinfo": "text",
           "marker": {
            "opacity": 1,
            "size": 1
           },
           "mode": "markers",
           "showlegend": false,
           "text": [
            "ID: 7, Pos(0.13,4.97)"
           ],
           "type": "scatter",
           "x": [
            0.12762230716813644
           ],
           "y": [
            4.967419788539456
           ]
          },
          {
           "hoverinfo": "text",
           "marker": {
            "opacity": 1,
            "size": 1
           },
           "mode": "markers",
           "showlegend": false,
           "text": [
            "ID: 8, Pos(3.69,3.91)"
           ],
           "type": "scatter",
           "x": [
            3.6880316615469986
           ],
           "y": [
            3.914601967006786
           ]
          },
          {
           "hoverinfo": "text",
           "marker": {
            "opacity": 1,
            "size": 1
           },
           "mode": "markers",
           "showlegend": false,
           "text": [
            "ID: 9, Pos(2.60,3.73)"
           ],
           "type": "scatter",
           "x": [
            2.603927518441859
           ],
           "y": [
            3.7337742844717225
           ]
          },
          {
           "hoverinfo": "text",
           "marker": {
            "opacity": 1,
            "size": 1
           },
           "mode": "markers",
           "showlegend": false,
           "text": [
            "ID: 10, Pos(2.04,5.20)"
           ],
           "type": "scatter",
           "x": [
            2.0449974393974943
           ],
           "y": [
            5.197767443812379
           ]
          }
         ],
         "layout": {
          "shapes": [
           {
            "fillcolor": "rgba(0, 0, 128, 0.5)",
            "line": {
             "color": "rgba(0, 0, 128, 0.5)"
            },
            "type": "circle",
            "x0": 1.1120721994015226,
            "x1": 1.5120721994015225,
            "xref": "x",
            "y0": 5.474888209547962,
            "y1": 5.874888209547962,
            "yref": "y"
           },
           {
            "fillcolor": "rgba(255, 196, 0, 0.5)",
            "line": {
             "color": "rgba(255, 196, 0, 0.5)"
            },
            "type": "circle",
            "x0": 0.48614977848383684,
            "x1": 0.8861497784838368,
            "xref": "x",
            "y0": 3.7851159117196245,
            "y1": 4.185115911719625,
            "yref": "y"
           },
           {
            "fillcolor": "rgba(0, 0, 187, 0.5)",
            "line": {
             "color": "rgba(0, 0, 187, 0.5)"
            },
            "type": "circle",
            "x0": 0.26128978737758424,
            "x1": 0.6612897873775843,
            "xref": "x",
            "y0": 5.753815594850662,
            "y1": 6.153815594850663,
            "yref": "y"
           },
           {
            "fillcolor": "rgba(255, 89, 0, 0.5)",
            "line": {
             "color": "rgba(255, 89, 0, 0.5)"
            },
            "type": "circle",
            "x0": 0.19991788173524233,
            "x1": 0.5999178817352424,
            "xref": "x",
            "y0": 2.8355247286666283,
            "y1": 3.2355247286666287,
            "yref": "y"
           },
           {
            "fillcolor": "rgba(173, 255, 73, 0.5)",
            "line": {
             "color": "rgba(173, 255, 73, 0.5)"
            },
            "type": "circle",
            "x0": 0.8753975035592698,
            "x1": 1.2753975035592697,
            "xref": "x",
            "y0": 4.553260441104535,
            "y1": 4.953260441104535,
            "yref": "y"
           },
           {
            "fillcolor": "rgba(0, 0, 146, 0.5)",
            "line": {
             "color": "rgba(0, 0, 146, 0.5)"
            },
            "type": "circle",
            "x0": 2.6175704167405236,
            "x1": 3.017570416740524,
            "xref": "x",
            "y0": 5.2158291920963205,
            "y1": 5.615829192096321,
            "yref": "y"
           },
           {
            "fillcolor": "rgba(51, 255, 196, 0.5)",
            "line": {
             "color": "rgba(51, 255, 196, 0.5)"
            },
            "type": "circle",
            "x0": -0.07237769283186357,
            "x1": 0.32762230716813645,
            "xref": "x",
            "y0": 4.767419788539456,
            "y1": 5.167419788539457,
            "yref": "y"
           },
           {
            "fillcolor": "rgba(0, 0, 205, 0.5)",
            "line": {
             "color": "rgba(0, 0, 205, 0.5)"
            },
            "type": "circle",
            "x0": 3.4880316615469984,
            "x1": 3.8880316615469988,
            "xref": "x",
            "y0": 3.714601967006786,
            "y1": 4.114601967006786,
            "yref": "y"
           },
           {
            "fillcolor": "rgba(0, 109, 255, 0.5)",
            "line": {
             "color": "rgba(0, 109, 255, 0.5)"
            },
            "type": "circle",
            "x0": 2.4039275184418587,
            "x1": 2.803927518441859,
            "xref": "x",
            "y0": 3.5337742844717224,
            "y1": 3.9337742844717227,
            "yref": "y"
           },
           {
            "fillcolor": "rgba(235, 255, 12, 0.5)",
            "line": {
             "color": "rgba(235, 255, 12, 0.5)"
            },
            "type": "circle",
            "x0": 1.8449974393974944,
            "x1": 2.2449974393974945,
            "xref": "x",
            "y0": 4.9977674438123785,
            "y1": 5.397767443812379,
            "yref": "y"
           },
           {
            "line": {
             "color": "white",
             "width": 3
            },
            "type": "line",
            "x0": 1.3120721994015225,
            "x1": 1.2420285528137138,
            "y0": 5.674888209547962,
            "y1": 5.862221835927964
           },
           {
            "line": {
             "color": "black",
             "width": 3
            },
            "type": "line",
            "x0": 0.6861497784838368,
            "x1": 0.6517373712391733,
            "y0": 3.9851159117196246,
            "y1": 4.182133134894725
           },
           {
            "line": {
             "color": "white",
             "width": 3
            },
            "type": "line",
            "x0": 0.46128978737758425,
            "x1": 0.4231189684690422,
            "y0": 5.953815594850663,
            "y1": 6.150139278047192
           },
           {
            "line": {
             "color": "black",
             "width": 3
            },
            "type": "line",
            "x0": 0.39991788173524234,
            "x1": 0.3849722877211787,
            "y0": 3.0355247286666285,
            "y1": 3.234965519929516
           },
           {
            "line": {
             "color": "black",
             "width": 3
            },
            "type": "line",
            "x0": 1.0753975035592698,
            "x1": 1.0360052197586613,
            "y0": 4.753260441104535,
            "y1": 4.949342689094944
           },
           {
            "line": {
             "color": "white",
             "width": 3
            },
            "type": "line",
            "x0": 2.8175704167405238,
            "x1": 2.716357546489287,
            "y0": 5.415829192096321,
            "y1": 5.588328336718856
           },
           {
            "line": {
             "color": "black",
             "width": 3
            },
            "type": "line",
            "x0": 0.12762230716813644,
            "x1": 0.11473400906805536,
            "y0": 4.967419788539456,
            "y1": 5.1670040859480535
           },
           {
            "line": {
             "color": "white",
             "width": 3
            },
            "type": "line",
            "x0": 3.6880316615469986,
            "x1": 3.5716646915028702,
            "y0": 3.914601967006786,
            "y1": 4.077263358500739
           },
           {
            "line": {
             "color": "white",
             "width": 3
            },
            "type": "line",
            "x0": 2.603927518441859,
            "x1": 2.514046369423866,
            "y0": 3.7337742844717225,
            "y1": 3.9124398352956162
           },
           {
            "line": {
             "color": "black",
             "width": 3
            },
            "type": "line",
            "x0": 2.0449974393974943,
            "x1": 1.9343357248638167,
            "y0": 5.197767443812379,
            "y1": 5.364362716663882
           }
          ],
          "title": {
           "text": "<b>Number of Agents: 10</b>",
           "x": 0.5
          }
         },
         "name": "80"
        },
        {
         "data": [
          {
           "hoverinfo": "name",
           "line": {
            "color": "grey"
           },
           "mode": "lines",
           "name": "Exterior",
           "showlegend": false,
           "type": "scatter",
           "x": [
            -10,
            -10,
            10,
            10,
            -10
           ],
           "y": [
            10,
            -10,
            -10,
            10,
            10
           ]
          },
          {
           "hoverinfo": "text",
           "marker": {
            "opacity": 1,
            "size": 1
           },
           "mode": "markers",
           "showlegend": false,
           "text": [
            "ID: 1, Pos(1.22,5.94)"
           ],
           "type": "scatter",
           "x": [
            1.2213105217882907
           ],
           "y": [
            5.936590681656894
           ]
          },
          {
           "hoverinfo": "text",
           "marker": {
            "opacity": 1,
            "size": 1
           },
           "mode": "markers",
           "showlegend": false,
           "text": [
            "ID: 2, Pos(0.66,4.13)"
           ],
           "type": "scatter",
           "x": [
            0.6619985226118583
           ],
           "y": [
            4.127668989212472
           ]
          },
          {
           "hoverinfo": "text",
           "marker": {
            "opacity": 1,
            "size": 1
           },
           "mode": "markers",
           "showlegend": false,
           "text": [
            "ID: 3, Pos(0.41,6.22)"
           ],
           "type": "scatter",
           "x": [
            0.4075294947498662
           ],
           "y": [
            6.215109537669171
           ]
          },
          {
           "hoverinfo": "text",
           "marker": {
            "opacity": 1,
            "size": 1
           },
           "mode": "markers",
           "showlegend": false,
           "text": [
            "ID: 4, Pos(0.39,3.16)"
           ],
           "type": "scatter",
           "x": [
            0.39106504632795164
           ],
           "y": [
            3.155310390592258
           ]
          },
          {
           "hoverinfo": "text",
           "marker": {
            "opacity": 1,
            "size": 1
           },
           "mode": "markers",
           "showlegend": false,
           "text": [
            "ID: 5, Pos(1.05,4.90)"
           ],
           "type": "scatter",
           "x": [
            1.0450316838813984
           ],
           "y": [
            4.903951669471013
           ]
          },
          {
           "hoverinfo": "text",
           "marker": {
            "opacity": 1,
            "size": 1
           },
           "mode": "markers",
           "showlegend": false,
           "text": [
            "ID: 6, Pos(2.68,5.65)"
           ],
           "type": "scatter",
           "x": [
            2.6829923703435234
           ],
           "y": [
            5.653698243865546
           ]
          },
          {
           "hoverinfo": "text",
           "marker": {
            "opacity": 1,
            "size": 1
           },
           "mode": "markers",
           "showlegend": false,
           "text": [
            "ID: 7, Pos(0.12,5.11)"
           ],
           "type": "scatter",
           "x": [
            0.11842587326152687
           ],
           "y": [
            5.105644476486773
           ]
          },
          {
           "hoverinfo": "text",
           "marker": {
            "opacity": 1,
            "size": 1
           },
           "mode": "markers",
           "showlegend": false,
           "text": [
            "ID: 8, Pos(3.53,4.13)"
           ],
           "type": "scatter",
           "x": [
            3.5348035989026005
           ],
           "y": [
            4.12962339242983
           ]
          },
          {
           "hoverinfo": "text",
           "marker": {
            "opacity": 1,
            "size": 1
           },
           "mode": "markers",
           "showlegend": false,
           "text": [
            "ID: 9, Pos(2.50,3.93)"
           ],
           "type": "scatter",
           "x": [
            2.503983150334648
           ],
           "y": [
            3.9315036993612966
           ]
          },
          {
           "hoverinfo": "text",
           "marker": {
            "opacity": 1,
            "size": 1
           },
           "mode": "markers",
           "showlegend": false,
           "text": [
            "ID: 10, Pos(1.98,5.29)"
           ],
           "type": "scatter",
           "x": [
            1.9827465362062362
           ],
           "y": [
            5.28512361922149
           ]
          }
         ],
         "layout": {
          "shapes": [
           {
            "fillcolor": "rgba(0, 0, 128, 0.5)",
            "line": {
             "color": "rgba(0, 0, 128, 0.5)"
            },
            "type": "circle",
            "x0": 1.0213105217882907,
            "x1": 1.4213105217882906,
            "xref": "x",
            "y0": 5.736590681656894,
            "y1": 6.1365906816568945,
            "yref": "y"
           },
           {
            "fillcolor": "rgba(255, 215, 0, 0.5)",
            "line": {
             "color": "rgba(255, 215, 0, 0.5)"
            },
            "type": "circle",
            "x0": 0.4619985226118583,
            "x1": 0.8619985226118583,
            "xref": "x",
            "y0": 3.9276689892124717,
            "y1": 4.327668989212472,
            "yref": "y"
           },
           {
            "fillcolor": "rgba(0, 0, 187, 0.5)",
            "line": {
             "color": "rgba(0, 0, 187, 0.5)"
            },
            "type": "circle",
            "x0": 0.2075294947498662,
            "x1": 0.6075294947498662,
            "xref": "x",
            "y0": 6.015109537669171,
            "y1": 6.415109537669172,
            "yref": "y"
           },
           {
            "fillcolor": "rgba(255, 108, 0, 0.5)",
            "line": {
             "color": "rgba(255, 108, 0, 0.5)"
            },
            "type": "circle",
            "x0": 0.19106504632795163,
            "x1": 0.5910650463279516,
            "xref": "x",
            "y0": 2.955310390592258,
            "y1": 3.3553103905922583,
            "yref": "y"
           },
           {
            "fillcolor": "rgba(255, 230, 0, 0.5)",
            "line": {
             "color": "rgba(255, 230, 0, 0.5)"
            },
            "type": "circle",
            "x0": 0.8450316838813985,
            "x1": 1.2450316838813984,
            "xref": "x",
            "y0": 4.703951669471013,
            "y1": 5.103951669471013,
            "yref": "y"
           },
           {
            "fillcolor": "rgba(0, 0, 146, 0.5)",
            "line": {
             "color": "rgba(0, 0, 146, 0.5)"
            },
            "type": "circle",
            "x0": 2.4829923703435233,
            "x1": 2.8829923703435236,
            "xref": "x",
            "y0": 5.453698243865546,
            "y1": 5.853698243865546,
            "yref": "y"
           },
           {
            "fillcolor": "rgba(254, 237, 0, 0.5)",
            "line": {
             "color": "rgba(254, 237, 0, 0.5)"
            },
            "type": "circle",
            "x0": -0.08157412673847314,
            "x1": 0.3184258732615269,
            "xref": "x",
            "y0": 4.905644476486773,
            "y1": 5.305644476486774,
            "yref": "y"
           },
           {
            "fillcolor": "rgba(0, 0, 205, 0.5)",
            "line": {
             "color": "rgba(0, 0, 205, 0.5)"
            },
            "type": "circle",
            "x0": 3.3348035989026004,
            "x1": 3.7348035989026007,
            "xref": "x",
            "y0": 3.9296233924298294,
            "y1": 4.32962339242983,
            "yref": "y"
           },
           {
            "fillcolor": "rgba(0, 212, 255, 0.5)",
            "line": {
             "color": "rgba(0, 212, 255, 0.5)"
            },
            "type": "circle",
            "x0": 2.303983150334648,
            "x1": 2.7039831503346483,
            "xref": "x",
            "y0": 3.7315036993612964,
            "y1": 4.131503699361296,
            "yref": "y"
           },
           {
            "fillcolor": "rgba(255, 96, 0, 0.5)",
            "line": {
             "color": "rgba(255, 96, 0, 0.5)"
            },
            "type": "circle",
            "x0": 1.7827465362062362,
            "x1": 2.182746536206236,
            "xref": "x",
            "y0": 5.0851236192214895,
            "y1": 5.48512361922149,
            "yref": "y"
           },
           {
            "line": {
             "color": "white",
             "width": 3
            },
            "type": "line",
            "x0": 1.2213105217882907,
            "x1": 1.1583325082471336,
            "y0": 5.936590681656894,
            "y1": 6.126416311671416
           },
           {
            "line": {
             "color": "black",
             "width": 3
            },
            "type": "line",
            "x0": 0.6619985226118583,
            "x1": 0.6282344988757038,
            "y0": 4.127668989212472,
            "y1": 4.32479836475337
           },
           {
            "line": {
             "color": "white",
             "width": 3
            },
            "type": "line",
            "x0": 0.4075294947498662,
            "x1": 0.36556964800067937,
            "y0": 6.215109537669171,
            "y1": 6.410658435034472
           },
           {
            "line": {
             "color": "black",
             "width": 3
            },
            "type": "line",
            "x0": 0.39106504632795164,
            "x1": 0.3764815239218505,
            "y0": 3.155310390592258,
            "y1": 3.354777984136249
           },
           {
            "line": {
             "color": "black",
             "width": 3
            },
            "type": "line",
            "x0": 1.0450316838813984,
            "x1": 1.0062924508741504,
            "y0": 4.903951669471013,
            "y1": 5.100163982606581
           },
           {
            "line": {
             "color": "white",
             "width": 3
            },
            "type": "line",
            "x0": 2.6829923703435234,
            "x1": 2.5846327465748677,
            "y0": 5.653698243865546,
            "y1": 5.827840095274357
           },
           {
            "line": {
             "color": "black",
             "width": 3
            },
            "type": "line",
            "x0": 0.11842587326152687,
            "x1": 0.10508249633874832,
            "y0": 5.105644476486773,
            "y1": 5.305198865795294
           },
           {
            "line": {
             "color": "white",
             "width": 3
            },
            "type": "line",
            "x0": 3.5348035989026005,
            "x1": 3.4190693627868107,
            "y0": 4.12962339242983,
            "y1": 4.292735582626316
           },
           {
            "line": {
             "color": "black",
             "width": 3
            },
            "type": "line",
            "x0": 2.503983150334648,
            "x1": 2.4133706663032295,
            "y0": 3.9315036993612966,
            "y1": 4.109799458530313
           },
           {
            "line": {
             "color": "black",
             "width": 3
            },
            "type": "line",
            "x0": 1.9827465362062362,
            "x1": 1.865258815570119,
            "y0": 5.28512361922149,
            "y1": 5.446977366474155
           }
          ],
          "title": {
           "text": "<b>Number of Agents: 10</b>",
           "x": 0.5
          }
         },
         "name": "85"
        },
        {
         "data": [
          {
           "hoverinfo": "name",
           "line": {
            "color": "grey"
           },
           "mode": "lines",
           "name": "Exterior",
           "showlegend": false,
           "type": "scatter",
           "x": [
            -10,
            -10,
            10,
            10,
            -10
           ],
           "y": [
            10,
            -10,
            -10,
            10,
            10
           ]
          },
          {
           "hoverinfo": "text",
           "marker": {
            "opacity": 1,
            "size": 1
           },
           "mode": "markers",
           "showlegend": false,
           "text": [
            "ID: 1, Pos(1.14,6.20)"
           ],
           "type": "scatter",
           "x": [
            1.1365700185721936
           ],
           "y": [
            6.2003159083659884
           ]
          },
          {
           "hoverinfo": "text",
           "marker": {
            "opacity": 1,
            "size": 1
           },
           "mode": "markers",
           "showlegend": false,
           "text": [
            "ID: 2, Pos(0.64,4.27)"
           ],
           "type": "scatter",
           "x": [
            0.6373063042477023
           ],
           "y": [
            4.26972580311743
           ]
          },
          {
           "hoverinfo": "text",
           "marker": {
            "opacity": 1,
            "size": 1
           },
           "mode": "markers",
           "showlegend": false,
           "text": [
            "ID: 3, Pos(0.35,6.48)"
           ],
           "type": "scatter",
           "x": [
            0.3496138976492764
           ],
           "y": [
            6.475516009799925
           ]
          },
          {
           "hoverinfo": "text",
           "marker": {
            "opacity": 1,
            "size": 1
           },
           "mode": "markers",
           "showlegend": false,
           "text": [
            "ID: 4, Pos(0.38,3.28)"
           ],
           "type": "scatter",
           "x": [
            0.3821618193940781
           ],
           "y": [
            3.278255735008095
           ]
          },
          {
           "hoverinfo": "text",
           "marker": {
            "opacity": 1,
            "size": 1
           },
           "mode": "markers",
           "showlegend": false,
           "text": [
            "ID: 5, Pos(1.02,5.04)"
           ],
           "type": "scatter",
           "x": [
            1.0176254807644052
           ],
           "y": [
            5.042112441487265
           ]
          },
          {
           "hoverinfo": "text",
           "marker": {
            "opacity": 1,
            "size": 1
           },
           "mode": "markers",
           "showlegend": false,
           "text": [
            "ID: 6, Pos(2.54,5.89)"
           ],
           "type": "scatter",
           "x": [
            2.5446206628978425
           ],
           "y": [
            5.889367711562867
           ]
          },
          {
           "hoverinfo": "text",
           "marker": {
            "opacity": 1,
            "size": 1
           },
           "mode": "markers",
           "showlegend": false,
           "text": [
            "ID: 7, Pos(0.11,5.26)"
           ],
           "type": "scatter",
           "x": [
            0.10783943278266414
           ],
           "y": [
            5.263342624838679
           ]
          },
          {
           "hoverinfo": "text",
           "marker": {
            "opacity": 1,
            "size": 1
           },
           "mode": "markers",
           "showlegend": false,
           "text": [
            "ID: 8, Pos(3.38,4.35)"
           ],
           "type": "scatter",
           "x": [
            3.3827309958529295
           ],
           "y": [
            4.345463112079527
           ]
          },
          {
           "hoverinfo": "text",
           "marker": {
            "opacity": 1,
            "size": 1
           },
           "mode": "markers",
           "showlegend": false,
           "text": [
            "ID: 9, Pos(2.41,4.11)"
           ],
           "type": "scatter",
           "x": [
            2.4116394306828326
           ],
           "y": [
            4.111676645210646
           ]
          },
          {
           "hoverinfo": "text",
           "marker": {
            "opacity": 1,
            "size": 1
           },
           "mode": "markers",
           "showlegend": false,
           "text": [
            "ID: 10, Pos(1.91,5.39)"
           ],
           "type": "scatter",
           "x": [
            1.9072238144873113
           ],
           "y": [
            5.392741863195925
           ]
          }
         ],
         "layout": {
          "shapes": [
           {
            "fillcolor": "rgba(0, 0, 128, 0.5)",
            "line": {
             "color": "rgba(0, 0, 128, 0.5)"
            },
            "type": "circle",
            "x0": 0.9365700185721937,
            "x1": 1.3365700185721936,
            "xref": "x",
            "y0": 6.000315908365988,
            "y1": 6.400315908365989,
            "yref": "y"
           },
           {
            "fillcolor": "rgba(255, 222, 0, 0.5)",
            "line": {
             "color": "rgba(255, 222, 0, 0.5)"
            },
            "type": "circle",
            "x0": 0.4373063042477023,
            "x1": 0.8373063042477022,
            "xref": "x",
            "y0": 4.0697258031174295,
            "y1": 4.46972580311743,
            "yref": "y"
           },
           {
            "fillcolor": "rgba(0, 0, 187, 0.5)",
            "line": {
             "color": "rgba(0, 0, 187, 0.5)"
            },
            "type": "circle",
            "x0": 0.1496138976492764,
            "x1": 0.5496138976492764,
            "xref": "x",
            "y0": 6.275516009799925,
            "y1": 6.675516009799925,
            "yref": "y"
           },
           {
            "fillcolor": "rgba(255, 122, 0, 0.5)",
            "line": {
             "color": "rgba(255, 122, 0, 0.5)"
            },
            "type": "circle",
            "x0": 0.1821618193940781,
            "x1": 0.5821618193940781,
            "xref": "x",
            "y0": 3.078255735008095,
            "y1": 3.478255735008095,
            "yref": "y"
           },
           {
            "fillcolor": "rgba(241, 252, 6, 0.5)",
            "line": {
             "color": "rgba(241, 252, 6, 0.5)"
            },
            "type": "circle",
            "x0": 0.8176254807644052,
            "x1": 1.2176254807644051,
            "xref": "x",
            "y0": 4.842112441487265,
            "y1": 5.242112441487265,
            "yref": "y"
           },
           {
            "fillcolor": "rgba(0, 0, 146, 0.5)",
            "line": {
             "color": "rgba(0, 0, 146, 0.5)"
            },
            "type": "circle",
            "x0": 2.3446206628978423,
            "x1": 2.7446206628978427,
            "xref": "x",
            "y0": 5.689367711562867,
            "y1": 6.0893677115628675,
            "yref": "y"
           },
           {
            "fillcolor": "rgba(180, 255, 67, 0.5)",
            "line": {
             "color": "rgba(180, 255, 67, 0.5)"
            },
            "type": "circle",
            "x0": -0.09216056721733587,
            "x1": 0.3078394327826641,
            "xref": "x",
            "y0": 5.063342624838679,
            "y1": 5.463342624838679,
            "yref": "y"
           },
           {
            "fillcolor": "rgba(0, 0, 205, 0.5)",
            "line": {
             "color": "rgba(0, 0, 205, 0.5)"
            },
            "type": "circle",
            "x0": 3.1827309958529293,
            "x1": 3.5827309958529296,
            "xref": "x",
            "y0": 4.1454631120795264,
            "y1": 4.545463112079527,
            "yref": "y"
           },
           {
            "fillcolor": "rgba(51, 255, 196, 0.5)",
            "line": {
             "color": "rgba(51, 255, 196, 0.5)"
            },
            "type": "circle",
            "x0": 2.2116394306828324,
            "x1": 2.6116394306828328,
            "xref": "x",
            "y0": 3.9116766452106457,
            "y1": 4.311676645210646,
            "yref": "y"
           },
           {
            "fillcolor": "rgba(255, 208, 0, 0.5)",
            "line": {
             "color": "rgba(255, 208, 0, 0.5)"
            },
            "type": "circle",
            "x0": 1.7072238144873113,
            "x1": 2.107223814487311,
            "xref": "x",
            "y0": 5.192741863195925,
            "y1": 5.592741863195926,
            "yref": "y"
           },
           {
            "line": {
             "color": "white",
             "width": 3
            },
            "type": "line",
            "x0": 1.1365700185721936,
            "x1": 1.0768249690188274,
            "y0": 6.2003159083659884,
            "y1": 6.391183739741173
           },
           {
            "line": {
             "color": "black",
             "width": 3
            },
            "type": "line",
            "x0": 0.6373063042477023,
            "x1": 0.6029196493046289,
            "y0": 4.26972580311743,
            "y1": 4.466747522635421
           },
           {
            "line": {
             "color": "white",
             "width": 3
            },
            "type": "line",
            "x0": 0.3496138976492764,
            "x1": 0.3050051394457915,
            "y0": 6.475516009799925,
            "y1": 6.670477694988433
           },
           {
            "line": {
             "color": "black",
             "width": 3
            },
            "type": "line",
            "x0": 0.3821618193940781,
            "x1": 0.36783014542871195,
            "y0": 3.278255735008095,
            "y1": 3.4777415819279964
           },
           {
            "line": {
             "color": "black",
             "width": 3
            },
            "type": "line",
            "x0": 1.0176254807644052,
            "x1": 0.9779557469420319,
            "y0": 5.042112441487265,
            "y1": 5.23813874640184
           },
           {
            "line": {
             "color": "white",
             "width": 3
            },
            "type": "line",
            "x0": 2.5446206628978425,
            "x1": 2.4403023696487924,
            "y0": 5.889367711562867,
            "y1": 6.0600067859087074
           },
           {
            "line": {
             "color": "black",
             "width": 3
            },
            "type": "line",
            "x0": 0.10783943278266414,
            "x1": 0.09432574465463131,
            "y0": 5.263342624838679,
            "y1": 5.46288555313527
           },
           {
            "line": {
             "color": "white",
             "width": 3
            },
            "type": "line",
            "x0": 3.3827309958529295,
            "x1": 3.268121348723382,
            "y0": 4.345463112079527,
            "y1": 4.509367440225066
           },
           {
            "line": {
             "color": "black",
             "width": 3
            },
            "type": "line",
            "x0": 2.4116394306828326,
            "x1": 2.3197506782163684,
            "y0": 4.111676645210646,
            "y1": 4.289318017559986
           },
           {
            "line": {
             "color": "black",
             "width": 3
            },
            "type": "line",
            "x0": 1.9072238144873113,
            "x1": 1.7955055860546292,
            "y0": 5.392741863195925,
            "y1": 5.558630492811891
           }
          ],
          "title": {
           "text": "<b>Number of Agents: 10</b>",
           "x": 0.5
          }
         },
         "name": "90"
        },
        {
         "data": [
          {
           "hoverinfo": "name",
           "line": {
            "color": "grey"
           },
           "mode": "lines",
           "name": "Exterior",
           "showlegend": false,
           "type": "scatter",
           "x": [
            -10,
            -10,
            10,
            10,
            -10
           ],
           "y": [
            10,
            -10,
            -10,
            10,
            10
           ]
          },
          {
           "hoverinfo": "text",
           "marker": {
            "opacity": 1,
            "size": 1
           },
           "mode": "markers",
           "showlegend": false,
           "text": [
            "ID: 1, Pos(1.06,6.47)"
           ],
           "type": "scatter",
           "x": [
            1.0555803845952856
           ],
           "y": [
            6.465218754979366
           ]
          },
          {
           "hoverinfo": "text",
           "marker": {
            "opacity": 1,
            "size": 1
           },
           "mode": "markers",
           "showlegend": false,
           "text": [
            "ID: 2, Pos(0.61,4.41)"
           ],
           "type": "scatter",
           "x": [
            0.6123366863129015
           ],
           "y": [
            4.414497131126065
           ]
          },
          {
           "hoverinfo": "text",
           "marker": {
            "opacity": 1,
            "size": 1
           },
           "mode": "markers",
           "showlegend": false,
           "text": [
            "ID: 3, Pos(0.29,6.74)"
           ],
           "type": "scatter",
           "x": [
            0.2887313466837755
           ],
           "y": [
            6.735245892065905
           ]
          },
          {
           "hoverinfo": "text",
           "marker": {
            "opacity": 1,
            "size": 1
           },
           "mode": "markers",
           "showlegend": false,
           "text": [
            "ID: 4, Pos(0.37,3.40)"
           ],
           "type": "scatter",
           "x": [
            0.37319537753235776
           ],
           "y": [
            3.4040513055753405
           ]
          },
          {
           "hoverinfo": "text",
           "marker": {
            "opacity": 1,
            "size": 1
           },
           "mode": "markers",
           "showlegend": false,
           "text": [
            "ID: 5, Pos(0.98,5.20)"
           ],
           "type": "scatter",
           "x": [
            0.9836936319693034
           ],
           "y": [
            5.201297005907842
           ]
          },
          {
           "hoverinfo": "text",
           "marker": {
            "opacity": 1,
            "size": 1
           },
           "mode": "markers",
           "showlegend": false,
           "text": [
            "ID: 6, Pos(2.40,6.12)"
           ],
           "type": "scatter",
           "x": [
            2.397627852809493
           ],
           "y": [
            6.119759510988152
           ]
          },
          {
           "hoverinfo": "text",
           "marker": {
            "opacity": 1,
            "size": 1
           },
           "mode": "markers",
           "showlegend": false,
           "text": [
            "ID: 7, Pos(0.10,5.44)"
           ],
           "type": "scatter",
           "x": [
            0.09576432701715153
           ],
           "y": [
            5.437554494625785
           ]
          },
          {
           "hoverinfo": "text",
           "marker": {
            "opacity": 1,
            "size": 1
           },
           "mode": "markers",
           "showlegend": false,
           "text": [
            "ID: 8, Pos(3.23,4.56)"
           ],
           "type": "scatter",
           "x": [
            3.232566981346604
           ],
           "y": [
            4.562634125050826
           ]
          },
          {
           "hoverinfo": "text",
           "marker": {
            "opacity": 1,
            "size": 1
           },
           "mode": "markers",
           "showlegend": false,
           "text": [
            "ID: 9, Pos(2.32,4.28)"
           ],
           "type": "scatter",
           "x": [
            2.322930017083036
           ],
           "y": [
            4.280936211707782
           ]
          },
          {
           "hoverinfo": "text",
           "marker": {
            "opacity": 1,
            "size": 1
           },
           "mode": "markers",
           "showlegend": false,
           "text": [
            "ID: 10, Pos(1.83,5.52)"
           ],
           "type": "scatter",
           "x": [
            1.8252923627222446
           ],
           "y": [
            5.522030229707559
           ]
          }
         ],
         "layout": {
          "shapes": [
           {
            "fillcolor": "rgba(0, 0, 128, 0.5)",
            "line": {
             "color": "rgba(0, 0, 128, 0.5)"
            },
            "type": "circle",
            "x0": 0.8555803845952856,
            "x1": 1.2555803845952855,
            "xref": "x",
            "y0": 6.265218754979366,
            "y1": 6.6652187549793664,
            "yref": "y"
           },
           {
            "fillcolor": "rgba(251, 241, 0, 0.5)",
            "line": {
             "color": "rgba(251, 241, 0, 0.5)"
            },
            "type": "circle",
            "x0": 0.4123366863129015,
            "x1": 0.8123366863129016,
            "xref": "x",
            "y0": 4.214497131126064,
            "y1": 4.614497131126065,
            "yref": "y"
           },
           {
            "fillcolor": "rgba(0, 0, 187, 0.5)",
            "line": {
             "color": "rgba(0, 0, 187, 0.5)"
            },
            "type": "circle",
            "x0": 0.08873134668377547,
            "x1": 0.4887313466837755,
            "xref": "x",
            "y0": 6.5352458920659044,
            "y1": 6.935245892065905,
            "yref": "y"
           },
           {
            "fillcolor": "rgba(255, 134, 0, 0.5)",
            "line": {
             "color": "rgba(255, 134, 0, 0.5)"
            },
            "type": "circle",
            "x0": 0.17319537753235775,
            "x1": 0.5731953775323577,
            "xref": "x",
            "y0": 3.2040513055753403,
            "y1": 3.6040513055753407,
            "yref": "y"
           },
           {
            "fillcolor": "rgba(154, 255, 93, 0.5)",
            "line": {
             "color": "rgba(154, 255, 93, 0.5)"
            },
            "type": "circle",
            "x0": 0.7836936319693033,
            "x1": 1.1836936319693034,
            "xref": "x",
            "y0": 5.001297005907841,
            "y1": 5.401297005907842,
            "yref": "y"
           },
           {
            "fillcolor": "rgba(0, 0, 146, 0.5)",
            "line": {
             "color": "rgba(0, 0, 146, 0.5)"
            },
            "type": "circle",
            "x0": 2.197627852809493,
            "x1": 2.5976278528094934,
            "xref": "x",
            "y0": 5.919759510988152,
            "y1": 6.319759510988153,
            "yref": "y"
           },
           {
            "fillcolor": "rgba(115, 255, 131, 0.5)",
            "line": {
             "color": "rgba(115, 255, 131, 0.5)"
            },
            "type": "circle",
            "x0": -0.10423567298284848,
            "x1": 0.29576432701715155,
            "xref": "x",
            "y0": 5.237554494625785,
            "y1": 5.637554494625785,
            "yref": "y"
           },
           {
            "fillcolor": "rgba(0, 0, 205, 0.5)",
            "line": {
             "color": "rgba(0, 0, 205, 0.5)"
            },
            "type": "circle",
            "x0": 3.0325669813466036,
            "x1": 3.432566981346604,
            "xref": "x",
            "y0": 4.362634125050826,
            "y1": 4.762634125050826,
            "yref": "y"
           },
           {
            "fillcolor": "rgba(86, 255, 160, 0.5)",
            "line": {
             "color": "rgba(86, 255, 160, 0.5)"
            },
            "type": "circle",
            "x0": 2.1229300170830356,
            "x1": 2.522930017083036,
            "xref": "x",
            "y0": 4.080936211707781,
            "y1": 4.480936211707782,
            "yref": "y"
           },
           {
            "fillcolor": "rgba(196, 255, 51, 0.5)",
            "line": {
             "color": "rgba(196, 255, 51, 0.5)"
            },
            "type": "circle",
            "x0": 1.6252923627222446,
            "x1": 2.0252923627222446,
            "xref": "x",
            "y0": 5.322030229707559,
            "y1": 5.722030229707559,
            "yref": "y"
           },
           {
            "line": {
             "color": "white",
             "width": 3
            },
            "type": "line",
            "x0": 1.0555803845952856,
            "x1": 0.9981303676333473,
            "y0": 6.465218754979366,
            "y1": 6.65678987898054
           },
           {
            "line": {
             "color": "black",
             "width": 3
            },
            "type": "line",
            "x0": 0.6123366863129015,
            "x1": 0.5788691435766438,
            "y0": 4.414497131126065,
            "y1": 4.611677058053723
           },
           {
            "line": {
             "color": "white",
             "width": 3
            },
            "type": "line",
            "x0": 0.2887313466837755,
            "x1": 0.24227693110925547,
            "y0": 6.735245892065905,
            "y1": 6.929776062665814
           },
           {
            "line": {
             "color": "black",
             "width": 3
            },
            "type": "line",
            "x0": 0.37319537753235776,
            "x1": 0.35907232846562653,
            "y0": 3.4040513055753405,
            "y1": 3.603552031100484
           },
           {
            "line": {
             "color": "black",
             "width": 3
            },
            "type": "line",
            "x0": 0.9836936319693034,
            "x1": 0.9398362659331702,
            "y0": 5.201297005907842,
            "y1": 5.396429093080537
           },
           {
            "line": {
             "color": "white",
             "width": 3
            },
            "type": "line",
            "x0": 2.397627852809493,
            "x1": 2.287402138006878,
            "y0": 6.119759510988152,
            "y1": 6.286643577921615
           },
           {
            "line": {
             "color": "black",
             "width": 3
            },
            "type": "line",
            "x0": 0.09576432701715153,
            "x1": 0.08156004161618485,
            "y0": 5.437554494625785,
            "y1": 5.637049452647906
           },
           {
            "line": {
             "color": "white",
             "width": 3
            },
            "type": "line",
            "x0": 3.232566981346604,
            "x1": 3.1196966974134566,
            "y0": 4.562634125050826,
            "y1": 4.727741057082315
           },
           {
            "line": {
             "color": "black",
             "width": 3
            },
            "type": "line",
            "x0": 2.322930017083036,
            "x1": 2.229115332283976,
            "y0": 4.280936211707782,
            "y1": 4.457568046086676
           },
           {
            "line": {
             "color": "black",
             "width": 3
            },
            "type": "line",
            "x0": 1.8252923627222446,
            "x1": 1.7224620834571038,
            "y0": 5.522030229707559,
            "y1": 5.693570119139298
           }
          ],
          "title": {
           "text": "<b>Number of Agents: 10</b>",
           "x": 0.5
          }
         },
         "name": "95"
        },
        {
         "data": [
          {
           "hoverinfo": "name",
           "line": {
            "color": "grey"
           },
           "mode": "lines",
           "name": "Exterior",
           "showlegend": false,
           "type": "scatter",
           "x": [
            -10,
            -10,
            10,
            10,
            -10
           ],
           "y": [
            10,
            -10,
            -10,
            10,
            10
           ]
          },
          {
           "hoverinfo": "text",
           "marker": {
            "opacity": 1,
            "size": 1
           },
           "mode": "markers",
           "showlegend": false,
           "text": [
            "ID: 1, Pos(0.98,6.73)"
           ],
           "type": "scatter",
           "x": [
            0.9772126605101714
           ],
           "y": [
            6.730910004201922
           ]
          },
          {
           "hoverinfo": "text",
           "marker": {
            "opacity": 1,
            "size": 1
           },
           "mode": "markers",
           "showlegend": false,
           "text": [
            "ID: 2, Pos(0.59,4.56)"
           ],
           "type": "scatter",
           "x": [
            0.5875325620938784
           ],
           "y": [
            4.5643603538410495
           ]
          },
          {
           "hoverinfo": "text",
           "marker": {
            "opacity": 1,
            "size": 1
           },
           "mode": "markers",
           "showlegend": false,
           "text": [
            "ID: 3, Pos(0.23,6.99)"
           ],
           "type": "scatter",
           "x": [
            0.22594806491133734
           ],
           "y": [
            6.994523566304945
           ]
          },
          {
           "hoverinfo": "text",
           "marker": {
            "opacity": 1,
            "size": 1
           },
           "mode": "markers",
           "showlegend": false,
           "text": [
            "ID: 4, Pos(0.36,3.53)"
           ],
           "type": "scatter",
           "x": [
            0.3641343259718525
           ],
           "y": [
            3.532964940968098
           ]
          },
          {
           "hoverinfo": "text",
           "marker": {
            "opacity": 1,
            "size": 1
           },
           "mode": "markers",
           "showlegend": false,
           "text": [
            "ID: 5, Pos(0.94,5.38)"
           ],
           "type": "scatter",
           "x": [
            0.9409896998223644
           ],
           "y": [
            5.377929480554271
           ]
          },
          {
           "hoverinfo": "text",
           "marker": {
            "opacity": 1,
            "size": 1
           },
           "mode": "markers",
           "showlegend": false,
           "text": [
            "ID: 6, Pos(2.24,6.35)"
           ],
           "type": "scatter",
           "x": [
            2.2439439375493957
           ],
           "y": [
            6.345752013872753
           ]
          },
          {
           "hoverinfo": "text",
           "marker": {
            "opacity": 1,
            "size": 1
           },
           "mode": "markers",
           "showlegend": false,
           "text": [
            "ID: 7, Pos(0.08,5.63)"
           ],
           "type": "scatter",
           "x": [
            0.08168928710841557
           ],
           "y": [
            5.625714786599473
           ]
          },
          {
           "hoverinfo": "text",
           "marker": {
            "opacity": 1,
            "size": 1
           },
           "mode": "markers",
           "showlegend": false,
           "text": [
            "ID: 8, Pos(3.09,4.78)"
           ],
           "type": "scatter",
           "x": [
            3.0850411312541173
           ],
           "y": [
            4.781605044449747
           ]
          },
          {
           "hoverinfo": "text",
           "marker": {
            "opacity": 1,
            "size": 1
           },
           "mode": "markers",
           "showlegend": false,
           "text": [
            "ID: 9, Pos(2.23,4.44)"
           ],
           "type": "scatter",
           "x": [
            2.2346752948008763
           ],
           "y": [
            4.4443692198279
           ]
          },
          {
           "hoverinfo": "text",
           "marker": {
            "opacity": 1,
            "size": 1
           },
           "mode": "markers",
           "showlegend": false,
           "text": [
            "ID: 10, Pos(1.74,5.67)"
           ],
           "type": "scatter",
           "x": [
            1.7411094290339029
           ],
           "y": [
            5.672078008372512
           ]
          }
         ],
         "layout": {
          "shapes": [
           {
            "fillcolor": "rgba(0, 0, 128, 0.5)",
            "line": {
             "color": "rgba(0, 0, 128, 0.5)"
            },
            "type": "circle",
            "x0": 0.7772126605101715,
            "x1": 1.1772126605101714,
            "xref": "x",
            "y0": 6.530910004201922,
            "y1": 6.930910004201922,
            "yref": "y"
           },
           {
            "fillcolor": "rgba(225, 255, 22, 0.5)",
            "line": {
             "color": "rgba(225, 255, 22, 0.5)"
            },
            "type": "circle",
            "x0": 0.3875325620938784,
            "x1": 0.7875325620938785,
            "xref": "x",
            "y0": 4.364360353841049,
            "y1": 4.76436035384105,
            "yref": "y"
           },
           {
            "fillcolor": "rgba(0, 0, 187, 0.5)",
            "line": {
             "color": "rgba(0, 0, 187, 0.5)"
            },
            "type": "circle",
            "x0": 0.025948064911337332,
            "x1": 0.42594806491133735,
            "xref": "x",
            "y0": 6.794523566304945,
            "y1": 7.194523566304945,
            "yref": "y"
           },
           {
            "fillcolor": "rgba(255, 152, 0, 0.5)",
            "line": {
             "color": "rgba(255, 152, 0, 0.5)"
            },
            "type": "circle",
            "x0": 0.1641343259718525,
            "x1": 0.5641343259718525,
            "xref": "x",
            "y0": 3.3329649409680977,
            "y1": 3.732964940968098,
            "yref": "y"
           },
           {
            "fillcolor": "rgba(41, 255, 206, 0.5)",
            "line": {
             "color": "rgba(41, 255, 206, 0.5)"
            },
            "type": "circle",
            "x0": 0.7409896998223644,
            "x1": 1.1409896998223643,
            "xref": "x",
            "y0": 5.177929480554271,
            "y1": 5.577929480554271,
            "yref": "y"
           },
           {
            "fillcolor": "rgba(0, 0, 146, 0.5)",
            "line": {
             "color": "rgba(0, 0, 146, 0.5)"
            },
            "type": "circle",
            "x0": 2.0439439375493955,
            "x1": 2.443943937549396,
            "xref": "x",
            "y0": 6.145752013872753,
            "y1": 6.545752013872753,
            "yref": "y"
           },
           {
            "fillcolor": "rgba(60, 255, 186, 0.5)",
            "line": {
             "color": "rgba(60, 255, 186, 0.5)"
            },
            "type": "circle",
            "x0": -0.11831071289158444,
            "x1": 0.28168928710841556,
            "xref": "x",
            "y0": 5.425714786599473,
            "y1": 5.825714786599473,
            "yref": "y"
           },
           {
            "fillcolor": "rgba(0, 0, 205, 0.5)",
            "line": {
             "color": "rgba(0, 0, 205, 0.5)"
            },
            "type": "circle",
            "x0": 2.885041131254117,
            "x1": 3.2850411312541175,
            "xref": "x",
            "y0": 4.581605044449747,
            "y1": 4.981605044449747,
            "yref": "y"
           },
           {
            "fillcolor": "rgba(99, 255, 148, 0.5)",
            "line": {
             "color": "rgba(99, 255, 148, 0.5)"
            },
            "type": "circle",
            "x0": 2.034675294800876,
            "x1": 2.4346752948008765,
            "xref": "x",
            "y0": 4.2443692198279,
            "y1": 4.6443692198279,
            "yref": "y"
           },
           {
            "fillcolor": "rgba(122, 255, 125, 0.5)",
            "line": {
             "color": "rgba(122, 255, 125, 0.5)"
            },
            "type": "circle",
            "x0": 1.541109429033903,
            "x1": 1.9411094290339028,
            "xref": "x",
            "y0": 5.472078008372512,
            "y1": 5.872078008372513,
            "yref": "y"
           },
           {
            "line": {
             "color": "white",
             "width": 3
            },
            "type": "line",
            "x0": 0.9772126605101714,
            "x1": 0.9213015386547124,
            "y0": 6.730910004201922,
            "y1": 6.922935904675957
           },
           {
            "line": {
             "color": "black",
             "width": 3
            },
            "type": "line",
            "x0": 0.5875325620938784,
            "x1": 0.5556377952124505,
            "y0": 4.5643603538410495,
            "y1": 4.761800784973023
           },
           {
            "line": {
             "color": "white",
             "width": 3
            },
            "type": "line",
            "x0": 0.22594806491133734,
            "x1": 0.1784493668080322,
            "y0": 6.994523566304945,
            "y1": 7.188801392313193
           },
           {
            "line": {
             "color": "black",
             "width": 3
            },
            "type": "line",
            "x0": 0.3641343259718525,
            "x1": 0.3501981698531636,
            "y0": 3.532964940968098,
            "y1": 3.7324788090390557
           },
           {
            "line": {
             "color": "black",
             "width": 3
            },
            "type": "line",
            "x0": 0.9409896998223644,
            "x1": 0.8910930116062155,
            "y0": 5.377929480554271,
            "y1": 5.5716052934609435
           },
           {
            "line": {
             "color": "white",
             "width": 3
            },
            "type": "line",
            "x0": 2.2439439375493957,
            "x1": 2.1297562733980735,
            "y0": 6.345752013872753,
            "y1": 6.5099506050837155
           },
           {
            "line": {
             "color": "black",
             "width": 3
            },
            "type": "line",
            "x0": 0.08168928710841557,
            "x1": 0.06597688852921443,
            "y0": 5.625714786599473,
            "y1": 5.825096632640903
           },
           {
            "line": {
             "color": "white",
             "width": 3
            },
            "type": "line",
            "x0": 3.0850411312541173,
            "x1": 2.974336810343747,
            "y0": 4.781605044449747,
            "y1": 4.948172007956241
           },
           {
            "line": {
             "color": "black",
             "width": 3
            },
            "type": "line",
            "x0": 2.2346752948008763,
            "x1": 2.138515668477385,
            "y0": 4.4443692198279,
            "y1": 4.619735483018191
           },
           {
            "line": {
             "color": "black",
             "width": 3
            },
            "type": "line",
            "x0": 1.7411094290339029,
            "x1": 1.6476085711529378,
            "y0": 5.672078008372512,
            "y1": 5.848876168927207
           }
          ],
          "title": {
           "text": "<b>Number of Agents: 10</b>",
           "x": 0.5
          }
         },
         "name": "100"
        },
        {
         "data": [
          {
           "hoverinfo": "name",
           "line": {
            "color": "grey"
           },
           "mode": "lines",
           "name": "Exterior",
           "showlegend": false,
           "type": "scatter",
           "x": [
            -10,
            -10,
            10,
            10,
            -10
           ],
           "y": [
            10,
            -10,
            -10,
            10,
            10
           ]
          },
          {
           "hoverinfo": "text",
           "marker": {
            "opacity": 1,
            "size": 1
           },
           "mode": "markers",
           "showlegend": false,
           "text": [
            "ID: 1, Pos(0.90,7.00)"
           ],
           "type": "scatter",
           "x": [
            0.9004634470716527
           ],
           "y": [
            6.997073826432919
           ]
          },
          {
           "hoverinfo": "text",
           "marker": {
            "opacity": 1,
            "size": 1
           },
           "mode": "markers",
           "showlegend": false,
           "text": [
            "ID: 2, Pos(0.56,4.72)"
           ],
           "type": "scatter",
           "x": [
            0.5630210501576417
           ],
           "y": [
            4.720948648031996
           ]
          },
          {
           "hoverinfo": "text",
           "marker": {
            "opacity": 1,
            "size": 1
           },
           "mode": "markers",
           "showlegend": false,
           "text": [
            "ID: 3, Pos(0.16,7.25)"
           ],
           "type": "scatter",
           "x": [
            0.1623216794183895
           ],
           "y": [
            7.253595932027273
           ]
          },
          {
           "hoverinfo": "text",
           "marker": {
            "opacity": 1,
            "size": 1
           },
           "mode": "markers",
           "showlegend": false,
           "text": [
            "ID: 4, Pos(0.35,3.67)"
           ],
           "type": "scatter",
           "x": [
            0.354931012230115
           ],
           "y": [
            3.665580935092767
           ]
          },
          {
           "hoverinfo": "text",
           "marker": {
            "opacity": 1,
            "size": 1
           },
           "mode": "markers",
           "showlegend": false,
           "text": [
            "ID: 5, Pos(0.88,5.59)"
           ],
           "type": "scatter",
           "x": [
            0.8833294041242294
           ],
           "y": [
            5.586743324753559
           ]
          },
          {
           "hoverinfo": "text",
           "marker": {
            "opacity": 1,
            "size": 1
           },
           "mode": "markers",
           "showlegend": false,
           "text": [
            "ID: 6, Pos(2.09,6.57)"
           ],
           "type": "scatter",
           "x": [
            2.086081331217921
           ],
           "y": [
            6.568850669139892
           ]
          },
          {
           "hoverinfo": "text",
           "marker": {
            "opacity": 1,
            "size": 1
           },
           "mode": "markers",
           "showlegend": false,
           "text": [
            "ID: 7, Pos(0.06,5.83)"
           ],
           "type": "scatter",
           "x": [
            0.06438337217986519
           ],
           "y": [
            5.825603203344843
           ]
          },
          {
           "hoverinfo": "text",
           "marker": {
            "opacity": 1,
            "size": 1
           },
           "mode": "markers",
           "showlegend": false,
           "text": [
            "ID: 8, Pos(2.94,5.00)"
           ],
           "type": "scatter",
           "x": [
            2.9403254815341437
           ],
           "y": [
            5.00244370735115
           ]
          },
          {
           "hoverinfo": "text",
           "marker": {
            "opacity": 1,
            "size": 1
           },
           "mode": "markers",
           "showlegend": false,
           "text": [
            "ID: 9, Pos(2.14,4.61)"
           ],
           "type": "scatter",
           "x": [
            2.1447330454916247
           ],
           "y": [
            4.605831868523664
           ]
          },
          {
           "hoverinfo": "text",
           "marker": {
            "opacity": 1,
            "size": 1
           },
           "mode": "markers",
           "showlegend": false,
           "text": [
            "ID: 10, Pos(1.66,5.84)"
           ],
           "type": "scatter",
           "x": [
            1.6574459796400978
           ],
           "y": [
            5.841034578894285
           ]
          }
         ],
         "layout": {
          "shapes": [
           {
            "fillcolor": "rgba(0, 0, 128, 0.5)",
            "line": {
             "color": "rgba(0, 0, 128, 0.5)"
            },
            "type": "circle",
            "x0": 0.7004634470716526,
            "x1": 1.1004634470716528,
            "xref": "x",
            "y0": 6.797073826432919,
            "y1": 7.197073826432919,
            "yref": "y"
           },
           {
            "fillcolor": "rgba(202, 255, 44, 0.5)",
            "line": {
             "color": "rgba(202, 255, 44, 0.5)"
            },
            "type": "circle",
            "x0": 0.3630210501576417,
            "x1": 0.7630210501576418,
            "xref": "x",
            "y0": 4.520948648031996,
            "y1": 4.920948648031996,
            "yref": "y"
           },
           {
            "fillcolor": "rgba(0, 0, 187, 0.5)",
            "line": {
             "color": "rgba(0, 0, 187, 0.5)"
            },
            "type": "circle",
            "x0": -0.037678320581610525,
            "x1": 0.3623216794183895,
            "xref": "x",
            "y0": 7.053595932027273,
            "y1": 7.453595932027273,
            "yref": "y"
           },
           {
            "fillcolor": "rgba(255, 171, 0, 0.5)",
            "line": {
             "color": "rgba(255, 171, 0, 0.5)"
            },
            "type": "circle",
            "x0": 0.15493101223011496,
            "x1": 0.554931012230115,
            "xref": "x",
            "y0": 3.465580935092767,
            "y1": 3.8655809350927672,
            "yref": "y"
           },
           {
            "fillcolor": "rgba(0, 69, 255, 0.5)",
            "line": {
             "color": "rgba(0, 69, 255, 0.5)"
            },
            "type": "circle",
            "x0": 0.6833294041242295,
            "x1": 1.0833294041242294,
            "xref": "x",
            "y0": 5.386743324753559,
            "y1": 5.78674332475356,
            "yref": "y"
           },
           {
            "fillcolor": "rgba(0, 0, 146, 0.5)",
            "line": {
             "color": "rgba(0, 0, 146, 0.5)"
            },
            "type": "circle",
            "x0": 1.8860813312179212,
            "x1": 2.2860813312179213,
            "xref": "x",
            "y0": 6.368850669139892,
            "y1": 6.768850669139892,
            "yref": "y"
           },
           {
            "fillcolor": "rgba(12, 244, 235, 0.5)",
            "line": {
             "color": "rgba(12, 244, 235, 0.5)"
            },
            "type": "circle",
            "x0": -0.13561662782013484,
            "x1": 0.2643833721798652,
            "xref": "x",
            "y0": 5.625603203344843,
            "y1": 6.0256032033448435,
            "yref": "y"
           },
           {
            "fillcolor": "rgba(0, 0, 205, 0.5)",
            "line": {
             "color": "rgba(0, 0, 205, 0.5)"
            },
            "type": "circle",
            "x0": 2.7403254815341436,
            "x1": 3.140325481534144,
            "xref": "x",
            "y0": 4.8024437073511494,
            "y1": 5.20244370735115,
            "yref": "y"
           },
           {
            "fillcolor": "rgba(96, 255, 151, 0.5)",
            "line": {
             "color": "rgba(96, 255, 151, 0.5)"
            },
            "type": "circle",
            "x0": 1.9447330454916247,
            "x1": 2.344733045491625,
            "xref": "x",
            "y0": 4.405831868523664,
            "y1": 4.805831868523664,
            "yref": "y"
           },
           {
            "fillcolor": "rgba(54, 255, 193, 0.5)",
            "line": {
             "color": "rgba(54, 255, 193, 0.5)"
            },
            "type": "circle",
            "x0": 1.4574459796400978,
            "x1": 1.8574459796400977,
            "xref": "x",
            "y0": 5.641034578894285,
            "y1": 6.041034578894285,
            "yref": "y"
           },
           {
            "line": {
             "color": "white",
             "width": 3
            },
            "type": "line",
            "x0": 0.9004634470716527,
            "x1": 0.8454005547062986,
            "y0": 6.997073826432919,
            "y1": 7.189344671556046
           },
           {
            "line": {
             "color": "black",
             "width": 3
            },
            "type": "line",
            "x0": 0.5630210501576417,
            "x1": 0.5333978688813742,
            "y0": 4.720948648031996,
            "y1": 4.91874264978906
           },
           {
            "line": {
             "color": "white",
             "width": 3
            },
            "type": "line",
            "x0": 0.1623216794183895,
            "x1": 0.11455709895639479,
            "y0": 7.253595932027273,
            "y1": 7.447808559972239
           },
           {
            "line": {
             "color": "black",
             "width": 3
            },
            "type": "line",
            "x0": 0.354931012230115,
            "x1": 0.34116165944732013,
            "y0": 3.665580935092767,
            "y1": 3.8651063844067406
           },
           {
            "line": {
             "color": "white",
             "width": 3
            },
            "type": "line",
            "x0": 0.8833294041242294,
            "x1": 0.8278913257376089,
            "y0": 5.586743324753559,
            "y1": 5.77890632708439
           },
           {
            "line": {
             "color": "white",
             "width": 3
            },
            "type": "line",
            "x0": 2.086081331217921,
            "x1": 1.969568311499975,
            "y0": 6.568850669139892,
            "y1": 6.731407478398088
           },
           {
            "line": {
             "color": "black",
             "width": 3
            },
            "type": "line",
            "x0": 0.06438337217986519,
            "x1": 0.04462035202076188,
            "y0": 5.825603203344843,
            "y1": 6.024624365622102
           },
           {
            "line": {
             "color": "white",
             "width": 3
            },
            "type": "line",
            "x0": 2.9403254815341437,
            "x1": 2.8315973005084976,
            "y0": 5.00244370735115,
            "y1": 5.17030729080764
           },
           {
            "line": {
             "color": "black",
             "width": 3
            },
            "type": "line",
            "x0": 2.1447330454916247,
            "x1": 2.046444165368078,
            "y0": 4.605831868523664,
            "y1": 4.780013658743133
           },
           {
            "line": {
             "color": "black",
             "width": 3
            },
            "type": "line",
            "x0": 1.6574459796400978,
            "x1": 1.5728031247926304,
            "y0": 5.841034578894285,
            "y1": 6.022240503530513
           }
          ],
          "title": {
           "text": "<b>Number of Agents: 10</b>",
           "x": 0.5
          }
         },
         "name": "105"
        },
        {
         "data": [
          {
           "hoverinfo": "name",
           "line": {
            "color": "grey"
           },
           "mode": "lines",
           "name": "Exterior",
           "showlegend": false,
           "type": "scatter",
           "x": [
            -10,
            -10,
            10,
            10,
            -10
           ],
           "y": [
            10,
            -10,
            -10,
            10,
            10
           ]
          },
          {
           "hoverinfo": "text",
           "marker": {
            "opacity": 1,
            "size": 1
           },
           "mode": "markers",
           "showlegend": false,
           "text": [
            "ID: 1, Pos(0.82,7.26)"
           ],
           "type": "scatter",
           "x": [
            0.8244510791275175
           ],
           "y": [
            7.263449220543443
           ]
          },
          {
           "hoverinfo": "text",
           "marker": {
            "opacity": 1,
            "size": 1
           },
           "mode": "markers",
           "showlegend": false,
           "text": [
            "ID: 2, Pos(0.54,4.88)"
           ],
           "type": "scatter",
           "x": [
            0.5399454750836099
           ],
           "y": [
            4.882997001379452
           ]
          },
          {
           "hoverinfo": "text",
           "marker": {
            "opacity": 1,
            "size": 1
           },
           "mode": "markers",
           "showlegend": false,
           "text": [
            "ID: 3, Pos(0.10,7.51)"
           ],
           "type": "scatter",
           "x": [
            0.09886247047414116
           ],
           "y": [
            7.5127092425363236
           ]
          },
          {
           "hoverinfo": "text",
           "marker": {
            "opacity": 1,
            "size": 1
           },
           "mode": "markers",
           "showlegend": false,
           "text": [
            "ID: 4, Pos(0.35,3.80)"
           ],
           "type": "scatter",
           "x": [
            0.34552496081109735
           ],
           "y": [
            3.8026547004523286
           ]
          },
          {
           "hoverinfo": "text",
           "marker": {
            "opacity": 1,
            "size": 1
           },
           "mode": "markers",
           "showlegend": false,
           "text": [
            "ID: 5, Pos(0.81,5.84)"
           ],
           "type": "scatter",
           "x": [
            0.8107464321323598
           ],
           "y": [
            5.8387663397263045
           ]
          },
          {
           "hoverinfo": "text",
           "marker": {
            "opacity": 1,
            "size": 1
           },
           "mode": "markers",
           "showlegend": false,
           "text": [
            "ID: 6, Pos(1.93,6.79)"
           ],
           "type": "scatter",
           "x": [
            1.925891648179611
           ],
           "y": [
            6.790286343220301
           ]
          },
          {
           "hoverinfo": "text",
           "marker": {
            "opacity": 1,
            "size": 1
           },
           "mode": "markers",
           "showlegend": false,
           "text": [
            "ID: 7, Pos(0.04,6.03)"
           ],
           "type": "scatter",
           "x": [
            0.0378981163110278
           ],
           "y": [
            6.034820489105978
           ]
          },
          {
           "hoverinfo": "text",
           "marker": {
            "opacity": 1,
            "size": 1
           },
           "mode": "markers",
           "showlegend": false,
           "text": [
            "ID: 8, Pos(2.80,5.22)"
           ],
           "type": "scatter",
           "x": [
            2.797690101717694
           ],
           "y": [
            5.224632886301447
           ]
          },
          {
           "hoverinfo": "text",
           "marker": {
            "opacity": 1,
            "size": 1
           },
           "mode": "markers",
           "showlegend": false,
           "text": [
            "ID: 9, Pos(2.05,4.77)"
           ],
           "type": "scatter",
           "x": [
            2.0520900944708886
           ],
           "y": [
            4.768339629025857
           ]
          },
          {
           "hoverinfo": "text",
           "marker": {
            "opacity": 1,
            "size": 1
           },
           "mode": "markers",
           "showlegend": false,
           "text": [
            "ID: 10, Pos(1.58,6.03)"
           ],
           "type": "scatter",
           "x": [
            1.5756953966117184
           ],
           "y": [
            6.026551614057342
           ]
          }
         ],
         "layout": {
          "shapes": [
           {
            "fillcolor": "rgba(0, 0, 128, 0.5)",
            "line": {
             "color": "rgba(0, 0, 128, 0.5)"
            },
            "type": "circle",
            "x0": 0.6244510791275175,
            "x1": 1.0244510791275174,
            "xref": "x",
            "y0": 7.0634492205434425,
            "y1": 7.463449220543443,
            "yref": "y"
           },
           {
            "fillcolor": "rgba(255, 222, 0, 0.5)",
            "line": {
             "color": "rgba(255, 222, 0, 0.5)"
            },
            "type": "circle",
            "x0": 0.3399454750836099,
            "x1": 0.7399454750836099,
            "xref": "x",
            "y0": 4.6829970013794515,
            "y1": 5.082997001379452,
            "yref": "y"
           },
           {
            "fillcolor": "rgba(0, 0, 187, 0.5)",
            "line": {
             "color": "rgba(0, 0, 187, 0.5)"
            },
            "type": "circle",
            "x0": -0.10113752952585885,
            "x1": 0.29886247047414116,
            "xref": "x",
            "y0": 7.312709242536323,
            "y1": 7.712709242536324,
            "yref": "y"
           },
           {
            "fillcolor": "rgba(255, 185, 0, 0.5)",
            "line": {
             "color": "rgba(255, 185, 0, 0.5)"
            },
            "type": "circle",
            "x0": 0.14552496081109734,
            "x1": 0.5455249608110974,
            "xref": "x",
            "y0": 3.6026547004523284,
            "y1": 4.002654700452329,
            "yref": "y"
           },
           {
            "fillcolor": "rgba(0, 13, 255, 0.5)",
            "line": {
             "color": "rgba(0, 13, 255, 0.5)"
            },
            "type": "circle",
            "x0": 0.6107464321323597,
            "x1": 1.0107464321323598,
            "xref": "x",
            "y0": 5.638766339726304,
            "y1": 6.038766339726305,
            "yref": "y"
           },
           {
            "fillcolor": "rgba(0, 0, 146, 0.5)",
            "line": {
             "color": "rgba(0, 0, 146, 0.5)"
            },
            "type": "circle",
            "x0": 1.725891648179611,
            "x1": 2.125891648179611,
            "xref": "x",
            "y0": 6.590286343220301,
            "y1": 6.990286343220301,
            "yref": "y"
           },
           {
            "fillcolor": "rgba(0, 192, 255, 0.5)",
            "line": {
             "color": "rgba(0, 192, 255, 0.5)"
            },
            "type": "circle",
            "x0": -0.16210188368897221,
            "x1": 0.2378981163110278,
            "xref": "x",
            "y0": 5.834820489105978,
            "y1": 6.234820489105978,
            "yref": "y"
           },
           {
            "fillcolor": "rgba(0, 0, 205, 0.5)",
            "line": {
             "color": "rgba(0, 0, 205, 0.5)"
            },
            "type": "circle",
            "x0": 2.597690101717694,
            "x1": 2.9976901017176942,
            "xref": "x",
            "y0": 5.024632886301447,
            "y1": 5.424632886301447,
            "yref": "y"
           },
           {
            "fillcolor": "rgba(83, 255, 164, 0.5)",
            "line": {
             "color": "rgba(83, 255, 164, 0.5)"
            },
            "type": "circle",
            "x0": 1.8520900944708887,
            "x1": 2.252090094470889,
            "xref": "x",
            "y0": 4.568339629025857,
            "y1": 4.9683396290258575,
            "yref": "y"
           },
           {
            "fillcolor": "rgba(0, 228, 248, 0.5)",
            "line": {
             "color": "rgba(0, 228, 248, 0.5)"
            },
            "type": "circle",
            "x0": 1.3756953966117185,
            "x1": 1.7756953966117184,
            "xref": "x",
            "y0": 5.826551614057342,
            "y1": 6.2265516140573425,
            "yref": "y"
           },
           {
            "line": {
             "color": "white",
             "width": 3
            },
            "type": "line",
            "x0": 0.8244510791275175,
            "x1": 0.7696518873041566,
            "y0": 7.263449220543443,
            "y1": 7.4557953891445
           },
           {
            "line": {
             "color": "black",
             "width": 3
            },
            "type": "line",
            "x0": 0.5399454750836099,
            "x1": 0.5126880655880273,
            "y0": 4.882997001379452,
            "y1": 5.081130879420513
           },
           {
            "line": {
             "color": "white",
             "width": 3
            },
            "type": "line",
            "x0": 0.09886247047414116,
            "x1": 0.051574185697097416,
            "y0": 7.5127092425363236,
            "y1": 7.707038391463717
           },
           {
            "line": {
             "color": "black",
             "width": 3
            },
            "type": "line",
            "x0": 0.34552496081109735,
            "x1": 0.33189823987968736,
            "y0": 3.8026547004523286,
            "y1": 4.002189941642093
           },
           {
            "line": {
             "color": "white",
             "width": 3
            },
            "type": "line",
            "x0": 0.8107464321323598,
            "x1": 0.7566094406364635,
            "y0": 5.8387663397263045,
            "y1": 6.0312999371886
           },
           {
            "line": {
             "color": "white",
             "width": 3
            },
            "type": "line",
            "x0": 1.925891648179611,
            "x1": 1.808154075831956,
            "y0": 6.790286343220301,
            "y1": 6.951958431280302
           },
           {
            "line": {
             "color": "black",
             "width": 3
            },
            "type": "line",
            "x0": 0.0378981163110278,
            "x1": 0.007649779140634055,
            "y0": 6.034820489105978,
            "y1": 6.232519852024593
           },
           {
            "line": {
             "color": "white",
             "width": 3
            },
            "type": "line",
            "x0": 2.797690101717694,
            "x1": 2.6901036240049123,
            "y0": 5.224632886301447,
            "y1": 5.3932304835955875
           },
           {
            "line": {
             "color": "black",
             "width": 3
            },
            "type": "line",
            "x0": 2.0520900944708886,
            "x1": 1.9525151236518374,
            "y0": 4.768339629025857,
            "y1": 4.94178940615568
           },
           {
            "line": {
             "color": "black",
             "width": 3
            },
            "type": "line",
            "x0": 1.5756953966117184,
            "x1": 1.49829909993961,
            "y0": 6.026551614057342,
            "y1": 6.21096911122462
           }
          ],
          "title": {
           "text": "<b>Number of Agents: 10</b>",
           "x": 0.5
          }
         },
         "name": "110"
        },
        {
         "data": [
          {
           "hoverinfo": "name",
           "line": {
            "color": "grey"
           },
           "mode": "lines",
           "name": "Exterior",
           "showlegend": false,
           "type": "scatter",
           "x": [
            -10,
            -10,
            10,
            10,
            -10
           ],
           "y": [
            10,
            -10,
            -10,
            10,
            10
           ]
          },
          {
           "hoverinfo": "text",
           "marker": {
            "opacity": 1,
            "size": 1
           },
           "mode": "markers",
           "showlegend": false,
           "text": [
            "ID: 1, Pos(0.75,7.53)"
           ],
           "type": "scatter",
           "x": [
            0.7484633737493473
           ],
           "y": [
            7.529831660472483
           ]
          },
          {
           "hoverinfo": "text",
           "marker": {
            "opacity": 1,
            "size": 1
           },
           "mode": "markers",
           "showlegend": false,
           "text": [
            "ID: 2, Pos(0.52,5.01)"
           ],
           "type": "scatter",
           "x": [
            0.5230503547768617
           ],
           "y": [
            5.009228378743832
           ]
          },
          {
           "hoverinfo": "text",
           "marker": {
            "opacity": 1,
            "size": 1
           },
           "mode": "markers",
           "showlegend": false,
           "text": [
            "ID: 3, Pos(0.04,7.77)"
           ],
           "type": "scatter",
           "x": [
            0.036572207219976866
           ],
           "y": [
            7.772105630191207
           ]
          },
          {
           "hoverinfo": "text",
           "marker": {
            "opacity": 1,
            "size": 1
           },
           "mode": "markers",
           "showlegend": false,
           "text": [
            "ID: 4, Pos(0.34,3.94)"
           ],
           "type": "scatter",
           "x": [
            0.3361039145206824
           ],
           "y": [
            3.9403553846774773
           ]
          },
          {
           "hoverinfo": "text",
           "marker": {
            "opacity": 1,
            "size": 1
           },
           "mode": "markers",
           "showlegend": false,
           "text": [
            "ID: 5, Pos(0.75,6.07)"
           ],
           "type": "scatter",
           "x": [
            0.746380817910348
           ],
           "y": [
            6.066821014513232
           ]
          },
          {
           "hoverinfo": "text",
           "marker": {
            "opacity": 1,
            "size": 1
           },
           "mode": "markers",
           "showlegend": false,
           "text": [
            "ID: 6, Pos(1.76,7.01)"
           ],
           "type": "scatter",
           "x": [
            1.7645287768676456
           ],
           "y": [
            7.010869160645766
           ]
          },
          {
           "hoverinfo": "text",
           "marker": {
            "opacity": 1,
            "size": 1
           },
           "mode": "markers",
           "showlegend": false,
           "text": [
            "ID: 7, Pos(0.00,6.25)"
           ],
           "type": "scatter",
           "x": [
            0.0008139457219622859
           ],
           "y": [
            6.251561499953237
           ]
          },
          {
           "hoverinfo": "text",
           "marker": {
            "opacity": 1,
            "size": 1
           },
           "mode": "markers",
           "showlegend": false,
           "text": [
            "ID: 8, Pos(2.66,5.45)"
           ],
           "type": "scatter",
           "x": [
            2.655861772771678
           ],
           "y": [
            5.447338660283067
           ]
          },
          {
           "hoverinfo": "text",
           "marker": {
            "opacity": 1,
            "size": 1
           },
           "mode": "markers",
           "showlegend": false,
           "text": [
            "ID: 9, Pos(1.96,4.93)"
           ],
           "type": "scatter",
           "x": [
            1.9565602590063096
           ],
           "y": [
            4.934245607099093
           ]
          },
          {
           "hoverinfo": "text",
           "marker": {
            "opacity": 1,
            "size": 1
           },
           "mode": "markers",
           "showlegend": false,
           "text": [
            "ID: 10, Pos(1.50,6.23)"
           ],
           "type": "scatter",
           "x": [
            1.496266036639627
           ],
           "y": [
            6.226196210369018
           ]
          }
         ],
         "layout": {
          "shapes": [
           {
            "fillcolor": "rgba(0, 0, 128, 0.5)",
            "line": {
             "color": "rgba(0, 0, 128, 0.5)"
            },
            "type": "circle",
            "x0": 0.5484633737493474,
            "x1": 0.9484633737493473,
            "xref": "x",
            "y0": 7.3298316604724825,
            "y1": 7.729831660472483,
            "yref": "y"
           },
           {
            "fillcolor": "rgba(255, 171, 0, 0.5)",
            "line": {
             "color": "rgba(255, 171, 0, 0.5)"
            },
            "type": "circle",
            "x0": 0.32305035477686167,
            "x1": 0.7230503547768616,
            "xref": "x",
            "y0": 4.809228378743832,
            "y1": 5.209228378743832,
            "yref": "y"
           },
           {
            "fillcolor": "rgba(0, 0, 187, 0.5)",
            "line": {
             "color": "rgba(0, 0, 187, 0.5)"
            },
            "type": "circle",
            "x0": -0.16342779278002315,
            "x1": 0.23657220721997688,
            "xref": "x",
            "y0": 7.572105630191206,
            "y1": 7.972105630191207,
            "yref": "y"
           },
           {
            "fillcolor": "rgba(255, 182, 0, 0.5)",
            "line": {
             "color": "rgba(255, 182, 0, 0.5)"
            },
            "type": "circle",
            "x0": 0.13610391452068238,
            "x1": 0.5361039145206824,
            "xref": "x",
            "y0": 3.740355384677477,
            "y1": 4.140355384677477,
            "yref": "y"
           },
           {
            "fillcolor": "rgba(0, 96, 255, 0.5)",
            "line": {
             "color": "rgba(0, 96, 255, 0.5)"
            },
            "type": "circle",
            "x0": 0.546380817910348,
            "x1": 0.9463808179103481,
            "xref": "x",
            "y0": 5.866821014513232,
            "y1": 6.266821014513233,
            "yref": "y"
           },
           {
            "fillcolor": "rgba(0, 0, 146, 0.5)",
            "line": {
             "color": "rgba(0, 0, 146, 0.5)"
            },
            "type": "circle",
            "x0": 1.5645287768676457,
            "x1": 1.9645287768676456,
            "xref": "x",
            "y0": 6.810869160645765,
            "y1": 7.210869160645766,
            "yref": "y"
           },
           {
            "fillcolor": "rgba(0, 144, 255, 0.5)",
            "line": {
             "color": "rgba(0, 144, 255, 0.5)"
            },
            "type": "circle",
            "x0": -0.19918605427803773,
            "x1": 0.2008139457219623,
            "xref": "x",
            "y0": 6.0515614999532366,
            "y1": 6.451561499953237,
            "yref": "y"
           },
           {
            "fillcolor": "rgba(0, 0, 205, 0.5)",
            "line": {
             "color": "rgba(0, 0, 205, 0.5)"
            },
            "type": "circle",
            "x0": 2.455861772771678,
            "x1": 2.855861772771678,
            "xref": "x",
            "y0": 5.2473386602830665,
            "y1": 5.647338660283067,
            "yref": "y"
           },
           {
            "fillcolor": "rgba(60, 255, 186, 0.5)",
            "line": {
             "color": "rgba(60, 255, 186, 0.5)"
            },
            "type": "circle",
            "x0": 1.7565602590063096,
            "x1": 2.1565602590063095,
            "xref": "x",
            "y0": 4.734245607099093,
            "y1": 5.134245607099094,
            "yref": "y"
           },
           {
            "fillcolor": "rgba(0, 168, 255, 0.5)",
            "line": {
             "color": "rgba(0, 168, 255, 0.5)"
            },
            "type": "circle",
            "x0": 1.296266036639627,
            "x1": 1.696266036639627,
            "xref": "x",
            "y0": 6.026196210369018,
            "y1": 6.426196210369018,
            "yref": "y"
           },
           {
            "line": {
             "color": "white",
             "width": 3
            },
            "type": "line",
            "x0": 0.7484633737493473,
            "x1": 0.6934885792976503,
            "y0": 7.529831660472483,
            "y1": 7.722127713409077
           },
           {
            "line": {
             "color": "black",
             "width": 3
            },
            "type": "line",
            "x0": 0.5230503547768617,
            "x1": 0.4969159787487627,
            "y0": 5.009228378743832,
            "y1": 5.2075135128049155
           },
           {
            "line": {
             "color": "white",
             "width": 3
            },
            "type": "line",
            "x0": 0.036572207219976866,
            "x1": -0.009459391164486464,
            "y0": 7.772105630191207,
            "y1": 7.966736285408136
           },
           {
            "line": {
             "color": "black",
             "width": 3
            },
            "type": "line",
            "x0": 0.3361039145206824,
            "x1": 0.32244264524010435,
            "y0": 3.9403553846774773,
            "y1": 4.139888263476044
           },
           {
            "line": {
             "color": "white",
             "width": 3
            },
            "type": "line",
            "x0": 0.746380817910348,
            "x1": 0.6917897119195529,
            "y0": 6.066821014513232,
            "y1": 6.259226344862217
           },
           {
            "line": {
             "color": "white",
             "width": 3
            },
            "type": "line",
            "x0": 1.7645287768676456,
            "x1": 1.6462056311069755,
            "y0": 7.010869160645766,
            "y1": 7.172113178138816
           },
           {
            "line": {
             "color": "white",
             "width": 3
            },
            "type": "line",
            "x0": 0.0008139457219622859,
            "x1": -0.03544649268406893,
            "y0": 6.251561499953237,
            "y1": 6.448246986470678
           },
           {
            "line": {
             "color": "white",
             "width": 3
            },
            "type": "line",
            "x0": 2.655861772771678,
            "x1": 2.548427171564531,
            "y0": 5.447338660283067,
            "y1": 5.616033077687619
           },
           {
            "line": {
             "color": "black",
             "width": 3
            },
            "type": "line",
            "x0": 1.9565602590063096,
            "x1": 1.8567047646070782,
            "y0": 4.934245607099093,
            "y1": 5.107534037867812
           },
           {
            "line": {
             "color": "black",
             "width": 3
            },
            "type": "line",
            "x0": 1.496266036639627,
            "x1": 1.425256338496011,
            "y0": 6.226196210369018,
            "y1": 6.413165787492016
           }
          ],
          "title": {
           "text": "<b>Number of Agents: 10</b>",
           "x": 0.5
          }
         },
         "name": "115"
        },
        {
         "data": [
          {
           "hoverinfo": "name",
           "line": {
            "color": "grey"
           },
           "mode": "lines",
           "name": "Exterior",
           "showlegend": false,
           "type": "scatter",
           "x": [
            -10,
            -10,
            10,
            10,
            -10
           ],
           "y": [
            10,
            -10,
            -10,
            10,
            10
           ]
          },
          {
           "hoverinfo": "text",
           "marker": {
            "opacity": 1,
            "size": 1
           },
           "mode": "markers",
           "showlegend": false,
           "text": [
            "ID: 1.0, Pos(0.67,7.79)"
           ],
           "type": "scatter",
           "x": [
            0.6691067013232698
           ],
           "y": [
            7.794864267275721
           ]
          },
          {
           "hoverinfo": "text",
           "marker": {
            "opacity": 1,
            "size": 1
           },
           "mode": "markers",
           "showlegend": false,
           "text": [
            "ID: 2.0, Pos(0.50,5.15)"
           ],
           "type": "scatter",
           "x": [
            0.5044744307527493
           ],
           "y": [
            5.151178073790802
           ]
          },
          {
           "hoverinfo": "text",
           "marker": {
            "opacity": 1,
            "size": 1
           },
           "mode": "markers",
           "showlegend": false,
           "text": [
            "ID: 4.0, Pos(0.33,4.08)"
           ],
           "type": "scatter",
           "x": [
            0.3267466989700768
           ],
           "y": [
            4.0771680580389225
           ]
          },
          {
           "hoverinfo": "text",
           "marker": {
            "opacity": 1,
            "size": 1
           },
           "mode": "markers",
           "showlegend": false,
           "text": [
            "ID: 5.0, Pos(0.68,6.29)"
           ],
           "type": "scatter",
           "x": [
            0.6835037344112608
           ],
           "y": [
            6.289480631165315
           ]
          },
          {
           "hoverinfo": "text",
           "marker": {
            "opacity": 1,
            "size": 1
           },
           "mode": "markers",
           "showlegend": false,
           "text": [
            "ID: 6.0, Pos(1.60,7.23)"
           ],
           "type": "scatter",
           "x": [
            1.6025916326259189
           ],
           "y": [
            7.231030845744599
           ]
          },
          {
           "hoverinfo": "text",
           "marker": {
            "opacity": 1,
            "size": 1
           },
           "mode": "markers",
           "showlegend": false,
           "text": [
            "ID: 7.0, Pos(-0.04,6.48)"
           ],
           "type": "scatter",
           "x": [
            -0.043487921722619165
           ],
           "y": [
            6.476457818129245
           ]
          },
          {
           "hoverinfo": "text",
           "marker": {
            "opacity": 1,
            "size": 1
           },
           "mode": "markers",
           "showlegend": false,
           "text": [
            "ID: 8.0, Pos(2.51,5.67)"
           ],
           "type": "scatter",
           "x": [
            2.513705522211019
           ],
           "y": [
            5.669835124158773
           ]
          },
          {
           "hoverinfo": "text",
           "marker": {
            "opacity": 1,
            "size": 1
           },
           "mode": "markers",
           "showlegend": false,
           "text": [
            "ID: 9.0, Pos(1.86,5.11)"
           ],
           "type": "scatter",
           "x": [
            1.8582851667150022
           ],
           "y": [
            5.105244196580662
           ]
          },
          {
           "hoverinfo": "text",
           "marker": {
            "opacity": 1,
            "size": 1
           },
           "mode": "markers",
           "showlegend": false,
           "text": [
            "ID: 10.0, Pos(1.42,6.44)"
           ],
           "type": "scatter",
           "x": [
            1.4193574933810817
           ],
           "y": [
            6.437856852512518
           ]
          },
          {
           "hoverinfo": "none",
           "marker": {
            "opacity": 0,
            "size": 1
           },
           "mode": "markers",
           "showlegend": false,
           "type": "scatter",
           "x": [
            0
           ],
           "y": [
            0
           ]
          }
         ],
         "layout": {
          "shapes": [
           {
            "fillcolor": "rgba(0, 0, 128, 0.5)",
            "line": {
             "color": "rgba(0, 0, 128, 0.5)"
            },
            "type": "circle",
            "x0": 0.46910670132326976,
            "x1": 0.8691067013232698,
            "xref": "x",
            "y0": 7.594864267275721,
            "y1": 7.994864267275721,
            "yref": "y"
           },
           {
            "fillcolor": "rgba(251, 241, 0, 0.5)",
            "line": {
             "color": "rgba(251, 241, 0, 0.5)"
            },
            "type": "circle",
            "x0": 0.3044744307527493,
            "x1": 0.7044744307527493,
            "xref": "x",
            "y0": 4.9511780737908015,
            "y1": 5.351178073790802,
            "yref": "y"
           },
           {
            "fillcolor": "rgba(255, 185, 0, 0.5)",
            "line": {
             "color": "rgba(255, 185, 0, 0.5)"
            },
            "type": "circle",
            "x0": 0.1267466989700768,
            "x1": 0.5267466989700769,
            "xref": "x",
            "y0": 3.8771680580389223,
            "y1": 4.277168058038923,
            "yref": "y"
           },
           {
            "fillcolor": "rgba(0, 117, 255, 0.5)",
            "line": {
             "color": "rgba(0, 117, 255, 0.5)"
            },
            "type": "circle",
            "x0": 0.48350373441126077,
            "x1": 0.8835037344112608,
            "xref": "x",
            "y0": 6.089480631165315,
            "y1": 6.489480631165315,
            "yref": "y"
           },
           {
            "fillcolor": "rgba(0, 45, 255, 0.5)",
            "line": {
             "color": "rgba(0, 45, 255, 0.5)"
            },
            "type": "circle",
            "x0": 1.402591632625919,
            "x1": 1.8025916326259188,
            "xref": "x",
            "y0": 7.031030845744599,
            "y1": 7.4310308457445995,
            "yref": "y"
           },
           {
            "fillcolor": "rgba(0, 37, 255, 0.5)",
            "line": {
             "color": "rgba(0, 37, 255, 0.5)"
            },
            "type": "circle",
            "x0": -0.24348792172261918,
            "x1": 0.15651207827738084,
            "xref": "x",
            "y0": 6.276457818129245,
            "y1": 6.676457818129245,
            "yref": "y"
           },
           {
            "fillcolor": "rgba(0, 0, 205, 0.5)",
            "line": {
             "color": "rgba(0, 0, 205, 0.5)"
            },
            "type": "circle",
            "x0": 2.313705522211019,
            "x1": 2.7137055222110193,
            "xref": "x",
            "y0": 5.469835124158773,
            "y1": 5.869835124158773,
            "yref": "y"
           },
           {
            "fillcolor": "rgba(44, 255, 202, 0.5)",
            "line": {
             "color": "rgba(44, 255, 202, 0.5)"
            },
            "type": "circle",
            "x0": 1.6582851667150023,
            "x1": 2.0582851667150024,
            "xref": "x",
            "y0": 4.905244196580662,
            "y1": 5.305244196580662,
            "yref": "y"
           },
           {
            "fillcolor": "rgba(102, 255, 144, 0.5)",
            "line": {
             "color": "rgba(102, 255, 144, 0.5)"
            },
            "type": "circle",
            "x0": 1.2193574933810818,
            "x1": 1.6193574933810817,
            "xref": "x",
            "y0": 6.237856852512518,
            "y1": 6.637856852512519,
            "yref": "y"
           },
           {
            "fillcolor": "rgba(255,255,255,0)",
            "line": {
             "width": 0
            },
            "type": "circle",
            "x0": 0,
            "x1": 0,
            "xref": "x",
            "y0": 0,
            "y1": 0,
            "yref": "y"
           },
           {
            "line": {
             "color": "white",
             "width": 3
            },
            "type": "line",
            "x0": 0.6691067013232698,
            "x1": 0.571358000221603,
            "y0": 7.794864267275721,
            "y1": 7.9693497722121975
           },
           {
            "line": {
             "color": "black",
             "width": 3
            },
            "type": "line",
            "x0": 0.5044744307527493,
            "x1": 0.47860263599372527,
            "y0": 5.151178073790802,
            "y1": 5.349497639734122
           },
           {
            "line": {
             "color": "black",
             "width": 3
            },
            "type": "line",
            "x0": 0.3267466989700768,
            "x1": 0.3131218624987522,
            "y0": 4.0771680580389225,
            "y1": 4.276703427913864
           },
           {
            "line": {
             "color": "white",
             "width": 3
            },
            "type": "line",
            "x0": 0.6835037344112608,
            "x1": 0.6291146299919547,
            "y0": 6.289480631165315,
            "y1": 6.481943160818403
           },
           {
            "line": {
             "color": "white",
             "width": 3
            },
            "type": "line",
            "x0": 1.6025916326259189,
            "x1": 1.483926086579546,
            "y0": 7.231030845744599,
            "y1": 7.392023044877092
           },
           {
            "line": {
             "color": "white",
             "width": 3
            },
            "type": "line",
            "x0": -0.043487921722619165,
            "x1": -0.08367518766007223,
            "y0": 6.476457818129245,
            "y1": 6.672378678826805
           },
           {
            "line": {
             "color": "white",
             "width": 3
            },
            "type": "line",
            "x0": 2.513705522211019,
            "x1": 2.4057229441009933,
            "y0": 5.669835124158773,
            "y1": 5.838179303816735
           },
           {
            "line": {
             "color": "black",
             "width": 3
            },
            "type": "line",
            "x0": 1.8582851667150022,
            "x1": 1.7588948591060172,
            "y0": 5.105244196580662,
            "y1": 5.278799855530151
           },
           {
            "line": {
             "color": "black",
             "width": 3
            },
            "type": "line",
            "x0": 1.4193574933810817,
            "x1": 1.353297227402308,
            "y0": 6.437856852512518,
            "y1": 6.626631960137474
           },
           {
            "line": {
             "color": "rgba(255,255,255,0)",
             "width": 3
            },
            "type": "line",
            "x0": 0,
            "x1": null,
            "y0": 0,
            "y1": null
           }
          ],
          "title": {
           "text": "<b>Number of Agents: 9</b>",
           "x": 0.5
          }
         },
         "name": "120"
        },
        {
         "data": [
          {
           "hoverinfo": "name",
           "line": {
            "color": "grey"
           },
           "mode": "lines",
           "name": "Exterior",
           "showlegend": false,
           "type": "scatter",
           "x": [
            -10,
            -10,
            10,
            10,
            -10
           ],
           "y": [
            10,
            -10,
            -10,
            10,
            10
           ]
          },
          {
           "hoverinfo": "text",
           "marker": {
            "opacity": 1,
            "size": 1
           },
           "mode": "markers",
           "showlegend": false,
           "text": [
            "ID: 2.0, Pos(0.48,5.31)"
           ],
           "type": "scatter",
           "x": [
            0.4842728926328935
           ],
           "y": [
            5.305844149823903
           ]
          },
          {
           "hoverinfo": "text",
           "marker": {
            "opacity": 1,
            "size": 1
           },
           "mode": "markers",
           "showlegend": false,
           "text": [
            "ID: 4.0, Pos(0.32,4.22)"
           ],
           "type": "scatter",
           "x": [
            0.3173083365331781
           ],
           "y": [
            4.215780911010096
           ]
          },
          {
           "hoverinfo": "text",
           "marker": {
            "opacity": 1,
            "size": 1
           },
           "mode": "markers",
           "showlegend": false,
           "text": [
            "ID: 5.0, Pos(0.62,6.51)"
           ],
           "type": "scatter",
           "x": [
            0.6197871712919978
           ],
           "y": [
            6.510127006725234
           ]
          },
          {
           "hoverinfo": "text",
           "marker": {
            "opacity": 1,
            "size": 1
           },
           "mode": "markers",
           "showlegend": false,
           "text": [
            "ID: 6.0, Pos(1.47,7.40)"
           ],
           "type": "scatter",
           "x": [
            1.4741792199894181
           ],
           "y": [
            7.402247321170548
           ]
          },
          {
           "hoverinfo": "text",
           "marker": {
            "opacity": 1,
            "size": 1
           },
           "mode": "markers",
           "showlegend": false,
           "text": [
            "ID: 7.0, Pos(-0.09,6.73)"
           ],
           "type": "scatter",
           "x": [
            -0.09288805802734934
           ],
           "y": [
            6.732819447305742
           ]
          },
          {
           "hoverinfo": "text",
           "marker": {
            "opacity": 1,
            "size": 1
           },
           "mode": "markers",
           "showlegend": false,
           "text": [
            "ID: 8.0, Pos(2.37,5.89)"
           ],
           "type": "scatter",
           "x": [
            2.370557615740712
           ],
           "y": [
            5.891694642674845
           ]
          },
          {
           "hoverinfo": "text",
           "marker": {
            "opacity": 1,
            "size": 1
           },
           "mode": "markers",
           "showlegend": false,
           "text": [
            "ID: 9.0, Pos(1.76,5.28)"
           ],
           "type": "scatter",
           "x": [
            1.7598257059589661
           ],
           "y": [
            5.2782162860422
           ]
          },
          {
           "hoverinfo": "text",
           "marker": {
            "opacity": 1,
            "size": 1
           },
           "mode": "markers",
           "showlegend": false,
           "text": [
            "ID: 10.0, Pos(1.37,6.57)"
           ],
           "type": "scatter",
           "x": [
            1.3727558608010302
           ],
           "y": [
            6.572979305524166
           ]
          },
          {
           "hoverinfo": "none",
           "marker": {
            "opacity": 0,
            "size": 1
           },
           "mode": "markers",
           "showlegend": false,
           "type": "scatter",
           "x": [
            0
           ],
           "y": [
            0
           ]
          },
          {
           "hoverinfo": "none",
           "marker": {
            "opacity": 0,
            "size": 1
           },
           "mode": "markers",
           "showlegend": false,
           "type": "scatter",
           "x": [
            0
           ],
           "y": [
            0
           ]
          }
         ],
         "layout": {
          "shapes": [
           {
            "fillcolor": "rgba(193, 255, 54, 0.5)",
            "line": {
             "color": "rgba(193, 255, 54, 0.5)"
            },
            "type": "circle",
            "x0": 0.2842728926328935,
            "x1": 0.6842728926328936,
            "xref": "x",
            "y0": 5.105844149823903,
            "y1": 5.505844149823903,
            "yref": "y"
           },
           {
            "fillcolor": "rgba(255, 200, 0, 0.5)",
            "line": {
             "color": "rgba(255, 200, 0, 0.5)"
            },
            "type": "circle",
            "x0": 0.11730833653317807,
            "x1": 0.5173083365331781,
            "xref": "x",
            "y0": 4.015780911010096,
            "y1": 4.4157809110100965,
            "yref": "y"
           },
           {
            "fillcolor": "rgba(0, 24, 255, 0.5)",
            "line": {
             "color": "rgba(0, 24, 255, 0.5)"
            },
            "type": "circle",
            "x0": 0.4197871712919978,
            "x1": 0.8197871712919977,
            "xref": "x",
            "y0": 6.310127006725234,
            "y1": 6.7101270067252345,
            "yref": "y"
           },
           {
            "fillcolor": "rgba(0, 45, 255, 0.5)",
            "line": {
             "color": "rgba(0, 45, 255, 0.5)"
            },
            "type": "circle",
            "x0": 1.2741792199894182,
            "x1": 1.674179219989418,
            "xref": "x",
            "y0": 7.202247321170548,
            "y1": 7.602247321170548,
            "yref": "y"
           },
           {
            "fillcolor": "rgba(0, 0, 218, 0.5)",
            "line": {
             "color": "rgba(0, 0, 218, 0.5)"
            },
            "type": "circle",
            "x0": -0.29288805802734935,
            "x1": 0.10711194197265067,
            "xref": "x",
            "y0": 6.532819447305742,
            "y1": 6.932819447305742,
            "yref": "y"
           },
           {
            "fillcolor": "rgba(0, 0, 205, 0.5)",
            "line": {
             "color": "rgba(0, 0, 205, 0.5)"
            },
            "type": "circle",
            "x0": 2.170557615740712,
            "x1": 2.570557615740712,
            "xref": "x",
            "y0": 5.691694642674845,
            "y1": 6.091694642674845,
            "yref": "y"
           },
           {
            "fillcolor": "rgba(77, 255, 170, 0.5)",
            "line": {
             "color": "rgba(77, 255, 170, 0.5)"
            },
            "type": "circle",
            "x0": 1.5598257059589662,
            "x1": 1.959825705958966,
            "xref": "x",
            "y0": 5.0782162860422,
            "y1": 5.4782162860422,
            "yref": "y"
           },
           {
            "fillcolor": "rgba(255, 100, 0, 0.5)",
            "line": {
             "color": "rgba(255, 100, 0, 0.5)"
            },
            "type": "circle",
            "x0": 1.1727558608010302,
            "x1": 1.5727558608010301,
            "xref": "x",
            "y0": 6.372979305524166,
            "y1": 6.772979305524166,
            "yref": "y"
           },
           {
            "fillcolor": "rgba(255,255,255,0)",
            "line": {
             "width": 0
            },
            "type": "circle",
            "x0": 0,
            "x1": 0,
            "xref": "x",
            "y0": 0,
            "y1": 0,
            "yref": "y"
           },
           {
            "fillcolor": "rgba(255,255,255,0)",
            "line": {
             "width": 0
            },
            "type": "circle",
            "x0": 0,
            "x1": 0,
            "xref": "x",
            "y0": 0,
            "y1": 0,
            "yref": "y"
           },
           {
            "line": {
             "color": "black",
             "width": 3
            },
            "type": "line",
            "x0": 0.4842728926328935,
            "x1": 0.4583098152295775,
            "y0": 5.305844149823903,
            "y1": 5.504151786115977
           },
           {
            "line": {
             "color": "black",
             "width": 3
            },
            "type": "line",
            "x0": 0.3173083365331781,
            "x1": 0.30375856613670105,
            "y0": 4.215780911010096,
            "y1": 4.415321392422272
           },
           {
            "line": {
             "color": "white",
             "width": 3
            },
            "type": "line",
            "x0": 0.6197871712919978,
            "x1": 0.5675686721982249,
            "y0": 6.510127006725234,
            "y1": 6.703189764274156
           },
           {
            "line": {
             "color": "white",
             "width": 3
            },
            "type": "line",
            "x0": 1.4741792199894181,
            "x1": 1.3507679409848274,
            "y0": 7.402247321170548,
            "y1": 7.559631107547833
           },
           {
            "line": {
             "color": "white",
             "width": 3
            },
            "type": "line",
            "x0": -0.09288805802734934,
            "x1": -0.1289200655226427,
            "y0": 6.732819447305742,
            "y1": 6.92954690963843
           },
           {
            "line": {
             "color": "white",
             "width": 3
            },
            "type": "line",
            "x0": 2.370557615740712,
            "x1": 2.2616487397102936,
            "y0": 5.891694642674845,
            "y1": 6.059441048662547
           },
           {
            "line": {
             "color": "black",
             "width": 3
            },
            "type": "line",
            "x0": 1.7598257059589661,
            "x1": 1.6614246122141805,
            "y0": 5.2782162860422,
            "y1": 5.4523347076690625
           },
           {
            "line": {
             "color": "black",
             "width": 3
            },
            "type": "line",
            "x0": 1.3727558608010302,
            "x1": 1.3061276844712553,
            "y0": 6.572979305524166,
            "y1": 6.76155471781052
           },
           {
            "line": {
             "color": "rgba(255,255,255,0)",
             "width": 3
            },
            "type": "line",
            "x0": 0,
            "x1": null,
            "y0": 0,
            "y1": null
           },
           {
            "line": {
             "color": "rgba(255,255,255,0)",
             "width": 3
            },
            "type": "line",
            "x0": 0,
            "x1": null,
            "y0": 0,
            "y1": null
           }
          ],
          "title": {
           "text": "<b>Number of Agents: 8</b>",
           "x": 0.5
          }
         },
         "name": "125"
        },
        {
         "data": [
          {
           "hoverinfo": "name",
           "line": {
            "color": "grey"
           },
           "mode": "lines",
           "name": "Exterior",
           "showlegend": false,
           "type": "scatter",
           "x": [
            -10,
            -10,
            10,
            10,
            -10
           ],
           "y": [
            10,
            -10,
            -10,
            10,
            10
           ]
          },
          {
           "hoverinfo": "text",
           "marker": {
            "opacity": 1,
            "size": 1
           },
           "mode": "markers",
           "showlegend": false,
           "text": [
            "ID: 2.0, Pos(0.46,5.48)"
           ],
           "type": "scatter",
           "x": [
            0.46200690043768244
           ],
           "y": [
            5.4751075191890175
           ]
          },
          {
           "hoverinfo": "text",
           "marker": {
            "opacity": 1,
            "size": 1
           },
           "mode": "markers",
           "showlegend": false,
           "text": [
            "ID: 4.0, Pos(0.31,4.36)"
           ],
           "type": "scatter",
           "x": [
            0.3076736681022551
           ],
           "y": [
            4.358164270837633
           ]
          },
          {
           "hoverinfo": "text",
           "marker": {
            "opacity": 1,
            "size": 1
           },
           "mode": "markers",
           "showlegend": false,
           "text": [
            "ID: 5.0, Pos(0.56,6.77)"
           ],
           "type": "scatter",
           "x": [
            0.5635369605956339
           ],
           "y": [
            6.769337672236512
           ]
          },
          {
           "hoverinfo": "text",
           "marker": {
            "opacity": 1,
            "size": 1
           },
           "mode": "markers",
           "showlegend": false,
           "text": [
            "ID: 6.0, Pos(1.30,7.61)"
           ],
           "type": "scatter",
           "x": [
            1.2977387010872508
           ],
           "y": [
            7.610920507007292
           ]
          },
          {
           "hoverinfo": "text",
           "marker": {
            "opacity": 1,
            "size": 1
           },
           "mode": "markers",
           "showlegend": false,
           "text": [
            "ID: 7.0, Pos(-0.14,6.99)"
           ],
           "type": "scatter",
           "x": [
            -0.1402703075793331
           ],
           "y": [
            6.989566626767826
           ]
          },
          {
           "hoverinfo": "text",
           "marker": {
            "opacity": 1,
            "size": 1
           },
           "mode": "markers",
           "showlegend": false,
           "text": [
            "ID: 8.0, Pos(2.23,6.11)"
           ],
           "type": "scatter",
           "x": [
            2.2258278476441213
           ],
           "y": [
            6.112524945107457
           ]
          },
          {
           "hoverinfo": "text",
           "marker": {
            "opacity": 1,
            "size": 1
           },
           "mode": "markers",
           "showlegend": false,
           "text": [
            "ID: 9.0, Pos(1.67,5.44)"
           ],
           "type": "scatter",
           "x": [
            1.6711365381763297
           ],
           "y": [
            5.437221048978329
           ]
          },
          {
           "hoverinfo": "text",
           "marker": {
            "opacity": 1,
            "size": 1
           },
           "mode": "markers",
           "showlegend": false,
           "text": [
            "ID: 10.0, Pos(1.34,6.66)"
           ],
           "type": "scatter",
           "x": [
            1.3384791691799647
           ],
           "y": [
            6.664555954269169
           ]
          },
          {
           "hoverinfo": "none",
           "marker": {
            "opacity": 0,
            "size": 1
           },
           "mode": "markers",
           "showlegend": false,
           "type": "scatter",
           "x": [
            0
           ],
           "y": [
            0
           ]
          },
          {
           "hoverinfo": "none",
           "marker": {
            "opacity": 0,
            "size": 1
           },
           "mode": "markers",
           "showlegend": false,
           "type": "scatter",
           "x": [
            0
           ],
           "y": [
            0
           ]
          }
         ],
         "layout": {
          "shapes": [
           {
            "fillcolor": "rgba(125, 255, 122, 0.5)",
            "line": {
             "color": "rgba(125, 255, 122, 0.5)"
            },
            "type": "circle",
            "x0": 0.26200690043768243,
            "x1": 0.6620069004376825,
            "xref": "x",
            "y0": 5.275107519189017,
            "y1": 5.675107519189018,
            "yref": "y"
           },
           {
            "fillcolor": "rgba(255, 222, 0, 0.5)",
            "line": {
             "color": "rgba(255, 222, 0, 0.5)"
            },
            "type": "circle",
            "x0": 0.1076736681022551,
            "x1": 0.5076736681022551,
            "xref": "x",
            "y0": 4.1581642708376325,
            "y1": 4.558164270837633,
            "yref": "y"
           },
           {
            "fillcolor": "rgba(0, 0, 196, 0.5)",
            "line": {
             "color": "rgba(0, 0, 196, 0.5)"
            },
            "type": "circle",
            "x0": 0.36353696059563384,
            "x1": 0.7635369605956339,
            "xref": "x",
            "y0": 6.569337672236512,
            "y1": 6.969337672236512,
            "yref": "y"
           },
           {
            "fillcolor": "rgba(0, 0, 146, 0.5)",
            "line": {
             "color": "rgba(0, 0, 146, 0.5)"
            },
            "type": "circle",
            "x0": 1.0977387010872508,
            "x1": 1.4977387010872507,
            "xref": "x",
            "y0": 7.410920507007292,
            "y1": 7.8109205070072925,
            "yref": "y"
           },
           {
            "fillcolor": "rgba(0, 0, 218, 0.5)",
            "line": {
             "color": "rgba(0, 0, 218, 0.5)"
            },
            "type": "circle",
            "x0": -0.3402703075793331,
            "x1": 0.05972969242066692,
            "xref": "x",
            "y0": 6.789566626767826,
            "y1": 7.189566626767826,
            "yref": "y"
           },
           {
            "fillcolor": "rgba(0, 0, 205, 0.5)",
            "line": {
             "color": "rgba(0, 0, 205, 0.5)"
            },
            "type": "circle",
            "x0": 2.025827847644121,
            "x1": 2.4258278476441215,
            "xref": "x",
            "y0": 5.912524945107457,
            "y1": 6.312524945107457,
            "yref": "y"
           },
           {
            "fillcolor": "rgba(138, 255, 109, 0.5)",
            "line": {
             "color": "rgba(138, 255, 109, 0.5)"
            },
            "type": "circle",
            "x0": 1.4711365381763297,
            "x1": 1.8711365381763296,
            "xref": "x",
            "y0": 5.237221048978329,
            "y1": 5.637221048978329,
            "yref": "y"
           },
           {
            "fillcolor": "rgba(255, 45, 0, 0.5)",
            "line": {
             "color": "rgba(255, 45, 0, 0.5)"
            },
            "type": "circle",
            "x0": 1.1384791691799647,
            "x1": 1.5384791691799646,
            "xref": "x",
            "y0": 6.464555954269168,
            "y1": 6.864555954269169,
            "yref": "y"
           },
           {
            "fillcolor": "rgba(255,255,255,0)",
            "line": {
             "width": 0
            },
            "type": "circle",
            "x0": 0,
            "x1": 0,
            "xref": "x",
            "y0": 0,
            "y1": 0,
            "yref": "y"
           },
           {
            "fillcolor": "rgba(255,255,255,0)",
            "line": {
             "width": 0
            },
            "type": "circle",
            "x0": 0,
            "x1": 0,
            "xref": "x",
            "y0": 0,
            "y1": 0,
            "yref": "y"
           },
           {
            "line": {
             "color": "black",
             "width": 3
            },
            "type": "line",
            "x0": 0.46200690043768244,
            "x1": 0.43578477151344525,
            "y0": 5.4751075191890175,
            "y1": 5.673381067487021
           },
           {
            "line": {
             "color": "black",
             "width": 3
            },
            "type": "line",
            "x0": 0.3076736681022551,
            "x1": 0.29421492545704175,
            "y0": 4.358164270837633,
            "y1": 4.557710912619473
           },
           {
            "line": {
             "color": "white",
             "width": 3
            },
            "type": "line",
            "x0": 0.5635369605956339,
            "x1": 0.5279929236197607,
            "y0": 6.769337672236512,
            "y1": 6.966153884565318
           },
           {
            "line": {
             "color": "white",
             "width": 3
            },
            "type": "line",
            "x0": 1.2977387010872508,
            "x1": 1.1654270358631247,
            "y0": 7.610920507007292,
            "y1": 7.760899249653105
           },
           {
            "line": {
             "color": "white",
             "width": 3
            },
            "type": "line",
            "x0": -0.1402703075793331,
            "x1": -0.1755044513723779,
            "y0": 6.989566626767826,
            "y1": 7.186438552422986
           },
           {
            "line": {
             "color": "white",
             "width": 3
            },
            "type": "line",
            "x0": 2.2258278476441213,
            "x1": 2.1155330337582194,
            "y0": 6.112524945107457,
            "y1": 6.27936335204625
           },
           {
            "line": {
             "color": "black",
             "width": 3
            },
            "type": "line",
            "x0": 1.6711365381763297,
            "x1": 1.574808217239461,
            "y0": 5.437221048978329,
            "y1": 5.612494705257542
           },
           {
            "line": {
             "color": "white",
             "width": 3
            },
            "type": "line",
            "x0": 1.3384791691799647,
            "x1": 1.2637704185110146,
            "y0": 6.664555954269169,
            "y1": 6.850078466578281
           },
           {
            "line": {
             "color": "rgba(255,255,255,0)",
             "width": 3
            },
            "type": "line",
            "x0": 0,
            "x1": null,
            "y0": 0,
            "y1": null
           },
           {
            "line": {
             "color": "rgba(255,255,255,0)",
             "width": 3
            },
            "type": "line",
            "x0": 0,
            "x1": null,
            "y0": 0,
            "y1": null
           }
          ],
          "title": {
           "text": "<b>Number of Agents: 8</b>",
           "x": 0.5
          }
         },
         "name": "130"
        },
        {
         "data": [
          {
           "hoverinfo": "name",
           "line": {
            "color": "grey"
           },
           "mode": "lines",
           "name": "Exterior",
           "showlegend": false,
           "type": "scatter",
           "x": [
            -10,
            -10,
            10,
            10,
            -10
           ],
           "y": [
            10,
            -10,
            -10,
            10,
            10
           ]
          },
          {
           "hoverinfo": "text",
           "marker": {
            "opacity": 1,
            "size": 1
           },
           "mode": "markers",
           "showlegend": false,
           "text": [
            "ID: 2.0, Pos(0.44,5.66)"
           ],
           "type": "scatter",
           "x": [
            0.4372949952892532
           ],
           "y": [
            5.660466468644982
           ]
          },
          {
           "hoverinfo": "text",
           "marker": {
            "opacity": 1,
            "size": 1
           },
           "mode": "markers",
           "showlegend": false,
           "text": [
            "ID: 4.0, Pos(0.30,4.51)"
           ],
           "type": "scatter",
           "x": [
            0.2977026978285492
           ],
           "y": [
            4.506514210761155
           ]
          },
          {
           "hoverinfo": "text",
           "marker": {
            "opacity": 1,
            "size": 1
           },
           "mode": "markers",
           "showlegend": false,
           "text": [
            "ID: 5.0, Pos(0.52,7.03)"
           ],
           "type": "scatter",
           "x": [
            0.5217913462948667
           ],
           "y": [
            7.031342535249048
           ]
          },
          {
           "hoverinfo": "text",
           "marker": {
            "opacity": 1,
            "size": 1
           },
           "mode": "markers",
           "showlegend": false,
           "text": [
            "ID: 6.0, Pos(1.12,7.81)"
           ],
           "type": "scatter",
           "x": [
            1.1158348783004393
           ],
           "y": [
            7.814895072557967
           ]
          },
          {
           "hoverinfo": "text",
           "marker": {
            "opacity": 1,
            "size": 1
           },
           "mode": "markers",
           "showlegend": false,
           "text": [
            "ID: 7.0, Pos(-0.18,7.25)"
           ],
           "type": "scatter",
           "x": [
            -0.18269689030684094
           ],
           "y": [
            7.247170961489635
           ]
          },
          {
           "hoverinfo": "text",
           "marker": {
            "opacity": 1,
            "size": 1
           },
           "mode": "markers",
           "showlegend": false,
           "text": [
            "ID: 8.0, Pos(2.08,6.33)"
           ],
           "type": "scatter",
           "x": [
            2.0797583302224987
           ],
           "y": [
            6.332472208591619
           ]
          },
          {
           "hoverinfo": "text",
           "marker": {
            "opacity": 1,
            "size": 1
           },
           "mode": "markers",
           "showlegend": false,
           "text": [
            "ID: 9.0, Pos(1.59,5.59)"
           ],
           "type": "scatter",
           "x": [
            1.5908327249768996
           ],
           "y": [
            5.586402621918538
           ]
          },
          {
           "hoverinfo": "text",
           "marker": {
            "opacity": 1,
            "size": 1
           },
           "mode": "markers",
           "showlegend": false,
           "text": [
            "ID: 10.0, Pos(1.29,6.77)"
           ],
           "type": "scatter",
           "x": [
            1.2894255383596158
           ],
           "y": [
            6.773805073013675
           ]
          },
          {
           "hoverinfo": "none",
           "marker": {
            "opacity": 0,
            "size": 1
           },
           "mode": "markers",
           "showlegend": false,
           "type": "scatter",
           "x": [
            0
           ],
           "y": [
            0
           ]
          },
          {
           "hoverinfo": "none",
           "marker": {
            "opacity": 0,
            "size": 1
           },
           "mode": "markers",
           "showlegend": false,
           "type": "scatter",
           "x": [
            0
           ],
           "y": [
            0
           ]
          }
         ],
         "layout": {
          "shapes": [
           {
            "fillcolor": "rgba(64, 255, 183, 0.5)",
            "line": {
             "color": "rgba(64, 255, 183, 0.5)"
            },
            "type": "circle",
            "x0": 0.23729499528925319,
            "x1": 0.6372949952892533,
            "xref": "x",
            "y0": 5.460466468644982,
            "y1": 5.860466468644982,
            "yref": "y"
           },
           {
            "fillcolor": "rgba(238, 255, 9, 0.5)",
            "line": {
             "color": "rgba(238, 255, 9, 0.5)"
            },
            "type": "circle",
            "x0": 0.09770269782854918,
            "x1": 0.4977026978285492,
            "xref": "x",
            "y0": 4.306514210761155,
            "y1": 4.7065142107611555,
            "yref": "y"
           },
           {
            "fillcolor": "rgba(0, 0, 196, 0.5)",
            "line": {
             "color": "rgba(0, 0, 196, 0.5)"
            },
            "type": "circle",
            "x0": 0.32179134629486666,
            "x1": 0.7217913462948666,
            "xref": "x",
            "y0": 6.831342535249048,
            "y1": 7.231342535249048,
            "yref": "y"
           },
           {
            "fillcolor": "rgba(0, 0, 146, 0.5)",
            "line": {
             "color": "rgba(0, 0, 146, 0.5)"
            },
            "type": "circle",
            "x0": 0.9158348783004393,
            "x1": 1.3158348783004392,
            "xref": "x",
            "y0": 7.6148950725579665,
            "y1": 8.014895072557966,
            "yref": "y"
           },
           {
            "fillcolor": "rgba(0, 0, 218, 0.5)",
            "line": {
             "color": "rgba(0, 0, 218, 0.5)"
            },
            "type": "circle",
            "x0": -0.38269689030684095,
            "x1": 0.01730310969315907,
            "xref": "x",
            "y0": 7.047170961489635,
            "y1": 7.447170961489635,
            "yref": "y"
           },
           {
            "fillcolor": "rgba(0, 0, 205, 0.5)",
            "line": {
             "color": "rgba(0, 0, 205, 0.5)"
            },
            "type": "circle",
            "x0": 1.8797583302224987,
            "x1": 2.279758330222499,
            "xref": "x",
            "y0": 6.132472208591619,
            "y1": 6.532472208591619,
            "yref": "y"
           },
           {
            "fillcolor": "rgba(180, 255, 67, 0.5)",
            "line": {
             "color": "rgba(180, 255, 67, 0.5)"
            },
            "type": "circle",
            "x0": 1.3908327249768997,
            "x1": 1.7908327249768996,
            "xref": "x",
            "y0": 5.3864026219185375,
            "y1": 5.786402621918538,
            "yref": "y"
           },
           {
            "fillcolor": "rgba(255, 159, 0, 0.5)",
            "line": {
             "color": "rgba(255, 159, 0, 0.5)"
            },
            "type": "circle",
            "x0": 1.0894255383596159,
            "x1": 1.4894255383596158,
            "xref": "x",
            "y0": 6.573805073013675,
            "y1": 6.973805073013676,
            "yref": "y"
           },
           {
            "fillcolor": "rgba(255,255,255,0)",
            "line": {
             "width": 0
            },
            "type": "circle",
            "x0": 0,
            "x1": 0,
            "xref": "x",
            "y0": 0,
            "y1": 0,
            "yref": "y"
           },
           {
            "fillcolor": "rgba(255,255,255,0)",
            "line": {
             "width": 0
            },
            "type": "circle",
            "x0": 0,
            "x1": 0,
            "xref": "x",
            "y0": 0,
            "y1": 0,
            "yref": "y"
           },
           {
            "line": {
             "color": "black",
             "width": 3
            },
            "type": "line",
            "x0": 0.4372949952892532,
            "x1": 0.4106655646342429,
            "y0": 5.660466468644982,
            "y1": 5.858685724578884
           },
           {
            "line": {
             "color": "black",
             "width": 3
            },
            "type": "line",
            "x0": 0.2977026978285492,
            "x1": 0.28432890696477253,
            "y0": 4.506514210761155,
            "y1": 4.7060665640871235
           },
           {
            "line": {
             "color": "white",
             "width": 3
            },
            "type": "line",
            "x0": 0.5217913462948667,
            "x1": 0.4927614933535754,
            "y0": 7.031342535249048,
            "y1": 7.229224489045262
           },
           {
            "line": {
             "color": "white",
             "width": 3
            },
            "type": "line",
            "x0": 1.1158348783004393,
            "x1": 0.9829367929664267,
            "y0": 7.814895072557967,
            "y1": 7.964354427951175
           },
           {
            "line": {
             "color": "white",
             "width": 3
            },
            "type": "line",
            "x0": -0.18269689030684094,
            "x1": -0.212472082787304,
            "y0": 7.247170961489635,
            "y1": 7.444942137126408
           },
           {
            "line": {
             "color": "white",
             "width": 3
            },
            "type": "line",
            "x0": 2.0797583302224987,
            "x1": 1.969234022566558,
            "y0": 6.332472208591619,
            "y1": 6.499158673000625
           },
           {
            "line": {
             "color": "black",
             "width": 3
            },
            "type": "line",
            "x0": 1.5908327249768996,
            "x1": 1.4975798801923697,
            "y0": 5.586402621918538,
            "y1": 5.7633317233676555
           },
           {
            "line": {
             "color": "black",
             "width": 3
            },
            "type": "line",
            "x0": 1.2894255383596158,
            "x1": 1.2009777168030684,
            "y0": 6.773805073013675,
            "y1": 6.953184511249782
           },
           {
            "line": {
             "color": "rgba(255,255,255,0)",
             "width": 3
            },
            "type": "line",
            "x0": 0,
            "x1": null,
            "y0": 0,
            "y1": null
           },
           {
            "line": {
             "color": "rgba(255,255,255,0)",
             "width": 3
            },
            "type": "line",
            "x0": 0,
            "x1": null,
            "y0": 0,
            "y1": null
           }
          ],
          "title": {
           "text": "<b>Number of Agents: 8</b>",
           "x": 0.5
          }
         },
         "name": "135"
        },
        {
         "data": [
          {
           "hoverinfo": "name",
           "line": {
            "color": "grey"
           },
           "mode": "lines",
           "name": "Exterior",
           "showlegend": false,
           "type": "scatter",
           "x": [
            -10,
            -10,
            10,
            10,
            -10
           ],
           "y": [
            10,
            -10,
            -10,
            10,
            10
           ]
          },
          {
           "hoverinfo": "text",
           "marker": {
            "opacity": 1,
            "size": 1
           },
           "mode": "markers",
           "showlegend": false,
           "text": [
            "ID: 2.0, Pos(0.41,5.86)"
           ],
           "type": "scatter",
           "x": [
            0.4102964038544285
           ],
           "y": [
            5.8595085390037775
           ]
          },
          {
           "hoverinfo": "text",
           "marker": {
            "opacity": 1,
            "size": 1
           },
           "mode": "markers",
           "showlegend": false,
           "text": [
            "ID: 4.0, Pos(0.29,4.66)"
           ],
           "type": "scatter",
           "x": [
            0.28727856333716334
           ],
           "y": [
            4.662459427561695
           ]
          },
          {
           "hoverinfo": "text",
           "marker": {
            "opacity": 1,
            "size": 1
           },
           "mode": "markers",
           "showlegend": false,
           "text": [
            "ID: 5.0, Pos(0.48,7.29)"
           ],
           "type": "scatter",
           "x": [
            0.48425729674977314
           ],
           "y": [
            7.293979522621383
           ]
          },
          {
           "hoverinfo": "text",
           "marker": {
            "opacity": 1,
            "size": 1
           },
           "mode": "markers",
           "showlegend": false,
           "text": [
            "ID: 7.0, Pos(-0.22,7.51)"
           ],
           "type": "scatter",
           "x": [
            -0.21781173889192013
           ],
           "y": [
            7.505874589306941
           ]
          },
          {
           "hoverinfo": "text",
           "marker": {
            "opacity": 1,
            "size": 1
           },
           "mode": "markers",
           "showlegend": false,
           "text": [
            "ID: 8.0, Pos(1.94,6.55)"
           ],
           "type": "scatter",
           "x": [
            1.9367116061187568
           ],
           "y": [
            6.554381338113826
           ]
          },
          {
           "hoverinfo": "text",
           "marker": {
            "opacity": 1,
            "size": 1
           },
           "mode": "markers",
           "showlegend": false,
           "text": [
            "ID: 9.0, Pos(1.52,5.73)"
           ],
           "type": "scatter",
           "x": [
            1.5165577545174018
           ],
           "y": [
            5.731013706129093
           ]
          },
          {
           "hoverinfo": "text",
           "marker": {
            "opacity": 1,
            "size": 1
           },
           "mode": "markers",
           "showlegend": false,
           "text": [
            "ID: 10.0, Pos(1.22,6.90)"
           ],
           "type": "scatter",
           "x": [
            1.2180279852531257
           ],
           "y": [
            6.9016863892616165
           ]
          },
          {
           "hoverinfo": "none",
           "marker": {
            "opacity": 0,
            "size": 1
           },
           "mode": "markers",
           "showlegend": false,
           "type": "scatter",
           "x": [
            0
           ],
           "y": [
            0
           ]
          },
          {
           "hoverinfo": "none",
           "marker": {
            "opacity": 0,
            "size": 1
           },
           "mode": "markers",
           "showlegend": false,
           "type": "scatter",
           "x": [
            0
           ],
           "y": [
            0
           ]
          },
          {
           "hoverinfo": "none",
           "marker": {
            "opacity": 0,
            "size": 1
           },
           "mode": "markers",
           "showlegend": false,
           "type": "scatter",
           "x": [
            0
           ],
           "y": [
            0
           ]
          }
         ],
         "layout": {
          "shapes": [
           {
            "fillcolor": "rgba(9, 240, 238, 0.5)",
            "line": {
             "color": "rgba(9, 240, 238, 0.5)"
            },
            "type": "circle",
            "x0": 0.2102964038544285,
            "x1": 0.6102964038544285,
            "xref": "x",
            "y0": 5.659508539003777,
            "y1": 6.059508539003778,
            "yref": "y"
           },
           {
            "fillcolor": "rgba(202, 255, 44, 0.5)",
            "line": {
             "color": "rgba(202, 255, 44, 0.5)"
            },
            "type": "circle",
            "x0": 0.08727856333716333,
            "x1": 0.48727856333716335,
            "xref": "x",
            "y0": 4.4624594275616944,
            "y1": 4.862459427561695,
            "yref": "y"
           },
           {
            "fillcolor": "rgba(0, 0, 196, 0.5)",
            "line": {
             "color": "rgba(0, 0, 196, 0.5)"
            },
            "type": "circle",
            "x0": 0.2842572967497731,
            "x1": 0.6842572967497731,
            "xref": "x",
            "y0": 7.093979522621383,
            "y1": 7.493979522621383,
            "yref": "y"
           },
           {
            "fillcolor": "rgba(0, 0, 218, 0.5)",
            "line": {
             "color": "rgba(0, 0, 218, 0.5)"
            },
            "type": "circle",
            "x0": -0.41781173889192014,
            "x1": -0.017811738891920115,
            "xref": "x",
            "y0": 7.305874589306941,
            "y1": 7.705874589306942,
            "yref": "y"
           },
           {
            "fillcolor": "rgba(0, 0, 205, 0.5)",
            "line": {
             "color": "rgba(0, 0, 205, 0.5)"
            },
            "type": "circle",
            "x0": 1.7367116061187569,
            "x1": 2.136711606118757,
            "xref": "x",
            "y0": 6.354381338113826,
            "y1": 6.754381338113826,
            "yref": "y"
           },
           {
            "fillcolor": "rgba(199, 255, 48, 0.5)",
            "line": {
             "color": "rgba(199, 255, 48, 0.5)"
            },
            "type": "circle",
            "x0": 1.3165577545174019,
            "x1": 1.7165577545174018,
            "xref": "x",
            "y0": 5.531013706129093,
            "y1": 5.931013706129093,
            "yref": "y"
           },
           {
            "fillcolor": "rgba(255, 189, 0, 0.5)",
            "line": {
             "color": "rgba(255, 189, 0, 0.5)"
            },
            "type": "circle",
            "x0": 1.0180279852531258,
            "x1": 1.4180279852531257,
            "xref": "x",
            "y0": 6.701686389261616,
            "y1": 7.101686389261617,
            "yref": "y"
           },
           {
            "fillcolor": "rgba(255,255,255,0)",
            "line": {
             "width": 0
            },
            "type": "circle",
            "x0": 0,
            "x1": 0,
            "xref": "x",
            "y0": 0,
            "y1": 0,
            "yref": "y"
           },
           {
            "fillcolor": "rgba(255,255,255,0)",
            "line": {
             "width": 0
            },
            "type": "circle",
            "x0": 0,
            "x1": 0,
            "xref": "x",
            "y0": 0,
            "y1": 0,
            "yref": "y"
           },
           {
            "fillcolor": "rgba(255,255,255,0)",
            "line": {
             "width": 0
            },
            "type": "circle",
            "x0": 0,
            "x1": 0,
            "xref": "x",
            "y0": 0,
            "y1": 0,
            "yref": "y"
           },
           {
            "line": {
             "color": "black",
             "width": 3
            },
            "type": "line",
            "x0": 0.4102964038544285,
            "x1": 0.38318114150018645,
            "y0": 5.8595085390037775,
            "y1": 6.057661920371497
           },
           {
            "line": {
             "color": "black",
             "width": 3
            },
            "type": "line",
            "x0": 0.28727856333716334,
            "x1": 0.27396601303911033,
            "y0": 4.662459427561695,
            "y1": 4.862015875727526
           },
           {
            "line": {
             "color": "white",
             "width": 3
            },
            "type": "line",
            "x0": 0.48425729674977314,
            "x1": 0.46527467837848535,
            "y0": 7.293979522621383,
            "y1": 7.493076635106145
           },
           {
            "line": {
             "color": "white",
             "width": 3
            },
            "type": "line",
            "x0": -0.21781173889192013,
            "x1": -0.2422152100635814,
            "y0": 7.505874589306941,
            "y1": 7.704380182665854
           },
           {
            "line": {
             "color": "white",
             "width": 3
            },
            "type": "line",
            "x0": 1.9367116061187568,
            "x1": 1.8318605080997903,
            "y0": 6.554381338113826,
            "y1": 6.724693543325952
           },
           {
            "line": {
             "color": "black",
             "width": 3
            },
            "type": "line",
            "x0": 1.5165577545174018,
            "x1": 1.4269428212230133,
            "y0": 5.731013706129093,
            "y1": 5.9098129335621055
           },
           {
            "line": {
             "color": "black",
             "width": 3
            },
            "type": "line",
            "x0": 1.2180279852531257,
            "x1": 1.113036199652982,
            "y0": 6.9016863892616165,
            "y1": 7.071911901322804
           },
           {
            "line": {
             "color": "rgba(255,255,255,0)",
             "width": 3
            },
            "type": "line",
            "x0": 0,
            "x1": null,
            "y0": 0,
            "y1": null
           },
           {
            "line": {
             "color": "rgba(255,255,255,0)",
             "width": 3
            },
            "type": "line",
            "x0": 0,
            "x1": null,
            "y0": 0,
            "y1": null
           },
           {
            "line": {
             "color": "rgba(255,255,255,0)",
             "width": 3
            },
            "type": "line",
            "x0": 0,
            "x1": null,
            "y0": 0,
            "y1": null
           }
          ],
          "title": {
           "text": "<b>Number of Agents: 7</b>",
           "x": 0.5
          }
         },
         "name": "140"
        },
        {
         "data": [
          {
           "hoverinfo": "name",
           "line": {
            "color": "grey"
           },
           "mode": "lines",
           "name": "Exterior",
           "showlegend": false,
           "type": "scatter",
           "x": [
            -10,
            -10,
            10,
            10,
            -10
           ],
           "y": [
            10,
            -10,
            -10,
            10,
            10
           ]
          },
          {
           "hoverinfo": "text",
           "marker": {
            "opacity": 1,
            "size": 1
           },
           "mode": "markers",
           "showlegend": false,
           "text": [
            "ID: 2.0, Pos(0.38,6.07)"
           ],
           "type": "scatter",
           "x": [
            0.3811802619450888
           ],
           "y": [
            6.070008590836686
           ]
          },
          {
           "hoverinfo": "text",
           "marker": {
            "opacity": 1,
            "size": 1
           },
           "mode": "markers",
           "showlegend": false,
           "text": [
            "ID: 4.0, Pos(0.28,4.83)"
           ],
           "type": "scatter",
           "x": [
            0.27632448884880395
           ],
           "y": [
            4.826926509959442
           ]
          },
          {
           "hoverinfo": "text",
           "marker": {
            "opacity": 1,
            "size": 1
           },
           "mode": "markers",
           "showlegend": false,
           "text": [
            "ID: 5.0, Pos(0.46,7.56)"
           ],
           "type": "scatter",
           "x": [
            0.4572058245225677
           ],
           "y": [
            7.55789927131705
           ]
          },
          {
           "hoverinfo": "text",
           "marker": {
            "opacity": 1,
            "size": 1
           },
           "mode": "markers",
           "showlegend": false,
           "text": [
            "ID: 7.0, Pos(-0.24,7.77)"
           ],
           "type": "scatter",
           "x": [
            -0.24419752056497418
           ],
           "y": [
            7.765604607972309
           ]
          },
          {
           "hoverinfo": "text",
           "marker": {
            "opacity": 1,
            "size": 1
           },
           "mode": "markers",
           "showlegend": false,
           "text": [
            "ID: 8.0, Pos(1.81,6.79)"
           ],
           "type": "scatter",
           "x": [
            1.8098640505582528
           ],
           "y": [
            6.785450068619238
           ]
          },
          {
           "hoverinfo": "text",
           "marker": {
            "opacity": 1,
            "size": 1
           },
           "mode": "markers",
           "showlegend": false,
           "text": [
            "ID: 9.0, Pos(1.45,5.88)"
           ],
           "type": "scatter",
           "x": [
            1.4457147193604771
           ],
           "y": [
            5.875930243348638
           ]
          },
          {
           "hoverinfo": "text",
           "marker": {
            "opacity": 1,
            "size": 1
           },
           "mode": "markers",
           "showlegend": false,
           "text": [
            "ID: 10.0, Pos(1.15,7.01)"
           ],
           "type": "scatter",
           "x": [
            1.1454213069795134
           ],
           "y": [
            7.011150167759308
           ]
          },
          {
           "hoverinfo": "none",
           "marker": {
            "opacity": 0,
            "size": 1
           },
           "mode": "markers",
           "showlegend": false,
           "type": "scatter",
           "x": [
            0
           ],
           "y": [
            0
           ]
          },
          {
           "hoverinfo": "none",
           "marker": {
            "opacity": 0,
            "size": 1
           },
           "mode": "markers",
           "showlegend": false,
           "type": "scatter",
           "x": [
            0
           ],
           "y": [
            0
           ]
          },
          {
           "hoverinfo": "none",
           "marker": {
            "opacity": 0,
            "size": 1
           },
           "mode": "markers",
           "showlegend": false,
           "type": "scatter",
           "x": [
            0
           ],
           "y": [
            0
           ]
          }
         ],
         "layout": {
          "shapes": [
           {
            "fillcolor": "rgba(0, 184, 255, 0.5)",
            "line": {
             "color": "rgba(0, 184, 255, 0.5)"
            },
            "type": "circle",
            "x0": 0.1811802619450888,
            "x1": 0.5811802619450888,
            "xref": "x",
            "y0": 5.870008590836686,
            "y1": 6.270008590836686,
            "yref": "y"
           },
           {
            "fillcolor": "rgba(167, 255, 80, 0.5)",
            "line": {
             "color": "rgba(167, 255, 80, 0.5)"
            },
            "type": "circle",
            "x0": 0.07632448884880394,
            "x1": 0.47632448884880396,
            "xref": "x",
            "y0": 4.626926509959442,
            "y1": 5.026926509959442,
            "yref": "y"
           },
           {
            "fillcolor": "rgba(0, 0, 196, 0.5)",
            "line": {
             "color": "rgba(0, 0, 196, 0.5)"
            },
            "type": "circle",
            "x0": 0.2572058245225677,
            "x1": 0.6572058245225677,
            "xref": "x",
            "y0": 7.3578992713170495,
            "y1": 7.75789927131705,
            "yref": "y"
           },
           {
            "fillcolor": "rgba(0, 0, 218, 0.5)",
            "line": {
             "color": "rgba(0, 0, 218, 0.5)"
            },
            "type": "circle",
            "x0": -0.4441975205649742,
            "x1": -0.04419752056497417,
            "xref": "x",
            "y0": 7.5656046079723085,
            "y1": 7.965604607972309,
            "yref": "y"
           },
           {
            "fillcolor": "rgba(0, 0, 218, 0.5)",
            "line": {
             "color": "rgba(0, 0, 218, 0.5)"
            },
            "type": "circle",
            "x0": 1.6098640505582529,
            "x1": 2.009864050558253,
            "xref": "x",
            "y0": 6.585450068619238,
            "y1": 6.9854500686192385,
            "yref": "y"
           },
           {
            "fillcolor": "rgba(225, 255, 22, 0.5)",
            "line": {
             "color": "rgba(225, 255, 22, 0.5)"
            },
            "type": "circle",
            "x0": 1.2457147193604772,
            "x1": 1.645714719360477,
            "xref": "x",
            "y0": 5.675930243348637,
            "y1": 6.075930243348638,
            "yref": "y"
           },
           {
            "fillcolor": "rgba(255, 85, 0, 0.5)",
            "line": {
             "color": "rgba(255, 85, 0, 0.5)"
            },
            "type": "circle",
            "x0": 0.9454213069795134,
            "x1": 1.3454213069795133,
            "xref": "x",
            "y0": 6.811150167759308,
            "y1": 7.211150167759309,
            "yref": "y"
           },
           {
            "fillcolor": "rgba(255,255,255,0)",
            "line": {
             "width": 0
            },
            "type": "circle",
            "x0": 0,
            "x1": 0,
            "xref": "x",
            "y0": 0,
            "y1": 0,
            "yref": "y"
           },
           {
            "fillcolor": "rgba(255,255,255,0)",
            "line": {
             "width": 0
            },
            "type": "circle",
            "x0": 0,
            "x1": 0,
            "xref": "x",
            "y0": 0,
            "y1": 0,
            "yref": "y"
           },
           {
            "fillcolor": "rgba(255,255,255,0)",
            "line": {
             "width": 0
            },
            "type": "circle",
            "x0": 0,
            "x1": 0,
            "xref": "x",
            "y0": 0,
            "y1": 0,
            "yref": "y"
           },
           {
            "line": {
             "color": "black",
             "width": 3
            },
            "type": "line",
            "x0": 0.3811802619450888,
            "x1": 0.3534850893713346,
            "y0": 6.070008590836686,
            "y1": 6.268081752613111
           },
           {
            "line": {
             "color": "black",
             "width": 3
            },
            "type": "line",
            "x0": 0.27632448884880395,
            "x1": 0.2630486602666493,
            "y0": 4.826926509959442,
            "y1": 5.026485404462938
           },
           {
            "line": {
             "color": "white",
             "width": 3
            },
            "type": "line",
            "x0": 0.4572058245225677,
            "x1": 0.4404344664260809,
            "y0": 7.55789927131705,
            "y1": 7.757194834608357
           },
           {
            "line": {
             "color": "white",
             "width": 3
            },
            "type": "line",
            "x0": -0.24419752056497418,
            "x1": -0.26051617742294325,
            "y0": 7.765604607972309,
            "y1": 7.964937749818696
           },
           {
            "line": {
             "color": "white",
             "width": 3
            },
            "type": "line",
            "x0": 1.8098640505582528,
            "x1": 1.7357109302980969,
            "y0": 6.785450068619238,
            "y1": 6.9711953639989135
           },
           {
            "line": {
             "color": "black",
             "width": 3
            },
            "type": "line",
            "x0": 1.4457147193604771,
            "x1": 1.3594943162211746,
            "y0": 5.875930243348638,
            "y1": 6.056390881944693
           },
           {
            "line": {
             "color": "white",
             "width": 3
            },
            "type": "line",
            "x0": 1.1454213069795134,
            "x1": 1.017116523728309,
            "y0": 7.011150167759308,
            "y1": 7.164570774572283
           },
           {
            "line": {
             "color": "rgba(255,255,255,0)",
             "width": 3
            },
            "type": "line",
            "x0": 0,
            "x1": null,
            "y0": 0,
            "y1": null
           },
           {
            "line": {
             "color": "rgba(255,255,255,0)",
             "width": 3
            },
            "type": "line",
            "x0": 0,
            "x1": null,
            "y0": 0,
            "y1": null
           },
           {
            "line": {
             "color": "rgba(255,255,255,0)",
             "width": 3
            },
            "type": "line",
            "x0": 0,
            "x1": null,
            "y0": 0,
            "y1": null
           }
          ],
          "title": {
           "text": "<b>Number of Agents: 7</b>",
           "x": 0.5
          }
         },
         "name": "145"
        },
        {
         "data": [
          {
           "hoverinfo": "name",
           "line": {
            "color": "grey"
           },
           "mode": "lines",
           "name": "Exterior",
           "showlegend": false,
           "type": "scatter",
           "x": [
            -10,
            -10,
            10,
            10,
            -10
           ],
           "y": [
            10,
            -10,
            -10,
            10,
            10
           ]
          },
          {
           "hoverinfo": "text",
           "marker": {
            "opacity": 1,
            "size": 1
           },
           "mode": "markers",
           "showlegend": false,
           "text": [
            "ID: 2.0, Pos(0.35,6.29)"
           ],
           "type": "scatter",
           "x": [
            0.34987134520527124
           ],
           "y": [
            6.2901611685555014
           ]
          },
          {
           "hoverinfo": "text",
           "marker": {
            "opacity": 1,
            "size": 1
           },
           "mode": "markers",
           "showlegend": false,
           "text": [
            "ID: 4.0, Pos(0.26,5.00)"
           ],
           "type": "scatter",
           "x": [
            0.2647974335811343
           ],
           "y": [
            5.000330548794338
           ]
          },
          {
           "hoverinfo": "text",
           "marker": {
            "opacity": 1,
            "size": 1
           },
           "mode": "markers",
           "showlegend": false,
           "text": [
            "ID: 5.0, Pos(0.43,7.82)"
           ],
           "type": "scatter",
           "x": [
            0.4328281193495393
           ],
           "y": [
            7.821591894393861
           ]
          },
          {
           "hoverinfo": "text",
           "marker": {
            "opacity": 1,
            "size": 1
           },
           "mode": "markers",
           "showlegend": false,
           "text": [
            "ID: 8.0, Pos(1.75,7.04)"
           ],
           "type": "scatter",
           "x": [
            1.7466441672366826
           ],
           "y": [
            7.041437782491246
           ]
          },
          {
           "hoverinfo": "text",
           "marker": {
            "opacity": 1,
            "size": 1
           },
           "mode": "markers",
           "showlegend": false,
           "text": [
            "ID: 9.0, Pos(1.38,6.01)"
           ],
           "type": "scatter",
           "x": [
            1.3824937272843054
           ],
           "y": [
            6.011044840921051
           ]
          },
          {
           "hoverinfo": "text",
           "marker": {
            "opacity": 1,
            "size": 1
           },
           "mode": "markers",
           "showlegend": false,
           "text": [
            "ID: 10.0, Pos(1.07,7.09)"
           ],
           "type": "scatter",
           "x": [
            1.0718597918394321
           ],
           "y": [
            7.08532025826066
           ]
          },
          {
           "hoverinfo": "none",
           "marker": {
            "opacity": 0,
            "size": 1
           },
           "mode": "markers",
           "showlegend": false,
           "type": "scatter",
           "x": [
            0
           ],
           "y": [
            0
           ]
          },
          {
           "hoverinfo": "none",
           "marker": {
            "opacity": 0,
            "size": 1
           },
           "mode": "markers",
           "showlegend": false,
           "type": "scatter",
           "x": [
            0
           ],
           "y": [
            0
           ]
          },
          {
           "hoverinfo": "none",
           "marker": {
            "opacity": 0,
            "size": 1
           },
           "mode": "markers",
           "showlegend": false,
           "type": "scatter",
           "x": [
            0
           ],
           "y": [
            0
           ]
          },
          {
           "hoverinfo": "none",
           "marker": {
            "opacity": 0,
            "size": 1
           },
           "mode": "markers",
           "showlegend": false,
           "type": "scatter",
           "x": [
            0
           ],
           "y": [
            0
           ]
          }
         ],
         "layout": {
          "shapes": [
           {
            "fillcolor": "rgba(0, 125, 255, 0.5)",
            "line": {
             "color": "rgba(0, 125, 255, 0.5)"
            },
            "type": "circle",
            "x0": 0.14987134520527123,
            "x1": 0.5498713452052713,
            "xref": "x",
            "y0": 6.090161168555501,
            "y1": 6.490161168555502,
            "yref": "y"
           },
           {
            "fillcolor": "rgba(128, 255, 119, 0.5)",
            "line": {
             "color": "rgba(128, 255, 119, 0.5)"
            },
            "type": "circle",
            "x0": 0.06479743358113427,
            "x1": 0.4647974335811343,
            "xref": "x",
            "y0": 4.800330548794338,
            "y1": 5.200330548794338,
            "yref": "y"
           },
           {
            "fillcolor": "rgba(0, 0, 200, 0.5)",
            "line": {
             "color": "rgba(0, 0, 200, 0.5)"
            },
            "type": "circle",
            "x0": 0.2328281193495393,
            "x1": 0.6328281193495393,
            "xref": "x",
            "y0": 7.621591894393861,
            "y1": 8.021591894393861,
            "yref": "y"
           },
           {
            "fillcolor": "rgba(0, 0, 205, 0.5)",
            "line": {
             "color": "rgba(0, 0, 205, 0.5)"
            },
            "type": "circle",
            "x0": 1.5466441672366826,
            "x1": 1.9466441672366825,
            "xref": "x",
            "y0": 6.841437782491246,
            "y1": 7.241437782491246,
            "yref": "y"
           },
           {
            "fillcolor": "rgba(255, 219, 0, 0.5)",
            "line": {
             "color": "rgba(255, 219, 0, 0.5)"
            },
            "type": "circle",
            "x0": 1.1824937272843055,
            "x1": 1.5824937272843054,
            "xref": "x",
            "y0": 5.811044840921051,
            "y1": 6.211044840921051,
            "yref": "y"
           },
           {
            "fillcolor": "rgba(255, 137, 0, 0.5)",
            "line": {
             "color": "rgba(255, 137, 0, 0.5)"
            },
            "type": "circle",
            "x0": 0.8718597918394322,
            "x1": 1.271859791839432,
            "xref": "x",
            "y0": 6.88532025826066,
            "y1": 7.28532025826066,
            "yref": "y"
           },
           {
            "fillcolor": "rgba(255,255,255,0)",
            "line": {
             "width": 0
            },
            "type": "circle",
            "x0": 0,
            "x1": 0,
            "xref": "x",
            "y0": 0,
            "y1": 0,
            "yref": "y"
           },
           {
            "fillcolor": "rgba(255,255,255,0)",
            "line": {
             "width": 0
            },
            "type": "circle",
            "x0": 0,
            "x1": 0,
            "xref": "x",
            "y0": 0,
            "y1": 0,
            "yref": "y"
           },
           {
            "fillcolor": "rgba(255,255,255,0)",
            "line": {
             "width": 0
            },
            "type": "circle",
            "x0": 0,
            "x1": 0,
            "xref": "x",
            "y0": 0,
            "y1": 0,
            "yref": "y"
           },
           {
            "fillcolor": "rgba(255,255,255,0)",
            "line": {
             "width": 0
            },
            "type": "circle",
            "x0": 0,
            "x1": 0,
            "xref": "x",
            "y0": 0,
            "y1": 0,
            "yref": "y"
           },
           {
            "line": {
             "color": "white",
             "width": 3
            },
            "type": "line",
            "x0": 0.34987134520527124,
            "x1": 0.3211385386798806,
            "y0": 6.2901611685555014,
            "y1": 6.488086472216187
           },
           {
            "line": {
             "color": "black",
             "width": 3
            },
            "type": "line",
            "x0": 0.2647974335811343,
            "x1": 0.25153761135463976,
            "y0": 5.000330548794338,
            "y1": 5.199890507489768
           },
           {
            "line": {
             "color": "white",
             "width": 3
            },
            "type": "line",
            "x0": 0.4328281193495393,
            "x1": 0.36205565537254814,
            "y0": 7.821591894393861,
            "y1": 8.008651399211514
           },
           {
            "line": {
             "color": "white",
             "width": 3
            },
            "type": "line",
            "x0": 1.7466441672366826,
            "x1": 1.7047697254126062,
            "y0": 7.041437782491246,
            "y1": 7.237004986086128
           },
           {
            "line": {
             "color": "black",
             "width": 3
            },
            "type": "line",
            "x0": 1.3824937272843054,
            "x1": 1.2987136870306992,
            "y0": 6.011044840921051,
            "y1": 6.192651296905149
           },
           {
            "line": {
             "color": "black",
             "width": 3
            },
            "type": "line",
            "x0": 1.0718597918394321,
            "x1": 0.925225382800736,
            "y0": 7.08532025826066,
            "y1": 7.221328898007819
           },
           {
            "line": {
             "color": "rgba(255,255,255,0)",
             "width": 3
            },
            "type": "line",
            "x0": 0,
            "x1": null,
            "y0": 0,
            "y1": null
           },
           {
            "line": {
             "color": "rgba(255,255,255,0)",
             "width": 3
            },
            "type": "line",
            "x0": 0,
            "x1": null,
            "y0": 0,
            "y1": null
           },
           {
            "line": {
             "color": "rgba(255,255,255,0)",
             "width": 3
            },
            "type": "line",
            "x0": 0,
            "x1": null,
            "y0": 0,
            "y1": null
           },
           {
            "line": {
             "color": "rgba(255,255,255,0)",
             "width": 3
            },
            "type": "line",
            "x0": 0,
            "x1": null,
            "y0": 0,
            "y1": null
           }
          ],
          "title": {
           "text": "<b>Number of Agents: 6</b>",
           "x": 0.5
          }
         },
         "name": "150"
        },
        {
         "data": [
          {
           "hoverinfo": "name",
           "line": {
            "color": "grey"
           },
           "mode": "lines",
           "name": "Exterior",
           "showlegend": false,
           "type": "scatter",
           "x": [
            -10,
            -10,
            10,
            10,
            -10
           ],
           "y": [
            10,
            -10,
            -10,
            10,
            10
           ]
          },
          {
           "hoverinfo": "text",
           "marker": {
            "opacity": 1,
            "size": 1
           },
           "mode": "markers",
           "showlegend": false,
           "text": [
            "ID: 2.0, Pos(0.31,6.52)"
           ],
           "type": "scatter",
           "x": [
            0.3142167029016448
           ],
           "y": [
            6.522293655292193
           ]
          },
          {
           "hoverinfo": "text",
           "marker": {
            "opacity": 1,
            "size": 1
           },
           "mode": "markers",
           "showlegend": false,
           "text": [
            "ID: 4.0, Pos(0.25,5.18)"
           ],
           "type": "scatter",
           "x": [
            0.2526819863856846
           ],
           "y": [
            5.182661107806841
           ]
          },
          {
           "hoverinfo": "text",
           "marker": {
            "opacity": 1,
            "size": 1
           },
           "mode": "markers",
           "showlegend": false,
           "text": [
            "ID: 8.0, Pos(1.67,7.29)"
           ],
           "type": "scatter",
           "x": [
            1.6694382877061633
           ],
           "y": [
            7.293490892526279
           ]
          },
          {
           "hoverinfo": "text",
           "marker": {
            "opacity": 1,
            "size": 1
           },
           "mode": "markers",
           "showlegend": false,
           "text": [
            "ID: 9.0, Pos(1.32,6.14)"
           ],
           "type": "scatter",
           "x": [
            1.3237927668045217
           ],
           "y": [
            6.138997093354829
           ]
          },
          {
           "hoverinfo": "text",
           "marker": {
            "opacity": 1,
            "size": 1
           },
           "mode": "markers",
           "showlegend": false,
           "text": [
            "ID: 10.0, Pos(0.96,7.19)"
           ],
           "type": "scatter",
           "x": [
            0.9629283919913502
           ],
           "y": [
            7.190905203446411
           ]
          },
          {
           "hoverinfo": "none",
           "marker": {
            "opacity": 0,
            "size": 1
           },
           "mode": "markers",
           "showlegend": false,
           "type": "scatter",
           "x": [
            0
           ],
           "y": [
            0
           ]
          },
          {
           "hoverinfo": "none",
           "marker": {
            "opacity": 0,
            "size": 1
           },
           "mode": "markers",
           "showlegend": false,
           "type": "scatter",
           "x": [
            0
           ],
           "y": [
            0
           ]
          },
          {
           "hoverinfo": "none",
           "marker": {
            "opacity": 0,
            "size": 1
           },
           "mode": "markers",
           "showlegend": false,
           "type": "scatter",
           "x": [
            0
           ],
           "y": [
            0
           ]
          },
          {
           "hoverinfo": "none",
           "marker": {
            "opacity": 0,
            "size": 1
           },
           "mode": "markers",
           "showlegend": false,
           "type": "scatter",
           "x": [
            0
           ],
           "y": [
            0
           ]
          },
          {
           "hoverinfo": "none",
           "marker": {
            "opacity": 0,
            "size": 1
           },
           "mode": "markers",
           "showlegend": false,
           "type": "scatter",
           "x": [
            0
           ],
           "y": [
            0
           ]
          }
         ],
         "layout": {
          "shapes": [
           {
            "fillcolor": "rgba(0, 24, 255, 0.5)",
            "line": {
             "color": "rgba(0, 24, 255, 0.5)"
            },
            "type": "circle",
            "x0": 0.11421670290164476,
            "x1": 0.5142167029016448,
            "xref": "x",
            "y0": 6.322293655292193,
            "y1": 6.7222936552921935,
            "yref": "y"
           },
           {
            "fillcolor": "rgba(86, 255, 160, 0.5)",
            "line": {
             "color": "rgba(86, 255, 160, 0.5)"
            },
            "type": "circle",
            "x0": 0.05268198638568461,
            "x1": 0.45268198638568463,
            "xref": "x",
            "y0": 4.982661107806841,
            "y1": 5.382661107806841,
            "yref": "y"
           },
           {
            "fillcolor": "rgba(0, 0, 214, 0.5)",
            "line": {
             "color": "rgba(0, 0, 214, 0.5)"
            },
            "type": "circle",
            "x0": 1.4694382877061634,
            "x1": 1.8694382877061633,
            "xref": "x",
            "y0": 7.093490892526279,
            "y1": 7.493490892526279,
            "yref": "y"
           },
           {
            "fillcolor": "rgba(255, 226, 0, 0.5)",
            "line": {
             "color": "rgba(255, 226, 0, 0.5)"
            },
            "type": "circle",
            "x0": 1.1237927668045218,
            "x1": 1.5237927668045217,
            "xref": "x",
            "y0": 5.938997093354828,
            "y1": 6.338997093354829,
            "yref": "y"
           },
           {
            "fillcolor": "rgba(15, 248, 231, 0.5)",
            "line": {
             "color": "rgba(15, 248, 231, 0.5)"
            },
            "type": "circle",
            "x0": 0.7629283919913501,
            "x1": 1.1629283919913502,
            "xref": "x",
            "y0": 6.9909052034464105,
            "y1": 7.390905203446411,
            "yref": "y"
           },
           {
            "fillcolor": "rgba(255,255,255,0)",
            "line": {
             "width": 0
            },
            "type": "circle",
            "x0": 0,
            "x1": 0,
            "xref": "x",
            "y0": 0,
            "y1": 0,
            "yref": "y"
           },
           {
            "fillcolor": "rgba(255,255,255,0)",
            "line": {
             "width": 0
            },
            "type": "circle",
            "x0": 0,
            "x1": 0,
            "xref": "x",
            "y0": 0,
            "y1": 0,
            "yref": "y"
           },
           {
            "fillcolor": "rgba(255,255,255,0)",
            "line": {
             "width": 0
            },
            "type": "circle",
            "x0": 0,
            "x1": 0,
            "xref": "x",
            "y0": 0,
            "y1": 0,
            "yref": "y"
           },
           {
            "fillcolor": "rgba(255,255,255,0)",
            "line": {
             "width": 0
            },
            "type": "circle",
            "x0": 0,
            "x1": 0,
            "xref": "x",
            "y0": 0,
            "y1": 0,
            "yref": "y"
           },
           {
            "fillcolor": "rgba(255,255,255,0)",
            "line": {
             "width": 0
            },
            "type": "circle",
            "x0": 0,
            "x1": 0,
            "xref": "x",
            "y0": 0,
            "y1": 0,
            "yref": "y"
           },
           {
            "line": {
             "color": "white",
             "width": 3
            },
            "type": "line",
            "x0": 0.3142167029016448,
            "x1": 0.2816398183061724,
            "y0": 6.522293655292193,
            "y1": 6.719622686582709
           },
           {
            "line": {
             "color": "black",
             "width": 3
            },
            "type": "line",
            "x0": 0.2526819863856846,
            "x1": 0.23941832317611395,
            "y0": 5.182661107806841,
            "y1": 5.382220811249853
           },
           {
            "line": {
             "color": "white",
             "width": 3
            },
            "type": "line",
            "x0": 1.6694382877061633,
            "x1": 1.5884873765950482,
            "y0": 7.293490892526279,
            "y1": 7.47637596570143
           },
           {
            "line": {
             "color": "black",
             "width": 3
            },
            "type": "line",
            "x0": 1.3237927668045217,
            "x1": 1.2405656993764982,
            "y0": 6.138997093354829,
            "y1": 6.320857631260475
           },
           {
            "line": {
             "color": "black",
             "width": 3
            },
            "type": "line",
            "x0": 0.9629283919913502,
            "x1": 0.8266375927781173,
            "y0": 7.190905203446411,
            "y1": 7.337277393598154
           },
           {
            "line": {
             "color": "rgba(255,255,255,0)",
             "width": 3
            },
            "type": "line",
            "x0": 0,
            "x1": null,
            "y0": 0,
            "y1": null
           },
           {
            "line": {
             "color": "rgba(255,255,255,0)",
             "width": 3
            },
            "type": "line",
            "x0": 0,
            "x1": null,
            "y0": 0,
            "y1": null
           },
           {
            "line": {
             "color": "rgba(255,255,255,0)",
             "width": 3
            },
            "type": "line",
            "x0": 0,
            "x1": null,
            "y0": 0,
            "y1": null
           },
           {
            "line": {
             "color": "rgba(255,255,255,0)",
             "width": 3
            },
            "type": "line",
            "x0": 0,
            "x1": null,
            "y0": 0,
            "y1": null
           },
           {
            "line": {
             "color": "rgba(255,255,255,0)",
             "width": 3
            },
            "type": "line",
            "x0": 0,
            "x1": null,
            "y0": 0,
            "y1": null
           }
          ],
          "title": {
           "text": "<b>Number of Agents: 5</b>",
           "x": 0.5
          }
         },
         "name": "155"
        },
        {
         "data": [
          {
           "hoverinfo": "name",
           "line": {
            "color": "grey"
           },
           "mode": "lines",
           "name": "Exterior",
           "showlegend": false,
           "type": "scatter",
           "x": [
            -10,
            -10,
            10,
            10,
            -10
           ],
           "y": [
            10,
            -10,
            -10,
            10,
            10
           ]
          },
          {
           "hoverinfo": "text",
           "marker": {
            "opacity": 1,
            "size": 1
           },
           "mode": "markers",
           "showlegend": false,
           "text": [
            "ID: 2.0, Pos(0.27,6.78)"
           ],
           "type": "scatter",
           "x": [
            0.26526371437862417
           ],
           "y": [
            6.7787948127496
           ]
          },
          {
           "hoverinfo": "text",
           "marker": {
            "opacity": 1,
            "size": 1
           },
           "mode": "markers",
           "showlegend": false,
           "text": [
            "ID: 4.0, Pos(0.24,5.38)"
           ],
           "type": "scatter",
           "x": [
            0.2397846467150479
           ],
           "y": [
            5.376519054796475
           ]
          },
          {
           "hoverinfo": "text",
           "marker": {
            "opacity": 1,
            "size": 1
           },
           "mode": "markers",
           "showlegend": false,
           "text": [
            "ID: 8.0, Pos(1.54,7.52)"
           ],
           "type": "scatter",
           "x": [
            1.5387765481783662
           ],
           "y": [
            7.522698551421721
           ]
          },
          {
           "hoverinfo": "text",
           "marker": {
            "opacity": 1,
            "size": 1
           },
           "mode": "markers",
           "showlegend": false,
           "text": [
            "ID: 9.0, Pos(1.26,6.28)"
           ],
           "type": "scatter",
           "x": [
            1.2606347678382284
           ],
           "y": [
            6.276900609606058
           ]
          },
          {
           "hoverinfo": "text",
           "marker": {
            "opacity": 1,
            "size": 1
           },
           "mode": "markers",
           "showlegend": false,
           "text": [
            "ID: 10.0, Pos(0.81,7.40)"
           ],
           "type": "scatter",
           "x": [
            0.8050981738976353
           ],
           "y": [
            7.396631118386297
           ]
          },
          {
           "hoverinfo": "none",
           "marker": {
            "opacity": 0,
            "size": 1
           },
           "mode": "markers",
           "showlegend": false,
           "type": "scatter",
           "x": [
            0
           ],
           "y": [
            0
           ]
          },
          {
           "hoverinfo": "none",
           "marker": {
            "opacity": 0,
            "size": 1
           },
           "mode": "markers",
           "showlegend": false,
           "type": "scatter",
           "x": [
            0
           ],
           "y": [
            0
           ]
          },
          {
           "hoverinfo": "none",
           "marker": {
            "opacity": 0,
            "size": 1
           },
           "mode": "markers",
           "showlegend": false,
           "type": "scatter",
           "x": [
            0
           ],
           "y": [
            0
           ]
          },
          {
           "hoverinfo": "none",
           "marker": {
            "opacity": 0,
            "size": 1
           },
           "mode": "markers",
           "showlegend": false,
           "type": "scatter",
           "x": [
            0
           ],
           "y": [
            0
           ]
          },
          {
           "hoverinfo": "none",
           "marker": {
            "opacity": 0,
            "size": 1
           },
           "mode": "markers",
           "showlegend": false,
           "type": "scatter",
           "x": [
            0
           ],
           "y": [
            0
           ]
          }
         ],
         "layout": {
          "shapes": [
           {
            "fillcolor": "rgba(0, 0, 223, 0.5)",
            "line": {
             "color": "rgba(0, 0, 223, 0.5)"
            },
            "type": "circle",
            "x0": 0.06526371437862416,
            "x1": 0.4652637143786242,
            "xref": "x",
            "y0": 6.578794812749599,
            "y1": 6.9787948127496,
            "yref": "y"
           },
           {
            "fillcolor": "rgba(38, 255, 209, 0.5)",
            "line": {
             "color": "rgba(38, 255, 209, 0.5)"
            },
            "type": "circle",
            "x0": 0.03978464671504789,
            "x1": 0.4397846467150479,
            "xref": "x",
            "y0": 5.176519054796475,
            "y1": 5.576519054796475,
            "yref": "y"
           },
           {
            "fillcolor": "rgba(0, 0, 205, 0.5)",
            "line": {
             "color": "rgba(0, 0, 205, 0.5)"
            },
            "type": "circle",
            "x0": 1.3387765481783662,
            "x1": 1.7387765481783661,
            "xref": "x",
            "y0": 7.322698551421721,
            "y1": 7.722698551421721,
            "yref": "y"
           },
           {
            "fillcolor": "rgba(202, 255, 44, 0.5)",
            "line": {
             "color": "rgba(202, 255, 44, 0.5)"
            },
            "type": "circle",
            "x0": 1.0606347678382284,
            "x1": 1.4606347678382283,
            "xref": "x",
            "y0": 6.076900609606057,
            "y1": 6.476900609606058,
            "yref": "y"
           },
           {
            "fillcolor": "rgba(0, 0, 232, 0.5)",
            "line": {
             "color": "rgba(0, 0, 232, 0.5)"
            },
            "type": "circle",
            "x0": 0.6050981738976353,
            "x1": 1.0050981738976352,
            "xref": "x",
            "y0": 7.196631118386297,
            "y1": 7.596631118386298,
            "yref": "y"
           },
           {
            "fillcolor": "rgba(255,255,255,0)",
            "line": {
             "width": 0
            },
            "type": "circle",
            "x0": 0,
            "x1": 0,
            "xref": "x",
            "y0": 0,
            "y1": 0,
            "yref": "y"
           },
           {
            "fillcolor": "rgba(255,255,255,0)",
            "line": {
             "width": 0
            },
            "type": "circle",
            "x0": 0,
            "x1": 0,
            "xref": "x",
            "y0": 0,
            "y1": 0,
            "yref": "y"
           },
           {
            "fillcolor": "rgba(255,255,255,0)",
            "line": {
             "width": 0
            },
            "type": "circle",
            "x0": 0,
            "x1": 0,
            "xref": "x",
            "y0": 0,
            "y1": 0,
            "yref": "y"
           },
           {
            "fillcolor": "rgba(255,255,255,0)",
            "line": {
             "width": 0
            },
            "type": "circle",
            "x0": 0,
            "x1": 0,
            "xref": "x",
            "y0": 0,
            "y1": 0,
            "yref": "y"
           },
           {
            "fillcolor": "rgba(255,255,255,0)",
            "line": {
             "width": 0
            },
            "type": "circle",
            "x0": 0,
            "x1": 0,
            "xref": "x",
            "y0": 0,
            "y1": 0,
            "yref": "y"
           },
           {
            "line": {
             "color": "white",
             "width": 3
            },
            "type": "line",
            "x0": 0.26526371437862417,
            "x1": 0.22224723276524389,
            "y0": 6.7787948127496,
            "y1": 6.974113993347936
           },
           {
            "line": {
             "color": "black",
             "width": 3
            },
            "type": "line",
            "x0": 0.2397846467150479,
            "x1": 0.2264904541076776,
            "y0": 5.376519054796475,
            "y1": 5.57607672676856
           },
           {
            "line": {
             "color": "white",
             "width": 3
            },
            "type": "line",
            "x0": 1.5387765481783662,
            "x1": 1.4317423621811123,
            "y0": 7.522698551421721,
            "y1": 7.691647310008179
           },
           {
            "line": {
             "color": "black",
             "width": 3
            },
            "type": "line",
            "x0": 1.2606347678382284,
            "x1": 1.1772732634456842,
            "y0": 6.276900609606058,
            "y1": 6.458699563358305
           },
           {
            "line": {
             "color": "white",
             "width": 3
            },
            "type": "line",
            "x0": 0.8050981738976353,
            "x1": 0.6939376221132394,
            "y0": 7.396631118386297,
            "y1": 7.5628939576709335
           },
           {
            "line": {
             "color": "rgba(255,255,255,0)",
             "width": 3
            },
            "type": "line",
            "x0": 0,
            "x1": null,
            "y0": 0,
            "y1": null
           },
           {
            "line": {
             "color": "rgba(255,255,255,0)",
             "width": 3
            },
            "type": "line",
            "x0": 0,
            "x1": null,
            "y0": 0,
            "y1": null
           },
           {
            "line": {
             "color": "rgba(255,255,255,0)",
             "width": 3
            },
            "type": "line",
            "x0": 0,
            "x1": null,
            "y0": 0,
            "y1": null
           },
           {
            "line": {
             "color": "rgba(255,255,255,0)",
             "width": 3
            },
            "type": "line",
            "x0": 0,
            "x1": null,
            "y0": 0,
            "y1": null
           },
           {
            "line": {
             "color": "rgba(255,255,255,0)",
             "width": 3
            },
            "type": "line",
            "x0": 0,
            "x1": null,
            "y0": 0,
            "y1": null
           }
          ],
          "title": {
           "text": "<b>Number of Agents: 5</b>",
           "x": 0.5
          }
         },
         "name": "160"
        },
        {
         "data": [
          {
           "hoverinfo": "name",
           "line": {
            "color": "grey"
           },
           "mode": "lines",
           "name": "Exterior",
           "showlegend": false,
           "type": "scatter",
           "x": [
            -10,
            -10,
            10,
            10,
            -10
           ],
           "y": [
            10,
            -10,
            -10,
            10,
            10
           ]
          },
          {
           "hoverinfo": "text",
           "marker": {
            "opacity": 1,
            "size": 1
           },
           "mode": "markers",
           "showlegend": false,
           "text": [
            "ID: 2.0, Pos(0.20,7.03)"
           ],
           "type": "scatter",
           "x": [
            0.1990137314855935
           ],
           "y": [
            7.031347429031948
           ]
          },
          {
           "hoverinfo": "text",
           "marker": {
            "opacity": 1,
            "size": 1
           },
           "mode": "markers",
           "showlegend": false,
           "text": [
            "ID: 4.0, Pos(0.23,5.58)"
           ],
           "type": "scatter",
           "x": [
            0.22610267298402897
           ],
           "y": [
            5.581315488324941
           ]
          },
          {
           "hoverinfo": "text",
           "marker": {
            "opacity": 1,
            "size": 1
           },
           "mode": "markers",
           "showlegend": false,
           "text": [
            "ID: 8.0, Pos(1.40,7.74)"
           ],
           "type": "scatter",
           "x": [
            1.3951603446844778
           ],
           "y": [
            7.744254063176481
           ]
          },
          {
           "hoverinfo": "text",
           "marker": {
            "opacity": 1,
            "size": 1
           },
           "mode": "markers",
           "showlegend": false,
           "text": [
            "ID: 9.0, Pos(1.19,6.43)"
           ],
           "type": "scatter",
           "x": [
            1.1896018568495963
           ],
           "y": [
            6.431605144890626
           ]
          },
          {
           "hoverinfo": "text",
           "marker": {
            "opacity": 1,
            "size": 1
           },
           "mode": "markers",
           "showlegend": false,
           "text": [
            "ID: 10.0, Pos(0.67,7.62)"
           ],
           "type": "scatter",
           "x": [
            0.6713800367905273
           ],
           "y": [
            7.618999040409804
           ]
          },
          {
           "hoverinfo": "none",
           "marker": {
            "opacity": 0,
            "size": 1
           },
           "mode": "markers",
           "showlegend": false,
           "type": "scatter",
           "x": [
            0
           ],
           "y": [
            0
           ]
          },
          {
           "hoverinfo": "none",
           "marker": {
            "opacity": 0,
            "size": 1
           },
           "mode": "markers",
           "showlegend": false,
           "type": "scatter",
           "x": [
            0
           ],
           "y": [
            0
           ]
          },
          {
           "hoverinfo": "none",
           "marker": {
            "opacity": 0,
            "size": 1
           },
           "mode": "markers",
           "showlegend": false,
           "type": "scatter",
           "x": [
            0
           ],
           "y": [
            0
           ]
          },
          {
           "hoverinfo": "none",
           "marker": {
            "opacity": 0,
            "size": 1
           },
           "mode": "markers",
           "showlegend": false,
           "type": "scatter",
           "x": [
            0
           ],
           "y": [
            0
           ]
          },
          {
           "hoverinfo": "none",
           "marker": {
            "opacity": 0,
            "size": 1
           },
           "mode": "markers",
           "showlegend": false,
           "type": "scatter",
           "x": [
            0
           ],
           "y": [
            0
           ]
          }
         ],
         "layout": {
          "shapes": [
           {
            "fillcolor": "rgba(0, 0, 223, 0.5)",
            "line": {
             "color": "rgba(0, 0, 223, 0.5)"
            },
            "type": "circle",
            "x0": -0.000986268514406502,
            "x1": 0.3990137314855935,
            "xref": "x",
            "y0": 6.831347429031948,
            "y1": 7.231347429031948,
            "yref": "y"
           },
           {
            "fillcolor": "rgba(0, 224, 251, 0.5)",
            "line": {
             "color": "rgba(0, 224, 251, 0.5)"
            },
            "type": "circle",
            "x0": 0.026102672984028963,
            "x1": 0.426102672984029,
            "xref": "x",
            "y0": 5.381315488324941,
            "y1": 5.781315488324942,
            "yref": "y"
           },
           {
            "fillcolor": "rgba(0, 0, 205, 0.5)",
            "line": {
             "color": "rgba(0, 0, 205, 0.5)"
            },
            "type": "circle",
            "x0": 1.1951603446844778,
            "x1": 1.5951603446844778,
            "xref": "x",
            "y0": 7.5442540631764805,
            "y1": 7.944254063176481,
            "yref": "y"
           },
           {
            "fillcolor": "rgba(128, 255, 119, 0.5)",
            "line": {
             "color": "rgba(128, 255, 119, 0.5)"
            },
            "type": "circle",
            "x0": 0.9896018568495963,
            "x1": 1.3896018568495963,
            "xref": "x",
            "y0": 6.231605144890626,
            "y1": 6.631605144890626,
            "yref": "y"
           },
           {
            "fillcolor": "rgba(0, 0, 232, 0.5)",
            "line": {
             "color": "rgba(0, 0, 232, 0.5)"
            },
            "type": "circle",
            "x0": 0.47138003679052726,
            "x1": 0.8713800367905273,
            "xref": "x",
            "y0": 7.418999040409804,
            "y1": 7.818999040409804,
            "yref": "y"
           },
           {
            "fillcolor": "rgba(255,255,255,0)",
            "line": {
             "width": 0
            },
            "type": "circle",
            "x0": 0,
            "x1": 0,
            "xref": "x",
            "y0": 0,
            "y1": 0,
            "yref": "y"
           },
           {
            "fillcolor": "rgba(255,255,255,0)",
            "line": {
             "width": 0
            },
            "type": "circle",
            "x0": 0,
            "x1": 0,
            "xref": "x",
            "y0": 0,
            "y1": 0,
            "yref": "y"
           },
           {
            "fillcolor": "rgba(255,255,255,0)",
            "line": {
             "width": 0
            },
            "type": "circle",
            "x0": 0,
            "x1": 0,
            "xref": "x",
            "y0": 0,
            "y1": 0,
            "yref": "y"
           },
           {
            "fillcolor": "rgba(255,255,255,0)",
            "line": {
             "width": 0
            },
            "type": "circle",
            "x0": 0,
            "x1": 0,
            "xref": "x",
            "y0": 0,
            "y1": 0,
            "yref": "y"
           },
           {
            "fillcolor": "rgba(255,255,255,0)",
            "line": {
             "width": 0
            },
            "type": "circle",
            "x0": 0,
            "x1": 0,
            "xref": "x",
            "y0": 0,
            "y1": 0,
            "yref": "y"
           },
           {
            "line": {
             "color": "white",
             "width": 3
            },
            "type": "line",
            "x0": 0.1990137314855935,
            "x1": 0.14117519658132274,
            "y0": 7.031347429031948,
            "y1": 7.222801611227395
           },
           {
            "line": {
             "color": "black",
             "width": 3
            },
            "type": "line",
            "x0": 0.22610267298402897,
            "x1": 0.21272670186877016,
            "y0": 5.581315488324941,
            "y1": 5.7808676955207625
           },
           {
            "line": {
             "color": "white",
             "width": 3
            },
            "type": "line",
            "x0": 1.3951603446844778,
            "x1": 1.2863302048067362,
            "y0": 7.744254063176481,
            "y1": 7.912051562127422
           },
           {
            "line": {
             "color": "black",
             "width": 3
            },
            "type": "line",
            "x0": 1.1896018568495963,
            "x1": 1.106087333745217,
            "y0": 6.431605144890626,
            "y1": 6.613333855970213
           },
           {
            "line": {
             "color": "white",
             "width": 3
            },
            "type": "line",
            "x0": 0.6713800367905273,
            "x1": 0.5742981848681387,
            "y0": 7.618999040409804,
            "y1": 7.793856450968577
           },
           {
            "line": {
             "color": "rgba(255,255,255,0)",
             "width": 3
            },
            "type": "line",
            "x0": 0,
            "x1": null,
            "y0": 0,
            "y1": null
           },
           {
            "line": {
             "color": "rgba(255,255,255,0)",
             "width": 3
            },
            "type": "line",
            "x0": 0,
            "x1": null,
            "y0": 0,
            "y1": null
           },
           {
            "line": {
             "color": "rgba(255,255,255,0)",
             "width": 3
            },
            "type": "line",
            "x0": 0,
            "x1": null,
            "y0": 0,
            "y1": null
           },
           {
            "line": {
             "color": "rgba(255,255,255,0)",
             "width": 3
            },
            "type": "line",
            "x0": 0,
            "x1": null,
            "y0": 0,
            "y1": null
           },
           {
            "line": {
             "color": "rgba(255,255,255,0)",
             "width": 3
            },
            "type": "line",
            "x0": 0,
            "x1": null,
            "y0": 0,
            "y1": null
           }
          ],
          "title": {
           "text": "<b>Number of Agents: 5</b>",
           "x": 0.5
          }
         },
         "name": "165"
        },
        {
         "data": [
          {
           "hoverinfo": "name",
           "line": {
            "color": "grey"
           },
           "mode": "lines",
           "name": "Exterior",
           "showlegend": false,
           "type": "scatter",
           "x": [
            -10,
            -10,
            10,
            10,
            -10
           ],
           "y": [
            10,
            -10,
            -10,
            10,
            10
           ]
          },
          {
           "hoverinfo": "text",
           "marker": {
            "opacity": 1,
            "size": 1
           },
           "mode": "markers",
           "showlegend": false,
           "text": [
            "ID: 2.0, Pos(0.11,7.28)"
           ],
           "type": "scatter",
           "x": [
            0.11483266777842237
           ],
           "y": [
            7.278528288276041
           ]
          },
          {
           "hoverinfo": "text",
           "marker": {
            "opacity": 1,
            "size": 1
           },
           "mode": "markers",
           "showlegend": false,
           "text": [
            "ID: 4.0, Pos(0.21,5.79)"
           ],
           "type": "scatter",
           "x": [
            0.21172053279338246
           ],
           "y": [
            5.794535080972563
           ]
          },
          {
           "hoverinfo": "text",
           "marker": {
            "opacity": 1,
            "size": 1
           },
           "mode": "markers",
           "showlegend": false,
           "text": [
            "ID: 8.0, Pos(1.25,7.97)"
           ],
           "type": "scatter",
           "x": [
            1.2537908961707884
           ],
           "y": [
            7.967245114048839
           ]
          },
          {
           "hoverinfo": "text",
           "marker": {
            "opacity": 1,
            "size": 1
           },
           "mode": "markers",
           "showlegend": false,
           "text": [
            "ID: 9.0, Pos(1.11,6.60)"
           ],
           "type": "scatter",
           "x": [
            1.1118292729027766
           ],
           "y": [
            6.600836272502333
           ]
          },
          {
           "hoverinfo": "text",
           "marker": {
            "opacity": 1,
            "size": 1
           },
           "mode": "markers",
           "showlegend": false,
           "text": [
            "ID: 10.0, Pos(0.55,7.85)"
           ],
           "type": "scatter",
           "x": [
            0.5500481477667049
           ],
           "y": [
            7.8484291958707475
           ]
          },
          {
           "hoverinfo": "none",
           "marker": {
            "opacity": 0,
            "size": 1
           },
           "mode": "markers",
           "showlegend": false,
           "type": "scatter",
           "x": [
            0
           ],
           "y": [
            0
           ]
          },
          {
           "hoverinfo": "none",
           "marker": {
            "opacity": 0,
            "size": 1
           },
           "mode": "markers",
           "showlegend": false,
           "type": "scatter",
           "x": [
            0
           ],
           "y": [
            0
           ]
          },
          {
           "hoverinfo": "none",
           "marker": {
            "opacity": 0,
            "size": 1
           },
           "mode": "markers",
           "showlegend": false,
           "type": "scatter",
           "x": [
            0
           ],
           "y": [
            0
           ]
          },
          {
           "hoverinfo": "none",
           "marker": {
            "opacity": 0,
            "size": 1
           },
           "mode": "markers",
           "showlegend": false,
           "type": "scatter",
           "x": [
            0
           ],
           "y": [
            0
           ]
          },
          {
           "hoverinfo": "none",
           "marker": {
            "opacity": 0,
            "size": 1
           },
           "mode": "markers",
           "showlegend": false,
           "type": "scatter",
           "x": [
            0
           ],
           "y": [
            0
           ]
          }
         ],
         "layout": {
          "shapes": [
           {
            "fillcolor": "rgba(0, 0, 228, 0.5)",
            "line": {
             "color": "rgba(0, 0, 228, 0.5)"
            },
            "type": "circle",
            "x0": -0.08516733222157764,
            "x1": 0.3148326677784224,
            "xref": "x",
            "y0": 7.078528288276041,
            "y1": 7.478528288276041,
            "yref": "y"
           },
           {
            "fillcolor": "rgba(0, 184, 255, 0.5)",
            "line": {
             "color": "rgba(0, 184, 255, 0.5)"
            },
            "type": "circle",
            "x0": 0.011720532793382449,
            "x1": 0.4117205327933825,
            "xref": "x",
            "y0": 5.5945350809725625,
            "y1": 5.994535080972563,
            "yref": "y"
           },
           {
            "fillcolor": "rgba(0, 0, 205, 0.5)",
            "line": {
             "color": "rgba(0, 0, 205, 0.5)"
            },
            "type": "circle",
            "x0": 1.0537908961707885,
            "x1": 1.4537908961707884,
            "xref": "x",
            "y0": 7.767245114048839,
            "y1": 8.16724511404884,
            "yref": "y"
           },
           {
            "fillcolor": "rgba(31, 255, 215, 0.5)",
            "line": {
             "color": "rgba(31, 255, 215, 0.5)"
            },
            "type": "circle",
            "x0": 0.9118292729027766,
            "x1": 1.3118292729027765,
            "xref": "x",
            "y0": 6.400836272502333,
            "y1": 6.800836272502333,
            "yref": "y"
           },
           {
            "fillcolor": "rgba(0, 0, 228, 0.5)",
            "line": {
             "color": "rgba(0, 0, 228, 0.5)"
            },
            "type": "circle",
            "x0": 0.35004814776670484,
            "x1": 0.7500481477667049,
            "xref": "x",
            "y0": 7.648429195870747,
            "y1": 8.048429195870748,
            "yref": "y"
           },
           {
            "fillcolor": "rgba(255,255,255,0)",
            "line": {
             "width": 0
            },
            "type": "circle",
            "x0": 0,
            "x1": 0,
            "xref": "x",
            "y0": 0,
            "y1": 0,
            "yref": "y"
           },
           {
            "fillcolor": "rgba(255,255,255,0)",
            "line": {
             "width": 0
            },
            "type": "circle",
            "x0": 0,
            "x1": 0,
            "xref": "x",
            "y0": 0,
            "y1": 0,
            "yref": "y"
           },
           {
            "fillcolor": "rgba(255,255,255,0)",
            "line": {
             "width": 0
            },
            "type": "circle",
            "x0": 0,
            "x1": 0,
            "xref": "x",
            "y0": 0,
            "y1": 0,
            "yref": "y"
           },
           {
            "fillcolor": "rgba(255,255,255,0)",
            "line": {
             "width": 0
            },
            "type": "circle",
            "x0": 0,
            "x1": 0,
            "xref": "x",
            "y0": 0,
            "y1": 0,
            "yref": "y"
           },
           {
            "fillcolor": "rgba(255,255,255,0)",
            "line": {
             "width": 0
            },
            "type": "circle",
            "x0": 0,
            "x1": 0,
            "xref": "x",
            "y0": 0,
            "y1": 0,
            "yref": "y"
           },
           {
            "line": {
             "color": "white",
             "width": 3
            },
            "type": "line",
            "x0": 0.11483266777842237,
            "x1": 0.04534935565195378,
            "y0": 7.278528288276041,
            "y1": 7.4660704684274295
           },
           {
            "line": {
             "color": "black",
             "width": 3
            },
            "type": "line",
            "x0": 0.21172053279338246,
            "x1": 0.19816420610669533,
            "y0": 5.794535080972563,
            "y1": 5.994075117072499
           },
           {
            "line": {
             "color": "white",
             "width": 3
            },
            "type": "line",
            "x0": 1.2537908961707884,
            "x1": 1.148533025257912,
            "y0": 7.967245114048839,
            "y1": 8.137306222509558
           },
           {
            "line": {
             "color": "black",
             "width": 3
            },
            "type": "line",
            "x0": 1.1118292729027766,
            "x1": 1.0283493815499092,
            "y0": 6.600836272502333,
            "y1": 6.782580894815384
           },
           {
            "line": {
             "color": "white",
             "width": 3
            },
            "type": "line",
            "x0": 0.5500481477667049,
            "x1": 0.4586944348681904,
            "y0": 7.8484291958707475,
            "y1": 8.026346308987097
           },
           {
            "line": {
             "color": "rgba(255,255,255,0)",
             "width": 3
            },
            "type": "line",
            "x0": 0,
            "x1": null,
            "y0": 0,
            "y1": null
           },
           {
            "line": {
             "color": "rgba(255,255,255,0)",
             "width": 3
            },
            "type": "line",
            "x0": 0,
            "x1": null,
            "y0": 0,
            "y1": null
           },
           {
            "line": {
             "color": "rgba(255,255,255,0)",
             "width": 3
            },
            "type": "line",
            "x0": 0,
            "x1": null,
            "y0": 0,
            "y1": null
           },
           {
            "line": {
             "color": "rgba(255,255,255,0)",
             "width": 3
            },
            "type": "line",
            "x0": 0,
            "x1": null,
            "y0": 0,
            "y1": null
           },
           {
            "line": {
             "color": "rgba(255,255,255,0)",
             "width": 3
            },
            "type": "line",
            "x0": 0,
            "x1": null,
            "y0": 0,
            "y1": null
           }
          ],
          "title": {
           "text": "<b>Number of Agents: 5</b>",
           "x": 0.5
          }
         },
         "name": "170"
        },
        {
         "data": [
          {
           "hoverinfo": "name",
           "line": {
            "color": "grey"
           },
           "mode": "lines",
           "name": "Exterior",
           "showlegend": false,
           "type": "scatter",
           "x": [
            -10,
            -10,
            10,
            10,
            -10
           ],
           "y": [
            10,
            -10,
            -10,
            10,
            10
           ]
          },
          {
           "hoverinfo": "text",
           "marker": {
            "opacity": 1,
            "size": 1
           },
           "mode": "markers",
           "showlegend": false,
           "text": [
            "ID: 2.0, Pos(0.05,7.53)"
           ],
           "type": "scatter",
           "x": [
            0.05144062718412478
           ],
           "y": [
            7.529280681468098
           ]
          },
          {
           "hoverinfo": "text",
           "marker": {
            "opacity": 1,
            "size": 1
           },
           "mode": "markers",
           "showlegend": false,
           "text": [
            "ID: 4.0, Pos(0.20,6.01)"
           ],
           "type": "scatter",
           "x": [
            0.19657953856772825
           ],
           "y": [
            6.0146036619179295
           ]
          },
          {
           "hoverinfo": "text",
           "marker": {
            "opacity": 1,
            "size": 1
           },
           "mode": "markers",
           "showlegend": false,
           "text": [
            "ID: 9.0, Pos(1.02,6.80)"
           ],
           "type": "scatter",
           "x": [
            1.0216051175034888
           ],
           "y": [
            6.797779318477759
           ]
          },
          {
           "hoverinfo": "none",
           "marker": {
            "opacity": 0,
            "size": 1
           },
           "mode": "markers",
           "showlegend": false,
           "type": "scatter",
           "x": [
            0
           ],
           "y": [
            0
           ]
          },
          {
           "hoverinfo": "none",
           "marker": {
            "opacity": 0,
            "size": 1
           },
           "mode": "markers",
           "showlegend": false,
           "type": "scatter",
           "x": [
            0
           ],
           "y": [
            0
           ]
          },
          {
           "hoverinfo": "none",
           "marker": {
            "opacity": 0,
            "size": 1
           },
           "mode": "markers",
           "showlegend": false,
           "type": "scatter",
           "x": [
            0
           ],
           "y": [
            0
           ]
          },
          {
           "hoverinfo": "none",
           "marker": {
            "opacity": 0,
            "size": 1
           },
           "mode": "markers",
           "showlegend": false,
           "type": "scatter",
           "x": [
            0
           ],
           "y": [
            0
           ]
          },
          {
           "hoverinfo": "none",
           "marker": {
            "opacity": 0,
            "size": 1
           },
           "mode": "markers",
           "showlegend": false,
           "type": "scatter",
           "x": [
            0
           ],
           "y": [
            0
           ]
          },
          {
           "hoverinfo": "none",
           "marker": {
            "opacity": 0,
            "size": 1
           },
           "mode": "markers",
           "showlegend": false,
           "type": "scatter",
           "x": [
            0
           ],
           "y": [
            0
           ]
          },
          {
           "hoverinfo": "none",
           "marker": {
            "opacity": 0,
            "size": 1
           },
           "mode": "markers",
           "showlegend": false,
           "type": "scatter",
           "x": [
            0
           ],
           "y": [
            0
           ]
          }
         ],
         "layout": {
          "shapes": [
           {
            "fillcolor": "rgba(0, 0, 237, 0.5)",
            "line": {
             "color": "rgba(0, 0, 237, 0.5)"
            },
            "type": "circle",
            "x0": -0.14855937281587522,
            "x1": 0.2514406271841248,
            "xref": "x",
            "y0": 7.329280681468098,
            "y1": 7.729280681468098,
            "yref": "y"
           },
           {
            "fillcolor": "rgba(0, 148, 255, 0.5)",
            "line": {
             "color": "rgba(0, 148, 255, 0.5)"
            },
            "type": "circle",
            "x0": -0.0034204614322717597,
            "x1": 0.39657953856772826,
            "xref": "x",
            "y0": 5.814603661917929,
            "y1": 6.21460366191793,
            "yref": "y"
           },
           {
            "fillcolor": "rgba(0, 72, 255, 0.5)",
            "line": {
             "color": "rgba(0, 72, 255, 0.5)"
            },
            "type": "circle",
            "x0": 0.8216051175034889,
            "x1": 1.2216051175034888,
            "xref": "x",
            "y0": 6.597779318477759,
            "y1": 6.997779318477759,
            "yref": "y"
           },
           {
            "fillcolor": "rgba(255,255,255,0)",
            "line": {
             "width": 0
            },
            "type": "circle",
            "x0": 0,
            "x1": 0,
            "xref": "x",
            "y0": 0,
            "y1": 0,
            "yref": "y"
           },
           {
            "fillcolor": "rgba(255,255,255,0)",
            "line": {
             "width": 0
            },
            "type": "circle",
            "x0": 0,
            "x1": 0,
            "xref": "x",
            "y0": 0,
            "y1": 0,
            "yref": "y"
           },
           {
            "fillcolor": "rgba(255,255,255,0)",
            "line": {
             "width": 0
            },
            "type": "circle",
            "x0": 0,
            "x1": 0,
            "xref": "x",
            "y0": 0,
            "y1": 0,
            "yref": "y"
           },
           {
            "fillcolor": "rgba(255,255,255,0)",
            "line": {
             "width": 0
            },
            "type": "circle",
            "x0": 0,
            "x1": 0,
            "xref": "x",
            "y0": 0,
            "y1": 0,
            "yref": "y"
           },
           {
            "fillcolor": "rgba(255,255,255,0)",
            "line": {
             "width": 0
            },
            "type": "circle",
            "x0": 0,
            "x1": 0,
            "xref": "x",
            "y0": 0,
            "y1": 0,
            "yref": "y"
           },
           {
            "fillcolor": "rgba(255,255,255,0)",
            "line": {
             "width": 0
            },
            "type": "circle",
            "x0": 0,
            "x1": 0,
            "xref": "x",
            "y0": 0,
            "y1": 0,
            "yref": "y"
           },
           {
            "fillcolor": "rgba(255,255,255,0)",
            "line": {
             "width": 0
            },
            "type": "circle",
            "x0": 0,
            "x1": 0,
            "xref": "x",
            "y0": 0,
            "y1": 0,
            "yref": "y"
           },
           {
            "line": {
             "color": "white",
             "width": 3
            },
            "type": "line",
            "x0": 0.05144062718412478,
            "x1": 0.04409770278525931,
            "y0": 7.529280681468098,
            "y1": 7.7291458396655
           },
           {
            "line": {
             "color": "white",
             "width": 3
            },
            "type": "line",
            "x0": 0.19657953856772825,
            "x1": 0.18268505523544504,
            "y0": 6.0146036619179295,
            "y1": 6.2141204364832
           },
           {
            "line": {
             "color": "white",
             "width": 3
            },
            "type": "line",
            "x0": 1.0216051175034888,
            "x1": 0.9384781544119866,
            "y0": 6.797779318477759,
            "y1": 6.979685635045337
           },
           {
            "line": {
             "color": "rgba(255,255,255,0)",
             "width": 3
            },
            "type": "line",
            "x0": 0,
            "x1": null,
            "y0": 0,
            "y1": null
           },
           {
            "line": {
             "color": "rgba(255,255,255,0)",
             "width": 3
            },
            "type": "line",
            "x0": 0,
            "x1": null,
            "y0": 0,
            "y1": null
           },
           {
            "line": {
             "color": "rgba(255,255,255,0)",
             "width": 3
            },
            "type": "line",
            "x0": 0,
            "x1": null,
            "y0": 0,
            "y1": null
           },
           {
            "line": {
             "color": "rgba(255,255,255,0)",
             "width": 3
            },
            "type": "line",
            "x0": 0,
            "x1": null,
            "y0": 0,
            "y1": null
           },
           {
            "line": {
             "color": "rgba(255,255,255,0)",
             "width": 3
            },
            "type": "line",
            "x0": 0,
            "x1": null,
            "y0": 0,
            "y1": null
           },
           {
            "line": {
             "color": "rgba(255,255,255,0)",
             "width": 3
            },
            "type": "line",
            "x0": 0,
            "x1": null,
            "y0": 0,
            "y1": null
           },
           {
            "line": {
             "color": "rgba(255,255,255,0)",
             "width": 3
            },
            "type": "line",
            "x0": 0,
            "x1": null,
            "y0": 0,
            "y1": null
           }
          ],
          "title": {
           "text": "<b>Number of Agents: 3</b>",
           "x": 0.5
          }
         },
         "name": "175"
        },
        {
         "data": [
          {
           "hoverinfo": "name",
           "line": {
            "color": "grey"
           },
           "mode": "lines",
           "name": "Exterior",
           "showlegend": false,
           "type": "scatter",
           "x": [
            -10,
            -10,
            10,
            10,
            -10
           ],
           "y": [
            10,
            -10,
            -10,
            10,
            10
           ]
          },
          {
           "hoverinfo": "text",
           "marker": {
            "opacity": 1,
            "size": 1
           },
           "mode": "markers",
           "showlegend": false,
           "text": [
            "ID: 2.0, Pos(0.04,7.79)"
           ],
           "type": "scatter",
           "x": [
            0.041739532865569036
           ],
           "y": [
            7.790263155145757
           ]
          },
          {
           "hoverinfo": "text",
           "marker": {
            "opacity": 1,
            "size": 1
           },
           "mode": "markers",
           "showlegend": false,
           "text": [
            "ID: 4.0, Pos(0.18,6.24)"
           ],
           "type": "scatter",
           "x": [
            0.18052764333256954
           ],
           "y": [
            6.241626456792031
           ]
          },
          {
           "hoverinfo": "text",
           "marker": {
            "opacity": 1,
            "size": 1
           },
           "mode": "markers",
           "showlegend": false,
           "text": [
            "ID: 9.0, Pos(0.91,7.04)"
           ],
           "type": "scatter",
           "x": [
            0.9134417493885587
           ],
           "y": [
            7.03545262798391
           ]
          },
          {
           "hoverinfo": "none",
           "marker": {
            "opacity": 0,
            "size": 1
           },
           "mode": "markers",
           "showlegend": false,
           "type": "scatter",
           "x": [
            0
           ],
           "y": [
            0
           ]
          },
          {
           "hoverinfo": "none",
           "marker": {
            "opacity": 0,
            "size": 1
           },
           "mode": "markers",
           "showlegend": false,
           "type": "scatter",
           "x": [
            0
           ],
           "y": [
            0
           ]
          },
          {
           "hoverinfo": "none",
           "marker": {
            "opacity": 0,
            "size": 1
           },
           "mode": "markers",
           "showlegend": false,
           "type": "scatter",
           "x": [
            0
           ],
           "y": [
            0
           ]
          },
          {
           "hoverinfo": "none",
           "marker": {
            "opacity": 0,
            "size": 1
           },
           "mode": "markers",
           "showlegend": false,
           "type": "scatter",
           "x": [
            0
           ],
           "y": [
            0
           ]
          },
          {
           "hoverinfo": "none",
           "marker": {
            "opacity": 0,
            "size": 1
           },
           "mode": "markers",
           "showlegend": false,
           "type": "scatter",
           "x": [
            0
           ],
           "y": [
            0
           ]
          },
          {
           "hoverinfo": "none",
           "marker": {
            "opacity": 0,
            "size": 1
           },
           "mode": "markers",
           "showlegend": false,
           "type": "scatter",
           "x": [
            0
           ],
           "y": [
            0
           ]
          },
          {
           "hoverinfo": "none",
           "marker": {
            "opacity": 0,
            "size": 1
           },
           "mode": "markers",
           "showlegend": false,
           "type": "scatter",
           "x": [
            0
           ],
           "y": [
            0
           ]
          }
         ],
         "layout": {
          "shapes": [
           {
            "fillcolor": "rgba(0, 0, 218, 0.5)",
            "line": {
             "color": "rgba(0, 0, 218, 0.5)"
            },
            "type": "circle",
            "x0": -0.15826046713443098,
            "x1": 0.24173953286556904,
            "xref": "x",
            "y0": 7.590263155145757,
            "y1": 7.990263155145757,
            "yref": "y"
           },
           {
            "fillcolor": "rgba(0, 109, 255, 0.5)",
            "line": {
             "color": "rgba(0, 109, 255, 0.5)"
            },
            "type": "circle",
            "x0": -0.019472356667430468,
            "x1": 0.38052764333256955,
            "xref": "x",
            "y0": 6.041626456792031,
            "y1": 6.441626456792031,
            "yref": "y"
           },
           {
            "fillcolor": "rgba(0, 0, 218, 0.5)",
            "line": {
             "color": "rgba(0, 0, 218, 0.5)"
            },
            "type": "circle",
            "x0": 0.7134417493885588,
            "x1": 1.1134417493885587,
            "xref": "x",
            "y0": 6.835452627983909,
            "y1": 7.23545262798391,
            "yref": "y"
           },
           {
            "fillcolor": "rgba(255,255,255,0)",
            "line": {
             "width": 0
            },
            "type": "circle",
            "x0": 0,
            "x1": 0,
            "xref": "x",
            "y0": 0,
            "y1": 0,
            "yref": "y"
           },
           {
            "fillcolor": "rgba(255,255,255,0)",
            "line": {
             "width": 0
            },
            "type": "circle",
            "x0": 0,
            "x1": 0,
            "xref": "x",
            "y0": 0,
            "y1": 0,
            "yref": "y"
           },
           {
            "fillcolor": "rgba(255,255,255,0)",
            "line": {
             "width": 0
            },
            "type": "circle",
            "x0": 0,
            "x1": 0,
            "xref": "x",
            "y0": 0,
            "y1": 0,
            "yref": "y"
           },
           {
            "fillcolor": "rgba(255,255,255,0)",
            "line": {
             "width": 0
            },
            "type": "circle",
            "x0": 0,
            "x1": 0,
            "xref": "x",
            "y0": 0,
            "y1": 0,
            "yref": "y"
           },
           {
            "fillcolor": "rgba(255,255,255,0)",
            "line": {
             "width": 0
            },
            "type": "circle",
            "x0": 0,
            "x1": 0,
            "xref": "x",
            "y0": 0,
            "y1": 0,
            "yref": "y"
           },
           {
            "fillcolor": "rgba(255,255,255,0)",
            "line": {
             "width": 0
            },
            "type": "circle",
            "x0": 0,
            "x1": 0,
            "xref": "x",
            "y0": 0,
            "y1": 0,
            "yref": "y"
           },
           {
            "fillcolor": "rgba(255,255,255,0)",
            "line": {
             "width": 0
            },
            "type": "circle",
            "x0": 0,
            "x1": 0,
            "xref": "x",
            "y0": 0,
            "y1": 0,
            "yref": "y"
           },
           {
            "line": {
             "color": "white",
             "width": 3
            },
            "type": "line",
            "x0": 0.041739532865569036,
            "x1": 0.03422516300636834,
            "y0": 7.790263155145757,
            "y1": 7.9901219409061515
           },
           {
            "line": {
             "color": "white",
             "width": 3
            },
            "type": "line",
            "x0": 0.18052764333256954,
            "x1": 0.16620214118840562,
            "y0": 6.241626456792031,
            "y1": 6.441112747018496
           },
           {
            "line": {
             "color": "white",
             "width": 3
            },
            "type": "line",
            "x0": 0.9134417493885587,
            "x1": 0.8308945866450956,
            "y0": 7.03545262798391,
            "y1": 7.217622784494257
           },
           {
            "line": {
             "color": "rgba(255,255,255,0)",
             "width": 3
            },
            "type": "line",
            "x0": 0,
            "x1": null,
            "y0": 0,
            "y1": null
           },
           {
            "line": {
             "color": "rgba(255,255,255,0)",
             "width": 3
            },
            "type": "line",
            "x0": 0,
            "x1": null,
            "y0": 0,
            "y1": null
           },
           {
            "line": {
             "color": "rgba(255,255,255,0)",
             "width": 3
            },
            "type": "line",
            "x0": 0,
            "x1": null,
            "y0": 0,
            "y1": null
           },
           {
            "line": {
             "color": "rgba(255,255,255,0)",
             "width": 3
            },
            "type": "line",
            "x0": 0,
            "x1": null,
            "y0": 0,
            "y1": null
           },
           {
            "line": {
             "color": "rgba(255,255,255,0)",
             "width": 3
            },
            "type": "line",
            "x0": 0,
            "x1": null,
            "y0": 0,
            "y1": null
           },
           {
            "line": {
             "color": "rgba(255,255,255,0)",
             "width": 3
            },
            "type": "line",
            "x0": 0,
            "x1": null,
            "y0": 0,
            "y1": null
           },
           {
            "line": {
             "color": "rgba(255,255,255,0)",
             "width": 3
            },
            "type": "line",
            "x0": 0,
            "x1": null,
            "y0": 0,
            "y1": null
           }
          ],
          "title": {
           "text": "<b>Number of Agents: 3</b>",
           "x": 0.5
          }
         },
         "name": "180"
        },
        {
         "data": [
          {
           "hoverinfo": "name",
           "line": {
            "color": "grey"
           },
           "mode": "lines",
           "name": "Exterior",
           "showlegend": false,
           "type": "scatter",
           "x": [
            -10,
            -10,
            10,
            10,
            -10
           ],
           "y": [
            10,
            -10,
            -10,
            10,
            10
           ]
          },
          {
           "hoverinfo": "text",
           "marker": {
            "opacity": 1,
            "size": 1
           },
           "mode": "markers",
           "showlegend": false,
           "text": [
            "ID: 4.0, Pos(0.16,6.48)"
           ],
           "type": "scatter",
           "x": [
            0.16324619707398297
           ],
           "y": [
            6.47689818942944
           ]
          },
          {
           "hoverinfo": "text",
           "marker": {
            "opacity": 1,
            "size": 1
           },
           "mode": "markers",
           "showlegend": false,
           "text": [
            "ID: 9.0, Pos(0.81,7.27)"
           ],
           "type": "scatter",
           "x": [
            0.8061558796660654
           ],
           "y": [
            7.273523266458206
           ]
          },
          {
           "hoverinfo": "none",
           "marker": {
            "opacity": 0,
            "size": 1
           },
           "mode": "markers",
           "showlegend": false,
           "type": "scatter",
           "x": [
            0
           ],
           "y": [
            0
           ]
          },
          {
           "hoverinfo": "none",
           "marker": {
            "opacity": 0,
            "size": 1
           },
           "mode": "markers",
           "showlegend": false,
           "type": "scatter",
           "x": [
            0
           ],
           "y": [
            0
           ]
          },
          {
           "hoverinfo": "none",
           "marker": {
            "opacity": 0,
            "size": 1
           },
           "mode": "markers",
           "showlegend": false,
           "type": "scatter",
           "x": [
            0
           ],
           "y": [
            0
           ]
          },
          {
           "hoverinfo": "none",
           "marker": {
            "opacity": 0,
            "size": 1
           },
           "mode": "markers",
           "showlegend": false,
           "type": "scatter",
           "x": [
            0
           ],
           "y": [
            0
           ]
          },
          {
           "hoverinfo": "none",
           "marker": {
            "opacity": 0,
            "size": 1
           },
           "mode": "markers",
           "showlegend": false,
           "type": "scatter",
           "x": [
            0
           ],
           "y": [
            0
           ]
          },
          {
           "hoverinfo": "none",
           "marker": {
            "opacity": 0,
            "size": 1
           },
           "mode": "markers",
           "showlegend": false,
           "type": "scatter",
           "x": [
            0
           ],
           "y": [
            0
           ]
          },
          {
           "hoverinfo": "none",
           "marker": {
            "opacity": 0,
            "size": 1
           },
           "mode": "markers",
           "showlegend": false,
           "type": "scatter",
           "x": [
            0
           ],
           "y": [
            0
           ]
          },
          {
           "hoverinfo": "none",
           "marker": {
            "opacity": 0,
            "size": 1
           },
           "mode": "markers",
           "showlegend": false,
           "type": "scatter",
           "x": [
            0
           ],
           "y": [
            0
           ]
          }
         ],
         "layout": {
          "shapes": [
           {
            "fillcolor": "rgba(0, 29, 255, 0.5)",
            "line": {
             "color": "rgba(0, 29, 255, 0.5)"
            },
            "type": "circle",
            "x0": -0.03675380292601704,
            "x1": 0.363246197073983,
            "xref": "x",
            "y0": 6.27689818942944,
            "y1": 6.676898189429441,
            "yref": "y"
           },
           {
            "fillcolor": "rgba(0, 0, 218, 0.5)",
            "line": {
             "color": "rgba(0, 0, 218, 0.5)"
            },
            "type": "circle",
            "x0": 0.6061558796660653,
            "x1": 1.0061558796660655,
            "xref": "x",
            "y0": 7.0735232664582055,
            "y1": 7.473523266458206,
            "yref": "y"
           },
           {
            "fillcolor": "rgba(255,255,255,0)",
            "line": {
             "width": 0
            },
            "type": "circle",
            "x0": 0,
            "x1": 0,
            "xref": "x",
            "y0": 0,
            "y1": 0,
            "yref": "y"
           },
           {
            "fillcolor": "rgba(255,255,255,0)",
            "line": {
             "width": 0
            },
            "type": "circle",
            "x0": 0,
            "x1": 0,
            "xref": "x",
            "y0": 0,
            "y1": 0,
            "yref": "y"
           },
           {
            "fillcolor": "rgba(255,255,255,0)",
            "line": {
             "width": 0
            },
            "type": "circle",
            "x0": 0,
            "x1": 0,
            "xref": "x",
            "y0": 0,
            "y1": 0,
            "yref": "y"
           },
           {
            "fillcolor": "rgba(255,255,255,0)",
            "line": {
             "width": 0
            },
            "type": "circle",
            "x0": 0,
            "x1": 0,
            "xref": "x",
            "y0": 0,
            "y1": 0,
            "yref": "y"
           },
           {
            "fillcolor": "rgba(255,255,255,0)",
            "line": {
             "width": 0
            },
            "type": "circle",
            "x0": 0,
            "x1": 0,
            "xref": "x",
            "y0": 0,
            "y1": 0,
            "yref": "y"
           },
           {
            "fillcolor": "rgba(255,255,255,0)",
            "line": {
             "width": 0
            },
            "type": "circle",
            "x0": 0,
            "x1": 0,
            "xref": "x",
            "y0": 0,
            "y1": 0,
            "yref": "y"
           },
           {
            "fillcolor": "rgba(255,255,255,0)",
            "line": {
             "width": 0
            },
            "type": "circle",
            "x0": 0,
            "x1": 0,
            "xref": "x",
            "y0": 0,
            "y1": 0,
            "yref": "y"
           },
           {
            "fillcolor": "rgba(255,255,255,0)",
            "line": {
             "width": 0
            },
            "type": "circle",
            "x0": 0,
            "x1": 0,
            "xref": "x",
            "y0": 0,
            "y1": 0,
            "yref": "y"
           },
           {
            "line": {
             "color": "white",
             "width": 3
            },
            "type": "line",
            "x0": 0.16324619707398297,
            "x1": 0.1482535462134311,
            "y0": 6.47689818942944,
            "y1": 6.676335448787299
           },
           {
            "line": {
             "color": "white",
             "width": 3
            },
            "type": "line",
            "x0": 0.8061558796660654,
            "x1": 0.7240085867569429,
            "y0": 7.273523266458206,
            "y1": 7.455874088413312
           },
           {
            "line": {
             "color": "rgba(255,255,255,0)",
             "width": 3
            },
            "type": "line",
            "x0": 0,
            "x1": null,
            "y0": 0,
            "y1": null
           },
           {
            "line": {
             "color": "rgba(255,255,255,0)",
             "width": 3
            },
            "type": "line",
            "x0": 0,
            "x1": null,
            "y0": 0,
            "y1": null
           },
           {
            "line": {
             "color": "rgba(255,255,255,0)",
             "width": 3
            },
            "type": "line",
            "x0": 0,
            "x1": null,
            "y0": 0,
            "y1": null
           },
           {
            "line": {
             "color": "rgba(255,255,255,0)",
             "width": 3
            },
            "type": "line",
            "x0": 0,
            "x1": null,
            "y0": 0,
            "y1": null
           },
           {
            "line": {
             "color": "rgba(255,255,255,0)",
             "width": 3
            },
            "type": "line",
            "x0": 0,
            "x1": null,
            "y0": 0,
            "y1": null
           },
           {
            "line": {
             "color": "rgba(255,255,255,0)",
             "width": 3
            },
            "type": "line",
            "x0": 0,
            "x1": null,
            "y0": 0,
            "y1": null
           },
           {
            "line": {
             "color": "rgba(255,255,255,0)",
             "width": 3
            },
            "type": "line",
            "x0": 0,
            "x1": null,
            "y0": 0,
            "y1": null
           },
           {
            "line": {
             "color": "rgba(255,255,255,0)",
             "width": 3
            },
            "type": "line",
            "x0": 0,
            "x1": null,
            "y0": 0,
            "y1": null
           }
          ],
          "title": {
           "text": "<b>Number of Agents: 2</b>",
           "x": 0.5
          }
         },
         "name": "185"
        },
        {
         "data": [
          {
           "hoverinfo": "name",
           "line": {
            "color": "grey"
           },
           "mode": "lines",
           "name": "Exterior",
           "showlegend": false,
           "type": "scatter",
           "x": [
            -10,
            -10,
            10,
            10,
            -10
           ],
           "y": [
            10,
            -10,
            -10,
            10,
            10
           ]
          },
          {
           "hoverinfo": "text",
           "marker": {
            "opacity": 1,
            "size": 1
           },
           "mode": "markers",
           "showlegend": false,
           "text": [
            "ID: 4.0, Pos(0.14,6.73)"
           ],
           "type": "scatter",
           "x": [
            0.14292791308705324
           ],
           "y": [
            6.7347405794185375
           ]
          },
          {
           "hoverinfo": "text",
           "marker": {
            "opacity": 1,
            "size": 1
           },
           "mode": "markers",
           "showlegend": false,
           "text": [
            "ID: 9.0, Pos(0.70,7.51)"
           ],
           "type": "scatter",
           "x": [
            0.6999893795915768
           ],
           "y": [
            7.512094308726631
           ]
          },
          {
           "hoverinfo": "none",
           "marker": {
            "opacity": 0,
            "size": 1
           },
           "mode": "markers",
           "showlegend": false,
           "type": "scatter",
           "x": [
            0
           ],
           "y": [
            0
           ]
          },
          {
           "hoverinfo": "none",
           "marker": {
            "opacity": 0,
            "size": 1
           },
           "mode": "markers",
           "showlegend": false,
           "type": "scatter",
           "x": [
            0
           ],
           "y": [
            0
           ]
          },
          {
           "hoverinfo": "none",
           "marker": {
            "opacity": 0,
            "size": 1
           },
           "mode": "markers",
           "showlegend": false,
           "type": "scatter",
           "x": [
            0
           ],
           "y": [
            0
           ]
          },
          {
           "hoverinfo": "none",
           "marker": {
            "opacity": 0,
            "size": 1
           },
           "mode": "markers",
           "showlegend": false,
           "type": "scatter",
           "x": [
            0
           ],
           "y": [
            0
           ]
          },
          {
           "hoverinfo": "none",
           "marker": {
            "opacity": 0,
            "size": 1
           },
           "mode": "markers",
           "showlegend": false,
           "type": "scatter",
           "x": [
            0
           ],
           "y": [
            0
           ]
          },
          {
           "hoverinfo": "none",
           "marker": {
            "opacity": 0,
            "size": 1
           },
           "mode": "markers",
           "showlegend": false,
           "type": "scatter",
           "x": [
            0
           ],
           "y": [
            0
           ]
          },
          {
           "hoverinfo": "none",
           "marker": {
            "opacity": 0,
            "size": 1
           },
           "mode": "markers",
           "showlegend": false,
           "type": "scatter",
           "x": [
            0
           ],
           "y": [
            0
           ]
          },
          {
           "hoverinfo": "none",
           "marker": {
            "opacity": 0,
            "size": 1
           },
           "mode": "markers",
           "showlegend": false,
           "type": "scatter",
           "x": [
            0
           ],
           "y": [
            0
           ]
          }
         ],
         "layout": {
          "shapes": [
           {
            "fillcolor": "rgba(0, 0, 237, 0.5)",
            "line": {
             "color": "rgba(0, 0, 237, 0.5)"
            },
            "type": "circle",
            "x0": -0.05707208691294677,
            "x1": 0.3429279130870533,
            "xref": "x",
            "y0": 6.534740579418537,
            "y1": 6.934740579418538,
            "yref": "y"
           },
           {
            "fillcolor": "rgba(0, 0, 218, 0.5)",
            "line": {
             "color": "rgba(0, 0, 218, 0.5)"
            },
            "type": "circle",
            "x0": 0.4999893795915768,
            "x1": 0.8999893795915768,
            "xref": "x",
            "y0": 7.312094308726631,
            "y1": 7.712094308726631,
            "yref": "y"
           },
           {
            "fillcolor": "rgba(255,255,255,0)",
            "line": {
             "width": 0
            },
            "type": "circle",
            "x0": 0,
            "x1": 0,
            "xref": "x",
            "y0": 0,
            "y1": 0,
            "yref": "y"
           },
           {
            "fillcolor": "rgba(255,255,255,0)",
            "line": {
             "width": 0
            },
            "type": "circle",
            "x0": 0,
            "x1": 0,
            "xref": "x",
            "y0": 0,
            "y1": 0,
            "yref": "y"
           },
           {
            "fillcolor": "rgba(255,255,255,0)",
            "line": {
             "width": 0
            },
            "type": "circle",
            "x0": 0,
            "x1": 0,
            "xref": "x",
            "y0": 0,
            "y1": 0,
            "yref": "y"
           },
           {
            "fillcolor": "rgba(255,255,255,0)",
            "line": {
             "width": 0
            },
            "type": "circle",
            "x0": 0,
            "x1": 0,
            "xref": "x",
            "y0": 0,
            "y1": 0,
            "yref": "y"
           },
           {
            "fillcolor": "rgba(255,255,255,0)",
            "line": {
             "width": 0
            },
            "type": "circle",
            "x0": 0,
            "x1": 0,
            "xref": "x",
            "y0": 0,
            "y1": 0,
            "yref": "y"
           },
           {
            "fillcolor": "rgba(255,255,255,0)",
            "line": {
             "width": 0
            },
            "type": "circle",
            "x0": 0,
            "x1": 0,
            "xref": "x",
            "y0": 0,
            "y1": 0,
            "yref": "y"
           },
           {
            "fillcolor": "rgba(255,255,255,0)",
            "line": {
             "width": 0
            },
            "type": "circle",
            "x0": 0,
            "x1": 0,
            "xref": "x",
            "y0": 0,
            "y1": 0,
            "yref": "y"
           },
           {
            "fillcolor": "rgba(255,255,255,0)",
            "line": {
             "width": 0
            },
            "type": "circle",
            "x0": 0,
            "x1": 0,
            "xref": "x",
            "y0": 0,
            "y1": 0,
            "yref": "y"
           },
           {
            "line": {
             "color": "white",
             "width": 3
            },
            "type": "line",
            "x0": 0.14292791308705324,
            "x1": 0.12646044943997486,
            "y0": 6.7347405794185375,
            "y1": 6.934061483091565
           },
           {
            "line": {
             "color": "white",
             "width": 3
            },
            "type": "line",
            "x0": 0.6999893795915768,
            "x1": 0.619549608595072,
            "y0": 7.512094308726631,
            "y1": 7.695204776046307
           },
           {
            "line": {
             "color": "rgba(255,255,255,0)",
             "width": 3
            },
            "type": "line",
            "x0": 0,
            "x1": null,
            "y0": 0,
            "y1": null
           },
           {
            "line": {
             "color": "rgba(255,255,255,0)",
             "width": 3
            },
            "type": "line",
            "x0": 0,
            "x1": null,
            "y0": 0,
            "y1": null
           },
           {
            "line": {
             "color": "rgba(255,255,255,0)",
             "width": 3
            },
            "type": "line",
            "x0": 0,
            "x1": null,
            "y0": 0,
            "y1": null
           },
           {
            "line": {
             "color": "rgba(255,255,255,0)",
             "width": 3
            },
            "type": "line",
            "x0": 0,
            "x1": null,
            "y0": 0,
            "y1": null
           },
           {
            "line": {
             "color": "rgba(255,255,255,0)",
             "width": 3
            },
            "type": "line",
            "x0": 0,
            "x1": null,
            "y0": 0,
            "y1": null
           },
           {
            "line": {
             "color": "rgba(255,255,255,0)",
             "width": 3
            },
            "type": "line",
            "x0": 0,
            "x1": null,
            "y0": 0,
            "y1": null
           },
           {
            "line": {
             "color": "rgba(255,255,255,0)",
             "width": 3
            },
            "type": "line",
            "x0": 0,
            "x1": null,
            "y0": 0,
            "y1": null
           },
           {
            "line": {
             "color": "rgba(255,255,255,0)",
             "width": 3
            },
            "type": "line",
            "x0": 0,
            "x1": null,
            "y0": 0,
            "y1": null
           }
          ],
          "title": {
           "text": "<b>Number of Agents: 2</b>",
           "x": 0.5
          }
         },
         "name": "190"
        },
        {
         "data": [
          {
           "hoverinfo": "name",
           "line": {
            "color": "grey"
           },
           "mode": "lines",
           "name": "Exterior",
           "showlegend": false,
           "type": "scatter",
           "x": [
            -10,
            -10,
            10,
            10,
            -10
           ],
           "y": [
            10,
            -10,
            -10,
            10,
            10
           ]
          },
          {
           "hoverinfo": "text",
           "marker": {
            "opacity": 1,
            "size": 1
           },
           "mode": "markers",
           "showlegend": false,
           "text": [
            "ID: 4.0, Pos(0.12,6.99)"
           ],
           "type": "scatter",
           "x": [
            0.12024502719606688
           ],
           "y": [
            6.992385051018914
           ]
          },
          {
           "hoverinfo": "text",
           "marker": {
            "opacity": 1,
            "size": 1
           },
           "mode": "markers",
           "showlegend": false,
           "text": [
            "ID: 9.0, Pos(0.60,7.75)"
           ],
           "type": "scatter",
           "x": [
            0.5965514289746112
           ],
           "y": [
            7.751859971535664
           ]
          },
          {
           "hoverinfo": "none",
           "marker": {
            "opacity": 0,
            "size": 1
           },
           "mode": "markers",
           "showlegend": false,
           "type": "scatter",
           "x": [
            0
           ],
           "y": [
            0
           ]
          },
          {
           "hoverinfo": "none",
           "marker": {
            "opacity": 0,
            "size": 1
           },
           "mode": "markers",
           "showlegend": false,
           "type": "scatter",
           "x": [
            0
           ],
           "y": [
            0
           ]
          },
          {
           "hoverinfo": "none",
           "marker": {
            "opacity": 0,
            "size": 1
           },
           "mode": "markers",
           "showlegend": false,
           "type": "scatter",
           "x": [
            0
           ],
           "y": [
            0
           ]
          },
          {
           "hoverinfo": "none",
           "marker": {
            "opacity": 0,
            "size": 1
           },
           "mode": "markers",
           "showlegend": false,
           "type": "scatter",
           "x": [
            0
           ],
           "y": [
            0
           ]
          },
          {
           "hoverinfo": "none",
           "marker": {
            "opacity": 0,
            "size": 1
           },
           "mode": "markers",
           "showlegend": false,
           "type": "scatter",
           "x": [
            0
           ],
           "y": [
            0
           ]
          },
          {
           "hoverinfo": "none",
           "marker": {
            "opacity": 0,
            "size": 1
           },
           "mode": "markers",
           "showlegend": false,
           "type": "scatter",
           "x": [
            0
           ],
           "y": [
            0
           ]
          },
          {
           "hoverinfo": "none",
           "marker": {
            "opacity": 0,
            "size": 1
           },
           "mode": "markers",
           "showlegend": false,
           "type": "scatter",
           "x": [
            0
           ],
           "y": [
            0
           ]
          },
          {
           "hoverinfo": "none",
           "marker": {
            "opacity": 0,
            "size": 1
           },
           "mode": "markers",
           "showlegend": false,
           "type": "scatter",
           "x": [
            0
           ],
           "y": [
            0
           ]
          }
         ],
         "layout": {
          "shapes": [
           {
            "fillcolor": "rgba(0, 0, 237, 0.5)",
            "line": {
             "color": "rgba(0, 0, 237, 0.5)"
            },
            "type": "circle",
            "x0": -0.07975497280393314,
            "x1": 0.3202450271960669,
            "xref": "x",
            "y0": 6.792385051018914,
            "y1": 7.192385051018914,
            "yref": "y"
           },
           {
            "fillcolor": "rgba(0, 0, 218, 0.5)",
            "line": {
             "color": "rgba(0, 0, 218, 0.5)"
            },
            "type": "circle",
            "x0": 0.3965514289746112,
            "x1": 0.7965514289746112,
            "xref": "x",
            "y0": 7.551859971535664,
            "y1": 7.951859971535664,
            "yref": "y"
           },
           {
            "fillcolor": "rgba(255,255,255,0)",
            "line": {
             "width": 0
            },
            "type": "circle",
            "x0": 0,
            "x1": 0,
            "xref": "x",
            "y0": 0,
            "y1": 0,
            "yref": "y"
           },
           {
            "fillcolor": "rgba(255,255,255,0)",
            "line": {
             "width": 0
            },
            "type": "circle",
            "x0": 0,
            "x1": 0,
            "xref": "x",
            "y0": 0,
            "y1": 0,
            "yref": "y"
           },
           {
            "fillcolor": "rgba(255,255,255,0)",
            "line": {
             "width": 0
            },
            "type": "circle",
            "x0": 0,
            "x1": 0,
            "xref": "x",
            "y0": 0,
            "y1": 0,
            "yref": "y"
           },
           {
            "fillcolor": "rgba(255,255,255,0)",
            "line": {
             "width": 0
            },
            "type": "circle",
            "x0": 0,
            "x1": 0,
            "xref": "x",
            "y0": 0,
            "y1": 0,
            "yref": "y"
           },
           {
            "fillcolor": "rgba(255,255,255,0)",
            "line": {
             "width": 0
            },
            "type": "circle",
            "x0": 0,
            "x1": 0,
            "xref": "x",
            "y0": 0,
            "y1": 0,
            "yref": "y"
           },
           {
            "fillcolor": "rgba(255,255,255,0)",
            "line": {
             "width": 0
            },
            "type": "circle",
            "x0": 0,
            "x1": 0,
            "xref": "x",
            "y0": 0,
            "y1": 0,
            "yref": "y"
           },
           {
            "fillcolor": "rgba(255,255,255,0)",
            "line": {
             "width": 0
            },
            "type": "circle",
            "x0": 0,
            "x1": 0,
            "xref": "x",
            "y0": 0,
            "y1": 0,
            "yref": "y"
           },
           {
            "fillcolor": "rgba(255,255,255,0)",
            "line": {
             "width": 0
            },
            "type": "circle",
            "x0": 0,
            "x1": 0,
            "xref": "x",
            "y0": 0,
            "y1": 0,
            "yref": "y"
           },
           {
            "line": {
             "color": "white",
             "width": 3
            },
            "type": "line",
            "x0": 0.12024502719606688,
            "x1": 0.10163558613221263,
            "y0": 6.992385051018914,
            "y1": 7.19151739069103
           },
           {
            "line": {
             "color": "white",
             "width": 3
            },
            "type": "line",
            "x0": 0.5965514289746112,
            "x1": 0.518518435325286,
            "y0": 7.751859971535664,
            "y1": 7.936008965293774
           },
           {
            "line": {
             "color": "rgba(255,255,255,0)",
             "width": 3
            },
            "type": "line",
            "x0": 0,
            "x1": null,
            "y0": 0,
            "y1": null
           },
           {
            "line": {
             "color": "rgba(255,255,255,0)",
             "width": 3
            },
            "type": "line",
            "x0": 0,
            "x1": null,
            "y0": 0,
            "y1": null
           },
           {
            "line": {
             "color": "rgba(255,255,255,0)",
             "width": 3
            },
            "type": "line",
            "x0": 0,
            "x1": null,
            "y0": 0,
            "y1": null
           },
           {
            "line": {
             "color": "rgba(255,255,255,0)",
             "width": 3
            },
            "type": "line",
            "x0": 0,
            "x1": null,
            "y0": 0,
            "y1": null
           },
           {
            "line": {
             "color": "rgba(255,255,255,0)",
             "width": 3
            },
            "type": "line",
            "x0": 0,
            "x1": null,
            "y0": 0,
            "y1": null
           },
           {
            "line": {
             "color": "rgba(255,255,255,0)",
             "width": 3
            },
            "type": "line",
            "x0": 0,
            "x1": null,
            "y0": 0,
            "y1": null
           },
           {
            "line": {
             "color": "rgba(255,255,255,0)",
             "width": 3
            },
            "type": "line",
            "x0": 0,
            "x1": null,
            "y0": 0,
            "y1": null
           },
           {
            "line": {
             "color": "rgba(255,255,255,0)",
             "width": 3
            },
            "type": "line",
            "x0": 0,
            "x1": null,
            "y0": 0,
            "y1": null
           }
          ],
          "title": {
           "text": "<b>Number of Agents: 2</b>",
           "x": 0.5
          }
         },
         "name": "195"
        },
        {
         "data": [
          {
           "hoverinfo": "name",
           "line": {
            "color": "grey"
           },
           "mode": "lines",
           "name": "Exterior",
           "showlegend": false,
           "type": "scatter",
           "x": [
            -10,
            -10,
            10,
            10,
            -10
           ],
           "y": [
            10,
            -10,
            -10,
            10,
            10
           ]
          },
          {
           "hoverinfo": "text",
           "marker": {
            "opacity": 1,
            "size": 1
           },
           "mode": "markers",
           "showlegend": false,
           "text": [
            "ID: 4.0, Pos(0.09,7.25)"
           ],
           "type": "scatter",
           "x": [
            0.09444492517311427
           ],
           "y": [
            7.249735484122841
           ]
          },
          {
           "hoverinfo": "text",
           "marker": {
            "opacity": 1,
            "size": 1
           },
           "mode": "markers",
           "showlegend": false,
           "text": [
            "ID: 9.0, Pos(0.50,7.99)"
           ],
           "type": "scatter",
           "x": [
            0.49649108171268774
           ],
           "y": [
            7.993054390909514
           ]
          },
          {
           "hoverinfo": "none",
           "marker": {
            "opacity": 0,
            "size": 1
           },
           "mode": "markers",
           "showlegend": false,
           "type": "scatter",
           "x": [
            0
           ],
           "y": [
            0
           ]
          },
          {
           "hoverinfo": "none",
           "marker": {
            "opacity": 0,
            "size": 1
           },
           "mode": "markers",
           "showlegend": false,
           "type": "scatter",
           "x": [
            0
           ],
           "y": [
            0
           ]
          },
          {
           "hoverinfo": "none",
           "marker": {
            "opacity": 0,
            "size": 1
           },
           "mode": "markers",
           "showlegend": false,
           "type": "scatter",
           "x": [
            0
           ],
           "y": [
            0
           ]
          },
          {
           "hoverinfo": "none",
           "marker": {
            "opacity": 0,
            "size": 1
           },
           "mode": "markers",
           "showlegend": false,
           "type": "scatter",
           "x": [
            0
           ],
           "y": [
            0
           ]
          },
          {
           "hoverinfo": "none",
           "marker": {
            "opacity": 0,
            "size": 1
           },
           "mode": "markers",
           "showlegend": false,
           "type": "scatter",
           "x": [
            0
           ],
           "y": [
            0
           ]
          },
          {
           "hoverinfo": "none",
           "marker": {
            "opacity": 0,
            "size": 1
           },
           "mode": "markers",
           "showlegend": false,
           "type": "scatter",
           "x": [
            0
           ],
           "y": [
            0
           ]
          },
          {
           "hoverinfo": "none",
           "marker": {
            "opacity": 0,
            "size": 1
           },
           "mode": "markers",
           "showlegend": false,
           "type": "scatter",
           "x": [
            0
           ],
           "y": [
            0
           ]
          },
          {
           "hoverinfo": "none",
           "marker": {
            "opacity": 0,
            "size": 1
           },
           "mode": "markers",
           "showlegend": false,
           "type": "scatter",
           "x": [
            0
           ],
           "y": [
            0
           ]
          }
         ],
         "layout": {
          "shapes": [
           {
            "fillcolor": "rgba(0, 0, 237, 0.5)",
            "line": {
             "color": "rgba(0, 0, 237, 0.5)"
            },
            "type": "circle",
            "x0": -0.10555507482688574,
            "x1": 0.29444492517311427,
            "xref": "x",
            "y0": 7.049735484122841,
            "y1": 7.449735484122841,
            "yref": "y"
           },
           {
            "fillcolor": "rgba(0, 0, 218, 0.5)",
            "line": {
             "color": "rgba(0, 0, 218, 0.5)"
            },
            "type": "circle",
            "x0": 0.29649108171268773,
            "x1": 0.6964910817126877,
            "xref": "x",
            "y0": 7.793054390909514,
            "y1": 8.193054390909515,
            "yref": "y"
           },
           {
            "fillcolor": "rgba(255,255,255,0)",
            "line": {
             "width": 0
            },
            "type": "circle",
            "x0": 0,
            "x1": 0,
            "xref": "x",
            "y0": 0,
            "y1": 0,
            "yref": "y"
           },
           {
            "fillcolor": "rgba(255,255,255,0)",
            "line": {
             "width": 0
            },
            "type": "circle",
            "x0": 0,
            "x1": 0,
            "xref": "x",
            "y0": 0,
            "y1": 0,
            "yref": "y"
           },
           {
            "fillcolor": "rgba(255,255,255,0)",
            "line": {
             "width": 0
            },
            "type": "circle",
            "x0": 0,
            "x1": 0,
            "xref": "x",
            "y0": 0,
            "y1": 0,
            "yref": "y"
           },
           {
            "fillcolor": "rgba(255,255,255,0)",
            "line": {
             "width": 0
            },
            "type": "circle",
            "x0": 0,
            "x1": 0,
            "xref": "x",
            "y0": 0,
            "y1": 0,
            "yref": "y"
           },
           {
            "fillcolor": "rgba(255,255,255,0)",
            "line": {
             "width": 0
            },
            "type": "circle",
            "x0": 0,
            "x1": 0,
            "xref": "x",
            "y0": 0,
            "y1": 0,
            "yref": "y"
           },
           {
            "fillcolor": "rgba(255,255,255,0)",
            "line": {
             "width": 0
            },
            "type": "circle",
            "x0": 0,
            "x1": 0,
            "xref": "x",
            "y0": 0,
            "y1": 0,
            "yref": "y"
           },
           {
            "fillcolor": "rgba(255,255,255,0)",
            "line": {
             "width": 0
            },
            "type": "circle",
            "x0": 0,
            "x1": 0,
            "xref": "x",
            "y0": 0,
            "y1": 0,
            "yref": "y"
           },
           {
            "fillcolor": "rgba(255,255,255,0)",
            "line": {
             "width": 0
            },
            "type": "circle",
            "x0": 0,
            "x1": 0,
            "xref": "x",
            "y0": 0,
            "y1": 0,
            "yref": "y"
           },
           {
            "line": {
             "color": "white",
             "width": 3
            },
            "type": "line",
            "x0": 0.09444492517311427,
            "x1": 0.07324775607752852,
            "y0": 7.249735484122841,
            "y1": 7.448609011829102
           },
           {
            "line": {
             "color": "white",
             "width": 3
            },
            "type": "line",
            "x0": 0.49649108171268774,
            "x1": 0.4210806944579883,
            "y0": 7.993054390909514,
            "y1": 8.178292814283544
           },
           {
            "line": {
             "color": "rgba(255,255,255,0)",
             "width": 3
            },
            "type": "line",
            "x0": 0,
            "x1": null,
            "y0": 0,
            "y1": null
           },
           {
            "line": {
             "color": "rgba(255,255,255,0)",
             "width": 3
            },
            "type": "line",
            "x0": 0,
            "x1": null,
            "y0": 0,
            "y1": null
           },
           {
            "line": {
             "color": "rgba(255,255,255,0)",
             "width": 3
            },
            "type": "line",
            "x0": 0,
            "x1": null,
            "y0": 0,
            "y1": null
           },
           {
            "line": {
             "color": "rgba(255,255,255,0)",
             "width": 3
            },
            "type": "line",
            "x0": 0,
            "x1": null,
            "y0": 0,
            "y1": null
           },
           {
            "line": {
             "color": "rgba(255,255,255,0)",
             "width": 3
            },
            "type": "line",
            "x0": 0,
            "x1": null,
            "y0": 0,
            "y1": null
           },
           {
            "line": {
             "color": "rgba(255,255,255,0)",
             "width": 3
            },
            "type": "line",
            "x0": 0,
            "x1": null,
            "y0": 0,
            "y1": null
           },
           {
            "line": {
             "color": "rgba(255,255,255,0)",
             "width": 3
            },
            "type": "line",
            "x0": 0,
            "x1": null,
            "y0": 0,
            "y1": null
           },
           {
            "line": {
             "color": "rgba(255,255,255,0)",
             "width": 3
            },
            "type": "line",
            "x0": 0,
            "x1": null,
            "y0": 0,
            "y1": null
           }
          ],
          "title": {
           "text": "<b>Number of Agents: 2</b>",
           "x": 0.5
          }
         },
         "name": "200"
        },
        {
         "data": [
          {
           "hoverinfo": "name",
           "line": {
            "color": "grey"
           },
           "mode": "lines",
           "name": "Exterior",
           "showlegend": false,
           "type": "scatter",
           "x": [
            -10,
            -10,
            10,
            10,
            -10
           ],
           "y": [
            10,
            -10,
            -10,
            10,
            10
           ]
          },
          {
           "hoverinfo": "text",
           "marker": {
            "opacity": 1,
            "size": 1
           },
           "mode": "markers",
           "showlegend": false,
           "text": [
            "ID: 4.0, Pos(0.08,7.51)"
           ],
           "type": "scatter",
           "x": [
            0.07932095534518445
           ],
           "y": [
            7.507901150193799
           ]
          },
          {
           "hoverinfo": "none",
           "marker": {
            "opacity": 0,
            "size": 1
           },
           "mode": "markers",
           "showlegend": false,
           "type": "scatter",
           "x": [
            0
           ],
           "y": [
            0
           ]
          },
          {
           "hoverinfo": "none",
           "marker": {
            "opacity": 0,
            "size": 1
           },
           "mode": "markers",
           "showlegend": false,
           "type": "scatter",
           "x": [
            0
           ],
           "y": [
            0
           ]
          },
          {
           "hoverinfo": "none",
           "marker": {
            "opacity": 0,
            "size": 1
           },
           "mode": "markers",
           "showlegend": false,
           "type": "scatter",
           "x": [
            0
           ],
           "y": [
            0
           ]
          },
          {
           "hoverinfo": "none",
           "marker": {
            "opacity": 0,
            "size": 1
           },
           "mode": "markers",
           "showlegend": false,
           "type": "scatter",
           "x": [
            0
           ],
           "y": [
            0
           ]
          },
          {
           "hoverinfo": "none",
           "marker": {
            "opacity": 0,
            "size": 1
           },
           "mode": "markers",
           "showlegend": false,
           "type": "scatter",
           "x": [
            0
           ],
           "y": [
            0
           ]
          },
          {
           "hoverinfo": "none",
           "marker": {
            "opacity": 0,
            "size": 1
           },
           "mode": "markers",
           "showlegend": false,
           "type": "scatter",
           "x": [
            0
           ],
           "y": [
            0
           ]
          },
          {
           "hoverinfo": "none",
           "marker": {
            "opacity": 0,
            "size": 1
           },
           "mode": "markers",
           "showlegend": false,
           "type": "scatter",
           "x": [
            0
           ],
           "y": [
            0
           ]
          },
          {
           "hoverinfo": "none",
           "marker": {
            "opacity": 0,
            "size": 1
           },
           "mode": "markers",
           "showlegend": false,
           "type": "scatter",
           "x": [
            0
           ],
           "y": [
            0
           ]
          },
          {
           "hoverinfo": "none",
           "marker": {
            "opacity": 0,
            "size": 1
           },
           "mode": "markers",
           "showlegend": false,
           "type": "scatter",
           "x": [
            0
           ],
           "y": [
            0
           ]
          }
         ],
         "layout": {
          "shapes": [
           {
            "fillcolor": "rgba(0, 0, 237, 0.5)",
            "line": {
             "color": "rgba(0, 0, 237, 0.5)"
            },
            "type": "circle",
            "x0": -0.12067904465481556,
            "x1": 0.2793209553451845,
            "xref": "x",
            "y0": 7.307901150193799,
            "y1": 7.707901150193799,
            "yref": "y"
           },
           {
            "fillcolor": "rgba(255,255,255,0)",
            "line": {
             "width": 0
            },
            "type": "circle",
            "x0": 0,
            "x1": 0,
            "xref": "x",
            "y0": 0,
            "y1": 0,
            "yref": "y"
           },
           {
            "fillcolor": "rgba(255,255,255,0)",
            "line": {
             "width": 0
            },
            "type": "circle",
            "x0": 0,
            "x1": 0,
            "xref": "x",
            "y0": 0,
            "y1": 0,
            "yref": "y"
           },
           {
            "fillcolor": "rgba(255,255,255,0)",
            "line": {
             "width": 0
            },
            "type": "circle",
            "x0": 0,
            "x1": 0,
            "xref": "x",
            "y0": 0,
            "y1": 0,
            "yref": "y"
           },
           {
            "fillcolor": "rgba(255,255,255,0)",
            "line": {
             "width": 0
            },
            "type": "circle",
            "x0": 0,
            "x1": 0,
            "xref": "x",
            "y0": 0,
            "y1": 0,
            "yref": "y"
           },
           {
            "fillcolor": "rgba(255,255,255,0)",
            "line": {
             "width": 0
            },
            "type": "circle",
            "x0": 0,
            "x1": 0,
            "xref": "x",
            "y0": 0,
            "y1": 0,
            "yref": "y"
           },
           {
            "fillcolor": "rgba(255,255,255,0)",
            "line": {
             "width": 0
            },
            "type": "circle",
            "x0": 0,
            "x1": 0,
            "xref": "x",
            "y0": 0,
            "y1": 0,
            "yref": "y"
           },
           {
            "fillcolor": "rgba(255,255,255,0)",
            "line": {
             "width": 0
            },
            "type": "circle",
            "x0": 0,
            "x1": 0,
            "xref": "x",
            "y0": 0,
            "y1": 0,
            "yref": "y"
           },
           {
            "fillcolor": "rgba(255,255,255,0)",
            "line": {
             "width": 0
            },
            "type": "circle",
            "x0": 0,
            "x1": 0,
            "xref": "x",
            "y0": 0,
            "y1": 0,
            "yref": "y"
           },
           {
            "fillcolor": "rgba(255,255,255,0)",
            "line": {
             "width": 0
            },
            "type": "circle",
            "x0": 0,
            "x1": 0,
            "xref": "x",
            "y0": 0,
            "y1": 0,
            "yref": "y"
           },
           {
            "line": {
             "color": "white",
             "width": 3
            },
            "type": "line",
            "x0": 0.07932095534518445,
            "x1": 0.06870381564942614,
            "y0": 7.507901150193799,
            "y1": 7.707619142234278
           },
           {
            "line": {
             "color": "rgba(255,255,255,0)",
             "width": 3
            },
            "type": "line",
            "x0": 0,
            "x1": null,
            "y0": 0,
            "y1": null
           },
           {
            "line": {
             "color": "rgba(255,255,255,0)",
             "width": 3
            },
            "type": "line",
            "x0": 0,
            "x1": null,
            "y0": 0,
            "y1": null
           },
           {
            "line": {
             "color": "rgba(255,255,255,0)",
             "width": 3
            },
            "type": "line",
            "x0": 0,
            "x1": null,
            "y0": 0,
            "y1": null
           },
           {
            "line": {
             "color": "rgba(255,255,255,0)",
             "width": 3
            },
            "type": "line",
            "x0": 0,
            "x1": null,
            "y0": 0,
            "y1": null
           },
           {
            "line": {
             "color": "rgba(255,255,255,0)",
             "width": 3
            },
            "type": "line",
            "x0": 0,
            "x1": null,
            "y0": 0,
            "y1": null
           },
           {
            "line": {
             "color": "rgba(255,255,255,0)",
             "width": 3
            },
            "type": "line",
            "x0": 0,
            "x1": null,
            "y0": 0,
            "y1": null
           },
           {
            "line": {
             "color": "rgba(255,255,255,0)",
             "width": 3
            },
            "type": "line",
            "x0": 0,
            "x1": null,
            "y0": 0,
            "y1": null
           },
           {
            "line": {
             "color": "rgba(255,255,255,0)",
             "width": 3
            },
            "type": "line",
            "x0": 0,
            "x1": null,
            "y0": 0,
            "y1": null
           },
           {
            "line": {
             "color": "rgba(255,255,255,0)",
             "width": 3
            },
            "type": "line",
            "x0": 0,
            "x1": null,
            "y0": 0,
            "y1": null
           }
          ],
          "title": {
           "text": "<b>Number of Agents: 1</b>",
           "x": 0.5
          }
         },
         "name": "205"
        },
        {
         "data": [
          {
           "hoverinfo": "name",
           "line": {
            "color": "grey"
           },
           "mode": "lines",
           "name": "Exterior",
           "showlegend": false,
           "type": "scatter",
           "x": [
            -10,
            -10,
            10,
            10,
            -10
           ],
           "y": [
            10,
            -10,
            -10,
            10,
            10
           ]
          },
          {
           "hoverinfo": "text",
           "marker": {
            "opacity": 1,
            "size": 1
           },
           "mode": "markers",
           "showlegend": false,
           "text": [
            "ID: 4.0, Pos(0.07,7.77)"
           ],
           "type": "scatter",
           "x": [
            0.06559074789319569
           ],
           "y": [
            7.766178759906886
           ]
          },
          {
           "hoverinfo": "none",
           "marker": {
            "opacity": 0,
            "size": 1
           },
           "mode": "markers",
           "showlegend": false,
           "type": "scatter",
           "x": [
            0
           ],
           "y": [
            0
           ]
          },
          {
           "hoverinfo": "none",
           "marker": {
            "opacity": 0,
            "size": 1
           },
           "mode": "markers",
           "showlegend": false,
           "type": "scatter",
           "x": [
            0
           ],
           "y": [
            0
           ]
          },
          {
           "hoverinfo": "none",
           "marker": {
            "opacity": 0,
            "size": 1
           },
           "mode": "markers",
           "showlegend": false,
           "type": "scatter",
           "x": [
            0
           ],
           "y": [
            0
           ]
          },
          {
           "hoverinfo": "none",
           "marker": {
            "opacity": 0,
            "size": 1
           },
           "mode": "markers",
           "showlegend": false,
           "type": "scatter",
           "x": [
            0
           ],
           "y": [
            0
           ]
          },
          {
           "hoverinfo": "none",
           "marker": {
            "opacity": 0,
            "size": 1
           },
           "mode": "markers",
           "showlegend": false,
           "type": "scatter",
           "x": [
            0
           ],
           "y": [
            0
           ]
          },
          {
           "hoverinfo": "none",
           "marker": {
            "opacity": 0,
            "size": 1
           },
           "mode": "markers",
           "showlegend": false,
           "type": "scatter",
           "x": [
            0
           ],
           "y": [
            0
           ]
          },
          {
           "hoverinfo": "none",
           "marker": {
            "opacity": 0,
            "size": 1
           },
           "mode": "markers",
           "showlegend": false,
           "type": "scatter",
           "x": [
            0
           ],
           "y": [
            0
           ]
          },
          {
           "hoverinfo": "none",
           "marker": {
            "opacity": 0,
            "size": 1
           },
           "mode": "markers",
           "showlegend": false,
           "type": "scatter",
           "x": [
            0
           ],
           "y": [
            0
           ]
          },
          {
           "hoverinfo": "none",
           "marker": {
            "opacity": 0,
            "size": 1
           },
           "mode": "markers",
           "showlegend": false,
           "type": "scatter",
           "x": [
            0
           ],
           "y": [
            0
           ]
          }
         ],
         "layout": {
          "shapes": [
           {
            "fillcolor": "rgba(0, 0, 237, 0.5)",
            "line": {
             "color": "rgba(0, 0, 237, 0.5)"
            },
            "type": "circle",
            "x0": -0.13440925210680432,
            "x1": 0.2655907478931957,
            "xref": "x",
            "y0": 7.566178759906886,
            "y1": 7.966178759906886,
            "yref": "y"
           },
           {
            "fillcolor": "rgba(255,255,255,0)",
            "line": {
             "width": 0
            },
            "type": "circle",
            "x0": 0,
            "x1": 0,
            "xref": "x",
            "y0": 0,
            "y1": 0,
            "yref": "y"
           },
           {
            "fillcolor": "rgba(255,255,255,0)",
            "line": {
             "width": 0
            },
            "type": "circle",
            "x0": 0,
            "x1": 0,
            "xref": "x",
            "y0": 0,
            "y1": 0,
            "yref": "y"
           },
           {
            "fillcolor": "rgba(255,255,255,0)",
            "line": {
             "width": 0
            },
            "type": "circle",
            "x0": 0,
            "x1": 0,
            "xref": "x",
            "y0": 0,
            "y1": 0,
            "yref": "y"
           },
           {
            "fillcolor": "rgba(255,255,255,0)",
            "line": {
             "width": 0
            },
            "type": "circle",
            "x0": 0,
            "x1": 0,
            "xref": "x",
            "y0": 0,
            "y1": 0,
            "yref": "y"
           },
           {
            "fillcolor": "rgba(255,255,255,0)",
            "line": {
             "width": 0
            },
            "type": "circle",
            "x0": 0,
            "x1": 0,
            "xref": "x",
            "y0": 0,
            "y1": 0,
            "yref": "y"
           },
           {
            "fillcolor": "rgba(255,255,255,0)",
            "line": {
             "width": 0
            },
            "type": "circle",
            "x0": 0,
            "x1": 0,
            "xref": "x",
            "y0": 0,
            "y1": 0,
            "yref": "y"
           },
           {
            "fillcolor": "rgba(255,255,255,0)",
            "line": {
             "width": 0
            },
            "type": "circle",
            "x0": 0,
            "x1": 0,
            "xref": "x",
            "y0": 0,
            "y1": 0,
            "yref": "y"
           },
           {
            "fillcolor": "rgba(255,255,255,0)",
            "line": {
             "width": 0
            },
            "type": "circle",
            "x0": 0,
            "x1": 0,
            "xref": "x",
            "y0": 0,
            "y1": 0,
            "yref": "y"
           },
           {
            "fillcolor": "rgba(255,255,255,0)",
            "line": {
             "width": 0
            },
            "type": "circle",
            "x0": 0,
            "x1": 0,
            "xref": "x",
            "y0": 0,
            "y1": 0,
            "yref": "y"
           },
           {
            "line": {
             "color": "white",
             "width": 3
            },
            "type": "line",
            "x0": 0.06559074789319569,
            "x1": 0.05497360819743741,
            "y0": 7.766178759906886,
            "y1": 7.965896751947365
           },
           {
            "line": {
             "color": "rgba(255,255,255,0)",
             "width": 3
            },
            "type": "line",
            "x0": 0,
            "x1": null,
            "y0": 0,
            "y1": null
           },
           {
            "line": {
             "color": "rgba(255,255,255,0)",
             "width": 3
            },
            "type": "line",
            "x0": 0,
            "x1": null,
            "y0": 0,
            "y1": null
           },
           {
            "line": {
             "color": "rgba(255,255,255,0)",
             "width": 3
            },
            "type": "line",
            "x0": 0,
            "x1": null,
            "y0": 0,
            "y1": null
           },
           {
            "line": {
             "color": "rgba(255,255,255,0)",
             "width": 3
            },
            "type": "line",
            "x0": 0,
            "x1": null,
            "y0": 0,
            "y1": null
           },
           {
            "line": {
             "color": "rgba(255,255,255,0)",
             "width": 3
            },
            "type": "line",
            "x0": 0,
            "x1": null,
            "y0": 0,
            "y1": null
           },
           {
            "line": {
             "color": "rgba(255,255,255,0)",
             "width": 3
            },
            "type": "line",
            "x0": 0,
            "x1": null,
            "y0": 0,
            "y1": null
           },
           {
            "line": {
             "color": "rgba(255,255,255,0)",
             "width": 3
            },
            "type": "line",
            "x0": 0,
            "x1": null,
            "y0": 0,
            "y1": null
           },
           {
            "line": {
             "color": "rgba(255,255,255,0)",
             "width": 3
            },
            "type": "line",
            "x0": 0,
            "x1": null,
            "y0": 0,
            "y1": null
           },
           {
            "line": {
             "color": "rgba(255,255,255,0)",
             "width": 3
            },
            "type": "line",
            "x0": 0,
            "x1": null,
            "y0": 0,
            "y1": null
           }
          ],
          "title": {
           "text": "<b>Number of Agents: 1</b>",
           "x": 0.5
          }
         },
         "name": "210"
        },
        {
         "data": [
          {
           "hoverinfo": "name",
           "line": {
            "color": "grey"
           },
           "mode": "lines",
           "name": "Exterior",
           "showlegend": false,
           "type": "scatter",
           "x": [
            -10,
            -10,
            10,
            10,
            -10
           ],
           "y": [
            10,
            -10,
            -10,
            10,
            10
           ]
          },
          {
           "hoverinfo": "text",
           "marker": {
            "opacity": 1,
            "size": 1
           },
           "mode": "markers",
           "showlegend": false,
           "text": [
            "ID: 4.0, Pos(0.05,8.02)"
           ],
           "type": "scatter",
           "x": [
            0.05186054044120708
           ],
           "y": [
            8.024456369619974
           ]
          },
          {
           "hoverinfo": "none",
           "marker": {
            "opacity": 0,
            "size": 1
           },
           "mode": "markers",
           "showlegend": false,
           "type": "scatter",
           "x": [
            0
           ],
           "y": [
            0
           ]
          },
          {
           "hoverinfo": "none",
           "marker": {
            "opacity": 0,
            "size": 1
           },
           "mode": "markers",
           "showlegend": false,
           "type": "scatter",
           "x": [
            0
           ],
           "y": [
            0
           ]
          },
          {
           "hoverinfo": "none",
           "marker": {
            "opacity": 0,
            "size": 1
           },
           "mode": "markers",
           "showlegend": false,
           "type": "scatter",
           "x": [
            0
           ],
           "y": [
            0
           ]
          },
          {
           "hoverinfo": "none",
           "marker": {
            "opacity": 0,
            "size": 1
           },
           "mode": "markers",
           "showlegend": false,
           "type": "scatter",
           "x": [
            0
           ],
           "y": [
            0
           ]
          },
          {
           "hoverinfo": "none",
           "marker": {
            "opacity": 0,
            "size": 1
           },
           "mode": "markers",
           "showlegend": false,
           "type": "scatter",
           "x": [
            0
           ],
           "y": [
            0
           ]
          },
          {
           "hoverinfo": "none",
           "marker": {
            "opacity": 0,
            "size": 1
           },
           "mode": "markers",
           "showlegend": false,
           "type": "scatter",
           "x": [
            0
           ],
           "y": [
            0
           ]
          },
          {
           "hoverinfo": "none",
           "marker": {
            "opacity": 0,
            "size": 1
           },
           "mode": "markers",
           "showlegend": false,
           "type": "scatter",
           "x": [
            0
           ],
           "y": [
            0
           ]
          },
          {
           "hoverinfo": "none",
           "marker": {
            "opacity": 0,
            "size": 1
           },
           "mode": "markers",
           "showlegend": false,
           "type": "scatter",
           "x": [
            0
           ],
           "y": [
            0
           ]
          },
          {
           "hoverinfo": "none",
           "marker": {
            "opacity": 0,
            "size": 1
           },
           "mode": "markers",
           "showlegend": false,
           "type": "scatter",
           "x": [
            0
           ],
           "y": [
            0
           ]
          }
         ],
         "layout": {
          "shapes": [
           {
            "fillcolor": "rgba(0, 0, 237, 0.5)",
            "line": {
             "color": "rgba(0, 0, 237, 0.5)"
            },
            "type": "circle",
            "x0": -0.14813945955879293,
            "x1": 0.2518605404412071,
            "xref": "x",
            "y0": 7.824456369619974,
            "y1": 8.224456369619974,
            "yref": "y"
           },
           {
            "fillcolor": "rgba(255,255,255,0)",
            "line": {
             "width": 0
            },
            "type": "circle",
            "x0": 0,
            "x1": 0,
            "xref": "x",
            "y0": 0,
            "y1": 0,
            "yref": "y"
           },
           {
            "fillcolor": "rgba(255,255,255,0)",
            "line": {
             "width": 0
            },
            "type": "circle",
            "x0": 0,
            "x1": 0,
            "xref": "x",
            "y0": 0,
            "y1": 0,
            "yref": "y"
           },
           {
            "fillcolor": "rgba(255,255,255,0)",
            "line": {
             "width": 0
            },
            "type": "circle",
            "x0": 0,
            "x1": 0,
            "xref": "x",
            "y0": 0,
            "y1": 0,
            "yref": "y"
           },
           {
            "fillcolor": "rgba(255,255,255,0)",
            "line": {
             "width": 0
            },
            "type": "circle",
            "x0": 0,
            "x1": 0,
            "xref": "x",
            "y0": 0,
            "y1": 0,
            "yref": "y"
           },
           {
            "fillcolor": "rgba(255,255,255,0)",
            "line": {
             "width": 0
            },
            "type": "circle",
            "x0": 0,
            "x1": 0,
            "xref": "x",
            "y0": 0,
            "y1": 0,
            "yref": "y"
           },
           {
            "fillcolor": "rgba(255,255,255,0)",
            "line": {
             "width": 0
            },
            "type": "circle",
            "x0": 0,
            "x1": 0,
            "xref": "x",
            "y0": 0,
            "y1": 0,
            "yref": "y"
           },
           {
            "fillcolor": "rgba(255,255,255,0)",
            "line": {
             "width": 0
            },
            "type": "circle",
            "x0": 0,
            "x1": 0,
            "xref": "x",
            "y0": 0,
            "y1": 0,
            "yref": "y"
           },
           {
            "fillcolor": "rgba(255,255,255,0)",
            "line": {
             "width": 0
            },
            "type": "circle",
            "x0": 0,
            "x1": 0,
            "xref": "x",
            "y0": 0,
            "y1": 0,
            "yref": "y"
           },
           {
            "fillcolor": "rgba(255,255,255,0)",
            "line": {
             "width": 0
            },
            "type": "circle",
            "x0": 0,
            "x1": 0,
            "xref": "x",
            "y0": 0,
            "y1": 0,
            "yref": "y"
           },
           {
            "line": {
             "color": "white",
             "width": 3
            },
            "type": "line",
            "x0": 0.05186054044120708,
            "x1": 0.0412434007454488,
            "y0": 8.024456369619974,
            "y1": 8.224174361660452
           },
           {
            "line": {
             "color": "rgba(255,255,255,0)",
             "width": 3
            },
            "type": "line",
            "x0": 0,
            "x1": null,
            "y0": 0,
            "y1": null
           },
           {
            "line": {
             "color": "rgba(255,255,255,0)",
             "width": 3
            },
            "type": "line",
            "x0": 0,
            "x1": null,
            "y0": 0,
            "y1": null
           },
           {
            "line": {
             "color": "rgba(255,255,255,0)",
             "width": 3
            },
            "type": "line",
            "x0": 0,
            "x1": null,
            "y0": 0,
            "y1": null
           },
           {
            "line": {
             "color": "rgba(255,255,255,0)",
             "width": 3
            },
            "type": "line",
            "x0": 0,
            "x1": null,
            "y0": 0,
            "y1": null
           },
           {
            "line": {
             "color": "rgba(255,255,255,0)",
             "width": 3
            },
            "type": "line",
            "x0": 0,
            "x1": null,
            "y0": 0,
            "y1": null
           },
           {
            "line": {
             "color": "rgba(255,255,255,0)",
             "width": 3
            },
            "type": "line",
            "x0": 0,
            "x1": null,
            "y0": 0,
            "y1": null
           },
           {
            "line": {
             "color": "rgba(255,255,255,0)",
             "width": 3
            },
            "type": "line",
            "x0": 0,
            "x1": null,
            "y0": 0,
            "y1": null
           },
           {
            "line": {
             "color": "rgba(255,255,255,0)",
             "width": 3
            },
            "type": "line",
            "x0": 0,
            "x1": null,
            "y0": 0,
            "y1": null
           },
           {
            "line": {
             "color": "rgba(255,255,255,0)",
             "width": 3
            },
            "type": "line",
            "x0": 0,
            "x1": null,
            "y0": 0,
            "y1": null
           }
          ],
          "title": {
           "text": "<b>Number of Agents: 1</b>",
           "x": 0.5
          }
         },
         "name": "215"
        }
       ],
       "layout": {
        "autosize": false,
        "height": 800,
        "shapes": [
         {
          "fillcolor": "rgba(0, 0, 237, 0.5)",
          "line": {
           "color": "rgba(0, 0, 237, 0.5)"
          },
          "type": "circle",
          "x0": -0.14813945955879293,
          "x1": 0.2518605404412071,
          "xref": "x",
          "y0": 7.824456369619974,
          "y1": 8.224456369619974,
          "yref": "y"
         },
         {
          "fillcolor": "rgba(255,255,255,0)",
          "line": {
           "color": "rgba(0, 0, 218, 0.5)",
           "width": 0
          },
          "type": "circle",
          "x0": 0,
          "x1": 0,
          "xref": "x",
          "y0": 0,
          "y1": 0,
          "yref": "y"
         },
         {
          "fillcolor": "rgba(255,255,255,0)",
          "line": {
           "color": "rgba(0, 0, 218, 0.5)",
           "width": 0
          },
          "type": "circle",
          "x0": 0,
          "x1": 0,
          "xref": "x",
          "y0": 0,
          "y1": 0,
          "yref": "y"
         },
         {
          "fillcolor": "rgba(255,255,255,0)",
          "line": {
           "color": "rgba(31, 255, 215, 0.5)",
           "width": 0
          },
          "type": "circle",
          "x0": 0,
          "x1": 0,
          "xref": "x",
          "y0": 0,
          "y1": 0,
          "yref": "y"
         },
         {
          "fillcolor": "rgba(255,255,255,0)",
          "line": {
           "color": "rgba(0, 0, 228, 0.5)",
           "width": 0
          },
          "type": "circle",
          "x0": 0,
          "x1": 0,
          "xref": "x",
          "y0": 0,
          "y1": 0,
          "yref": "y"
         },
         {
          "fillcolor": "rgba(255,255,255,0)",
          "line": {
           "color": "rgba(255, 137, 0, 0.5)",
           "width": 0
          },
          "type": "circle",
          "x0": 0,
          "x1": 0,
          "xref": "x",
          "y0": 0,
          "y1": 0,
          "yref": "y"
         },
         {
          "fillcolor": "rgba(255,255,255,0)",
          "line": {
           "color": "rgba(255, 85, 0, 0.5)",
           "width": 0
          },
          "type": "circle",
          "x0": 0,
          "x1": 0,
          "xref": "x",
          "y0": 0,
          "y1": 0,
          "yref": "y"
         },
         {
          "fillcolor": "rgba(255,255,255,0)",
          "line": {
           "color": "rgba(255, 159, 0, 0.5)",
           "width": 0
          },
          "type": "circle",
          "x0": 0,
          "x1": 0,
          "xref": "x",
          "y0": 0,
          "y1": 0,
          "yref": "y"
         },
         {
          "fillcolor": "rgba(255,255,255,0)",
          "line": {
           "color": "rgba(102, 255, 144, 0.5)",
           "width": 0
          },
          "type": "circle",
          "x0": 0,
          "x1": 0,
          "xref": "x",
          "y0": 0,
          "y1": 0,
          "yref": "y"
         },
         {
          "fillcolor": "rgba(255,255,255,0)",
          "line": {
           "color": "rgba(0, 168, 255, 0.5)",
           "width": 0
          },
          "type": "circle",
          "x0": 0,
          "x1": 0,
          "xref": "x",
          "y0": 0,
          "y1": 0,
          "yref": "y"
         },
         {
          "line": {
           "color": "white",
           "width": 3
          },
          "type": "line",
          "x0": 0.05186054044120708,
          "x1": 0.0412434007454488,
          "y0": 8.024456369619974,
          "y1": 8.224174361660452
         },
         {
          "line": {
           "color": "rgba(255,255,255,0)",
           "width": 3
          },
          "type": "line",
          "x0": 0,
          "x1": 5.737704918032788,
          "y0": 0,
          "y1": 5.25
         },
         {
          "line": {
           "color": "rgba(255,255,255,0)",
           "width": 3
          },
          "type": "line",
          "x0": 0,
          "x1": 5.737704918032788,
          "y0": 0,
          "y1": 5.25
         },
         {
          "line": {
           "color": "rgba(255,255,255,0)",
           "width": 3
          },
          "type": "line",
          "x0": 0,
          "x1": 5.737704918032788,
          "y0": 0,
          "y1": 5.25
         },
         {
          "line": {
           "color": "rgba(255,255,255,0)",
           "width": 3
          },
          "type": "line",
          "x0": 0,
          "x1": 5.737704918032788,
          "y0": 0,
          "y1": 5.25
         },
         {
          "line": {
           "color": "rgba(255,255,255,0)",
           "width": 3
          },
          "type": "line",
          "x0": 0,
          "x1": 5.737704918032788,
          "y0": 0,
          "y1": 5.25
         },
         {
          "line": {
           "color": "rgba(255,255,255,0)",
           "width": 3
          },
          "type": "line",
          "x0": 0,
          "x1": 5.737704918032788,
          "y0": 0,
          "y1": 5.25
         },
         {
          "line": {
           "color": "rgba(255,255,255,0)",
           "width": 3
          },
          "type": "line",
          "x0": 0,
          "x1": 5.737704918032788,
          "y0": 0,
          "y1": 5.25
         },
         {
          "line": {
           "color": "rgba(255,255,255,0)",
           "width": 3
          },
          "type": "line",
          "x0": 0,
          "x1": 5.737704918032788,
          "y0": 0,
          "y1": 5.25
         },
         {
          "line": {
           "color": "rgba(255,255,255,0)",
           "width": 3
          },
          "type": "line",
          "x0": 0,
          "x1": 5.737704918032788,
          "y0": 0,
          "y1": 5.25
         }
        ],
        "sliders": [
         {
          "active": 43,
          "currentvalue": {
           "font": {
            "size": 20
           },
           "prefix": "Frame:",
           "visible": true,
           "xanchor": "right"
          },
          "len": 0.9,
          "pad": {
           "b": 10,
           "t": 50
          },
          "steps": [
           {
            "args": [
             [
              "0"
             ],
             {
              "frame": {
               "duration": 100,
               "redraw": true
              },
              "mode": "immediate",
              "transition": {
               "duration": 500
              }
             }
            ],
            "label": "0",
            "method": "animate"
           },
           {
            "args": [
             [
              "5"
             ],
             {
              "frame": {
               "duration": 100,
               "redraw": true
              },
              "mode": "immediate",
              "transition": {
               "duration": 500
              }
             }
            ],
            "label": "5",
            "method": "animate"
           },
           {
            "args": [
             [
              "10"
             ],
             {
              "frame": {
               "duration": 100,
               "redraw": true
              },
              "mode": "immediate",
              "transition": {
               "duration": 500
              }
             }
            ],
            "label": "10",
            "method": "animate"
           },
           {
            "args": [
             [
              "15"
             ],
             {
              "frame": {
               "duration": 100,
               "redraw": true
              },
              "mode": "immediate",
              "transition": {
               "duration": 500
              }
             }
            ],
            "label": "15",
            "method": "animate"
           },
           {
            "args": [
             [
              "20"
             ],
             {
              "frame": {
               "duration": 100,
               "redraw": true
              },
              "mode": "immediate",
              "transition": {
               "duration": 500
              }
             }
            ],
            "label": "20",
            "method": "animate"
           },
           {
            "args": [
             [
              "25"
             ],
             {
              "frame": {
               "duration": 100,
               "redraw": true
              },
              "mode": "immediate",
              "transition": {
               "duration": 500
              }
             }
            ],
            "label": "25",
            "method": "animate"
           },
           {
            "args": [
             [
              "30"
             ],
             {
              "frame": {
               "duration": 100,
               "redraw": true
              },
              "mode": "immediate",
              "transition": {
               "duration": 500
              }
             }
            ],
            "label": "30",
            "method": "animate"
           },
           {
            "args": [
             [
              "35"
             ],
             {
              "frame": {
               "duration": 100,
               "redraw": true
              },
              "mode": "immediate",
              "transition": {
               "duration": 500
              }
             }
            ],
            "label": "35",
            "method": "animate"
           },
           {
            "args": [
             [
              "40"
             ],
             {
              "frame": {
               "duration": 100,
               "redraw": true
              },
              "mode": "immediate",
              "transition": {
               "duration": 500
              }
             }
            ],
            "label": "40",
            "method": "animate"
           },
           {
            "args": [
             [
              "45"
             ],
             {
              "frame": {
               "duration": 100,
               "redraw": true
              },
              "mode": "immediate",
              "transition": {
               "duration": 500
              }
             }
            ],
            "label": "45",
            "method": "animate"
           },
           {
            "args": [
             [
              "50"
             ],
             {
              "frame": {
               "duration": 100,
               "redraw": true
              },
              "mode": "immediate",
              "transition": {
               "duration": 500
              }
             }
            ],
            "label": "50",
            "method": "animate"
           },
           {
            "args": [
             [
              "55"
             ],
             {
              "frame": {
               "duration": 100,
               "redraw": true
              },
              "mode": "immediate",
              "transition": {
               "duration": 500
              }
             }
            ],
            "label": "55",
            "method": "animate"
           },
           {
            "args": [
             [
              "60"
             ],
             {
              "frame": {
               "duration": 100,
               "redraw": true
              },
              "mode": "immediate",
              "transition": {
               "duration": 500
              }
             }
            ],
            "label": "60",
            "method": "animate"
           },
           {
            "args": [
             [
              "65"
             ],
             {
              "frame": {
               "duration": 100,
               "redraw": true
              },
              "mode": "immediate",
              "transition": {
               "duration": 500
              }
             }
            ],
            "label": "65",
            "method": "animate"
           },
           {
            "args": [
             [
              "70"
             ],
             {
              "frame": {
               "duration": 100,
               "redraw": true
              },
              "mode": "immediate",
              "transition": {
               "duration": 500
              }
             }
            ],
            "label": "70",
            "method": "animate"
           },
           {
            "args": [
             [
              "75"
             ],
             {
              "frame": {
               "duration": 100,
               "redraw": true
              },
              "mode": "immediate",
              "transition": {
               "duration": 500
              }
             }
            ],
            "label": "75",
            "method": "animate"
           },
           {
            "args": [
             [
              "80"
             ],
             {
              "frame": {
               "duration": 100,
               "redraw": true
              },
              "mode": "immediate",
              "transition": {
               "duration": 500
              }
             }
            ],
            "label": "80",
            "method": "animate"
           },
           {
            "args": [
             [
              "85"
             ],
             {
              "frame": {
               "duration": 100,
               "redraw": true
              },
              "mode": "immediate",
              "transition": {
               "duration": 500
              }
             }
            ],
            "label": "85",
            "method": "animate"
           },
           {
            "args": [
             [
              "90"
             ],
             {
              "frame": {
               "duration": 100,
               "redraw": true
              },
              "mode": "immediate",
              "transition": {
               "duration": 500
              }
             }
            ],
            "label": "90",
            "method": "animate"
           },
           {
            "args": [
             [
              "95"
             ],
             {
              "frame": {
               "duration": 100,
               "redraw": true
              },
              "mode": "immediate",
              "transition": {
               "duration": 500
              }
             }
            ],
            "label": "95",
            "method": "animate"
           },
           {
            "args": [
             [
              "100"
             ],
             {
              "frame": {
               "duration": 100,
               "redraw": true
              },
              "mode": "immediate",
              "transition": {
               "duration": 500
              }
             }
            ],
            "label": "100",
            "method": "animate"
           },
           {
            "args": [
             [
              "105"
             ],
             {
              "frame": {
               "duration": 100,
               "redraw": true
              },
              "mode": "immediate",
              "transition": {
               "duration": 500
              }
             }
            ],
            "label": "105",
            "method": "animate"
           },
           {
            "args": [
             [
              "110"
             ],
             {
              "frame": {
               "duration": 100,
               "redraw": true
              },
              "mode": "immediate",
              "transition": {
               "duration": 500
              }
             }
            ],
            "label": "110",
            "method": "animate"
           },
           {
            "args": [
             [
              "115"
             ],
             {
              "frame": {
               "duration": 100,
               "redraw": true
              },
              "mode": "immediate",
              "transition": {
               "duration": 500
              }
             }
            ],
            "label": "115",
            "method": "animate"
           },
           {
            "args": [
             [
              "120"
             ],
             {
              "frame": {
               "duration": 100,
               "redraw": true
              },
              "mode": "immediate",
              "transition": {
               "duration": 500
              }
             }
            ],
            "label": "120",
            "method": "animate"
           },
           {
            "args": [
             [
              "125"
             ],
             {
              "frame": {
               "duration": 100,
               "redraw": true
              },
              "mode": "immediate",
              "transition": {
               "duration": 500
              }
             }
            ],
            "label": "125",
            "method": "animate"
           },
           {
            "args": [
             [
              "130"
             ],
             {
              "frame": {
               "duration": 100,
               "redraw": true
              },
              "mode": "immediate",
              "transition": {
               "duration": 500
              }
             }
            ],
            "label": "130",
            "method": "animate"
           },
           {
            "args": [
             [
              "135"
             ],
             {
              "frame": {
               "duration": 100,
               "redraw": true
              },
              "mode": "immediate",
              "transition": {
               "duration": 500
              }
             }
            ],
            "label": "135",
            "method": "animate"
           },
           {
            "args": [
             [
              "140"
             ],
             {
              "frame": {
               "duration": 100,
               "redraw": true
              },
              "mode": "immediate",
              "transition": {
               "duration": 500
              }
             }
            ],
            "label": "140",
            "method": "animate"
           },
           {
            "args": [
             [
              "145"
             ],
             {
              "frame": {
               "duration": 100,
               "redraw": true
              },
              "mode": "immediate",
              "transition": {
               "duration": 500
              }
             }
            ],
            "label": "145",
            "method": "animate"
           },
           {
            "args": [
             [
              "150"
             ],
             {
              "frame": {
               "duration": 100,
               "redraw": true
              },
              "mode": "immediate",
              "transition": {
               "duration": 500
              }
             }
            ],
            "label": "150",
            "method": "animate"
           },
           {
            "args": [
             [
              "155"
             ],
             {
              "frame": {
               "duration": 100,
               "redraw": true
              },
              "mode": "immediate",
              "transition": {
               "duration": 500
              }
             }
            ],
            "label": "155",
            "method": "animate"
           },
           {
            "args": [
             [
              "160"
             ],
             {
              "frame": {
               "duration": 100,
               "redraw": true
              },
              "mode": "immediate",
              "transition": {
               "duration": 500
              }
             }
            ],
            "label": "160",
            "method": "animate"
           },
           {
            "args": [
             [
              "165"
             ],
             {
              "frame": {
               "duration": 100,
               "redraw": true
              },
              "mode": "immediate",
              "transition": {
               "duration": 500
              }
             }
            ],
            "label": "165",
            "method": "animate"
           },
           {
            "args": [
             [
              "170"
             ],
             {
              "frame": {
               "duration": 100,
               "redraw": true
              },
              "mode": "immediate",
              "transition": {
               "duration": 500
              }
             }
            ],
            "label": "170",
            "method": "animate"
           },
           {
            "args": [
             [
              "175"
             ],
             {
              "frame": {
               "duration": 100,
               "redraw": true
              },
              "mode": "immediate",
              "transition": {
               "duration": 500
              }
             }
            ],
            "label": "175",
            "method": "animate"
           },
           {
            "args": [
             [
              "180"
             ],
             {
              "frame": {
               "duration": 100,
               "redraw": true
              },
              "mode": "immediate",
              "transition": {
               "duration": 500
              }
             }
            ],
            "label": "180",
            "method": "animate"
           },
           {
            "args": [
             [
              "185"
             ],
             {
              "frame": {
               "duration": 100,
               "redraw": true
              },
              "mode": "immediate",
              "transition": {
               "duration": 500
              }
             }
            ],
            "label": "185",
            "method": "animate"
           },
           {
            "args": [
             [
              "190"
             ],
             {
              "frame": {
               "duration": 100,
               "redraw": true
              },
              "mode": "immediate",
              "transition": {
               "duration": 500
              }
             }
            ],
            "label": "190",
            "method": "animate"
           },
           {
            "args": [
             [
              "195"
             ],
             {
              "frame": {
               "duration": 100,
               "redraw": true
              },
              "mode": "immediate",
              "transition": {
               "duration": 500
              }
             }
            ],
            "label": "195",
            "method": "animate"
           },
           {
            "args": [
             [
              "200"
             ],
             {
              "frame": {
               "duration": 100,
               "redraw": true
              },
              "mode": "immediate",
              "transition": {
               "duration": 500
              }
             }
            ],
            "label": "200",
            "method": "animate"
           },
           {
            "args": [
             [
              "205"
             ],
             {
              "frame": {
               "duration": 100,
               "redraw": true
              },
              "mode": "immediate",
              "transition": {
               "duration": 500
              }
             }
            ],
            "label": "205",
            "method": "animate"
           },
           {
            "args": [
             [
              "210"
             ],
             {
              "frame": {
               "duration": 100,
               "redraw": true
              },
              "mode": "immediate",
              "transition": {
               "duration": 500
              }
             }
            ],
            "label": "210",
            "method": "animate"
           },
           {
            "args": [
             [
              "215"
             ],
             {
              "frame": {
               "duration": 100,
               "redraw": true
              },
              "mode": "immediate",
              "transition": {
               "duration": 500
              }
             }
            ],
            "label": "215",
            "method": "animate"
           }
          ],
          "transition": {
           "duration": 100,
           "easing": "cubic-in-out"
          },
          "x": 0.1,
          "xanchor": "left",
          "y": 0,
          "yanchor": "top"
         }
        ],
        "template": {
         "data": {
          "bar": [
           {
            "error_x": {
             "color": "#2a3f5f"
            },
            "error_y": {
             "color": "#2a3f5f"
            },
            "marker": {
             "line": {
              "color": "#E5ECF6",
              "width": 0.5
             },
             "pattern": {
              "fillmode": "overlay",
              "size": 10,
              "solidity": 0.2
             }
            },
            "type": "bar"
           }
          ],
          "barpolar": [
           {
            "marker": {
             "line": {
              "color": "#E5ECF6",
              "width": 0.5
             },
             "pattern": {
              "fillmode": "overlay",
              "size": 10,
              "solidity": 0.2
             }
            },
            "type": "barpolar"
           }
          ],
          "carpet": [
           {
            "aaxis": {
             "endlinecolor": "#2a3f5f",
             "gridcolor": "white",
             "linecolor": "white",
             "minorgridcolor": "white",
             "startlinecolor": "#2a3f5f"
            },
            "baxis": {
             "endlinecolor": "#2a3f5f",
             "gridcolor": "white",
             "linecolor": "white",
             "minorgridcolor": "white",
             "startlinecolor": "#2a3f5f"
            },
            "type": "carpet"
           }
          ],
          "choropleth": [
           {
            "colorbar": {
             "outlinewidth": 0,
             "ticks": ""
            },
            "type": "choropleth"
           }
          ],
          "contour": [
           {
            "colorbar": {
             "outlinewidth": 0,
             "ticks": ""
            },
            "colorscale": [
             [
              0,
              "#0d0887"
             ],
             [
              0.1111111111111111,
              "#46039f"
             ],
             [
              0.2222222222222222,
              "#7201a8"
             ],
             [
              0.3333333333333333,
              "#9c179e"
             ],
             [
              0.4444444444444444,
              "#bd3786"
             ],
             [
              0.5555555555555556,
              "#d8576b"
             ],
             [
              0.6666666666666666,
              "#ed7953"
             ],
             [
              0.7777777777777778,
              "#fb9f3a"
             ],
             [
              0.8888888888888888,
              "#fdca26"
             ],
             [
              1,
              "#f0f921"
             ]
            ],
            "type": "contour"
           }
          ],
          "contourcarpet": [
           {
            "colorbar": {
             "outlinewidth": 0,
             "ticks": ""
            },
            "type": "contourcarpet"
           }
          ],
          "heatmap": [
           {
            "colorbar": {
             "outlinewidth": 0,
             "ticks": ""
            },
            "colorscale": [
             [
              0,
              "#0d0887"
             ],
             [
              0.1111111111111111,
              "#46039f"
             ],
             [
              0.2222222222222222,
              "#7201a8"
             ],
             [
              0.3333333333333333,
              "#9c179e"
             ],
             [
              0.4444444444444444,
              "#bd3786"
             ],
             [
              0.5555555555555556,
              "#d8576b"
             ],
             [
              0.6666666666666666,
              "#ed7953"
             ],
             [
              0.7777777777777778,
              "#fb9f3a"
             ],
             [
              0.8888888888888888,
              "#fdca26"
             ],
             [
              1,
              "#f0f921"
             ]
            ],
            "type": "heatmap"
           }
          ],
          "heatmapgl": [
           {
            "colorbar": {
             "outlinewidth": 0,
             "ticks": ""
            },
            "colorscale": [
             [
              0,
              "#0d0887"
             ],
             [
              0.1111111111111111,
              "#46039f"
             ],
             [
              0.2222222222222222,
              "#7201a8"
             ],
             [
              0.3333333333333333,
              "#9c179e"
             ],
             [
              0.4444444444444444,
              "#bd3786"
             ],
             [
              0.5555555555555556,
              "#d8576b"
             ],
             [
              0.6666666666666666,
              "#ed7953"
             ],
             [
              0.7777777777777778,
              "#fb9f3a"
             ],
             [
              0.8888888888888888,
              "#fdca26"
             ],
             [
              1,
              "#f0f921"
             ]
            ],
            "type": "heatmapgl"
           }
          ],
          "histogram": [
           {
            "marker": {
             "pattern": {
              "fillmode": "overlay",
              "size": 10,
              "solidity": 0.2
             }
            },
            "type": "histogram"
           }
          ],
          "histogram2d": [
           {
            "colorbar": {
             "outlinewidth": 0,
             "ticks": ""
            },
            "colorscale": [
             [
              0,
              "#0d0887"
             ],
             [
              0.1111111111111111,
              "#46039f"
             ],
             [
              0.2222222222222222,
              "#7201a8"
             ],
             [
              0.3333333333333333,
              "#9c179e"
             ],
             [
              0.4444444444444444,
              "#bd3786"
             ],
             [
              0.5555555555555556,
              "#d8576b"
             ],
             [
              0.6666666666666666,
              "#ed7953"
             ],
             [
              0.7777777777777778,
              "#fb9f3a"
             ],
             [
              0.8888888888888888,
              "#fdca26"
             ],
             [
              1,
              "#f0f921"
             ]
            ],
            "type": "histogram2d"
           }
          ],
          "histogram2dcontour": [
           {
            "colorbar": {
             "outlinewidth": 0,
             "ticks": ""
            },
            "colorscale": [
             [
              0,
              "#0d0887"
             ],
             [
              0.1111111111111111,
              "#46039f"
             ],
             [
              0.2222222222222222,
              "#7201a8"
             ],
             [
              0.3333333333333333,
              "#9c179e"
             ],
             [
              0.4444444444444444,
              "#bd3786"
             ],
             [
              0.5555555555555556,
              "#d8576b"
             ],
             [
              0.6666666666666666,
              "#ed7953"
             ],
             [
              0.7777777777777778,
              "#fb9f3a"
             ],
             [
              0.8888888888888888,
              "#fdca26"
             ],
             [
              1,
              "#f0f921"
             ]
            ],
            "type": "histogram2dcontour"
           }
          ],
          "mesh3d": [
           {
            "colorbar": {
             "outlinewidth": 0,
             "ticks": ""
            },
            "type": "mesh3d"
           }
          ],
          "parcoords": [
           {
            "line": {
             "colorbar": {
              "outlinewidth": 0,
              "ticks": ""
             }
            },
            "type": "parcoords"
           }
          ],
          "pie": [
           {
            "automargin": true,
            "type": "pie"
           }
          ],
          "scatter": [
           {
            "fillpattern": {
             "fillmode": "overlay",
             "size": 10,
             "solidity": 0.2
            },
            "type": "scatter"
           }
          ],
          "scatter3d": [
           {
            "line": {
             "colorbar": {
              "outlinewidth": 0,
              "ticks": ""
             }
            },
            "marker": {
             "colorbar": {
              "outlinewidth": 0,
              "ticks": ""
             }
            },
            "type": "scatter3d"
           }
          ],
          "scattercarpet": [
           {
            "marker": {
             "colorbar": {
              "outlinewidth": 0,
              "ticks": ""
             }
            },
            "type": "scattercarpet"
           }
          ],
          "scattergeo": [
           {
            "marker": {
             "colorbar": {
              "outlinewidth": 0,
              "ticks": ""
             }
            },
            "type": "scattergeo"
           }
          ],
          "scattergl": [
           {
            "marker": {
             "colorbar": {
              "outlinewidth": 0,
              "ticks": ""
             }
            },
            "type": "scattergl"
           }
          ],
          "scattermapbox": [
           {
            "marker": {
             "colorbar": {
              "outlinewidth": 0,
              "ticks": ""
             }
            },
            "type": "scattermapbox"
           }
          ],
          "scatterpolar": [
           {
            "marker": {
             "colorbar": {
              "outlinewidth": 0,
              "ticks": ""
             }
            },
            "type": "scatterpolar"
           }
          ],
          "scatterpolargl": [
           {
            "marker": {
             "colorbar": {
              "outlinewidth": 0,
              "ticks": ""
             }
            },
            "type": "scatterpolargl"
           }
          ],
          "scatterternary": [
           {
            "marker": {
             "colorbar": {
              "outlinewidth": 0,
              "ticks": ""
             }
            },
            "type": "scatterternary"
           }
          ],
          "surface": [
           {
            "colorbar": {
             "outlinewidth": 0,
             "ticks": ""
            },
            "colorscale": [
             [
              0,
              "#0d0887"
             ],
             [
              0.1111111111111111,
              "#46039f"
             ],
             [
              0.2222222222222222,
              "#7201a8"
             ],
             [
              0.3333333333333333,
              "#9c179e"
             ],
             [
              0.4444444444444444,
              "#bd3786"
             ],
             [
              0.5555555555555556,
              "#d8576b"
             ],
             [
              0.6666666666666666,
              "#ed7953"
             ],
             [
              0.7777777777777778,
              "#fb9f3a"
             ],
             [
              0.8888888888888888,
              "#fdca26"
             ],
             [
              1,
              "#f0f921"
             ]
            ],
            "type": "surface"
           }
          ],
          "table": [
           {
            "cells": {
             "fill": {
              "color": "#EBF0F8"
             },
             "line": {
              "color": "white"
             }
            },
            "header": {
             "fill": {
              "color": "#C8D4E3"
             },
             "line": {
              "color": "white"
             }
            },
            "type": "table"
           }
          ]
         },
         "layout": {
          "annotationdefaults": {
           "arrowcolor": "#2a3f5f",
           "arrowhead": 0,
           "arrowwidth": 1
          },
          "autotypenumbers": "strict",
          "coloraxis": {
           "colorbar": {
            "outlinewidth": 0,
            "ticks": ""
           }
          },
          "colorscale": {
           "diverging": [
            [
             0,
             "#8e0152"
            ],
            [
             0.1,
             "#c51b7d"
            ],
            [
             0.2,
             "#de77ae"
            ],
            [
             0.3,
             "#f1b6da"
            ],
            [
             0.4,
             "#fde0ef"
            ],
            [
             0.5,
             "#f7f7f7"
            ],
            [
             0.6,
             "#e6f5d0"
            ],
            [
             0.7,
             "#b8e186"
            ],
            [
             0.8,
             "#7fbc41"
            ],
            [
             0.9,
             "#4d9221"
            ],
            [
             1,
             "#276419"
            ]
           ],
           "sequential": [
            [
             0,
             "#0d0887"
            ],
            [
             0.1111111111111111,
             "#46039f"
            ],
            [
             0.2222222222222222,
             "#7201a8"
            ],
            [
             0.3333333333333333,
             "#9c179e"
            ],
            [
             0.4444444444444444,
             "#bd3786"
            ],
            [
             0.5555555555555556,
             "#d8576b"
            ],
            [
             0.6666666666666666,
             "#ed7953"
            ],
            [
             0.7777777777777778,
             "#fb9f3a"
            ],
            [
             0.8888888888888888,
             "#fdca26"
            ],
            [
             1,
             "#f0f921"
            ]
           ],
           "sequentialminus": [
            [
             0,
             "#0d0887"
            ],
            [
             0.1111111111111111,
             "#46039f"
            ],
            [
             0.2222222222222222,
             "#7201a8"
            ],
            [
             0.3333333333333333,
             "#9c179e"
            ],
            [
             0.4444444444444444,
             "#bd3786"
            ],
            [
             0.5555555555555556,
             "#d8576b"
            ],
            [
             0.6666666666666666,
             "#ed7953"
            ],
            [
             0.7777777777777778,
             "#fb9f3a"
            ],
            [
             0.8888888888888888,
             "#fdca26"
            ],
            [
             1,
             "#f0f921"
            ]
           ]
          },
          "colorway": [
           "#636efa",
           "#EF553B",
           "#00cc96",
           "#ab63fa",
           "#FFA15A",
           "#19d3f3",
           "#FF6692",
           "#B6E880",
           "#FF97FF",
           "#FECB52"
          ],
          "font": {
           "color": "#2a3f5f"
          },
          "geo": {
           "bgcolor": "white",
           "lakecolor": "white",
           "landcolor": "#E5ECF6",
           "showlakes": true,
           "showland": true,
           "subunitcolor": "white"
          },
          "hoverlabel": {
           "align": "left"
          },
          "hovermode": "closest",
          "mapbox": {
           "style": "light"
          },
          "paper_bgcolor": "white",
          "plot_bgcolor": "#E5ECF6",
          "polar": {
           "angularaxis": {
            "gridcolor": "white",
            "linecolor": "white",
            "ticks": ""
           },
           "bgcolor": "#E5ECF6",
           "radialaxis": {
            "gridcolor": "white",
            "linecolor": "white",
            "ticks": ""
           }
          },
          "scene": {
           "xaxis": {
            "backgroundcolor": "#E5ECF6",
            "gridcolor": "white",
            "gridwidth": 2,
            "linecolor": "white",
            "showbackground": true,
            "ticks": "",
            "zerolinecolor": "white"
           },
           "yaxis": {
            "backgroundcolor": "#E5ECF6",
            "gridcolor": "white",
            "gridwidth": 2,
            "linecolor": "white",
            "showbackground": true,
            "ticks": "",
            "zerolinecolor": "white"
           },
           "zaxis": {
            "backgroundcolor": "#E5ECF6",
            "gridcolor": "white",
            "gridwidth": 2,
            "linecolor": "white",
            "showbackground": true,
            "ticks": "",
            "zerolinecolor": "white"
           }
          },
          "shapedefaults": {
           "line": {
            "color": "#2a3f5f"
           }
          },
          "ternary": {
           "aaxis": {
            "gridcolor": "white",
            "linecolor": "white",
            "ticks": ""
           },
           "baxis": {
            "gridcolor": "white",
            "linecolor": "white",
            "ticks": ""
           },
           "bgcolor": "#E5ECF6",
           "caxis": {
            "gridcolor": "white",
            "linecolor": "white",
            "ticks": ""
           }
          },
          "title": {
           "x": 0.05
          },
          "xaxis": {
           "automargin": true,
           "gridcolor": "white",
           "linecolor": "white",
           "ticks": "",
           "title": {
            "standoff": 15
           },
           "zerolinecolor": "white",
           "zerolinewidth": 2
          },
          "yaxis": {
           "automargin": true,
           "gridcolor": "white",
           "linecolor": "white",
           "ticks": "",
           "title": {
            "standoff": 15
           },
           "zerolinecolor": "white",
           "zerolinewidth": 2
          }
         }
        },
        "title": {
         "text": "<b>Number of Agents: 1</b>",
         "x": 0.5
        },
        "updatemenus": [
         {
          "active": 0,
          "buttons": [
           {
            "args": [
             null,
             {
              "frame": {
               "duration": 100,
               "redraw": true
              },
              "fromcurrent": true
             }
            ],
            "label": "Play",
            "method": "animate"
           }
          ],
          "direction": "left",
          "pad": {
           "r": 10,
           "t": 87
          },
          "showactive": false,
          "type": "buttons",
          "x": 0.1,
          "xanchor": "right",
          "y": 0,
          "yanchor": "top"
         }
        ],
        "width": 800,
        "xaxis": {
         "domain": [
          0,
          1
         ],
         "range": [
          -11.475409836065575,
          11.475409836065575
         ],
         "type": "linear"
        },
        "yaxis": {
         "domain": [
          0,
          1
         ],
         "range": [
          -10.5,
          10.5
         ],
         "scaleanchor": "x",
         "scaleratio": 1,
         "type": "linear"
        }
       }
      },
      "image/png": "[encoded data removed]",
      "text/html": [
       "<div>                            <div id=\"bae66baf-622f-4937-9555-61233d5b81ec\" class=\"plotly-graph-div\" style=\"height:800px; width:800px;\"></div>            <script type=\"text/javascript\">                require([\"plotly\"], function(Plotly) {                    window.PLOTLYENV=window.PLOTLYENV || {};                                    if (document.getElementById(\"bae66baf-622f-4937-9555-61233d5b81ec\")) {                    Plotly.newPlot(                        \"bae66baf-622f-4937-9555-61233d5b81ec\",                        [{\"hoverinfo\":\"name\",\"line\":{\"color\":\"grey\"},\"mode\":\"lines\",\"name\":\"Exterior\",\"showlegend\":false,\"x\":[-10.0,-10.0,10.0,10.0,-10.0],\"y\":[10.0,-10.0,-10.0,10.0,10.0],\"type\":\"scatter\"},{\"hoverinfo\":\"none\",\"marker\":{\"cmax\":1.3850427159940626,\"cmin\":0,\"color\":[1.3666625032581659,0.6077488630148284,1.333091553848067,0.9226860136393445,0.4098060109658809,1.3665177555240304,1.2924899750553638,0.5527439637554429,1.305641364443613,1.2977396333585922],\"colorbar\":{\"title\":{\"text\":\"Speed [m\\u002fs]\"}},\"colorscale\":[[0.0,\"rgb(128,0,0)\"],[0.2,\"rgb(250,0,0)\"],[0.4,\"rgb(255,255,0)\"],[0.6,\"rgb(5,255,255)\"],[0.8,\"rgb(0,60,170)\"],[1.0,\"rgb(0,0,131)\"]],\"size\":[0.4,0.4,0.4,0.4,0.4,0.4,0.4,0.4,0.4,0.4]},\"mode\":\"markers\",\"showlegend\":false,\"text\":[1.3666625032581659,0.6077488630148284,1.333091553848067,0.9226860136393445,0.4098060109658809,1.3665177555240304,1.2924899750553638,0.5527439637554429,1.305641364443613,1.2977396333585922],\"x\":[2.502132028215444,1.1175612682660254,1.2267134983891046,0.8423216315714026,1.880545068955457,5.258334913776229,0.5900810029983006,5.747337180903012,4.15126268370284,4.119005566089502],\"y\":[1.4406489868843162,0.6911214540860955,1.7562348727818908,0.3962029781697576,1.3846452313386282,1.7892133270076946,0.8422152500101043,1.0663305699460341,0.6310312620121259,1.6692513437947458],\"type\":\"scatter\"},{\"hoverinfo\":\"text\",\"marker\":{\"opacity\":1,\"size\":1},\"mode\":\"markers\",\"showlegend\":false,\"text\":[\"ID: 1, Pos(2.50,1.44)\"],\"x\":[2.502132028215444],\"y\":[1.4406489868843162],\"type\":\"scatter\"},{\"hoverinfo\":\"text\",\"marker\":{\"opacity\":1,\"size\":1},\"mode\":\"markers\",\"showlegend\":false,\"text\":[\"ID: 2, Pos(1.12,0.69)\"],\"x\":[1.1175612682660254],\"y\":[0.6911214540860955],\"type\":\"scatter\"},{\"hoverinfo\":\"text\",\"marker\":{\"opacity\":1,\"size\":1},\"mode\":\"markers\",\"showlegend\":false,\"text\":[\"ID: 3, Pos(1.23,1.76)\"],\"x\":[1.2267134983891046],\"y\":[1.7562348727818908],\"type\":\"scatter\"},{\"hoverinfo\":\"text\",\"marker\":{\"opacity\":1,\"size\":1},\"mode\":\"markers\",\"showlegend\":false,\"text\":[\"ID: 4, Pos(0.84,0.40)\"],\"x\":[0.8423216315714026],\"y\":[0.3962029781697576],\"type\":\"scatter\"},{\"hoverinfo\":\"text\",\"marker\":{\"opacity\":1,\"size\":1},\"mode\":\"markers\",\"showlegend\":false,\"text\":[\"ID: 5, Pos(1.88,1.38)\"],\"x\":[1.880545068955457],\"y\":[1.3846452313386282],\"type\":\"scatter\"},{\"hoverinfo\":\"text\",\"marker\":{\"opacity\":1,\"size\":1},\"mode\":\"markers\",\"showlegend\":false,\"text\":[\"ID: 6, Pos(5.26,1.79)\"],\"x\":[5.258334913776229],\"y\":[1.7892133270076946],\"type\":\"scatter\"},{\"hoverinfo\":\"text\",\"marker\":{\"opacity\":1,\"size\":1},\"mode\":\"markers\",\"showlegend\":false,\"text\":[\"ID: 7, Pos(0.59,0.84)\"],\"x\":[0.5900810029983006],\"y\":[0.8422152500101043],\"type\":\"scatter\"},{\"hoverinfo\":\"text\",\"marker\":{\"opacity\":1,\"size\":1},\"mode\":\"markers\",\"showlegend\":false,\"text\":[\"ID: 8, Pos(5.75,1.07)\"],\"x\":[5.747337180903012],\"y\":[1.0663305699460341],\"type\":\"scatter\"},{\"hoverinfo\":\"text\",\"marker\":{\"opacity\":1,\"size\":1},\"mode\":\"markers\",\"showlegend\":false,\"text\":[\"ID: 9, Pos(4.15,0.63)\"],\"x\":[4.15126268370284],\"y\":[0.6310312620121259],\"type\":\"scatter\"},{\"hoverinfo\":\"text\",\"marker\":{\"opacity\":1,\"size\":1},\"mode\":\"markers\",\"showlegend\":false,\"text\":[\"ID: 10, Pos(4.12,1.67)\"],\"x\":[4.119005566089502],\"y\":[1.6692513437947458],\"type\":\"scatter\"}],                        {\"shapes\":[{\"fillcolor\":\"rgba(0, 0, 146, 0.5)\",\"line\":{\"color\":\"rgba(0, 0, 146, 0.5)\"},\"type\":\"circle\",\"x0\":2.3021320282154436,\"x1\":2.702132028215444,\"xref\":\"x\",\"y0\":1.2406489868843162,\"y1\":1.6406489868843162,\"yref\":\"y\"},{\"fillcolor\":\"rgba(255, 104, 0, 0.5)\",\"line\":{\"color\":\"rgba(255, 104, 0, 0.5)\"},\"type\":\"circle\",\"x0\":0.9175612682660255,\"x1\":1.3175612682660254,\"xref\":\"x\",\"y0\":0.4911214540860955,\"y1\":0.8911214540860954,\"yref\":\"y\"},{\"fillcolor\":\"rgba(0, 0, 187, 0.5)\",\"line\":{\"color\":\"rgba(0, 0, 187, 0.5)\"},\"type\":\"circle\",\"x0\":1.0267134983891046,\"x1\":1.4267134983891046,\"xref\":\"x\",\"y0\":1.5562348727818909,\"y1\":1.9562348727818908,\"yref\":\"y\"},{\"fillcolor\":\"rgba(102, 255, 144, 0.5)\",\"line\":{\"color\":\"rgba(102, 255, 144, 0.5)\"},\"type\":\"circle\",\"x0\":0.6423216315714027,\"x1\":1.0423216315714026,\"xref\":\"x\",\"y0\":0.19620297816975757,\"y1\":0.5962029781697575,\"yref\":\"y\"},{\"fillcolor\":\"rgba(128, 0, 0, 0.5)\",\"line\":{\"color\":\"rgba(128, 0, 0, 0.5)\"},\"type\":\"circle\",\"x0\":1.680545068955457,\"x1\":2.080545068955457,\"xref\":\"x\",\"y0\":1.1846452313386282,\"y1\":1.5846452313386281,\"yref\":\"y\"},{\"fillcolor\":\"rgba(0, 0, 146, 0.5)\",\"line\":{\"color\":\"rgba(0, 0, 146, 0.5)\"},\"type\":\"circle\",\"x0\":5.058334913776229,\"x1\":5.45833491377623,\"xref\":\"x\",\"y0\":1.5892133270076947,\"y1\":1.9892133270076946,\"yref\":\"y\"},{\"fillcolor\":\"rgba(0, 0, 237, 0.5)\",\"line\":{\"color\":\"rgba(0, 0, 237, 0.5)\"},\"type\":\"circle\",\"x0\":0.39008100299830056,\"x1\":0.7900810029983005,\"xref\":\"x\",\"y0\":0.6422152500101044,\"y1\":1.0422152500101043,\"yref\":\"y\"},{\"fillcolor\":\"rgba(255, 52, 0, 0.5)\",\"line\":{\"color\":\"rgba(255, 52, 0, 0.5)\"},\"type\":\"circle\",\"x0\":5.547337180903011,\"x1\":5.947337180903012,\"xref\":\"x\",\"y0\":0.8663305699460342,\"y1\":1.266330569946034,\"yref\":\"y\"},{\"fillcolor\":\"rgba(0, 0, 218, 0.5)\",\"line\":{\"color\":\"rgba(0, 0, 218, 0.5)\"},\"type\":\"circle\",\"x0\":3.95126268370284,\"x1\":4.35126268370284,\"xref\":\"x\",\"y0\":0.4310312620121259,\"y1\":0.8310312620121258,\"yref\":\"y\"},{\"fillcolor\":\"rgba(0, 0, 228, 0.5)\",\"line\":{\"color\":\"rgba(0, 0, 228, 0.5)\"},\"type\":\"circle\",\"x0\":3.919005566089502,\"x1\":4.319005566089502,\"xref\":\"x\",\"y0\":1.4692513437947459,\"y1\":1.8692513437947458,\"yref\":\"y\"},{\"line\":{\"color\":\"white\",\"width\":3},\"type\":\"line\",\"x0\":2.502132028215444,\"x1\":2.502132028215444,\"y0\":1.4406489868843162,\"y1\":1.4406489868843162},{\"line\":{\"color\":\"black\",\"width\":3},\"type\":\"line\",\"x0\":1.1175612682660254,\"x1\":1.1175612682660254,\"y0\":0.6911214540860955,\"y1\":0.6911214540860955},{\"line\":{\"color\":\"white\",\"width\":3},\"type\":\"line\",\"x0\":1.2267134983891046,\"x1\":1.2267134983891046,\"y0\":1.7562348727818908,\"y1\":1.7562348727818908},{\"line\":{\"color\":\"black\",\"width\":3},\"type\":\"line\",\"x0\":0.8423216315714026,\"x1\":0.8423216315714026,\"y0\":0.3962029781697576,\"y1\":0.3962029781697576},{\"line\":{\"color\":\"white\",\"width\":3},\"type\":\"line\",\"x0\":1.880545068955457,\"x1\":1.880545068955457,\"y0\":1.3846452313386282,\"y1\":1.3846452313386282},{\"line\":{\"color\":\"white\",\"width\":3},\"type\":\"line\",\"x0\":5.258334913776229,\"x1\":5.258334913776229,\"y0\":1.7892133270076946,\"y1\":1.7892133270076946},{\"line\":{\"color\":\"white\",\"width\":3},\"type\":\"line\",\"x0\":0.5900810029983006,\"x1\":0.5900810029983006,\"y0\":0.8422152500101043,\"y1\":0.8422152500101043},{\"line\":{\"color\":\"white\",\"width\":3},\"type\":\"line\",\"x0\":5.747337180903012,\"x1\":5.747337180903012,\"y0\":1.0663305699460341,\"y1\":1.0663305699460341},{\"line\":{\"color\":\"white\",\"width\":3},\"type\":\"line\",\"x0\":4.15126268370284,\"x1\":4.15126268370284,\"y0\":0.6310312620121259,\"y1\":0.6310312620121259},{\"line\":{\"color\":\"white\",\"width\":3},\"type\":\"line\",\"x0\":4.119005566089502,\"x1\":4.119005566089502,\"y0\":1.6692513437947458,\"y1\":1.6692513437947458}],\"title\":{\"text\":\"\\u003cb\\u003eNumber of Agents: 10\\u003c\\u002fb\\u003e\",\"x\":0.5},\"template\":{\"data\":{\"histogram2dcontour\":[{\"type\":\"histogram2dcontour\",\"colorbar\":{\"outlinewidth\":0,\"ticks\":\"\"},\"colorscale\":[[0.0,\"#0d0887\"],[0.1111111111111111,\"#46039f\"],[0.2222222222222222,\"#7201a8\"],[0.3333333333333333,\"#9c179e\"],[0.4444444444444444,\"#bd3786\"],[0.5555555555555556,\"#d8576b\"],[0.6666666666666666,\"#ed7953\"],[0.7777777777777778,\"#fb9f3a\"],[0.8888888888888888,\"#fdca26\"],[1.0,\"#f0f921\"]]}],\"choropleth\":[{\"type\":\"choropleth\",\"colorbar\":{\"outlinewidth\":0,\"ticks\":\"\"}}],\"histogram2d\":[{\"type\":\"histogram2d\",\"colorbar\":{\"outlinewidth\":0,\"ticks\":\"\"},\"colorscale\":[[0.0,\"#0d0887\"],[0.1111111111111111,\"#46039f\"],[0.2222222222222222,\"#7201a8\"],[0.3333333333333333,\"#9c179e\"],[0.4444444444444444,\"#bd3786\"],[0.5555555555555556,\"#d8576b\"],[0.6666666666666666,\"#ed7953\"],[0.7777777777777778,\"#fb9f3a\"],[0.8888888888888888,\"#fdca26\"],[1.0,\"#f0f921\"]]}],\"heatmap\":[{\"type\":\"heatmap\",\"colorbar\":{\"outlinewidth\":0,\"ticks\":\"\"},\"colorscale\":[[0.0,\"#0d0887\"],[0.1111111111111111,\"#46039f\"],[0.2222222222222222,\"#7201a8\"],[0.3333333333333333,\"#9c179e\"],[0.4444444444444444,\"#bd3786\"],[0.5555555555555556,\"#d8576b\"],[0.6666666666666666,\"#ed7953\"],[0.7777777777777778,\"#fb9f3a\"],[0.8888888888888888,\"#fdca26\"],[1.0,\"#f0f921\"]]}],\"heatmapgl\":[{\"type\":\"heatmapgl\",\"colorbar\":{\"outlinewidth\":0,\"ticks\":\"\"},\"colorscale\":[[0.0,\"#0d0887\"],[0.1111111111111111,\"#46039f\"],[0.2222222222222222,\"#7201a8\"],[0.3333333333333333,\"#9c179e\"],[0.4444444444444444,\"#bd3786\"],[0.5555555555555556,\"#d8576b\"],[0.6666666666666666,\"#ed7953\"],[0.7777777777777778,\"#fb9f3a\"],[0.8888888888888888,\"#fdca26\"],[1.0,\"#f0f921\"]]}],\"contourcarpet\":[{\"type\":\"contourcarpet\",\"colorbar\":{\"outlinewidth\":0,\"ticks\":\"\"}}],\"contour\":[{\"type\":\"contour\",\"colorbar\":{\"outlinewidth\":0,\"ticks\":\"\"},\"colorscale\":[[0.0,\"#0d0887\"],[0.1111111111111111,\"#46039f\"],[0.2222222222222222,\"#7201a8\"],[0.3333333333333333,\"#9c179e\"],[0.4444444444444444,\"#bd3786\"],[0.5555555555555556,\"#d8576b\"],[0.6666666666666666,\"#ed7953\"],[0.7777777777777778,\"#fb9f3a\"],[0.8888888888888888,\"#fdca26\"],[1.0,\"#f0f921\"]]}],\"surface\":[{\"type\":\"surface\",\"colorbar\":{\"outlinewidth\":0,\"ticks\":\"\"},\"colorscale\":[[0.0,\"#0d0887\"],[0.1111111111111111,\"#46039f\"],[0.2222222222222222,\"#7201a8\"],[0.3333333333333333,\"#9c179e\"],[0.4444444444444444,\"#bd3786\"],[0.5555555555555556,\"#d8576b\"],[0.6666666666666666,\"#ed7953\"],[0.7777777777777778,\"#fb9f3a\"],[0.8888888888888888,\"#fdca26\"],[1.0,\"#f0f921\"]]}],\"mesh3d\":[{\"type\":\"mesh3d\",\"colorbar\":{\"outlinewidth\":0,\"ticks\":\"\"}}],\"scatter\":[{\"fillpattern\":{\"fillmode\":\"overlay\",\"size\":10,\"solidity\":0.2},\"type\":\"scatter\"}],\"parcoords\":[{\"type\":\"parcoords\",\"line\":{\"colorbar\":{\"outlinewidth\":0,\"ticks\":\"\"}}}],\"scatterpolargl\":[{\"type\":\"scatterpolargl\",\"marker\":{\"colorbar\":{\"outlinewidth\":0,\"ticks\":\"\"}}}],\"bar\":[{\"error_x\":{\"color\":\"#2a3f5f\"},\"error_y\":{\"color\":\"#2a3f5f\"},\"marker\":{\"line\":{\"color\":\"#E5ECF6\",\"width\":0.5},\"pattern\":{\"fillmode\":\"overlay\",\"size\":10,\"solidity\":0.2}},\"type\":\"bar\"}],\"scattergeo\":[{\"type\":\"scattergeo\",\"marker\":{\"colorbar\":{\"outlinewidth\":0,\"ticks\":\"\"}}}],\"scatterpolar\":[{\"type\":\"scatterpolar\",\"marker\":{\"colorbar\":{\"outlinewidth\":0,\"ticks\":\"\"}}}],\"histogram\":[{\"marker\":{\"pattern\":{\"fillmode\":\"overlay\",\"size\":10,\"solidity\":0.2}},\"type\":\"histogram\"}],\"scattergl\":[{\"type\":\"scattergl\",\"marker\":{\"colorbar\":{\"outlinewidth\":0,\"ticks\":\"\"}}}],\"scatter3d\":[{\"type\":\"scatter3d\",\"line\":{\"colorbar\":{\"outlinewidth\":0,\"ticks\":\"\"}},\"marker\":{\"colorbar\":{\"outlinewidth\":0,\"ticks\":\"\"}}}],\"scattermapbox\":[{\"type\":\"scattermapbox\",\"marker\":{\"colorbar\":{\"outlinewidth\":0,\"ticks\":\"\"}}}],\"scatterternary\":[{\"type\":\"scatterternary\",\"marker\":{\"colorbar\":{\"outlinewidth\":0,\"ticks\":\"\"}}}],\"scattercarpet\":[{\"type\":\"scattercarpet\",\"marker\":{\"colorbar\":{\"outlinewidth\":0,\"ticks\":\"\"}}}],\"carpet\":[{\"aaxis\":{\"endlinecolor\":\"#2a3f5f\",\"gridcolor\":\"white\",\"linecolor\":\"white\",\"minorgridcolor\":\"white\",\"startlinecolor\":\"#2a3f5f\"},\"baxis\":{\"endlinecolor\":\"#2a3f5f\",\"gridcolor\":\"white\",\"linecolor\":\"white\",\"minorgridcolor\":\"white\",\"startlinecolor\":\"#2a3f5f\"},\"type\":\"carpet\"}],\"table\":[{\"cells\":{\"fill\":{\"color\":\"#EBF0F8\"},\"line\":{\"color\":\"white\"}},\"header\":{\"fill\":{\"color\":\"#C8D4E3\"},\"line\":{\"color\":\"white\"}},\"type\":\"table\"}],\"barpolar\":[{\"marker\":{\"line\":{\"color\":\"#E5ECF6\",\"width\":0.5},\"pattern\":{\"fillmode\":\"overlay\",\"size\":10,\"solidity\":0.2}},\"type\":\"barpolar\"}],\"pie\":[{\"automargin\":true,\"type\":\"pie\"}]},\"layout\":{\"autotypenumbers\":\"strict\",\"colorway\":[\"#636efa\",\"#EF553B\",\"#00cc96\",\"#ab63fa\",\"#FFA15A\",\"#19d3f3\",\"#FF6692\",\"#B6E880\",\"#FF97FF\",\"#FECB52\"],\"font\":{\"color\":\"#2a3f5f\"},\"hovermode\":\"closest\",\"hoverlabel\":{\"align\":\"left\"},\"paper_bgcolor\":\"white\",\"plot_bgcolor\":\"#E5ECF6\",\"polar\":{\"bgcolor\":\"#E5ECF6\",\"angularaxis\":{\"gridcolor\":\"white\",\"linecolor\":\"white\",\"ticks\":\"\"},\"radialaxis\":{\"gridcolor\":\"white\",\"linecolor\":\"white\",\"ticks\":\"\"}},\"ternary\":{\"bgcolor\":\"#E5ECF6\",\"aaxis\":{\"gridcolor\":\"white\",\"linecolor\":\"white\",\"ticks\":\"\"},\"baxis\":{\"gridcolor\":\"white\",\"linecolor\":\"white\",\"ticks\":\"\"},\"caxis\":{\"gridcolor\":\"white\",\"linecolor\":\"white\",\"ticks\":\"\"}},\"coloraxis\":{\"colorbar\":{\"outlinewidth\":0,\"ticks\":\"\"}},\"colorscale\":{\"sequential\":[[0.0,\"#0d0887\"],[0.1111111111111111,\"#46039f\"],[0.2222222222222222,\"#7201a8\"],[0.3333333333333333,\"#9c179e\"],[0.4444444444444444,\"#bd3786\"],[0.5555555555555556,\"#d8576b\"],[0.6666666666666666,\"#ed7953\"],[0.7777777777777778,\"#fb9f3a\"],[0.8888888888888888,\"#fdca26\"],[1.0,\"#f0f921\"]],\"sequentialminus\":[[0.0,\"#0d0887\"],[0.1111111111111111,\"#46039f\"],[0.2222222222222222,\"#7201a8\"],[0.3333333333333333,\"#9c179e\"],[0.4444444444444444,\"#bd3786\"],[0.5555555555555556,\"#d8576b\"],[0.6666666666666666,\"#ed7953\"],[0.7777777777777778,\"#fb9f3a\"],[0.8888888888888888,\"#fdca26\"],[1.0,\"#f0f921\"]],\"diverging\":[[0,\"#8e0152\"],[0.1,\"#c51b7d\"],[0.2,\"#de77ae\"],[0.3,\"#f1b6da\"],[0.4,\"#fde0ef\"],[0.5,\"#f7f7f7\"],[0.6,\"#e6f5d0\"],[0.7,\"#b8e186\"],[0.8,\"#7fbc41\"],[0.9,\"#4d9221\"],[1,\"#276419\"]]},\"xaxis\":{\"gridcolor\":\"white\",\"linecolor\":\"white\",\"ticks\":\"\",\"title\":{\"standoff\":15},\"zerolinecolor\":\"white\",\"automargin\":true,\"zerolinewidth\":2},\"yaxis\":{\"gridcolor\":\"white\",\"linecolor\":\"white\",\"ticks\":\"\",\"title\":{\"standoff\":15},\"zerolinecolor\":\"white\",\"automargin\":true,\"zerolinewidth\":2},\"scene\":{\"xaxis\":{\"backgroundcolor\":\"#E5ECF6\",\"gridcolor\":\"white\",\"linecolor\":\"white\",\"showbackground\":true,\"ticks\":\"\",\"zerolinecolor\":\"white\",\"gridwidth\":2},\"yaxis\":{\"backgroundcolor\":\"#E5ECF6\",\"gridcolor\":\"white\",\"linecolor\":\"white\",\"showbackground\":true,\"ticks\":\"\",\"zerolinecolor\":\"white\",\"gridwidth\":2},\"zaxis\":{\"backgroundcolor\":\"#E5ECF6\",\"gridcolor\":\"white\",\"linecolor\":\"white\",\"showbackground\":true,\"ticks\":\"\",\"zerolinecolor\":\"white\",\"gridwidth\":2}},\"shapedefaults\":{\"line\":{\"color\":\"#2a3f5f\"}},\"annotationdefaults\":{\"arrowcolor\":\"#2a3f5f\",\"arrowhead\":0,\"arrowwidth\":1},\"geo\":{\"bgcolor\":\"white\",\"landcolor\":\"#E5ECF6\",\"subunitcolor\":\"white\",\"showland\":true,\"showlakes\":true,\"lakecolor\":\"white\"},\"title\":{\"x\":0.05},\"mapbox\":{\"style\":\"light\"}}},\"xaxis\":{\"range\":[-10.5,10.5]},\"yaxis\":{\"scaleanchor\":\"x\",\"scaleratio\":1,\"range\":[-10.5,10.5]},\"updatemenus\":[{\"buttons\":[{\"args\":[null,{\"frame\":{\"duration\":100,\"redraw\":true},\"fromcurrent\":true}],\"label\":\"Play\",\"method\":\"animate\"}],\"direction\":\"left\",\"pad\":{\"r\":10,\"t\":87},\"showactive\":false,\"type\":\"buttons\",\"x\":0.1,\"xanchor\":\"right\",\"y\":0,\"yanchor\":\"top\"}],\"sliders\":[{\"active\":0,\"currentvalue\":{\"font\":{\"size\":20},\"prefix\":\"Frame:\",\"visible\":true,\"xanchor\":\"right\"},\"len\":0.9,\"pad\":{\"b\":10,\"t\":50},\"steps\":[{\"args\":[[\"0\"],{\"frame\":{\"duration\":100,\"redraw\":true},\"mode\":\"immediate\",\"transition\":{\"duration\":500}}],\"label\":\"0\",\"method\":\"animate\"},{\"args\":[[\"5\"],{\"frame\":{\"duration\":100,\"redraw\":true},\"mode\":\"immediate\",\"transition\":{\"duration\":500}}],\"label\":\"5\",\"method\":\"animate\"},{\"args\":[[\"10\"],{\"frame\":{\"duration\":100,\"redraw\":true},\"mode\":\"immediate\",\"transition\":{\"duration\":500}}],\"label\":\"10\",\"method\":\"animate\"},{\"args\":[[\"15\"],{\"frame\":{\"duration\":100,\"redraw\":true},\"mode\":\"immediate\",\"transition\":{\"duration\":500}}],\"label\":\"15\",\"method\":\"animate\"},{\"args\":[[\"20\"],{\"frame\":{\"duration\":100,\"redraw\":true},\"mode\":\"immediate\",\"transition\":{\"duration\":500}}],\"label\":\"20\",\"method\":\"animate\"},{\"args\":[[\"25\"],{\"frame\":{\"duration\":100,\"redraw\":true},\"mode\":\"immediate\",\"transition\":{\"duration\":500}}],\"label\":\"25\",\"method\":\"animate\"},{\"args\":[[\"30\"],{\"frame\":{\"duration\":100,\"redraw\":true},\"mode\":\"immediate\",\"transition\":{\"duration\":500}}],\"label\":\"30\",\"method\":\"animate\"},{\"args\":[[\"35\"],{\"frame\":{\"duration\":100,\"redraw\":true},\"mode\":\"immediate\",\"transition\":{\"duration\":500}}],\"label\":\"35\",\"method\":\"animate\"},{\"args\":[[\"40\"],{\"frame\":{\"duration\":100,\"redraw\":true},\"mode\":\"immediate\",\"transition\":{\"duration\":500}}],\"label\":\"40\",\"method\":\"animate\"},{\"args\":[[\"45\"],{\"frame\":{\"duration\":100,\"redraw\":true},\"mode\":\"immediate\",\"transition\":{\"duration\":500}}],\"label\":\"45\",\"method\":\"animate\"},{\"args\":[[\"50\"],{\"frame\":{\"duration\":100,\"redraw\":true},\"mode\":\"immediate\",\"transition\":{\"duration\":500}}],\"label\":\"50\",\"method\":\"animate\"},{\"args\":[[\"55\"],{\"frame\":{\"duration\":100,\"redraw\":true},\"mode\":\"immediate\",\"transition\":{\"duration\":500}}],\"label\":\"55\",\"method\":\"animate\"},{\"args\":[[\"60\"],{\"frame\":{\"duration\":100,\"redraw\":true},\"mode\":\"immediate\",\"transition\":{\"duration\":500}}],\"label\":\"60\",\"method\":\"animate\"},{\"args\":[[\"65\"],{\"frame\":{\"duration\":100,\"redraw\":true},\"mode\":\"immediate\",\"transition\":{\"duration\":500}}],\"label\":\"65\",\"method\":\"animate\"},{\"args\":[[\"70\"],{\"frame\":{\"duration\":100,\"redraw\":true},\"mode\":\"immediate\",\"transition\":{\"duration\":500}}],\"label\":\"70\",\"method\":\"animate\"},{\"args\":[[\"75\"],{\"frame\":{\"duration\":100,\"redraw\":true},\"mode\":\"immediate\",\"transition\":{\"duration\":500}}],\"label\":\"75\",\"method\":\"animate\"},{\"args\":[[\"80\"],{\"frame\":{\"duration\":100,\"redraw\":true},\"mode\":\"immediate\",\"transition\":{\"duration\":500}}],\"label\":\"80\",\"method\":\"animate\"},{\"args\":[[\"85\"],{\"frame\":{\"duration\":100,\"redraw\":true},\"mode\":\"immediate\",\"transition\":{\"duration\":500}}],\"label\":\"85\",\"method\":\"animate\"},{\"args\":[[\"90\"],{\"frame\":{\"duration\":100,\"redraw\":true},\"mode\":\"immediate\",\"transition\":{\"duration\":500}}],\"label\":\"90\",\"method\":\"animate\"},{\"args\":[[\"95\"],{\"frame\":{\"duration\":100,\"redraw\":true},\"mode\":\"immediate\",\"transition\":{\"duration\":500}}],\"label\":\"95\",\"method\":\"animate\"},{\"args\":[[\"100\"],{\"frame\":{\"duration\":100,\"redraw\":true},\"mode\":\"immediate\",\"transition\":{\"duration\":500}}],\"label\":\"100\",\"method\":\"animate\"},{\"args\":[[\"105\"],{\"frame\":{\"duration\":100,\"redraw\":true},\"mode\":\"immediate\",\"transition\":{\"duration\":500}}],\"label\":\"105\",\"method\":\"animate\"},{\"args\":[[\"110\"],{\"frame\":{\"duration\":100,\"redraw\":true},\"mode\":\"immediate\",\"transition\":{\"duration\":500}}],\"label\":\"110\",\"method\":\"animate\"},{\"args\":[[\"115\"],{\"frame\":{\"duration\":100,\"redraw\":true},\"mode\":\"immediate\",\"transition\":{\"duration\":500}}],\"label\":\"115\",\"method\":\"animate\"},{\"args\":[[\"120\"],{\"frame\":{\"duration\":100,\"redraw\":true},\"mode\":\"immediate\",\"transition\":{\"duration\":500}}],\"label\":\"120\",\"method\":\"animate\"},{\"args\":[[\"125\"],{\"frame\":{\"duration\":100,\"redraw\":true},\"mode\":\"immediate\",\"transition\":{\"duration\":500}}],\"label\":\"125\",\"method\":\"animate\"},{\"args\":[[\"130\"],{\"frame\":{\"duration\":100,\"redraw\":true},\"mode\":\"immediate\",\"transition\":{\"duration\":500}}],\"label\":\"130\",\"method\":\"animate\"},{\"args\":[[\"135\"],{\"frame\":{\"duration\":100,\"redraw\":true},\"mode\":\"immediate\",\"transition\":{\"duration\":500}}],\"label\":\"135\",\"method\":\"animate\"},{\"args\":[[\"140\"],{\"frame\":{\"duration\":100,\"redraw\":true},\"mode\":\"immediate\",\"transition\":{\"duration\":500}}],\"label\":\"140\",\"method\":\"animate\"},{\"args\":[[\"145\"],{\"frame\":{\"duration\":100,\"redraw\":true},\"mode\":\"immediate\",\"transition\":{\"duration\":500}}],\"label\":\"145\",\"method\":\"animate\"},{\"args\":[[\"150\"],{\"frame\":{\"duration\":100,\"redraw\":true},\"mode\":\"immediate\",\"transition\":{\"duration\":500}}],\"label\":\"150\",\"method\":\"animate\"},{\"args\":[[\"155\"],{\"frame\":{\"duration\":100,\"redraw\":true},\"mode\":\"immediate\",\"transition\":{\"duration\":500}}],\"label\":\"155\",\"method\":\"animate\"},{\"args\":[[\"160\"],{\"frame\":{\"duration\":100,\"redraw\":true},\"mode\":\"immediate\",\"transition\":{\"duration\":500}}],\"label\":\"160\",\"method\":\"animate\"},{\"args\":[[\"165\"],{\"frame\":{\"duration\":100,\"redraw\":true},\"mode\":\"immediate\",\"transition\":{\"duration\":500}}],\"label\":\"165\",\"method\":\"animate\"},{\"args\":[[\"170\"],{\"frame\":{\"duration\":100,\"redraw\":true},\"mode\":\"immediate\",\"transition\":{\"duration\":500}}],\"label\":\"170\",\"method\":\"animate\"},{\"args\":[[\"175\"],{\"frame\":{\"duration\":100,\"redraw\":true},\"mode\":\"immediate\",\"transition\":{\"duration\":500}}],\"label\":\"175\",\"method\":\"animate\"},{\"args\":[[\"180\"],{\"frame\":{\"duration\":100,\"redraw\":true},\"mode\":\"immediate\",\"transition\":{\"duration\":500}}],\"label\":\"180\",\"method\":\"animate\"},{\"args\":[[\"185\"],{\"frame\":{\"duration\":100,\"redraw\":true},\"mode\":\"immediate\",\"transition\":{\"duration\":500}}],\"label\":\"185\",\"method\":\"animate\"},{\"args\":[[\"190\"],{\"frame\":{\"duration\":100,\"redraw\":true},\"mode\":\"immediate\",\"transition\":{\"duration\":500}}],\"label\":\"190\",\"method\":\"animate\"},{\"args\":[[\"195\"],{\"frame\":{\"duration\":100,\"redraw\":true},\"mode\":\"immediate\",\"transition\":{\"duration\":500}}],\"label\":\"195\",\"method\":\"animate\"},{\"args\":[[\"200\"],{\"frame\":{\"duration\":100,\"redraw\":true},\"mode\":\"immediate\",\"transition\":{\"duration\":500}}],\"label\":\"200\",\"method\":\"animate\"},{\"args\":[[\"205\"],{\"frame\":{\"duration\":100,\"redraw\":true},\"mode\":\"immediate\",\"transition\":{\"duration\":500}}],\"label\":\"205\",\"method\":\"animate\"},{\"args\":[[\"210\"],{\"frame\":{\"duration\":100,\"redraw\":true},\"mode\":\"immediate\",\"transition\":{\"duration\":500}}],\"label\":\"210\",\"method\":\"animate\"},{\"args\":[[\"215\"],{\"frame\":{\"duration\":100,\"redraw\":true},\"mode\":\"immediate\",\"transition\":{\"duration\":500}}],\"label\":\"215\",\"method\":\"animate\"}],\"transition\":{\"duration\":100,\"easing\":\"cubic-in-out\"},\"x\":0.1,\"xanchor\":\"left\",\"y\":0,\"yanchor\":\"top\"}],\"autosize\":false,\"width\":800,\"height\":800},                        {\"responsive\": true}                    ).then(function(){\n",
       "                            Plotly.addFrames('bae66baf-622f-4937-9555-61233d5b81ec', [{\"data\":[{\"hoverinfo\":\"name\",\"line\":{\"color\":\"grey\"},\"mode\":\"lines\",\"name\":\"Exterior\",\"showlegend\":false,\"x\":[-10.0,-10.0,10.0,10.0,-10.0],\"y\":[10.0,-10.0,-10.0,10.0,10.0],\"type\":\"scatter\"},{\"hoverinfo\":\"text\",\"marker\":{\"opacity\":1,\"size\":1},\"mode\":\"markers\",\"showlegend\":false,\"text\":[\"ID: 1, Pos(2.50,1.44)\"],\"x\":[2.502132028215444],\"y\":[1.4406489868843162],\"type\":\"scatter\"},{\"hoverinfo\":\"text\",\"marker\":{\"opacity\":1,\"size\":1},\"mode\":\"markers\",\"showlegend\":false,\"text\":[\"ID: 2, Pos(1.12,0.69)\"],\"x\":[1.1175612682660254],\"y\":[0.6911214540860955],\"type\":\"scatter\"},{\"hoverinfo\":\"text\",\"marker\":{\"opacity\":1,\"size\":1},\"mode\":\"markers\",\"showlegend\":false,\"text\":[\"ID: 3, Pos(1.23,1.76)\"],\"x\":[1.2267134983891046],\"y\":[1.7562348727818908],\"type\":\"scatter\"},{\"hoverinfo\":\"text\",\"marker\":{\"opacity\":1,\"size\":1},\"mode\":\"markers\",\"showlegend\":false,\"text\":[\"ID: 4, Pos(0.84,0.40)\"],\"x\":[0.8423216315714026],\"y\":[0.3962029781697576],\"type\":\"scatter\"},{\"hoverinfo\":\"text\",\"marker\":{\"opacity\":1,\"size\":1},\"mode\":\"markers\",\"showlegend\":false,\"text\":[\"ID: 5, Pos(1.88,1.38)\"],\"x\":[1.880545068955457],\"y\":[1.3846452313386282],\"type\":\"scatter\"},{\"hoverinfo\":\"text\",\"marker\":{\"opacity\":1,\"size\":1},\"mode\":\"markers\",\"showlegend\":false,\"text\":[\"ID: 6, Pos(5.26,1.79)\"],\"x\":[5.258334913776229],\"y\":[1.7892133270076946],\"type\":\"scatter\"},{\"hoverinfo\":\"text\",\"marker\":{\"opacity\":1,\"size\":1},\"mode\":\"markers\",\"showlegend\":false,\"text\":[\"ID: 7, Pos(0.59,0.84)\"],\"x\":[0.5900810029983006],\"y\":[0.8422152500101043],\"type\":\"scatter\"},{\"hoverinfo\":\"text\",\"marker\":{\"opacity\":1,\"size\":1},\"mode\":\"markers\",\"showlegend\":false,\"text\":[\"ID: 8, Pos(5.75,1.07)\"],\"x\":[5.747337180903012],\"y\":[1.0663305699460341],\"type\":\"scatter\"},{\"hoverinfo\":\"text\",\"marker\":{\"opacity\":1,\"size\":1},\"mode\":\"markers\",\"showlegend\":false,\"text\":[\"ID: 9, Pos(4.15,0.63)\"],\"x\":[4.15126268370284],\"y\":[0.6310312620121259],\"type\":\"scatter\"},{\"hoverinfo\":\"text\",\"marker\":{\"opacity\":1,\"size\":1},\"mode\":\"markers\",\"showlegend\":false,\"text\":[\"ID: 10, Pos(4.12,1.67)\"],\"x\":[4.119005566089502],\"y\":[1.6692513437947458],\"type\":\"scatter\"}],\"layout\":{\"shapes\":[{\"fillcolor\":\"rgba(0, 0, 146, 0.5)\",\"line\":{\"color\":\"rgba(0, 0, 146, 0.5)\"},\"type\":\"circle\",\"x0\":2.3021320282154436,\"x1\":2.702132028215444,\"xref\":\"x\",\"y0\":1.2406489868843162,\"y1\":1.6406489868843162,\"yref\":\"y\"},{\"fillcolor\":\"rgba(255, 104, 0, 0.5)\",\"line\":{\"color\":\"rgba(255, 104, 0, 0.5)\"},\"type\":\"circle\",\"x0\":0.9175612682660255,\"x1\":1.3175612682660254,\"xref\":\"x\",\"y0\":0.4911214540860955,\"y1\":0.8911214540860954,\"yref\":\"y\"},{\"fillcolor\":\"rgba(0, 0, 187, 0.5)\",\"line\":{\"color\":\"rgba(0, 0, 187, 0.5)\"},\"type\":\"circle\",\"x0\":1.0267134983891046,\"x1\":1.4267134983891046,\"xref\":\"x\",\"y0\":1.5562348727818909,\"y1\":1.9562348727818908,\"yref\":\"y\"},{\"fillcolor\":\"rgba(102, 255, 144, 0.5)\",\"line\":{\"color\":\"rgba(102, 255, 144, 0.5)\"},\"type\":\"circle\",\"x0\":0.6423216315714027,\"x1\":1.0423216315714026,\"xref\":\"x\",\"y0\":0.19620297816975757,\"y1\":0.5962029781697575,\"yref\":\"y\"},{\"fillcolor\":\"rgba(128, 0, 0, 0.5)\",\"line\":{\"color\":\"rgba(128, 0, 0, 0.5)\"},\"type\":\"circle\",\"x0\":1.680545068955457,\"x1\":2.080545068955457,\"xref\":\"x\",\"y0\":1.1846452313386282,\"y1\":1.5846452313386281,\"yref\":\"y\"},{\"fillcolor\":\"rgba(0, 0, 146, 0.5)\",\"line\":{\"color\":\"rgba(0, 0, 146, 0.5)\"},\"type\":\"circle\",\"x0\":5.058334913776229,\"x1\":5.45833491377623,\"xref\":\"x\",\"y0\":1.5892133270076947,\"y1\":1.9892133270076946,\"yref\":\"y\"},{\"fillcolor\":\"rgba(0, 0, 237, 0.5)\",\"line\":{\"color\":\"rgba(0, 0, 237, 0.5)\"},\"type\":\"circle\",\"x0\":0.39008100299830056,\"x1\":0.7900810029983005,\"xref\":\"x\",\"y0\":0.6422152500101044,\"y1\":1.0422152500101043,\"yref\":\"y\"},{\"fillcolor\":\"rgba(255, 52, 0, 0.5)\",\"line\":{\"color\":\"rgba(255, 52, 0, 0.5)\"},\"type\":\"circle\",\"x0\":5.547337180903011,\"x1\":5.947337180903012,\"xref\":\"x\",\"y0\":0.8663305699460342,\"y1\":1.266330569946034,\"yref\":\"y\"},{\"fillcolor\":\"rgba(0, 0, 218, 0.5)\",\"line\":{\"color\":\"rgba(0, 0, 218, 0.5)\"},\"type\":\"circle\",\"x0\":3.95126268370284,\"x1\":4.35126268370284,\"xref\":\"x\",\"y0\":0.4310312620121259,\"y1\":0.8310312620121258,\"yref\":\"y\"},{\"fillcolor\":\"rgba(0, 0, 228, 0.5)\",\"line\":{\"color\":\"rgba(0, 0, 228, 0.5)\"},\"type\":\"circle\",\"x0\":3.919005566089502,\"x1\":4.319005566089502,\"xref\":\"x\",\"y0\":1.4692513437947459,\"y1\":1.8692513437947458,\"yref\":\"y\"},{\"line\":{\"color\":\"white\",\"width\":3},\"type\":\"line\",\"x0\":2.502132028215444,\"x1\":2.502132028215444,\"y0\":1.4406489868843162,\"y1\":1.4406489868843162},{\"line\":{\"color\":\"black\",\"width\":3},\"type\":\"line\",\"x0\":1.1175612682660254,\"x1\":1.1175612682660254,\"y0\":0.6911214540860955,\"y1\":0.6911214540860955},{\"line\":{\"color\":\"white\",\"width\":3},\"type\":\"line\",\"x0\":1.2267134983891046,\"x1\":1.2267134983891046,\"y0\":1.7562348727818908,\"y1\":1.7562348727818908},{\"line\":{\"color\":\"black\",\"width\":3},\"type\":\"line\",\"x0\":0.8423216315714026,\"x1\":0.8423216315714026,\"y0\":0.3962029781697576,\"y1\":0.3962029781697576},{\"line\":{\"color\":\"white\",\"width\":3},\"type\":\"line\",\"x0\":1.880545068955457,\"x1\":1.880545068955457,\"y0\":1.3846452313386282,\"y1\":1.3846452313386282},{\"line\":{\"color\":\"white\",\"width\":3},\"type\":\"line\",\"x0\":5.258334913776229,\"x1\":5.258334913776229,\"y0\":1.7892133270076946,\"y1\":1.7892133270076946},{\"line\":{\"color\":\"white\",\"width\":3},\"type\":\"line\",\"x0\":0.5900810029983006,\"x1\":0.5900810029983006,\"y0\":0.8422152500101043,\"y1\":0.8422152500101043},{\"line\":{\"color\":\"white\",\"width\":3},\"type\":\"line\",\"x0\":5.747337180903012,\"x1\":5.747337180903012,\"y0\":1.0663305699460341,\"y1\":1.0663305699460341},{\"line\":{\"color\":\"white\",\"width\":3},\"type\":\"line\",\"x0\":4.15126268370284,\"x1\":4.15126268370284,\"y0\":0.6310312620121259,\"y1\":0.6310312620121259},{\"line\":{\"color\":\"white\",\"width\":3},\"type\":\"line\",\"x0\":4.119005566089502,\"x1\":4.119005566089502,\"y0\":1.6692513437947458,\"y1\":1.6692513437947458}],\"title\":{\"text\":\"\\u003cb\\u003eNumber of Agents: 10\\u003c\\u002fb\\u003e\",\"x\":0.5}},\"name\":\"0\"},{\"data\":[{\"hoverinfo\":\"name\",\"line\":{\"color\":\"grey\"},\"mode\":\"lines\",\"name\":\"Exterior\",\"showlegend\":false,\"x\":[-10.0,-10.0,10.0,10.0,-10.0],\"y\":[10.0,-10.0,-10.0,10.0,10.0],\"type\":\"scatter\"},{\"hoverinfo\":\"text\",\"marker\":{\"opacity\":1,\"size\":1},\"mode\":\"markers\",\"showlegend\":false,\"text\":[\"ID: 1, Pos(2.54,1.71)\"],\"x\":[2.535134567388401],\"y\":[1.7119817868194005],\"type\":\"scatter\"},{\"hoverinfo\":\"text\",\"marker\":{\"opacity\":1,\"size\":1},\"mode\":\"markers\",\"showlegend\":false,\"text\":[\"ID: 2, Pos(1.19,0.79)\"],\"x\":[1.1850994116935325],\"y\":[0.7921805773862615],\"type\":\"scatter\"},{\"hoverinfo\":\"text\",\"marker\":{\"opacity\":1,\"size\":1},\"mode\":\"markers\",\"showlegend\":false,\"text\":[\"ID: 3, Pos(1.16,2.01)\"],\"x\":[1.1602347508469815],\"y\":[2.01443227742197],\"type\":\"scatter\"},{\"hoverinfo\":\"text\",\"marker\":{\"opacity\":1,\"size\":1},\"mode\":\"markers\",\"showlegend\":false,\"text\":[\"ID: 4, Pos(0.67,0.33)\"],\"x\":[0.6709520225002641],\"y\":[0.3277454272536479],\"type\":\"scatter\"},{\"hoverinfo\":\"text\",\"marker\":{\"opacity\":1,\"size\":1},\"mode\":\"markers\",\"showlegend\":false,\"text\":[\"ID: 5, Pos(1.84,1.45)\"],\"x\":[1.8357916715613969],\"y\":[1.4533094293361293],\"type\":\"scatter\"},{\"hoverinfo\":\"text\",\"marker\":{\"opacity\":1,\"size\":1},\"mode\":\"markers\",\"showlegend\":false,\"text\":[\"ID: 6, Pos(5.10,2.01)\"],\"x\":[5.0985605249957695],\"y\":[2.0109496022003834],\"type\":\"scatter\"},{\"hoverinfo\":\"text\",\"marker\":{\"opacity\":1,\"size\":1},\"mode\":\"markers\",\"showlegend\":false,\"text\":[\"ID: 7, Pos(0.48,1.08)\"],\"x\":[0.477688713205205],\"y\":[1.075000959665593],\"type\":\"scatter\"},{\"hoverinfo\":\"text\",\"marker\":{\"opacity\":1,\"size\":1},\"mode\":\"markers\",\"showlegend\":false,\"text\":[\"ID: 8, Pos(5.68,1.16)\"],\"x\":[5.682388657939813],\"y\":[1.1557885206470313],\"type\":\"scatter\"},{\"hoverinfo\":\"text\",\"marker\":{\"opacity\":1,\"size\":1},\"mode\":\"markers\",\"showlegend\":false,\"text\":[\"ID: 9, Pos(4.03,0.86)\"],\"x\":[4.0338726993725516],\"y\":[0.8642855577513079],\"type\":\"scatter\"},{\"hoverinfo\":\"text\",\"marker\":{\"opacity\":1,\"size\":1},\"mode\":\"markers\",\"showlegend\":false,\"text\":[\"ID: 10, Pos(3.99,1.90)\"],\"x\":[3.9921857497935034],\"y\":[1.8957063292427083],\"type\":\"scatter\"}],\"layout\":{\"shapes\":[{\"fillcolor\":\"rgba(0, 0, 150, 0.5)\",\"line\":{\"color\":\"rgba(0, 0, 150, 0.5)\"},\"type\":\"circle\",\"x0\":2.3351345673884008,\"x1\":2.735134567388401,\"xref\":\"x\",\"y0\":1.5119817868194005,\"y1\":1.9119817868194005,\"yref\":\"y\"},{\"fillcolor\":\"rgba(255, 211, 0, 0.5)\",\"line\":{\"color\":\"rgba(255, 211, 0, 0.5)\"},\"type\":\"circle\",\"x0\":0.9850994116935325,\"x1\":1.3850994116935325,\"xref\":\"x\",\"y0\":0.5921805773862614,\"y1\":0.9921805773862615,\"yref\":\"y\"},{\"fillcolor\":\"rgba(0, 0, 187, 0.5)\",\"line\":{\"color\":\"rgba(0, 0, 187, 0.5)\"},\"type\":\"circle\",\"x0\":0.9602347508469815,\"x1\":1.3602347508469814,\"xref\":\"x\",\"y0\":1.81443227742197,\"y1\":2.2144322774219702,\"yref\":\"y\"},{\"fillcolor\":\"rgba(237, 4, 0, 0.5)\",\"line\":{\"color\":\"rgba(237, 4, 0, 0.5)\"},\"type\":\"circle\",\"x0\":0.4709520225002641,\"x1\":0.870952022500264,\"xref\":\"x\",\"y0\":0.1277454272536479,\"y1\":0.5277454272536479,\"yref\":\"y\"},{\"fillcolor\":\"rgba(206, 255, 41, 0.5)\",\"line\":{\"color\":\"rgba(206, 255, 41, 0.5)\"},\"type\":\"circle\",\"x0\":1.635791671561397,\"x1\":2.035791671561397,\"xref\":\"x\",\"y0\":1.2533094293361293,\"y1\":1.6533094293361292,\"yref\":\"y\"},{\"fillcolor\":\"rgba(0, 0, 146, 0.5)\",\"line\":{\"color\":\"rgba(0, 0, 146, 0.5)\"},\"type\":\"circle\",\"x0\":4.898560524995769,\"x1\":5.29856052499577,\"xref\":\"x\",\"y0\":1.8109496022003835,\"y1\":2.2109496022003836,\"yref\":\"y\"},{\"fillcolor\":\"rgba(0, 0, 241, 0.5)\",\"line\":{\"color\":\"rgba(0, 0, 241, 0.5)\"},\"type\":\"circle\",\"x0\":0.277688713205205,\"x1\":0.677688713205205,\"xref\":\"x\",\"y0\":0.875000959665593,\"y1\":1.275000959665593,\"yref\":\"y\"},{\"fillcolor\":\"rgba(255, 122, 0, 0.5)\",\"line\":{\"color\":\"rgba(255, 122, 0, 0.5)\"},\"type\":\"circle\",\"x0\":5.482388657939813,\"x1\":5.8823886579398135,\"xref\":\"x\",\"y0\":0.9557885206470313,\"y1\":1.3557885206470313,\"yref\":\"y\"},{\"fillcolor\":\"rgba(0, 0, 218, 0.5)\",\"line\":{\"color\":\"rgba(0, 0, 218, 0.5)\"},\"type\":\"circle\",\"x0\":3.8338726993725514,\"x1\":4.233872699372552,\"xref\":\"x\",\"y0\":0.6642855577513078,\"y1\":1.064285557751308,\"yref\":\"y\"},{\"fillcolor\":\"rgba(0, 0, 228, 0.5)\",\"line\":{\"color\":\"rgba(0, 0, 228, 0.5)\"},\"type\":\"circle\",\"x0\":3.792185749793503,\"x1\":4.192185749793503,\"xref\":\"x\",\"y0\":1.6957063292427084,\"y1\":2.0957063292427085,\"yref\":\"y\"},{\"line\":{\"color\":\"white\",\"width\":3},\"type\":\"line\",\"x0\":2.535134567388401,\"x1\":2.519635820903795,\"y0\":1.7119817868194005,\"y1\":1.9113803546613133},{\"line\":{\"color\":\"black\",\"width\":3},\"type\":\"line\",\"x0\":1.1850994116935325,\"x1\":1.2488348541229737,\"y0\":0.7921805773862615,\"y1\":0.9817532372777221},{\"line\":{\"color\":\"white\",\"width\":3},\"type\":\"line\",\"x0\":1.1602347508469815,\"x1\":1.119253978125492,\"y0\":2.01443227742197,\"y1\":2.2101886981778414},{\"line\":{\"color\":\"white\",\"width\":3},\"type\":\"line\",\"x0\":0.6709520225002641,\"x1\":0.5453650428697372,\"y0\":0.3277454272536479,\"y1\":0.4833986011605157},{\"line\":{\"color\":\"black\",\"width\":3},\"type\":\"line\",\"x0\":1.8357916715613969,\"x1\":1.7513479105887069,\"y0\":1.4533094293361293,\"y1\":1.6346082192735891},{\"line\":{\"color\":\"white\",\"width\":3},\"type\":\"line\",\"x0\":5.0985605249957695,\"x1\":4.981655127218277,\"y0\":2.0109496022003834,\"y1\":2.173224455367737},{\"line\":{\"color\":\"white\",\"width\":3},\"type\":\"line\",\"x0\":0.477688713205205,\"x1\":0.42798436656371164,\"y0\":1.075000959665593,\"y1\":1.2687262236993329},{\"line\":{\"color\":\"black\",\"width\":3},\"type\":\"line\",\"x0\":5.682388657939813,\"x1\":5.5649930537870205,\"y0\":1.1557885206470313,\"y1\":1.3177090941563934},{\"line\":{\"color\":\"white\",\"width\":3},\"type\":\"line\",\"x0\":4.0338726993725516,\"x1\":3.9439542711751523,\"y0\":0.8642855577513079,\"y1\":1.0429323496914633},{\"line\":{\"color\":\"white\",\"width\":3},\"type\":\"line\",\"x0\":3.9921857497935034,\"x1\":3.894353401212203,\"y0\":1.8957063292427083,\"y1\":2.070144947590444}],\"title\":{\"text\":\"\\u003cb\\u003eNumber of Agents: 10\\u003c\\u002fb\\u003e\",\"x\":0.5}},\"name\":\"5\"},{\"data\":[{\"hoverinfo\":\"name\",\"line\":{\"color\":\"grey\"},\"mode\":\"lines\",\"name\":\"Exterior\",\"showlegend\":false,\"x\":[-10.0,-10.0,10.0,10.0,-10.0],\"y\":[10.0,-10.0,-10.0,10.0,10.0],\"type\":\"scatter\"},{\"hoverinfo\":\"text\",\"marker\":{\"opacity\":1,\"size\":1},\"mode\":\"markers\",\"showlegend\":false,\"text\":[\"ID: 1, Pos(2.49,1.99)\"],\"x\":[2.4928518214690585],\"y\":[1.9856069196010822],\"type\":\"scatter\"},{\"hoverinfo\":\"text\",\"marker\":{\"opacity\":1,\"size\":1},\"mode\":\"markers\",\"showlegend\":false,\"text\":[\"ID: 2, Pos(1.21,0.96)\"],\"x\":[1.2063285483428363],\"y\":[0.964050266295216],\"type\":\"scatter\"},{\"hoverinfo\":\"text\",\"marker\":{\"opacity\":1,\"size\":1},\"mode\":\"markers\",\"showlegend\":false,\"text\":[\"ID: 3, Pos(1.11,2.28)\"],\"x\":[1.1077366933258632],\"y\":[2.275986429129219],\"type\":\"scatter\"},{\"hoverinfo\":\"text\",\"marker\":{\"opacity\":1,\"size\":1},\"mode\":\"markers\",\"showlegend\":false,\"text\":[\"ID: 4, Pos(0.64,0.41)\"],\"x\":[0.6413750631057136],\"y\":[0.4134910556686676],\"type\":\"scatter\"},{\"hoverinfo\":\"text\",\"marker\":{\"opacity\":1,\"size\":1},\"mode\":\"markers\",\"showlegend\":false,\"text\":[\"ID: 5, Pos(1.75,1.68)\"],\"x\":[1.7544777153793354],\"y\":[1.6790525357056512],\"type\":\"scatter\"},{\"hoverinfo\":\"text\",\"marker\":{\"opacity\":1,\"size\":1},\"mode\":\"markers\",\"showlegend\":false,\"text\":[\"ID: 6, Pos(4.94,2.23)\"],\"x\":[4.938979517715699],\"y\":[2.2328250565872754],\"type\":\"scatter\"},{\"hoverinfo\":\"text\",\"marker\":{\"opacity\":1,\"size\":1},\"mode\":\"markers\",\"showlegend\":false,\"text\":[\"ID: 7, Pos(0.43,1.33)\"],\"x\":[0.4317138972982776],\"y\":[1.3318695226648978],\"type\":\"scatter\"},{\"hoverinfo\":\"text\",\"marker\":{\"opacity\":1,\"size\":1},\"mode\":\"markers\",\"showlegend\":false,\"text\":[\"ID: 8, Pos(5.60,1.27)\"],\"x\":[5.600131668905641],\"y\":[1.2692954861658547],\"type\":\"scatter\"},{\"hoverinfo\":\"text\",\"marker\":{\"opacity\":1,\"size\":1},\"mode\":\"markers\",\"showlegend\":false,\"text\":[\"ID: 9, Pos(3.92,1.10)\"],\"x\":[3.916458612817291],\"y\":[1.0975277219794715],\"type\":\"scatter\"},{\"hoverinfo\":\"text\",\"marker\":{\"opacity\":1,\"size\":1},\"mode\":\"markers\",\"showlegend\":false,\"text\":[\"ID: 10, Pos(3.87,2.12)\"],\"x\":[3.8650336811140176],\"y\":[2.1219749092943587],\"type\":\"scatter\"}],\"layout\":{\"shapes\":[{\"fillcolor\":\"rgba(0, 0, 128, 0.5)\",\"line\":{\"color\":\"rgba(0, 0, 128, 0.5)\"},\"type\":\"circle\",\"x0\":2.2928518214690583,\"x1\":2.6928518214690587,\"xref\":\"x\",\"y0\":1.7856069196010822,\"y1\":2.1856069196010823,\"yref\":\"y\"},{\"fillcolor\":\"rgba(115, 255, 131, 0.5)\",\"line\":{\"color\":\"rgba(115, 255, 131, 0.5)\"},\"type\":\"circle\",\"x0\":1.0063285483428364,\"x1\":1.4063285483428363,\"xref\":\"x\",\"y0\":0.764050266295216,\"y1\":1.164050266295216,\"yref\":\"y\"},{\"fillcolor\":\"rgba(0, 0, 187, 0.5)\",\"line\":{\"color\":\"rgba(0, 0, 187, 0.5)\"},\"type\":\"circle\",\"x0\":0.9077366933258633,\"x1\":1.3077366933258632,\"xref\":\"x\",\"y0\":2.0759864291292187,\"y1\":2.475986429129219,\"yref\":\"y\"},{\"fillcolor\":\"rgba(255, 30, 0, 0.5)\",\"line\":{\"color\":\"rgba(255, 30, 0, 0.5)\"},\"type\":\"circle\",\"x0\":0.44137506310571356,\"x1\":0.8413750631057135,\"xref\":\"x\",\"y0\":0.2134910556686676,\"y1\":0.6134910556686677,\"yref\":\"y\"},{\"fillcolor\":\"rgba(0, 0, 255, 0.5)\",\"line\":{\"color\":\"rgba(0, 0, 255, 0.5)\"},\"type\":\"circle\",\"x0\":1.5544777153793354,\"x1\":1.9544777153793353,\"xref\":\"x\",\"y0\":1.4790525357056512,\"y1\":1.8790525357056511,\"yref\":\"y\"},{\"fillcolor\":\"rgba(0, 0, 146, 0.5)\",\"line\":{\"color\":\"rgba(0, 0, 146, 0.5)\"},\"type\":\"circle\",\"x0\":4.738979517715699,\"x1\":5.1389795177157,\"xref\":\"x\",\"y0\":2.032825056587275,\"y1\":2.4328250565872755,\"yref\":\"y\"},{\"fillcolor\":\"rgba(0, 0, 223, 0.5)\",\"line\":{\"color\":\"rgba(0, 0, 223, 0.5)\"},\"type\":\"circle\",\"x0\":0.23171389729827757,\"x1\":0.6317138972982776,\"xref\":\"x\",\"y0\":1.1318695226648978,\"y1\":1.5318695226648977,\"yref\":\"y\"},{\"fillcolor\":\"rgba(238, 255, 9, 0.5)\",\"line\":{\"color\":\"rgba(238, 255, 9, 0.5)\"},\"type\":\"circle\",\"x0\":5.400131668905641,\"x1\":5.8001316689056415,\"xref\":\"x\",\"y0\":1.0692954861658548,\"y1\":1.4692954861658547,\"yref\":\"y\"},{\"fillcolor\":\"rgba(0, 0, 218, 0.5)\",\"line\":{\"color\":\"rgba(0, 0, 218, 0.5)\"},\"type\":\"circle\",\"x0\":3.716458612817291,\"x1\":4.116458612817291,\"xref\":\"x\",\"y0\":0.8975277219794715,\"y1\":1.2975277219794714,\"yref\":\"y\"},{\"fillcolor\":\"rgba(0, 0, 228, 0.5)\",\"line\":{\"color\":\"rgba(0, 0, 228, 0.5)\"},\"type\":\"circle\",\"x0\":3.6650336811140174,\"x1\":4.065033681114017,\"xref\":\"x\",\"y0\":1.9219749092943588,\"y1\":2.321974909294359,\"yref\":\"y\"},{\"line\":{\"color\":\"white\",\"width\":3},\"type\":\"line\",\"x0\":2.4928518214690585,\"x1\":2.4542787098080145,\"y0\":1.9856069196010822,\"y1\":2.1818519578995947},{\"line\":{\"color\":\"black\",\"width\":3},\"type\":\"line\",\"x0\":1.2063285483428363,\"x1\":1.2098416356186026,\"y0\":0.964050266295216,\"y1\":1.1640194094593372},{\"line\":{\"color\":\"white\",\"width\":3},\"type\":\"line\",\"x0\":1.1077366933258632,\"x1\":1.068199624604692,\"y0\":2.275986429129219,\"y1\":2.472039534682121},{\"line\":{\"color\":\"white\",\"width\":3},\"type\":\"line\",\"x0\":0.6413750631057136,\"x1\":0.5977713133042947,\"y0\":0.4134910556686676,\"y1\":0.6086799718582281},{\"line\":{\"color\":\"white\",\"width\":3},\"type\":\"line\",\"x0\":1.7544777153793354,\"x1\":1.69393645401632,\"y0\":1.6790525357056512,\"y1\":1.8696693127022606},{\"line\":{\"color\":\"white\",\"width\":3},\"type\":\"line\",\"x0\":4.938979517715699,\"x1\":4.822342124106196,\"y0\":2.2328250565872754,\"y1\":2.3952926484694164},{\"line\":{\"color\":\"white\",\"width\":3},\"type\":\"line\",\"x0\":0.4317138972982776,\"x1\":0.40485965681578046,\"y0\":1.3318695226648978,\"y1\":1.5300584470983993},{\"line\":{\"color\":\"black\",\"width\":3},\"type\":\"line\",\"x0\":5.600131668905641,\"x1\":5.482788380141418,\"y0\":1.2692954861658547,\"y1\":1.4312539764712293},{\"line\":{\"color\":\"white\",\"width\":3},\"type\":\"line\",\"x0\":3.916458612817291,\"x1\":3.8265212450457797,\"y0\":1.0975277219794715,\"y1\":1.2761649797907464},{\"line\":{\"color\":\"white\",\"width\":3},\"type\":\"line\",\"x0\":3.8650336811140176,\"x1\":3.766907570428137,\"y0\":2.1219749092943587,\"y1\":2.296248448311796}],\"title\":{\"text\":\"\\u003cb\\u003eNumber of Agents: 10\\u003c\\u002fb\\u003e\",\"x\":0.5}},\"name\":\"10\"},{\"data\":[{\"hoverinfo\":\"name\",\"line\":{\"color\":\"grey\"},\"mode\":\"lines\",\"name\":\"Exterior\",\"showlegend\":false,\"x\":[-10.0,-10.0,10.0,10.0,-10.0],\"y\":[10.0,-10.0,-10.0,10.0,10.0],\"type\":\"scatter\"},{\"hoverinfo\":\"text\",\"marker\":{\"opacity\":1,\"size\":1},\"mode\":\"markers\",\"showlegend\":false,\"text\":[\"ID: 1, Pos(2.43,2.26)\"],\"x\":[2.4338187507058455],\"y\":[2.256238786086096],\"type\":\"scatter\"},{\"hoverinfo\":\"text\",\"marker\":{\"opacity\":1,\"size\":1},\"mode\":\"markers\",\"showlegend\":false,\"text\":[\"ID: 2, Pos(1.20,1.15)\"],\"x\":[1.1994739327645227],\"y\":[1.1543695650683445],\"type\":\"scatter\"},{\"hoverinfo\":\"text\",\"marker\":{\"opacity\":1,\"size\":1},\"mode\":\"markers\",\"showlegend\":false,\"text\":[\"ID: 3, Pos(1.05,2.54)\"],\"x\":[1.054748726208131],\"y\":[2.5374421233013114],\"type\":\"scatter\"},{\"hoverinfo\":\"text\",\"marker\":{\"opacity\":1,\"size\":1},\"mode\":\"markers\",\"showlegend\":false,\"text\":[\"ID: 4, Pos(0.62,0.53)\"],\"x\":[0.6204808042501397],\"y\":[0.5336289173024441],\"type\":\"scatter\"},{\"hoverinfo\":\"text\",\"marker\":{\"opacity\":1,\"size\":1},\"mode\":\"markers\",\"showlegend\":false,\"text\":[\"ID: 5, Pos(1.68,1.93)\"],\"x\":[1.678664684529753],\"y\":[1.9333033805825075],\"type\":\"scatter\"},{\"hoverinfo\":\"text\",\"marker\":{\"opacity\":1,\"size\":1},\"mode\":\"markers\",\"showlegend\":false,\"text\":[\"ID: 6, Pos(4.78,2.46)\"],\"x\":[4.779874768876638],\"y\":[2.4550422269726977],\"type\":\"scatter\"},{\"hoverinfo\":\"text\",\"marker\":{\"opacity\":1,\"size\":1},\"mode\":\"markers\",\"showlegend\":false,\"text\":[\"ID: 7, Pos(0.40,1.59)\"],\"x\":[0.40206416875336487],\"y\":[1.591251997113475],\"type\":\"scatter\"},{\"hoverinfo\":\"text\",\"marker\":{\"opacity\":1,\"size\":1},\"mode\":\"markers\",\"showlegend\":false,\"text\":[\"ID: 8, Pos(5.50,1.40)\"],\"x\":[5.503670866038618],\"y\":[1.4024437492331099],\"type\":\"scatter\"},{\"hoverinfo\":\"text\",\"marker\":{\"opacity\":1,\"size\":1},\"mode\":\"markers\",\"showlegend\":false,\"text\":[\"ID: 9, Pos(3.80,1.33)\"],\"x\":[3.799019044890879],\"y\":[1.3307570571260345],\"type\":\"scatter\"},{\"hoverinfo\":\"text\",\"marker\":{\"opacity\":1,\"size\":1},\"mode\":\"markers\",\"showlegend\":false,\"text\":[\"ID: 10, Pos(3.74,2.35)\"],\"x\":[3.737441987306099],\"y\":[2.347995854438788],\"type\":\"scatter\"}],\"layout\":{\"shapes\":[{\"fillcolor\":\"rgba(0, 0, 128, 0.5)\",\"line\":{\"color\":\"rgba(0, 0, 128, 0.5)\"},\"type\":\"circle\",\"x0\":2.2338187507058453,\"x1\":2.6338187507058457,\"xref\":\"x\",\"y0\":2.056238786086096,\"y1\":2.456238786086096,\"yref\":\"y\"},{\"fillcolor\":\"rgba(48, 255, 199, 0.5)\",\"line\":{\"color\":\"rgba(48, 255, 199, 0.5)\"},\"type\":\"circle\",\"x0\":0.9994739327645228,\"x1\":1.3994739327645227,\"xref\":\"x\",\"y0\":0.9543695650683446,\"y1\":1.3543695650683445,\"yref\":\"y\"},{\"fillcolor\":\"rgba(0, 0, 187, 0.5)\",\"line\":{\"color\":\"rgba(0, 0, 187, 0.5)\"},\"type\":\"circle\",\"x0\":0.854748726208131,\"x1\":1.254748726208131,\"xref\":\"x\",\"y0\":2.337442123301311,\"y1\":2.7374421233013115,\"yref\":\"y\"},{\"fillcolor\":\"rgba(255, 167, 0, 0.5)\",\"line\":{\"color\":\"rgba(255, 167, 0, 0.5)\"},\"type\":\"circle\",\"x0\":0.42048080425013973,\"x1\":0.8204808042501397,\"xref\":\"x\",\"y0\":0.3336289173024441,\"y1\":0.7336289173024442,\"yref\":\"y\"},{\"fillcolor\":\"rgba(0, 0, 196, 0.5)\",\"line\":{\"color\":\"rgba(0, 0, 196, 0.5)\"},\"type\":\"circle\",\"x0\":1.478664684529753,\"x1\":1.878664684529753,\"xref\":\"x\",\"y0\":1.7333033805825075,\"y1\":2.1333033805825075,\"yref\":\"y\"},{\"fillcolor\":\"rgba(0, 0, 146, 0.5)\",\"line\":{\"color\":\"rgba(0, 0, 146, 0.5)\"},\"type\":\"circle\",\"x0\":4.579874768876638,\"x1\":4.9798747688766385,\"xref\":\"x\",\"y0\":2.2550422269726975,\"y1\":2.655042226972698,\"yref\":\"y\"},{\"fillcolor\":\"rgba(0, 0, 218, 0.5)\",\"line\":{\"color\":\"rgba(0, 0, 218, 0.5)\"},\"type\":\"circle\",\"x0\":0.20206416875336486,\"x1\":0.6020641687533649,\"xref\":\"x\",\"y0\":1.3912519971134751,\"y1\":1.791251997113475,\"yref\":\"y\"},{\"fillcolor\":\"rgba(144, 255, 102, 0.5)\",\"line\":{\"color\":\"rgba(144, 255, 102, 0.5)\"},\"type\":\"circle\",\"x0\":5.303670866038618,\"x1\":5.703670866038618,\"xref\":\"x\",\"y0\":1.20244374923311,\"y1\":1.6024437492331098,\"yref\":\"y\"},{\"fillcolor\":\"rgba(0, 208, 255, 0.5)\",\"line\":{\"color\":\"rgba(0, 208, 255, 0.5)\"},\"type\":\"circle\",\"x0\":3.5990190448908788,\"x1\":3.999019044890879,\"xref\":\"x\",\"y0\":1.1307570571260346,\"y1\":1.5307570571260345,\"yref\":\"y\"},{\"fillcolor\":\"rgba(0, 0, 228, 0.5)\",\"line\":{\"color\":\"rgba(0, 0, 228, 0.5)\"},\"type\":\"circle\",\"x0\":3.537441987306099,\"x1\":3.9374419873060993,\"xref\":\"x\",\"y0\":2.147995854438788,\"y1\":2.5479958544387884,\"yref\":\"y\"},{\"line\":{\"color\":\"white\",\"width\":3},\"type\":\"line\",\"x0\":2.4338187507058455,\"x1\":2.3884319877612787,\"y0\":2.256238786086096,\"y1\":2.4510208226023353},{\"line\":{\"color\":\"black\",\"width\":3},\"type\":\"line\",\"x0\":1.1994739327645227,\"x1\":1.1856417130635555,\"y0\":1.1543695650683445,\"y1\":1.3538906659527978},{\"line\":{\"color\":\"white\",\"width\":3},\"type\":\"line\",\"x0\":1.054748726208131,\"x1\":1.0149007861139043,\"y0\":2.5374421233013114,\"y1\":2.7334322803762188},{\"line\":{\"color\":\"black\",\"width\":3},\"type\":\"line\",\"x0\":0.6204808042501397,\"x1\":0.5916212492011456,\"y0\":0.5336289173024441,\"y1\":0.7315357794431341},{\"line\":{\"color\":\"white\",\"width\":3},\"type\":\"line\",\"x0\":1.678664684529753,\"x1\":1.6235239961252348,\"y0\":1.9333033805825075,\"y1\":2.1255519292955625},{\"line\":{\"color\":\"white\",\"width\":3},\"type\":\"line\",\"x0\":4.779874768876638,\"x1\":4.663651998745749,\"y0\":2.4550422269726977,\"y1\":2.6178066816398715},{\"line\":{\"color\":\"white\",\"width\":3},\"type\":\"line\",\"x0\":0.40206416875336487,\"x1\":0.38202517111642154,\"y0\":1.591251997113475,\"y1\":1.7902455612649486},{\"line\":{\"color\":\"black\",\"width\":3},\"type\":\"line\",\"x0\":5.503670866038618,\"x1\":5.386338244120102,\"y0\":1.4024437492331099,\"y1\":1.5644099674198868},{\"line\":{\"color\":\"black\",\"width\":3},\"type\":\"line\",\"x0\":3.799019044890879,\"x1\":3.70906161550402,\"y0\":1.3307570571260345,\"y1\":1.5093842132308897},{\"line\":{\"color\":\"white\",\"width\":3},\"type\":\"line\",\"x0\":3.737441987306099,\"x1\":3.6389354741052076,\"y0\":2.347995854438788,\"y1\":2.5220546573101243}],\"title\":{\"text\":\"\\u003cb\\u003eNumber of Agents: 10\\u003c\\u002fb\\u003e\",\"x\":0.5}},\"name\":\"15\"},{\"data\":[{\"hoverinfo\":\"name\",\"line\":{\"color\":\"grey\"},\"mode\":\"lines\",\"name\":\"Exterior\",\"showlegend\":false,\"x\":[-10.0,-10.0,10.0,10.0,-10.0],\"y\":[10.0,-10.0,-10.0,10.0,10.0],\"type\":\"scatter\"},{\"hoverinfo\":\"text\",\"marker\":{\"opacity\":1,\"size\":1},\"mode\":\"markers\",\"showlegend\":false,\"text\":[\"ID: 1, Pos(2.37,2.53)\"],\"x\":[2.3682371113930016],\"y\":[2.5253685947096622],\"type\":\"scatter\"},{\"hoverinfo\":\"text\",\"marker\":{\"opacity\":1,\"size\":1},\"mode\":\"markers\",\"showlegend\":false,\"text\":[\"ID: 2, Pos(1.18,1.36)\"],\"x\":[1.1812402082429954],\"y\":[1.3577267653365477],\"type\":\"scatter\"},{\"hoverinfo\":\"text\",\"marker\":{\"opacity\":1,\"size\":1},\"mode\":\"markers\",\"showlegend\":false,\"text\":[\"ID: 3, Pos(1.00,2.80)\"],\"x\":[1.0015081888399107],\"y\":[2.7988465267856446],\"type\":\"scatter\"},{\"hoverinfo\":\"text\",\"marker\":{\"opacity\":1,\"size\":1},\"mode\":\"markers\",\"showlegend\":false,\"text\":[\"ID: 4, Pos(0.60,0.68)\"],\"x\":[0.6018055444756033],\"y\":[0.6795241638236272],\"type\":\"scatter\"},{\"hoverinfo\":\"text\",\"marker\":{\"opacity\":1,\"size\":1},\"mode\":\"markers\",\"showlegend\":false,\"text\":[\"ID: 5, Pos(1.61,2.19)\"],\"x\":[1.6069442963132698],\"y\":[2.1887461386044404],\"type\":\"scatter\"},{\"hoverinfo\":\"text\",\"marker\":{\"opacity\":1,\"size\":1},\"mode\":\"markers\",\"showlegend\":false,\"text\":[\"ID: 6, Pos(4.62,2.68)\"],\"x\":[4.621426221514991],\"y\":[2.677727708557265],\"type\":\"scatter\"},{\"hoverinfo\":\"text\",\"marker\":{\"opacity\":1,\"size\":1},\"mode\":\"markers\",\"showlegend\":false,\"text\":[\"ID: 7, Pos(0.38,1.85)\"],\"x\":[0.37805202908372926],\"y\":[1.8512268017258116],\"type\":\"scatter\"},{\"hoverinfo\":\"text\",\"marker\":{\"opacity\":1,\"size\":1},\"mode\":\"markers\",\"showlegend\":false,\"text\":[\"ID: 8, Pos(5.40,1.55)\"],\"x\":[5.39558208555464],\"y\":[1.551653972895501],\"type\":\"scatter\"},{\"hoverinfo\":\"text\",\"marker\":{\"opacity\":1,\"size\":1},\"mode\":\"markers\",\"showlegend\":false,\"text\":[\"ID: 9, Pos(3.73,1.48)\"],\"x\":[3.7254681961415588],\"y\":[1.477307077243011],\"type\":\"scatter\"},{\"hoverinfo\":\"text\",\"marker\":{\"opacity\":1,\"size\":1},\"mode\":\"markers\",\"showlegend\":false,\"text\":[\"ID: 10, Pos(3.61,2.57)\"],\"x\":[3.6088721659013903],\"y\":[2.5734610647062794],\"type\":\"scatter\"}],\"layout\":{\"shapes\":[{\"fillcolor\":\"rgba(0, 0, 128, 0.5)\",\"line\":{\"color\":\"rgba(0, 0, 128, 0.5)\"},\"type\":\"circle\",\"x0\":2.1682371113930015,\"x1\":2.568237111393002,\"xref\":\"x\",\"y0\":2.325368594709662,\"y1\":2.7253685947096624,\"yref\":\"y\"},{\"fillcolor\":\"rgba(0, 224, 251, 0.5)\",\"line\":{\"color\":\"rgba(0, 224, 251, 0.5)\"},\"type\":\"circle\",\"x0\":0.9812402082429954,\"x1\":1.3812402082429953,\"xref\":\"x\",\"y0\":1.1577267653365477,\"y1\":1.5577267653365476,\"yref\":\"y\"},{\"fillcolor\":\"rgba(0, 0, 187, 0.5)\",\"line\":{\"color\":\"rgba(0, 0, 187, 0.5)\"},\"type\":\"circle\",\"x0\":0.8015081888399107,\"x1\":1.2015081888399106,\"xref\":\"x\",\"y0\":2.5988465267856444,\"y1\":2.998846526785645,\"yref\":\"y\"},{\"fillcolor\":\"rgba(219, 255, 28, 0.5)\",\"line\":{\"color\":\"rgba(219, 255, 28, 0.5)\"},\"type\":\"circle\",\"x0\":0.4018055444756033,\"x1\":0.8018055444756034,\"xref\":\"x\",\"y0\":0.4795241638236272,\"y1\":0.8795241638236273,\"yref\":\"y\"},{\"fillcolor\":\"rgba(0, 0, 196, 0.5)\",\"line\":{\"color\":\"rgba(0, 0, 196, 0.5)\"},\"type\":\"circle\",\"x0\":1.40694429631327,\"x1\":1.8069442963132698,\"xref\":\"x\",\"y0\":1.9887461386044405,\"y1\":2.3887461386044406,\"yref\":\"y\"},{\"fillcolor\":\"rgba(0, 0, 146, 0.5)\",\"line\":{\"color\":\"rgba(0, 0, 146, 0.5)\"},\"type\":\"circle\",\"x0\":4.421426221514991,\"x1\":4.821426221514991,\"xref\":\"x\",\"y0\":2.4777277085572647,\"y1\":2.877727708557265,\"yref\":\"y\"},{\"fillcolor\":\"rgba(0, 0, 218, 0.5)\",\"line\":{\"color\":\"rgba(0, 0, 218, 0.5)\"},\"type\":\"circle\",\"x0\":0.17805202908372925,\"x1\":0.5780520290837292,\"xref\":\"x\",\"y0\":1.6512268017258116,\"y1\":2.0512268017258117,\"yref\":\"y\"},{\"fillcolor\":\"rgba(70, 255, 177, 0.5)\",\"line\":{\"color\":\"rgba(70, 255, 177, 0.5)\"},\"type\":\"circle\",\"x0\":5.19558208555464,\"x1\":5.59558208555464,\"xref\":\"x\",\"y0\":1.351653972895501,\"y1\":1.751653972895501,\"yref\":\"y\"},{\"fillcolor\":\"rgba(219, 255, 28, 0.5)\",\"line\":{\"color\":\"rgba(219, 255, 28, 0.5)\"},\"type\":\"circle\",\"x0\":3.5254681961415586,\"x1\":3.925468196141559,\"xref\":\"x\",\"y0\":1.277307077243011,\"y1\":1.677307077243011,\"yref\":\"y\"},{\"fillcolor\":\"rgba(0, 0, 228, 0.5)\",\"line\":{\"color\":\"rgba(0, 0, 228, 0.5)\"},\"type\":\"circle\",\"x0\":3.40887216590139,\"x1\":3.8088721659013904,\"xref\":\"x\",\"y0\":2.3734610647062793,\"y1\":2.7734610647062796,\"yref\":\"y\"},{\"line\":{\"color\":\"white\",\"width\":3},\"type\":\"line\",\"x0\":2.3682371113930016,\"x1\":2.3193979061000283,\"y0\":2.5253685947096622,\"y1\":2.719313772598546},{\"line\":{\"color\":\"black\",\"width\":3},\"type\":\"line\",\"x0\":1.1812402082429954,\"x1\":1.1606682944278954,\"y0\":1.3577267653365477,\"y1\":1.5566659428808014},{\"line\":{\"color\":\"white\",\"width\":3},\"type\":\"line\",\"x0\":1.0015081888399107,\"x1\":0.9615547190980085,\"y0\":2.7988465267856446,\"y1\":2.994815198403286},{\"line\":{\"color\":\"black\",\"width\":3},\"type\":\"line\",\"x0\":0.6018055444756033,\"x1\":0.5787121658922685,\"y0\":0.6795241638236272,\"y1\":0.8781864296558853},{\"line\":{\"color\":\"white\",\"width\":3},\"type\":\"line\",\"x0\":1.6069442963132698,\"x1\":1.5536084553327578,\"y0\":2.1887461386044404,\"y1\":2.38150320868723},{\"line\":{\"color\":\"white\",\"width\":3},\"type\":\"line\",\"x0\":4.621426221514991,\"x1\":4.505737294638491,\"y0\":2.677727708557265,\"y1\":2.8408720379045143},{\"line\":{\"color\":\"white\",\"width\":3},\"type\":\"line\",\"x0\":0.37805202908372926,\"x1\":0.3608059757146665,\"y0\":1.8512268017258116,\"y1\":2.050481848445315},{\"line\":{\"color\":\"black\",\"width\":3},\"type\":\"line\",\"x0\":5.39558208555464,\"x1\":5.278253368288583,\"y0\":1.551653972895501,\"y1\":1.71362301964426},{\"line\":{\"color\":\"black\",\"width\":3},\"type\":\"line\",\"x0\":3.7254681961415588,\"x1\":3.6362116497751664,\"y0\":1.477307077243011,\"y1\":1.6562854807746774},{\"line\":{\"color\":\"white\",\"width\":3},\"type\":\"line\",\"x0\":3.6088721659013903,\"x1\":3.509142174401046,\"y0\":2.5734610647062794,\"y1\":2.7468217545853326}],\"title\":{\"text\":\"\\u003cb\\u003eNumber of Agents: 10\\u003c\\u002fb\\u003e\",\"x\":0.5}},\"name\":\"20\"},{\"data\":[{\"hoverinfo\":\"name\",\"line\":{\"color\":\"grey\"},\"mode\":\"lines\",\"name\":\"Exterior\",\"showlegend\":false,\"x\":[-10.0,-10.0,10.0,10.0,-10.0],\"y\":[10.0,-10.0,-10.0,10.0,10.0],\"type\":\"scatter\"},{\"hoverinfo\":\"text\",\"marker\":{\"opacity\":1,\"size\":1},\"mode\":\"markers\",\"showlegend\":false,\"text\":[\"ID: 1, Pos(2.30,2.79)\"],\"x\":[2.2988816490231496],\"y\":[2.7935527412159136],\"type\":\"scatter\"},{\"hoverinfo\":\"text\",\"marker\":{\"opacity\":1,\"size\":1},\"mode\":\"markers\",\"showlegend\":false,\"text\":[\"ID: 2, Pos(1.16,1.57)\"],\"x\":[1.1570707454710778],\"y\":[1.5718055816458936],\"type\":\"scatter\"},{\"hoverinfo\":\"text\",\"marker\":{\"opacity\":1,\"size\":1},\"mode\":\"markers\",\"showlegend\":false,\"text\":[\"ID: 3, Pos(0.95,3.06)\"],\"x\":[0.9482096270471652],\"y\":[3.06023910868635],\"type\":\"scatter\"},{\"hoverinfo\":\"text\",\"marker\":{\"opacity\":1,\"size\":1},\"mode\":\"markers\",\"showlegend\":false,\"text\":[\"ID: 4, Pos(0.58,0.85)\"],\"x\":[0.5838577098974203],\"y\":[0.8462343085120838],\"type\":\"scatter\"},{\"hoverinfo\":\"text\",\"marker\":{\"opacity\":1,\"size\":1},\"mode\":\"markers\",\"showlegend\":false,\"text\":[\"ID: 5, Pos(1.54,2.44)\"],\"x\":[1.5368549808947956],\"y\":[2.4446419519135447],\"type\":\"scatter\"},{\"hoverinfo\":\"text\",\"marker\":{\"opacity\":1,\"size\":1},\"mode\":\"markers\",\"showlegend\":false,\"text\":[\"ID: 6, Pos(4.46,2.90)\"],\"x\":[4.463786625954985],\"y\":[2.900986508584416],\"type\":\"scatter\"},{\"hoverinfo\":\"text\",\"marker\":{\"opacity\":1,\"size\":1},\"mode\":\"markers\",\"showlegend\":false,\"text\":[\"ID: 7, Pos(0.36,2.11)\"],\"x\":[0.35655900277356206],\"y\":[2.111423540279274],\"type\":\"scatter\"},{\"hoverinfo\":\"text\",\"marker\":{\"opacity\":1,\"size\":1},\"mode\":\"markers\",\"showlegend\":false,\"text\":[\"ID: 8, Pos(5.28,1.71)\"],\"x\":[5.277979962490401],\"y\":[1.7140038866543466],\"type\":\"scatter\"},{\"hoverinfo\":\"text\",\"marker\":{\"opacity\":1,\"size\":1},\"mode\":\"markers\",\"showlegend\":false,\"text\":[\"ID: 9, Pos(3.66,1.61)\"],\"x\":[3.658671516996228],\"y\":[1.6116401206241668],\"type\":\"scatter\"},{\"hoverinfo\":\"text\",\"marker\":{\"opacity\":1,\"size\":1},\"mode\":\"markers\",\"showlegend\":false,\"text\":[\"ID: 10, Pos(3.48,2.80)\"],\"x\":[3.4788100396654116],\"y\":[2.7980692619246548],\"type\":\"scatter\"}],\"layout\":{\"shapes\":[{\"fillcolor\":\"rgba(0, 0, 128, 0.5)\",\"line\":{\"color\":\"rgba(0, 0, 128, 0.5)\"},\"type\":\"circle\",\"x0\":2.0988816490231494,\"x1\":2.49888164902315,\"xref\":\"x\",\"y0\":2.5935527412159134,\"y1\":2.9935527412159137,\"yref\":\"y\"},{\"fillcolor\":\"rgba(0, 168, 255, 0.5)\",\"line\":{\"color\":\"rgba(0, 168, 255, 0.5)\"},\"type\":\"circle\",\"x0\":0.9570707454710778,\"x1\":1.3570707454710778,\"xref\":\"x\",\"y0\":1.3718055816458936,\"y1\":1.7718055816458935,\"yref\":\"y\"},{\"fillcolor\":\"rgba(0, 0, 187, 0.5)\",\"line\":{\"color\":\"rgba(0, 0, 187, 0.5)\"},\"type\":\"circle\",\"x0\":0.7482096270471652,\"x1\":1.1482096270471651,\"xref\":\"x\",\"y0\":2.8602391086863497,\"y1\":3.26023910868635,\"yref\":\"y\"},{\"fillcolor\":\"rgba(138, 255, 109, 0.5)\",\"line\":{\"color\":\"rgba(138, 255, 109, 0.5)\"},\"type\":\"circle\",\"x0\":0.38385770989742024,\"x1\":0.7838577098974202,\"xref\":\"x\",\"y0\":0.6462343085120839,\"y1\":1.0462343085120838,\"yref\":\"y\"},{\"fillcolor\":\"rgba(0, 152, 255, 0.5)\",\"line\":{\"color\":\"rgba(0, 152, 255, 0.5)\"},\"type\":\"circle\",\"x0\":1.3368549808947956,\"x1\":1.7368549808947955,\"xref\":\"x\",\"y0\":2.2446419519135445,\"y1\":2.644641951913545,\"yref\":\"y\"},{\"fillcolor\":\"rgba(0, 0, 146, 0.5)\",\"line\":{\"color\":\"rgba(0, 0, 146, 0.5)\"},\"type\":\"circle\",\"x0\":4.263786625954985,\"x1\":4.663786625954986,\"xref\":\"x\",\"y0\":2.700986508584416,\"y1\":3.100986508584416,\"yref\":\"y\"},{\"fillcolor\":\"rgba(0, 0, 218, 0.5)\",\"line\":{\"color\":\"rgba(0, 0, 218, 0.5)\"},\"type\":\"circle\",\"x0\":0.15655900277356205,\"x1\":0.5565590027735621,\"xref\":\"x\",\"y0\":1.911423540279274,\"y1\":2.311423540279274,\"yref\":\"y\"},{\"fillcolor\":\"rgba(6, 237, 241, 0.5)\",\"line\":{\"color\":\"rgba(6, 237, 241, 0.5)\"},\"type\":\"circle\",\"x0\":5.077979962490401,\"x1\":5.4779799624904015,\"xref\":\"x\",\"y0\":1.5140038866543466,\"y1\":1.9140038866543465,\"yref\":\"y\"},{\"fillcolor\":\"rgba(209, 255, 38, 0.5)\",\"line\":{\"color\":\"rgba(209, 255, 38, 0.5)\"},\"type\":\"circle\",\"x0\":3.458671516996228,\"x1\":3.8586715169962282,\"xref\":\"x\",\"y0\":1.4116401206241669,\"y1\":1.8116401206241668,\"yref\":\"y\"},{\"fillcolor\":\"rgba(0, 0, 228, 0.5)\",\"line\":{\"color\":\"rgba(0, 0, 228, 0.5)\"},\"type\":\"circle\",\"x0\":3.2788100396654114,\"x1\":3.6788100396654118,\"xref\":\"x\",\"y0\":2.5980692619246546,\"y1\":2.998069261924655,\"yref\":\"y\"},{\"line\":{\"color\":\"white\",\"width\":3},\"type\":\"line\",\"x0\":2.2988816490231496,\"x1\":2.2478124635895083,\"y0\":2.7935527412159136,\"y1\":2.986922693119368},{\"line\":{\"color\":\"black\",\"width\":3},\"type\":\"line\",\"x0\":1.1570707454710778,\"x1\":1.1333027567067022,\"y0\":1.5718055816458936,\"y1\":1.7703882664653323},{\"line\":{\"color\":\"white\",\"width\":3},\"type\":\"line\",\"x0\":0.9482096270471652,\"x1\":0.9082613473255904,\"y0\":3.06023910868635,\"y1\":3.256208838357253},{\"line\":{\"color\":\"black\",\"width\":3},\"type\":\"line\",\"x0\":0.5838577098974203,\"x1\":0.5636474387987972,\"y0\":0.8462343085120838,\"y1\":1.0452105506670712},{\"line\":{\"color\":\"white\",\"width\":3},\"type\":\"line\",\"x0\":1.5368549808947956,\"x1\":1.484399295510855,\"y0\":2.4446419519135447,\"y1\":2.6376404002775176},{\"line\":{\"color\":\"white\",\"width\":3},\"type\":\"line\",\"x0\":4.463786625954985,\"x1\":4.34874730509681,\"y0\":2.900986508584416,\"y1\":3.0645895484598715},{\"line\":{\"color\":\"white\",\"width\":3},\"type\":\"line\",\"x0\":0.35655900277356206,\"x1\":0.3406520518039964,\"y0\":2.111423540279274,\"y1\":2.310789958993289},{\"line\":{\"color\":\"black\",\"width\":3},\"type\":\"line\",\"x0\":5.277979962490401,\"x1\":5.160654307495563,\"y0\":1.7140038866543466,\"y1\":1.8759751516368495},{\"line\":{\"color\":\"black\",\"width\":3},\"type\":\"line\",\"x0\":3.658671516996228,\"x1\":3.569741081430735,\"y0\":1.6116401206241668,\"y1\":1.7907807849919528},{\"line\":{\"color\":\"white\",\"width\":3},\"type\":\"line\",\"x0\":3.4788100396654116,\"x1\":3.3782085228175394,\"y0\":2.7980692619246548,\"y1\":2.970925661308384}],\"title\":{\"text\":\"\\u003cb\\u003eNumber of Agents: 10\\u003c\\u002fb\\u003e\",\"x\":0.5}},\"name\":\"25\"},{\"data\":[{\"hoverinfo\":\"name\",\"line\":{\"color\":\"grey\"},\"mode\":\"lines\",\"name\":\"Exterior\",\"showlegend\":false,\"x\":[-10.0,-10.0,10.0,10.0,-10.0],\"y\":[10.0,-10.0,-10.0,10.0,10.0],\"type\":\"scatter\"},{\"hoverinfo\":\"text\",\"marker\":{\"opacity\":1,\"size\":1},\"mode\":\"markers\",\"showlegend\":false,\"text\":[\"ID: 1, Pos(2.23,3.06)\"],\"x\":[2.2258601101485005],\"y\":[3.0607555426707],\"type\":\"scatter\"},{\"hoverinfo\":\"text\",\"marker\":{\"opacity\":1,\"size\":1},\"mode\":\"markers\",\"showlegend\":false,\"text\":[\"ID: 2, Pos(1.13,1.79)\"],\"x\":[1.1285438440771633],\"y\":[1.794686597707383],\"type\":\"scatter\"},{\"hoverinfo\":\"text\",\"marker\":{\"opacity\":1,\"size\":1},\"mode\":\"markers\",\"showlegend\":false,\"text\":[\"ID: 3, Pos(0.90,3.32)\"],\"x\":[0.8967225498254692],\"y\":[3.321984195827705],\"type\":\"scatter\"},{\"hoverinfo\":\"text\",\"marker\":{\"opacity\":1,\"size\":1},\"mode\":\"markers\",\"showlegend\":false,\"text\":[\"ID: 4, Pos(0.57,1.03)\"],\"x\":[0.5660774610684457],\"y\":[1.0299239058937633],\"type\":\"scatter\"},{\"hoverinfo\":\"text\",\"marker\":{\"opacity\":1,\"size\":1},\"mode\":\"markers\",\"showlegend\":false,\"text\":[\"ID: 5, Pos(1.49,2.62)\"],\"x\":[1.4897799117666262],\"y\":[2.619139505823311],\"type\":\"scatter\"},{\"hoverinfo\":\"text\",\"marker\":{\"opacity\":1,\"size\":1},\"mode\":\"markers\",\"showlegend\":false,\"text\":[\"ID: 6, Pos(4.31,3.12)\"],\"x\":[4.307130106695696],\"y\":[3.124936111419316],\"type\":\"scatter\"},{\"hoverinfo\":\"text\",\"marker\":{\"opacity\":1,\"size\":1},\"mode\":\"markers\",\"showlegend\":false,\"text\":[\"ID: 7, Pos(0.34,2.37)\"],\"x\":[0.33627585984131747],\"y\":[2.371717759720354],\"type\":\"scatter\"},{\"hoverinfo\":\"text\",\"marker\":{\"opacity\":1,\"size\":1},\"mode\":\"markers\",\"showlegend\":false,\"text\":[\"ID: 8, Pos(5.15,1.89)\"],\"x\":[5.152595605514156],\"y\":[1.887104570450947],\"type\":\"scatter\"},{\"hoverinfo\":\"text\",\"marker\":{\"opacity\":1,\"size\":1},\"mode\":\"markers\",\"showlegend\":false,\"text\":[\"ID: 9, Pos(3.58,1.76)\"],\"x\":[3.584010373972477],\"y\":[1.7621644338756552],\"type\":\"scatter\"},{\"hoverinfo\":\"text\",\"marker\":{\"opacity\":1,\"size\":1},\"mode\":\"markers\",\"showlegend\":false,\"text\":[\"ID: 10, Pos(3.35,3.02)\"],\"x\":[3.3478135407649487],\"y\":[3.022133938245345],\"type\":\"scatter\"}],\"layout\":{\"shapes\":[{\"fillcolor\":\"rgba(0, 0, 128, 0.5)\",\"line\":{\"color\":\"rgba(0, 0, 128, 0.5)\"},\"type\":\"circle\",\"x0\":2.0258601101485003,\"x1\":2.4258601101485007,\"xref\":\"x\",\"y0\":2.8607555426706996,\"y1\":3.2607555426707,\"yref\":\"y\"},{\"fillcolor\":\"rgba(0, 125, 255, 0.5)\",\"line\":{\"color\":\"rgba(0, 125, 255, 0.5)\"},\"type\":\"circle\",\"x0\":0.9285438440771634,\"x1\":1.3285438440771633,\"xref\":\"x\",\"y0\":1.594686597707383,\"y1\":1.9946865977073829,\"yref\":\"y\"},{\"fillcolor\":\"rgba(0, 0, 187, 0.5)\",\"line\":{\"color\":\"rgba(0, 0, 187, 0.5)\"},\"type\":\"circle\",\"x0\":0.6967225498254692,\"x1\":1.0967225498254691,\"xref\":\"x\",\"y0\":3.121984195827705,\"y1\":3.5219841958277054,\"yref\":\"y\"},{\"fillcolor\":\"rgba(73, 255, 173, 0.5)\",\"line\":{\"color\":\"rgba(73, 255, 173, 0.5)\"},\"type\":\"circle\",\"x0\":0.3660774610684457,\"x1\":0.7660774610684458,\"xref\":\"x\",\"y0\":0.8299239058937633,\"y1\":1.2299239058937632,\"yref\":\"y\"},{\"fillcolor\":\"rgba(90, 255, 157, 0.5)\",\"line\":{\"color\":\"rgba(90, 255, 157, 0.5)\"},\"type\":\"circle\",\"x0\":1.2897799117666262,\"x1\":1.6897799117666261,\"xref\":\"x\",\"y0\":2.4191395058233107,\"y1\":2.819139505823311,\"yref\":\"y\"},{\"fillcolor\":\"rgba(0, 0, 146, 0.5)\",\"line\":{\"color\":\"rgba(0, 0, 146, 0.5)\"},\"type\":\"circle\",\"x0\":4.107130106695696,\"x1\":4.507130106695696,\"xref\":\"x\",\"y0\":2.9249361114193158,\"y1\":3.324936111419316,\"yref\":\"y\"},{\"fillcolor\":\"rgba(0, 0, 218, 0.5)\",\"line\":{\"color\":\"rgba(0, 0, 218, 0.5)\"},\"type\":\"circle\",\"x0\":0.13627585984131746,\"x1\":0.5362758598413175,\"xref\":\"x\",\"y0\":2.171717759720354,\"y1\":2.571717759720354,\"yref\":\"y\"},{\"fillcolor\":\"rgba(0, 173, 255, 0.5)\",\"line\":{\"color\":\"rgba(0, 173, 255, 0.5)\"},\"type\":\"circle\",\"x0\":4.952595605514156,\"x1\":5.352595605514156,\"xref\":\"x\",\"y0\":1.687104570450947,\"y1\":2.087104570450947,\"yref\":\"y\"},{\"fillcolor\":\"rgba(141, 255, 106, 0.5)\",\"line\":{\"color\":\"rgba(141, 255, 106, 0.5)\"},\"type\":\"circle\",\"x0\":3.384010373972477,\"x1\":3.7840103739724773,\"xref\":\"x\",\"y0\":1.5621644338756553,\"y1\":1.9621644338756552,\"yref\":\"y\"},{\"fillcolor\":\"rgba(0, 0, 228, 0.5)\",\"line\":{\"color\":\"rgba(0, 0, 228, 0.5)\"},\"type\":\"circle\",\"x0\":3.1478135407649486,\"x1\":3.547813540764949,\"xref\":\"x\",\"y0\":2.822133938245345,\"y1\":3.2221339382453453,\"yref\":\"y\"},{\"line\":{\"color\":\"white\",\"width\":3},\"type\":\"line\",\"x0\":2.2258601101485005,\"x1\":2.1701376376999173,\"y0\":3.0607555426707,\"y1\":3.2528362706582232},{\"line\":{\"color\":\"white\",\"width\":3},\"type\":\"line\",\"x0\":1.1285438440771633,\"x1\":1.100397155774806,\"y0\":1.794686597707383,\"y1\":1.9926961023722094},{\"line\":{\"color\":\"white\",\"width\":3},\"type\":\"line\",\"x0\":0.8967225498254692,\"x1\":0.8615880463557922,\"y0\":3.321984195827705,\"y1\":3.5188739280788797},{\"line\":{\"color\":\"black\",\"width\":3},\"type\":\"line\",\"x0\":0.5660774610684457,\"x1\":0.5474966906403274,\"y0\":1.0299239058937633,\"y1\":1.2290589228302569},{\"line\":{\"color\":\"black\",\"width\":3},\"type\":\"line\",\"x0\":1.4897799117666262,\"x1\":1.4394549408515853,\"y0\":2.619139505823311,\"y1\":2.8127044750259027},{\"line\":{\"color\":\"white\",\"width\":3},\"type\":\"line\",\"x0\":4.307130106695696,\"x1\":4.192874650220016,\"y0\":3.124936111419316,\"y1\":3.289087537442772},{\"line\":{\"color\":\"white\",\"width\":3},\"type\":\"line\",\"x0\":0.33627585984131747,\"x1\":0.32098300727188,\"y0\":2.371717759720354,\"y1\":2.5711322242415853},{\"line\":{\"color\":\"black\",\"width\":3},\"type\":\"line\",\"x0\":5.152595605514156,\"x1\":5.035273633777168,\"y0\":1.887104570450947,\"y1\":2.049078503377654},{\"line\":{\"color\":\"black\",\"width\":3},\"type\":\"line\",\"x0\":3.584010373972477,\"x1\":3.495176618664417,\"y0\":1.7621644338756552,\"y1\":1.9413530605177156},{\"line\":{\"color\":\"white\",\"width\":3},\"type\":\"line\",\"x0\":3.3478135407649487,\"x1\":3.2465817821021044,\"y0\":3.022133938245345,\"y1\":3.1946219988119466}],\"title\":{\"text\":\"\\u003cb\\u003eNumber of Agents: 10\\u003c\\u002fb\\u003e\",\"x\":0.5}},\"name\":\"30\"},{\"data\":[{\"hoverinfo\":\"name\",\"line\":{\"color\":\"grey\"},\"mode\":\"lines\",\"name\":\"Exterior\",\"showlegend\":false,\"x\":[-10.0,-10.0,10.0,10.0,-10.0],\"y\":[10.0,-10.0,-10.0,10.0,10.0],\"type\":\"scatter\"},{\"hoverinfo\":\"text\",\"marker\":{\"opacity\":1,\"size\":1},\"mode\":\"markers\",\"showlegend\":false,\"text\":[\"ID: 1, Pos(2.15,3.33)\"],\"x\":[2.145506048383351],\"y\":[3.3258493594075573],\"type\":\"scatter\"},{\"hoverinfo\":\"text\",\"marker\":{\"opacity\":1,\"size\":1},\"mode\":\"markers\",\"showlegend\":false,\"text\":[\"ID: 2, Pos(1.09,2.02)\"],\"x\":[1.0926165060890443],\"y\":[2.0242264879736918],\"type\":\"scatter\"},{\"hoverinfo\":\"text\",\"marker\":{\"opacity\":1,\"size\":1},\"mode\":\"markers\",\"showlegend\":false,\"text\":[\"ID: 3, Pos(0.85,3.58)\"],\"x\":[0.8520461592707946],\"y\":[3.58498621621012],\"type\":\"scatter\"},{\"hoverinfo\":\"text\",\"marker\":{\"opacity\":1,\"size\":1},\"mode\":\"markers\",\"showlegend\":false,\"text\":[\"ID: 4, Pos(0.55,1.23)\"],\"x\":[0.5481698225293006],\"y\":[1.227494952042861],\"type\":\"scatter\"},{\"hoverinfo\":\"text\",\"marker\":{\"opacity\":1,\"size\":1},\"mode\":\"markers\",\"showlegend\":false,\"text\":[\"ID: 5, Pos(1.44,2.81)\"],\"x\":[1.4435903076300132],\"y\":[2.80857126420178],\"type\":\"scatter\"},{\"hoverinfo\":\"text\",\"marker\":{\"opacity\":1,\"size\":1},\"mode\":\"markers\",\"showlegend\":false,\"text\":[\"ID: 6, Pos(4.15,3.35)\"],\"x\":[4.1516417687868765],\"y\":[3.3496982412867737],\"type\":\"scatter\"},{\"hoverinfo\":\"text\",\"marker\":{\"opacity\":1,\"size\":1},\"mode\":\"markers\",\"showlegend\":false,\"text\":[\"ID: 7, Pos(0.32,2.63)\"],\"x\":[0.3164635449181183],\"y\":[2.632048331063571],\"type\":\"scatter\"},{\"hoverinfo\":\"text\",\"marker\":{\"opacity\":1,\"size\":1},\"mode\":\"markers\",\"showlegend\":false,\"text\":[\"ID: 8, Pos(5.02,2.07)\"],\"x\":[5.020846001853575],\"y\":[2.0690035622202534],\"type\":\"scatter\"},{\"hoverinfo\":\"text\",\"marker\":{\"opacity\":1,\"size\":1},\"mode\":\"markers\",\"showlegend\":false,\"text\":[\"ID: 9, Pos(3.50,1.93)\"],\"x\":[3.5027057706648717],\"y\":[1.9262103754465845],\"type\":\"scatter\"},{\"hoverinfo\":\"text\",\"marker\":{\"opacity\":1,\"size\":1},\"mode\":\"markers\",\"showlegend\":false,\"text\":[\"ID: 10, Pos(3.22,3.25)\"],\"x\":[3.2160497663852388],\"y\":[3.2457482997676372],\"type\":\"scatter\"}],\"layout\":{\"shapes\":[{\"fillcolor\":\"rgba(0, 0, 128, 0.5)\",\"line\":{\"color\":\"rgba(0, 0, 128, 0.5)\"},\"type\":\"circle\",\"x0\":1.9455060483833508,\"x1\":2.345506048383351,\"xref\":\"x\",\"y0\":3.125849359407557,\"y1\":3.5258493594075575,\"yref\":\"y\"},{\"fillcolor\":\"rgba(0, 88, 255, 0.5)\",\"line\":{\"color\":\"rgba(0, 88, 255, 0.5)\"},\"type\":\"circle\",\"x0\":0.8926165060890443,\"x1\":1.2926165060890442,\"xref\":\"x\",\"y0\":1.8242264879736918,\"y1\":2.224226487973692,\"yref\":\"y\"},{\"fillcolor\":\"rgba(0, 0, 187, 0.5)\",\"line\":{\"color\":\"rgba(0, 0, 187, 0.5)\"},\"type\":\"circle\",\"x0\":0.6520461592707947,\"x1\":1.0520461592707946,\"xref\":\"x\",\"y0\":3.3849862162101196,\"y1\":3.78498621621012,\"yref\":\"y\"},{\"fillcolor\":\"rgba(19, 252, 228, 0.5)\",\"line\":{\"color\":\"rgba(19, 252, 228, 0.5)\"},\"type\":\"circle\",\"x0\":0.34816982252930057,\"x1\":0.7481698225293005,\"xref\":\"x\",\"y0\":1.0274949520428611,\"y1\":1.427494952042861,\"yref\":\"y\"},{\"fillcolor\":\"rgba(19, 252, 228, 0.5)\",\"line\":{\"color\":\"rgba(19, 252, 228, 0.5)\"},\"type\":\"circle\",\"x0\":1.2435903076300132,\"x1\":1.6435903076300131,\"xref\":\"x\",\"y0\":2.60857126420178,\"y1\":3.0085712642017803,\"yref\":\"y\"},{\"fillcolor\":\"rgba(0, 0, 146, 0.5)\",\"line\":{\"color\":\"rgba(0, 0, 146, 0.5)\"},\"type\":\"circle\",\"x0\":3.9516417687868763,\"x1\":4.351641768786877,\"xref\":\"x\",\"y0\":3.1496982412867736,\"y1\":3.549698241286774,\"yref\":\"y\"},{\"fillcolor\":\"rgba(0, 0, 218, 0.5)\",\"line\":{\"color\":\"rgba(0, 0, 218, 0.5)\"},\"type\":\"circle\",\"x0\":0.11646354491811828,\"x1\":0.5164635449181183,\"xref\":\"x\",\"y0\":2.4320483310635708,\"y1\":2.832048331063571,\"yref\":\"y\"},{\"fillcolor\":\"rgba(0, 120, 255, 0.5)\",\"line\":{\"color\":\"rgba(0, 120, 255, 0.5)\"},\"type\":\"circle\",\"x0\":4.820846001853575,\"x1\":5.220846001853575,\"xref\":\"x\",\"y0\":1.8690035622202534,\"y1\":2.2690035622202536,\"yref\":\"y\"},{\"fillcolor\":\"rgba(83, 255, 164, 0.5)\",\"line\":{\"color\":\"rgba(83, 255, 164, 0.5)\"},\"type\":\"circle\",\"x0\":3.3027057706648715,\"x1\":3.702705770664872,\"xref\":\"x\",\"y0\":1.7262103754465845,\"y1\":2.1262103754465844,\"yref\":\"y\"},{\"fillcolor\":\"rgba(0, 0, 228, 0.5)\",\"line\":{\"color\":\"rgba(0, 0, 228, 0.5)\"},\"type\":\"circle\",\"x0\":3.0160497663852386,\"x1\":3.416049766385239,\"xref\":\"x\",\"y0\":3.045748299767637,\"y1\":3.4457482997676374,\"yref\":\"y\"},{\"line\":{\"color\":\"white\",\"width\":3},\"type\":\"line\",\"x0\":2.145506048383351,\"x1\":2.085971969150759,\"y0\":3.3258493594075573,\"y1\":3.516783100296714},{\"line\":{\"color\":\"white\",\"width\":3},\"type\":\"line\",\"x0\":1.0926165060890443,\"x1\":1.0596563344004235,\"y0\":2.0242264879736918,\"y1\":2.2214918602067746},{\"line\":{\"color\":\"white\",\"width\":3},\"type\":\"line\",\"x0\":0.8520461592707946,\"x1\":0.8194444512184657,\"y0\":3.58498621621012,\"y1\":3.782311147812973},{\"line\":{\"color\":\"black\",\"width\":3},\"type\":\"line\",\"x0\":0.5481698225293006,\"x1\":0.5305066265835222,\"y0\":1.227494952042861,\"y1\":1.4267134539672082},{\"line\":{\"color\":\"black\",\"width\":3},\"type\":\"line\",\"x0\":1.4435903076300132,\"x1\":1.3980584704652703,\"y0\":2.80857126420178,\"y1\":3.003319439557554},{\"line\":{\"color\":\"white\",\"width\":3},\"type\":\"line\",\"x0\":4.1516417687868765,\"x1\":4.038303854603769,\"y0\":3.3496982412867737,\"y1\":3.514484518654225},{\"line\":{\"color\":\"white\",\"width\":3},\"type\":\"line\",\"x0\":0.3164635449181183,\"x1\":0.3013357590780709,\"y0\":2.632048331063571,\"y1\":2.8314753856363586},{\"line\":{\"color\":\"white\",\"width\":3},\"type\":\"line\",\"x0\":5.020846001853575,\"x1\":4.9035295003733985,\"y0\":2.0690035622202534,\"y1\":2.2309814572567426},{\"line\":{\"color\":\"black\",\"width\":3},\"type\":\"line\",\"x0\":3.5027057706648717,\"x1\":3.4139028273392267,\"y0\":1.9262103754465845,\"y1\":2.105414273999887},{\"line\":{\"color\":\"white\",\"width\":3},\"type\":\"line\",\"x0\":3.2160497663852388,\"x1\":3.1142524693108533,\"y0\":3.2457482997676372,\"y1\":3.4179032018423365}],\"title\":{\"text\":\"\\u003cb\\u003eNumber of Agents: 10\\u003c\\u002fb\\u003e\",\"x\":0.5}},\"name\":\"35\"},{\"data\":[{\"hoverinfo\":\"name\",\"line\":{\"color\":\"grey\"},\"mode\":\"lines\",\"name\":\"Exterior\",\"showlegend\":false,\"x\":[-10.0,-10.0,10.0,10.0,-10.0],\"y\":[10.0,-10.0,-10.0,10.0,10.0],\"type\":\"scatter\"},{\"hoverinfo\":\"text\",\"marker\":{\"opacity\":1,\"size\":1},\"mode\":\"markers\",\"showlegend\":false,\"text\":[\"ID: 1, Pos(2.06,3.59)\"],\"x\":[2.0613432706999215],\"y\":[3.5897612869337974],\"type\":\"scatter\"},{\"hoverinfo\":\"text\",\"marker\":{\"opacity\":1,\"size\":1},\"mode\":\"markers\",\"showlegend\":false,\"text\":[\"ID: 2, Pos(1.05,2.26)\"],\"x\":[1.051021634681232],\"y\":[2.2591810601726134],\"type\":\"scatter\"},{\"hoverinfo\":\"text\",\"marker\":{\"opacity\":1,\"size\":1},\"mode\":\"markers\",\"showlegend\":false,\"text\":[\"ID: 3, Pos(0.81,3.85)\"],\"x\":[0.8092768574703827],\"y\":[3.8483063328678386],\"type\":\"scatter\"},{\"hoverinfo\":\"text\",\"marker\":{\"opacity\":1,\"size\":1},\"mode\":\"markers\",\"showlegend\":false,\"text\":[\"ID: 4, Pos(0.53,1.44)\"],\"x\":[0.5299792546813161],\"y\":[1.4364247373995445],\"type\":\"scatter\"},{\"hoverinfo\":\"text\",\"marker\":{\"opacity\":1,\"size\":1},\"mode\":\"markers\",\"showlegend\":false,\"text\":[\"ID: 5, Pos(1.40,3.02)\"],\"x\":[1.39701259442525],\"y\":[3.0174835912119398],\"type\":\"scatter\"},{\"hoverinfo\":\"text\",\"marker\":{\"opacity\":1,\"size\":1},\"mode\":\"markers\",\"showlegend\":false,\"text\":[\"ID: 6, Pos(4.00,3.58)\"],\"x\":[3.9974931995093614],\"y\":[3.5753812204053657],\"type\":\"scatter\"},{\"hoverinfo\":\"text\",\"marker\":{\"opacity\":1,\"size\":1},\"mode\":\"markers\",\"showlegend\":false,\"text\":[\"ID: 7, Pos(0.30,2.89)\"],\"x\":[0.2966589995057954],\"y\":[2.8923794959292413],\"type\":\"scatter\"},{\"hoverinfo\":\"text\",\"marker\":{\"opacity\":1,\"size\":1},\"mode\":\"markers\",\"showlegend\":false,\"text\":[\"ID: 8, Pos(4.88,2.26)\"],\"x\":[4.883891360383626],\"y\":[2.258106042104372],\"type\":\"scatter\"},{\"hoverinfo\":\"text\",\"marker\":{\"opacity\":1,\"size\":1},\"mode\":\"markers\",\"showlegend\":false,\"text\":[\"ID: 9, Pos(3.42,2.10)\"],\"x\":[3.415841200626684],\"y\":[2.10151381970758],\"type\":\"scatter\"},{\"hoverinfo\":\"text\",\"marker\":{\"opacity\":1,\"size\":1},\"mode\":\"markers\",\"showlegend\":false,\"text\":[\"ID: 10, Pos(3.08,3.47)\"],\"x\":[3.083597453261673],\"y\":[3.468955544199254],\"type\":\"scatter\"}],\"layout\":{\"shapes\":[{\"fillcolor\":\"rgba(0, 0, 128, 0.5)\",\"line\":{\"color\":\"rgba(0, 0, 128, 0.5)\"},\"type\":\"circle\",\"x0\":1.8613432706999216,\"x1\":2.2613432706999217,\"xref\":\"x\",\"y0\":3.389761286933797,\"y1\":3.7897612869337975,\"yref\":\"y\"},{\"fillcolor\":\"rgba(0, 61, 255, 0.5)\",\"line\":{\"color\":\"rgba(0, 61, 255, 0.5)\"},\"type\":\"circle\",\"x0\":0.851021634681232,\"x1\":1.251021634681232,\"xref\":\"x\",\"y0\":2.0591810601726133,\"y1\":2.4591810601726136,\"yref\":\"y\"},{\"fillcolor\":\"rgba(0, 0, 187, 0.5)\",\"line\":{\"color\":\"rgba(0, 0, 187, 0.5)\"},\"type\":\"circle\",\"x0\":0.6092768574703826,\"x1\":1.0092768574703828,\"xref\":\"x\",\"y0\":3.6483063328678385,\"y1\":4.048306332867838,\"yref\":\"y\"},{\"fillcolor\":\"rgba(0, 200, 255, 0.5)\",\"line\":{\"color\":\"rgba(0, 200, 255, 0.5)\"},\"type\":\"circle\",\"x0\":0.3299792546813161,\"x1\":0.7299792546813162,\"xref\":\"x\",\"y0\":1.2364247373995445,\"y1\":1.6364247373995444,\"yref\":\"y\"},{\"fillcolor\":\"rgba(0, 176, 255, 0.5)\",\"line\":{\"color\":\"rgba(0, 176, 255, 0.5)\"},\"type\":\"circle\",\"x0\":1.19701259442525,\"x1\":1.59701259442525,\"xref\":\"x\",\"y0\":2.8174835912119396,\"y1\":3.21748359121194,\"yref\":\"y\"},{\"fillcolor\":\"rgba(0, 0, 146, 0.5)\",\"line\":{\"color\":\"rgba(0, 0, 146, 0.5)\"},\"type\":\"circle\",\"x0\":3.7974931995093613,\"x1\":4.197493199509362,\"xref\":\"x\",\"y0\":3.3753812204053655,\"y1\":3.775381220405366,\"yref\":\"y\"},{\"fillcolor\":\"rgba(0, 0, 218, 0.5)\",\"line\":{\"color\":\"rgba(0, 0, 218, 0.5)\"},\"type\":\"circle\",\"x0\":0.09665899950579537,\"x1\":0.4966589995057954,\"xref\":\"x\",\"y0\":2.692379495929241,\"y1\":3.0923794959292414,\"yref\":\"y\"},{\"fillcolor\":\"rgba(0, 80, 255, 0.5)\",\"line\":{\"color\":\"rgba(0, 80, 255, 0.5)\"},\"type\":\"circle\",\"x0\":4.683891360383626,\"x1\":5.083891360383626,\"xref\":\"x\",\"y0\":2.058106042104372,\"y1\":2.4581060421043723,\"yref\":\"y\"},{\"fillcolor\":\"rgba(31, 255, 215, 0.5)\",\"line\":{\"color\":\"rgba(31, 255, 215, 0.5)\"},\"type\":\"circle\",\"x0\":3.215841200626684,\"x1\":3.6158412006266842,\"xref\":\"x\",\"y0\":1.9015138197075803,\"y1\":2.3015138197075804,\"yref\":\"y\"},{\"fillcolor\":\"rgba(0, 0, 228, 0.5)\",\"line\":{\"color\":\"rgba(0, 0, 228, 0.5)\"},\"type\":\"circle\",\"x0\":2.8835974532616726,\"x1\":3.283597453261673,\"xref\":\"x\",\"y0\":3.2689555441992537,\"y1\":3.668955544199254,\"yref\":\"y\"},{\"line\":{\"color\":\"white\",\"width\":3},\"type\":\"line\",\"x0\":2.0613432706999215,\"x1\":1.9995882949466188,\"y0\":3.5897612869337974,\"y1\":3.779988317004997},{\"line\":{\"color\":\"white\",\"width\":3},\"type\":\"line\",\"x0\":1.051021634681232,\"x1\":1.014588784070636,\"y0\":2.2591810601726134,\"y1\":2.4558346830641993},{\"line\":{\"color\":\"white\",\"width\":3},\"type\":\"line\",\"x0\":0.8092768574703827,\"x1\":0.7775864843216772,\"y0\":3.8483063328678386,\"y1\":4.045779673472833},{\"line\":{\"color\":\"black\",\"width\":3},\"type\":\"line\",\"x0\":0.5299792546813161,\"x1\":0.512871746763882,\"y0\":1.4364247373995445,\"y1\":1.6356917270713285},{\"line\":{\"color\":\"black\",\"width\":3},\"type\":\"line\",\"x0\":1.39701259442525,\"x1\":1.3548961009206657,\"y0\":3.0174835912119398,\"y1\":3.212998810504143},{\"line\":{\"color\":\"white\",\"width\":3},\"type\":\"line\",\"x0\":3.9974931995093614,\"x1\":3.885188544710779,\"y0\":3.5753812204053657,\"y1\":3.740873409074714},{\"line\":{\"color\":\"white\",\"width\":3},\"type\":\"line\",\"x0\":0.2966589995057954,\"x1\":0.28141205404161745,\"y0\":2.8923794959292413,\"y1\":3.0917974756953908},{\"line\":{\"color\":\"white\",\"width\":3},\"type\":\"line\",\"x0\":4.883891360383626,\"x1\":4.766583486849423,\"y0\":2.258106042104372,\"y1\":2.4200901857940655},{\"line\":{\"color\":\"black\",\"width\":3},\"type\":\"line\",\"x0\":3.415841200626684,\"x1\":3.3270441835006848,\"y0\":2.10151381970758,\"y1\":2.2807206548158567},{\"line\":{\"color\":\"white\",\"width\":3},\"type\":\"line\",\"x0\":3.083597453261673,\"x1\":2.981306836106382,\"y0\":3.468955544199254,\"y1\":3.6408177845023224}],\"title\":{\"text\":\"\\u003cb\\u003eNumber of Agents: 10\\u003c\\u002fb\\u003e\",\"x\":0.5}},\"name\":\"40\"},{\"data\":[{\"hoverinfo\":\"name\",\"line\":{\"color\":\"grey\"},\"mode\":\"lines\",\"name\":\"Exterior\",\"showlegend\":false,\"x\":[-10.0,-10.0,10.0,10.0,-10.0],\"y\":[10.0,-10.0,-10.0,10.0,10.0],\"type\":\"scatter\"},{\"hoverinfo\":\"text\",\"marker\":{\"opacity\":1,\"size\":1},\"mode\":\"markers\",\"showlegend\":false,\"text\":[\"ID: 1, Pos(1.97,3.85)\"],\"x\":[1.9744980394127098],\"y\":[3.852803320874115],\"type\":\"scatter\"},{\"hoverinfo\":\"text\",\"marker\":{\"opacity\":1,\"size\":1},\"mode\":\"markers\",\"showlegend\":false,\"text\":[\"ID: 2, Pos(1.00,2.50)\"],\"x\":[1.004706771264983],\"y\":[2.498500387237577],\"type\":\"scatter\"},{\"hoverinfo\":\"text\",\"marker\":{\"opacity\":1,\"size\":1},\"mode\":\"markers\",\"showlegend\":false,\"text\":[\"ID: 3, Pos(0.77,4.11)\"],\"x\":[0.7673454290138482],\"y\":[4.111761352416969],\"type\":\"scatter\"},{\"hoverinfo\":\"text\",\"marker\":{\"opacity\":1,\"size\":1},\"mode\":\"markers\",\"showlegend\":false,\"text\":[\"ID: 4, Pos(0.51,1.65)\"],\"x\":[0.5114623978289532],\"y\":[1.6546563170516135],\"type\":\"scatter\"},{\"hoverinfo\":\"text\",\"marker\":{\"opacity\":1,\"size\":1},\"mode\":\"markers\",\"showlegend\":false,\"text\":[\"ID: 5, Pos(1.35,3.24)\"],\"x\":[1.3517448234701201],\"y\":[3.2365106300992177],\"type\":\"scatter\"},{\"hoverinfo\":\"text\",\"marker\":{\"opacity\":1,\"size\":1},\"mode\":\"markers\",\"showlegend\":false,\"text\":[\"ID: 6, Pos(3.84,3.80)\"],\"x\":[3.844820846607207],\"y\":[3.802065368680372],\"type\":\"scatter\"},{\"hoverinfo\":\"text\",\"marker\":{\"opacity\":1,\"size\":1},\"mode\":\"markers\",\"showlegend\":false,\"text\":[\"ID: 7, Pos(0.28,3.15)\"],\"x\":[0.27655764680975303],\"y\":[3.15268788738255],\"type\":\"scatter\"},{\"hoverinfo\":\"text\",\"marker\":{\"opacity\":1,\"size\":1},\"mode\":\"markers\",\"showlegend\":false,\"text\":[\"ID: 8, Pos(4.74,2.45)\"],\"x\":[4.742682490713205],\"y\":[2.453110882773913],\"type\":\"scatter\"},{\"hoverinfo\":\"text\",\"marker\":{\"opacity\":1,\"size\":1},\"mode\":\"markers\",\"showlegend\":false,\"text\":[\"ID: 9, Pos(3.32,2.29)\"],\"x\":[3.324340379415132],\"y\":[2.2861686366179708],\"type\":\"scatter\"},{\"hoverinfo\":\"text\",\"marker\":{\"opacity\":1,\"size\":1},\"mode\":\"markers\",\"showlegend\":false,\"text\":[\"ID: 10, Pos(2.95,3.69)\"],\"x\":[2.950575796875004],\"y\":[3.6918239950237255],\"type\":\"scatter\"}],\"layout\":{\"shapes\":[{\"fillcolor\":\"rgba(0, 0, 128, 0.5)\",\"line\":{\"color\":\"rgba(0, 0, 128, 0.5)\"},\"type\":\"circle\",\"x0\":1.77449803941271,\"x1\":2.17449803941271,\"xref\":\"x\",\"y0\":3.652803320874115,\"y1\":4.052803320874115,\"yref\":\"y\"},{\"fillcolor\":\"rgba(0, 32, 255, 0.5)\",\"line\":{\"color\":\"rgba(0, 32, 255, 0.5)\"},\"type\":\"circle\",\"x0\":0.8047067712649831,\"x1\":1.204706771264983,\"xref\":\"x\",\"y0\":2.298500387237577,\"y1\":2.6985003872375772,\"yref\":\"y\"},{\"fillcolor\":\"rgba(0, 0, 187, 0.5)\",\"line\":{\"color\":\"rgba(0, 0, 187, 0.5)\"},\"type\":\"circle\",\"x0\":0.5673454290138482,\"x1\":0.9673454290138481,\"xref\":\"x\",\"y0\":3.9117613524169688,\"y1\":4.311761352416969,\"yref\":\"y\"},{\"fillcolor\":\"rgba(0, 156, 255, 0.5)\",\"line\":{\"color\":\"rgba(0, 156, 255, 0.5)\"},\"type\":\"circle\",\"x0\":0.3114623978289532,\"x1\":0.7114623978289532,\"xref\":\"x\",\"y0\":1.4546563170516136,\"y1\":1.8546563170516135,\"yref\":\"y\"},{\"fillcolor\":\"rgba(0, 128, 255, 0.5)\",\"line\":{\"color\":\"rgba(0, 128, 255, 0.5)\"},\"type\":\"circle\",\"x0\":1.1517448234701202,\"x1\":1.55174482347012,\"xref\":\"x\",\"y0\":3.0365106300992175,\"y1\":3.436510630099218,\"yref\":\"y\"},{\"fillcolor\":\"rgba(0, 0, 146, 0.5)\",\"line\":{\"color\":\"rgba(0, 0, 146, 0.5)\"},\"type\":\"circle\",\"x0\":3.6448208466072067,\"x1\":4.044820846607207,\"xref\":\"x\",\"y0\":3.6020653686803716,\"y1\":4.0020653686803715,\"yref\":\"y\"},{\"fillcolor\":\"rgba(0, 0, 218, 0.5)\",\"line\":{\"color\":\"rgba(0, 0, 218, 0.5)\"},\"type\":\"circle\",\"x0\":0.07655764680975302,\"x1\":0.47655764680975304,\"xref\":\"x\",\"y0\":2.9526878873825497,\"y1\":3.35268788738255,\"yref\":\"y\"},{\"fillcolor\":\"rgba(0, 45, 255, 0.5)\",\"line\":{\"color\":\"rgba(0, 45, 255, 0.5)\"},\"type\":\"circle\",\"x0\":4.542682490713204,\"x1\":4.942682490713205,\"xref\":\"x\",\"y0\":2.253110882773913,\"y1\":2.6531108827739134,\"yref\":\"y\"},{\"fillcolor\":\"rgba(0, 220, 254, 0.5)\",\"line\":{\"color\":\"rgba(0, 220, 254, 0.5)\"},\"type\":\"circle\",\"x0\":3.124340379415132,\"x1\":3.5243403794151322,\"xref\":\"x\",\"y0\":2.0861686366179706,\"y1\":2.486168636617971,\"yref\":\"y\"},{\"fillcolor\":\"rgba(0, 0, 228, 0.5)\",\"line\":{\"color\":\"rgba(0, 0, 228, 0.5)\"},\"type\":\"circle\",\"x0\":2.7505757968750038,\"x1\":3.150575796875004,\"xref\":\"x\",\"y0\":3.4918239950237253,\"y1\":3.8918239950237257,\"yref\":\"y\"},{\"line\":{\"color\":\"white\",\"width\":3},\"type\":\"line\",\"x0\":1.9744980394127098,\"x1\":1.9110150837850213,\"y0\":3.852803320874115,\"y1\":4.0424606812500645},{\"line\":{\"color\":\"white\",\"width\":3},\"type\":\"line\",\"x0\":1.004706771264983,\"x1\":0.9654573597847411,\"y0\":2.498500387237577,\"y1\":2.694611283667262},{\"line\":{\"color\":\"white\",\"width\":3},\"type\":\"line\",\"x0\":0.7673454290138482,\"x1\":0.7360792884929778,\"y0\":4.111761352416969,\"y1\":4.309302306289651},{\"line\":{\"color\":\"white\",\"width\":3},\"type\":\"line\",\"x0\":0.5114623978289532,\"x1\":0.4947064462786068,\"y0\":1.6546563170516135,\"y1\":1.853953176253264},{\"line\":{\"color\":\"white\",\"width\":3},\"type\":\"line\",\"x0\":1.3517448234701201,\"x1\":1.3123622222941664,\"y0\":3.2365106300992177,\"y1\":3.432594823048613},{\"line\":{\"color\":\"white\",\"width\":3},\"type\":\"line\",\"x0\":3.844820846607207,\"x1\":3.7336329611956396,\"y0\":3.802065368680372,\"y1\":3.968309929907812},{\"line\":{\"color\":\"white\",\"width\":3},\"type\":\"line\",\"x0\":0.27655764680975303,\"x1\":0.26099527192416333,\"y0\":3.15268788738255,\"y1\":3.352081499336194},{\"line\":{\"color\":\"white\",\"width\":3},\"type\":\"line\",\"x0\":4.742682490713205,\"x1\":4.625388440396471,\"y0\":2.453110882773913,\"y1\":2.6151050362495734},{\"line\":{\"color\":\"black\",\"width\":3},\"type\":\"line\",\"x0\":3.324340379415132,\"x1\":3.2355349697943803,\"y0\":2.2861686366179708,\"y1\":2.4653713129989066},{\"line\":{\"color\":\"white\",\"width\":3},\"type\":\"line\",\"x0\":2.950575796875004,\"x1\":2.8479018723265184,\"y0\":3.6918239950237255,\"y1\":3.8634575151117665}],\"title\":{\"text\":\"\\u003cb\\u003eNumber of Agents: 10\\u003c\\u002fb\\u003e\",\"x\":0.5}},\"name\":\"45\"},{\"data\":[{\"hoverinfo\":\"name\",\"line\":{\"color\":\"grey\"},\"mode\":\"lines\",\"name\":\"Exterior\",\"showlegend\":false,\"x\":[-10.0,-10.0,10.0,10.0,-10.0],\"y\":[10.0,-10.0,-10.0,10.0,10.0],\"type\":\"scatter\"},{\"hoverinfo\":\"text\",\"marker\":{\"opacity\":1,\"size\":1},\"mode\":\"markers\",\"showlegend\":false,\"text\":[\"ID: 1, Pos(1.89,4.12)\"],\"x\":[1.8855191327597927],\"y\":[4.115131589368883],\"type\":\"scatter\"},{\"hoverinfo\":\"text\",\"marker\":{\"opacity\":1,\"size\":1},\"mode\":\"markers\",\"showlegend\":false,\"text\":[\"ID: 2, Pos(0.95,2.74)\"],\"x\":[0.954653124212978],\"y\":[2.741404926389786],\"type\":\"scatter\"},{\"hoverinfo\":\"text\",\"marker\":{\"opacity\":1,\"size\":1},\"mode\":\"markers\",\"showlegend\":false,\"text\":[\"ID: 3, Pos(0.73,4.38)\"],\"x\":[0.7257582018411304],\"y\":[4.37527096982896],\"type\":\"scatter\"},{\"hoverinfo\":\"text\",\"marker\":{\"opacity\":1,\"size\":1},\"mode\":\"markers\",\"showlegend\":false,\"text\":[\"ID: 4, Pos(0.49,1.88)\"],\"x\":[0.4926227796927803],\"y\":[1.8805088957991065],\"type\":\"scatter\"},{\"hoverinfo\":\"text\",\"marker\":{\"opacity\":1,\"size\":1},\"mode\":\"markers\",\"showlegend\":false,\"text\":[\"ID: 5, Pos(1.31,3.46)\"],\"x\":[1.3073686363049049],\"y\":[3.464407467135125],\"type\":\"scatter\"},{\"hoverinfo\":\"text\",\"marker\":{\"opacity\":1,\"size\":1},\"mode\":\"markers\",\"showlegend\":false,\"text\":[\"ID: 6, Pos(3.69,4.03)\"],\"x\":[3.6937094582640038],\"y\":[4.02979301463196],\"type\":\"scatter\"},{\"hoverinfo\":\"text\",\"marker\":{\"opacity\":1,\"size\":1},\"mode\":\"markers\",\"showlegend\":false,\"text\":[\"ID: 7, Pos(0.26,3.41)\"],\"x\":[0.25593931625091026],\"y\":[3.4129558092006205],\"type\":\"scatter\"},{\"hoverinfo\":\"text\",\"marker\":{\"opacity\":1,\"size\":1},\"mode\":\"markers\",\"showlegend\":false,\"text\":[\"ID: 8, Pos(4.60,2.65)\"],\"x\":[4.598000136594411],\"y\":[2.652958998969338],\"type\":\"scatter\"},{\"hoverinfo\":\"text\",\"marker\":{\"opacity\":1,\"size\":1},\"mode\":\"markers\",\"showlegend\":false,\"text\":[\"ID: 9, Pos(3.23,2.48)\"],\"x\":[3.2289742419929977],\"y\":[2.4785824445999918],\"type\":\"scatter\"},{\"hoverinfo\":\"text\",\"marker\":{\"opacity\":1,\"size\":1},\"mode\":\"markers\",\"showlegend\":false,\"text\":[\"ID: 10, Pos(2.82,3.91)\"],\"x\":[2.81714965268128],\"y\":[3.914450561286805],\"type\":\"scatter\"}],\"layout\":{\"shapes\":[{\"fillcolor\":\"rgba(0, 0, 128, 0.5)\",\"line\":{\"color\":\"rgba(0, 0, 128, 0.5)\"},\"type\":\"circle\",\"x0\":1.6855191327597927,\"x1\":2.0855191327597926,\"xref\":\"x\",\"y0\":3.915131589368883,\"y1\":4.3151315893688835,\"yref\":\"y\"},{\"fillcolor\":\"rgba(0, 13, 255, 0.5)\",\"line\":{\"color\":\"rgba(0, 13, 255, 0.5)\"},\"type\":\"circle\",\"x0\":0.7546531242129779,\"x1\":1.154653124212978,\"xref\":\"x\",\"y0\":2.5414049263897858,\"y1\":2.941404926389786,\"yref\":\"y\"},{\"fillcolor\":\"rgba(0, 0, 187, 0.5)\",\"line\":{\"color\":\"rgba(0, 0, 187, 0.5)\"},\"type\":\"circle\",\"x0\":0.5257582018411304,\"x1\":0.9257582018411303,\"xref\":\"x\",\"y0\":4.17527096982896,\"y1\":4.57527096982896,\"yref\":\"y\"},{\"fillcolor\":\"rgba(0, 120, 255, 0.5)\",\"line\":{\"color\":\"rgba(0, 120, 255, 0.5)\"},\"type\":\"circle\",\"x0\":0.2926227796927803,\"x1\":0.6926227796927803,\"xref\":\"x\",\"y0\":1.6805088957991066,\"y1\":2.0805088957991065,\"yref\":\"y\"},{\"fillcolor\":\"rgba(0, 101, 255, 0.5)\",\"line\":{\"color\":\"rgba(0, 101, 255, 0.5)\"},\"type\":\"circle\",\"x0\":1.107368636304905,\"x1\":1.5073686363049048,\"xref\":\"x\",\"y0\":3.2644074671351246,\"y1\":3.664407467135125,\"yref\":\"y\"},{\"fillcolor\":\"rgba(0, 0, 146, 0.5)\",\"line\":{\"color\":\"rgba(0, 0, 146, 0.5)\"},\"type\":\"circle\",\"x0\":3.4937094582640036,\"x1\":3.893709458264004,\"xref\":\"x\",\"y0\":3.82979301463196,\"y1\":4.2297930146319604,\"yref\":\"y\"},{\"fillcolor\":\"rgba(0, 0, 218, 0.5)\",\"line\":{\"color\":\"rgba(0, 0, 218, 0.5)\"},\"type\":\"circle\",\"x0\":0.055939316250910254,\"x1\":0.4559393162509103,\"xref\":\"x\",\"y0\":3.2129558092006203,\"y1\":3.6129558092006206,\"yref\":\"y\"},{\"fillcolor\":\"rgba(0, 16, 255, 0.5)\",\"line\":{\"color\":\"rgba(0, 16, 255, 0.5)\"},\"type\":\"circle\",\"x0\":4.398000136594411,\"x1\":4.798000136594411,\"xref\":\"x\",\"y0\":2.4529589989693377,\"y1\":2.852958998969338,\"yref\":\"y\"},{\"fillcolor\":\"rgba(0, 176, 255, 0.5)\",\"line\":{\"color\":\"rgba(0, 176, 255, 0.5)\"},\"type\":\"circle\",\"x0\":3.0289742419929975,\"x1\":3.428974241992998,\"xref\":\"x\",\"y0\":2.2785824445999916,\"y1\":2.678582444599992,\"yref\":\"y\"},{\"fillcolor\":\"rgba(0, 0, 228, 0.5)\",\"line\":{\"color\":\"rgba(0, 0, 228, 0.5)\"},\"type\":\"circle\",\"x0\":2.6171496526812796,\"x1\":3.01714965268128,\"xref\":\"x\",\"y0\":3.714450561286805,\"y1\":4.114450561286805,\"yref\":\"y\"},{\"line\":{\"color\":\"white\",\"width\":3},\"type\":\"line\",\"x0\":1.8855191327597927,\"x1\":1.8206808528008156,\"y0\":4.115131589368883,\"y1\":4.304329891295622},{\"line\":{\"color\":\"white\",\"width\":3},\"type\":\"line\",\"x0\":0.954653124212978,\"x1\":0.9135486900708095,\"y0\":2.741404926389786,\"y1\":2.9371354183777543},{\"line\":{\"color\":\"white\",\"width\":3},\"type\":\"line\",\"x0\":0.7257582018411304,\"x1\":0.6946154074436499,\"y0\":4.37527096982896,\"y1\":4.5728314070554354},{\"line\":{\"color\":\"white\",\"width\":3},\"type\":\"line\",\"x0\":0.4926227796927803,\"x1\":0.4761009248342255,\"y0\":1.8805088957991065,\"y1\":2.0798252983153893},{\"line\":{\"color\":\"white\",\"width\":3},\"type\":\"line\",\"x0\":1.3073686363049049,\"x1\":1.2697483603767479,\"y0\":3.464407467135125,\"y1\":3.660837390616985},{\"line\":{\"color\":\"white\",\"width\":3},\"type\":\"line\",\"x0\":3.6937094582640038,\"x1\":3.5836798319023475,\"y0\":4.02979301463196,\"y1\":4.196806431226898},{\"line\":{\"color\":\"white\",\"width\":3},\"type\":\"line\",\"x0\":0.25593931625091026,\"x1\":0.2399123136732309,\"y0\":3.4129558092006205,\"y1\":3.612312612917913},{\"line\":{\"color\":\"white\",\"width\":3},\"type\":\"line\",\"x0\":4.598000136594411,\"x1\":4.480728306145456,\"y0\":2.652958998969338,\"y1\":2.8149692387171745},{\"line\":{\"color\":\"black\",\"width\":3},\"type\":\"line\",\"x0\":3.2289742419929977,\"x1\":3.1401469011548033,\"y0\":2.4785824445999918,\"y1\":2.657774251108033},{\"line\":{\"color\":\"white\",\"width\":3},\"type\":\"line\",\"x0\":2.81714965268128,\"x1\":2.7142314641093357,\"y0\":3.914450561286805,\"y1\":4.0859377225003195}],\"title\":{\"text\":\"\\u003cb\\u003eNumber of Agents: 10\\u003c\\u002fb\\u003e\",\"x\":0.5}},\"name\":\"50\"},{\"data\":[{\"hoverinfo\":\"name\",\"line\":{\"color\":\"grey\"},\"mode\":\"lines\",\"name\":\"Exterior\",\"showlegend\":false,\"x\":[-10.0,-10.0,10.0,10.0,-10.0],\"y\":[10.0,-10.0,-10.0,10.0,10.0],\"type\":\"scatter\"},{\"hoverinfo\":\"text\",\"marker\":{\"opacity\":1,\"size\":1},\"mode\":\"markers\",\"showlegend\":false,\"text\":[\"ID: 1, Pos(1.79,4.38)\"],\"x\":[1.794621242254355],\"y\":[4.376801123973608],\"type\":\"scatter\"},{\"hoverinfo\":\"text\",\"marker\":{\"opacity\":1,\"size\":1},\"mode\":\"markers\",\"showlegend\":false,\"text\":[\"ID: 2, Pos(0.90,2.99)\"],\"x\":[0.9016408466756606],\"y\":[2.987280676607146],\"type\":\"scatter\"},{\"hoverinfo\":\"text\",\"marker\":{\"opacity\":1,\"size\":1},\"mode\":\"markers\",\"showlegend\":false,\"text\":[\"ID: 3, Pos(0.68,4.64)\"],\"x\":[0.6841858896945925],\"y\":[4.638782942135394],\"type\":\"scatter\"},{\"hoverinfo\":\"text\",\"marker\":{\"opacity\":1,\"size\":1},\"mode\":\"markers\",\"showlegend\":false,\"text\":[\"ID: 4, Pos(0.47,2.11)\"],\"x\":[0.4734924301190465],\"y\":[2.112608726886844],\"type\":\"scatter\"},{\"hoverinfo\":\"text\",\"marker\":{\"opacity\":1,\"size\":1},\"mode\":\"markers\",\"showlegend\":false,\"text\":[\"ID: 5, Pos(1.26,3.69)\"],\"x\":[1.264836748719741],\"y\":[3.694091663464535],\"type\":\"scatter\"},{\"hoverinfo\":\"text\",\"marker\":{\"opacity\":1,\"size\":1},\"mode\":\"markers\",\"showlegend\":false,\"text\":[\"ID: 6, Pos(3.54,4.26)\"],\"x\":[3.544182720241833],\"y\":[4.258564282241277],\"type\":\"scatter\"},{\"hoverinfo\":\"text\",\"marker\":{\"opacity\":1,\"size\":1},\"mode\":\"markers\",\"showlegend\":false,\"text\":[\"ID: 7, Pos(0.23,3.67)\"],\"x\":[0.23464572781445361],\"y\":[3.673169328479632],\"type\":\"scatter\"},{\"hoverinfo\":\"text\",\"marker\":{\"opacity\":1,\"size\":1},\"mode\":\"markers\",\"showlegend\":false,\"text\":[\"ID: 8, Pos(4.45,2.86)\"],\"x\":[4.4504880917849405],\"y\":[2.8567919563398285],\"type\":\"scatter\"},{\"hoverinfo\":\"text\",\"marker\":{\"opacity\":1,\"size\":1},\"mode\":\"markers\",\"showlegend\":false,\"text\":[\"ID: 9, Pos(3.13,2.68)\"],\"x\":[3.130376018323426],\"y\":[2.677431686326308],\"type\":\"scatter\"},{\"hoverinfo\":\"text\",\"marker\":{\"opacity\":1,\"size\":1},\"mode\":\"markers\",\"showlegend\":false,\"text\":[\"ID: 10, Pos(2.68,4.14)\"],\"x\":[2.6835009570463506],\"y\":[4.136943614987176],\"type\":\"scatter\"}],\"layout\":{\"shapes\":[{\"fillcolor\":\"rgba(0, 0, 128, 0.5)\",\"line\":{\"color\":\"rgba(0, 0, 128, 0.5)\"},\"type\":\"circle\",\"x0\":1.594621242254355,\"x1\":1.994621242254355,\"xref\":\"x\",\"y0\":4.176801123973608,\"y1\":4.576801123973608,\"yref\":\"y\"},{\"fillcolor\":\"rgba(0, 0, 255, 0.5)\",\"line\":{\"color\":\"rgba(0, 0, 255, 0.5)\"},\"type\":\"circle\",\"x0\":0.7016408466756605,\"x1\":1.1016408466756606,\"xref\":\"x\",\"y0\":2.787280676607146,\"y1\":3.187280676607146,\"yref\":\"y\"},{\"fillcolor\":\"rgba(0, 0, 187, 0.5)\",\"line\":{\"color\":\"rgba(0, 0, 187, 0.5)\"},\"type\":\"circle\",\"x0\":0.4841858896945925,\"x1\":0.8841858896945924,\"xref\":\"x\",\"y0\":4.4387829421353935,\"y1\":4.838782942135394,\"yref\":\"y\"},{\"fillcolor\":\"rgba(0, 88, 255, 0.5)\",\"line\":{\"color\":\"rgba(0, 88, 255, 0.5)\"},\"type\":\"circle\",\"x0\":0.2734924301190465,\"x1\":0.6734924301190466,\"xref\":\"x\",\"y0\":1.912608726886844,\"y1\":2.312608726886844,\"yref\":\"y\"},{\"fillcolor\":\"rgba(0, 80, 255, 0.5)\",\"line\":{\"color\":\"rgba(0, 80, 255, 0.5)\"},\"type\":\"circle\",\"x0\":1.064836748719741,\"x1\":1.464836748719741,\"xref\":\"x\",\"y0\":3.494091663464535,\"y1\":3.8940916634645353,\"yref\":\"y\"},{\"fillcolor\":\"rgba(0, 0, 146, 0.5)\",\"line\":{\"color\":\"rgba(0, 0, 146, 0.5)\"},\"type\":\"circle\",\"x0\":3.344182720241833,\"x1\":3.744182720241833,\"xref\":\"x\",\"y0\":4.058564282241277,\"y1\":4.458564282241277,\"yref\":\"y\"},{\"fillcolor\":\"rgba(0, 0, 218, 0.5)\",\"line\":{\"color\":\"rgba(0, 0, 218, 0.5)\"},\"type\":\"circle\",\"x0\":0.0346457278144536,\"x1\":0.43464572781445365,\"xref\":\"x\",\"y0\":3.473169328479632,\"y1\":3.8731693284796322,\"yref\":\"y\"},{\"fillcolor\":\"rgba(0, 0, 255, 0.5)\",\"line\":{\"color\":\"rgba(0, 0, 255, 0.5)\"},\"type\":\"circle\",\"x0\":4.25048809178494,\"x1\":4.650488091784941,\"xref\":\"x\",\"y0\":2.6567919563398283,\"y1\":3.0567919563398287,\"yref\":\"y\"},{\"fillcolor\":\"rgba(0, 144, 255, 0.5)\",\"line\":{\"color\":\"rgba(0, 144, 255, 0.5)\"},\"type\":\"circle\",\"x0\":2.9303760183234258,\"x1\":3.330376018323426,\"xref\":\"x\",\"y0\":2.477431686326308,\"y1\":2.8774316863263083,\"yref\":\"y\"},{\"fillcolor\":\"rgba(0, 0, 228, 0.5)\",\"line\":{\"color\":\"rgba(0, 0, 228, 0.5)\"},\"type\":\"circle\",\"x0\":2.4835009570463504,\"x1\":2.883500957046351,\"xref\":\"x\",\"y0\":3.936943614987176,\"y1\":4.3369436149871765,\"yref\":\"y\"},{\"line\":{\"color\":\"white\",\"width\":3},\"type\":\"line\",\"x0\":1.794621242254355,\"x1\":1.72833914478094,\"y0\":4.376801123973608,\"y1\":4.5654984571676005},{\"line\":{\"color\":\"white\",\"width\":3},\"type\":\"line\",\"x0\":0.9016408466756606,\"x1\":0.8587285702307984,\"y0\":2.987280676607146,\"y1\":3.1826227778816016},{\"line\":{\"color\":\"white\",\"width\":3},\"type\":\"line\",\"x0\":0.6841858896945925,\"x1\":0.6529557742909838,\"y0\":4.638782942135394,\"y1\":4.836329594579512},{\"line\":{\"color\":\"white\",\"width\":3},\"type\":\"line\",\"x0\":0.4734924301190465,\"x1\":0.4571395651434976,\"y0\":2.112608726886844,\"y1\":2.31193906528793},{\"line\":{\"color\":\"white\",\"width\":3},\"type\":\"line\",\"x0\":1.264836748719741,\"x1\":1.229171683474763,\"y0\":3.694091663464535,\"y1\":3.890885980255116},{\"line\":{\"color\":\"white\",\"width\":3},\"type\":\"line\",\"x0\":3.544182720241833,\"x1\":3.4353064180013297,\"y0\":4.258564282241277,\"y1\":4.426331832174018},{\"line\":{\"color\":\"white\",\"width\":3},\"type\":\"line\",\"x0\":0.23464572781445361,\"x1\":0.218062426931252,\"y0\":3.673169328479632,\"y1\":3.872480628038431},{\"line\":{\"color\":\"white\",\"width\":3},\"type\":\"line\",\"x0\":4.4504880917849405,\"x1\":4.333251955496244,\"y0\":2.8567919563398285,\"y1\":3.0188280274724564},{\"line\":{\"color\":\"white\",\"width\":3},\"type\":\"line\",\"x0\":3.130376018323426,\"x1\":3.0415090383092402,\"y0\":2.677431686326308,\"y1\":2.856603837798456},{\"line\":{\"color\":\"white\",\"width\":3},\"type\":\"line\",\"x0\":2.6835009570463506,\"x1\":2.5804725724621678,\"y0\":4.136943614987176,\"y1\":4.308364593779078}],\"title\":{\"text\":\"\\u003cb\\u003eNumber of Agents: 10\\u003c\\u002fb\\u003e\",\"x\":0.5}},\"name\":\"55\"},{\"data\":[{\"hoverinfo\":\"name\",\"line\":{\"color\":\"grey\"},\"mode\":\"lines\",\"name\":\"Exterior\",\"showlegend\":false,\"x\":[-10.0,-10.0,10.0,10.0,-10.0],\"y\":[10.0,-10.0,-10.0,10.0,10.0],\"type\":\"scatter\"},{\"hoverinfo\":\"text\",\"marker\":{\"opacity\":1,\"size\":1},\"mode\":\"markers\",\"showlegend\":false,\"text\":[\"ID: 1, Pos(1.70,4.64)\"],\"x\":[1.702113917565296],\"y\":[4.637906266628918],\"type\":\"scatter\"},{\"hoverinfo\":\"text\",\"marker\":{\"opacity\":1,\"size\":1},\"mode\":\"markers\",\"showlegend\":false,\"text\":[\"ID: 2, Pos(0.85,3.24)\"],\"x\":[0.8466844247393044],\"y\":[3.235725353062328],\"type\":\"scatter\"},{\"hoverinfo\":\"text\",\"marker\":{\"opacity\":1,\"size\":1},\"mode\":\"markers\",\"showlegend\":false,\"text\":[\"ID: 3, Pos(0.64,4.90)\"],\"x\":[0.6423054011350465],\"y\":[4.902246075948462],\"type\":\"scatter\"},{\"hoverinfo\":\"text\",\"marker\":{\"opacity\":1,\"size\":1},\"mode\":\"markers\",\"showlegend\":false,\"text\":[\"ID: 4, Pos(0.45,2.35)\"],\"x\":[0.45412146455145463],\"y\":[2.349833066639516],\"type\":\"scatter\"},{\"hoverinfo\":\"text\",\"marker\":{\"opacity\":1,\"size\":1},\"mode\":\"markers\",\"showlegend\":false,\"text\":[\"ID: 5, Pos(1.22,3.93)\"],\"x\":[1.2223998650158858],\"y\":[3.931267866858483],\"type\":\"scatter\"},{\"hoverinfo\":\"text\",\"marker\":{\"opacity\":1,\"size\":1},\"mode\":\"markers\",\"showlegend\":false,\"text\":[\"ID: 6, Pos(3.40,4.49)\"],\"x\":[3.396199539951552],\"y\":[4.488337095896623],\"type\":\"scatter\"},{\"hoverinfo\":\"text\",\"marker\":{\"opacity\":1,\"size\":1},\"mode\":\"markers\",\"showlegend\":false,\"text\":[\"ID: 7, Pos(0.21,3.93)\"],\"x\":[0.212561963699414],\"y\":[3.9333169525262943],\"type\":\"scatter\"},{\"hoverinfo\":\"text\",\"marker\":{\"opacity\":1,\"size\":1},\"mode\":\"markers\",\"showlegend\":false,\"text\":[\"ID: 8, Pos(4.30,3.06)\"],\"x\":[4.30068188310316],\"y\":[3.0639192403272655],\"type\":\"scatter\"},{\"hoverinfo\":\"text\",\"marker\":{\"opacity\":1,\"size\":1},\"mode\":\"markers\",\"showlegend\":false,\"text\":[\"ID: 9, Pos(3.03,2.88)\"],\"x\":[3.0290572137860305],\"y\":[2.8816171221739775],\"type\":\"scatter\"},{\"hoverinfo\":\"text\",\"marker\":{\"opacity\":1,\"size\":1},\"mode\":\"markers\",\"showlegend\":false,\"text\":[\"ID: 10, Pos(2.55,4.36)\"],\"x\":[2.549779986698917],\"y\":[4.359393243152553],\"type\":\"scatter\"}],\"layout\":{\"shapes\":[{\"fillcolor\":\"rgba(0, 0, 128, 0.5)\",\"line\":{\"color\":\"rgba(0, 0, 128, 0.5)\"},\"type\":\"circle\",\"x0\":1.502113917565296,\"x1\":1.902113917565296,\"xref\":\"x\",\"y0\":4.437906266628918,\"y1\":4.837906266628918,\"yref\":\"y\"},{\"fillcolor\":\"rgba(0, 0, 255, 0.5)\",\"line\":{\"color\":\"rgba(0, 0, 255, 0.5)\"},\"type\":\"circle\",\"x0\":0.6466844247393044,\"x1\":1.0466844247393043,\"xref\":\"x\",\"y0\":3.0357253530623276,\"y1\":3.435725353062328,\"yref\":\"y\"},{\"fillcolor\":\"rgba(0, 0, 187, 0.5)\",\"line\":{\"color\":\"rgba(0, 0, 187, 0.5)\"},\"type\":\"circle\",\"x0\":0.4423054011350465,\"x1\":0.8423054011350466,\"xref\":\"x\",\"y0\":4.7022460759484614,\"y1\":5.102246075948462,\"yref\":\"y\"},{\"fillcolor\":\"rgba(0, 64, 255, 0.5)\",\"line\":{\"color\":\"rgba(0, 64, 255, 0.5)\"},\"type\":\"circle\",\"x0\":0.2541214645514546,\"x1\":0.6541214645514546,\"xref\":\"x\",\"y0\":2.149833066639516,\"y1\":2.549833066639516,\"yref\":\"y\"},{\"fillcolor\":\"rgba(0, 56, 255, 0.5)\",\"line\":{\"color\":\"rgba(0, 56, 255, 0.5)\"},\"type\":\"circle\",\"x0\":1.0223998650158859,\"x1\":1.4223998650158858,\"xref\":\"x\",\"y0\":3.7312678668584827,\"y1\":4.131267866858483,\"yref\":\"y\"},{\"fillcolor\":\"rgba(0, 0, 146, 0.5)\",\"line\":{\"color\":\"rgba(0, 0, 146, 0.5)\"},\"type\":\"circle\",\"x0\":3.196199539951552,\"x1\":3.5961995399515523,\"xref\":\"x\",\"y0\":4.2883370958966225,\"y1\":4.688337095896623,\"yref\":\"y\"},{\"fillcolor\":\"rgba(0, 0, 218, 0.5)\",\"line\":{\"color\":\"rgba(0, 0, 218, 0.5)\"},\"type\":\"circle\",\"x0\":0.01256196369941398,\"x1\":0.412561963699414,\"xref\":\"x\",\"y0\":3.733316952526294,\"y1\":4.133316952526294,\"yref\":\"y\"},{\"fillcolor\":\"rgba(0, 0, 241, 0.5)\",\"line\":{\"color\":\"rgba(0, 0, 241, 0.5)\"},\"type\":\"circle\",\"x0\":4.10068188310316,\"x1\":4.5006818831031605,\"xref\":\"x\",\"y0\":2.8639192403272653,\"y1\":3.2639192403272657,\"yref\":\"y\"},{\"fillcolor\":\"rgba(0, 117, 255, 0.5)\",\"line\":{\"color\":\"rgba(0, 117, 255, 0.5)\"},\"type\":\"circle\",\"x0\":2.8290572137860304,\"x1\":3.2290572137860307,\"xref\":\"x\",\"y0\":2.6816171221739773,\"y1\":3.0816171221739777,\"yref\":\"y\"},{\"fillcolor\":\"rgba(0, 0, 228, 0.5)\",\"line\":{\"color\":\"rgba(0, 0, 228, 0.5)\"},\"type\":\"circle\",\"x0\":2.3497799866989166,\"x1\":2.749779986698917,\"xref\":\"x\",\"y0\":4.159393243152553,\"y1\":4.559393243152553,\"yref\":\"y\"},{\"line\":{\"color\":\"white\",\"width\":3},\"type\":\"line\",\"x0\":1.702113917565296,\"x1\":1.6348643030904186,\"y0\":4.637906266628918,\"y1\":4.8262609569155694},{\"line\":{\"color\":\"white\",\"width\":3},\"type\":\"line\",\"x0\":0.8466844247393044,\"x1\":0.8032472214679469,\"y0\":3.235725353062328,\"y1\":3.4309513999207395},{\"line\":{\"color\":\"white\",\"width\":3},\"type\":\"line\",\"x0\":0.6423054011350465,\"x1\":0.6107130885142632,\"y0\":4.902246075948462,\"y1\":5.099735128260915},{\"line\":{\"color\":\"white\",\"width\":3},\"type\":\"line\",\"x0\":0.45412146455145463,\"x1\":0.4379108323319031,\"y0\":2.349833066639516,\"y1\":2.5491750225922014},{\"line\":{\"color\":\"white\",\"width\":3},\"type\":\"line\",\"x0\":1.2223998650158858,\"x1\":1.187489817032275,\"y0\":3.931267866858483,\"y1\":4.128197520668624},{\"line\":{\"color\":\"white\",\"width\":3},\"type\":\"line\",\"x0\":3.396199539951552,\"x1\":3.2884237444480693,\"y0\":4.488337095896623,\"y1\":4.65681373494071},{\"line\":{\"color\":\"white\",\"width\":3},\"type\":\"line\",\"x0\":0.212561963699414,\"x1\":0.19533513261223548,\"y0\":3.9333169525262943,\"y1\":4.132573662051203},{\"line\":{\"color\":\"white\",\"width\":3},\"type\":\"line\",\"x0\":4.30068188310316,\"x1\":4.18350294544549,\"y0\":3.0639192403272655,\"y1\":3.225996680365723},{\"line\":{\"color\":\"white\",\"width\":3},\"type\":\"line\",\"x0\":3.0290572137860305,\"x1\":2.9401242515172843,\"y0\":2.8816171221739775,\"y1\":3.0607565321933974},{\"line\":{\"color\":\"white\",\"width\":3},\"type\":\"line\",\"x0\":2.549779986698917,\"x1\":2.446738296899074,\"y0\":4.359393243152553,\"y1\":4.530806224467251}],\"title\":{\"text\":\"\\u003cb\\u003eNumber of Agents: 10\\u003c\\u002fb\\u003e\",\"x\":0.5}},\"name\":\"60\"},{\"data\":[{\"hoverinfo\":\"name\",\"line\":{\"color\":\"grey\"},\"mode\":\"lines\",\"name\":\"Exterior\",\"showlegend\":false,\"x\":[-10.0,-10.0,10.0,10.0,-10.0],\"y\":[10.0,-10.0,-10.0,10.0,10.0],\"type\":\"scatter\"},{\"hoverinfo\":\"text\",\"marker\":{\"opacity\":1,\"size\":1},\"mode\":\"markers\",\"showlegend\":false,\"text\":[\"ID: 1, Pos(1.61,4.90)\"],\"x\":[1.6083374593988156],\"y\":[4.898558391820764],\"type\":\"scatter\"},{\"hoverinfo\":\"text\",\"marker\":{\"opacity\":1,\"size\":1},\"mode\":\"markers\",\"showlegend\":false,\"text\":[\"ID: 2, Pos(0.79,3.49)\"],\"x\":[0.7906345178475273],\"y\":[3.4864152154842465],\"type\":\"scatter\"},{\"hoverinfo\":\"text\",\"marker\":{\"opacity\":1,\"size\":1},\"mode\":\"markers\",\"showlegend\":false,\"text\":[\"ID: 3, Pos(0.60,5.17)\"],\"x\":[0.5997279714380179],\"y\":[5.165597377069722],\"type\":\"scatter\"},{\"hoverinfo\":\"text\",\"marker\":{\"opacity\":1,\"size\":1},\"mode\":\"markers\",\"showlegend\":false,\"text\":[\"ID: 4, Pos(0.43,2.59)\"],\"x\":[0.4345793214495224],\"y\":[2.5912653808646486],\"type\":\"scatter\"},{\"hoverinfo\":\"text\",\"marker\":{\"opacity\":1,\"size\":1},\"mode\":\"markers\",\"showlegend\":false,\"text\":[\"ID: 5, Pos(1.18,4.17)\"],\"x\":[1.1807969090082115],\"y\":[4.169493396632442],\"type\":\"scatter\"},{\"hoverinfo\":\"text\",\"marker\":{\"opacity\":1,\"size\":1},\"mode\":\"markers\",\"showlegend\":false,\"text\":[\"ID: 6, Pos(3.25,4.72)\"],\"x\":[3.2496539238504485],\"y\":[4.719029527777114],\"type\":\"scatter\"},{\"hoverinfo\":\"text\",\"marker\":{\"opacity\":1,\"size\":1},\"mode\":\"markers\",\"showlegend\":false,\"text\":[\"ID: 7, Pos(0.19,4.19)\"],\"x\":[0.18961005098160313],\"y\":[4.193389406650481],\"type\":\"scatter\"},{\"hoverinfo\":\"text\",\"marker\":{\"opacity\":1,\"size\":1},\"mode\":\"markers\",\"showlegend\":false,\"text\":[\"ID: 8, Pos(4.15,3.27)\"],\"x\":[4.14903482164988],\"y\":[3.2737929959647283],\"type\":\"scatter\"},{\"hoverinfo\":\"text\",\"marker\":{\"opacity\":1,\"size\":1},\"mode\":\"markers\",\"showlegend\":false,\"text\":[\"ID: 9, Pos(2.93,3.09)\"],\"x\":[2.9254208514197697],\"y\":[3.090221792764419],\"type\":\"scatter\"},{\"hoverinfo\":\"text\",\"marker\":{\"opacity\":1,\"size\":1},\"mode\":\"markers\",\"showlegend\":false,\"text\":[\"ID: 10, Pos(2.42,4.58)\"],\"x\":[2.4160794721706162],\"y\":[4.581855166196084],\"type\":\"scatter\"}],\"layout\":{\"shapes\":[{\"fillcolor\":\"rgba(0, 0, 128, 0.5)\",\"line\":{\"color\":\"rgba(0, 0, 128, 0.5)\"},\"type\":\"circle\",\"x0\":1.4083374593988156,\"x1\":1.8083374593988155,\"xref\":\"x\",\"y0\":4.698558391820764,\"y1\":5.098558391820764,\"yref\":\"y\"},{\"fillcolor\":\"rgba(0, 0, 255, 0.5)\",\"line\":{\"color\":\"rgba(0, 0, 255, 0.5)\"},\"type\":\"circle\",\"x0\":0.5906345178475272,\"x1\":0.9906345178475273,\"xref\":\"x\",\"y0\":3.2864152154842463,\"y1\":3.6864152154842467,\"yref\":\"y\"},{\"fillcolor\":\"rgba(0, 0, 187, 0.5)\",\"line\":{\"color\":\"rgba(0, 0, 187, 0.5)\"},\"type\":\"circle\",\"x0\":0.3997279714380179,\"x1\":0.7997279714380179,\"xref\":\"x\",\"y0\":4.965597377069722,\"y1\":5.365597377069722,\"yref\":\"y\"},{\"fillcolor\":\"rgba(0, 132, 255, 0.5)\",\"line\":{\"color\":\"rgba(0, 132, 255, 0.5)\"},\"type\":\"circle\",\"x0\":0.23457932144952237,\"x1\":0.6345793214495223,\"xref\":\"x\",\"y0\":2.3912653808646485,\"y1\":2.791265380864649,\"yref\":\"y\"},{\"fillcolor\":\"rgba(0, 37, 255, 0.5)\",\"line\":{\"color\":\"rgba(0, 37, 255, 0.5)\"},\"type\":\"circle\",\"x0\":0.9807969090082116,\"x1\":1.3807969090082115,\"xref\":\"x\",\"y0\":3.9694933966324415,\"y1\":4.369493396632442,\"yref\":\"y\"},{\"fillcolor\":\"rgba(0, 0, 146, 0.5)\",\"line\":{\"color\":\"rgba(0, 0, 146, 0.5)\"},\"type\":\"circle\",\"x0\":3.0496539238504483,\"x1\":3.4496539238504487,\"xref\":\"x\",\"y0\":4.519029527777114,\"y1\":4.9190295277771146,\"yref\":\"y\"},{\"fillcolor\":\"rgba(0, 0, 218, 0.5)\",\"line\":{\"color\":\"rgba(0, 0, 218, 0.5)\"},\"type\":\"circle\",\"x0\":-0.010389949018396877,\"x1\":0.3896100509816032,\"xref\":\"x\",\"y0\":3.993389406650481,\"y1\":4.393389406650481,\"yref\":\"y\"},{\"fillcolor\":\"rgba(0, 0, 223, 0.5)\",\"line\":{\"color\":\"rgba(0, 0, 223, 0.5)\"},\"type\":\"circle\",\"x0\":3.94903482164988,\"x1\":4.34903482164988,\"xref\":\"x\",\"y0\":3.073792995964728,\"y1\":3.4737929959647285,\"yref\":\"y\"},{\"fillcolor\":\"rgba(0, 93, 255, 0.5)\",\"line\":{\"color\":\"rgba(0, 93, 255, 0.5)\"},\"type\":\"circle\",\"x0\":2.7254208514197695,\"x1\":3.12542085141977,\"xref\":\"x\",\"y0\":2.890221792764419,\"y1\":3.2902217927644193,\"yref\":\"y\"},{\"fillcolor\":\"rgba(0, 0, 228, 0.5)\",\"line\":{\"color\":\"rgba(0, 0, 228, 0.5)\"},\"type\":\"circle\",\"x0\":2.216079472170616,\"x1\":2.6160794721706164,\"xref\":\"x\",\"y0\":4.381855166196083,\"y1\":4.781855166196084,\"yref\":\"y\"},{\"line\":{\"color\":\"white\",\"width\":3},\"type\":\"line\",\"x0\":1.6083374593988156,\"x1\":1.5401837976954538,\"y0\":4.898558391820764,\"y1\":5.08658785333258},{\"line\":{\"color\":\"white\",\"width\":3},\"type\":\"line\",\"x0\":0.7906345178475273,\"x1\":0.7467069994210426,\"y0\":3.4864152154842465,\"y1\":3.6815315221448914},{\"line\":{\"color\":\"white\",\"width\":3},\"type\":\"line\",\"x0\":0.5997279714380179,\"x1\":0.5674522843199433,\"y0\":5.165597377069722,\"y1\":5.362975896724359},{\"line\":{\"color\":\"white\",\"width\":3},\"type\":\"line\",\"x0\":0.4345793214495224,\"x1\":0.4185127255016239,\"y0\":2.5912653808646486,\"y1\":2.7906189975728664},{\"line\":{\"color\":\"white\",\"width\":3},\"type\":\"line\",\"x0\":1.1807969090082115,\"x1\":1.1469092171596469,\"y0\":4.169493396632442,\"y1\":4.366601550550986},{\"line\":{\"color\":\"white\",\"width\":3},\"type\":\"line\",\"x0\":3.2496539238504485,\"x1\":3.142878960954858,\"y0\":4.719029527777114,\"y1\":4.888142233682512},{\"line\":{\"color\":\"white\",\"width\":3},\"type\":\"line\",\"x0\":0.18961005098160313,\"x1\":0.171709750769847,\"y0\":4.193389406650481,\"y1\":4.392586744113433},{\"line\":{\"color\":\"white\",\"width\":3},\"type\":\"line\",\"x0\":4.14903482164988,\"x1\":4.031947174873009,\"y0\":3.2737929959647283,\"y1\":3.4359363984584923},{\"line\":{\"color\":\"white\",\"width\":3},\"type\":\"line\",\"x0\":2.9254208514197697,\"x1\":2.8363812262243724,\"y0\":3.090221792764419,\"y1\":3.2693082108565323},{\"line\":{\"color\":\"white\",\"width\":3},\"type\":\"line\",\"x0\":2.4160794721706162,\"x1\":2.313071969464625,\"y0\":4.581855166196084,\"y1\":4.7532886937986945}],\"title\":{\"text\":\"\\u003cb\\u003eNumber of Agents: 10\\u003c\\u002fb\\u003e\",\"x\":0.5}},\"name\":\"65\"},{\"data\":[{\"hoverinfo\":\"name\",\"line\":{\"color\":\"grey\"},\"mode\":\"lines\",\"name\":\"Exterior\",\"showlegend\":false,\"x\":[-10.0,-10.0,10.0,10.0,-10.0],\"y\":[10.0,-10.0,-10.0,10.0,10.0],\"type\":\"scatter\"},{\"hoverinfo\":\"text\",\"marker\":{\"opacity\":1,\"size\":1},\"mode\":\"markers\",\"showlegend\":false,\"text\":[\"ID: 1, Pos(1.51,5.16)\"],\"x\":[1.5137677443271202],\"y\":[5.158923961329064],\"type\":\"scatter\"},{\"hoverinfo\":\"text\",\"marker\":{\"opacity\":1,\"size\":1},\"mode\":\"markers\",\"showlegend\":false,\"text\":[\"ID: 2, Pos(0.74,3.73)\"],\"x\":[0.7357724463472213],\"y\":[3.7313861017039467],\"type\":\"scatter\"},{\"hoverinfo\":\"text\",\"marker\":{\"opacity\":1,\"size\":1},\"mode\":\"markers\",\"showlegend\":false,\"text\":[\"ID: 3, Pos(0.56,5.43)\"],\"x\":[0.5559333798869064],\"y\":[5.42874876130212],\"type\":\"scatter\"},{\"hoverinfo\":\"text\",\"marker\":{\"opacity\":1,\"size\":1},\"mode\":\"markers\",\"showlegend\":false,\"text\":[\"ID: 4, Pos(0.42,2.80)\"],\"x\":[0.41763058560473315],\"y\":[2.8030943525443055],\"type\":\"scatter\"},{\"hoverinfo\":\"text\",\"marker\":{\"opacity\":1,\"size\":1},\"mode\":\"markers\",\"showlegend\":false,\"text\":[\"ID: 5, Pos(1.14,4.41)\"],\"x\":[1.1387393918397601],\"y\":[4.414192718456643],\"type\":\"scatter\"},{\"hoverinfo\":\"text\",\"marker\":{\"opacity\":1,\"size\":1},\"mode\":\"markers\",\"showlegend\":false,\"text\":[\"ID: 6, Pos(3.10,4.95)\"],\"x\":[3.104378767822638],\"y\":[4.950524243175177],\"type\":\"scatter\"},{\"hoverinfo\":\"text\",\"marker\":{\"opacity\":1,\"size\":1},\"mode\":\"markers\",\"showlegend\":false,\"text\":[\"ID: 7, Pos(0.17,4.45)\"],\"x\":[0.16575108843383793],\"y\":[4.453380207098805],\"type\":\"scatter\"},{\"hoverinfo\":\"text\",\"marker\":{\"opacity\":1,\"size\":1},\"mode\":\"markers\",\"showlegend\":false,\"text\":[\"ID: 8, Pos(4.00,3.49)\"],\"x\":[3.9959432779772386],\"y\":[3.485989437378558],\"type\":\"scatter\"},{\"hoverinfo\":\"text\",\"marker\":{\"opacity\":1,\"size\":1},\"mode\":\"markers\",\"showlegend\":false,\"text\":[\"ID: 9, Pos(2.82,3.30)\"],\"x\":[2.8197695465592965],\"y\":[3.302472933559575],\"type\":\"scatter\"},{\"hoverinfo\":\"text\",\"marker\":{\"opacity\":1,\"size\":1},\"mode\":\"markers\",\"showlegend\":false,\"text\":[\"ID: 10, Pos(2.28,4.80)\"],\"x\":[2.2824414907996813],\"y\":[4.804354658622951],\"type\":\"scatter\"}],\"layout\":{\"shapes\":[{\"fillcolor\":\"rgba(0, 0, 128, 0.5)\",\"line\":{\"color\":\"rgba(0, 0, 128, 0.5)\"},\"type\":\"circle\",\"x0\":1.3137677443271203,\"x1\":1.7137677443271202,\"xref\":\"x\",\"y0\":4.958923961329064,\"y1\":5.358923961329064,\"yref\":\"y\"},{\"fillcolor\":\"rgba(93, 255, 154, 0.5)\",\"line\":{\"color\":\"rgba(93, 255, 154, 0.5)\"},\"type\":\"circle\",\"x0\":0.5357724463472213,\"x1\":0.9357724463472212,\"xref\":\"x\",\"y0\":3.5313861017039465,\"y1\":3.931386101703947,\"yref\":\"y\"},{\"fillcolor\":\"rgba(0, 0, 187, 0.5)\",\"line\":{\"color\":\"rgba(0, 0, 187, 0.5)\"},\"type\":\"circle\",\"x0\":0.3559333798869064,\"x1\":0.7559333798869063,\"xref\":\"x\",\"y0\":5.2287487613021195,\"y1\":5.62874876130212,\"yref\":\"y\"},{\"fillcolor\":\"rgba(186, 255, 60, 0.5)\",\"line\":{\"color\":\"rgba(186, 255, 60, 0.5)\"},\"type\":\"circle\",\"x0\":0.21763058560473314,\"x1\":0.6176305856047332,\"xref\":\"x\",\"y0\":2.6030943525443053,\"y1\":3.0030943525443057,\"yref\":\"y\"},{\"fillcolor\":\"rgba(12, 244, 235, 0.5)\",\"line\":{\"color\":\"rgba(12, 244, 235, 0.5)\"},\"type\":\"circle\",\"x0\":0.9387393918397602,\"x1\":1.33873939183976,\"xref\":\"x\",\"y0\":4.214192718456643,\"y1\":4.614192718456644,\"yref\":\"y\"},{\"fillcolor\":\"rgba(0, 0, 146, 0.5)\",\"line\":{\"color\":\"rgba(0, 0, 146, 0.5)\"},\"type\":\"circle\",\"x0\":2.904378767822638,\"x1\":3.304378767822638,\"xref\":\"x\",\"y0\":4.750524243175176,\"y1\":5.150524243175177,\"yref\":\"y\"},{\"fillcolor\":\"rgba(0, 0, 218, 0.5)\",\"line\":{\"color\":\"rgba(0, 0, 218, 0.5)\"},\"type\":\"circle\",\"x0\":-0.03424891156616208,\"x1\":0.36575108843383797,\"xref\":\"x\",\"y0\":4.253380207098805,\"y1\":4.653380207098805,\"yref\":\"y\"},{\"fillcolor\":\"rgba(0, 0, 209, 0.5)\",\"line\":{\"color\":\"rgba(0, 0, 209, 0.5)\"},\"type\":\"circle\",\"x0\":3.7959432779772384,\"x1\":4.195943277977238,\"xref\":\"x\",\"y0\":3.2859894373785576,\"y1\":3.685989437378558,\"yref\":\"y\"},{\"fillcolor\":\"rgba(0, 72, 255, 0.5)\",\"line\":{\"color\":\"rgba(0, 72, 255, 0.5)\"},\"type\":\"circle\",\"x0\":2.6197695465592963,\"x1\":3.0197695465592966,\"xref\":\"x\",\"y0\":3.1024729335595747,\"y1\":3.502472933559575,\"yref\":\"y\"},{\"fillcolor\":\"rgba(0, 0, 228, 0.5)\",\"line\":{\"color\":\"rgba(0, 0, 228, 0.5)\"},\"type\":\"circle\",\"x0\":2.082441490799681,\"x1\":2.4824414907996815,\"xref\":\"x\",\"y0\":4.604354658622951,\"y1\":5.004354658622951,\"yref\":\"y\"},{\"line\":{\"color\":\"white\",\"width\":3},\"type\":\"line\",\"x0\":1.5137677443271202,\"x1\":1.4455043450900955,\"y0\":5.158923961329064,\"y1\":5.346913610843623},{\"line\":{\"color\":\"black\",\"width\":3},\"type\":\"line\",\"x0\":0.7357724463472213,\"x1\":0.6917986668938395,\"y0\":3.7313861017039467,\"y1\":3.9264919876238373},{\"line\":{\"color\":\"white\",\"width\":3},\"type\":\"line\",\"x0\":0.5559333798869064,\"x1\":0.5225133716716046,\"y0\":5.42874876130212,\"y1\":5.625936750416288},{\"line\":{\"color\":\"black\",\"width\":3},\"type\":\"line\",\"x0\":0.41763058560473315,\"x1\":0.402309301203658,\"y0\":2.8030943525443055,\"y1\":3.002506634624175},{\"line\":{\"color\":\"black\",\"width\":3},\"type\":\"line\",\"x0\":1.1387393918397601,\"x1\":1.104600303114448,\"y0\":4.414192718456643,\"y1\":4.611257486035745},{\"line\":{\"color\":\"white\",\"width\":3},\"type\":\"line\",\"x0\":3.104378767822638,\"x1\":2.9984637762275383,\"y0\":4.950524243175177,\"y1\":5.120176872260051},{\"line\":{\"color\":\"white\",\"width\":3},\"type\":\"line\",\"x0\":0.16575108843383793,\"x1\":0.14712393701199789,\"y0\":4.453380207098805,\"y1\":4.652510890896927},{\"line\":{\"color\":\"white\",\"width\":3},\"type\":\"line\",\"x0\":3.9959432779772386,\"x1\":3.8790004475823014,\"y0\":3.485989437378558,\"y1\":3.648237316930868},{\"line\":{\"color\":\"white\",\"width\":3},\"type\":\"line\",\"x0\":2.8197695465592965,\"x1\":2.73056019764227,\"y0\":3.302472933559575,\"y1\":3.48147486669383},{\"line\":{\"color\":\"white\",\"width\":3},\"type\":\"line\",\"x0\":2.2824414907996813,\"x1\":2.179500105307027,\"y0\":4.804354658622951,\"y1\":4.975827896047491}],\"title\":{\"text\":\"\\u003cb\\u003eNumber of Agents: 10\\u003c\\u002fb\\u003e\",\"x\":0.5}},\"name\":\"70\"},{\"data\":[{\"hoverinfo\":\"name\",\"line\":{\"color\":\"grey\"},\"mode\":\"lines\",\"name\":\"Exterior\",\"showlegend\":false,\"x\":[-10.0,-10.0,10.0,10.0,-10.0],\"y\":[10.0,-10.0,-10.0,10.0,10.0],\"type\":\"scatter\"},{\"hoverinfo\":\"text\",\"marker\":{\"opacity\":1,\"size\":1},\"mode\":\"markers\",\"showlegend\":false,\"text\":[\"ID: 1, Pos(1.41,5.42)\"],\"x\":[1.4144292425828413],\"y\":[5.417493990741627],\"type\":\"scatter\"},{\"hoverinfo\":\"text\",\"marker\":{\"opacity\":1,\"size\":1},\"mode\":\"markers\",\"showlegend\":false,\"text\":[\"ID: 2, Pos(0.71,3.85)\"],\"x\":[0.7107549157294651],\"y\":[3.850843408994943],\"type\":\"scatter\"},{\"hoverinfo\":\"text\",\"marker\":{\"opacity\":1,\"size\":1},\"mode\":\"markers\",\"showlegend\":false,\"text\":[\"ID: 3, Pos(0.51,5.69)\"],\"x\":[0.5102349246401727],\"y\":[5.691575635009019],\"type\":\"scatter\"},{\"hoverinfo\":\"text\",\"marker\":{\"opacity\":1,\"size\":1},\"mode\":\"markers\",\"showlegend\":false,\"text\":[\"ID: 4, Pos(0.41,2.92)\"],\"x\":[0.4087472636924569],\"y\":[2.919090850185633],\"type\":\"scatter\"},{\"hoverinfo\":\"text\",\"marker\":{\"opacity\":1,\"size\":1},\"mode\":\"markers\",\"showlegend\":false,\"text\":[\"ID: 5, Pos(1.11,4.58)\"],\"x\":[1.1098568933390007],\"y\":[4.575150457186242],\"type\":\"scatter\"},{\"hoverinfo\":\"text\",\"marker\":{\"opacity\":1,\"size\":1},\"mode\":\"markers\",\"showlegend\":false,\"text\":[\"ID: 6, Pos(2.96,5.18)\"],\"x\":[2.9601553393886277],\"y\":[5.1826757849615355],\"type\":\"scatter\"},{\"hoverinfo\":\"text\",\"marker\":{\"opacity\":1,\"size\":1},\"mode\":\"markers\",\"showlegend\":false,\"text\":[\"ID: 7, Pos(0.14,4.71)\"],\"x\":[0.14475321678577907],\"y\":[4.713612538522119],\"type\":\"scatter\"},{\"hoverinfo\":\"text\",\"marker\":{\"opacity\":1,\"size\":1},\"mode\":\"markers\",\"showlegend\":false,\"text\":[\"ID: 8, Pos(3.84,3.70)\"],\"x\":[3.841891202707174],\"y\":[3.7000317987052758],\"type\":\"scatter\"},{\"hoverinfo\":\"text\",\"marker\":{\"opacity\":1,\"size\":1},\"mode\":\"markers\",\"showlegend\":false,\"text\":[\"ID: 9, Pos(2.71,3.52)\"],\"x\":[2.7123070806545013],\"y\":[3.5177080965550753],\"type\":\"scatter\"},{\"hoverinfo\":\"text\",\"marker\":{\"opacity\":1,\"size\":1},\"mode\":\"markers\",\"showlegend\":false,\"text\":[\"ID: 10, Pos(2.15,5.03)\"],\"x\":[2.1487936536448817],\"y\":[5.026848219637864],\"type\":\"scatter\"}],\"layout\":{\"shapes\":[{\"fillcolor\":\"rgba(0, 0, 128, 0.5)\",\"line\":{\"color\":\"rgba(0, 0, 128, 0.5)\"},\"type\":\"circle\",\"x0\":1.2144292425828414,\"x1\":1.6144292425828413,\"xref\":\"x\",\"y0\":5.217493990741627,\"y1\":5.617493990741627,\"yref\":\"y\"},{\"fillcolor\":\"rgba(255, 145, 0, 0.5)\",\"line\":{\"color\":\"rgba(255, 145, 0, 0.5)\"},\"type\":\"circle\",\"x0\":0.5107549157294651,\"x1\":0.9107549157294652,\"xref\":\"x\",\"y0\":3.650843408994943,\"y1\":4.050843408994943,\"yref\":\"y\"},{\"fillcolor\":\"rgba(0, 0, 187, 0.5)\",\"line\":{\"color\":\"rgba(0, 0, 187, 0.5)\"},\"type\":\"circle\",\"x0\":0.3102349246401727,\"x1\":0.7102349246401727,\"xref\":\"x\",\"y0\":5.491575635009019,\"y1\":5.891575635009019,\"yref\":\"y\"},{\"fillcolor\":\"rgba(255, 82, 0, 0.5)\",\"line\":{\"color\":\"rgba(255, 82, 0, 0.5)\"},\"type\":\"circle\",\"x0\":0.20874726369245689,\"x1\":0.6087472636924569,\"xref\":\"x\",\"y0\":2.719090850185633,\"y1\":3.1190908501856334,\"yref\":\"y\"},{\"fillcolor\":\"rgba(154, 255, 93, 0.5)\",\"line\":{\"color\":\"rgba(154, 255, 93, 0.5)\"},\"type\":\"circle\",\"x0\":0.9098568933390008,\"x1\":1.3098568933390007,\"xref\":\"x\",\"y0\":4.375150457186241,\"y1\":4.775150457186242,\"yref\":\"y\"},{\"fillcolor\":\"rgba(0, 0, 146, 0.5)\",\"line\":{\"color\":\"rgba(0, 0, 146, 0.5)\"},\"type\":\"circle\",\"x0\":2.7601553393886276,\"x1\":3.160155339388628,\"xref\":\"x\",\"y0\":4.982675784961535,\"y1\":5.382675784961536,\"yref\":\"y\"},{\"fillcolor\":\"rgba(0, 0, 241, 0.5)\",\"line\":{\"color\":\"rgba(0, 0, 241, 0.5)\"},\"type\":\"circle\",\"x0\":-0.05524678321422094,\"x1\":0.3447532167857791,\"xref\":\"x\",\"y0\":4.513612538522119,\"y1\":4.913612538522119,\"yref\":\"y\"},{\"fillcolor\":\"rgba(0, 0, 205, 0.5)\",\"line\":{\"color\":\"rgba(0, 0, 205, 0.5)\"},\"type\":\"circle\",\"x0\":3.641891202707174,\"x1\":4.041891202707174,\"xref\":\"x\",\"y0\":3.5000317987052756,\"y1\":3.900031798705276,\"yref\":\"y\"},{\"fillcolor\":\"rgba(0, 61, 255, 0.5)\",\"line\":{\"color\":\"rgba(0, 61, 255, 0.5)\"},\"type\":\"circle\",\"x0\":2.512307080654501,\"x1\":2.9123070806545015,\"xref\":\"x\",\"y0\":3.317708096555075,\"y1\":3.7177080965550755,\"yref\":\"y\"},{\"fillcolor\":\"rgba(0, 120, 255, 0.5)\",\"line\":{\"color\":\"rgba(0, 120, 255, 0.5)\"},\"type\":\"circle\",\"x0\":1.9487936536448818,\"x1\":2.348793653644882,\"xref\":\"x\",\"y0\":4.8268482196378635,\"y1\":5.226848219637864,\"yref\":\"y\"},{\"line\":{\"color\":\"white\",\"width\":3},\"type\":\"line\",\"x0\":1.4144292425828413,\"x1\":1.3403124512938445,\"y0\":5.417493990741627,\"y1\":5.603253785231779},{\"line\":{\"color\":\"black\",\"width\":3},\"type\":\"line\",\"x0\":0.7107549157294651,\"x1\":0.672415201940272,\"y0\":3.850843408994943,\"y1\":4.047134178891448},{\"line\":{\"color\":\"white\",\"width\":3},\"type\":\"line\",\"x0\":0.5102349246401727,\"x1\":0.47502236464196795,\"y0\":5.691575635009019,\"y1\":5.888451422292201},{\"line\":{\"color\":\"white\",\"width\":3},\"type\":\"line\",\"x0\":0.4087472636924569,\"x1\":0.39347962210435133,\"y0\":2.919090850185633,\"y1\":3.118507246503331},{\"line\":{\"color\":\"black\",\"width\":3},\"type\":\"line\",\"x0\":1.1098568933390007,\"x1\":1.0734493096346105,\"y0\":4.575150457186242,\"y1\":4.771808759448841},{\"line\":{\"color\":\"white\",\"width\":3},\"type\":\"line\",\"x0\":2.9601553393886277,\"x1\":2.8549162051929247,\"y0\":5.1826757849615355,\"y1\":5.352748488925866},{\"line\":{\"color\":\"white\",\"width\":3},\"type\":\"line\",\"x0\":0.14475321678577907,\"x1\":0.13041084745444415,\"y0\":4.713612538522119,\"y1\":4.913097616765991},{\"line\":{\"color\":\"white\",\"width\":3},\"type\":\"line\",\"x0\":3.841891202707174,\"x1\":3.725175466059881,\"y0\":3.7000317987052758,\"y1\":3.86244311856593},{\"line\":{\"color\":\"white\",\"width\":3},\"type\":\"line\",\"x0\":2.7123070806545013,\"x1\":2.6228321439489815,\"y0\":3.5177080965550753,\"y1\":3.6965774223254355},{\"line\":{\"color\":\"white\",\"width\":3},\"type\":\"line\",\"x0\":2.1487936536448817,\"x1\":2.0457082032240663,\"y0\":5.026848219637864,\"y1\":5.198234887472727}],\"title\":{\"text\":\"\\u003cb\\u003eNumber of Agents: 10\\u003c\\u002fb\\u003e\",\"x\":0.5}},\"name\":\"75\"},{\"data\":[{\"hoverinfo\":\"name\",\"line\":{\"color\":\"grey\"},\"mode\":\"lines\",\"name\":\"Exterior\",\"showlegend\":false,\"x\":[-10.0,-10.0,10.0,10.0,-10.0],\"y\":[10.0,-10.0,-10.0,10.0,10.0],\"type\":\"scatter\"},{\"hoverinfo\":\"text\",\"marker\":{\"opacity\":1,\"size\":1},\"mode\":\"markers\",\"showlegend\":false,\"text\":[\"ID: 1, Pos(1.31,5.67)\"],\"x\":[1.3120721994015225],\"y\":[5.674888209547962],\"type\":\"scatter\"},{\"hoverinfo\":\"text\",\"marker\":{\"opacity\":1,\"size\":1},\"mode\":\"markers\",\"showlegend\":false,\"text\":[\"ID: 2, Pos(0.69,3.99)\"],\"x\":[0.6861497784838368],\"y\":[3.9851159117196246],\"type\":\"scatter\"},{\"hoverinfo\":\"text\",\"marker\":{\"opacity\":1,\"size\":1},\"mode\":\"markers\",\"showlegend\":false,\"text\":[\"ID: 3, Pos(0.46,5.95)\"],\"x\":[0.46128978737758425],\"y\":[5.953815594850663],\"type\":\"scatter\"},{\"hoverinfo\":\"text\",\"marker\":{\"opacity\":1,\"size\":1},\"mode\":\"markers\",\"showlegend\":false,\"text\":[\"ID: 4, Pos(0.40,3.04)\"],\"x\":[0.39991788173524234],\"y\":[3.0355247286666285],\"type\":\"scatter\"},{\"hoverinfo\":\"text\",\"marker\":{\"opacity\":1,\"size\":1},\"mode\":\"markers\",\"showlegend\":false,\"text\":[\"ID: 5, Pos(1.08,4.75)\"],\"x\":[1.0753975035592698],\"y\":[4.753260441104535],\"type\":\"scatter\"},{\"hoverinfo\":\"text\",\"marker\":{\"opacity\":1,\"size\":1},\"mode\":\"markers\",\"showlegend\":false,\"text\":[\"ID: 6, Pos(2.82,5.42)\"],\"x\":[2.8175704167405238],\"y\":[5.415829192096321],\"type\":\"scatter\"},{\"hoverinfo\":\"text\",\"marker\":{\"opacity\":1,\"size\":1},\"mode\":\"markers\",\"showlegend\":false,\"text\":[\"ID: 7, Pos(0.13,4.97)\"],\"x\":[0.12762230716813644],\"y\":[4.967419788539456],\"type\":\"scatter\"},{\"hoverinfo\":\"text\",\"marker\":{\"opacity\":1,\"size\":1},\"mode\":\"markers\",\"showlegend\":false,\"text\":[\"ID: 8, Pos(3.69,3.91)\"],\"x\":[3.6880316615469986],\"y\":[3.914601967006786],\"type\":\"scatter\"},{\"hoverinfo\":\"text\",\"marker\":{\"opacity\":1,\"size\":1},\"mode\":\"markers\",\"showlegend\":false,\"text\":[\"ID: 9, Pos(2.60,3.73)\"],\"x\":[2.603927518441859],\"y\":[3.7337742844717225],\"type\":\"scatter\"},{\"hoverinfo\":\"text\",\"marker\":{\"opacity\":1,\"size\":1},\"mode\":\"markers\",\"showlegend\":false,\"text\":[\"ID: 10, Pos(2.04,5.20)\"],\"x\":[2.0449974393974943],\"y\":[5.197767443812379],\"type\":\"scatter\"}],\"layout\":{\"shapes\":[{\"fillcolor\":\"rgba(0, 0, 128, 0.5)\",\"line\":{\"color\":\"rgba(0, 0, 128, 0.5)\"},\"type\":\"circle\",\"x0\":1.1120721994015226,\"x1\":1.5120721994015225,\"xref\":\"x\",\"y0\":5.474888209547962,\"y1\":5.874888209547962,\"yref\":\"y\"},{\"fillcolor\":\"rgba(255, 196, 0, 0.5)\",\"line\":{\"color\":\"rgba(255, 196, 0, 0.5)\"},\"type\":\"circle\",\"x0\":0.48614977848383684,\"x1\":0.8861497784838368,\"xref\":\"x\",\"y0\":3.7851159117196245,\"y1\":4.185115911719625,\"yref\":\"y\"},{\"fillcolor\":\"rgba(0, 0, 187, 0.5)\",\"line\":{\"color\":\"rgba(0, 0, 187, 0.5)\"},\"type\":\"circle\",\"x0\":0.26128978737758424,\"x1\":0.6612897873775843,\"xref\":\"x\",\"y0\":5.753815594850662,\"y1\":6.153815594850663,\"yref\":\"y\"},{\"fillcolor\":\"rgba(255, 89, 0, 0.5)\",\"line\":{\"color\":\"rgba(255, 89, 0, 0.5)\"},\"type\":\"circle\",\"x0\":0.19991788173524233,\"x1\":0.5999178817352424,\"xref\":\"x\",\"y0\":2.8355247286666283,\"y1\":3.2355247286666287,\"yref\":\"y\"},{\"fillcolor\":\"rgba(173, 255, 73, 0.5)\",\"line\":{\"color\":\"rgba(173, 255, 73, 0.5)\"},\"type\":\"circle\",\"x0\":0.8753975035592698,\"x1\":1.2753975035592697,\"xref\":\"x\",\"y0\":4.553260441104535,\"y1\":4.953260441104535,\"yref\":\"y\"},{\"fillcolor\":\"rgba(0, 0, 146, 0.5)\",\"line\":{\"color\":\"rgba(0, 0, 146, 0.5)\"},\"type\":\"circle\",\"x0\":2.6175704167405236,\"x1\":3.017570416740524,\"xref\":\"x\",\"y0\":5.2158291920963205,\"y1\":5.615829192096321,\"yref\":\"y\"},{\"fillcolor\":\"rgba(51, 255, 196, 0.5)\",\"line\":{\"color\":\"rgba(51, 255, 196, 0.5)\"},\"type\":\"circle\",\"x0\":-0.07237769283186357,\"x1\":0.32762230716813645,\"xref\":\"x\",\"y0\":4.767419788539456,\"y1\":5.167419788539457,\"yref\":\"y\"},{\"fillcolor\":\"rgba(0, 0, 205, 0.5)\",\"line\":{\"color\":\"rgba(0, 0, 205, 0.5)\"},\"type\":\"circle\",\"x0\":3.4880316615469984,\"x1\":3.8880316615469988,\"xref\":\"x\",\"y0\":3.714601967006786,\"y1\":4.114601967006786,\"yref\":\"y\"},{\"fillcolor\":\"rgba(0, 109, 255, 0.5)\",\"line\":{\"color\":\"rgba(0, 109, 255, 0.5)\"},\"type\":\"circle\",\"x0\":2.4039275184418587,\"x1\":2.803927518441859,\"xref\":\"x\",\"y0\":3.5337742844717224,\"y1\":3.9337742844717227,\"yref\":\"y\"},{\"fillcolor\":\"rgba(235, 255, 12, 0.5)\",\"line\":{\"color\":\"rgba(235, 255, 12, 0.5)\"},\"type\":\"circle\",\"x0\":1.8449974393974944,\"x1\":2.2449974393974945,\"xref\":\"x\",\"y0\":4.9977674438123785,\"y1\":5.397767443812379,\"yref\":\"y\"},{\"line\":{\"color\":\"white\",\"width\":3},\"type\":\"line\",\"x0\":1.3120721994015225,\"x1\":1.2420285528137138,\"y0\":5.674888209547962,\"y1\":5.862221835927964},{\"line\":{\"color\":\"black\",\"width\":3},\"type\":\"line\",\"x0\":0.6861497784838368,\"x1\":0.6517373712391733,\"y0\":3.9851159117196246,\"y1\":4.182133134894725},{\"line\":{\"color\":\"white\",\"width\":3},\"type\":\"line\",\"x0\":0.46128978737758425,\"x1\":0.4231189684690422,\"y0\":5.953815594850663,\"y1\":6.150139278047192},{\"line\":{\"color\":\"black\",\"width\":3},\"type\":\"line\",\"x0\":0.39991788173524234,\"x1\":0.3849722877211787,\"y0\":3.0355247286666285,\"y1\":3.234965519929516},{\"line\":{\"color\":\"black\",\"width\":3},\"type\":\"line\",\"x0\":1.0753975035592698,\"x1\":1.0360052197586613,\"y0\":4.753260441104535,\"y1\":4.949342689094944},{\"line\":{\"color\":\"white\",\"width\":3},\"type\":\"line\",\"x0\":2.8175704167405238,\"x1\":2.716357546489287,\"y0\":5.415829192096321,\"y1\":5.588328336718856},{\"line\":{\"color\":\"black\",\"width\":3},\"type\":\"line\",\"x0\":0.12762230716813644,\"x1\":0.11473400906805536,\"y0\":4.967419788539456,\"y1\":5.1670040859480535},{\"line\":{\"color\":\"white\",\"width\":3},\"type\":\"line\",\"x0\":3.6880316615469986,\"x1\":3.5716646915028702,\"y0\":3.914601967006786,\"y1\":4.077263358500739},{\"line\":{\"color\":\"white\",\"width\":3},\"type\":\"line\",\"x0\":2.603927518441859,\"x1\":2.514046369423866,\"y0\":3.7337742844717225,\"y1\":3.9124398352956162},{\"line\":{\"color\":\"black\",\"width\":3},\"type\":\"line\",\"x0\":2.0449974393974943,\"x1\":1.9343357248638167,\"y0\":5.197767443812379,\"y1\":5.364362716663882}],\"title\":{\"text\":\"\\u003cb\\u003eNumber of Agents: 10\\u003c\\u002fb\\u003e\",\"x\":0.5}},\"name\":\"80\"},{\"data\":[{\"hoverinfo\":\"name\",\"line\":{\"color\":\"grey\"},\"mode\":\"lines\",\"name\":\"Exterior\",\"showlegend\":false,\"x\":[-10.0,-10.0,10.0,10.0,-10.0],\"y\":[10.0,-10.0,-10.0,10.0,10.0],\"type\":\"scatter\"},{\"hoverinfo\":\"text\",\"marker\":{\"opacity\":1,\"size\":1},\"mode\":\"markers\",\"showlegend\":false,\"text\":[\"ID: 1, Pos(1.22,5.94)\"],\"x\":[1.2213105217882907],\"y\":[5.936590681656894],\"type\":\"scatter\"},{\"hoverinfo\":\"text\",\"marker\":{\"opacity\":1,\"size\":1},\"mode\":\"markers\",\"showlegend\":false,\"text\":[\"ID: 2, Pos(0.66,4.13)\"],\"x\":[0.6619985226118583],\"y\":[4.127668989212472],\"type\":\"scatter\"},{\"hoverinfo\":\"text\",\"marker\":{\"opacity\":1,\"size\":1},\"mode\":\"markers\",\"showlegend\":false,\"text\":[\"ID: 3, Pos(0.41,6.22)\"],\"x\":[0.4075294947498662],\"y\":[6.215109537669171],\"type\":\"scatter\"},{\"hoverinfo\":\"text\",\"marker\":{\"opacity\":1,\"size\":1},\"mode\":\"markers\",\"showlegend\":false,\"text\":[\"ID: 4, Pos(0.39,3.16)\"],\"x\":[0.39106504632795164],\"y\":[3.155310390592258],\"type\":\"scatter\"},{\"hoverinfo\":\"text\",\"marker\":{\"opacity\":1,\"size\":1},\"mode\":\"markers\",\"showlegend\":false,\"text\":[\"ID: 5, Pos(1.05,4.90)\"],\"x\":[1.0450316838813984],\"y\":[4.903951669471013],\"type\":\"scatter\"},{\"hoverinfo\":\"text\",\"marker\":{\"opacity\":1,\"size\":1},\"mode\":\"markers\",\"showlegend\":false,\"text\":[\"ID: 6, Pos(2.68,5.65)\"],\"x\":[2.6829923703435234],\"y\":[5.653698243865546],\"type\":\"scatter\"},{\"hoverinfo\":\"text\",\"marker\":{\"opacity\":1,\"size\":1},\"mode\":\"markers\",\"showlegend\":false,\"text\":[\"ID: 7, Pos(0.12,5.11)\"],\"x\":[0.11842587326152687],\"y\":[5.105644476486773],\"type\":\"scatter\"},{\"hoverinfo\":\"text\",\"marker\":{\"opacity\":1,\"size\":1},\"mode\":\"markers\",\"showlegend\":false,\"text\":[\"ID: 8, Pos(3.53,4.13)\"],\"x\":[3.5348035989026005],\"y\":[4.12962339242983],\"type\":\"scatter\"},{\"hoverinfo\":\"text\",\"marker\":{\"opacity\":1,\"size\":1},\"mode\":\"markers\",\"showlegend\":false,\"text\":[\"ID: 9, Pos(2.50,3.93)\"],\"x\":[2.503983150334648],\"y\":[3.9315036993612966],\"type\":\"scatter\"},{\"hoverinfo\":\"text\",\"marker\":{\"opacity\":1,\"size\":1},\"mode\":\"markers\",\"showlegend\":false,\"text\":[\"ID: 10, Pos(1.98,5.29)\"],\"x\":[1.9827465362062362],\"y\":[5.28512361922149],\"type\":\"scatter\"}],\"layout\":{\"shapes\":[{\"fillcolor\":\"rgba(0, 0, 128, 0.5)\",\"line\":{\"color\":\"rgba(0, 0, 128, 0.5)\"},\"type\":\"circle\",\"x0\":1.0213105217882907,\"x1\":1.4213105217882906,\"xref\":\"x\",\"y0\":5.736590681656894,\"y1\":6.1365906816568945,\"yref\":\"y\"},{\"fillcolor\":\"rgba(255, 215, 0, 0.5)\",\"line\":{\"color\":\"rgba(255, 215, 0, 0.5)\"},\"type\":\"circle\",\"x0\":0.4619985226118583,\"x1\":0.8619985226118583,\"xref\":\"x\",\"y0\":3.9276689892124717,\"y1\":4.327668989212472,\"yref\":\"y\"},{\"fillcolor\":\"rgba(0, 0, 187, 0.5)\",\"line\":{\"color\":\"rgba(0, 0, 187, 0.5)\"},\"type\":\"circle\",\"x0\":0.2075294947498662,\"x1\":0.6075294947498662,\"xref\":\"x\",\"y0\":6.015109537669171,\"y1\":6.415109537669172,\"yref\":\"y\"},{\"fillcolor\":\"rgba(255, 108, 0, 0.5)\",\"line\":{\"color\":\"rgba(255, 108, 0, 0.5)\"},\"type\":\"circle\",\"x0\":0.19106504632795163,\"x1\":0.5910650463279516,\"xref\":\"x\",\"y0\":2.955310390592258,\"y1\":3.3553103905922583,\"yref\":\"y\"},{\"fillcolor\":\"rgba(255, 230, 0, 0.5)\",\"line\":{\"color\":\"rgba(255, 230, 0, 0.5)\"},\"type\":\"circle\",\"x0\":0.8450316838813985,\"x1\":1.2450316838813984,\"xref\":\"x\",\"y0\":4.703951669471013,\"y1\":5.103951669471013,\"yref\":\"y\"},{\"fillcolor\":\"rgba(0, 0, 146, 0.5)\",\"line\":{\"color\":\"rgba(0, 0, 146, 0.5)\"},\"type\":\"circle\",\"x0\":2.4829923703435233,\"x1\":2.8829923703435236,\"xref\":\"x\",\"y0\":5.453698243865546,\"y1\":5.853698243865546,\"yref\":\"y\"},{\"fillcolor\":\"rgba(254, 237, 0, 0.5)\",\"line\":{\"color\":\"rgba(254, 237, 0, 0.5)\"},\"type\":\"circle\",\"x0\":-0.08157412673847314,\"x1\":0.3184258732615269,\"xref\":\"x\",\"y0\":4.905644476486773,\"y1\":5.305644476486774,\"yref\":\"y\"},{\"fillcolor\":\"rgba(0, 0, 205, 0.5)\",\"line\":{\"color\":\"rgba(0, 0, 205, 0.5)\"},\"type\":\"circle\",\"x0\":3.3348035989026004,\"x1\":3.7348035989026007,\"xref\":\"x\",\"y0\":3.9296233924298294,\"y1\":4.32962339242983,\"yref\":\"y\"},{\"fillcolor\":\"rgba(0, 212, 255, 0.5)\",\"line\":{\"color\":\"rgba(0, 212, 255, 0.5)\"},\"type\":\"circle\",\"x0\":2.303983150334648,\"x1\":2.7039831503346483,\"xref\":\"x\",\"y0\":3.7315036993612964,\"y1\":4.131503699361296,\"yref\":\"y\"},{\"fillcolor\":\"rgba(255, 96, 0, 0.5)\",\"line\":{\"color\":\"rgba(255, 96, 0, 0.5)\"},\"type\":\"circle\",\"x0\":1.7827465362062362,\"x1\":2.182746536206236,\"xref\":\"x\",\"y0\":5.0851236192214895,\"y1\":5.48512361922149,\"yref\":\"y\"},{\"line\":{\"color\":\"white\",\"width\":3},\"type\":\"line\",\"x0\":1.2213105217882907,\"x1\":1.1583325082471336,\"y0\":5.936590681656894,\"y1\":6.126416311671416},{\"line\":{\"color\":\"black\",\"width\":3},\"type\":\"line\",\"x0\":0.6619985226118583,\"x1\":0.6282344988757038,\"y0\":4.127668989212472,\"y1\":4.32479836475337},{\"line\":{\"color\":\"white\",\"width\":3},\"type\":\"line\",\"x0\":0.4075294947498662,\"x1\":0.36556964800067937,\"y0\":6.215109537669171,\"y1\":6.410658435034472},{\"line\":{\"color\":\"black\",\"width\":3},\"type\":\"line\",\"x0\":0.39106504632795164,\"x1\":0.3764815239218505,\"y0\":3.155310390592258,\"y1\":3.354777984136249},{\"line\":{\"color\":\"black\",\"width\":3},\"type\":\"line\",\"x0\":1.0450316838813984,\"x1\":1.0062924508741504,\"y0\":4.903951669471013,\"y1\":5.100163982606581},{\"line\":{\"color\":\"white\",\"width\":3},\"type\":\"line\",\"x0\":2.6829923703435234,\"x1\":2.5846327465748677,\"y0\":5.653698243865546,\"y1\":5.827840095274357},{\"line\":{\"color\":\"black\",\"width\":3},\"type\":\"line\",\"x0\":0.11842587326152687,\"x1\":0.10508249633874832,\"y0\":5.105644476486773,\"y1\":5.305198865795294},{\"line\":{\"color\":\"white\",\"width\":3},\"type\":\"line\",\"x0\":3.5348035989026005,\"x1\":3.4190693627868107,\"y0\":4.12962339242983,\"y1\":4.292735582626316},{\"line\":{\"color\":\"black\",\"width\":3},\"type\":\"line\",\"x0\":2.503983150334648,\"x1\":2.4133706663032295,\"y0\":3.9315036993612966,\"y1\":4.109799458530313},{\"line\":{\"color\":\"black\",\"width\":3},\"type\":\"line\",\"x0\":1.9827465362062362,\"x1\":1.865258815570119,\"y0\":5.28512361922149,\"y1\":5.446977366474155}],\"title\":{\"text\":\"\\u003cb\\u003eNumber of Agents: 10\\u003c\\u002fb\\u003e\",\"x\":0.5}},\"name\":\"85\"},{\"data\":[{\"hoverinfo\":\"name\",\"line\":{\"color\":\"grey\"},\"mode\":\"lines\",\"name\":\"Exterior\",\"showlegend\":false,\"x\":[-10.0,-10.0,10.0,10.0,-10.0],\"y\":[10.0,-10.0,-10.0,10.0,10.0],\"type\":\"scatter\"},{\"hoverinfo\":\"text\",\"marker\":{\"opacity\":1,\"size\":1},\"mode\":\"markers\",\"showlegend\":false,\"text\":[\"ID: 1, Pos(1.14,6.20)\"],\"x\":[1.1365700185721936],\"y\":[6.2003159083659884],\"type\":\"scatter\"},{\"hoverinfo\":\"text\",\"marker\":{\"opacity\":1,\"size\":1},\"mode\":\"markers\",\"showlegend\":false,\"text\":[\"ID: 2, Pos(0.64,4.27)\"],\"x\":[0.6373063042477023],\"y\":[4.26972580311743],\"type\":\"scatter\"},{\"hoverinfo\":\"text\",\"marker\":{\"opacity\":1,\"size\":1},\"mode\":\"markers\",\"showlegend\":false,\"text\":[\"ID: 3, Pos(0.35,6.48)\"],\"x\":[0.3496138976492764],\"y\":[6.475516009799925],\"type\":\"scatter\"},{\"hoverinfo\":\"text\",\"marker\":{\"opacity\":1,\"size\":1},\"mode\":\"markers\",\"showlegend\":false,\"text\":[\"ID: 4, Pos(0.38,3.28)\"],\"x\":[0.3821618193940781],\"y\":[3.278255735008095],\"type\":\"scatter\"},{\"hoverinfo\":\"text\",\"marker\":{\"opacity\":1,\"size\":1},\"mode\":\"markers\",\"showlegend\":false,\"text\":[\"ID: 5, Pos(1.02,5.04)\"],\"x\":[1.0176254807644052],\"y\":[5.042112441487265],\"type\":\"scatter\"},{\"hoverinfo\":\"text\",\"marker\":{\"opacity\":1,\"size\":1},\"mode\":\"markers\",\"showlegend\":false,\"text\":[\"ID: 6, Pos(2.54,5.89)\"],\"x\":[2.5446206628978425],\"y\":[5.889367711562867],\"type\":\"scatter\"},{\"hoverinfo\":\"text\",\"marker\":{\"opacity\":1,\"size\":1},\"mode\":\"markers\",\"showlegend\":false,\"text\":[\"ID: 7, Pos(0.11,5.26)\"],\"x\":[0.10783943278266414],\"y\":[5.263342624838679],\"type\":\"scatter\"},{\"hoverinfo\":\"text\",\"marker\":{\"opacity\":1,\"size\":1},\"mode\":\"markers\",\"showlegend\":false,\"text\":[\"ID: 8, Pos(3.38,4.35)\"],\"x\":[3.3827309958529295],\"y\":[4.345463112079527],\"type\":\"scatter\"},{\"hoverinfo\":\"text\",\"marker\":{\"opacity\":1,\"size\":1},\"mode\":\"markers\",\"showlegend\":false,\"text\":[\"ID: 9, Pos(2.41,4.11)\"],\"x\":[2.4116394306828326],\"y\":[4.111676645210646],\"type\":\"scatter\"},{\"hoverinfo\":\"text\",\"marker\":{\"opacity\":1,\"size\":1},\"mode\":\"markers\",\"showlegend\":false,\"text\":[\"ID: 10, Pos(1.91,5.39)\"],\"x\":[1.9072238144873113],\"y\":[5.392741863195925],\"type\":\"scatter\"}],\"layout\":{\"shapes\":[{\"fillcolor\":\"rgba(0, 0, 128, 0.5)\",\"line\":{\"color\":\"rgba(0, 0, 128, 0.5)\"},\"type\":\"circle\",\"x0\":0.9365700185721937,\"x1\":1.3365700185721936,\"xref\":\"x\",\"y0\":6.000315908365988,\"y1\":6.400315908365989,\"yref\":\"y\"},{\"fillcolor\":\"rgba(255, 222, 0, 0.5)\",\"line\":{\"color\":\"rgba(255, 222, 0, 0.5)\"},\"type\":\"circle\",\"x0\":0.4373063042477023,\"x1\":0.8373063042477022,\"xref\":\"x\",\"y0\":4.0697258031174295,\"y1\":4.46972580311743,\"yref\":\"y\"},{\"fillcolor\":\"rgba(0, 0, 187, 0.5)\",\"line\":{\"color\":\"rgba(0, 0, 187, 0.5)\"},\"type\":\"circle\",\"x0\":0.1496138976492764,\"x1\":0.5496138976492764,\"xref\":\"x\",\"y0\":6.275516009799925,\"y1\":6.675516009799925,\"yref\":\"y\"},{\"fillcolor\":\"rgba(255, 122, 0, 0.5)\",\"line\":{\"color\":\"rgba(255, 122, 0, 0.5)\"},\"type\":\"circle\",\"x0\":0.1821618193940781,\"x1\":0.5821618193940781,\"xref\":\"x\",\"y0\":3.078255735008095,\"y1\":3.478255735008095,\"yref\":\"y\"},{\"fillcolor\":\"rgba(241, 252, 6, 0.5)\",\"line\":{\"color\":\"rgba(241, 252, 6, 0.5)\"},\"type\":\"circle\",\"x0\":0.8176254807644052,\"x1\":1.2176254807644051,\"xref\":\"x\",\"y0\":4.842112441487265,\"y1\":5.242112441487265,\"yref\":\"y\"},{\"fillcolor\":\"rgba(0, 0, 146, 0.5)\",\"line\":{\"color\":\"rgba(0, 0, 146, 0.5)\"},\"type\":\"circle\",\"x0\":2.3446206628978423,\"x1\":2.7446206628978427,\"xref\":\"x\",\"y0\":5.689367711562867,\"y1\":6.0893677115628675,\"yref\":\"y\"},{\"fillcolor\":\"rgba(180, 255, 67, 0.5)\",\"line\":{\"color\":\"rgba(180, 255, 67, 0.5)\"},\"type\":\"circle\",\"x0\":-0.09216056721733587,\"x1\":0.3078394327826641,\"xref\":\"x\",\"y0\":5.063342624838679,\"y1\":5.463342624838679,\"yref\":\"y\"},{\"fillcolor\":\"rgba(0, 0, 205, 0.5)\",\"line\":{\"color\":\"rgba(0, 0, 205, 0.5)\"},\"type\":\"circle\",\"x0\":3.1827309958529293,\"x1\":3.5827309958529296,\"xref\":\"x\",\"y0\":4.1454631120795264,\"y1\":4.545463112079527,\"yref\":\"y\"},{\"fillcolor\":\"rgba(51, 255, 196, 0.5)\",\"line\":{\"color\":\"rgba(51, 255, 196, 0.5)\"},\"type\":\"circle\",\"x0\":2.2116394306828324,\"x1\":2.6116394306828328,\"xref\":\"x\",\"y0\":3.9116766452106457,\"y1\":4.311676645210646,\"yref\":\"y\"},{\"fillcolor\":\"rgba(255, 208, 0, 0.5)\",\"line\":{\"color\":\"rgba(255, 208, 0, 0.5)\"},\"type\":\"circle\",\"x0\":1.7072238144873113,\"x1\":2.107223814487311,\"xref\":\"x\",\"y0\":5.192741863195925,\"y1\":5.592741863195926,\"yref\":\"y\"},{\"line\":{\"color\":\"white\",\"width\":3},\"type\":\"line\",\"x0\":1.1365700185721936,\"x1\":1.0768249690188274,\"y0\":6.2003159083659884,\"y1\":6.391183739741173},{\"line\":{\"color\":\"black\",\"width\":3},\"type\":\"line\",\"x0\":0.6373063042477023,\"x1\":0.6029196493046289,\"y0\":4.26972580311743,\"y1\":4.466747522635421},{\"line\":{\"color\":\"white\",\"width\":3},\"type\":\"line\",\"x0\":0.3496138976492764,\"x1\":0.3050051394457915,\"y0\":6.475516009799925,\"y1\":6.670477694988433},{\"line\":{\"color\":\"black\",\"width\":3},\"type\":\"line\",\"x0\":0.3821618193940781,\"x1\":0.36783014542871195,\"y0\":3.278255735008095,\"y1\":3.4777415819279964},{\"line\":{\"color\":\"black\",\"width\":3},\"type\":\"line\",\"x0\":1.0176254807644052,\"x1\":0.9779557469420319,\"y0\":5.042112441487265,\"y1\":5.23813874640184},{\"line\":{\"color\":\"white\",\"width\":3},\"type\":\"line\",\"x0\":2.5446206628978425,\"x1\":2.4403023696487924,\"y0\":5.889367711562867,\"y1\":6.0600067859087074},{\"line\":{\"color\":\"black\",\"width\":3},\"type\":\"line\",\"x0\":0.10783943278266414,\"x1\":0.09432574465463131,\"y0\":5.263342624838679,\"y1\":5.46288555313527},{\"line\":{\"color\":\"white\",\"width\":3},\"type\":\"line\",\"x0\":3.3827309958529295,\"x1\":3.268121348723382,\"y0\":4.345463112079527,\"y1\":4.509367440225066},{\"line\":{\"color\":\"black\",\"width\":3},\"type\":\"line\",\"x0\":2.4116394306828326,\"x1\":2.3197506782163684,\"y0\":4.111676645210646,\"y1\":4.289318017559986},{\"line\":{\"color\":\"black\",\"width\":3},\"type\":\"line\",\"x0\":1.9072238144873113,\"x1\":1.7955055860546292,\"y0\":5.392741863195925,\"y1\":5.558630492811891}],\"title\":{\"text\":\"\\u003cb\\u003eNumber of Agents: 10\\u003c\\u002fb\\u003e\",\"x\":0.5}},\"name\":\"90\"},{\"data\":[{\"hoverinfo\":\"name\",\"line\":{\"color\":\"grey\"},\"mode\":\"lines\",\"name\":\"Exterior\",\"showlegend\":false,\"x\":[-10.0,-10.0,10.0,10.0,-10.0],\"y\":[10.0,-10.0,-10.0,10.0,10.0],\"type\":\"scatter\"},{\"hoverinfo\":\"text\",\"marker\":{\"opacity\":1,\"size\":1},\"mode\":\"markers\",\"showlegend\":false,\"text\":[\"ID: 1, Pos(1.06,6.47)\"],\"x\":[1.0555803845952856],\"y\":[6.465218754979366],\"type\":\"scatter\"},{\"hoverinfo\":\"text\",\"marker\":{\"opacity\":1,\"size\":1},\"mode\":\"markers\",\"showlegend\":false,\"text\":[\"ID: 2, Pos(0.61,4.41)\"],\"x\":[0.6123366863129015],\"y\":[4.414497131126065],\"type\":\"scatter\"},{\"hoverinfo\":\"text\",\"marker\":{\"opacity\":1,\"size\":1},\"mode\":\"markers\",\"showlegend\":false,\"text\":[\"ID: 3, Pos(0.29,6.74)\"],\"x\":[0.2887313466837755],\"y\":[6.735245892065905],\"type\":\"scatter\"},{\"hoverinfo\":\"text\",\"marker\":{\"opacity\":1,\"size\":1},\"mode\":\"markers\",\"showlegend\":false,\"text\":[\"ID: 4, Pos(0.37,3.40)\"],\"x\":[0.37319537753235776],\"y\":[3.4040513055753405],\"type\":\"scatter\"},{\"hoverinfo\":\"text\",\"marker\":{\"opacity\":1,\"size\":1},\"mode\":\"markers\",\"showlegend\":false,\"text\":[\"ID: 5, Pos(0.98,5.20)\"],\"x\":[0.9836936319693034],\"y\":[5.201297005907842],\"type\":\"scatter\"},{\"hoverinfo\":\"text\",\"marker\":{\"opacity\":1,\"size\":1},\"mode\":\"markers\",\"showlegend\":false,\"text\":[\"ID: 6, Pos(2.40,6.12)\"],\"x\":[2.397627852809493],\"y\":[6.119759510988152],\"type\":\"scatter\"},{\"hoverinfo\":\"text\",\"marker\":{\"opacity\":1,\"size\":1},\"mode\":\"markers\",\"showlegend\":false,\"text\":[\"ID: 7, Pos(0.10,5.44)\"],\"x\":[0.09576432701715153],\"y\":[5.437554494625785],\"type\":\"scatter\"},{\"hoverinfo\":\"text\",\"marker\":{\"opacity\":1,\"size\":1},\"mode\":\"markers\",\"showlegend\":false,\"text\":[\"ID: 8, Pos(3.23,4.56)\"],\"x\":[3.232566981346604],\"y\":[4.562634125050826],\"type\":\"scatter\"},{\"hoverinfo\":\"text\",\"marker\":{\"opacity\":1,\"size\":1},\"mode\":\"markers\",\"showlegend\":false,\"text\":[\"ID: 9, Pos(2.32,4.28)\"],\"x\":[2.322930017083036],\"y\":[4.280936211707782],\"type\":\"scatter\"},{\"hoverinfo\":\"text\",\"marker\":{\"opacity\":1,\"size\":1},\"mode\":\"markers\",\"showlegend\":false,\"text\":[\"ID: 10, Pos(1.83,5.52)\"],\"x\":[1.8252923627222446],\"y\":[5.522030229707559],\"type\":\"scatter\"}],\"layout\":{\"shapes\":[{\"fillcolor\":\"rgba(0, 0, 128, 0.5)\",\"line\":{\"color\":\"rgba(0, 0, 128, 0.5)\"},\"type\":\"circle\",\"x0\":0.8555803845952856,\"x1\":1.2555803845952855,\"xref\":\"x\",\"y0\":6.265218754979366,\"y1\":6.6652187549793664,\"yref\":\"y\"},{\"fillcolor\":\"rgba(251, 241, 0, 0.5)\",\"line\":{\"color\":\"rgba(251, 241, 0, 0.5)\"},\"type\":\"circle\",\"x0\":0.4123366863129015,\"x1\":0.8123366863129016,\"xref\":\"x\",\"y0\":4.214497131126064,\"y1\":4.614497131126065,\"yref\":\"y\"},{\"fillcolor\":\"rgba(0, 0, 187, 0.5)\",\"line\":{\"color\":\"rgba(0, 0, 187, 0.5)\"},\"type\":\"circle\",\"x0\":0.08873134668377547,\"x1\":0.4887313466837755,\"xref\":\"x\",\"y0\":6.5352458920659044,\"y1\":6.935245892065905,\"yref\":\"y\"},{\"fillcolor\":\"rgba(255, 134, 0, 0.5)\",\"line\":{\"color\":\"rgba(255, 134, 0, 0.5)\"},\"type\":\"circle\",\"x0\":0.17319537753235775,\"x1\":0.5731953775323577,\"xref\":\"x\",\"y0\":3.2040513055753403,\"y1\":3.6040513055753407,\"yref\":\"y\"},{\"fillcolor\":\"rgba(154, 255, 93, 0.5)\",\"line\":{\"color\":\"rgba(154, 255, 93, 0.5)\"},\"type\":\"circle\",\"x0\":0.7836936319693033,\"x1\":1.1836936319693034,\"xref\":\"x\",\"y0\":5.001297005907841,\"y1\":5.401297005907842,\"yref\":\"y\"},{\"fillcolor\":\"rgba(0, 0, 146, 0.5)\",\"line\":{\"color\":\"rgba(0, 0, 146, 0.5)\"},\"type\":\"circle\",\"x0\":2.197627852809493,\"x1\":2.5976278528094934,\"xref\":\"x\",\"y0\":5.919759510988152,\"y1\":6.319759510988153,\"yref\":\"y\"},{\"fillcolor\":\"rgba(115, 255, 131, 0.5)\",\"line\":{\"color\":\"rgba(115, 255, 131, 0.5)\"},\"type\":\"circle\",\"x0\":-0.10423567298284848,\"x1\":0.29576432701715155,\"xref\":\"x\",\"y0\":5.237554494625785,\"y1\":5.637554494625785,\"yref\":\"y\"},{\"fillcolor\":\"rgba(0, 0, 205, 0.5)\",\"line\":{\"color\":\"rgba(0, 0, 205, 0.5)\"},\"type\":\"circle\",\"x0\":3.0325669813466036,\"x1\":3.432566981346604,\"xref\":\"x\",\"y0\":4.362634125050826,\"y1\":4.762634125050826,\"yref\":\"y\"},{\"fillcolor\":\"rgba(86, 255, 160, 0.5)\",\"line\":{\"color\":\"rgba(86, 255, 160, 0.5)\"},\"type\":\"circle\",\"x0\":2.1229300170830356,\"x1\":2.522930017083036,\"xref\":\"x\",\"y0\":4.080936211707781,\"y1\":4.480936211707782,\"yref\":\"y\"},{\"fillcolor\":\"rgba(196, 255, 51, 0.5)\",\"line\":{\"color\":\"rgba(196, 255, 51, 0.5)\"},\"type\":\"circle\",\"x0\":1.6252923627222446,\"x1\":2.0252923627222446,\"xref\":\"x\",\"y0\":5.322030229707559,\"y1\":5.722030229707559,\"yref\":\"y\"},{\"line\":{\"color\":\"white\",\"width\":3},\"type\":\"line\",\"x0\":1.0555803845952856,\"x1\":0.9981303676333473,\"y0\":6.465218754979366,\"y1\":6.65678987898054},{\"line\":{\"color\":\"black\",\"width\":3},\"type\":\"line\",\"x0\":0.6123366863129015,\"x1\":0.5788691435766438,\"y0\":4.414497131126065,\"y1\":4.611677058053723},{\"line\":{\"color\":\"white\",\"width\":3},\"type\":\"line\",\"x0\":0.2887313466837755,\"x1\":0.24227693110925547,\"y0\":6.735245892065905,\"y1\":6.929776062665814},{\"line\":{\"color\":\"black\",\"width\":3},\"type\":\"line\",\"x0\":0.37319537753235776,\"x1\":0.35907232846562653,\"y0\":3.4040513055753405,\"y1\":3.603552031100484},{\"line\":{\"color\":\"black\",\"width\":3},\"type\":\"line\",\"x0\":0.9836936319693034,\"x1\":0.9398362659331702,\"y0\":5.201297005907842,\"y1\":5.396429093080537},{\"line\":{\"color\":\"white\",\"width\":3},\"type\":\"line\",\"x0\":2.397627852809493,\"x1\":2.287402138006878,\"y0\":6.119759510988152,\"y1\":6.286643577921615},{\"line\":{\"color\":\"black\",\"width\":3},\"type\":\"line\",\"x0\":0.09576432701715153,\"x1\":0.08156004161618485,\"y0\":5.437554494625785,\"y1\":5.637049452647906},{\"line\":{\"color\":\"white\",\"width\":3},\"type\":\"line\",\"x0\":3.232566981346604,\"x1\":3.1196966974134566,\"y0\":4.562634125050826,\"y1\":4.727741057082315},{\"line\":{\"color\":\"black\",\"width\":3},\"type\":\"line\",\"x0\":2.322930017083036,\"x1\":2.229115332283976,\"y0\":4.280936211707782,\"y1\":4.457568046086676},{\"line\":{\"color\":\"black\",\"width\":3},\"type\":\"line\",\"x0\":1.8252923627222446,\"x1\":1.7224620834571038,\"y0\":5.522030229707559,\"y1\":5.693570119139298}],\"title\":{\"text\":\"\\u003cb\\u003eNumber of Agents: 10\\u003c\\u002fb\\u003e\",\"x\":0.5}},\"name\":\"95\"},{\"data\":[{\"hoverinfo\":\"name\",\"line\":{\"color\":\"grey\"},\"mode\":\"lines\",\"name\":\"Exterior\",\"showlegend\":false,\"x\":[-10.0,-10.0,10.0,10.0,-10.0],\"y\":[10.0,-10.0,-10.0,10.0,10.0],\"type\":\"scatter\"},{\"hoverinfo\":\"text\",\"marker\":{\"opacity\":1,\"size\":1},\"mode\":\"markers\",\"showlegend\":false,\"text\":[\"ID: 1, Pos(0.98,6.73)\"],\"x\":[0.9772126605101714],\"y\":[6.730910004201922],\"type\":\"scatter\"},{\"hoverinfo\":\"text\",\"marker\":{\"opacity\":1,\"size\":1},\"mode\":\"markers\",\"showlegend\":false,\"text\":[\"ID: 2, Pos(0.59,4.56)\"],\"x\":[0.5875325620938784],\"y\":[4.5643603538410495],\"type\":\"scatter\"},{\"hoverinfo\":\"text\",\"marker\":{\"opacity\":1,\"size\":1},\"mode\":\"markers\",\"showlegend\":false,\"text\":[\"ID: 3, Pos(0.23,6.99)\"],\"x\":[0.22594806491133734],\"y\":[6.994523566304945],\"type\":\"scatter\"},{\"hoverinfo\":\"text\",\"marker\":{\"opacity\":1,\"size\":1},\"mode\":\"markers\",\"showlegend\":false,\"text\":[\"ID: 4, Pos(0.36,3.53)\"],\"x\":[0.3641343259718525],\"y\":[3.532964940968098],\"type\":\"scatter\"},{\"hoverinfo\":\"text\",\"marker\":{\"opacity\":1,\"size\":1},\"mode\":\"markers\",\"showlegend\":false,\"text\":[\"ID: 5, Pos(0.94,5.38)\"],\"x\":[0.9409896998223644],\"y\":[5.377929480554271],\"type\":\"scatter\"},{\"hoverinfo\":\"text\",\"marker\":{\"opacity\":1,\"size\":1},\"mode\":\"markers\",\"showlegend\":false,\"text\":[\"ID: 6, Pos(2.24,6.35)\"],\"x\":[2.2439439375493957],\"y\":[6.345752013872753],\"type\":\"scatter\"},{\"hoverinfo\":\"text\",\"marker\":{\"opacity\":1,\"size\":1},\"mode\":\"markers\",\"showlegend\":false,\"text\":[\"ID: 7, Pos(0.08,5.63)\"],\"x\":[0.08168928710841557],\"y\":[5.625714786599473],\"type\":\"scatter\"},{\"hoverinfo\":\"text\",\"marker\":{\"opacity\":1,\"size\":1},\"mode\":\"markers\",\"showlegend\":false,\"text\":[\"ID: 8, Pos(3.09,4.78)\"],\"x\":[3.0850411312541173],\"y\":[4.781605044449747],\"type\":\"scatter\"},{\"hoverinfo\":\"text\",\"marker\":{\"opacity\":1,\"size\":1},\"mode\":\"markers\",\"showlegend\":false,\"text\":[\"ID: 9, Pos(2.23,4.44)\"],\"x\":[2.2346752948008763],\"y\":[4.4443692198279],\"type\":\"scatter\"},{\"hoverinfo\":\"text\",\"marker\":{\"opacity\":1,\"size\":1},\"mode\":\"markers\",\"showlegend\":false,\"text\":[\"ID: 10, Pos(1.74,5.67)\"],\"x\":[1.7411094290339029],\"y\":[5.672078008372512],\"type\":\"scatter\"}],\"layout\":{\"shapes\":[{\"fillcolor\":\"rgba(0, 0, 128, 0.5)\",\"line\":{\"color\":\"rgba(0, 0, 128, 0.5)\"},\"type\":\"circle\",\"x0\":0.7772126605101715,\"x1\":1.1772126605101714,\"xref\":\"x\",\"y0\":6.530910004201922,\"y1\":6.930910004201922,\"yref\":\"y\"},{\"fillcolor\":\"rgba(225, 255, 22, 0.5)\",\"line\":{\"color\":\"rgba(225, 255, 22, 0.5)\"},\"type\":\"circle\",\"x0\":0.3875325620938784,\"x1\":0.7875325620938785,\"xref\":\"x\",\"y0\":4.364360353841049,\"y1\":4.76436035384105,\"yref\":\"y\"},{\"fillcolor\":\"rgba(0, 0, 187, 0.5)\",\"line\":{\"color\":\"rgba(0, 0, 187, 0.5)\"},\"type\":\"circle\",\"x0\":0.025948064911337332,\"x1\":0.42594806491133735,\"xref\":\"x\",\"y0\":6.794523566304945,\"y1\":7.194523566304945,\"yref\":\"y\"},{\"fillcolor\":\"rgba(255, 152, 0, 0.5)\",\"line\":{\"color\":\"rgba(255, 152, 0, 0.5)\"},\"type\":\"circle\",\"x0\":0.1641343259718525,\"x1\":0.5641343259718525,\"xref\":\"x\",\"y0\":3.3329649409680977,\"y1\":3.732964940968098,\"yref\":\"y\"},{\"fillcolor\":\"rgba(41, 255, 206, 0.5)\",\"line\":{\"color\":\"rgba(41, 255, 206, 0.5)\"},\"type\":\"circle\",\"x0\":0.7409896998223644,\"x1\":1.1409896998223643,\"xref\":\"x\",\"y0\":5.177929480554271,\"y1\":5.577929480554271,\"yref\":\"y\"},{\"fillcolor\":\"rgba(0, 0, 146, 0.5)\",\"line\":{\"color\":\"rgba(0, 0, 146, 0.5)\"},\"type\":\"circle\",\"x0\":2.0439439375493955,\"x1\":2.443943937549396,\"xref\":\"x\",\"y0\":6.145752013872753,\"y1\":6.545752013872753,\"yref\":\"y\"},{\"fillcolor\":\"rgba(60, 255, 186, 0.5)\",\"line\":{\"color\":\"rgba(60, 255, 186, 0.5)\"},\"type\":\"circle\",\"x0\":-0.11831071289158444,\"x1\":0.28168928710841556,\"xref\":\"x\",\"y0\":5.425714786599473,\"y1\":5.825714786599473,\"yref\":\"y\"},{\"fillcolor\":\"rgba(0, 0, 205, 0.5)\",\"line\":{\"color\":\"rgba(0, 0, 205, 0.5)\"},\"type\":\"circle\",\"x0\":2.885041131254117,\"x1\":3.2850411312541175,\"xref\":\"x\",\"y0\":4.581605044449747,\"y1\":4.981605044449747,\"yref\":\"y\"},{\"fillcolor\":\"rgba(99, 255, 148, 0.5)\",\"line\":{\"color\":\"rgba(99, 255, 148, 0.5)\"},\"type\":\"circle\",\"x0\":2.034675294800876,\"x1\":2.4346752948008765,\"xref\":\"x\",\"y0\":4.2443692198279,\"y1\":4.6443692198279,\"yref\":\"y\"},{\"fillcolor\":\"rgba(122, 255, 125, 0.5)\",\"line\":{\"color\":\"rgba(122, 255, 125, 0.5)\"},\"type\":\"circle\",\"x0\":1.541109429033903,\"x1\":1.9411094290339028,\"xref\":\"x\",\"y0\":5.472078008372512,\"y1\":5.872078008372513,\"yref\":\"y\"},{\"line\":{\"color\":\"white\",\"width\":3},\"type\":\"line\",\"x0\":0.9772126605101714,\"x1\":0.9213015386547124,\"y0\":6.730910004201922,\"y1\":6.922935904675957},{\"line\":{\"color\":\"black\",\"width\":3},\"type\":\"line\",\"x0\":0.5875325620938784,\"x1\":0.5556377952124505,\"y0\":4.5643603538410495,\"y1\":4.761800784973023},{\"line\":{\"color\":\"white\",\"width\":3},\"type\":\"line\",\"x0\":0.22594806491133734,\"x1\":0.1784493668080322,\"y0\":6.994523566304945,\"y1\":7.188801392313193},{\"line\":{\"color\":\"black\",\"width\":3},\"type\":\"line\",\"x0\":0.3641343259718525,\"x1\":0.3501981698531636,\"y0\":3.532964940968098,\"y1\":3.7324788090390557},{\"line\":{\"color\":\"black\",\"width\":3},\"type\":\"line\",\"x0\":0.9409896998223644,\"x1\":0.8910930116062155,\"y0\":5.377929480554271,\"y1\":5.5716052934609435},{\"line\":{\"color\":\"white\",\"width\":3},\"type\":\"line\",\"x0\":2.2439439375493957,\"x1\":2.1297562733980735,\"y0\":6.345752013872753,\"y1\":6.5099506050837155},{\"line\":{\"color\":\"black\",\"width\":3},\"type\":\"line\",\"x0\":0.08168928710841557,\"x1\":0.06597688852921443,\"y0\":5.625714786599473,\"y1\":5.825096632640903},{\"line\":{\"color\":\"white\",\"width\":3},\"type\":\"line\",\"x0\":3.0850411312541173,\"x1\":2.974336810343747,\"y0\":4.781605044449747,\"y1\":4.948172007956241},{\"line\":{\"color\":\"black\",\"width\":3},\"type\":\"line\",\"x0\":2.2346752948008763,\"x1\":2.138515668477385,\"y0\":4.4443692198279,\"y1\":4.619735483018191},{\"line\":{\"color\":\"black\",\"width\":3},\"type\":\"line\",\"x0\":1.7411094290339029,\"x1\":1.6476085711529378,\"y0\":5.672078008372512,\"y1\":5.848876168927207}],\"title\":{\"text\":\"\\u003cb\\u003eNumber of Agents: 10\\u003c\\u002fb\\u003e\",\"x\":0.5}},\"name\":\"100\"},{\"data\":[{\"hoverinfo\":\"name\",\"line\":{\"color\":\"grey\"},\"mode\":\"lines\",\"name\":\"Exterior\",\"showlegend\":false,\"x\":[-10.0,-10.0,10.0,10.0,-10.0],\"y\":[10.0,-10.0,-10.0,10.0,10.0],\"type\":\"scatter\"},{\"hoverinfo\":\"text\",\"marker\":{\"opacity\":1,\"size\":1},\"mode\":\"markers\",\"showlegend\":false,\"text\":[\"ID: 1, Pos(0.90,7.00)\"],\"x\":[0.9004634470716527],\"y\":[6.997073826432919],\"type\":\"scatter\"},{\"hoverinfo\":\"text\",\"marker\":{\"opacity\":1,\"size\":1},\"mode\":\"markers\",\"showlegend\":false,\"text\":[\"ID: 2, Pos(0.56,4.72)\"],\"x\":[0.5630210501576417],\"y\":[4.720948648031996],\"type\":\"scatter\"},{\"hoverinfo\":\"text\",\"marker\":{\"opacity\":1,\"size\":1},\"mode\":\"markers\",\"showlegend\":false,\"text\":[\"ID: 3, Pos(0.16,7.25)\"],\"x\":[0.1623216794183895],\"y\":[7.253595932027273],\"type\":\"scatter\"},{\"hoverinfo\":\"text\",\"marker\":{\"opacity\":1,\"size\":1},\"mode\":\"markers\",\"showlegend\":false,\"text\":[\"ID: 4, Pos(0.35,3.67)\"],\"x\":[0.354931012230115],\"y\":[3.665580935092767],\"type\":\"scatter\"},{\"hoverinfo\":\"text\",\"marker\":{\"opacity\":1,\"size\":1},\"mode\":\"markers\",\"showlegend\":false,\"text\":[\"ID: 5, Pos(0.88,5.59)\"],\"x\":[0.8833294041242294],\"y\":[5.586743324753559],\"type\":\"scatter\"},{\"hoverinfo\":\"text\",\"marker\":{\"opacity\":1,\"size\":1},\"mode\":\"markers\",\"showlegend\":false,\"text\":[\"ID: 6, Pos(2.09,6.57)\"],\"x\":[2.086081331217921],\"y\":[6.568850669139892],\"type\":\"scatter\"},{\"hoverinfo\":\"text\",\"marker\":{\"opacity\":1,\"size\":1},\"mode\":\"markers\",\"showlegend\":false,\"text\":[\"ID: 7, Pos(0.06,5.83)\"],\"x\":[0.06438337217986519],\"y\":[5.825603203344843],\"type\":\"scatter\"},{\"hoverinfo\":\"text\",\"marker\":{\"opacity\":1,\"size\":1},\"mode\":\"markers\",\"showlegend\":false,\"text\":[\"ID: 8, Pos(2.94,5.00)\"],\"x\":[2.9403254815341437],\"y\":[5.00244370735115],\"type\":\"scatter\"},{\"hoverinfo\":\"text\",\"marker\":{\"opacity\":1,\"size\":1},\"mode\":\"markers\",\"showlegend\":false,\"text\":[\"ID: 9, Pos(2.14,4.61)\"],\"x\":[2.1447330454916247],\"y\":[4.605831868523664],\"type\":\"scatter\"},{\"hoverinfo\":\"text\",\"marker\":{\"opacity\":1,\"size\":1},\"mode\":\"markers\",\"showlegend\":false,\"text\":[\"ID: 10, Pos(1.66,5.84)\"],\"x\":[1.6574459796400978],\"y\":[5.841034578894285],\"type\":\"scatter\"}],\"layout\":{\"shapes\":[{\"fillcolor\":\"rgba(0, 0, 128, 0.5)\",\"line\":{\"color\":\"rgba(0, 0, 128, 0.5)\"},\"type\":\"circle\",\"x0\":0.7004634470716526,\"x1\":1.1004634470716528,\"xref\":\"x\",\"y0\":6.797073826432919,\"y1\":7.197073826432919,\"yref\":\"y\"},{\"fillcolor\":\"rgba(202, 255, 44, 0.5)\",\"line\":{\"color\":\"rgba(202, 255, 44, 0.5)\"},\"type\":\"circle\",\"x0\":0.3630210501576417,\"x1\":0.7630210501576418,\"xref\":\"x\",\"y0\":4.520948648031996,\"y1\":4.920948648031996,\"yref\":\"y\"},{\"fillcolor\":\"rgba(0, 0, 187, 0.5)\",\"line\":{\"color\":\"rgba(0, 0, 187, 0.5)\"},\"type\":\"circle\",\"x0\":-0.037678320581610525,\"x1\":0.3623216794183895,\"xref\":\"x\",\"y0\":7.053595932027273,\"y1\":7.453595932027273,\"yref\":\"y\"},{\"fillcolor\":\"rgba(255, 171, 0, 0.5)\",\"line\":{\"color\":\"rgba(255, 171, 0, 0.5)\"},\"type\":\"circle\",\"x0\":0.15493101223011496,\"x1\":0.554931012230115,\"xref\":\"x\",\"y0\":3.465580935092767,\"y1\":3.8655809350927672,\"yref\":\"y\"},{\"fillcolor\":\"rgba(0, 69, 255, 0.5)\",\"line\":{\"color\":\"rgba(0, 69, 255, 0.5)\"},\"type\":\"circle\",\"x0\":0.6833294041242295,\"x1\":1.0833294041242294,\"xref\":\"x\",\"y0\":5.386743324753559,\"y1\":5.78674332475356,\"yref\":\"y\"},{\"fillcolor\":\"rgba(0, 0, 146, 0.5)\",\"line\":{\"color\":\"rgba(0, 0, 146, 0.5)\"},\"type\":\"circle\",\"x0\":1.8860813312179212,\"x1\":2.2860813312179213,\"xref\":\"x\",\"y0\":6.368850669139892,\"y1\":6.768850669139892,\"yref\":\"y\"},{\"fillcolor\":\"rgba(12, 244, 235, 0.5)\",\"line\":{\"color\":\"rgba(12, 244, 235, 0.5)\"},\"type\":\"circle\",\"x0\":-0.13561662782013484,\"x1\":0.2643833721798652,\"xref\":\"x\",\"y0\":5.625603203344843,\"y1\":6.0256032033448435,\"yref\":\"y\"},{\"fillcolor\":\"rgba(0, 0, 205, 0.5)\",\"line\":{\"color\":\"rgba(0, 0, 205, 0.5)\"},\"type\":\"circle\",\"x0\":2.7403254815341436,\"x1\":3.140325481534144,\"xref\":\"x\",\"y0\":4.8024437073511494,\"y1\":5.20244370735115,\"yref\":\"y\"},{\"fillcolor\":\"rgba(96, 255, 151, 0.5)\",\"line\":{\"color\":\"rgba(96, 255, 151, 0.5)\"},\"type\":\"circle\",\"x0\":1.9447330454916247,\"x1\":2.344733045491625,\"xref\":\"x\",\"y0\":4.405831868523664,\"y1\":4.805831868523664,\"yref\":\"y\"},{\"fillcolor\":\"rgba(54, 255, 193, 0.5)\",\"line\":{\"color\":\"rgba(54, 255, 193, 0.5)\"},\"type\":\"circle\",\"x0\":1.4574459796400978,\"x1\":1.8574459796400977,\"xref\":\"x\",\"y0\":5.641034578894285,\"y1\":6.041034578894285,\"yref\":\"y\"},{\"line\":{\"color\":\"white\",\"width\":3},\"type\":\"line\",\"x0\":0.9004634470716527,\"x1\":0.8454005547062986,\"y0\":6.997073826432919,\"y1\":7.189344671556046},{\"line\":{\"color\":\"black\",\"width\":3},\"type\":\"line\",\"x0\":0.5630210501576417,\"x1\":0.5333978688813742,\"y0\":4.720948648031996,\"y1\":4.91874264978906},{\"line\":{\"color\":\"white\",\"width\":3},\"type\":\"line\",\"x0\":0.1623216794183895,\"x1\":0.11455709895639479,\"y0\":7.253595932027273,\"y1\":7.447808559972239},{\"line\":{\"color\":\"black\",\"width\":3},\"type\":\"line\",\"x0\":0.354931012230115,\"x1\":0.34116165944732013,\"y0\":3.665580935092767,\"y1\":3.8651063844067406},{\"line\":{\"color\":\"white\",\"width\":3},\"type\":\"line\",\"x0\":0.8833294041242294,\"x1\":0.8278913257376089,\"y0\":5.586743324753559,\"y1\":5.77890632708439},{\"line\":{\"color\":\"white\",\"width\":3},\"type\":\"line\",\"x0\":2.086081331217921,\"x1\":1.969568311499975,\"y0\":6.568850669139892,\"y1\":6.731407478398088},{\"line\":{\"color\":\"black\",\"width\":3},\"type\":\"line\",\"x0\":0.06438337217986519,\"x1\":0.04462035202076188,\"y0\":5.825603203344843,\"y1\":6.024624365622102},{\"line\":{\"color\":\"white\",\"width\":3},\"type\":\"line\",\"x0\":2.9403254815341437,\"x1\":2.8315973005084976,\"y0\":5.00244370735115,\"y1\":5.17030729080764},{\"line\":{\"color\":\"black\",\"width\":3},\"type\":\"line\",\"x0\":2.1447330454916247,\"x1\":2.046444165368078,\"y0\":4.605831868523664,\"y1\":4.780013658743133},{\"line\":{\"color\":\"black\",\"width\":3},\"type\":\"line\",\"x0\":1.6574459796400978,\"x1\":1.5728031247926304,\"y0\":5.841034578894285,\"y1\":6.022240503530513}],\"title\":{\"text\":\"\\u003cb\\u003eNumber of Agents: 10\\u003c\\u002fb\\u003e\",\"x\":0.5}},\"name\":\"105\"},{\"data\":[{\"hoverinfo\":\"name\",\"line\":{\"color\":\"grey\"},\"mode\":\"lines\",\"name\":\"Exterior\",\"showlegend\":false,\"x\":[-10.0,-10.0,10.0,10.0,-10.0],\"y\":[10.0,-10.0,-10.0,10.0,10.0],\"type\":\"scatter\"},{\"hoverinfo\":\"text\",\"marker\":{\"opacity\":1,\"size\":1},\"mode\":\"markers\",\"showlegend\":false,\"text\":[\"ID: 1, Pos(0.82,7.26)\"],\"x\":[0.8244510791275175],\"y\":[7.263449220543443],\"type\":\"scatter\"},{\"hoverinfo\":\"text\",\"marker\":{\"opacity\":1,\"size\":1},\"mode\":\"markers\",\"showlegend\":false,\"text\":[\"ID: 2, Pos(0.54,4.88)\"],\"x\":[0.5399454750836099],\"y\":[4.882997001379452],\"type\":\"scatter\"},{\"hoverinfo\":\"text\",\"marker\":{\"opacity\":1,\"size\":1},\"mode\":\"markers\",\"showlegend\":false,\"text\":[\"ID: 3, Pos(0.10,7.51)\"],\"x\":[0.09886247047414116],\"y\":[7.5127092425363236],\"type\":\"scatter\"},{\"hoverinfo\":\"text\",\"marker\":{\"opacity\":1,\"size\":1},\"mode\":\"markers\",\"showlegend\":false,\"text\":[\"ID: 4, Pos(0.35,3.80)\"],\"x\":[0.34552496081109735],\"y\":[3.8026547004523286],\"type\":\"scatter\"},{\"hoverinfo\":\"text\",\"marker\":{\"opacity\":1,\"size\":1},\"mode\":\"markers\",\"showlegend\":false,\"text\":[\"ID: 5, Pos(0.81,5.84)\"],\"x\":[0.8107464321323598],\"y\":[5.8387663397263045],\"type\":\"scatter\"},{\"hoverinfo\":\"text\",\"marker\":{\"opacity\":1,\"size\":1},\"mode\":\"markers\",\"showlegend\":false,\"text\":[\"ID: 6, Pos(1.93,6.79)\"],\"x\":[1.925891648179611],\"y\":[6.790286343220301],\"type\":\"scatter\"},{\"hoverinfo\":\"text\",\"marker\":{\"opacity\":1,\"size\":1},\"mode\":\"markers\",\"showlegend\":false,\"text\":[\"ID: 7, Pos(0.04,6.03)\"],\"x\":[0.0378981163110278],\"y\":[6.034820489105978],\"type\":\"scatter\"},{\"hoverinfo\":\"text\",\"marker\":{\"opacity\":1,\"size\":1},\"mode\":\"markers\",\"showlegend\":false,\"text\":[\"ID: 8, Pos(2.80,5.22)\"],\"x\":[2.797690101717694],\"y\":[5.224632886301447],\"type\":\"scatter\"},{\"hoverinfo\":\"text\",\"marker\":{\"opacity\":1,\"size\":1},\"mode\":\"markers\",\"showlegend\":false,\"text\":[\"ID: 9, Pos(2.05,4.77)\"],\"x\":[2.0520900944708886],\"y\":[4.768339629025857],\"type\":\"scatter\"},{\"hoverinfo\":\"text\",\"marker\":{\"opacity\":1,\"size\":1},\"mode\":\"markers\",\"showlegend\":false,\"text\":[\"ID: 10, Pos(1.58,6.03)\"],\"x\":[1.5756953966117184],\"y\":[6.026551614057342],\"type\":\"scatter\"}],\"layout\":{\"shapes\":[{\"fillcolor\":\"rgba(0, 0, 128, 0.5)\",\"line\":{\"color\":\"rgba(0, 0, 128, 0.5)\"},\"type\":\"circle\",\"x0\":0.6244510791275175,\"x1\":1.0244510791275174,\"xref\":\"x\",\"y0\":7.0634492205434425,\"y1\":7.463449220543443,\"yref\":\"y\"},{\"fillcolor\":\"rgba(255, 222, 0, 0.5)\",\"line\":{\"color\":\"rgba(255, 222, 0, 0.5)\"},\"type\":\"circle\",\"x0\":0.3399454750836099,\"x1\":0.7399454750836099,\"xref\":\"x\",\"y0\":4.6829970013794515,\"y1\":5.082997001379452,\"yref\":\"y\"},{\"fillcolor\":\"rgba(0, 0, 187, 0.5)\",\"line\":{\"color\":\"rgba(0, 0, 187, 0.5)\"},\"type\":\"circle\",\"x0\":-0.10113752952585885,\"x1\":0.29886247047414116,\"xref\":\"x\",\"y0\":7.312709242536323,\"y1\":7.712709242536324,\"yref\":\"y\"},{\"fillcolor\":\"rgba(255, 185, 0, 0.5)\",\"line\":{\"color\":\"rgba(255, 185, 0, 0.5)\"},\"type\":\"circle\",\"x0\":0.14552496081109734,\"x1\":0.5455249608110974,\"xref\":\"x\",\"y0\":3.6026547004523284,\"y1\":4.002654700452329,\"yref\":\"y\"},{\"fillcolor\":\"rgba(0, 13, 255, 0.5)\",\"line\":{\"color\":\"rgba(0, 13, 255, 0.5)\"},\"type\":\"circle\",\"x0\":0.6107464321323597,\"x1\":1.0107464321323598,\"xref\":\"x\",\"y0\":5.638766339726304,\"y1\":6.038766339726305,\"yref\":\"y\"},{\"fillcolor\":\"rgba(0, 0, 146, 0.5)\",\"line\":{\"color\":\"rgba(0, 0, 146, 0.5)\"},\"type\":\"circle\",\"x0\":1.725891648179611,\"x1\":2.125891648179611,\"xref\":\"x\",\"y0\":6.590286343220301,\"y1\":6.990286343220301,\"yref\":\"y\"},{\"fillcolor\":\"rgba(0, 192, 255, 0.5)\",\"line\":{\"color\":\"rgba(0, 192, 255, 0.5)\"},\"type\":\"circle\",\"x0\":-0.16210188368897221,\"x1\":0.2378981163110278,\"xref\":\"x\",\"y0\":5.834820489105978,\"y1\":6.234820489105978,\"yref\":\"y\"},{\"fillcolor\":\"rgba(0, 0, 205, 0.5)\",\"line\":{\"color\":\"rgba(0, 0, 205, 0.5)\"},\"type\":\"circle\",\"x0\":2.597690101717694,\"x1\":2.9976901017176942,\"xref\":\"x\",\"y0\":5.024632886301447,\"y1\":5.424632886301447,\"yref\":\"y\"},{\"fillcolor\":\"rgba(83, 255, 164, 0.5)\",\"line\":{\"color\":\"rgba(83, 255, 164, 0.5)\"},\"type\":\"circle\",\"x0\":1.8520900944708887,\"x1\":2.252090094470889,\"xref\":\"x\",\"y0\":4.568339629025857,\"y1\":4.9683396290258575,\"yref\":\"y\"},{\"fillcolor\":\"rgba(0, 228, 248, 0.5)\",\"line\":{\"color\":\"rgba(0, 228, 248, 0.5)\"},\"type\":\"circle\",\"x0\":1.3756953966117185,\"x1\":1.7756953966117184,\"xref\":\"x\",\"y0\":5.826551614057342,\"y1\":6.2265516140573425,\"yref\":\"y\"},{\"line\":{\"color\":\"white\",\"width\":3},\"type\":\"line\",\"x0\":0.8244510791275175,\"x1\":0.7696518873041566,\"y0\":7.263449220543443,\"y1\":7.4557953891445},{\"line\":{\"color\":\"black\",\"width\":3},\"type\":\"line\",\"x0\":0.5399454750836099,\"x1\":0.5126880655880273,\"y0\":4.882997001379452,\"y1\":5.081130879420513},{\"line\":{\"color\":\"white\",\"width\":3},\"type\":\"line\",\"x0\":0.09886247047414116,\"x1\":0.051574185697097416,\"y0\":7.5127092425363236,\"y1\":7.707038391463717},{\"line\":{\"color\":\"black\",\"width\":3},\"type\":\"line\",\"x0\":0.34552496081109735,\"x1\":0.33189823987968736,\"y0\":3.8026547004523286,\"y1\":4.002189941642093},{\"line\":{\"color\":\"white\",\"width\":3},\"type\":\"line\",\"x0\":0.8107464321323598,\"x1\":0.7566094406364635,\"y0\":5.8387663397263045,\"y1\":6.0312999371886},{\"line\":{\"color\":\"white\",\"width\":3},\"type\":\"line\",\"x0\":1.925891648179611,\"x1\":1.808154075831956,\"y0\":6.790286343220301,\"y1\":6.951958431280302},{\"line\":{\"color\":\"black\",\"width\":3},\"type\":\"line\",\"x0\":0.0378981163110278,\"x1\":0.007649779140634055,\"y0\":6.034820489105978,\"y1\":6.232519852024593},{\"line\":{\"color\":\"white\",\"width\":3},\"type\":\"line\",\"x0\":2.797690101717694,\"x1\":2.6901036240049123,\"y0\":5.224632886301447,\"y1\":5.3932304835955875},{\"line\":{\"color\":\"black\",\"width\":3},\"type\":\"line\",\"x0\":2.0520900944708886,\"x1\":1.9525151236518374,\"y0\":4.768339629025857,\"y1\":4.94178940615568},{\"line\":{\"color\":\"black\",\"width\":3},\"type\":\"line\",\"x0\":1.5756953966117184,\"x1\":1.49829909993961,\"y0\":6.026551614057342,\"y1\":6.21096911122462}],\"title\":{\"text\":\"\\u003cb\\u003eNumber of Agents: 10\\u003c\\u002fb\\u003e\",\"x\":0.5}},\"name\":\"110\"},{\"data\":[{\"hoverinfo\":\"name\",\"line\":{\"color\":\"grey\"},\"mode\":\"lines\",\"name\":\"Exterior\",\"showlegend\":false,\"x\":[-10.0,-10.0,10.0,10.0,-10.0],\"y\":[10.0,-10.0,-10.0,10.0,10.0],\"type\":\"scatter\"},{\"hoverinfo\":\"text\",\"marker\":{\"opacity\":1,\"size\":1},\"mode\":\"markers\",\"showlegend\":false,\"text\":[\"ID: 1, Pos(0.75,7.53)\"],\"x\":[0.7484633737493473],\"y\":[7.529831660472483],\"type\":\"scatter\"},{\"hoverinfo\":\"text\",\"marker\":{\"opacity\":1,\"size\":1},\"mode\":\"markers\",\"showlegend\":false,\"text\":[\"ID: 2, Pos(0.52,5.01)\"],\"x\":[0.5230503547768617],\"y\":[5.009228378743832],\"type\":\"scatter\"},{\"hoverinfo\":\"text\",\"marker\":{\"opacity\":1,\"size\":1},\"mode\":\"markers\",\"showlegend\":false,\"text\":[\"ID: 3, Pos(0.04,7.77)\"],\"x\":[0.036572207219976866],\"y\":[7.772105630191207],\"type\":\"scatter\"},{\"hoverinfo\":\"text\",\"marker\":{\"opacity\":1,\"size\":1},\"mode\":\"markers\",\"showlegend\":false,\"text\":[\"ID: 4, Pos(0.34,3.94)\"],\"x\":[0.3361039145206824],\"y\":[3.9403553846774773],\"type\":\"scatter\"},{\"hoverinfo\":\"text\",\"marker\":{\"opacity\":1,\"size\":1},\"mode\":\"markers\",\"showlegend\":false,\"text\":[\"ID: 5, Pos(0.75,6.07)\"],\"x\":[0.746380817910348],\"y\":[6.066821014513232],\"type\":\"scatter\"},{\"hoverinfo\":\"text\",\"marker\":{\"opacity\":1,\"size\":1},\"mode\":\"markers\",\"showlegend\":false,\"text\":[\"ID: 6, Pos(1.76,7.01)\"],\"x\":[1.7645287768676456],\"y\":[7.010869160645766],\"type\":\"scatter\"},{\"hoverinfo\":\"text\",\"marker\":{\"opacity\":1,\"size\":1},\"mode\":\"markers\",\"showlegend\":false,\"text\":[\"ID: 7, Pos(0.00,6.25)\"],\"x\":[0.0008139457219622859],\"y\":[6.251561499953237],\"type\":\"scatter\"},{\"hoverinfo\":\"text\",\"marker\":{\"opacity\":1,\"size\":1},\"mode\":\"markers\",\"showlegend\":false,\"text\":[\"ID: 8, Pos(2.66,5.45)\"],\"x\":[2.655861772771678],\"y\":[5.447338660283067],\"type\":\"scatter\"},{\"hoverinfo\":\"text\",\"marker\":{\"opacity\":1,\"size\":1},\"mode\":\"markers\",\"showlegend\":false,\"text\":[\"ID: 9, Pos(1.96,4.93)\"],\"x\":[1.9565602590063096],\"y\":[4.934245607099093],\"type\":\"scatter\"},{\"hoverinfo\":\"text\",\"marker\":{\"opacity\":1,\"size\":1},\"mode\":\"markers\",\"showlegend\":false,\"text\":[\"ID: 10, Pos(1.50,6.23)\"],\"x\":[1.496266036639627],\"y\":[6.226196210369018],\"type\":\"scatter\"}],\"layout\":{\"shapes\":[{\"fillcolor\":\"rgba(0, 0, 128, 0.5)\",\"line\":{\"color\":\"rgba(0, 0, 128, 0.5)\"},\"type\":\"circle\",\"x0\":0.5484633737493474,\"x1\":0.9484633737493473,\"xref\":\"x\",\"y0\":7.3298316604724825,\"y1\":7.729831660472483,\"yref\":\"y\"},{\"fillcolor\":\"rgba(255, 171, 0, 0.5)\",\"line\":{\"color\":\"rgba(255, 171, 0, 0.5)\"},\"type\":\"circle\",\"x0\":0.32305035477686167,\"x1\":0.7230503547768616,\"xref\":\"x\",\"y0\":4.809228378743832,\"y1\":5.209228378743832,\"yref\":\"y\"},{\"fillcolor\":\"rgba(0, 0, 187, 0.5)\",\"line\":{\"color\":\"rgba(0, 0, 187, 0.5)\"},\"type\":\"circle\",\"x0\":-0.16342779278002315,\"x1\":0.23657220721997688,\"xref\":\"x\",\"y0\":7.572105630191206,\"y1\":7.972105630191207,\"yref\":\"y\"},{\"fillcolor\":\"rgba(255, 182, 0, 0.5)\",\"line\":{\"color\":\"rgba(255, 182, 0, 0.5)\"},\"type\":\"circle\",\"x0\":0.13610391452068238,\"x1\":0.5361039145206824,\"xref\":\"x\",\"y0\":3.740355384677477,\"y1\":4.140355384677477,\"yref\":\"y\"},{\"fillcolor\":\"rgba(0, 96, 255, 0.5)\",\"line\":{\"color\":\"rgba(0, 96, 255, 0.5)\"},\"type\":\"circle\",\"x0\":0.546380817910348,\"x1\":0.9463808179103481,\"xref\":\"x\",\"y0\":5.866821014513232,\"y1\":6.266821014513233,\"yref\":\"y\"},{\"fillcolor\":\"rgba(0, 0, 146, 0.5)\",\"line\":{\"color\":\"rgba(0, 0, 146, 0.5)\"},\"type\":\"circle\",\"x0\":1.5645287768676457,\"x1\":1.9645287768676456,\"xref\":\"x\",\"y0\":6.810869160645765,\"y1\":7.210869160645766,\"yref\":\"y\"},{\"fillcolor\":\"rgba(0, 144, 255, 0.5)\",\"line\":{\"color\":\"rgba(0, 144, 255, 0.5)\"},\"type\":\"circle\",\"x0\":-0.19918605427803773,\"x1\":0.2008139457219623,\"xref\":\"x\",\"y0\":6.0515614999532366,\"y1\":6.451561499953237,\"yref\":\"y\"},{\"fillcolor\":\"rgba(0, 0, 205, 0.5)\",\"line\":{\"color\":\"rgba(0, 0, 205, 0.5)\"},\"type\":\"circle\",\"x0\":2.455861772771678,\"x1\":2.855861772771678,\"xref\":\"x\",\"y0\":5.2473386602830665,\"y1\":5.647338660283067,\"yref\":\"y\"},{\"fillcolor\":\"rgba(60, 255, 186, 0.5)\",\"line\":{\"color\":\"rgba(60, 255, 186, 0.5)\"},\"type\":\"circle\",\"x0\":1.7565602590063096,\"x1\":2.1565602590063095,\"xref\":\"x\",\"y0\":4.734245607099093,\"y1\":5.134245607099094,\"yref\":\"y\"},{\"fillcolor\":\"rgba(0, 168, 255, 0.5)\",\"line\":{\"color\":\"rgba(0, 168, 255, 0.5)\"},\"type\":\"circle\",\"x0\":1.296266036639627,\"x1\":1.696266036639627,\"xref\":\"x\",\"y0\":6.026196210369018,\"y1\":6.426196210369018,\"yref\":\"y\"},{\"line\":{\"color\":\"white\",\"width\":3},\"type\":\"line\",\"x0\":0.7484633737493473,\"x1\":0.6934885792976503,\"y0\":7.529831660472483,\"y1\":7.722127713409077},{\"line\":{\"color\":\"black\",\"width\":3},\"type\":\"line\",\"x0\":0.5230503547768617,\"x1\":0.4969159787487627,\"y0\":5.009228378743832,\"y1\":5.2075135128049155},{\"line\":{\"color\":\"white\",\"width\":3},\"type\":\"line\",\"x0\":0.036572207219976866,\"x1\":-0.009459391164486464,\"y0\":7.772105630191207,\"y1\":7.966736285408136},{\"line\":{\"color\":\"black\",\"width\":3},\"type\":\"line\",\"x0\":0.3361039145206824,\"x1\":0.32244264524010435,\"y0\":3.9403553846774773,\"y1\":4.139888263476044},{\"line\":{\"color\":\"white\",\"width\":3},\"type\":\"line\",\"x0\":0.746380817910348,\"x1\":0.6917897119195529,\"y0\":6.066821014513232,\"y1\":6.259226344862217},{\"line\":{\"color\":\"white\",\"width\":3},\"type\":\"line\",\"x0\":1.7645287768676456,\"x1\":1.6462056311069755,\"y0\":7.010869160645766,\"y1\":7.172113178138816},{\"line\":{\"color\":\"white\",\"width\":3},\"type\":\"line\",\"x0\":0.0008139457219622859,\"x1\":-0.03544649268406893,\"y0\":6.251561499953237,\"y1\":6.448246986470678},{\"line\":{\"color\":\"white\",\"width\":3},\"type\":\"line\",\"x0\":2.655861772771678,\"x1\":2.548427171564531,\"y0\":5.447338660283067,\"y1\":5.616033077687619},{\"line\":{\"color\":\"black\",\"width\":3},\"type\":\"line\",\"x0\":1.9565602590063096,\"x1\":1.8567047646070782,\"y0\":4.934245607099093,\"y1\":5.107534037867812},{\"line\":{\"color\":\"black\",\"width\":3},\"type\":\"line\",\"x0\":1.496266036639627,\"x1\":1.425256338496011,\"y0\":6.226196210369018,\"y1\":6.413165787492016}],\"title\":{\"text\":\"\\u003cb\\u003eNumber of Agents: 10\\u003c\\u002fb\\u003e\",\"x\":0.5}},\"name\":\"115\"},{\"data\":[{\"hoverinfo\":\"name\",\"line\":{\"color\":\"grey\"},\"mode\":\"lines\",\"name\":\"Exterior\",\"showlegend\":false,\"x\":[-10.0,-10.0,10.0,10.0,-10.0],\"y\":[10.0,-10.0,-10.0,10.0,10.0],\"type\":\"scatter\"},{\"hoverinfo\":\"text\",\"marker\":{\"opacity\":1,\"size\":1},\"mode\":\"markers\",\"showlegend\":false,\"text\":[\"ID: 1.0, Pos(0.67,7.79)\"],\"x\":[0.6691067013232698],\"y\":[7.794864267275721],\"type\":\"scatter\"},{\"hoverinfo\":\"text\",\"marker\":{\"opacity\":1,\"size\":1},\"mode\":\"markers\",\"showlegend\":false,\"text\":[\"ID: 2.0, Pos(0.50,5.15)\"],\"x\":[0.5044744307527493],\"y\":[5.151178073790802],\"type\":\"scatter\"},{\"hoverinfo\":\"text\",\"marker\":{\"opacity\":1,\"size\":1},\"mode\":\"markers\",\"showlegend\":false,\"text\":[\"ID: 4.0, Pos(0.33,4.08)\"],\"x\":[0.3267466989700768],\"y\":[4.0771680580389225],\"type\":\"scatter\"},{\"hoverinfo\":\"text\",\"marker\":{\"opacity\":1,\"size\":1},\"mode\":\"markers\",\"showlegend\":false,\"text\":[\"ID: 5.0, Pos(0.68,6.29)\"],\"x\":[0.6835037344112608],\"y\":[6.289480631165315],\"type\":\"scatter\"},{\"hoverinfo\":\"text\",\"marker\":{\"opacity\":1,\"size\":1},\"mode\":\"markers\",\"showlegend\":false,\"text\":[\"ID: 6.0, Pos(1.60,7.23)\"],\"x\":[1.6025916326259189],\"y\":[7.231030845744599],\"type\":\"scatter\"},{\"hoverinfo\":\"text\",\"marker\":{\"opacity\":1,\"size\":1},\"mode\":\"markers\",\"showlegend\":false,\"text\":[\"ID: 7.0, Pos(-0.04,6.48)\"],\"x\":[-0.043487921722619165],\"y\":[6.476457818129245],\"type\":\"scatter\"},{\"hoverinfo\":\"text\",\"marker\":{\"opacity\":1,\"size\":1},\"mode\":\"markers\",\"showlegend\":false,\"text\":[\"ID: 8.0, Pos(2.51,5.67)\"],\"x\":[2.513705522211019],\"y\":[5.669835124158773],\"type\":\"scatter\"},{\"hoverinfo\":\"text\",\"marker\":{\"opacity\":1,\"size\":1},\"mode\":\"markers\",\"showlegend\":false,\"text\":[\"ID: 9.0, Pos(1.86,5.11)\"],\"x\":[1.8582851667150022],\"y\":[5.105244196580662],\"type\":\"scatter\"},{\"hoverinfo\":\"text\",\"marker\":{\"opacity\":1,\"size\":1},\"mode\":\"markers\",\"showlegend\":false,\"text\":[\"ID: 10.0, Pos(1.42,6.44)\"],\"x\":[1.4193574933810817],\"y\":[6.437856852512518],\"type\":\"scatter\"},{\"hoverinfo\":\"none\",\"marker\":{\"opacity\":0,\"size\":1},\"mode\":\"markers\",\"showlegend\":false,\"x\":[0.0],\"y\":[0.0],\"type\":\"scatter\"}],\"layout\":{\"shapes\":[{\"fillcolor\":\"rgba(0, 0, 128, 0.5)\",\"line\":{\"color\":\"rgba(0, 0, 128, 0.5)\"},\"type\":\"circle\",\"x0\":0.46910670132326976,\"x1\":0.8691067013232698,\"xref\":\"x\",\"y0\":7.594864267275721,\"y1\":7.994864267275721,\"yref\":\"y\"},{\"fillcolor\":\"rgba(251, 241, 0, 0.5)\",\"line\":{\"color\":\"rgba(251, 241, 0, 0.5)\"},\"type\":\"circle\",\"x0\":0.3044744307527493,\"x1\":0.7044744307527493,\"xref\":\"x\",\"y0\":4.9511780737908015,\"y1\":5.351178073790802,\"yref\":\"y\"},{\"fillcolor\":\"rgba(255, 185, 0, 0.5)\",\"line\":{\"color\":\"rgba(255, 185, 0, 0.5)\"},\"type\":\"circle\",\"x0\":0.1267466989700768,\"x1\":0.5267466989700769,\"xref\":\"x\",\"y0\":3.8771680580389223,\"y1\":4.277168058038923,\"yref\":\"y\"},{\"fillcolor\":\"rgba(0, 117, 255, 0.5)\",\"line\":{\"color\":\"rgba(0, 117, 255, 0.5)\"},\"type\":\"circle\",\"x0\":0.48350373441126077,\"x1\":0.8835037344112608,\"xref\":\"x\",\"y0\":6.089480631165315,\"y1\":6.489480631165315,\"yref\":\"y\"},{\"fillcolor\":\"rgba(0, 45, 255, 0.5)\",\"line\":{\"color\":\"rgba(0, 45, 255, 0.5)\"},\"type\":\"circle\",\"x0\":1.402591632625919,\"x1\":1.8025916326259188,\"xref\":\"x\",\"y0\":7.031030845744599,\"y1\":7.4310308457445995,\"yref\":\"y\"},{\"fillcolor\":\"rgba(0, 37, 255, 0.5)\",\"line\":{\"color\":\"rgba(0, 37, 255, 0.5)\"},\"type\":\"circle\",\"x0\":-0.24348792172261918,\"x1\":0.15651207827738084,\"xref\":\"x\",\"y0\":6.276457818129245,\"y1\":6.676457818129245,\"yref\":\"y\"},{\"fillcolor\":\"rgba(0, 0, 205, 0.5)\",\"line\":{\"color\":\"rgba(0, 0, 205, 0.5)\"},\"type\":\"circle\",\"x0\":2.313705522211019,\"x1\":2.7137055222110193,\"xref\":\"x\",\"y0\":5.469835124158773,\"y1\":5.869835124158773,\"yref\":\"y\"},{\"fillcolor\":\"rgba(44, 255, 202, 0.5)\",\"line\":{\"color\":\"rgba(44, 255, 202, 0.5)\"},\"type\":\"circle\",\"x0\":1.6582851667150023,\"x1\":2.0582851667150024,\"xref\":\"x\",\"y0\":4.905244196580662,\"y1\":5.305244196580662,\"yref\":\"y\"},{\"fillcolor\":\"rgba(102, 255, 144, 0.5)\",\"line\":{\"color\":\"rgba(102, 255, 144, 0.5)\"},\"type\":\"circle\",\"x0\":1.2193574933810818,\"x1\":1.6193574933810817,\"xref\":\"x\",\"y0\":6.237856852512518,\"y1\":6.637856852512519,\"yref\":\"y\"},{\"fillcolor\":\"rgba(255,255,255,0)\",\"line\":{\"width\":0},\"type\":\"circle\",\"x0\":0.0,\"x1\":0.0,\"xref\":\"x\",\"y0\":0.0,\"y1\":0.0,\"yref\":\"y\"},{\"line\":{\"color\":\"white\",\"width\":3},\"type\":\"line\",\"x0\":0.6691067013232698,\"x1\":0.571358000221603,\"y0\":7.794864267275721,\"y1\":7.9693497722121975},{\"line\":{\"color\":\"black\",\"width\":3},\"type\":\"line\",\"x0\":0.5044744307527493,\"x1\":0.47860263599372527,\"y0\":5.151178073790802,\"y1\":5.349497639734122},{\"line\":{\"color\":\"black\",\"width\":3},\"type\":\"line\",\"x0\":0.3267466989700768,\"x1\":0.3131218624987522,\"y0\":4.0771680580389225,\"y1\":4.276703427913864},{\"line\":{\"color\":\"white\",\"width\":3},\"type\":\"line\",\"x0\":0.6835037344112608,\"x1\":0.6291146299919547,\"y0\":6.289480631165315,\"y1\":6.481943160818403},{\"line\":{\"color\":\"white\",\"width\":3},\"type\":\"line\",\"x0\":1.6025916326259189,\"x1\":1.483926086579546,\"y0\":7.231030845744599,\"y1\":7.392023044877092},{\"line\":{\"color\":\"white\",\"width\":3},\"type\":\"line\",\"x0\":-0.043487921722619165,\"x1\":-0.08367518766007223,\"y0\":6.476457818129245,\"y1\":6.672378678826805},{\"line\":{\"color\":\"white\",\"width\":3},\"type\":\"line\",\"x0\":2.513705522211019,\"x1\":2.4057229441009933,\"y0\":5.669835124158773,\"y1\":5.838179303816735},{\"line\":{\"color\":\"black\",\"width\":3},\"type\":\"line\",\"x0\":1.8582851667150022,\"x1\":1.7588948591060172,\"y0\":5.105244196580662,\"y1\":5.278799855530151},{\"line\":{\"color\":\"black\",\"width\":3},\"type\":\"line\",\"x0\":1.4193574933810817,\"x1\":1.353297227402308,\"y0\":6.437856852512518,\"y1\":6.626631960137474},{\"line\":{\"color\":\"rgba(255,255,255,0)\",\"width\":3},\"type\":\"line\",\"x0\":0.0,\"x1\":null,\"y0\":0.0,\"y1\":null}],\"title\":{\"text\":\"\\u003cb\\u003eNumber of Agents: 9\\u003c\\u002fb\\u003e\",\"x\":0.5}},\"name\":\"120\"},{\"data\":[{\"hoverinfo\":\"name\",\"line\":{\"color\":\"grey\"},\"mode\":\"lines\",\"name\":\"Exterior\",\"showlegend\":false,\"x\":[-10.0,-10.0,10.0,10.0,-10.0],\"y\":[10.0,-10.0,-10.0,10.0,10.0],\"type\":\"scatter\"},{\"hoverinfo\":\"text\",\"marker\":{\"opacity\":1,\"size\":1},\"mode\":\"markers\",\"showlegend\":false,\"text\":[\"ID: 2.0, Pos(0.48,5.31)\"],\"x\":[0.4842728926328935],\"y\":[5.305844149823903],\"type\":\"scatter\"},{\"hoverinfo\":\"text\",\"marker\":{\"opacity\":1,\"size\":1},\"mode\":\"markers\",\"showlegend\":false,\"text\":[\"ID: 4.0, Pos(0.32,4.22)\"],\"x\":[0.3173083365331781],\"y\":[4.215780911010096],\"type\":\"scatter\"},{\"hoverinfo\":\"text\",\"marker\":{\"opacity\":1,\"size\":1},\"mode\":\"markers\",\"showlegend\":false,\"text\":[\"ID: 5.0, Pos(0.62,6.51)\"],\"x\":[0.6197871712919978],\"y\":[6.510127006725234],\"type\":\"scatter\"},{\"hoverinfo\":\"text\",\"marker\":{\"opacity\":1,\"size\":1},\"mode\":\"markers\",\"showlegend\":false,\"text\":[\"ID: 6.0, Pos(1.47,7.40)\"],\"x\":[1.4741792199894181],\"y\":[7.402247321170548],\"type\":\"scatter\"},{\"hoverinfo\":\"text\",\"marker\":{\"opacity\":1,\"size\":1},\"mode\":\"markers\",\"showlegend\":false,\"text\":[\"ID: 7.0, Pos(-0.09,6.73)\"],\"x\":[-0.09288805802734934],\"y\":[6.732819447305742],\"type\":\"scatter\"},{\"hoverinfo\":\"text\",\"marker\":{\"opacity\":1,\"size\":1},\"mode\":\"markers\",\"showlegend\":false,\"text\":[\"ID: 8.0, Pos(2.37,5.89)\"],\"x\":[2.370557615740712],\"y\":[5.891694642674845],\"type\":\"scatter\"},{\"hoverinfo\":\"text\",\"marker\":{\"opacity\":1,\"size\":1},\"mode\":\"markers\",\"showlegend\":false,\"text\":[\"ID: 9.0, Pos(1.76,5.28)\"],\"x\":[1.7598257059589661],\"y\":[5.2782162860422],\"type\":\"scatter\"},{\"hoverinfo\":\"text\",\"marker\":{\"opacity\":1,\"size\":1},\"mode\":\"markers\",\"showlegend\":false,\"text\":[\"ID: 10.0, Pos(1.37,6.57)\"],\"x\":[1.3727558608010302],\"y\":[6.572979305524166],\"type\":\"scatter\"},{\"hoverinfo\":\"none\",\"marker\":{\"opacity\":0,\"size\":1},\"mode\":\"markers\",\"showlegend\":false,\"x\":[0.0],\"y\":[0.0],\"type\":\"scatter\"},{\"hoverinfo\":\"none\",\"marker\":{\"opacity\":0,\"size\":1},\"mode\":\"markers\",\"showlegend\":false,\"x\":[0.0],\"y\":[0.0],\"type\":\"scatter\"}],\"layout\":{\"shapes\":[{\"fillcolor\":\"rgba(193, 255, 54, 0.5)\",\"line\":{\"color\":\"rgba(193, 255, 54, 0.5)\"},\"type\":\"circle\",\"x0\":0.2842728926328935,\"x1\":0.6842728926328936,\"xref\":\"x\",\"y0\":5.105844149823903,\"y1\":5.505844149823903,\"yref\":\"y\"},{\"fillcolor\":\"rgba(255, 200, 0, 0.5)\",\"line\":{\"color\":\"rgba(255, 200, 0, 0.5)\"},\"type\":\"circle\",\"x0\":0.11730833653317807,\"x1\":0.5173083365331781,\"xref\":\"x\",\"y0\":4.015780911010096,\"y1\":4.4157809110100965,\"yref\":\"y\"},{\"fillcolor\":\"rgba(0, 24, 255, 0.5)\",\"line\":{\"color\":\"rgba(0, 24, 255, 0.5)\"},\"type\":\"circle\",\"x0\":0.4197871712919978,\"x1\":0.8197871712919977,\"xref\":\"x\",\"y0\":6.310127006725234,\"y1\":6.7101270067252345,\"yref\":\"y\"},{\"fillcolor\":\"rgba(0, 45, 255, 0.5)\",\"line\":{\"color\":\"rgba(0, 45, 255, 0.5)\"},\"type\":\"circle\",\"x0\":1.2741792199894182,\"x1\":1.674179219989418,\"xref\":\"x\",\"y0\":7.202247321170548,\"y1\":7.602247321170548,\"yref\":\"y\"},{\"fillcolor\":\"rgba(0, 0, 218, 0.5)\",\"line\":{\"color\":\"rgba(0, 0, 218, 0.5)\"},\"type\":\"circle\",\"x0\":-0.29288805802734935,\"x1\":0.10711194197265067,\"xref\":\"x\",\"y0\":6.532819447305742,\"y1\":6.932819447305742,\"yref\":\"y\"},{\"fillcolor\":\"rgba(0, 0, 205, 0.5)\",\"line\":{\"color\":\"rgba(0, 0, 205, 0.5)\"},\"type\":\"circle\",\"x0\":2.170557615740712,\"x1\":2.570557615740712,\"xref\":\"x\",\"y0\":5.691694642674845,\"y1\":6.091694642674845,\"yref\":\"y\"},{\"fillcolor\":\"rgba(77, 255, 170, 0.5)\",\"line\":{\"color\":\"rgba(77, 255, 170, 0.5)\"},\"type\":\"circle\",\"x0\":1.5598257059589662,\"x1\":1.959825705958966,\"xref\":\"x\",\"y0\":5.0782162860422,\"y1\":5.4782162860422,\"yref\":\"y\"},{\"fillcolor\":\"rgba(255, 100, 0, 0.5)\",\"line\":{\"color\":\"rgba(255, 100, 0, 0.5)\"},\"type\":\"circle\",\"x0\":1.1727558608010302,\"x1\":1.5727558608010301,\"xref\":\"x\",\"y0\":6.372979305524166,\"y1\":6.772979305524166,\"yref\":\"y\"},{\"fillcolor\":\"rgba(255,255,255,0)\",\"line\":{\"width\":0},\"type\":\"circle\",\"x0\":0.0,\"x1\":0.0,\"xref\":\"x\",\"y0\":0.0,\"y1\":0.0,\"yref\":\"y\"},{\"fillcolor\":\"rgba(255,255,255,0)\",\"line\":{\"width\":0},\"type\":\"circle\",\"x0\":0.0,\"x1\":0.0,\"xref\":\"x\",\"y0\":0.0,\"y1\":0.0,\"yref\":\"y\"},{\"line\":{\"color\":\"black\",\"width\":3},\"type\":\"line\",\"x0\":0.4842728926328935,\"x1\":0.4583098152295775,\"y0\":5.305844149823903,\"y1\":5.504151786115977},{\"line\":{\"color\":\"black\",\"width\":3},\"type\":\"line\",\"x0\":0.3173083365331781,\"x1\":0.30375856613670105,\"y0\":4.215780911010096,\"y1\":4.415321392422272},{\"line\":{\"color\":\"white\",\"width\":3},\"type\":\"line\",\"x0\":0.6197871712919978,\"x1\":0.5675686721982249,\"y0\":6.510127006725234,\"y1\":6.703189764274156},{\"line\":{\"color\":\"white\",\"width\":3},\"type\":\"line\",\"x0\":1.4741792199894181,\"x1\":1.3507679409848274,\"y0\":7.402247321170548,\"y1\":7.559631107547833},{\"line\":{\"color\":\"white\",\"width\":3},\"type\":\"line\",\"x0\":-0.09288805802734934,\"x1\":-0.1289200655226427,\"y0\":6.732819447305742,\"y1\":6.92954690963843},{\"line\":{\"color\":\"white\",\"width\":3},\"type\":\"line\",\"x0\":2.370557615740712,\"x1\":2.2616487397102936,\"y0\":5.891694642674845,\"y1\":6.059441048662547},{\"line\":{\"color\":\"black\",\"width\":3},\"type\":\"line\",\"x0\":1.7598257059589661,\"x1\":1.6614246122141805,\"y0\":5.2782162860422,\"y1\":5.4523347076690625},{\"line\":{\"color\":\"black\",\"width\":3},\"type\":\"line\",\"x0\":1.3727558608010302,\"x1\":1.3061276844712553,\"y0\":6.572979305524166,\"y1\":6.76155471781052},{\"line\":{\"color\":\"rgba(255,255,255,0)\",\"width\":3},\"type\":\"line\",\"x0\":0.0,\"x1\":null,\"y0\":0.0,\"y1\":null},{\"line\":{\"color\":\"rgba(255,255,255,0)\",\"width\":3},\"type\":\"line\",\"x0\":0.0,\"x1\":null,\"y0\":0.0,\"y1\":null}],\"title\":{\"text\":\"\\u003cb\\u003eNumber of Agents: 8\\u003c\\u002fb\\u003e\",\"x\":0.5}},\"name\":\"125\"},{\"data\":[{\"hoverinfo\":\"name\",\"line\":{\"color\":\"grey\"},\"mode\":\"lines\",\"name\":\"Exterior\",\"showlegend\":false,\"x\":[-10.0,-10.0,10.0,10.0,-10.0],\"y\":[10.0,-10.0,-10.0,10.0,10.0],\"type\":\"scatter\"},{\"hoverinfo\":\"text\",\"marker\":{\"opacity\":1,\"size\":1},\"mode\":\"markers\",\"showlegend\":false,\"text\":[\"ID: 2.0, Pos(0.46,5.48)\"],\"x\":[0.46200690043768244],\"y\":[5.4751075191890175],\"type\":\"scatter\"},{\"hoverinfo\":\"text\",\"marker\":{\"opacity\":1,\"size\":1},\"mode\":\"markers\",\"showlegend\":false,\"text\":[\"ID: 4.0, Pos(0.31,4.36)\"],\"x\":[0.3076736681022551],\"y\":[4.358164270837633],\"type\":\"scatter\"},{\"hoverinfo\":\"text\",\"marker\":{\"opacity\":1,\"size\":1},\"mode\":\"markers\",\"showlegend\":false,\"text\":[\"ID: 5.0, Pos(0.56,6.77)\"],\"x\":[0.5635369605956339],\"y\":[6.769337672236512],\"type\":\"scatter\"},{\"hoverinfo\":\"text\",\"marker\":{\"opacity\":1,\"size\":1},\"mode\":\"markers\",\"showlegend\":false,\"text\":[\"ID: 6.0, Pos(1.30,7.61)\"],\"x\":[1.2977387010872508],\"y\":[7.610920507007292],\"type\":\"scatter\"},{\"hoverinfo\":\"text\",\"marker\":{\"opacity\":1,\"size\":1},\"mode\":\"markers\",\"showlegend\":false,\"text\":[\"ID: 7.0, Pos(-0.14,6.99)\"],\"x\":[-0.1402703075793331],\"y\":[6.989566626767826],\"type\":\"scatter\"},{\"hoverinfo\":\"text\",\"marker\":{\"opacity\":1,\"size\":1},\"mode\":\"markers\",\"showlegend\":false,\"text\":[\"ID: 8.0, Pos(2.23,6.11)\"],\"x\":[2.2258278476441213],\"y\":[6.112524945107457],\"type\":\"scatter\"},{\"hoverinfo\":\"text\",\"marker\":{\"opacity\":1,\"size\":1},\"mode\":\"markers\",\"showlegend\":false,\"text\":[\"ID: 9.0, Pos(1.67,5.44)\"],\"x\":[1.6711365381763297],\"y\":[5.437221048978329],\"type\":\"scatter\"},{\"hoverinfo\":\"text\",\"marker\":{\"opacity\":1,\"size\":1},\"mode\":\"markers\",\"showlegend\":false,\"text\":[\"ID: 10.0, Pos(1.34,6.66)\"],\"x\":[1.3384791691799647],\"y\":[6.664555954269169],\"type\":\"scatter\"},{\"hoverinfo\":\"none\",\"marker\":{\"opacity\":0,\"size\":1},\"mode\":\"markers\",\"showlegend\":false,\"x\":[0.0],\"y\":[0.0],\"type\":\"scatter\"},{\"hoverinfo\":\"none\",\"marker\":{\"opacity\":0,\"size\":1},\"mode\":\"markers\",\"showlegend\":false,\"x\":[0.0],\"y\":[0.0],\"type\":\"scatter\"}],\"layout\":{\"shapes\":[{\"fillcolor\":\"rgba(125, 255, 122, 0.5)\",\"line\":{\"color\":\"rgba(125, 255, 122, 0.5)\"},\"type\":\"circle\",\"x0\":0.26200690043768243,\"x1\":0.6620069004376825,\"xref\":\"x\",\"y0\":5.275107519189017,\"y1\":5.675107519189018,\"yref\":\"y\"},{\"fillcolor\":\"rgba(255, 222, 0, 0.5)\",\"line\":{\"color\":\"rgba(255, 222, 0, 0.5)\"},\"type\":\"circle\",\"x0\":0.1076736681022551,\"x1\":0.5076736681022551,\"xref\":\"x\",\"y0\":4.1581642708376325,\"y1\":4.558164270837633,\"yref\":\"y\"},{\"fillcolor\":\"rgba(0, 0, 196, 0.5)\",\"line\":{\"color\":\"rgba(0, 0, 196, 0.5)\"},\"type\":\"circle\",\"x0\":0.36353696059563384,\"x1\":0.7635369605956339,\"xref\":\"x\",\"y0\":6.569337672236512,\"y1\":6.969337672236512,\"yref\":\"y\"},{\"fillcolor\":\"rgba(0, 0, 146, 0.5)\",\"line\":{\"color\":\"rgba(0, 0, 146, 0.5)\"},\"type\":\"circle\",\"x0\":1.0977387010872508,\"x1\":1.4977387010872507,\"xref\":\"x\",\"y0\":7.410920507007292,\"y1\":7.8109205070072925,\"yref\":\"y\"},{\"fillcolor\":\"rgba(0, 0, 218, 0.5)\",\"line\":{\"color\":\"rgba(0, 0, 218, 0.5)\"},\"type\":\"circle\",\"x0\":-0.3402703075793331,\"x1\":0.05972969242066692,\"xref\":\"x\",\"y0\":6.789566626767826,\"y1\":7.189566626767826,\"yref\":\"y\"},{\"fillcolor\":\"rgba(0, 0, 205, 0.5)\",\"line\":{\"color\":\"rgba(0, 0, 205, 0.5)\"},\"type\":\"circle\",\"x0\":2.025827847644121,\"x1\":2.4258278476441215,\"xref\":\"x\",\"y0\":5.912524945107457,\"y1\":6.312524945107457,\"yref\":\"y\"},{\"fillcolor\":\"rgba(138, 255, 109, 0.5)\",\"line\":{\"color\":\"rgba(138, 255, 109, 0.5)\"},\"type\":\"circle\",\"x0\":1.4711365381763297,\"x1\":1.8711365381763296,\"xref\":\"x\",\"y0\":5.237221048978329,\"y1\":5.637221048978329,\"yref\":\"y\"},{\"fillcolor\":\"rgba(255, 45, 0, 0.5)\",\"line\":{\"color\":\"rgba(255, 45, 0, 0.5)\"},\"type\":\"circle\",\"x0\":1.1384791691799647,\"x1\":1.5384791691799646,\"xref\":\"x\",\"y0\":6.464555954269168,\"y1\":6.864555954269169,\"yref\":\"y\"},{\"fillcolor\":\"rgba(255,255,255,0)\",\"line\":{\"width\":0},\"type\":\"circle\",\"x0\":0.0,\"x1\":0.0,\"xref\":\"x\",\"y0\":0.0,\"y1\":0.0,\"yref\":\"y\"},{\"fillcolor\":\"rgba(255,255,255,0)\",\"line\":{\"width\":0},\"type\":\"circle\",\"x0\":0.0,\"x1\":0.0,\"xref\":\"x\",\"y0\":0.0,\"y1\":0.0,\"yref\":\"y\"},{\"line\":{\"color\":\"black\",\"width\":3},\"type\":\"line\",\"x0\":0.46200690043768244,\"x1\":0.43578477151344525,\"y0\":5.4751075191890175,\"y1\":5.673381067487021},{\"line\":{\"color\":\"black\",\"width\":3},\"type\":\"line\",\"x0\":0.3076736681022551,\"x1\":0.29421492545704175,\"y0\":4.358164270837633,\"y1\":4.557710912619473},{\"line\":{\"color\":\"white\",\"width\":3},\"type\":\"line\",\"x0\":0.5635369605956339,\"x1\":0.5279929236197607,\"y0\":6.769337672236512,\"y1\":6.966153884565318},{\"line\":{\"color\":\"white\",\"width\":3},\"type\":\"line\",\"x0\":1.2977387010872508,\"x1\":1.1654270358631247,\"y0\":7.610920507007292,\"y1\":7.760899249653105},{\"line\":{\"color\":\"white\",\"width\":3},\"type\":\"line\",\"x0\":-0.1402703075793331,\"x1\":-0.1755044513723779,\"y0\":6.989566626767826,\"y1\":7.186438552422986},{\"line\":{\"color\":\"white\",\"width\":3},\"type\":\"line\",\"x0\":2.2258278476441213,\"x1\":2.1155330337582194,\"y0\":6.112524945107457,\"y1\":6.27936335204625},{\"line\":{\"color\":\"black\",\"width\":3},\"type\":\"line\",\"x0\":1.6711365381763297,\"x1\":1.574808217239461,\"y0\":5.437221048978329,\"y1\":5.612494705257542},{\"line\":{\"color\":\"white\",\"width\":3},\"type\":\"line\",\"x0\":1.3384791691799647,\"x1\":1.2637704185110146,\"y0\":6.664555954269169,\"y1\":6.850078466578281},{\"line\":{\"color\":\"rgba(255,255,255,0)\",\"width\":3},\"type\":\"line\",\"x0\":0.0,\"x1\":null,\"y0\":0.0,\"y1\":null},{\"line\":{\"color\":\"rgba(255,255,255,0)\",\"width\":3},\"type\":\"line\",\"x0\":0.0,\"x1\":null,\"y0\":0.0,\"y1\":null}],\"title\":{\"text\":\"\\u003cb\\u003eNumber of Agents: 8\\u003c\\u002fb\\u003e\",\"x\":0.5}},\"name\":\"130\"},{\"data\":[{\"hoverinfo\":\"name\",\"line\":{\"color\":\"grey\"},\"mode\":\"lines\",\"name\":\"Exterior\",\"showlegend\":false,\"x\":[-10.0,-10.0,10.0,10.0,-10.0],\"y\":[10.0,-10.0,-10.0,10.0,10.0],\"type\":\"scatter\"},{\"hoverinfo\":\"text\",\"marker\":{\"opacity\":1,\"size\":1},\"mode\":\"markers\",\"showlegend\":false,\"text\":[\"ID: 2.0, Pos(0.44,5.66)\"],\"x\":[0.4372949952892532],\"y\":[5.660466468644982],\"type\":\"scatter\"},{\"hoverinfo\":\"text\",\"marker\":{\"opacity\":1,\"size\":1},\"mode\":\"markers\",\"showlegend\":false,\"text\":[\"ID: 4.0, Pos(0.30,4.51)\"],\"x\":[0.2977026978285492],\"y\":[4.506514210761155],\"type\":\"scatter\"},{\"hoverinfo\":\"text\",\"marker\":{\"opacity\":1,\"size\":1},\"mode\":\"markers\",\"showlegend\":false,\"text\":[\"ID: 5.0, Pos(0.52,7.03)\"],\"x\":[0.5217913462948667],\"y\":[7.031342535249048],\"type\":\"scatter\"},{\"hoverinfo\":\"text\",\"marker\":{\"opacity\":1,\"size\":1},\"mode\":\"markers\",\"showlegend\":false,\"text\":[\"ID: 6.0, Pos(1.12,7.81)\"],\"x\":[1.1158348783004393],\"y\":[7.814895072557967],\"type\":\"scatter\"},{\"hoverinfo\":\"text\",\"marker\":{\"opacity\":1,\"size\":1},\"mode\":\"markers\",\"showlegend\":false,\"text\":[\"ID: 7.0, Pos(-0.18,7.25)\"],\"x\":[-0.18269689030684094],\"y\":[7.247170961489635],\"type\":\"scatter\"},{\"hoverinfo\":\"text\",\"marker\":{\"opacity\":1,\"size\":1},\"mode\":\"markers\",\"showlegend\":false,\"text\":[\"ID: 8.0, Pos(2.08,6.33)\"],\"x\":[2.0797583302224987],\"y\":[6.332472208591619],\"type\":\"scatter\"},{\"hoverinfo\":\"text\",\"marker\":{\"opacity\":1,\"size\":1},\"mode\":\"markers\",\"showlegend\":false,\"text\":[\"ID: 9.0, Pos(1.59,5.59)\"],\"x\":[1.5908327249768996],\"y\":[5.586402621918538],\"type\":\"scatter\"},{\"hoverinfo\":\"text\",\"marker\":{\"opacity\":1,\"size\":1},\"mode\":\"markers\",\"showlegend\":false,\"text\":[\"ID: 10.0, Pos(1.29,6.77)\"],\"x\":[1.2894255383596158],\"y\":[6.773805073013675],\"type\":\"scatter\"},{\"hoverinfo\":\"none\",\"marker\":{\"opacity\":0,\"size\":1},\"mode\":\"markers\",\"showlegend\":false,\"x\":[0.0],\"y\":[0.0],\"type\":\"scatter\"},{\"hoverinfo\":\"none\",\"marker\":{\"opacity\":0,\"size\":1},\"mode\":\"markers\",\"showlegend\":false,\"x\":[0.0],\"y\":[0.0],\"type\":\"scatter\"}],\"layout\":{\"shapes\":[{\"fillcolor\":\"rgba(64, 255, 183, 0.5)\",\"line\":{\"color\":\"rgba(64, 255, 183, 0.5)\"},\"type\":\"circle\",\"x0\":0.23729499528925319,\"x1\":0.6372949952892533,\"xref\":\"x\",\"y0\":5.460466468644982,\"y1\":5.860466468644982,\"yref\":\"y\"},{\"fillcolor\":\"rgba(238, 255, 9, 0.5)\",\"line\":{\"color\":\"rgba(238, 255, 9, 0.5)\"},\"type\":\"circle\",\"x0\":0.09770269782854918,\"x1\":0.4977026978285492,\"xref\":\"x\",\"y0\":4.306514210761155,\"y1\":4.7065142107611555,\"yref\":\"y\"},{\"fillcolor\":\"rgba(0, 0, 196, 0.5)\",\"line\":{\"color\":\"rgba(0, 0, 196, 0.5)\"},\"type\":\"circle\",\"x0\":0.32179134629486666,\"x1\":0.7217913462948666,\"xref\":\"x\",\"y0\":6.831342535249048,\"y1\":7.231342535249048,\"yref\":\"y\"},{\"fillcolor\":\"rgba(0, 0, 146, 0.5)\",\"line\":{\"color\":\"rgba(0, 0, 146, 0.5)\"},\"type\":\"circle\",\"x0\":0.9158348783004393,\"x1\":1.3158348783004392,\"xref\":\"x\",\"y0\":7.6148950725579665,\"y1\":8.014895072557966,\"yref\":\"y\"},{\"fillcolor\":\"rgba(0, 0, 218, 0.5)\",\"line\":{\"color\":\"rgba(0, 0, 218, 0.5)\"},\"type\":\"circle\",\"x0\":-0.38269689030684095,\"x1\":0.01730310969315907,\"xref\":\"x\",\"y0\":7.047170961489635,\"y1\":7.447170961489635,\"yref\":\"y\"},{\"fillcolor\":\"rgba(0, 0, 205, 0.5)\",\"line\":{\"color\":\"rgba(0, 0, 205, 0.5)\"},\"type\":\"circle\",\"x0\":1.8797583302224987,\"x1\":2.279758330222499,\"xref\":\"x\",\"y0\":6.132472208591619,\"y1\":6.532472208591619,\"yref\":\"y\"},{\"fillcolor\":\"rgba(180, 255, 67, 0.5)\",\"line\":{\"color\":\"rgba(180, 255, 67, 0.5)\"},\"type\":\"circle\",\"x0\":1.3908327249768997,\"x1\":1.7908327249768996,\"xref\":\"x\",\"y0\":5.3864026219185375,\"y1\":5.786402621918538,\"yref\":\"y\"},{\"fillcolor\":\"rgba(255, 159, 0, 0.5)\",\"line\":{\"color\":\"rgba(255, 159, 0, 0.5)\"},\"type\":\"circle\",\"x0\":1.0894255383596159,\"x1\":1.4894255383596158,\"xref\":\"x\",\"y0\":6.573805073013675,\"y1\":6.973805073013676,\"yref\":\"y\"},{\"fillcolor\":\"rgba(255,255,255,0)\",\"line\":{\"width\":0},\"type\":\"circle\",\"x0\":0.0,\"x1\":0.0,\"xref\":\"x\",\"y0\":0.0,\"y1\":0.0,\"yref\":\"y\"},{\"fillcolor\":\"rgba(255,255,255,0)\",\"line\":{\"width\":0},\"type\":\"circle\",\"x0\":0.0,\"x1\":0.0,\"xref\":\"x\",\"y0\":0.0,\"y1\":0.0,\"yref\":\"y\"},{\"line\":{\"color\":\"black\",\"width\":3},\"type\":\"line\",\"x0\":0.4372949952892532,\"x1\":0.4106655646342429,\"y0\":5.660466468644982,\"y1\":5.858685724578884},{\"line\":{\"color\":\"black\",\"width\":3},\"type\":\"line\",\"x0\":0.2977026978285492,\"x1\":0.28432890696477253,\"y0\":4.506514210761155,\"y1\":4.7060665640871235},{\"line\":{\"color\":\"white\",\"width\":3},\"type\":\"line\",\"x0\":0.5217913462948667,\"x1\":0.4927614933535754,\"y0\":7.031342535249048,\"y1\":7.229224489045262},{\"line\":{\"color\":\"white\",\"width\":3},\"type\":\"line\",\"x0\":1.1158348783004393,\"x1\":0.9829367929664267,\"y0\":7.814895072557967,\"y1\":7.964354427951175},{\"line\":{\"color\":\"white\",\"width\":3},\"type\":\"line\",\"x0\":-0.18269689030684094,\"x1\":-0.212472082787304,\"y0\":7.247170961489635,\"y1\":7.444942137126408},{\"line\":{\"color\":\"white\",\"width\":3},\"type\":\"line\",\"x0\":2.0797583302224987,\"x1\":1.969234022566558,\"y0\":6.332472208591619,\"y1\":6.499158673000625},{\"line\":{\"color\":\"black\",\"width\":3},\"type\":\"line\",\"x0\":1.5908327249768996,\"x1\":1.4975798801923697,\"y0\":5.586402621918538,\"y1\":5.7633317233676555},{\"line\":{\"color\":\"black\",\"width\":3},\"type\":\"line\",\"x0\":1.2894255383596158,\"x1\":1.2009777168030684,\"y0\":6.773805073013675,\"y1\":6.953184511249782},{\"line\":{\"color\":\"rgba(255,255,255,0)\",\"width\":3},\"type\":\"line\",\"x0\":0.0,\"x1\":null,\"y0\":0.0,\"y1\":null},{\"line\":{\"color\":\"rgba(255,255,255,0)\",\"width\":3},\"type\":\"line\",\"x0\":0.0,\"x1\":null,\"y0\":0.0,\"y1\":null}],\"title\":{\"text\":\"\\u003cb\\u003eNumber of Agents: 8\\u003c\\u002fb\\u003e\",\"x\":0.5}},\"name\":\"135\"},{\"data\":[{\"hoverinfo\":\"name\",\"line\":{\"color\":\"grey\"},\"mode\":\"lines\",\"name\":\"Exterior\",\"showlegend\":false,\"x\":[-10.0,-10.0,10.0,10.0,-10.0],\"y\":[10.0,-10.0,-10.0,10.0,10.0],\"type\":\"scatter\"},{\"hoverinfo\":\"text\",\"marker\":{\"opacity\":1,\"size\":1},\"mode\":\"markers\",\"showlegend\":false,\"text\":[\"ID: 2.0, Pos(0.41,5.86)\"],\"x\":[0.4102964038544285],\"y\":[5.8595085390037775],\"type\":\"scatter\"},{\"hoverinfo\":\"text\",\"marker\":{\"opacity\":1,\"size\":1},\"mode\":\"markers\",\"showlegend\":false,\"text\":[\"ID: 4.0, Pos(0.29,4.66)\"],\"x\":[0.28727856333716334],\"y\":[4.662459427561695],\"type\":\"scatter\"},{\"hoverinfo\":\"text\",\"marker\":{\"opacity\":1,\"size\":1},\"mode\":\"markers\",\"showlegend\":false,\"text\":[\"ID: 5.0, Pos(0.48,7.29)\"],\"x\":[0.48425729674977314],\"y\":[7.293979522621383],\"type\":\"scatter\"},{\"hoverinfo\":\"text\",\"marker\":{\"opacity\":1,\"size\":1},\"mode\":\"markers\",\"showlegend\":false,\"text\":[\"ID: 7.0, Pos(-0.22,7.51)\"],\"x\":[-0.21781173889192013],\"y\":[7.505874589306941],\"type\":\"scatter\"},{\"hoverinfo\":\"text\",\"marker\":{\"opacity\":1,\"size\":1},\"mode\":\"markers\",\"showlegend\":false,\"text\":[\"ID: 8.0, Pos(1.94,6.55)\"],\"x\":[1.9367116061187568],\"y\":[6.554381338113826],\"type\":\"scatter\"},{\"hoverinfo\":\"text\",\"marker\":{\"opacity\":1,\"size\":1},\"mode\":\"markers\",\"showlegend\":false,\"text\":[\"ID: 9.0, Pos(1.52,5.73)\"],\"x\":[1.5165577545174018],\"y\":[5.731013706129093],\"type\":\"scatter\"},{\"hoverinfo\":\"text\",\"marker\":{\"opacity\":1,\"size\":1},\"mode\":\"markers\",\"showlegend\":false,\"text\":[\"ID: 10.0, Pos(1.22,6.90)\"],\"x\":[1.2180279852531257],\"y\":[6.9016863892616165],\"type\":\"scatter\"},{\"hoverinfo\":\"none\",\"marker\":{\"opacity\":0,\"size\":1},\"mode\":\"markers\",\"showlegend\":false,\"x\":[0.0],\"y\":[0.0],\"type\":\"scatter\"},{\"hoverinfo\":\"none\",\"marker\":{\"opacity\":0,\"size\":1},\"mode\":\"markers\",\"showlegend\":false,\"x\":[0.0],\"y\":[0.0],\"type\":\"scatter\"},{\"hoverinfo\":\"none\",\"marker\":{\"opacity\":0,\"size\":1},\"mode\":\"markers\",\"showlegend\":false,\"x\":[0.0],\"y\":[0.0],\"type\":\"scatter\"}],\"layout\":{\"shapes\":[{\"fillcolor\":\"rgba(9, 240, 238, 0.5)\",\"line\":{\"color\":\"rgba(9, 240, 238, 0.5)\"},\"type\":\"circle\",\"x0\":0.2102964038544285,\"x1\":0.6102964038544285,\"xref\":\"x\",\"y0\":5.659508539003777,\"y1\":6.059508539003778,\"yref\":\"y\"},{\"fillcolor\":\"rgba(202, 255, 44, 0.5)\",\"line\":{\"color\":\"rgba(202, 255, 44, 0.5)\"},\"type\":\"circle\",\"x0\":0.08727856333716333,\"x1\":0.48727856333716335,\"xref\":\"x\",\"y0\":4.4624594275616944,\"y1\":4.862459427561695,\"yref\":\"y\"},{\"fillcolor\":\"rgba(0, 0, 196, 0.5)\",\"line\":{\"color\":\"rgba(0, 0, 196, 0.5)\"},\"type\":\"circle\",\"x0\":0.2842572967497731,\"x1\":0.6842572967497731,\"xref\":\"x\",\"y0\":7.093979522621383,\"y1\":7.493979522621383,\"yref\":\"y\"},{\"fillcolor\":\"rgba(0, 0, 218, 0.5)\",\"line\":{\"color\":\"rgba(0, 0, 218, 0.5)\"},\"type\":\"circle\",\"x0\":-0.41781173889192014,\"x1\":-0.017811738891920115,\"xref\":\"x\",\"y0\":7.305874589306941,\"y1\":7.705874589306942,\"yref\":\"y\"},{\"fillcolor\":\"rgba(0, 0, 205, 0.5)\",\"line\":{\"color\":\"rgba(0, 0, 205, 0.5)\"},\"type\":\"circle\",\"x0\":1.7367116061187569,\"x1\":2.136711606118757,\"xref\":\"x\",\"y0\":6.354381338113826,\"y1\":6.754381338113826,\"yref\":\"y\"},{\"fillcolor\":\"rgba(199, 255, 48, 0.5)\",\"line\":{\"color\":\"rgba(199, 255, 48, 0.5)\"},\"type\":\"circle\",\"x0\":1.3165577545174019,\"x1\":1.7165577545174018,\"xref\":\"x\",\"y0\":5.531013706129093,\"y1\":5.931013706129093,\"yref\":\"y\"},{\"fillcolor\":\"rgba(255, 189, 0, 0.5)\",\"line\":{\"color\":\"rgba(255, 189, 0, 0.5)\"},\"type\":\"circle\",\"x0\":1.0180279852531258,\"x1\":1.4180279852531257,\"xref\":\"x\",\"y0\":6.701686389261616,\"y1\":7.101686389261617,\"yref\":\"y\"},{\"fillcolor\":\"rgba(255,255,255,0)\",\"line\":{\"width\":0},\"type\":\"circle\",\"x0\":0.0,\"x1\":0.0,\"xref\":\"x\",\"y0\":0.0,\"y1\":0.0,\"yref\":\"y\"},{\"fillcolor\":\"rgba(255,255,255,0)\",\"line\":{\"width\":0},\"type\":\"circle\",\"x0\":0.0,\"x1\":0.0,\"xref\":\"x\",\"y0\":0.0,\"y1\":0.0,\"yref\":\"y\"},{\"fillcolor\":\"rgba(255,255,255,0)\",\"line\":{\"width\":0},\"type\":\"circle\",\"x0\":0.0,\"x1\":0.0,\"xref\":\"x\",\"y0\":0.0,\"y1\":0.0,\"yref\":\"y\"},{\"line\":{\"color\":\"black\",\"width\":3},\"type\":\"line\",\"x0\":0.4102964038544285,\"x1\":0.38318114150018645,\"y0\":5.8595085390037775,\"y1\":6.057661920371497},{\"line\":{\"color\":\"black\",\"width\":3},\"type\":\"line\",\"x0\":0.28727856333716334,\"x1\":0.27396601303911033,\"y0\":4.662459427561695,\"y1\":4.862015875727526},{\"line\":{\"color\":\"white\",\"width\":3},\"type\":\"line\",\"x0\":0.48425729674977314,\"x1\":0.46527467837848535,\"y0\":7.293979522621383,\"y1\":7.493076635106145},{\"line\":{\"color\":\"white\",\"width\":3},\"type\":\"line\",\"x0\":-0.21781173889192013,\"x1\":-0.2422152100635814,\"y0\":7.505874589306941,\"y1\":7.704380182665854},{\"line\":{\"color\":\"white\",\"width\":3},\"type\":\"line\",\"x0\":1.9367116061187568,\"x1\":1.8318605080997903,\"y0\":6.554381338113826,\"y1\":6.724693543325952},{\"line\":{\"color\":\"black\",\"width\":3},\"type\":\"line\",\"x0\":1.5165577545174018,\"x1\":1.4269428212230133,\"y0\":5.731013706129093,\"y1\":5.9098129335621055},{\"line\":{\"color\":\"black\",\"width\":3},\"type\":\"line\",\"x0\":1.2180279852531257,\"x1\":1.113036199652982,\"y0\":6.9016863892616165,\"y1\":7.071911901322804},{\"line\":{\"color\":\"rgba(255,255,255,0)\",\"width\":3},\"type\":\"line\",\"x0\":0.0,\"x1\":null,\"y0\":0.0,\"y1\":null},{\"line\":{\"color\":\"rgba(255,255,255,0)\",\"width\":3},\"type\":\"line\",\"x0\":0.0,\"x1\":null,\"y0\":0.0,\"y1\":null},{\"line\":{\"color\":\"rgba(255,255,255,0)\",\"width\":3},\"type\":\"line\",\"x0\":0.0,\"x1\":null,\"y0\":0.0,\"y1\":null}],\"title\":{\"text\":\"\\u003cb\\u003eNumber of Agents: 7\\u003c\\u002fb\\u003e\",\"x\":0.5}},\"name\":\"140\"},{\"data\":[{\"hoverinfo\":\"name\",\"line\":{\"color\":\"grey\"},\"mode\":\"lines\",\"name\":\"Exterior\",\"showlegend\":false,\"x\":[-10.0,-10.0,10.0,10.0,-10.0],\"y\":[10.0,-10.0,-10.0,10.0,10.0],\"type\":\"scatter\"},{\"hoverinfo\":\"text\",\"marker\":{\"opacity\":1,\"size\":1},\"mode\":\"markers\",\"showlegend\":false,\"text\":[\"ID: 2.0, Pos(0.38,6.07)\"],\"x\":[0.3811802619450888],\"y\":[6.070008590836686],\"type\":\"scatter\"},{\"hoverinfo\":\"text\",\"marker\":{\"opacity\":1,\"size\":1},\"mode\":\"markers\",\"showlegend\":false,\"text\":[\"ID: 4.0, Pos(0.28,4.83)\"],\"x\":[0.27632448884880395],\"y\":[4.826926509959442],\"type\":\"scatter\"},{\"hoverinfo\":\"text\",\"marker\":{\"opacity\":1,\"size\":1},\"mode\":\"markers\",\"showlegend\":false,\"text\":[\"ID: 5.0, Pos(0.46,7.56)\"],\"x\":[0.4572058245225677],\"y\":[7.55789927131705],\"type\":\"scatter\"},{\"hoverinfo\":\"text\",\"marker\":{\"opacity\":1,\"size\":1},\"mode\":\"markers\",\"showlegend\":false,\"text\":[\"ID: 7.0, Pos(-0.24,7.77)\"],\"x\":[-0.24419752056497418],\"y\":[7.765604607972309],\"type\":\"scatter\"},{\"hoverinfo\":\"text\",\"marker\":{\"opacity\":1,\"size\":1},\"mode\":\"markers\",\"showlegend\":false,\"text\":[\"ID: 8.0, Pos(1.81,6.79)\"],\"x\":[1.8098640505582528],\"y\":[6.785450068619238],\"type\":\"scatter\"},{\"hoverinfo\":\"text\",\"marker\":{\"opacity\":1,\"size\":1},\"mode\":\"markers\",\"showlegend\":false,\"text\":[\"ID: 9.0, Pos(1.45,5.88)\"],\"x\":[1.4457147193604771],\"y\":[5.875930243348638],\"type\":\"scatter\"},{\"hoverinfo\":\"text\",\"marker\":{\"opacity\":1,\"size\":1},\"mode\":\"markers\",\"showlegend\":false,\"text\":[\"ID: 10.0, Pos(1.15,7.01)\"],\"x\":[1.1454213069795134],\"y\":[7.011150167759308],\"type\":\"scatter\"},{\"hoverinfo\":\"none\",\"marker\":{\"opacity\":0,\"size\":1},\"mode\":\"markers\",\"showlegend\":false,\"x\":[0.0],\"y\":[0.0],\"type\":\"scatter\"},{\"hoverinfo\":\"none\",\"marker\":{\"opacity\":0,\"size\":1},\"mode\":\"markers\",\"showlegend\":false,\"x\":[0.0],\"y\":[0.0],\"type\":\"scatter\"},{\"hoverinfo\":\"none\",\"marker\":{\"opacity\":0,\"size\":1},\"mode\":\"markers\",\"showlegend\":false,\"x\":[0.0],\"y\":[0.0],\"type\":\"scatter\"}],\"layout\":{\"shapes\":[{\"fillcolor\":\"rgba(0, 184, 255, 0.5)\",\"line\":{\"color\":\"rgba(0, 184, 255, 0.5)\"},\"type\":\"circle\",\"x0\":0.1811802619450888,\"x1\":0.5811802619450888,\"xref\":\"x\",\"y0\":5.870008590836686,\"y1\":6.270008590836686,\"yref\":\"y\"},{\"fillcolor\":\"rgba(167, 255, 80, 0.5)\",\"line\":{\"color\":\"rgba(167, 255, 80, 0.5)\"},\"type\":\"circle\",\"x0\":0.07632448884880394,\"x1\":0.47632448884880396,\"xref\":\"x\",\"y0\":4.626926509959442,\"y1\":5.026926509959442,\"yref\":\"y\"},{\"fillcolor\":\"rgba(0, 0, 196, 0.5)\",\"line\":{\"color\":\"rgba(0, 0, 196, 0.5)\"},\"type\":\"circle\",\"x0\":0.2572058245225677,\"x1\":0.6572058245225677,\"xref\":\"x\",\"y0\":7.3578992713170495,\"y1\":7.75789927131705,\"yref\":\"y\"},{\"fillcolor\":\"rgba(0, 0, 218, 0.5)\",\"line\":{\"color\":\"rgba(0, 0, 218, 0.5)\"},\"type\":\"circle\",\"x0\":-0.4441975205649742,\"x1\":-0.04419752056497417,\"xref\":\"x\",\"y0\":7.5656046079723085,\"y1\":7.965604607972309,\"yref\":\"y\"},{\"fillcolor\":\"rgba(0, 0, 218, 0.5)\",\"line\":{\"color\":\"rgba(0, 0, 218, 0.5)\"},\"type\":\"circle\",\"x0\":1.6098640505582529,\"x1\":2.009864050558253,\"xref\":\"x\",\"y0\":6.585450068619238,\"y1\":6.9854500686192385,\"yref\":\"y\"},{\"fillcolor\":\"rgba(225, 255, 22, 0.5)\",\"line\":{\"color\":\"rgba(225, 255, 22, 0.5)\"},\"type\":\"circle\",\"x0\":1.2457147193604772,\"x1\":1.645714719360477,\"xref\":\"x\",\"y0\":5.675930243348637,\"y1\":6.075930243348638,\"yref\":\"y\"},{\"fillcolor\":\"rgba(255, 85, 0, 0.5)\",\"line\":{\"color\":\"rgba(255, 85, 0, 0.5)\"},\"type\":\"circle\",\"x0\":0.9454213069795134,\"x1\":1.3454213069795133,\"xref\":\"x\",\"y0\":6.811150167759308,\"y1\":7.211150167759309,\"yref\":\"y\"},{\"fillcolor\":\"rgba(255,255,255,0)\",\"line\":{\"width\":0},\"type\":\"circle\",\"x0\":0.0,\"x1\":0.0,\"xref\":\"x\",\"y0\":0.0,\"y1\":0.0,\"yref\":\"y\"},{\"fillcolor\":\"rgba(255,255,255,0)\",\"line\":{\"width\":0},\"type\":\"circle\",\"x0\":0.0,\"x1\":0.0,\"xref\":\"x\",\"y0\":0.0,\"y1\":0.0,\"yref\":\"y\"},{\"fillcolor\":\"rgba(255,255,255,0)\",\"line\":{\"width\":0},\"type\":\"circle\",\"x0\":0.0,\"x1\":0.0,\"xref\":\"x\",\"y0\":0.0,\"y1\":0.0,\"yref\":\"y\"},{\"line\":{\"color\":\"black\",\"width\":3},\"type\":\"line\",\"x0\":0.3811802619450888,\"x1\":0.3534850893713346,\"y0\":6.070008590836686,\"y1\":6.268081752613111},{\"line\":{\"color\":\"black\",\"width\":3},\"type\":\"line\",\"x0\":0.27632448884880395,\"x1\":0.2630486602666493,\"y0\":4.826926509959442,\"y1\":5.026485404462938},{\"line\":{\"color\":\"white\",\"width\":3},\"type\":\"line\",\"x0\":0.4572058245225677,\"x1\":0.4404344664260809,\"y0\":7.55789927131705,\"y1\":7.757194834608357},{\"line\":{\"color\":\"white\",\"width\":3},\"type\":\"line\",\"x0\":-0.24419752056497418,\"x1\":-0.26051617742294325,\"y0\":7.765604607972309,\"y1\":7.964937749818696},{\"line\":{\"color\":\"white\",\"width\":3},\"type\":\"line\",\"x0\":1.8098640505582528,\"x1\":1.7357109302980969,\"y0\":6.785450068619238,\"y1\":6.9711953639989135},{\"line\":{\"color\":\"black\",\"width\":3},\"type\":\"line\",\"x0\":1.4457147193604771,\"x1\":1.3594943162211746,\"y0\":5.875930243348638,\"y1\":6.056390881944693},{\"line\":{\"color\":\"white\",\"width\":3},\"type\":\"line\",\"x0\":1.1454213069795134,\"x1\":1.017116523728309,\"y0\":7.011150167759308,\"y1\":7.164570774572283},{\"line\":{\"color\":\"rgba(255,255,255,0)\",\"width\":3},\"type\":\"line\",\"x0\":0.0,\"x1\":null,\"y0\":0.0,\"y1\":null},{\"line\":{\"color\":\"rgba(255,255,255,0)\",\"width\":3},\"type\":\"line\",\"x0\":0.0,\"x1\":null,\"y0\":0.0,\"y1\":null},{\"line\":{\"color\":\"rgba(255,255,255,0)\",\"width\":3},\"type\":\"line\",\"x0\":0.0,\"x1\":null,\"y0\":0.0,\"y1\":null}],\"title\":{\"text\":\"\\u003cb\\u003eNumber of Agents: 7\\u003c\\u002fb\\u003e\",\"x\":0.5}},\"name\":\"145\"},{\"data\":[{\"hoverinfo\":\"name\",\"line\":{\"color\":\"grey\"},\"mode\":\"lines\",\"name\":\"Exterior\",\"showlegend\":false,\"x\":[-10.0,-10.0,10.0,10.0,-10.0],\"y\":[10.0,-10.0,-10.0,10.0,10.0],\"type\":\"scatter\"},{\"hoverinfo\":\"text\",\"marker\":{\"opacity\":1,\"size\":1},\"mode\":\"markers\",\"showlegend\":false,\"text\":[\"ID: 2.0, Pos(0.35,6.29)\"],\"x\":[0.34987134520527124],\"y\":[6.2901611685555014],\"type\":\"scatter\"},{\"hoverinfo\":\"text\",\"marker\":{\"opacity\":1,\"size\":1},\"mode\":\"markers\",\"showlegend\":false,\"text\":[\"ID: 4.0, Pos(0.26,5.00)\"],\"x\":[0.2647974335811343],\"y\":[5.000330548794338],\"type\":\"scatter\"},{\"hoverinfo\":\"text\",\"marker\":{\"opacity\":1,\"size\":1},\"mode\":\"markers\",\"showlegend\":false,\"text\":[\"ID: 5.0, Pos(0.43,7.82)\"],\"x\":[0.4328281193495393],\"y\":[7.821591894393861],\"type\":\"scatter\"},{\"hoverinfo\":\"text\",\"marker\":{\"opacity\":1,\"size\":1},\"mode\":\"markers\",\"showlegend\":false,\"text\":[\"ID: 8.0, Pos(1.75,7.04)\"],\"x\":[1.7466441672366826],\"y\":[7.041437782491246],\"type\":\"scatter\"},{\"hoverinfo\":\"text\",\"marker\":{\"opacity\":1,\"size\":1},\"mode\":\"markers\",\"showlegend\":false,\"text\":[\"ID: 9.0, Pos(1.38,6.01)\"],\"x\":[1.3824937272843054],\"y\":[6.011044840921051],\"type\":\"scatter\"},{\"hoverinfo\":\"text\",\"marker\":{\"opacity\":1,\"size\":1},\"mode\":\"markers\",\"showlegend\":false,\"text\":[\"ID: 10.0, Pos(1.07,7.09)\"],\"x\":[1.0718597918394321],\"y\":[7.08532025826066],\"type\":\"scatter\"},{\"hoverinfo\":\"none\",\"marker\":{\"opacity\":0,\"size\":1},\"mode\":\"markers\",\"showlegend\":false,\"x\":[0.0],\"y\":[0.0],\"type\":\"scatter\"},{\"hoverinfo\":\"none\",\"marker\":{\"opacity\":0,\"size\":1},\"mode\":\"markers\",\"showlegend\":false,\"x\":[0.0],\"y\":[0.0],\"type\":\"scatter\"},{\"hoverinfo\":\"none\",\"marker\":{\"opacity\":0,\"size\":1},\"mode\":\"markers\",\"showlegend\":false,\"x\":[0.0],\"y\":[0.0],\"type\":\"scatter\"},{\"hoverinfo\":\"none\",\"marker\":{\"opacity\":0,\"size\":1},\"mode\":\"markers\",\"showlegend\":false,\"x\":[0.0],\"y\":[0.0],\"type\":\"scatter\"}],\"layout\":{\"shapes\":[{\"fillcolor\":\"rgba(0, 125, 255, 0.5)\",\"line\":{\"color\":\"rgba(0, 125, 255, 0.5)\"},\"type\":\"circle\",\"x0\":0.14987134520527123,\"x1\":0.5498713452052713,\"xref\":\"x\",\"y0\":6.090161168555501,\"y1\":6.490161168555502,\"yref\":\"y\"},{\"fillcolor\":\"rgba(128, 255, 119, 0.5)\",\"line\":{\"color\":\"rgba(128, 255, 119, 0.5)\"},\"type\":\"circle\",\"x0\":0.06479743358113427,\"x1\":0.4647974335811343,\"xref\":\"x\",\"y0\":4.800330548794338,\"y1\":5.200330548794338,\"yref\":\"y\"},{\"fillcolor\":\"rgba(0, 0, 200, 0.5)\",\"line\":{\"color\":\"rgba(0, 0, 200, 0.5)\"},\"type\":\"circle\",\"x0\":0.2328281193495393,\"x1\":0.6328281193495393,\"xref\":\"x\",\"y0\":7.621591894393861,\"y1\":8.021591894393861,\"yref\":\"y\"},{\"fillcolor\":\"rgba(0, 0, 205, 0.5)\",\"line\":{\"color\":\"rgba(0, 0, 205, 0.5)\"},\"type\":\"circle\",\"x0\":1.5466441672366826,\"x1\":1.9466441672366825,\"xref\":\"x\",\"y0\":6.841437782491246,\"y1\":7.241437782491246,\"yref\":\"y\"},{\"fillcolor\":\"rgba(255, 219, 0, 0.5)\",\"line\":{\"color\":\"rgba(255, 219, 0, 0.5)\"},\"type\":\"circle\",\"x0\":1.1824937272843055,\"x1\":1.5824937272843054,\"xref\":\"x\",\"y0\":5.811044840921051,\"y1\":6.211044840921051,\"yref\":\"y\"},{\"fillcolor\":\"rgba(255, 137, 0, 0.5)\",\"line\":{\"color\":\"rgba(255, 137, 0, 0.5)\"},\"type\":\"circle\",\"x0\":0.8718597918394322,\"x1\":1.271859791839432,\"xref\":\"x\",\"y0\":6.88532025826066,\"y1\":7.28532025826066,\"yref\":\"y\"},{\"fillcolor\":\"rgba(255,255,255,0)\",\"line\":{\"width\":0},\"type\":\"circle\",\"x0\":0.0,\"x1\":0.0,\"xref\":\"x\",\"y0\":0.0,\"y1\":0.0,\"yref\":\"y\"},{\"fillcolor\":\"rgba(255,255,255,0)\",\"line\":{\"width\":0},\"type\":\"circle\",\"x0\":0.0,\"x1\":0.0,\"xref\":\"x\",\"y0\":0.0,\"y1\":0.0,\"yref\":\"y\"},{\"fillcolor\":\"rgba(255,255,255,0)\",\"line\":{\"width\":0},\"type\":\"circle\",\"x0\":0.0,\"x1\":0.0,\"xref\":\"x\",\"y0\":0.0,\"y1\":0.0,\"yref\":\"y\"},{\"fillcolor\":\"rgba(255,255,255,0)\",\"line\":{\"width\":0},\"type\":\"circle\",\"x0\":0.0,\"x1\":0.0,\"xref\":\"x\",\"y0\":0.0,\"y1\":0.0,\"yref\":\"y\"},{\"line\":{\"color\":\"white\",\"width\":3},\"type\":\"line\",\"x0\":0.34987134520527124,\"x1\":0.3211385386798806,\"y0\":6.2901611685555014,\"y1\":6.488086472216187},{\"line\":{\"color\":\"black\",\"width\":3},\"type\":\"line\",\"x0\":0.2647974335811343,\"x1\":0.25153761135463976,\"y0\":5.000330548794338,\"y1\":5.199890507489768},{\"line\":{\"color\":\"white\",\"width\":3},\"type\":\"line\",\"x0\":0.4328281193495393,\"x1\":0.36205565537254814,\"y0\":7.821591894393861,\"y1\":8.008651399211514},{\"line\":{\"color\":\"white\",\"width\":3},\"type\":\"line\",\"x0\":1.7466441672366826,\"x1\":1.7047697254126062,\"y0\":7.041437782491246,\"y1\":7.237004986086128},{\"line\":{\"color\":\"black\",\"width\":3},\"type\":\"line\",\"x0\":1.3824937272843054,\"x1\":1.2987136870306992,\"y0\":6.011044840921051,\"y1\":6.192651296905149},{\"line\":{\"color\":\"black\",\"width\":3},\"type\":\"line\",\"x0\":1.0718597918394321,\"x1\":0.925225382800736,\"y0\":7.08532025826066,\"y1\":7.221328898007819},{\"line\":{\"color\":\"rgba(255,255,255,0)\",\"width\":3},\"type\":\"line\",\"x0\":0.0,\"x1\":null,\"y0\":0.0,\"y1\":null},{\"line\":{\"color\":\"rgba(255,255,255,0)\",\"width\":3},\"type\":\"line\",\"x0\":0.0,\"x1\":null,\"y0\":0.0,\"y1\":null},{\"line\":{\"color\":\"rgba(255,255,255,0)\",\"width\":3},\"type\":\"line\",\"x0\":0.0,\"x1\":null,\"y0\":0.0,\"y1\":null},{\"line\":{\"color\":\"rgba(255,255,255,0)\",\"width\":3},\"type\":\"line\",\"x0\":0.0,\"x1\":null,\"y0\":0.0,\"y1\":null}],\"title\":{\"text\":\"\\u003cb\\u003eNumber of Agents: 6\\u003c\\u002fb\\u003e\",\"x\":0.5}},\"name\":\"150\"},{\"data\":[{\"hoverinfo\":\"name\",\"line\":{\"color\":\"grey\"},\"mode\":\"lines\",\"name\":\"Exterior\",\"showlegend\":false,\"x\":[-10.0,-10.0,10.0,10.0,-10.0],\"y\":[10.0,-10.0,-10.0,10.0,10.0],\"type\":\"scatter\"},{\"hoverinfo\":\"text\",\"marker\":{\"opacity\":1,\"size\":1},\"mode\":\"markers\",\"showlegend\":false,\"text\":[\"ID: 2.0, Pos(0.31,6.52)\"],\"x\":[0.3142167029016448],\"y\":[6.522293655292193],\"type\":\"scatter\"},{\"hoverinfo\":\"text\",\"marker\":{\"opacity\":1,\"size\":1},\"mode\":\"markers\",\"showlegend\":false,\"text\":[\"ID: 4.0, Pos(0.25,5.18)\"],\"x\":[0.2526819863856846],\"y\":[5.182661107806841],\"type\":\"scatter\"},{\"hoverinfo\":\"text\",\"marker\":{\"opacity\":1,\"size\":1},\"mode\":\"markers\",\"showlegend\":false,\"text\":[\"ID: 8.0, Pos(1.67,7.29)\"],\"x\":[1.6694382877061633],\"y\":[7.293490892526279],\"type\":\"scatter\"},{\"hoverinfo\":\"text\",\"marker\":{\"opacity\":1,\"size\":1},\"mode\":\"markers\",\"showlegend\":false,\"text\":[\"ID: 9.0, Pos(1.32,6.14)\"],\"x\":[1.3237927668045217],\"y\":[6.138997093354829],\"type\":\"scatter\"},{\"hoverinfo\":\"text\",\"marker\":{\"opacity\":1,\"size\":1},\"mode\":\"markers\",\"showlegend\":false,\"text\":[\"ID: 10.0, Pos(0.96,7.19)\"],\"x\":[0.9629283919913502],\"y\":[7.190905203446411],\"type\":\"scatter\"},{\"hoverinfo\":\"none\",\"marker\":{\"opacity\":0,\"size\":1},\"mode\":\"markers\",\"showlegend\":false,\"x\":[0.0],\"y\":[0.0],\"type\":\"scatter\"},{\"hoverinfo\":\"none\",\"marker\":{\"opacity\":0,\"size\":1},\"mode\":\"markers\",\"showlegend\":false,\"x\":[0.0],\"y\":[0.0],\"type\":\"scatter\"},{\"hoverinfo\":\"none\",\"marker\":{\"opacity\":0,\"size\":1},\"mode\":\"markers\",\"showlegend\":false,\"x\":[0.0],\"y\":[0.0],\"type\":\"scatter\"},{\"hoverinfo\":\"none\",\"marker\":{\"opacity\":0,\"size\":1},\"mode\":\"markers\",\"showlegend\":false,\"x\":[0.0],\"y\":[0.0],\"type\":\"scatter\"},{\"hoverinfo\":\"none\",\"marker\":{\"opacity\":0,\"size\":1},\"mode\":\"markers\",\"showlegend\":false,\"x\":[0.0],\"y\":[0.0],\"type\":\"scatter\"}],\"layout\":{\"shapes\":[{\"fillcolor\":\"rgba(0, 24, 255, 0.5)\",\"line\":{\"color\":\"rgba(0, 24, 255, 0.5)\"},\"type\":\"circle\",\"x0\":0.11421670290164476,\"x1\":0.5142167029016448,\"xref\":\"x\",\"y0\":6.322293655292193,\"y1\":6.7222936552921935,\"yref\":\"y\"},{\"fillcolor\":\"rgba(86, 255, 160, 0.5)\",\"line\":{\"color\":\"rgba(86, 255, 160, 0.5)\"},\"type\":\"circle\",\"x0\":0.05268198638568461,\"x1\":0.45268198638568463,\"xref\":\"x\",\"y0\":4.982661107806841,\"y1\":5.382661107806841,\"yref\":\"y\"},{\"fillcolor\":\"rgba(0, 0, 214, 0.5)\",\"line\":{\"color\":\"rgba(0, 0, 214, 0.5)\"},\"type\":\"circle\",\"x0\":1.4694382877061634,\"x1\":1.8694382877061633,\"xref\":\"x\",\"y0\":7.093490892526279,\"y1\":7.493490892526279,\"yref\":\"y\"},{\"fillcolor\":\"rgba(255, 226, 0, 0.5)\",\"line\":{\"color\":\"rgba(255, 226, 0, 0.5)\"},\"type\":\"circle\",\"x0\":1.1237927668045218,\"x1\":1.5237927668045217,\"xref\":\"x\",\"y0\":5.938997093354828,\"y1\":6.338997093354829,\"yref\":\"y\"},{\"fillcolor\":\"rgba(15, 248, 231, 0.5)\",\"line\":{\"color\":\"rgba(15, 248, 231, 0.5)\"},\"type\":\"circle\",\"x0\":0.7629283919913501,\"x1\":1.1629283919913502,\"xref\":\"x\",\"y0\":6.9909052034464105,\"y1\":7.390905203446411,\"yref\":\"y\"},{\"fillcolor\":\"rgba(255,255,255,0)\",\"line\":{\"width\":0},\"type\":\"circle\",\"x0\":0.0,\"x1\":0.0,\"xref\":\"x\",\"y0\":0.0,\"y1\":0.0,\"yref\":\"y\"},{\"fillcolor\":\"rgba(255,255,255,0)\",\"line\":{\"width\":0},\"type\":\"circle\",\"x0\":0.0,\"x1\":0.0,\"xref\":\"x\",\"y0\":0.0,\"y1\":0.0,\"yref\":\"y\"},{\"fillcolor\":\"rgba(255,255,255,0)\",\"line\":{\"width\":0},\"type\":\"circle\",\"x0\":0.0,\"x1\":0.0,\"xref\":\"x\",\"y0\":0.0,\"y1\":0.0,\"yref\":\"y\"},{\"fillcolor\":\"rgba(255,255,255,0)\",\"line\":{\"width\":0},\"type\":\"circle\",\"x0\":0.0,\"x1\":0.0,\"xref\":\"x\",\"y0\":0.0,\"y1\":0.0,\"yref\":\"y\"},{\"fillcolor\":\"rgba(255,255,255,0)\",\"line\":{\"width\":0},\"type\":\"circle\",\"x0\":0.0,\"x1\":0.0,\"xref\":\"x\",\"y0\":0.0,\"y1\":0.0,\"yref\":\"y\"},{\"line\":{\"color\":\"white\",\"width\":3},\"type\":\"line\",\"x0\":0.3142167029016448,\"x1\":0.2816398183061724,\"y0\":6.522293655292193,\"y1\":6.719622686582709},{\"line\":{\"color\":\"black\",\"width\":3},\"type\":\"line\",\"x0\":0.2526819863856846,\"x1\":0.23941832317611395,\"y0\":5.182661107806841,\"y1\":5.382220811249853},{\"line\":{\"color\":\"white\",\"width\":3},\"type\":\"line\",\"x0\":1.6694382877061633,\"x1\":1.5884873765950482,\"y0\":7.293490892526279,\"y1\":7.47637596570143},{\"line\":{\"color\":\"black\",\"width\":3},\"type\":\"line\",\"x0\":1.3237927668045217,\"x1\":1.2405656993764982,\"y0\":6.138997093354829,\"y1\":6.320857631260475},{\"line\":{\"color\":\"black\",\"width\":3},\"type\":\"line\",\"x0\":0.9629283919913502,\"x1\":0.8266375927781173,\"y0\":7.190905203446411,\"y1\":7.337277393598154},{\"line\":{\"color\":\"rgba(255,255,255,0)\",\"width\":3},\"type\":\"line\",\"x0\":0.0,\"x1\":null,\"y0\":0.0,\"y1\":null},{\"line\":{\"color\":\"rgba(255,255,255,0)\",\"width\":3},\"type\":\"line\",\"x0\":0.0,\"x1\":null,\"y0\":0.0,\"y1\":null},{\"line\":{\"color\":\"rgba(255,255,255,0)\",\"width\":3},\"type\":\"line\",\"x0\":0.0,\"x1\":null,\"y0\":0.0,\"y1\":null},{\"line\":{\"color\":\"rgba(255,255,255,0)\",\"width\":3},\"type\":\"line\",\"x0\":0.0,\"x1\":null,\"y0\":0.0,\"y1\":null},{\"line\":{\"color\":\"rgba(255,255,255,0)\",\"width\":3},\"type\":\"line\",\"x0\":0.0,\"x1\":null,\"y0\":0.0,\"y1\":null}],\"title\":{\"text\":\"\\u003cb\\u003eNumber of Agents: 5\\u003c\\u002fb\\u003e\",\"x\":0.5}},\"name\":\"155\"},{\"data\":[{\"hoverinfo\":\"name\",\"line\":{\"color\":\"grey\"},\"mode\":\"lines\",\"name\":\"Exterior\",\"showlegend\":false,\"x\":[-10.0,-10.0,10.0,10.0,-10.0],\"y\":[10.0,-10.0,-10.0,10.0,10.0],\"type\":\"scatter\"},{\"hoverinfo\":\"text\",\"marker\":{\"opacity\":1,\"size\":1},\"mode\":\"markers\",\"showlegend\":false,\"text\":[\"ID: 2.0, Pos(0.27,6.78)\"],\"x\":[0.26526371437862417],\"y\":[6.7787948127496],\"type\":\"scatter\"},{\"hoverinfo\":\"text\",\"marker\":{\"opacity\":1,\"size\":1},\"mode\":\"markers\",\"showlegend\":false,\"text\":[\"ID: 4.0, Pos(0.24,5.38)\"],\"x\":[0.2397846467150479],\"y\":[5.376519054796475],\"type\":\"scatter\"},{\"hoverinfo\":\"text\",\"marker\":{\"opacity\":1,\"size\":1},\"mode\":\"markers\",\"showlegend\":false,\"text\":[\"ID: 8.0, Pos(1.54,7.52)\"],\"x\":[1.5387765481783662],\"y\":[7.522698551421721],\"type\":\"scatter\"},{\"hoverinfo\":\"text\",\"marker\":{\"opacity\":1,\"size\":1},\"mode\":\"markers\",\"showlegend\":false,\"text\":[\"ID: 9.0, Pos(1.26,6.28)\"],\"x\":[1.2606347678382284],\"y\":[6.276900609606058],\"type\":\"scatter\"},{\"hoverinfo\":\"text\",\"marker\":{\"opacity\":1,\"size\":1},\"mode\":\"markers\",\"showlegend\":false,\"text\":[\"ID: 10.0, Pos(0.81,7.40)\"],\"x\":[0.8050981738976353],\"y\":[7.396631118386297],\"type\":\"scatter\"},{\"hoverinfo\":\"none\",\"marker\":{\"opacity\":0,\"size\":1},\"mode\":\"markers\",\"showlegend\":false,\"x\":[0.0],\"y\":[0.0],\"type\":\"scatter\"},{\"hoverinfo\":\"none\",\"marker\":{\"opacity\":0,\"size\":1},\"mode\":\"markers\",\"showlegend\":false,\"x\":[0.0],\"y\":[0.0],\"type\":\"scatter\"},{\"hoverinfo\":\"none\",\"marker\":{\"opacity\":0,\"size\":1},\"mode\":\"markers\",\"showlegend\":false,\"x\":[0.0],\"y\":[0.0],\"type\":\"scatter\"},{\"hoverinfo\":\"none\",\"marker\":{\"opacity\":0,\"size\":1},\"mode\":\"markers\",\"showlegend\":false,\"x\":[0.0],\"y\":[0.0],\"type\":\"scatter\"},{\"hoverinfo\":\"none\",\"marker\":{\"opacity\":0,\"size\":1},\"mode\":\"markers\",\"showlegend\":false,\"x\":[0.0],\"y\":[0.0],\"type\":\"scatter\"}],\"layout\":{\"shapes\":[{\"fillcolor\":\"rgba(0, 0, 223, 0.5)\",\"line\":{\"color\":\"rgba(0, 0, 223, 0.5)\"},\"type\":\"circle\",\"x0\":0.06526371437862416,\"x1\":0.4652637143786242,\"xref\":\"x\",\"y0\":6.578794812749599,\"y1\":6.9787948127496,\"yref\":\"y\"},{\"fillcolor\":\"rgba(38, 255, 209, 0.5)\",\"line\":{\"color\":\"rgba(38, 255, 209, 0.5)\"},\"type\":\"circle\",\"x0\":0.03978464671504789,\"x1\":0.4397846467150479,\"xref\":\"x\",\"y0\":5.176519054796475,\"y1\":5.576519054796475,\"yref\":\"y\"},{\"fillcolor\":\"rgba(0, 0, 205, 0.5)\",\"line\":{\"color\":\"rgba(0, 0, 205, 0.5)\"},\"type\":\"circle\",\"x0\":1.3387765481783662,\"x1\":1.7387765481783661,\"xref\":\"x\",\"y0\":7.322698551421721,\"y1\":7.722698551421721,\"yref\":\"y\"},{\"fillcolor\":\"rgba(202, 255, 44, 0.5)\",\"line\":{\"color\":\"rgba(202, 255, 44, 0.5)\"},\"type\":\"circle\",\"x0\":1.0606347678382284,\"x1\":1.4606347678382283,\"xref\":\"x\",\"y0\":6.076900609606057,\"y1\":6.476900609606058,\"yref\":\"y\"},{\"fillcolor\":\"rgba(0, 0, 232, 0.5)\",\"line\":{\"color\":\"rgba(0, 0, 232, 0.5)\"},\"type\":\"circle\",\"x0\":0.6050981738976353,\"x1\":1.0050981738976352,\"xref\":\"x\",\"y0\":7.196631118386297,\"y1\":7.596631118386298,\"yref\":\"y\"},{\"fillcolor\":\"rgba(255,255,255,0)\",\"line\":{\"width\":0},\"type\":\"circle\",\"x0\":0.0,\"x1\":0.0,\"xref\":\"x\",\"y0\":0.0,\"y1\":0.0,\"yref\":\"y\"},{\"fillcolor\":\"rgba(255,255,255,0)\",\"line\":{\"width\":0},\"type\":\"circle\",\"x0\":0.0,\"x1\":0.0,\"xref\":\"x\",\"y0\":0.0,\"y1\":0.0,\"yref\":\"y\"},{\"fillcolor\":\"rgba(255,255,255,0)\",\"line\":{\"width\":0},\"type\":\"circle\",\"x0\":0.0,\"x1\":0.0,\"xref\":\"x\",\"y0\":0.0,\"y1\":0.0,\"yref\":\"y\"},{\"fillcolor\":\"rgba(255,255,255,0)\",\"line\":{\"width\":0},\"type\":\"circle\",\"x0\":0.0,\"x1\":0.0,\"xref\":\"x\",\"y0\":0.0,\"y1\":0.0,\"yref\":\"y\"},{\"fillcolor\":\"rgba(255,255,255,0)\",\"line\":{\"width\":0},\"type\":\"circle\",\"x0\":0.0,\"x1\":0.0,\"xref\":\"x\",\"y0\":0.0,\"y1\":0.0,\"yref\":\"y\"},{\"line\":{\"color\":\"white\",\"width\":3},\"type\":\"line\",\"x0\":0.26526371437862417,\"x1\":0.22224723276524389,\"y0\":6.7787948127496,\"y1\":6.974113993347936},{\"line\":{\"color\":\"black\",\"width\":3},\"type\":\"line\",\"x0\":0.2397846467150479,\"x1\":0.2264904541076776,\"y0\":5.376519054796475,\"y1\":5.57607672676856},{\"line\":{\"color\":\"white\",\"width\":3},\"type\":\"line\",\"x0\":1.5387765481783662,\"x1\":1.4317423621811123,\"y0\":7.522698551421721,\"y1\":7.691647310008179},{\"line\":{\"color\":\"black\",\"width\":3},\"type\":\"line\",\"x0\":1.2606347678382284,\"x1\":1.1772732634456842,\"y0\":6.276900609606058,\"y1\":6.458699563358305},{\"line\":{\"color\":\"white\",\"width\":3},\"type\":\"line\",\"x0\":0.8050981738976353,\"x1\":0.6939376221132394,\"y0\":7.396631118386297,\"y1\":7.5628939576709335},{\"line\":{\"color\":\"rgba(255,255,255,0)\",\"width\":3},\"type\":\"line\",\"x0\":0.0,\"x1\":null,\"y0\":0.0,\"y1\":null},{\"line\":{\"color\":\"rgba(255,255,255,0)\",\"width\":3},\"type\":\"line\",\"x0\":0.0,\"x1\":null,\"y0\":0.0,\"y1\":null},{\"line\":{\"color\":\"rgba(255,255,255,0)\",\"width\":3},\"type\":\"line\",\"x0\":0.0,\"x1\":null,\"y0\":0.0,\"y1\":null},{\"line\":{\"color\":\"rgba(255,255,255,0)\",\"width\":3},\"type\":\"line\",\"x0\":0.0,\"x1\":null,\"y0\":0.0,\"y1\":null},{\"line\":{\"color\":\"rgba(255,255,255,0)\",\"width\":3},\"type\":\"line\",\"x0\":0.0,\"x1\":null,\"y0\":0.0,\"y1\":null}],\"title\":{\"text\":\"\\u003cb\\u003eNumber of Agents: 5\\u003c\\u002fb\\u003e\",\"x\":0.5}},\"name\":\"160\"},{\"data\":[{\"hoverinfo\":\"name\",\"line\":{\"color\":\"grey\"},\"mode\":\"lines\",\"name\":\"Exterior\",\"showlegend\":false,\"x\":[-10.0,-10.0,10.0,10.0,-10.0],\"y\":[10.0,-10.0,-10.0,10.0,10.0],\"type\":\"scatter\"},{\"hoverinfo\":\"text\",\"marker\":{\"opacity\":1,\"size\":1},\"mode\":\"markers\",\"showlegend\":false,\"text\":[\"ID: 2.0, Pos(0.20,7.03)\"],\"x\":[0.1990137314855935],\"y\":[7.031347429031948],\"type\":\"scatter\"},{\"hoverinfo\":\"text\",\"marker\":{\"opacity\":1,\"size\":1},\"mode\":\"markers\",\"showlegend\":false,\"text\":[\"ID: 4.0, Pos(0.23,5.58)\"],\"x\":[0.22610267298402897],\"y\":[5.581315488324941],\"type\":\"scatter\"},{\"hoverinfo\":\"text\",\"marker\":{\"opacity\":1,\"size\":1},\"mode\":\"markers\",\"showlegend\":false,\"text\":[\"ID: 8.0, Pos(1.40,7.74)\"],\"x\":[1.3951603446844778],\"y\":[7.744254063176481],\"type\":\"scatter\"},{\"hoverinfo\":\"text\",\"marker\":{\"opacity\":1,\"size\":1},\"mode\":\"markers\",\"showlegend\":false,\"text\":[\"ID: 9.0, Pos(1.19,6.43)\"],\"x\":[1.1896018568495963],\"y\":[6.431605144890626],\"type\":\"scatter\"},{\"hoverinfo\":\"text\",\"marker\":{\"opacity\":1,\"size\":1},\"mode\":\"markers\",\"showlegend\":false,\"text\":[\"ID: 10.0, Pos(0.67,7.62)\"],\"x\":[0.6713800367905273],\"y\":[7.618999040409804],\"type\":\"scatter\"},{\"hoverinfo\":\"none\",\"marker\":{\"opacity\":0,\"size\":1},\"mode\":\"markers\",\"showlegend\":false,\"x\":[0.0],\"y\":[0.0],\"type\":\"scatter\"},{\"hoverinfo\":\"none\",\"marker\":{\"opacity\":0,\"size\":1},\"mode\":\"markers\",\"showlegend\":false,\"x\":[0.0],\"y\":[0.0],\"type\":\"scatter\"},{\"hoverinfo\":\"none\",\"marker\":{\"opacity\":0,\"size\":1},\"mode\":\"markers\",\"showlegend\":false,\"x\":[0.0],\"y\":[0.0],\"type\":\"scatter\"},{\"hoverinfo\":\"none\",\"marker\":{\"opacity\":0,\"size\":1},\"mode\":\"markers\",\"showlegend\":false,\"x\":[0.0],\"y\":[0.0],\"type\":\"scatter\"},{\"hoverinfo\":\"none\",\"marker\":{\"opacity\":0,\"size\":1},\"mode\":\"markers\",\"showlegend\":false,\"x\":[0.0],\"y\":[0.0],\"type\":\"scatter\"}],\"layout\":{\"shapes\":[{\"fillcolor\":\"rgba(0, 0, 223, 0.5)\",\"line\":{\"color\":\"rgba(0, 0, 223, 0.5)\"},\"type\":\"circle\",\"x0\":-0.000986268514406502,\"x1\":0.3990137314855935,\"xref\":\"x\",\"y0\":6.831347429031948,\"y1\":7.231347429031948,\"yref\":\"y\"},{\"fillcolor\":\"rgba(0, 224, 251, 0.5)\",\"line\":{\"color\":\"rgba(0, 224, 251, 0.5)\"},\"type\":\"circle\",\"x0\":0.026102672984028963,\"x1\":0.426102672984029,\"xref\":\"x\",\"y0\":5.381315488324941,\"y1\":5.781315488324942,\"yref\":\"y\"},{\"fillcolor\":\"rgba(0, 0, 205, 0.5)\",\"line\":{\"color\":\"rgba(0, 0, 205, 0.5)\"},\"type\":\"circle\",\"x0\":1.1951603446844778,\"x1\":1.5951603446844778,\"xref\":\"x\",\"y0\":7.5442540631764805,\"y1\":7.944254063176481,\"yref\":\"y\"},{\"fillcolor\":\"rgba(128, 255, 119, 0.5)\",\"line\":{\"color\":\"rgba(128, 255, 119, 0.5)\"},\"type\":\"circle\",\"x0\":0.9896018568495963,\"x1\":1.3896018568495963,\"xref\":\"x\",\"y0\":6.231605144890626,\"y1\":6.631605144890626,\"yref\":\"y\"},{\"fillcolor\":\"rgba(0, 0, 232, 0.5)\",\"line\":{\"color\":\"rgba(0, 0, 232, 0.5)\"},\"type\":\"circle\",\"x0\":0.47138003679052726,\"x1\":0.8713800367905273,\"xref\":\"x\",\"y0\":7.418999040409804,\"y1\":7.818999040409804,\"yref\":\"y\"},{\"fillcolor\":\"rgba(255,255,255,0)\",\"line\":{\"width\":0},\"type\":\"circle\",\"x0\":0.0,\"x1\":0.0,\"xref\":\"x\",\"y0\":0.0,\"y1\":0.0,\"yref\":\"y\"},{\"fillcolor\":\"rgba(255,255,255,0)\",\"line\":{\"width\":0},\"type\":\"circle\",\"x0\":0.0,\"x1\":0.0,\"xref\":\"x\",\"y0\":0.0,\"y1\":0.0,\"yref\":\"y\"},{\"fillcolor\":\"rgba(255,255,255,0)\",\"line\":{\"width\":0},\"type\":\"circle\",\"x0\":0.0,\"x1\":0.0,\"xref\":\"x\",\"y0\":0.0,\"y1\":0.0,\"yref\":\"y\"},{\"fillcolor\":\"rgba(255,255,255,0)\",\"line\":{\"width\":0},\"type\":\"circle\",\"x0\":0.0,\"x1\":0.0,\"xref\":\"x\",\"y0\":0.0,\"y1\":0.0,\"yref\":\"y\"},{\"fillcolor\":\"rgba(255,255,255,0)\",\"line\":{\"width\":0},\"type\":\"circle\",\"x0\":0.0,\"x1\":0.0,\"xref\":\"x\",\"y0\":0.0,\"y1\":0.0,\"yref\":\"y\"},{\"line\":{\"color\":\"white\",\"width\":3},\"type\":\"line\",\"x0\":0.1990137314855935,\"x1\":0.14117519658132274,\"y0\":7.031347429031948,\"y1\":7.222801611227395},{\"line\":{\"color\":\"black\",\"width\":3},\"type\":\"line\",\"x0\":0.22610267298402897,\"x1\":0.21272670186877016,\"y0\":5.581315488324941,\"y1\":5.7808676955207625},{\"line\":{\"color\":\"white\",\"width\":3},\"type\":\"line\",\"x0\":1.3951603446844778,\"x1\":1.2863302048067362,\"y0\":7.744254063176481,\"y1\":7.912051562127422},{\"line\":{\"color\":\"black\",\"width\":3},\"type\":\"line\",\"x0\":1.1896018568495963,\"x1\":1.106087333745217,\"y0\":6.431605144890626,\"y1\":6.613333855970213},{\"line\":{\"color\":\"white\",\"width\":3},\"type\":\"line\",\"x0\":0.6713800367905273,\"x1\":0.5742981848681387,\"y0\":7.618999040409804,\"y1\":7.793856450968577},{\"line\":{\"color\":\"rgba(255,255,255,0)\",\"width\":3},\"type\":\"line\",\"x0\":0.0,\"x1\":null,\"y0\":0.0,\"y1\":null},{\"line\":{\"color\":\"rgba(255,255,255,0)\",\"width\":3},\"type\":\"line\",\"x0\":0.0,\"x1\":null,\"y0\":0.0,\"y1\":null},{\"line\":{\"color\":\"rgba(255,255,255,0)\",\"width\":3},\"type\":\"line\",\"x0\":0.0,\"x1\":null,\"y0\":0.0,\"y1\":null},{\"line\":{\"color\":\"rgba(255,255,255,0)\",\"width\":3},\"type\":\"line\",\"x0\":0.0,\"x1\":null,\"y0\":0.0,\"y1\":null},{\"line\":{\"color\":\"rgba(255,255,255,0)\",\"width\":3},\"type\":\"line\",\"x0\":0.0,\"x1\":null,\"y0\":0.0,\"y1\":null}],\"title\":{\"text\":\"\\u003cb\\u003eNumber of Agents: 5\\u003c\\u002fb\\u003e\",\"x\":0.5}},\"name\":\"165\"},{\"data\":[{\"hoverinfo\":\"name\",\"line\":{\"color\":\"grey\"},\"mode\":\"lines\",\"name\":\"Exterior\",\"showlegend\":false,\"x\":[-10.0,-10.0,10.0,10.0,-10.0],\"y\":[10.0,-10.0,-10.0,10.0,10.0],\"type\":\"scatter\"},{\"hoverinfo\":\"text\",\"marker\":{\"opacity\":1,\"size\":1},\"mode\":\"markers\",\"showlegend\":false,\"text\":[\"ID: 2.0, Pos(0.11,7.28)\"],\"x\":[0.11483266777842237],\"y\":[7.278528288276041],\"type\":\"scatter\"},{\"hoverinfo\":\"text\",\"marker\":{\"opacity\":1,\"size\":1},\"mode\":\"markers\",\"showlegend\":false,\"text\":[\"ID: 4.0, Pos(0.21,5.79)\"],\"x\":[0.21172053279338246],\"y\":[5.794535080972563],\"type\":\"scatter\"},{\"hoverinfo\":\"text\",\"marker\":{\"opacity\":1,\"size\":1},\"mode\":\"markers\",\"showlegend\":false,\"text\":[\"ID: 8.0, Pos(1.25,7.97)\"],\"x\":[1.2537908961707884],\"y\":[7.967245114048839],\"type\":\"scatter\"},{\"hoverinfo\":\"text\",\"marker\":{\"opacity\":1,\"size\":1},\"mode\":\"markers\",\"showlegend\":false,\"text\":[\"ID: 9.0, Pos(1.11,6.60)\"],\"x\":[1.1118292729027766],\"y\":[6.600836272502333],\"type\":\"scatter\"},{\"hoverinfo\":\"text\",\"marker\":{\"opacity\":1,\"size\":1},\"mode\":\"markers\",\"showlegend\":false,\"text\":[\"ID: 10.0, Pos(0.55,7.85)\"],\"x\":[0.5500481477667049],\"y\":[7.8484291958707475],\"type\":\"scatter\"},{\"hoverinfo\":\"none\",\"marker\":{\"opacity\":0,\"size\":1},\"mode\":\"markers\",\"showlegend\":false,\"x\":[0.0],\"y\":[0.0],\"type\":\"scatter\"},{\"hoverinfo\":\"none\",\"marker\":{\"opacity\":0,\"size\":1},\"mode\":\"markers\",\"showlegend\":false,\"x\":[0.0],\"y\":[0.0],\"type\":\"scatter\"},{\"hoverinfo\":\"none\",\"marker\":{\"opacity\":0,\"size\":1},\"mode\":\"markers\",\"showlegend\":false,\"x\":[0.0],\"y\":[0.0],\"type\":\"scatter\"},{\"hoverinfo\":\"none\",\"marker\":{\"opacity\":0,\"size\":1},\"mode\":\"markers\",\"showlegend\":false,\"x\":[0.0],\"y\":[0.0],\"type\":\"scatter\"},{\"hoverinfo\":\"none\",\"marker\":{\"opacity\":0,\"size\":1},\"mode\":\"markers\",\"showlegend\":false,\"x\":[0.0],\"y\":[0.0],\"type\":\"scatter\"}],\"layout\":{\"shapes\":[{\"fillcolor\":\"rgba(0, 0, 228, 0.5)\",\"line\":{\"color\":\"rgba(0, 0, 228, 0.5)\"},\"type\":\"circle\",\"x0\":-0.08516733222157764,\"x1\":0.3148326677784224,\"xref\":\"x\",\"y0\":7.078528288276041,\"y1\":7.478528288276041,\"yref\":\"y\"},{\"fillcolor\":\"rgba(0, 184, 255, 0.5)\",\"line\":{\"color\":\"rgba(0, 184, 255, 0.5)\"},\"type\":\"circle\",\"x0\":0.011720532793382449,\"x1\":0.4117205327933825,\"xref\":\"x\",\"y0\":5.5945350809725625,\"y1\":5.994535080972563,\"yref\":\"y\"},{\"fillcolor\":\"rgba(0, 0, 205, 0.5)\",\"line\":{\"color\":\"rgba(0, 0, 205, 0.5)\"},\"type\":\"circle\",\"x0\":1.0537908961707885,\"x1\":1.4537908961707884,\"xref\":\"x\",\"y0\":7.767245114048839,\"y1\":8.16724511404884,\"yref\":\"y\"},{\"fillcolor\":\"rgba(31, 255, 215, 0.5)\",\"line\":{\"color\":\"rgba(31, 255, 215, 0.5)\"},\"type\":\"circle\",\"x0\":0.9118292729027766,\"x1\":1.3118292729027765,\"xref\":\"x\",\"y0\":6.400836272502333,\"y1\":6.800836272502333,\"yref\":\"y\"},{\"fillcolor\":\"rgba(0, 0, 228, 0.5)\",\"line\":{\"color\":\"rgba(0, 0, 228, 0.5)\"},\"type\":\"circle\",\"x0\":0.35004814776670484,\"x1\":0.7500481477667049,\"xref\":\"x\",\"y0\":7.648429195870747,\"y1\":8.048429195870748,\"yref\":\"y\"},{\"fillcolor\":\"rgba(255,255,255,0)\",\"line\":{\"width\":0},\"type\":\"circle\",\"x0\":0.0,\"x1\":0.0,\"xref\":\"x\",\"y0\":0.0,\"y1\":0.0,\"yref\":\"y\"},{\"fillcolor\":\"rgba(255,255,255,0)\",\"line\":{\"width\":0},\"type\":\"circle\",\"x0\":0.0,\"x1\":0.0,\"xref\":\"x\",\"y0\":0.0,\"y1\":0.0,\"yref\":\"y\"},{\"fillcolor\":\"rgba(255,255,255,0)\",\"line\":{\"width\":0},\"type\":\"circle\",\"x0\":0.0,\"x1\":0.0,\"xref\":\"x\",\"y0\":0.0,\"y1\":0.0,\"yref\":\"y\"},{\"fillcolor\":\"rgba(255,255,255,0)\",\"line\":{\"width\":0},\"type\":\"circle\",\"x0\":0.0,\"x1\":0.0,\"xref\":\"x\",\"y0\":0.0,\"y1\":0.0,\"yref\":\"y\"},{\"fillcolor\":\"rgba(255,255,255,0)\",\"line\":{\"width\":0},\"type\":\"circle\",\"x0\":0.0,\"x1\":0.0,\"xref\":\"x\",\"y0\":0.0,\"y1\":0.0,\"yref\":\"y\"},{\"line\":{\"color\":\"white\",\"width\":3},\"type\":\"line\",\"x0\":0.11483266777842237,\"x1\":0.04534935565195378,\"y0\":7.278528288276041,\"y1\":7.4660704684274295},{\"line\":{\"color\":\"black\",\"width\":3},\"type\":\"line\",\"x0\":0.21172053279338246,\"x1\":0.19816420610669533,\"y0\":5.794535080972563,\"y1\":5.994075117072499},{\"line\":{\"color\":\"white\",\"width\":3},\"type\":\"line\",\"x0\":1.2537908961707884,\"x1\":1.148533025257912,\"y0\":7.967245114048839,\"y1\":8.137306222509558},{\"line\":{\"color\":\"black\",\"width\":3},\"type\":\"line\",\"x0\":1.1118292729027766,\"x1\":1.0283493815499092,\"y0\":6.600836272502333,\"y1\":6.782580894815384},{\"line\":{\"color\":\"white\",\"width\":3},\"type\":\"line\",\"x0\":0.5500481477667049,\"x1\":0.4586944348681904,\"y0\":7.8484291958707475,\"y1\":8.026346308987097},{\"line\":{\"color\":\"rgba(255,255,255,0)\",\"width\":3},\"type\":\"line\",\"x0\":0.0,\"x1\":null,\"y0\":0.0,\"y1\":null},{\"line\":{\"color\":\"rgba(255,255,255,0)\",\"width\":3},\"type\":\"line\",\"x0\":0.0,\"x1\":null,\"y0\":0.0,\"y1\":null},{\"line\":{\"color\":\"rgba(255,255,255,0)\",\"width\":3},\"type\":\"line\",\"x0\":0.0,\"x1\":null,\"y0\":0.0,\"y1\":null},{\"line\":{\"color\":\"rgba(255,255,255,0)\",\"width\":3},\"type\":\"line\",\"x0\":0.0,\"x1\":null,\"y0\":0.0,\"y1\":null},{\"line\":{\"color\":\"rgba(255,255,255,0)\",\"width\":3},\"type\":\"line\",\"x0\":0.0,\"x1\":null,\"y0\":0.0,\"y1\":null}],\"title\":{\"text\":\"\\u003cb\\u003eNumber of Agents: 5\\u003c\\u002fb\\u003e\",\"x\":0.5}},\"name\":\"170\"},{\"data\":[{\"hoverinfo\":\"name\",\"line\":{\"color\":\"grey\"},\"mode\":\"lines\",\"name\":\"Exterior\",\"showlegend\":false,\"x\":[-10.0,-10.0,10.0,10.0,-10.0],\"y\":[10.0,-10.0,-10.0,10.0,10.0],\"type\":\"scatter\"},{\"hoverinfo\":\"text\",\"marker\":{\"opacity\":1,\"size\":1},\"mode\":\"markers\",\"showlegend\":false,\"text\":[\"ID: 2.0, Pos(0.05,7.53)\"],\"x\":[0.05144062718412478],\"y\":[7.529280681468098],\"type\":\"scatter\"},{\"hoverinfo\":\"text\",\"marker\":{\"opacity\":1,\"size\":1},\"mode\":\"markers\",\"showlegend\":false,\"text\":[\"ID: 4.0, Pos(0.20,6.01)\"],\"x\":[0.19657953856772825],\"y\":[6.0146036619179295],\"type\":\"scatter\"},{\"hoverinfo\":\"text\",\"marker\":{\"opacity\":1,\"size\":1},\"mode\":\"markers\",\"showlegend\":false,\"text\":[\"ID: 9.0, Pos(1.02,6.80)\"],\"x\":[1.0216051175034888],\"y\":[6.797779318477759],\"type\":\"scatter\"},{\"hoverinfo\":\"none\",\"marker\":{\"opacity\":0,\"size\":1},\"mode\":\"markers\",\"showlegend\":false,\"x\":[0.0],\"y\":[0.0],\"type\":\"scatter\"},{\"hoverinfo\":\"none\",\"marker\":{\"opacity\":0,\"size\":1},\"mode\":\"markers\",\"showlegend\":false,\"x\":[0.0],\"y\":[0.0],\"type\":\"scatter\"},{\"hoverinfo\":\"none\",\"marker\":{\"opacity\":0,\"size\":1},\"mode\":\"markers\",\"showlegend\":false,\"x\":[0.0],\"y\":[0.0],\"type\":\"scatter\"},{\"hoverinfo\":\"none\",\"marker\":{\"opacity\":0,\"size\":1},\"mode\":\"markers\",\"showlegend\":false,\"x\":[0.0],\"y\":[0.0],\"type\":\"scatter\"},{\"hoverinfo\":\"none\",\"marker\":{\"opacity\":0,\"size\":1},\"mode\":\"markers\",\"showlegend\":false,\"x\":[0.0],\"y\":[0.0],\"type\":\"scatter\"},{\"hoverinfo\":\"none\",\"marker\":{\"opacity\":0,\"size\":1},\"mode\":\"markers\",\"showlegend\":false,\"x\":[0.0],\"y\":[0.0],\"type\":\"scatter\"},{\"hoverinfo\":\"none\",\"marker\":{\"opacity\":0,\"size\":1},\"mode\":\"markers\",\"showlegend\":false,\"x\":[0.0],\"y\":[0.0],\"type\":\"scatter\"}],\"layout\":{\"shapes\":[{\"fillcolor\":\"rgba(0, 0, 237, 0.5)\",\"line\":{\"color\":\"rgba(0, 0, 237, 0.5)\"},\"type\":\"circle\",\"x0\":-0.14855937281587522,\"x1\":0.2514406271841248,\"xref\":\"x\",\"y0\":7.329280681468098,\"y1\":7.729280681468098,\"yref\":\"y\"},{\"fillcolor\":\"rgba(0, 148, 255, 0.5)\",\"line\":{\"color\":\"rgba(0, 148, 255, 0.5)\"},\"type\":\"circle\",\"x0\":-0.0034204614322717597,\"x1\":0.39657953856772826,\"xref\":\"x\",\"y0\":5.814603661917929,\"y1\":6.21460366191793,\"yref\":\"y\"},{\"fillcolor\":\"rgba(0, 72, 255, 0.5)\",\"line\":{\"color\":\"rgba(0, 72, 255, 0.5)\"},\"type\":\"circle\",\"x0\":0.8216051175034889,\"x1\":1.2216051175034888,\"xref\":\"x\",\"y0\":6.597779318477759,\"y1\":6.997779318477759,\"yref\":\"y\"},{\"fillcolor\":\"rgba(255,255,255,0)\",\"line\":{\"width\":0},\"type\":\"circle\",\"x0\":0.0,\"x1\":0.0,\"xref\":\"x\",\"y0\":0.0,\"y1\":0.0,\"yref\":\"y\"},{\"fillcolor\":\"rgba(255,255,255,0)\",\"line\":{\"width\":0},\"type\":\"circle\",\"x0\":0.0,\"x1\":0.0,\"xref\":\"x\",\"y0\":0.0,\"y1\":0.0,\"yref\":\"y\"},{\"fillcolor\":\"rgba(255,255,255,0)\",\"line\":{\"width\":0},\"type\":\"circle\",\"x0\":0.0,\"x1\":0.0,\"xref\":\"x\",\"y0\":0.0,\"y1\":0.0,\"yref\":\"y\"},{\"fillcolor\":\"rgba(255,255,255,0)\",\"line\":{\"width\":0},\"type\":\"circle\",\"x0\":0.0,\"x1\":0.0,\"xref\":\"x\",\"y0\":0.0,\"y1\":0.0,\"yref\":\"y\"},{\"fillcolor\":\"rgba(255,255,255,0)\",\"line\":{\"width\":0},\"type\":\"circle\",\"x0\":0.0,\"x1\":0.0,\"xref\":\"x\",\"y0\":0.0,\"y1\":0.0,\"yref\":\"y\"},{\"fillcolor\":\"rgba(255,255,255,0)\",\"line\":{\"width\":0},\"type\":\"circle\",\"x0\":0.0,\"x1\":0.0,\"xref\":\"x\",\"y0\":0.0,\"y1\":0.0,\"yref\":\"y\"},{\"fillcolor\":\"rgba(255,255,255,0)\",\"line\":{\"width\":0},\"type\":\"circle\",\"x0\":0.0,\"x1\":0.0,\"xref\":\"x\",\"y0\":0.0,\"y1\":0.0,\"yref\":\"y\"},{\"line\":{\"color\":\"white\",\"width\":3},\"type\":\"line\",\"x0\":0.05144062718412478,\"x1\":0.04409770278525931,\"y0\":7.529280681468098,\"y1\":7.7291458396655},{\"line\":{\"color\":\"white\",\"width\":3},\"type\":\"line\",\"x0\":0.19657953856772825,\"x1\":0.18268505523544504,\"y0\":6.0146036619179295,\"y1\":6.2141204364832},{\"line\":{\"color\":\"white\",\"width\":3},\"type\":\"line\",\"x0\":1.0216051175034888,\"x1\":0.9384781544119866,\"y0\":6.797779318477759,\"y1\":6.979685635045337},{\"line\":{\"color\":\"rgba(255,255,255,0)\",\"width\":3},\"type\":\"line\",\"x0\":0.0,\"x1\":null,\"y0\":0.0,\"y1\":null},{\"line\":{\"color\":\"rgba(255,255,255,0)\",\"width\":3},\"type\":\"line\",\"x0\":0.0,\"x1\":null,\"y0\":0.0,\"y1\":null},{\"line\":{\"color\":\"rgba(255,255,255,0)\",\"width\":3},\"type\":\"line\",\"x0\":0.0,\"x1\":null,\"y0\":0.0,\"y1\":null},{\"line\":{\"color\":\"rgba(255,255,255,0)\",\"width\":3},\"type\":\"line\",\"x0\":0.0,\"x1\":null,\"y0\":0.0,\"y1\":null},{\"line\":{\"color\":\"rgba(255,255,255,0)\",\"width\":3},\"type\":\"line\",\"x0\":0.0,\"x1\":null,\"y0\":0.0,\"y1\":null},{\"line\":{\"color\":\"rgba(255,255,255,0)\",\"width\":3},\"type\":\"line\",\"x0\":0.0,\"x1\":null,\"y0\":0.0,\"y1\":null},{\"line\":{\"color\":\"rgba(255,255,255,0)\",\"width\":3},\"type\":\"line\",\"x0\":0.0,\"x1\":null,\"y0\":0.0,\"y1\":null}],\"title\":{\"text\":\"\\u003cb\\u003eNumber of Agents: 3\\u003c\\u002fb\\u003e\",\"x\":0.5}},\"name\":\"175\"},{\"data\":[{\"hoverinfo\":\"name\",\"line\":{\"color\":\"grey\"},\"mode\":\"lines\",\"name\":\"Exterior\",\"showlegend\":false,\"x\":[-10.0,-10.0,10.0,10.0,-10.0],\"y\":[10.0,-10.0,-10.0,10.0,10.0],\"type\":\"scatter\"},{\"hoverinfo\":\"text\",\"marker\":{\"opacity\":1,\"size\":1},\"mode\":\"markers\",\"showlegend\":false,\"text\":[\"ID: 2.0, Pos(0.04,7.79)\"],\"x\":[0.041739532865569036],\"y\":[7.790263155145757],\"type\":\"scatter\"},{\"hoverinfo\":\"text\",\"marker\":{\"opacity\":1,\"size\":1},\"mode\":\"markers\",\"showlegend\":false,\"text\":[\"ID: 4.0, Pos(0.18,6.24)\"],\"x\":[0.18052764333256954],\"y\":[6.241626456792031],\"type\":\"scatter\"},{\"hoverinfo\":\"text\",\"marker\":{\"opacity\":1,\"size\":1},\"mode\":\"markers\",\"showlegend\":false,\"text\":[\"ID: 9.0, Pos(0.91,7.04)\"],\"x\":[0.9134417493885587],\"y\":[7.03545262798391],\"type\":\"scatter\"},{\"hoverinfo\":\"none\",\"marker\":{\"opacity\":0,\"size\":1},\"mode\":\"markers\",\"showlegend\":false,\"x\":[0.0],\"y\":[0.0],\"type\":\"scatter\"},{\"hoverinfo\":\"none\",\"marker\":{\"opacity\":0,\"size\":1},\"mode\":\"markers\",\"showlegend\":false,\"x\":[0.0],\"y\":[0.0],\"type\":\"scatter\"},{\"hoverinfo\":\"none\",\"marker\":{\"opacity\":0,\"size\":1},\"mode\":\"markers\",\"showlegend\":false,\"x\":[0.0],\"y\":[0.0],\"type\":\"scatter\"},{\"hoverinfo\":\"none\",\"marker\":{\"opacity\":0,\"size\":1},\"mode\":\"markers\",\"showlegend\":false,\"x\":[0.0],\"y\":[0.0],\"type\":\"scatter\"},{\"hoverinfo\":\"none\",\"marker\":{\"opacity\":0,\"size\":1},\"mode\":\"markers\",\"showlegend\":false,\"x\":[0.0],\"y\":[0.0],\"type\":\"scatter\"},{\"hoverinfo\":\"none\",\"marker\":{\"opacity\":0,\"size\":1},\"mode\":\"markers\",\"showlegend\":false,\"x\":[0.0],\"y\":[0.0],\"type\":\"scatter\"},{\"hoverinfo\":\"none\",\"marker\":{\"opacity\":0,\"size\":1},\"mode\":\"markers\",\"showlegend\":false,\"x\":[0.0],\"y\":[0.0],\"type\":\"scatter\"}],\"layout\":{\"shapes\":[{\"fillcolor\":\"rgba(0, 0, 218, 0.5)\",\"line\":{\"color\":\"rgba(0, 0, 218, 0.5)\"},\"type\":\"circle\",\"x0\":-0.15826046713443098,\"x1\":0.24173953286556904,\"xref\":\"x\",\"y0\":7.590263155145757,\"y1\":7.990263155145757,\"yref\":\"y\"},{\"fillcolor\":\"rgba(0, 109, 255, 0.5)\",\"line\":{\"color\":\"rgba(0, 109, 255, 0.5)\"},\"type\":\"circle\",\"x0\":-0.019472356667430468,\"x1\":0.38052764333256955,\"xref\":\"x\",\"y0\":6.041626456792031,\"y1\":6.441626456792031,\"yref\":\"y\"},{\"fillcolor\":\"rgba(0, 0, 218, 0.5)\",\"line\":{\"color\":\"rgba(0, 0, 218, 0.5)\"},\"type\":\"circle\",\"x0\":0.7134417493885588,\"x1\":1.1134417493885587,\"xref\":\"x\",\"y0\":6.835452627983909,\"y1\":7.23545262798391,\"yref\":\"y\"},{\"fillcolor\":\"rgba(255,255,255,0)\",\"line\":{\"width\":0},\"type\":\"circle\",\"x0\":0.0,\"x1\":0.0,\"xref\":\"x\",\"y0\":0.0,\"y1\":0.0,\"yref\":\"y\"},{\"fillcolor\":\"rgba(255,255,255,0)\",\"line\":{\"width\":0},\"type\":\"circle\",\"x0\":0.0,\"x1\":0.0,\"xref\":\"x\",\"y0\":0.0,\"y1\":0.0,\"yref\":\"y\"},{\"fillcolor\":\"rgba(255,255,255,0)\",\"line\":{\"width\":0},\"type\":\"circle\",\"x0\":0.0,\"x1\":0.0,\"xref\":\"x\",\"y0\":0.0,\"y1\":0.0,\"yref\":\"y\"},{\"fillcolor\":\"rgba(255,255,255,0)\",\"line\":{\"width\":0},\"type\":\"circle\",\"x0\":0.0,\"x1\":0.0,\"xref\":\"x\",\"y0\":0.0,\"y1\":0.0,\"yref\":\"y\"},{\"fillcolor\":\"rgba(255,255,255,0)\",\"line\":{\"width\":0},\"type\":\"circle\",\"x0\":0.0,\"x1\":0.0,\"xref\":\"x\",\"y0\":0.0,\"y1\":0.0,\"yref\":\"y\"},{\"fillcolor\":\"rgba(255,255,255,0)\",\"line\":{\"width\":0},\"type\":\"circle\",\"x0\":0.0,\"x1\":0.0,\"xref\":\"x\",\"y0\":0.0,\"y1\":0.0,\"yref\":\"y\"},{\"fillcolor\":\"rgba(255,255,255,0)\",\"line\":{\"width\":0},\"type\":\"circle\",\"x0\":0.0,\"x1\":0.0,\"xref\":\"x\",\"y0\":0.0,\"y1\":0.0,\"yref\":\"y\"},{\"line\":{\"color\":\"white\",\"width\":3},\"type\":\"line\",\"x0\":0.041739532865569036,\"x1\":0.03422516300636834,\"y0\":7.790263155145757,\"y1\":7.9901219409061515},{\"line\":{\"color\":\"white\",\"width\":3},\"type\":\"line\",\"x0\":0.18052764333256954,\"x1\":0.16620214118840562,\"y0\":6.241626456792031,\"y1\":6.441112747018496},{\"line\":{\"color\":\"white\",\"width\":3},\"type\":\"line\",\"x0\":0.9134417493885587,\"x1\":0.8308945866450956,\"y0\":7.03545262798391,\"y1\":7.217622784494257},{\"line\":{\"color\":\"rgba(255,255,255,0)\",\"width\":3},\"type\":\"line\",\"x0\":0.0,\"x1\":null,\"y0\":0.0,\"y1\":null},{\"line\":{\"color\":\"rgba(255,255,255,0)\",\"width\":3},\"type\":\"line\",\"x0\":0.0,\"x1\":null,\"y0\":0.0,\"y1\":null},{\"line\":{\"color\":\"rgba(255,255,255,0)\",\"width\":3},\"type\":\"line\",\"x0\":0.0,\"x1\":null,\"y0\":0.0,\"y1\":null},{\"line\":{\"color\":\"rgba(255,255,255,0)\",\"width\":3},\"type\":\"line\",\"x0\":0.0,\"x1\":null,\"y0\":0.0,\"y1\":null},{\"line\":{\"color\":\"rgba(255,255,255,0)\",\"width\":3},\"type\":\"line\",\"x0\":0.0,\"x1\":null,\"y0\":0.0,\"y1\":null},{\"line\":{\"color\":\"rgba(255,255,255,0)\",\"width\":3},\"type\":\"line\",\"x0\":0.0,\"x1\":null,\"y0\":0.0,\"y1\":null},{\"line\":{\"color\":\"rgba(255,255,255,0)\",\"width\":3},\"type\":\"line\",\"x0\":0.0,\"x1\":null,\"y0\":0.0,\"y1\":null}],\"title\":{\"text\":\"\\u003cb\\u003eNumber of Agents: 3\\u003c\\u002fb\\u003e\",\"x\":0.5}},\"name\":\"180\"},{\"data\":[{\"hoverinfo\":\"name\",\"line\":{\"color\":\"grey\"},\"mode\":\"lines\",\"name\":\"Exterior\",\"showlegend\":false,\"x\":[-10.0,-10.0,10.0,10.0,-10.0],\"y\":[10.0,-10.0,-10.0,10.0,10.0],\"type\":\"scatter\"},{\"hoverinfo\":\"text\",\"marker\":{\"opacity\":1,\"size\":1},\"mode\":\"markers\",\"showlegend\":false,\"text\":[\"ID: 4.0, Pos(0.16,6.48)\"],\"x\":[0.16324619707398297],\"y\":[6.47689818942944],\"type\":\"scatter\"},{\"hoverinfo\":\"text\",\"marker\":{\"opacity\":1,\"size\":1},\"mode\":\"markers\",\"showlegend\":false,\"text\":[\"ID: 9.0, Pos(0.81,7.27)\"],\"x\":[0.8061558796660654],\"y\":[7.273523266458206],\"type\":\"scatter\"},{\"hoverinfo\":\"none\",\"marker\":{\"opacity\":0,\"size\":1},\"mode\":\"markers\",\"showlegend\":false,\"x\":[0.0],\"y\":[0.0],\"type\":\"scatter\"},{\"hoverinfo\":\"none\",\"marker\":{\"opacity\":0,\"size\":1},\"mode\":\"markers\",\"showlegend\":false,\"x\":[0.0],\"y\":[0.0],\"type\":\"scatter\"},{\"hoverinfo\":\"none\",\"marker\":{\"opacity\":0,\"size\":1},\"mode\":\"markers\",\"showlegend\":false,\"x\":[0.0],\"y\":[0.0],\"type\":\"scatter\"},{\"hoverinfo\":\"none\",\"marker\":{\"opacity\":0,\"size\":1},\"mode\":\"markers\",\"showlegend\":false,\"x\":[0.0],\"y\":[0.0],\"type\":\"scatter\"},{\"hoverinfo\":\"none\",\"marker\":{\"opacity\":0,\"size\":1},\"mode\":\"markers\",\"showlegend\":false,\"x\":[0.0],\"y\":[0.0],\"type\":\"scatter\"},{\"hoverinfo\":\"none\",\"marker\":{\"opacity\":0,\"size\":1},\"mode\":\"markers\",\"showlegend\":false,\"x\":[0.0],\"y\":[0.0],\"type\":\"scatter\"},{\"hoverinfo\":\"none\",\"marker\":{\"opacity\":0,\"size\":1},\"mode\":\"markers\",\"showlegend\":false,\"x\":[0.0],\"y\":[0.0],\"type\":\"scatter\"},{\"hoverinfo\":\"none\",\"marker\":{\"opacity\":0,\"size\":1},\"mode\":\"markers\",\"showlegend\":false,\"x\":[0.0],\"y\":[0.0],\"type\":\"scatter\"}],\"layout\":{\"shapes\":[{\"fillcolor\":\"rgba(0, 29, 255, 0.5)\",\"line\":{\"color\":\"rgba(0, 29, 255, 0.5)\"},\"type\":\"circle\",\"x0\":-0.03675380292601704,\"x1\":0.363246197073983,\"xref\":\"x\",\"y0\":6.27689818942944,\"y1\":6.676898189429441,\"yref\":\"y\"},{\"fillcolor\":\"rgba(0, 0, 218, 0.5)\",\"line\":{\"color\":\"rgba(0, 0, 218, 0.5)\"},\"type\":\"circle\",\"x0\":0.6061558796660653,\"x1\":1.0061558796660655,\"xref\":\"x\",\"y0\":7.0735232664582055,\"y1\":7.473523266458206,\"yref\":\"y\"},{\"fillcolor\":\"rgba(255,255,255,0)\",\"line\":{\"width\":0},\"type\":\"circle\",\"x0\":0.0,\"x1\":0.0,\"xref\":\"x\",\"y0\":0.0,\"y1\":0.0,\"yref\":\"y\"},{\"fillcolor\":\"rgba(255,255,255,0)\",\"line\":{\"width\":0},\"type\":\"circle\",\"x0\":0.0,\"x1\":0.0,\"xref\":\"x\",\"y0\":0.0,\"y1\":0.0,\"yref\":\"y\"},{\"fillcolor\":\"rgba(255,255,255,0)\",\"line\":{\"width\":0},\"type\":\"circle\",\"x0\":0.0,\"x1\":0.0,\"xref\":\"x\",\"y0\":0.0,\"y1\":0.0,\"yref\":\"y\"},{\"fillcolor\":\"rgba(255,255,255,0)\",\"line\":{\"width\":0},\"type\":\"circle\",\"x0\":0.0,\"x1\":0.0,\"xref\":\"x\",\"y0\":0.0,\"y1\":0.0,\"yref\":\"y\"},{\"fillcolor\":\"rgba(255,255,255,0)\",\"line\":{\"width\":0},\"type\":\"circle\",\"x0\":0.0,\"x1\":0.0,\"xref\":\"x\",\"y0\":0.0,\"y1\":0.0,\"yref\":\"y\"},{\"fillcolor\":\"rgba(255,255,255,0)\",\"line\":{\"width\":0},\"type\":\"circle\",\"x0\":0.0,\"x1\":0.0,\"xref\":\"x\",\"y0\":0.0,\"y1\":0.0,\"yref\":\"y\"},{\"fillcolor\":\"rgba(255,255,255,0)\",\"line\":{\"width\":0},\"type\":\"circle\",\"x0\":0.0,\"x1\":0.0,\"xref\":\"x\",\"y0\":0.0,\"y1\":0.0,\"yref\":\"y\"},{\"fillcolor\":\"rgba(255,255,255,0)\",\"line\":{\"width\":0},\"type\":\"circle\",\"x0\":0.0,\"x1\":0.0,\"xref\":\"x\",\"y0\":0.0,\"y1\":0.0,\"yref\":\"y\"},{\"line\":{\"color\":\"white\",\"width\":3},\"type\":\"line\",\"x0\":0.16324619707398297,\"x1\":0.1482535462134311,\"y0\":6.47689818942944,\"y1\":6.676335448787299},{\"line\":{\"color\":\"white\",\"width\":3},\"type\":\"line\",\"x0\":0.8061558796660654,\"x1\":0.7240085867569429,\"y0\":7.273523266458206,\"y1\":7.455874088413312},{\"line\":{\"color\":\"rgba(255,255,255,0)\",\"width\":3},\"type\":\"line\",\"x0\":0.0,\"x1\":null,\"y0\":0.0,\"y1\":null},{\"line\":{\"color\":\"rgba(255,255,255,0)\",\"width\":3},\"type\":\"line\",\"x0\":0.0,\"x1\":null,\"y0\":0.0,\"y1\":null},{\"line\":{\"color\":\"rgba(255,255,255,0)\",\"width\":3},\"type\":\"line\",\"x0\":0.0,\"x1\":null,\"y0\":0.0,\"y1\":null},{\"line\":{\"color\":\"rgba(255,255,255,0)\",\"width\":3},\"type\":\"line\",\"x0\":0.0,\"x1\":null,\"y0\":0.0,\"y1\":null},{\"line\":{\"color\":\"rgba(255,255,255,0)\",\"width\":3},\"type\":\"line\",\"x0\":0.0,\"x1\":null,\"y0\":0.0,\"y1\":null},{\"line\":{\"color\":\"rgba(255,255,255,0)\",\"width\":3},\"type\":\"line\",\"x0\":0.0,\"x1\":null,\"y0\":0.0,\"y1\":null},{\"line\":{\"color\":\"rgba(255,255,255,0)\",\"width\":3},\"type\":\"line\",\"x0\":0.0,\"x1\":null,\"y0\":0.0,\"y1\":null},{\"line\":{\"color\":\"rgba(255,255,255,0)\",\"width\":3},\"type\":\"line\",\"x0\":0.0,\"x1\":null,\"y0\":0.0,\"y1\":null}],\"title\":{\"text\":\"\\u003cb\\u003eNumber of Agents: 2\\u003c\\u002fb\\u003e\",\"x\":0.5}},\"name\":\"185\"},{\"data\":[{\"hoverinfo\":\"name\",\"line\":{\"color\":\"grey\"},\"mode\":\"lines\",\"name\":\"Exterior\",\"showlegend\":false,\"x\":[-10.0,-10.0,10.0,10.0,-10.0],\"y\":[10.0,-10.0,-10.0,10.0,10.0],\"type\":\"scatter\"},{\"hoverinfo\":\"text\",\"marker\":{\"opacity\":1,\"size\":1},\"mode\":\"markers\",\"showlegend\":false,\"text\":[\"ID: 4.0, Pos(0.14,6.73)\"],\"x\":[0.14292791308705324],\"y\":[6.7347405794185375],\"type\":\"scatter\"},{\"hoverinfo\":\"text\",\"marker\":{\"opacity\":1,\"size\":1},\"mode\":\"markers\",\"showlegend\":false,\"text\":[\"ID: 9.0, Pos(0.70,7.51)\"],\"x\":[0.6999893795915768],\"y\":[7.512094308726631],\"type\":\"scatter\"},{\"hoverinfo\":\"none\",\"marker\":{\"opacity\":0,\"size\":1},\"mode\":\"markers\",\"showlegend\":false,\"x\":[0.0],\"y\":[0.0],\"type\":\"scatter\"},{\"hoverinfo\":\"none\",\"marker\":{\"opacity\":0,\"size\":1},\"mode\":\"markers\",\"showlegend\":false,\"x\":[0.0],\"y\":[0.0],\"type\":\"scatter\"},{\"hoverinfo\":\"none\",\"marker\":{\"opacity\":0,\"size\":1},\"mode\":\"markers\",\"showlegend\":false,\"x\":[0.0],\"y\":[0.0],\"type\":\"scatter\"},{\"hoverinfo\":\"none\",\"marker\":{\"opacity\":0,\"size\":1},\"mode\":\"markers\",\"showlegend\":false,\"x\":[0.0],\"y\":[0.0],\"type\":\"scatter\"},{\"hoverinfo\":\"none\",\"marker\":{\"opacity\":0,\"size\":1},\"mode\":\"markers\",\"showlegend\":false,\"x\":[0.0],\"y\":[0.0],\"type\":\"scatter\"},{\"hoverinfo\":\"none\",\"marker\":{\"opacity\":0,\"size\":1},\"mode\":\"markers\",\"showlegend\":false,\"x\":[0.0],\"y\":[0.0],\"type\":\"scatter\"},{\"hoverinfo\":\"none\",\"marker\":{\"opacity\":0,\"size\":1},\"mode\":\"markers\",\"showlegend\":false,\"x\":[0.0],\"y\":[0.0],\"type\":\"scatter\"},{\"hoverinfo\":\"none\",\"marker\":{\"opacity\":0,\"size\":1},\"mode\":\"markers\",\"showlegend\":false,\"x\":[0.0],\"y\":[0.0],\"type\":\"scatter\"}],\"layout\":{\"shapes\":[{\"fillcolor\":\"rgba(0, 0, 237, 0.5)\",\"line\":{\"color\":\"rgba(0, 0, 237, 0.5)\"},\"type\":\"circle\",\"x0\":-0.05707208691294677,\"x1\":0.3429279130870533,\"xref\":\"x\",\"y0\":6.534740579418537,\"y1\":6.934740579418538,\"yref\":\"y\"},{\"fillcolor\":\"rgba(0, 0, 218, 0.5)\",\"line\":{\"color\":\"rgba(0, 0, 218, 0.5)\"},\"type\":\"circle\",\"x0\":0.4999893795915768,\"x1\":0.8999893795915768,\"xref\":\"x\",\"y0\":7.312094308726631,\"y1\":7.712094308726631,\"yref\":\"y\"},{\"fillcolor\":\"rgba(255,255,255,0)\",\"line\":{\"width\":0},\"type\":\"circle\",\"x0\":0.0,\"x1\":0.0,\"xref\":\"x\",\"y0\":0.0,\"y1\":0.0,\"yref\":\"y\"},{\"fillcolor\":\"rgba(255,255,255,0)\",\"line\":{\"width\":0},\"type\":\"circle\",\"x0\":0.0,\"x1\":0.0,\"xref\":\"x\",\"y0\":0.0,\"y1\":0.0,\"yref\":\"y\"},{\"fillcolor\":\"rgba(255,255,255,0)\",\"line\":{\"width\":0},\"type\":\"circle\",\"x0\":0.0,\"x1\":0.0,\"xref\":\"x\",\"y0\":0.0,\"y1\":0.0,\"yref\":\"y\"},{\"fillcolor\":\"rgba(255,255,255,0)\",\"line\":{\"width\":0},\"type\":\"circle\",\"x0\":0.0,\"x1\":0.0,\"xref\":\"x\",\"y0\":0.0,\"y1\":0.0,\"yref\":\"y\"},{\"fillcolor\":\"rgba(255,255,255,0)\",\"line\":{\"width\":0},\"type\":\"circle\",\"x0\":0.0,\"x1\":0.0,\"xref\":\"x\",\"y0\":0.0,\"y1\":0.0,\"yref\":\"y\"},{\"fillcolor\":\"rgba(255,255,255,0)\",\"line\":{\"width\":0},\"type\":\"circle\",\"x0\":0.0,\"x1\":0.0,\"xref\":\"x\",\"y0\":0.0,\"y1\":0.0,\"yref\":\"y\"},{\"fillcolor\":\"rgba(255,255,255,0)\",\"line\":{\"width\":0},\"type\":\"circle\",\"x0\":0.0,\"x1\":0.0,\"xref\":\"x\",\"y0\":0.0,\"y1\":0.0,\"yref\":\"y\"},{\"fillcolor\":\"rgba(255,255,255,0)\",\"line\":{\"width\":0},\"type\":\"circle\",\"x0\":0.0,\"x1\":0.0,\"xref\":\"x\",\"y0\":0.0,\"y1\":0.0,\"yref\":\"y\"},{\"line\":{\"color\":\"white\",\"width\":3},\"type\":\"line\",\"x0\":0.14292791308705324,\"x1\":0.12646044943997486,\"y0\":6.7347405794185375,\"y1\":6.934061483091565},{\"line\":{\"color\":\"white\",\"width\":3},\"type\":\"line\",\"x0\":0.6999893795915768,\"x1\":0.619549608595072,\"y0\":7.512094308726631,\"y1\":7.695204776046307},{\"line\":{\"color\":\"rgba(255,255,255,0)\",\"width\":3},\"type\":\"line\",\"x0\":0.0,\"x1\":null,\"y0\":0.0,\"y1\":null},{\"line\":{\"color\":\"rgba(255,255,255,0)\",\"width\":3},\"type\":\"line\",\"x0\":0.0,\"x1\":null,\"y0\":0.0,\"y1\":null},{\"line\":{\"color\":\"rgba(255,255,255,0)\",\"width\":3},\"type\":\"line\",\"x0\":0.0,\"x1\":null,\"y0\":0.0,\"y1\":null},{\"line\":{\"color\":\"rgba(255,255,255,0)\",\"width\":3},\"type\":\"line\",\"x0\":0.0,\"x1\":null,\"y0\":0.0,\"y1\":null},{\"line\":{\"color\":\"rgba(255,255,255,0)\",\"width\":3},\"type\":\"line\",\"x0\":0.0,\"x1\":null,\"y0\":0.0,\"y1\":null},{\"line\":{\"color\":\"rgba(255,255,255,0)\",\"width\":3},\"type\":\"line\",\"x0\":0.0,\"x1\":null,\"y0\":0.0,\"y1\":null},{\"line\":{\"color\":\"rgba(255,255,255,0)\",\"width\":3},\"type\":\"line\",\"x0\":0.0,\"x1\":null,\"y0\":0.0,\"y1\":null},{\"line\":{\"color\":\"rgba(255,255,255,0)\",\"width\":3},\"type\":\"line\",\"x0\":0.0,\"x1\":null,\"y0\":0.0,\"y1\":null}],\"title\":{\"text\":\"\\u003cb\\u003eNumber of Agents: 2\\u003c\\u002fb\\u003e\",\"x\":0.5}},\"name\":\"190\"},{\"data\":[{\"hoverinfo\":\"name\",\"line\":{\"color\":\"grey\"},\"mode\":\"lines\",\"name\":\"Exterior\",\"showlegend\":false,\"x\":[-10.0,-10.0,10.0,10.0,-10.0],\"y\":[10.0,-10.0,-10.0,10.0,10.0],\"type\":\"scatter\"},{\"hoverinfo\":\"text\",\"marker\":{\"opacity\":1,\"size\":1},\"mode\":\"markers\",\"showlegend\":false,\"text\":[\"ID: 4.0, Pos(0.12,6.99)\"],\"x\":[0.12024502719606688],\"y\":[6.992385051018914],\"type\":\"scatter\"},{\"hoverinfo\":\"text\",\"marker\":{\"opacity\":1,\"size\":1},\"mode\":\"markers\",\"showlegend\":false,\"text\":[\"ID: 9.0, Pos(0.60,7.75)\"],\"x\":[0.5965514289746112],\"y\":[7.751859971535664],\"type\":\"scatter\"},{\"hoverinfo\":\"none\",\"marker\":{\"opacity\":0,\"size\":1},\"mode\":\"markers\",\"showlegend\":false,\"x\":[0.0],\"y\":[0.0],\"type\":\"scatter\"},{\"hoverinfo\":\"none\",\"marker\":{\"opacity\":0,\"size\":1},\"mode\":\"markers\",\"showlegend\":false,\"x\":[0.0],\"y\":[0.0],\"type\":\"scatter\"},{\"hoverinfo\":\"none\",\"marker\":{\"opacity\":0,\"size\":1},\"mode\":\"markers\",\"showlegend\":false,\"x\":[0.0],\"y\":[0.0],\"type\":\"scatter\"},{\"hoverinfo\":\"none\",\"marker\":{\"opacity\":0,\"size\":1},\"mode\":\"markers\",\"showlegend\":false,\"x\":[0.0],\"y\":[0.0],\"type\":\"scatter\"},{\"hoverinfo\":\"none\",\"marker\":{\"opacity\":0,\"size\":1},\"mode\":\"markers\",\"showlegend\":false,\"x\":[0.0],\"y\":[0.0],\"type\":\"scatter\"},{\"hoverinfo\":\"none\",\"marker\":{\"opacity\":0,\"size\":1},\"mode\":\"markers\",\"showlegend\":false,\"x\":[0.0],\"y\":[0.0],\"type\":\"scatter\"},{\"hoverinfo\":\"none\",\"marker\":{\"opacity\":0,\"size\":1},\"mode\":\"markers\",\"showlegend\":false,\"x\":[0.0],\"y\":[0.0],\"type\":\"scatter\"},{\"hoverinfo\":\"none\",\"marker\":{\"opacity\":0,\"size\":1},\"mode\":\"markers\",\"showlegend\":false,\"x\":[0.0],\"y\":[0.0],\"type\":\"scatter\"}],\"layout\":{\"shapes\":[{\"fillcolor\":\"rgba(0, 0, 237, 0.5)\",\"line\":{\"color\":\"rgba(0, 0, 237, 0.5)\"},\"type\":\"circle\",\"x0\":-0.07975497280393314,\"x1\":0.3202450271960669,\"xref\":\"x\",\"y0\":6.792385051018914,\"y1\":7.192385051018914,\"yref\":\"y\"},{\"fillcolor\":\"rgba(0, 0, 218, 0.5)\",\"line\":{\"color\":\"rgba(0, 0, 218, 0.5)\"},\"type\":\"circle\",\"x0\":0.3965514289746112,\"x1\":0.7965514289746112,\"xref\":\"x\",\"y0\":7.551859971535664,\"y1\":7.951859971535664,\"yref\":\"y\"},{\"fillcolor\":\"rgba(255,255,255,0)\",\"line\":{\"width\":0},\"type\":\"circle\",\"x0\":0.0,\"x1\":0.0,\"xref\":\"x\",\"y0\":0.0,\"y1\":0.0,\"yref\":\"y\"},{\"fillcolor\":\"rgba(255,255,255,0)\",\"line\":{\"width\":0},\"type\":\"circle\",\"x0\":0.0,\"x1\":0.0,\"xref\":\"x\",\"y0\":0.0,\"y1\":0.0,\"yref\":\"y\"},{\"fillcolor\":\"rgba(255,255,255,0)\",\"line\":{\"width\":0},\"type\":\"circle\",\"x0\":0.0,\"x1\":0.0,\"xref\":\"x\",\"y0\":0.0,\"y1\":0.0,\"yref\":\"y\"},{\"fillcolor\":\"rgba(255,255,255,0)\",\"line\":{\"width\":0},\"type\":\"circle\",\"x0\":0.0,\"x1\":0.0,\"xref\":\"x\",\"y0\":0.0,\"y1\":0.0,\"yref\":\"y\"},{\"fillcolor\":\"rgba(255,255,255,0)\",\"line\":{\"width\":0},\"type\":\"circle\",\"x0\":0.0,\"x1\":0.0,\"xref\":\"x\",\"y0\":0.0,\"y1\":0.0,\"yref\":\"y\"},{\"fillcolor\":\"rgba(255,255,255,0)\",\"line\":{\"width\":0},\"type\":\"circle\",\"x0\":0.0,\"x1\":0.0,\"xref\":\"x\",\"y0\":0.0,\"y1\":0.0,\"yref\":\"y\"},{\"fillcolor\":\"rgba(255,255,255,0)\",\"line\":{\"width\":0},\"type\":\"circle\",\"x0\":0.0,\"x1\":0.0,\"xref\":\"x\",\"y0\":0.0,\"y1\":0.0,\"yref\":\"y\"},{\"fillcolor\":\"rgba(255,255,255,0)\",\"line\":{\"width\":0},\"type\":\"circle\",\"x0\":0.0,\"x1\":0.0,\"xref\":\"x\",\"y0\":0.0,\"y1\":0.0,\"yref\":\"y\"},{\"line\":{\"color\":\"white\",\"width\":3},\"type\":\"line\",\"x0\":0.12024502719606688,\"x1\":0.10163558613221263,\"y0\":6.992385051018914,\"y1\":7.19151739069103},{\"line\":{\"color\":\"white\",\"width\":3},\"type\":\"line\",\"x0\":0.5965514289746112,\"x1\":0.518518435325286,\"y0\":7.751859971535664,\"y1\":7.936008965293774},{\"line\":{\"color\":\"rgba(255,255,255,0)\",\"width\":3},\"type\":\"line\",\"x0\":0.0,\"x1\":null,\"y0\":0.0,\"y1\":null},{\"line\":{\"color\":\"rgba(255,255,255,0)\",\"width\":3},\"type\":\"line\",\"x0\":0.0,\"x1\":null,\"y0\":0.0,\"y1\":null},{\"line\":{\"color\":\"rgba(255,255,255,0)\",\"width\":3},\"type\":\"line\",\"x0\":0.0,\"x1\":null,\"y0\":0.0,\"y1\":null},{\"line\":{\"color\":\"rgba(255,255,255,0)\",\"width\":3},\"type\":\"line\",\"x0\":0.0,\"x1\":null,\"y0\":0.0,\"y1\":null},{\"line\":{\"color\":\"rgba(255,255,255,0)\",\"width\":3},\"type\":\"line\",\"x0\":0.0,\"x1\":null,\"y0\":0.0,\"y1\":null},{\"line\":{\"color\":\"rgba(255,255,255,0)\",\"width\":3},\"type\":\"line\",\"x0\":0.0,\"x1\":null,\"y0\":0.0,\"y1\":null},{\"line\":{\"color\":\"rgba(255,255,255,0)\",\"width\":3},\"type\":\"line\",\"x0\":0.0,\"x1\":null,\"y0\":0.0,\"y1\":null},{\"line\":{\"color\":\"rgba(255,255,255,0)\",\"width\":3},\"type\":\"line\",\"x0\":0.0,\"x1\":null,\"y0\":0.0,\"y1\":null}],\"title\":{\"text\":\"\\u003cb\\u003eNumber of Agents: 2\\u003c\\u002fb\\u003e\",\"x\":0.5}},\"name\":\"195\"},{\"data\":[{\"hoverinfo\":\"name\",\"line\":{\"color\":\"grey\"},\"mode\":\"lines\",\"name\":\"Exterior\",\"showlegend\":false,\"x\":[-10.0,-10.0,10.0,10.0,-10.0],\"y\":[10.0,-10.0,-10.0,10.0,10.0],\"type\":\"scatter\"},{\"hoverinfo\":\"text\",\"marker\":{\"opacity\":1,\"size\":1},\"mode\":\"markers\",\"showlegend\":false,\"text\":[\"ID: 4.0, Pos(0.09,7.25)\"],\"x\":[0.09444492517311427],\"y\":[7.249735484122841],\"type\":\"scatter\"},{\"hoverinfo\":\"text\",\"marker\":{\"opacity\":1,\"size\":1},\"mode\":\"markers\",\"showlegend\":false,\"text\":[\"ID: 9.0, Pos(0.50,7.99)\"],\"x\":[0.49649108171268774],\"y\":[7.993054390909514],\"type\":\"scatter\"},{\"hoverinfo\":\"none\",\"marker\":{\"opacity\":0,\"size\":1},\"mode\":\"markers\",\"showlegend\":false,\"x\":[0.0],\"y\":[0.0],\"type\":\"scatter\"},{\"hoverinfo\":\"none\",\"marker\":{\"opacity\":0,\"size\":1},\"mode\":\"markers\",\"showlegend\":false,\"x\":[0.0],\"y\":[0.0],\"type\":\"scatter\"},{\"hoverinfo\":\"none\",\"marker\":{\"opacity\":0,\"size\":1},\"mode\":\"markers\",\"showlegend\":false,\"x\":[0.0],\"y\":[0.0],\"type\":\"scatter\"},{\"hoverinfo\":\"none\",\"marker\":{\"opacity\":0,\"size\":1},\"mode\":\"markers\",\"showlegend\":false,\"x\":[0.0],\"y\":[0.0],\"type\":\"scatter\"},{\"hoverinfo\":\"none\",\"marker\":{\"opacity\":0,\"size\":1},\"mode\":\"markers\",\"showlegend\":false,\"x\":[0.0],\"y\":[0.0],\"type\":\"scatter\"},{\"hoverinfo\":\"none\",\"marker\":{\"opacity\":0,\"size\":1},\"mode\":\"markers\",\"showlegend\":false,\"x\":[0.0],\"y\":[0.0],\"type\":\"scatter\"},{\"hoverinfo\":\"none\",\"marker\":{\"opacity\":0,\"size\":1},\"mode\":\"markers\",\"showlegend\":false,\"x\":[0.0],\"y\":[0.0],\"type\":\"scatter\"},{\"hoverinfo\":\"none\",\"marker\":{\"opacity\":0,\"size\":1},\"mode\":\"markers\",\"showlegend\":false,\"x\":[0.0],\"y\":[0.0],\"type\":\"scatter\"}],\"layout\":{\"shapes\":[{\"fillcolor\":\"rgba(0, 0, 237, 0.5)\",\"line\":{\"color\":\"rgba(0, 0, 237, 0.5)\"},\"type\":\"circle\",\"x0\":-0.10555507482688574,\"x1\":0.29444492517311427,\"xref\":\"x\",\"y0\":7.049735484122841,\"y1\":7.449735484122841,\"yref\":\"y\"},{\"fillcolor\":\"rgba(0, 0, 218, 0.5)\",\"line\":{\"color\":\"rgba(0, 0, 218, 0.5)\"},\"type\":\"circle\",\"x0\":0.29649108171268773,\"x1\":0.6964910817126877,\"xref\":\"x\",\"y0\":7.793054390909514,\"y1\":8.193054390909515,\"yref\":\"y\"},{\"fillcolor\":\"rgba(255,255,255,0)\",\"line\":{\"width\":0},\"type\":\"circle\",\"x0\":0.0,\"x1\":0.0,\"xref\":\"x\",\"y0\":0.0,\"y1\":0.0,\"yref\":\"y\"},{\"fillcolor\":\"rgba(255,255,255,0)\",\"line\":{\"width\":0},\"type\":\"circle\",\"x0\":0.0,\"x1\":0.0,\"xref\":\"x\",\"y0\":0.0,\"y1\":0.0,\"yref\":\"y\"},{\"fillcolor\":\"rgba(255,255,255,0)\",\"line\":{\"width\":0},\"type\":\"circle\",\"x0\":0.0,\"x1\":0.0,\"xref\":\"x\",\"y0\":0.0,\"y1\":0.0,\"yref\":\"y\"},{\"fillcolor\":\"rgba(255,255,255,0)\",\"line\":{\"width\":0},\"type\":\"circle\",\"x0\":0.0,\"x1\":0.0,\"xref\":\"x\",\"y0\":0.0,\"y1\":0.0,\"yref\":\"y\"},{\"fillcolor\":\"rgba(255,255,255,0)\",\"line\":{\"width\":0},\"type\":\"circle\",\"x0\":0.0,\"x1\":0.0,\"xref\":\"x\",\"y0\":0.0,\"y1\":0.0,\"yref\":\"y\"},{\"fillcolor\":\"rgba(255,255,255,0)\",\"line\":{\"width\":0},\"type\":\"circle\",\"x0\":0.0,\"x1\":0.0,\"xref\":\"x\",\"y0\":0.0,\"y1\":0.0,\"yref\":\"y\"},{\"fillcolor\":\"rgba(255,255,255,0)\",\"line\":{\"width\":0},\"type\":\"circle\",\"x0\":0.0,\"x1\":0.0,\"xref\":\"x\",\"y0\":0.0,\"y1\":0.0,\"yref\":\"y\"},{\"fillcolor\":\"rgba(255,255,255,0)\",\"line\":{\"width\":0},\"type\":\"circle\",\"x0\":0.0,\"x1\":0.0,\"xref\":\"x\",\"y0\":0.0,\"y1\":0.0,\"yref\":\"y\"},{\"line\":{\"color\":\"white\",\"width\":3},\"type\":\"line\",\"x0\":0.09444492517311427,\"x1\":0.07324775607752852,\"y0\":7.249735484122841,\"y1\":7.448609011829102},{\"line\":{\"color\":\"white\",\"width\":3},\"type\":\"line\",\"x0\":0.49649108171268774,\"x1\":0.4210806944579883,\"y0\":7.993054390909514,\"y1\":8.178292814283544},{\"line\":{\"color\":\"rgba(255,255,255,0)\",\"width\":3},\"type\":\"line\",\"x0\":0.0,\"x1\":null,\"y0\":0.0,\"y1\":null},{\"line\":{\"color\":\"rgba(255,255,255,0)\",\"width\":3},\"type\":\"line\",\"x0\":0.0,\"x1\":null,\"y0\":0.0,\"y1\":null},{\"line\":{\"color\":\"rgba(255,255,255,0)\",\"width\":3},\"type\":\"line\",\"x0\":0.0,\"x1\":null,\"y0\":0.0,\"y1\":null},{\"line\":{\"color\":\"rgba(255,255,255,0)\",\"width\":3},\"type\":\"line\",\"x0\":0.0,\"x1\":null,\"y0\":0.0,\"y1\":null},{\"line\":{\"color\":\"rgba(255,255,255,0)\",\"width\":3},\"type\":\"line\",\"x0\":0.0,\"x1\":null,\"y0\":0.0,\"y1\":null},{\"line\":{\"color\":\"rgba(255,255,255,0)\",\"width\":3},\"type\":\"line\",\"x0\":0.0,\"x1\":null,\"y0\":0.0,\"y1\":null},{\"line\":{\"color\":\"rgba(255,255,255,0)\",\"width\":3},\"type\":\"line\",\"x0\":0.0,\"x1\":null,\"y0\":0.0,\"y1\":null},{\"line\":{\"color\":\"rgba(255,255,255,0)\",\"width\":3},\"type\":\"line\",\"x0\":0.0,\"x1\":null,\"y0\":0.0,\"y1\":null}],\"title\":{\"text\":\"\\u003cb\\u003eNumber of Agents: 2\\u003c\\u002fb\\u003e\",\"x\":0.5}},\"name\":\"200\"},{\"data\":[{\"hoverinfo\":\"name\",\"line\":{\"color\":\"grey\"},\"mode\":\"lines\",\"name\":\"Exterior\",\"showlegend\":false,\"x\":[-10.0,-10.0,10.0,10.0,-10.0],\"y\":[10.0,-10.0,-10.0,10.0,10.0],\"type\":\"scatter\"},{\"hoverinfo\":\"text\",\"marker\":{\"opacity\":1,\"size\":1},\"mode\":\"markers\",\"showlegend\":false,\"text\":[\"ID: 4.0, Pos(0.08,7.51)\"],\"x\":[0.07932095534518445],\"y\":[7.507901150193799],\"type\":\"scatter\"},{\"hoverinfo\":\"none\",\"marker\":{\"opacity\":0,\"size\":1},\"mode\":\"markers\",\"showlegend\":false,\"x\":[0.0],\"y\":[0.0],\"type\":\"scatter\"},{\"hoverinfo\":\"none\",\"marker\":{\"opacity\":0,\"size\":1},\"mode\":\"markers\",\"showlegend\":false,\"x\":[0.0],\"y\":[0.0],\"type\":\"scatter\"},{\"hoverinfo\":\"none\",\"marker\":{\"opacity\":0,\"size\":1},\"mode\":\"markers\",\"showlegend\":false,\"x\":[0.0],\"y\":[0.0],\"type\":\"scatter\"},{\"hoverinfo\":\"none\",\"marker\":{\"opacity\":0,\"size\":1},\"mode\":\"markers\",\"showlegend\":false,\"x\":[0.0],\"y\":[0.0],\"type\":\"scatter\"},{\"hoverinfo\":\"none\",\"marker\":{\"opacity\":0,\"size\":1},\"mode\":\"markers\",\"showlegend\":false,\"x\":[0.0],\"y\":[0.0],\"type\":\"scatter\"},{\"hoverinfo\":\"none\",\"marker\":{\"opacity\":0,\"size\":1},\"mode\":\"markers\",\"showlegend\":false,\"x\":[0.0],\"y\":[0.0],\"type\":\"scatter\"},{\"hoverinfo\":\"none\",\"marker\":{\"opacity\":0,\"size\":1},\"mode\":\"markers\",\"showlegend\":false,\"x\":[0.0],\"y\":[0.0],\"type\":\"scatter\"},{\"hoverinfo\":\"none\",\"marker\":{\"opacity\":0,\"size\":1},\"mode\":\"markers\",\"showlegend\":false,\"x\":[0.0],\"y\":[0.0],\"type\":\"scatter\"},{\"hoverinfo\":\"none\",\"marker\":{\"opacity\":0,\"size\":1},\"mode\":\"markers\",\"showlegend\":false,\"x\":[0.0],\"y\":[0.0],\"type\":\"scatter\"}],\"layout\":{\"shapes\":[{\"fillcolor\":\"rgba(0, 0, 237, 0.5)\",\"line\":{\"color\":\"rgba(0, 0, 237, 0.5)\"},\"type\":\"circle\",\"x0\":-0.12067904465481556,\"x1\":0.2793209553451845,\"xref\":\"x\",\"y0\":7.307901150193799,\"y1\":7.707901150193799,\"yref\":\"y\"},{\"fillcolor\":\"rgba(255,255,255,0)\",\"line\":{\"width\":0},\"type\":\"circle\",\"x0\":0.0,\"x1\":0.0,\"xref\":\"x\",\"y0\":0.0,\"y1\":0.0,\"yref\":\"y\"},{\"fillcolor\":\"rgba(255,255,255,0)\",\"line\":{\"width\":0},\"type\":\"circle\",\"x0\":0.0,\"x1\":0.0,\"xref\":\"x\",\"y0\":0.0,\"y1\":0.0,\"yref\":\"y\"},{\"fillcolor\":\"rgba(255,255,255,0)\",\"line\":{\"width\":0},\"type\":\"circle\",\"x0\":0.0,\"x1\":0.0,\"xref\":\"x\",\"y0\":0.0,\"y1\":0.0,\"yref\":\"y\"},{\"fillcolor\":\"rgba(255,255,255,0)\",\"line\":{\"width\":0},\"type\":\"circle\",\"x0\":0.0,\"x1\":0.0,\"xref\":\"x\",\"y0\":0.0,\"y1\":0.0,\"yref\":\"y\"},{\"fillcolor\":\"rgba(255,255,255,0)\",\"line\":{\"width\":0},\"type\":\"circle\",\"x0\":0.0,\"x1\":0.0,\"xref\":\"x\",\"y0\":0.0,\"y1\":0.0,\"yref\":\"y\"},{\"fillcolor\":\"rgba(255,255,255,0)\",\"line\":{\"width\":0},\"type\":\"circle\",\"x0\":0.0,\"x1\":0.0,\"xref\":\"x\",\"y0\":0.0,\"y1\":0.0,\"yref\":\"y\"},{\"fillcolor\":\"rgba(255,255,255,0)\",\"line\":{\"width\":0},\"type\":\"circle\",\"x0\":0.0,\"x1\":0.0,\"xref\":\"x\",\"y0\":0.0,\"y1\":0.0,\"yref\":\"y\"},{\"fillcolor\":\"rgba(255,255,255,0)\",\"line\":{\"width\":0},\"type\":\"circle\",\"x0\":0.0,\"x1\":0.0,\"xref\":\"x\",\"y0\":0.0,\"y1\":0.0,\"yref\":\"y\"},{\"fillcolor\":\"rgba(255,255,255,0)\",\"line\":{\"width\":0},\"type\":\"circle\",\"x0\":0.0,\"x1\":0.0,\"xref\":\"x\",\"y0\":0.0,\"y1\":0.0,\"yref\":\"y\"},{\"line\":{\"color\":\"white\",\"width\":3},\"type\":\"line\",\"x0\":0.07932095534518445,\"x1\":0.06870381564942614,\"y0\":7.507901150193799,\"y1\":7.707619142234278},{\"line\":{\"color\":\"rgba(255,255,255,0)\",\"width\":3},\"type\":\"line\",\"x0\":0.0,\"x1\":null,\"y0\":0.0,\"y1\":null},{\"line\":{\"color\":\"rgba(255,255,255,0)\",\"width\":3},\"type\":\"line\",\"x0\":0.0,\"x1\":null,\"y0\":0.0,\"y1\":null},{\"line\":{\"color\":\"rgba(255,255,255,0)\",\"width\":3},\"type\":\"line\",\"x0\":0.0,\"x1\":null,\"y0\":0.0,\"y1\":null},{\"line\":{\"color\":\"rgba(255,255,255,0)\",\"width\":3},\"type\":\"line\",\"x0\":0.0,\"x1\":null,\"y0\":0.0,\"y1\":null},{\"line\":{\"color\":\"rgba(255,255,255,0)\",\"width\":3},\"type\":\"line\",\"x0\":0.0,\"x1\":null,\"y0\":0.0,\"y1\":null},{\"line\":{\"color\":\"rgba(255,255,255,0)\",\"width\":3},\"type\":\"line\",\"x0\":0.0,\"x1\":null,\"y0\":0.0,\"y1\":null},{\"line\":{\"color\":\"rgba(255,255,255,0)\",\"width\":3},\"type\":\"line\",\"x0\":0.0,\"x1\":null,\"y0\":0.0,\"y1\":null},{\"line\":{\"color\":\"rgba(255,255,255,0)\",\"width\":3},\"type\":\"line\",\"x0\":0.0,\"x1\":null,\"y0\":0.0,\"y1\":null},{\"line\":{\"color\":\"rgba(255,255,255,0)\",\"width\":3},\"type\":\"line\",\"x0\":0.0,\"x1\":null,\"y0\":0.0,\"y1\":null}],\"title\":{\"text\":\"\\u003cb\\u003eNumber of Agents: 1\\u003c\\u002fb\\u003e\",\"x\":0.5}},\"name\":\"205\"},{\"data\":[{\"hoverinfo\":\"name\",\"line\":{\"color\":\"grey\"},\"mode\":\"lines\",\"name\":\"Exterior\",\"showlegend\":false,\"x\":[-10.0,-10.0,10.0,10.0,-10.0],\"y\":[10.0,-10.0,-10.0,10.0,10.0],\"type\":\"scatter\"},{\"hoverinfo\":\"text\",\"marker\":{\"opacity\":1,\"size\":1},\"mode\":\"markers\",\"showlegend\":false,\"text\":[\"ID: 4.0, Pos(0.07,7.77)\"],\"x\":[0.06559074789319569],\"y\":[7.766178759906886],\"type\":\"scatter\"},{\"hoverinfo\":\"none\",\"marker\":{\"opacity\":0,\"size\":1},\"mode\":\"markers\",\"showlegend\":false,\"x\":[0.0],\"y\":[0.0],\"type\":\"scatter\"},{\"hoverinfo\":\"none\",\"marker\":{\"opacity\":0,\"size\":1},\"mode\":\"markers\",\"showlegend\":false,\"x\":[0.0],\"y\":[0.0],\"type\":\"scatter\"},{\"hoverinfo\":\"none\",\"marker\":{\"opacity\":0,\"size\":1},\"mode\":\"markers\",\"showlegend\":false,\"x\":[0.0],\"y\":[0.0],\"type\":\"scatter\"},{\"hoverinfo\":\"none\",\"marker\":{\"opacity\":0,\"size\":1},\"mode\":\"markers\",\"showlegend\":false,\"x\":[0.0],\"y\":[0.0],\"type\":\"scatter\"},{\"hoverinfo\":\"none\",\"marker\":{\"opacity\":0,\"size\":1},\"mode\":\"markers\",\"showlegend\":false,\"x\":[0.0],\"y\":[0.0],\"type\":\"scatter\"},{\"hoverinfo\":\"none\",\"marker\":{\"opacity\":0,\"size\":1},\"mode\":\"markers\",\"showlegend\":false,\"x\":[0.0],\"y\":[0.0],\"type\":\"scatter\"},{\"hoverinfo\":\"none\",\"marker\":{\"opacity\":0,\"size\":1},\"mode\":\"markers\",\"showlegend\":false,\"x\":[0.0],\"y\":[0.0],\"type\":\"scatter\"},{\"hoverinfo\":\"none\",\"marker\":{\"opacity\":0,\"size\":1},\"mode\":\"markers\",\"showlegend\":false,\"x\":[0.0],\"y\":[0.0],\"type\":\"scatter\"},{\"hoverinfo\":\"none\",\"marker\":{\"opacity\":0,\"size\":1},\"mode\":\"markers\",\"showlegend\":false,\"x\":[0.0],\"y\":[0.0],\"type\":\"scatter\"}],\"layout\":{\"shapes\":[{\"fillcolor\":\"rgba(0, 0, 237, 0.5)\",\"line\":{\"color\":\"rgba(0, 0, 237, 0.5)\"},\"type\":\"circle\",\"x0\":-0.13440925210680432,\"x1\":0.2655907478931957,\"xref\":\"x\",\"y0\":7.566178759906886,\"y1\":7.966178759906886,\"yref\":\"y\"},{\"fillcolor\":\"rgba(255,255,255,0)\",\"line\":{\"width\":0},\"type\":\"circle\",\"x0\":0.0,\"x1\":0.0,\"xref\":\"x\",\"y0\":0.0,\"y1\":0.0,\"yref\":\"y\"},{\"fillcolor\":\"rgba(255,255,255,0)\",\"line\":{\"width\":0},\"type\":\"circle\",\"x0\":0.0,\"x1\":0.0,\"xref\":\"x\",\"y0\":0.0,\"y1\":0.0,\"yref\":\"y\"},{\"fillcolor\":\"rgba(255,255,255,0)\",\"line\":{\"width\":0},\"type\":\"circle\",\"x0\":0.0,\"x1\":0.0,\"xref\":\"x\",\"y0\":0.0,\"y1\":0.0,\"yref\":\"y\"},{\"fillcolor\":\"rgba(255,255,255,0)\",\"line\":{\"width\":0},\"type\":\"circle\",\"x0\":0.0,\"x1\":0.0,\"xref\":\"x\",\"y0\":0.0,\"y1\":0.0,\"yref\":\"y\"},{\"fillcolor\":\"rgba(255,255,255,0)\",\"line\":{\"width\":0},\"type\":\"circle\",\"x0\":0.0,\"x1\":0.0,\"xref\":\"x\",\"y0\":0.0,\"y1\":0.0,\"yref\":\"y\"},{\"fillcolor\":\"rgba(255,255,255,0)\",\"line\":{\"width\":0},\"type\":\"circle\",\"x0\":0.0,\"x1\":0.0,\"xref\":\"x\",\"y0\":0.0,\"y1\":0.0,\"yref\":\"y\"},{\"fillcolor\":\"rgba(255,255,255,0)\",\"line\":{\"width\":0},\"type\":\"circle\",\"x0\":0.0,\"x1\":0.0,\"xref\":\"x\",\"y0\":0.0,\"y1\":0.0,\"yref\":\"y\"},{\"fillcolor\":\"rgba(255,255,255,0)\",\"line\":{\"width\":0},\"type\":\"circle\",\"x0\":0.0,\"x1\":0.0,\"xref\":\"x\",\"y0\":0.0,\"y1\":0.0,\"yref\":\"y\"},{\"fillcolor\":\"rgba(255,255,255,0)\",\"line\":{\"width\":0},\"type\":\"circle\",\"x0\":0.0,\"x1\":0.0,\"xref\":\"x\",\"y0\":0.0,\"y1\":0.0,\"yref\":\"y\"},{\"line\":{\"color\":\"white\",\"width\":3},\"type\":\"line\",\"x0\":0.06559074789319569,\"x1\":0.05497360819743741,\"y0\":7.766178759906886,\"y1\":7.965896751947365},{\"line\":{\"color\":\"rgba(255,255,255,0)\",\"width\":3},\"type\":\"line\",\"x0\":0.0,\"x1\":null,\"y0\":0.0,\"y1\":null},{\"line\":{\"color\":\"rgba(255,255,255,0)\",\"width\":3},\"type\":\"line\",\"x0\":0.0,\"x1\":null,\"y0\":0.0,\"y1\":null},{\"line\":{\"color\":\"rgba(255,255,255,0)\",\"width\":3},\"type\":\"line\",\"x0\":0.0,\"x1\":null,\"y0\":0.0,\"y1\":null},{\"line\":{\"color\":\"rgba(255,255,255,0)\",\"width\":3},\"type\":\"line\",\"x0\":0.0,\"x1\":null,\"y0\":0.0,\"y1\":null},{\"line\":{\"color\":\"rgba(255,255,255,0)\",\"width\":3},\"type\":\"line\",\"x0\":0.0,\"x1\":null,\"y0\":0.0,\"y1\":null},{\"line\":{\"color\":\"rgba(255,255,255,0)\",\"width\":3},\"type\":\"line\",\"x0\":0.0,\"x1\":null,\"y0\":0.0,\"y1\":null},{\"line\":{\"color\":\"rgba(255,255,255,0)\",\"width\":3},\"type\":\"line\",\"x0\":0.0,\"x1\":null,\"y0\":0.0,\"y1\":null},{\"line\":{\"color\":\"rgba(255,255,255,0)\",\"width\":3},\"type\":\"line\",\"x0\":0.0,\"x1\":null,\"y0\":0.0,\"y1\":null},{\"line\":{\"color\":\"rgba(255,255,255,0)\",\"width\":3},\"type\":\"line\",\"x0\":0.0,\"x1\":null,\"y0\":0.0,\"y1\":null}],\"title\":{\"text\":\"\\u003cb\\u003eNumber of Agents: 1\\u003c\\u002fb\\u003e\",\"x\":0.5}},\"name\":\"210\"},{\"data\":[{\"hoverinfo\":\"name\",\"line\":{\"color\":\"grey\"},\"mode\":\"lines\",\"name\":\"Exterior\",\"showlegend\":false,\"x\":[-10.0,-10.0,10.0,10.0,-10.0],\"y\":[10.0,-10.0,-10.0,10.0,10.0],\"type\":\"scatter\"},{\"hoverinfo\":\"text\",\"marker\":{\"opacity\":1,\"size\":1},\"mode\":\"markers\",\"showlegend\":false,\"text\":[\"ID: 4.0, Pos(0.05,8.02)\"],\"x\":[0.05186054044120708],\"y\":[8.024456369619974],\"type\":\"scatter\"},{\"hoverinfo\":\"none\",\"marker\":{\"opacity\":0,\"size\":1},\"mode\":\"markers\",\"showlegend\":false,\"x\":[0.0],\"y\":[0.0],\"type\":\"scatter\"},{\"hoverinfo\":\"none\",\"marker\":{\"opacity\":0,\"size\":1},\"mode\":\"markers\",\"showlegend\":false,\"x\":[0.0],\"y\":[0.0],\"type\":\"scatter\"},{\"hoverinfo\":\"none\",\"marker\":{\"opacity\":0,\"size\":1},\"mode\":\"markers\",\"showlegend\":false,\"x\":[0.0],\"y\":[0.0],\"type\":\"scatter\"},{\"hoverinfo\":\"none\",\"marker\":{\"opacity\":0,\"size\":1},\"mode\":\"markers\",\"showlegend\":false,\"x\":[0.0],\"y\":[0.0],\"type\":\"scatter\"},{\"hoverinfo\":\"none\",\"marker\":{\"opacity\":0,\"size\":1},\"mode\":\"markers\",\"showlegend\":false,\"x\":[0.0],\"y\":[0.0],\"type\":\"scatter\"},{\"hoverinfo\":\"none\",\"marker\":{\"opacity\":0,\"size\":1},\"mode\":\"markers\",\"showlegend\":false,\"x\":[0.0],\"y\":[0.0],\"type\":\"scatter\"},{\"hoverinfo\":\"none\",\"marker\":{\"opacity\":0,\"size\":1},\"mode\":\"markers\",\"showlegend\":false,\"x\":[0.0],\"y\":[0.0],\"type\":\"scatter\"},{\"hoverinfo\":\"none\",\"marker\":{\"opacity\":0,\"size\":1},\"mode\":\"markers\",\"showlegend\":false,\"x\":[0.0],\"y\":[0.0],\"type\":\"scatter\"},{\"hoverinfo\":\"none\",\"marker\":{\"opacity\":0,\"size\":1},\"mode\":\"markers\",\"showlegend\":false,\"x\":[0.0],\"y\":[0.0],\"type\":\"scatter\"}],\"layout\":{\"shapes\":[{\"fillcolor\":\"rgba(0, 0, 237, 0.5)\",\"line\":{\"color\":\"rgba(0, 0, 237, 0.5)\"},\"type\":\"circle\",\"x0\":-0.14813945955879293,\"x1\":0.2518605404412071,\"xref\":\"x\",\"y0\":7.824456369619974,\"y1\":8.224456369619974,\"yref\":\"y\"},{\"fillcolor\":\"rgba(255,255,255,0)\",\"line\":{\"width\":0},\"type\":\"circle\",\"x0\":0.0,\"x1\":0.0,\"xref\":\"x\",\"y0\":0.0,\"y1\":0.0,\"yref\":\"y\"},{\"fillcolor\":\"rgba(255,255,255,0)\",\"line\":{\"width\":0},\"type\":\"circle\",\"x0\":0.0,\"x1\":0.0,\"xref\":\"x\",\"y0\":0.0,\"y1\":0.0,\"yref\":\"y\"},{\"fillcolor\":\"rgba(255,255,255,0)\",\"line\":{\"width\":0},\"type\":\"circle\",\"x0\":0.0,\"x1\":0.0,\"xref\":\"x\",\"y0\":0.0,\"y1\":0.0,\"yref\":\"y\"},{\"fillcolor\":\"rgba(255,255,255,0)\",\"line\":{\"width\":0},\"type\":\"circle\",\"x0\":0.0,\"x1\":0.0,\"xref\":\"x\",\"y0\":0.0,\"y1\":0.0,\"yref\":\"y\"},{\"fillcolor\":\"rgba(255,255,255,0)\",\"line\":{\"width\":0},\"type\":\"circle\",\"x0\":0.0,\"x1\":0.0,\"xref\":\"x\",\"y0\":0.0,\"y1\":0.0,\"yref\":\"y\"},{\"fillcolor\":\"rgba(255,255,255,0)\",\"line\":{\"width\":0},\"type\":\"circle\",\"x0\":0.0,\"x1\":0.0,\"xref\":\"x\",\"y0\":0.0,\"y1\":0.0,\"yref\":\"y\"},{\"fillcolor\":\"rgba(255,255,255,0)\",\"line\":{\"width\":0},\"type\":\"circle\",\"x0\":0.0,\"x1\":0.0,\"xref\":\"x\",\"y0\":0.0,\"y1\":0.0,\"yref\":\"y\"},{\"fillcolor\":\"rgba(255,255,255,0)\",\"line\":{\"width\":0},\"type\":\"circle\",\"x0\":0.0,\"x1\":0.0,\"xref\":\"x\",\"y0\":0.0,\"y1\":0.0,\"yref\":\"y\"},{\"fillcolor\":\"rgba(255,255,255,0)\",\"line\":{\"width\":0},\"type\":\"circle\",\"x0\":0.0,\"x1\":0.0,\"xref\":\"x\",\"y0\":0.0,\"y1\":0.0,\"yref\":\"y\"},{\"line\":{\"color\":\"white\",\"width\":3},\"type\":\"line\",\"x0\":0.05186054044120708,\"x1\":0.0412434007454488,\"y0\":8.024456369619974,\"y1\":8.224174361660452},{\"line\":{\"color\":\"rgba(255,255,255,0)\",\"width\":3},\"type\":\"line\",\"x0\":0.0,\"x1\":null,\"y0\":0.0,\"y1\":null},{\"line\":{\"color\":\"rgba(255,255,255,0)\",\"width\":3},\"type\":\"line\",\"x0\":0.0,\"x1\":null,\"y0\":0.0,\"y1\":null},{\"line\":{\"color\":\"rgba(255,255,255,0)\",\"width\":3},\"type\":\"line\",\"x0\":0.0,\"x1\":null,\"y0\":0.0,\"y1\":null},{\"line\":{\"color\":\"rgba(255,255,255,0)\",\"width\":3},\"type\":\"line\",\"x0\":0.0,\"x1\":null,\"y0\":0.0,\"y1\":null},{\"line\":{\"color\":\"rgba(255,255,255,0)\",\"width\":3},\"type\":\"line\",\"x0\":0.0,\"x1\":null,\"y0\":0.0,\"y1\":null},{\"line\":{\"color\":\"rgba(255,255,255,0)\",\"width\":3},\"type\":\"line\",\"x0\":0.0,\"x1\":null,\"y0\":0.0,\"y1\":null},{\"line\":{\"color\":\"rgba(255,255,255,0)\",\"width\":3},\"type\":\"line\",\"x0\":0.0,\"x1\":null,\"y0\":0.0,\"y1\":null},{\"line\":{\"color\":\"rgba(255,255,255,0)\",\"width\":3},\"type\":\"line\",\"x0\":0.0,\"x1\":null,\"y0\":0.0,\"y1\":null},{\"line\":{\"color\":\"rgba(255,255,255,0)\",\"width\":3},\"type\":\"line\",\"x0\":0.0,\"x1\":null,\"y0\":0.0,\"y1\":null}],\"title\":{\"text\":\"\\u003cb\\u003eNumber of Agents: 1\\u003c\\u002fb\\u003e\",\"x\":0.5}},\"name\":\"215\"}]);\n",
       "                        }).then(function(){\n",
       "                            \n",
       "var gd = document.getElementById('bae66baf-622f-4937-9555-61233d5b81ec');\n",
       "var x = new MutationObserver(function (mutations, observer) {{\n",
       "        var display = window.getComputedStyle(gd).display;\n",
       "        if (!display || display === 'none') {{\n",
       "            console.log([gd, 'removed!']);\n",
       "            Plotly.purge(gd);\n",
       "            observer.disconnect();\n",
       "        }}\n",
       "}});\n",
       "\n",
       "// Listen for the removal of the full notebook cells\n",
       "var notebookContainer = gd.closest('#notebook-container');\n",
       "if (notebookContainer) {{\n",
       "    x.observe(notebookContainer, {childList: true});\n",
       "}}\n",
       "\n",
       "// Listen for the clearing of the current output cell\n",
       "var outputEl = gd.closest('.output');\n",
       "if (outputEl) {{\n",
       "    x.observe(outputEl, {childList: true});\n",
       "}}\n",
       "\n",
       "                        })                };                });            </script>        </div>"
      ]
     },
     "metadata": {},
     "output_type": "display_data"
    }
   ],
   "source": [
    "from jupedsim.internal.notebook_utils import animate, read_sqlite_file\n",
    "\n",
    "trajectory_data, walkable_area = read_sqlite_file(trajectory_file)\n",
    "animate(trajectory_data, walkable_area, every_nth_frame=5)"
   ]
  }
 ],
 "metadata": {
  "kernelspec": {
   "display_name": "Python 3 (ipykernel)",
   "language": "python",
   "name": "python3"
  },
  "language_info": {
   "codemirror_mode": {
    "name": "ipython",
    "version": 3
   },
   "file_extension": ".py",
   "mimetype": "text/x-python",
   "name": "python",
   "nbconvert_exporter": "python",
   "pygments_lexer": "ipython3",
   "version": "3.11.5"
  }
 },
 "nbformat": 4,
 "nbformat_minor": 4
}
